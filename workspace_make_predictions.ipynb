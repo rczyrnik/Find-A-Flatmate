{
 "cells": [
  {
   "cell_type": "markdown",
   "metadata": {},
   "source": [
    "# IMPORTS"
   ]
  },
  {
   "cell_type": "code",
   "execution_count": null,
   "metadata": {
    "collapsed": true
   },
   "outputs": [],
   "source": [
    "import pandas as pd\n",
    "import numpy as np\n",
    "# import matplotlib.pyplot as plt\n",
    "# %matplotlib inline\n",
    "from sklearn.model_selection import train_test_split\n",
    "from sklearn.linear_model import LogisticRegression\n",
    "from sklearn.tree import DecisionTreeClassifier\n",
    "from sklearn.ensemble import RandomForestClassifier\n",
    "from sklearn.ensemble import GradientBoostingClassifier\n",
    "\n",
    "from sklearn.metrics import precision_score, recall_score\n",
    "# from sklearn.metrics import confusion_matrix\n",
    "from my_pickle import unpickle_it\n",
    "from my_resample import div_count_pos_neg, undersample, oversample\n",
    "import my_features as mf"
   ]
  },
  {
   "cell_type": "markdown",
   "metadata": {},
   "source": [
    "# UNPICKLE"
   ]
  },
  {
   "cell_type": "code",
   "execution_count": null,
   "metadata": {},
   "outputs": [],
   "source": [
    "user_df = unpickle_it('user_df')\n",
    "convo_df = unpickle_it('convo_df')\n",
    "\n",
    "print(\"Make sure we're not useing ECT data\")\n",
    "print(pd.to_datetime(convo_df.timestamp.max()*1000000))"
   ]
  },
  {
   "cell_type": "markdown",
   "metadata": {},
   "source": [
    "# GET X AND y"
   ]
  },
  {
   "cell_type": "code",
   "execution_count": null,
   "metadata": {},
   "outputs": [],
   "source": [
    "X = mf.feature_time(convo_df, user_df)\n",
    "print(X.columns)"
   ]
  },
  {
   "cell_type": "code",
   "execution_count": null,
   "metadata": {},
   "outputs": [],
   "source": [
    "y = X.response.map({True:1,False:0})\n",
    "X = X.drop(['conv_id', 'response', 'first_uid', 'second_uid', 'first_mid',\n",
    "       'second_mid', 'timestamp'], axis=1)\n",
    "print(len(X))\n",
    "print(len(y))#.sum()"
   ]
  },
  {
   "cell_type": "code",
   "execution_count": null,
   "metadata": {},
   "outputs": [],
   "source": [
    "X.head()"
   ]
  },
  {
   "cell_type": "markdown",
   "metadata": {},
   "source": [
    "# OVERSAMPLE"
   ]
  },
  {
   "cell_type": "code",
   "execution_count": null,
   "metadata": {},
   "outputs": [],
   "source": [
    "# X = X.as_matrix()\n",
    "# y = y.as_matrix()\n",
    "print(type(X))\n",
    "print(type(y))\n",
    "X_train, X_test, y_train, y_test = train_test_split(X, y, random_state=17)\n",
    "\n",
    "X_train, y_train = oversample(X_train, y_train, .5)\n",
    "\n",
    "# X_ove, y_ove = oversample(X.as_matrix(), y.as_matrix(), .5)\n",
    "\n",
    "# X_train, X_test, y_train, y_test = train_test_split(X_ove, y_ove, random_state=17)\n",
    "\n",
    "print(\"messages sent: {}\".format(len(y_train)))\n",
    "print(\"responses:     {}\\n\".format(y_train.sum()))\n",
    "\n",
    "model = RandomForestClassifier()\n",
    "model.fit(X_train, y_train)\n",
    "y_pred = model.predict(X_test)\n",
    "print(\"Prediction:   {}...\".format(model.predict(X_test)[:20]))\n",
    "print(\"Actual:       {}...\".format(y_test[:20]))\n",
    "print(\"Model recall: {}\".format(recall_score(y_test, y_pred)))\n",
    "print(\"Model precision: {}\".format(precision_score(y_test, y_pred)))\n",
    "print(\"Score of model: {}\".format(model.score(X_test, y_test)))\n",
    "print(\"Score to beat: {}\".format(1-y_test.sum()/len(y_test)))"
   ]
  },
  {
   "cell_type": "markdown",
   "metadata": {},
   "source": [
    "# BASELINE RANDOM FOREST"
   ]
  },
  {
   "cell_type": "code",
   "execution_count": null,
   "metadata": {},
   "outputs": [],
   "source": [
    "print(\"Messages with responses:    {}\".format((convo_df.response == True).sum()))\n",
    "print(\"Messages without responses: {}\".format((convo_df.response == False).sum()))\n",
    "print(\"Total messages:             {}\".format(len(convo_df)))"
   ]
  },
  {
   "cell_type": "code",
   "execution_count": null,
   "metadata": {},
   "outputs": [],
   "source": [
    "# X_unsamp, y_unsamp = X.as_matrix(), y.as_matrix()\n",
    "\n",
    "# X_train, X_test, y_train, y_test = train_test_split(X_unsamp, y_unsamp, random_state=17)\n",
    "\n",
    "X_train, X_test, y_train, y_test = train_test_split(X.as_matrix(), y.as_matrix(), random_state=17)\n",
    "\n",
    "X_train, y_train = oversample(X_train, y_train, .5)\n",
    "\n",
    "print(\"messages sent: {}\".format(len(y_train)))\n",
    "print(\"responses:     {}\\n\".format(y_train.sum()))\n",
    "\n",
    "model = RandomForestClassifier()\n",
    "model.fit(X_train, y_train)\n",
    "y_pred = model.predict(X_test)\n",
    "print(\"Prediction:   {}...\".format(model.predict(X_test)[:20]))\n",
    "print(\"Actual:       {}...\".format(y_test[:20]))\n",
    "print(\"Model recall: {}\".format(recall_score(y_test, y_pred)))\n",
    "print(\"Model precision: {}\".format(precision_score(y_test, y_pred)))\n",
    "print(\"Score of model: {}\".format(model.score(X_test, y_test)))\n",
    "print(\"Score to beat: {}\".format(1-y_test.sum()/len(y_test)))"
   ]
  },
  {
   "cell_type": "markdown",
   "metadata": {},
   "source": [
    "# UNDERSAMPLE"
   ]
  },
  {
   "cell_type": "code",
   "execution_count": null,
   "metadata": {},
   "outputs": [],
   "source": [
    "# X_und, y_und = undersample(X, y, .5)\n",
    "\n",
    "# X_train, X_test, y_train, y_test = train_test_split(X_und, y_und, random_state=17)\n",
    "\n",
    "X_train, X_test, y_train, y_test = train_test_split(X.as_matrix(), y.as_matrix(), random_state=17)\n",
    "\n",
    "X_train, y_train = oversample(X_train, y_train, .5)\n",
    "\n",
    "print(\"messages sent: {}\".format(len(y_train)))\n",
    "print(\"responses:     {}\\n\".format(y_train.sum()))\n",
    "\n",
    "model = RandomForestClassifier()\n",
    "model.fit(X_train, y_train)\n",
    "y_pred = model.predict(X_test)\n",
    "print(\"Prediction:   {}...\".format(model.predict(X_test)[:20]))\n",
    "print(\"Actual:       {}...\".format(y_test[:20]))\n",
    "print(\"Model recall: {}\".format(recall_score(y_test, y_pred)))\n",
    "print(\"Model precision: {}\".format(precision_score(y_test, y_pred)))\n",
    "print(\"Score of model: {}\".format(model.score(X_test, y_test)))\n",
    "print(\"Score to beat: {}\".format(1-y_test.sum()/len(y_test)))"
   ]
  },
  {
   "cell_type": "markdown",
   "metadata": {},
   "source": [
    "# OTHER MODELS KEPT HERE"
   ]
  },
  {
   "cell_type": "code",
   "execution_count": null,
   "metadata": {},
   "outputs": [],
   "source": [
    "model = LogisticRegression()\n",
    "model.fit(X_train, y_train)\n",
    "print(\"Prediction:   {}\".format(model.predict(X_test)))\n",
    "print(\"Actual:       {}\".format(y_test))\n",
    "print(\"Score of model: {}\".format(model.score(X_test, y_test)))\n",
    "print(\"Score to beat: {}\".format(1-y_test.sum()/len(y_test)))"
   ]
  },
  {
   "cell_type": "code",
   "execution_count": null,
   "metadata": {},
   "outputs": [],
   "source": [
    "model = DecisionTreeClassifier()\n",
    "model.fit(X_train, y_train)\n",
    "y_pred = model.predict(X_test)\n",
    "print(\"Prediction:   {}\".format(model.predict(X_test)))\n",
    "print(\"Actual:       {}\".format(y_test))\n",
    "print(\"Model recall: {}\".format(recall_score(y_test, y_pred)))\n",
    "print(\"Model precision: {}\".format(precision_score(y_test, y_pred)))\n",
    "print(\"Score of model: {}\".format(model.score(X_test, y_test)))\n",
    "print(\"Score to beat: {}\".format(1-y_test.sum()/len(y_test)))"
   ]
  },
  {
   "cell_type": "code",
   "execution_count": null,
   "metadata": {},
   "outputs": [],
   "source": [
    "model = GradientBoostingClassifier()\n",
    "\n",
    "model.fit(X_train, y_train)\n",
    "print(\"Prediction:   {}\".format(model.predict(X_test)))\n",
    "print(\"Actual:       {}\".format(y_test))\n",
    "print(\"Model recall: {}\".format(recall_score(y_test, y_pred)))\n",
    "print(\"Model precision: {}\".format(precision_score(y_test, y_pred)))\n",
    "print(\"Score of model: {}\".format(model.score(X_test, y_test)))\n",
    "print(\"Score to beat: {}\".format(1-y_test.sum()/len(y_test)))"
   ]
  },
  {
   "cell_type": "code",
   "execution_count": null,
   "metadata": {
    "collapsed": true
   },
   "outputs": [],
   "source": []
  }
 ],
 "metadata": {
  "kernelspec": {
   "display_name": "Python 3",
   "language": "python",
   "name": "python3"
  },
  "language_info": {
   "codemirror_mode": {
    "name": "ipython",
    "version": 3
   },
   "file_extension": ".py",
   "mimetype": "text/x-python",
   "name": "python",
   "nbconvert_exporter": "python",
   "pygments_lexer": "ipython3",
   "version": "3.6.3"
  }
 },
 "nbformat": 4,
 "nbformat_minor": 2
}
