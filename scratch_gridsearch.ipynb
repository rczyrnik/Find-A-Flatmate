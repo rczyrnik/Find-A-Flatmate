{
 "cells": [
  {
   "cell_type": "code",
   "execution_count": null,
   "metadata": {
    "collapsed": true
   },
   "outputs": [],
   "source": [
    "import pandas as pd\n",
    "import numpy as np\n",
    "# import matplotlib.pyplot as plt\n",
    "# %matplotlib inline\n",
    "from sklearn.model_selection import train_test_split\n",
    "from sklearn.ensemble import RandomForestClassifier\n",
    "from sklearn.metrics import precision_score, recall_score\n",
    "# from sklearn.metrics import confusion_matrix\n",
    "from my_pickle import unpickle_it\n",
    "from my_resample import div_count_pos_neg, undersample, oversample"
   ]
  },
  {
   "cell_type": "code",
   "execution_count": null,
   "metadata": {
    "collapsed": true
   },
   "outputs": [],
   "source": [
    "def do_grid_search(X, y):\n",
    "#     # Get the data from our function above\n",
    "#     X, y = format_data()\n",
    "\n",
    "#     # Split it up into our training and testing sets\n",
    "    X_train, X_test, y_train, y_test = train_test_split(X,y)\n",
    "\n",
    "    # Initalize our model here\n",
    "    est = GradientBoostingClassifier()\n",
    "\n",
    "    # Here are the params we are tuning, ie, \n",
    "    # if you look in the docs, all of these are 'nobs' within the GradientBoostingClassifier algo. \n",
    "    param_grid = {'learning_rate': [0.1, 0.05, 0.02],\n",
    "                  'max_depth': [2, 3],\n",
    "                  'min_samples_leaf': [3, 5],\n",
    "                  }\n",
    "\n",
    "    # Plug in our model, params dict, and the number of jobs, then .fit()\n",
    "    gs_cv = GridSearchCV(est, param_grid, n_jobs=2).fit(X_train, y_train)\n",
    "\n",
    "    # return the best score and the best params\n",
    "    return gs_cv.best_score_, gs_cv.best_params_\n",
    "\n",
    "\n",
    "\n",
    "def do_regular_decision_tree(X, y, best_max_depth):\n",
    "    # Split it up into our training and testing sets\n",
    "    X_train, X_test, y_train, y_test = train_test_split(X,y)\n",
    "\n",
    "    # Initalize our decision tree algo, set the max_depth to our maximum_max_depth\n",
    "    clf = DecisionTreeClassifier(max_depth=best_max_depth)\n",
    "    \n",
    "    # Fit our tree\n",
    "    clf.fit(X_train, y_train)\n",
    "\n",
    "    # Make predictions\n",
    "    y_pred = clf.predict(X_test)\n",
    "\n",
    "    # Find the precision, recall, and score\n",
    "    precision = precision_score(y_test, y_pred)\n",
    "    recall = recall_score(y_test, y_pred)\n",
    "    score = clf.score(X_test, y_test)\n",
    "    return precision, recall, score\n",
    "\n",
    "\n",
    "\n",
    "best_score, best_grid_params =  do_grid_search(X,y)\n",
    "\n",
    "best_max_depth = best_grid_params['max_depth']\n",
    "\n",
    "print(do_regular_decision_tree(best_max_depth))"
   ]
  }
 ],
 "metadata": {
  "kernelspec": {
   "display_name": "Python 3",
   "language": "python",
   "name": "python3"
  },
  "language_info": {
   "codemirror_mode": {
    "name": "ipython",
    "version": 3
   },
   "file_extension": ".py",
   "mimetype": "text/x-python",
   "name": "python",
   "nbconvert_exporter": "python",
   "pygments_lexer": "ipython3",
   "version": "3.6.3"
  }
 },
 "nbformat": 4,
 "nbformat_minor": 2
}
