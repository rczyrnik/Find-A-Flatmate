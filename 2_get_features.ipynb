{
 "cells": [
  {
   "cell_type": "code",
   "execution_count": 21,
   "metadata": {
    "collapsed": true
   },
   "outputs": [],
   "source": [
    "import my_pickle as mp\n",
    "import my_features as mf\n",
    "\n",
    "# from importlib import reload"
   ]
  },
  {
   "cell_type": "code",
   "execution_count": 22,
   "metadata": {},
   "outputs": [
    {
     "data": {
      "text/plain": [
       "<module 'my_features' from '/Users/gandalf/Documents/Galvanize/MatchingService/my_features.py'>"
      ]
     },
     "execution_count": 22,
     "metadata": {},
     "output_type": "execute_result"
    }
   ],
   "source": [
    "# reload(mp)\n",
    "reload(mf)"
   ]
  },
  {
   "cell_type": "markdown",
   "metadata": {},
   "source": [
    "# LOAD DATA FRAMES"
   ]
  },
  {
   "cell_type": "code",
   "execution_count": 2,
   "metadata": {
    "collapsed": true
   },
   "outputs": [],
   "source": [
    "# Load User Data\n",
    "user_df = mp.unjson_it('data_user')\n",
    "user_df = mp.reinstate_date(user_df,['activeAt', 'available', 'birthday','created','updated'])"
   ]
  },
  {
   "cell_type": "code",
   "execution_count": 3,
   "metadata": {
    "collapsed": true
   },
   "outputs": [],
   "source": [
    "# Load Conversation Data\n",
    "convo_df = mp.unjson_it('data_convo')"
   ]
  },
  {
   "cell_type": "code",
   "execution_count": 4,
   "metadata": {
    "collapsed": true
   },
   "outputs": [],
   "source": [
    "# Import Message DF\n",
    "message_df = mp.unjson_it('data_message')"
   ]
  },
  {
   "cell_type": "markdown",
   "metadata": {},
   "source": [
    "# MERGE USER DATA TO CONVERSATION DATA"
   ]
  },
  {
   "cell_type": "code",
   "execution_count": 8,
   "metadata": {
    "collapsed": true
   },
   "outputs": [],
   "source": [
    "# add a flag so we can identify rows with missing user data\n",
    "user_df['flag'] = True\n",
    "\n",
    "# get labels for new columns\n",
    "old_names = user_df.columns\n",
    "new_names = {old:old+'_sender' for old in old_names}\n",
    "\n",
    "# merge and rename\n",
    "master_df = convo_df.join(user_df, on='uid_sender') \\\n",
    "        .join(user_df, on='uid_receiver', rsuffix=\"_receiver\") \\\n",
    "        .rename(index=str, columns = new_names)"
   ]
  },
  {
   "cell_type": "markdown",
   "metadata": {},
   "source": [
    "# DROP CONVERSATIONS WITH MISSING USER DATA"
   ]
  },
  {
   "cell_type": "code",
   "execution_count": 9,
   "metadata": {},
   "outputs": [
    {
     "name": "stdout",
     "output_type": "stream",
     "text": [
      "277 conversations were removed because they were missing user data\n"
     ]
    }
   ],
   "source": [
    "initial_len = len(master_df)\n",
    "\n",
    "# add False values\n",
    "master_df.flag_receiver = master_df.flag_receiver.apply(lambda x: x if x==True else False)\n",
    "\n",
    "# keep only rows with the flag\n",
    "master_df = master_df[master_df.flag_receiver]\n",
    "\n",
    "# see how many conversations we lost\n",
    "print(\"{} conversations were removed because they were missing user data\".format(initial_len-len(master_df)))"
   ]
  },
  {
   "cell_type": "markdown",
   "metadata": {},
   "source": [
    "# ADD FEATURES"
   ]
  },
  {
   "cell_type": "code",
   "execution_count": 23,
   "metadata": {},
   "outputs": [
    {
     "name": "stdout",
     "output_type": "stream",
     "text": [
      "columns with null values: 81\n"
     ]
    }
   ],
   "source": [
    "# get most of the features\n",
    "master_df = mf.get_features(master_df)"
   ]
  },
  {
   "cell_type": "code",
   "execution_count": 24,
   "metadata": {
    "collapsed": true
   },
   "outputs": [],
   "source": [
    "# add nlp stuff (should be better integrated)\n",
    "text_similarity_df = mp.unjson_it('data_text_similarity')\n",
    "master_df['count_similarity'] = text_similarity_df['count_similarity']\n",
    "master_df['tfidf_similarity'] = text_similarity_df['tfidf_similarity']"
   ]
  },
  {
   "cell_type": "markdown",
   "metadata": {},
   "source": [
    "# CONVERT TO X AND y"
   ]
  },
  {
   "cell_type": "code",
   "execution_count": 26,
   "metadata": {
    "collapsed": true
   },
   "outputs": [],
   "source": [
    "keep_X = ['I_count_receiver', 'I_count_sender',  \n",
    "        'age_dif', 'age_receiver', 'age_sender', 'distance', \n",
    "        'exclaim_count_receiver','exclaim_count_sender', 'gender_receiver', 'gender_sender',\n",
    "        'has_about_receiver', 'has_about_sender', 'has_facebookId_receiver','has_facebookId_sender',\n",
    "        'has_linkedinId_receiver','has_linkedinId_sender', 'has_picture_receiver','has_picture_sender', \n",
    "        'has_room_receiver', 'has_room_sender','inRelationship_receiver', 'inRelationship_sender',\n",
    "        'isClean_receiver', 'isClean_sender', 'isNight_receiver','isNight_sender', \n",
    "        'isStudent_receiver', 'isStudent_sender','len_about_receiver', 'len_about_sender',\n",
    "        'maxCost_receiver','maxCost_sender','minCost_receiver', 'minCost_sender',\n",
    "        'numRoommates_receiver','numRoommates_sender',\n",
    "          'overlap_amenities', 'overlap_hobbies','overlap_neighborhoods','overlap_rent','overlap_roommate',\n",
    "        'period_count_receiver', 'period_count_sender','petsOk_receiver','petsOk_sender',\n",
    "        'question_count_receiver', 'question_count_sender',\n",
    "        'same_city', 'same_clean',\n",
    "        'same_college', 'same_country', 'same_gender', 'same_metro',\n",
    "        'same_night', 'same_relate', 'same_smoking', 'same_state',\n",
    "        'same_student', 'same_term', 'same_type', 'same_work',\n",
    "        'sentence_count_receiver', 'sentence_count_sender',\n",
    "        'smokingOk_receiver', 'smokingOk_sender', 'term_receiver','term_sender', \n",
    "        'type_receiver', 'type_sender','urgency_receiver', 'urgency_sender']\n",
    "   \n",
    "keep_y = ['convo_length','response']\n",
    "          \n",
    "drop = ['I_ratio_receiver', 'I_ratio_sender','about_receiver', 'about_sender', \n",
    "        'activeAt_receiver', 'activeAt_sender',\n",
    "        'amenities_receiver', 'amenities_sender','available_receiver', 'available_sender', \n",
    "        'birthday_receiver', 'birthday_sender',\n",
    "        'college_receiver', 'college_sender','created_receiver', 'created_sender',\n",
    "        'exclaim_ratio_receiver','exclaim_ratio_sender',\n",
    "        'facebookId_receiver', 'facebookId_sender', 'flag_receiver', 'flag_sender',\n",
    "        'hobbies_receiver', 'hobbies_sender','hometownCity_receiver', 'hometownCity_sender',\n",
    "        'hometownCountry_receiver', 'hometownCountry_sender','hometownState_receiver', 'hometownState_sender',\n",
    "        'len_receiver','len_sender','linkedinId_receiver', 'linkedinId_sender',\n",
    "        'location_receiver', 'location_sender','metro_receiver', 'metro_sender', \n",
    "        'mid_receiver','mid_sender', 'neighborhoods_receiver','neighborhoods_sender',\n",
    "        'onboarded_receiver', 'onboarded_sender','period_ratio_receiver', 'period_ratio_sender', \n",
    "        'picture_receiver', 'picture_sender','question_ratio_receiver', 'question_ratio_sender',\n",
    "        'sentence_ratio_receiver', 'sentence_ratio_sender','timestamp',\n",
    "        'uid_receiver', 'uid_sender','updated_receiver', 'updated_sender',\n",
    "        'work_receiver', 'work_sender']"
   ]
  },
  {
   "cell_type": "code",
   "execution_count": 27,
   "metadata": {
    "collapsed": true
   },
   "outputs": [],
   "source": [
    "X_df = master_df[keep_X]\n",
    "X_df = X_df.fillna(X_df.mean(axis=0))\n",
    "y_df = master_df[keep_y]"
   ]
  },
  {
   "cell_type": "markdown",
   "metadata": {},
   "source": [
    "# PICKLE"
   ]
  },
  {
   "cell_type": "code",
   "execution_count": 28,
   "metadata": {
    "collapsed": true
   },
   "outputs": [],
   "source": [
    "mp.json_it(master_df,'data_master')\n",
    "mp.json_it(X_df,'data_X')\n",
    "mp.json_it(y_df,'data_y')"
   ]
  },
  {
   "cell_type": "code",
   "execution_count": null,
   "metadata": {
    "collapsed": true
   },
   "outputs": [],
   "source": []
  }
 ],
 "metadata": {
  "kernelspec": {
   "display_name": "Python 3",
   "language": "python",
   "name": "python3"
  },
  "language_info": {
   "codemirror_mode": {
    "name": "ipython",
    "version": 3
   },
   "file_extension": ".py",
   "mimetype": "text/x-python",
   "name": "python",
   "nbconvert_exporter": "python",
   "pygments_lexer": "ipython3",
   "version": "3.6.3"
  }
 },
 "nbformat": 4,
 "nbformat_minor": 2
}
