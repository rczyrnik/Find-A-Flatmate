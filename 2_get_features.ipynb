{
 "cells": [
  {
   "cell_type": "code",
   "execution_count": null,
   "metadata": {
    "collapsed": true
   },
   "outputs": [],
   "source": [
    "import pandas as pd\n",
    "import numpy as np\n",
    "from numpy.random import choice\n",
    "import my_pickle as mp\n",
    "import matplotlib.pyplot as plt\n",
    "\n",
    "from importlib import reload"
   ]
  },
  {
   "cell_type": "code",
   "execution_count": null,
   "metadata": {},
   "outputs": [],
   "source": [
    "reload(mp)"
   ]
  },
  {
   "cell_type": "markdown",
   "metadata": {},
   "source": [
    "# LOAD DATA FRAMES"
   ]
  },
  {
   "cell_type": "code",
   "execution_count": null,
   "metadata": {},
   "outputs": [],
   "source": [
    "# Load User Data\n",
    "user_df = mp.unjson_it('data_user')\n",
    "user_df = mp.reinstate_date(user_df,['activeAt', 'available', 'birthday','created','updated'])\n",
    "user_df.head(2)"
   ]
  },
  {
   "cell_type": "code",
   "execution_count": null,
   "metadata": {},
   "outputs": [],
   "source": [
    "# Load Conversation Data\n",
    "convo_df = mp.unjson_it('data_convo')\n",
    "print(\"Make sure we're not using ECT data\")\n",
    "print(convo_df.timestamp.max())\n",
    "convo_df = convo_df.set_index('conversation_id')\n",
    "convo_df.columns"
   ]
  },
  {
   "cell_type": "code",
   "execution_count": null,
   "metadata": {},
   "outputs": [],
   "source": [
    "# Import Message DF\n",
    "message_df = mp.unjson_it('data_message')\n",
    "print(\"Make sure we're not using ECT data\")\n",
    "print(convo_df.timestamp.max())\n",
    "message_df.head(2)"
   ]
  },
  {
   "cell_type": "markdown",
   "metadata": {},
   "source": [
    "# GET METRO DATA"
   ]
  },
  {
   "cell_type": "code",
   "execution_count": null,
   "metadata": {
    "collapsed": true
   },
   "outputs": [],
   "source": [
    "# Make Metro Dictionary\n",
    "filename = \"/Users/gandalf/Documents/data/raw_data_neighborhoods.json\"\n",
    "metro_df = pd.read_json(filename)\n",
    "metro_df = metro_df.drop(['_created_at','_updated_at','city','name'], axis=1)\n",
    "metro_df.set_index('_id')\n",
    "metro_df = metro_df.set_index('_id').to_dict('index')"
   ]
  },
  {
   "cell_type": "markdown",
   "metadata": {},
   "source": [
    "# ASSIGN METRO AREAS TO USERS"
   ]
  },
  {
   "cell_type": "code",
   "execution_count": null,
   "metadata": {},
   "outputs": [],
   "source": [
    "def get_city(lst):\n",
    "    if len(lst) > 0:\n",
    "        try: return hood_dict[lst[0]]['metro']\n",
    "        except: return None\n",
    "    else: return None\n",
    "    \n",
    "# cities_list = ['Chicago', 'Phoenix', 'San Francisco Bay Area', None, 'Los Angeles',\n",
    "#        'Fort Lauderdale', 'San Diego', 'Washington',\n",
    "#        'Minneapolis / St Paul', 'Detroit Metro', 'Dallas / Fort Worth',\n",
    "#        'Hawaii', 'South Florida', 'Atlanta', 'Boston', 'Tampa Bay Area',\n",
    "#        'New York City', 'Portland', 'Sacramento', 'Seattle-Tacoma',\n",
    "#        'Ft Myers / Sw Florida', 'Philadelphia', 'Orange County CA',\n",
    "#        'Oxnard-Thousand Oaks-Ventura', 'Not Listed']  \n",
    "# city_dict = {}\n",
    "# for value,key in enumerate(cities_list):\n",
    "#     city_dict[key] = value\n",
    "    \n",
    "user_df['metro'] = user_df.neighborhoods.apply(get_city)"
   ]
  },
  {
   "cell_type": "code",
   "execution_count": null,
   "metadata": {},
   "outputs": [],
   "source": [
    "user_df['metro']"
   ]
  },
  {
   "cell_type": "markdown",
   "metadata": {},
   "source": [
    "# GET USER DATA FOR SENDER AND RECEIVER"
   ]
  },
  {
   "cell_type": "code",
   "execution_count": null,
   "metadata": {},
   "outputs": [],
   "source": [
    "user_df['flag'] = True\n",
    "old_names = user_df.columns\n",
    "new_names = {old:old+'_sender' for old in old_names}\n",
    "master_df = convo_df.join(user_df, on='uid_sender').join(user_df, on='uid_receiver', rsuffix=\"_receiver\").rename(index=str, columns = new_names)\n",
    "master_df.head()"
   ]
  },
  {
   "cell_type": "markdown",
   "metadata": {},
   "source": [
    "# DROP USERS THAT AREN'T ON THE USER_DF"
   ]
  },
  {
   "cell_type": "code",
   "execution_count": null,
   "metadata": {},
   "outputs": [],
   "source": [
    "# Investigate\n",
    "master_df.flag_receiver = master_df.flag_receiver.apply(lambda x: x if x==True else False)\n",
    "print(len(master_df))\n",
    "print(master_df.flag_receiver.sum())\n",
    "len(master_df[master_df.flag_receiver == False])"
   ]
  },
  {
   "cell_type": "code",
   "execution_count": null,
   "metadata": {},
   "outputs": [],
   "source": [
    "master_df = master_df[master_df.flag_receiver]\n",
    "len(master_df)"
   ]
  },
  {
   "cell_type": "markdown",
   "metadata": {},
   "source": [
    "# ADD FEATURES"
   ]
  },
  {
   "cell_type": "code",
   "execution_count": null,
   "metadata": {
    "scrolled": true
   },
   "outputs": [],
   "source": [
    "def roommate_rules(roommates):\n",
    "    if roommates > 4: return 3\n",
    "    elif roommates > 1: return 2\n",
    "    elif roommates > 0: return 1\n",
    "    else: return 0\n",
    "\n",
    "def get_rent_range(row):\n",
    "    max1 = row.maxCost_sender\n",
    "    max2 = row.maxCost_receiver\n",
    "    min1 = row.minCost_sender\n",
    "    min2 = row.minCost_receiver\n",
    "    if max1*max2*min1*min2 > 0:\n",
    "        upper = min(max1,max2)\n",
    "        lower = max(min1,min2)\n",
    "        if upper-lower > 0: return upper-lower\n",
    "        else: return 0\n",
    "    else: return 175\n",
    "    \n",
    "def get_urgency_receiver(row):\n",
    "    try:\n",
    "        return row.available_receiver-row.timestamp\n",
    "    except:\n",
    "        return None\n",
    "    \n",
    "def get_urgency_sender(row):\n",
    "    try:\n",
    "        return row.available_sender-row.timestamp\n",
    "    except:\n",
    "        return None\n",
    "    \n",
    "def my_distance(row):\n",
    "    a = row.location_receiver\n",
    "    b = row.location_sender\n",
    "    try: \n",
    "        one = b[0]-a[0]\n",
    "        two = b[1]-a[1]\n",
    "        return (one**2+two**2)**(.5)\n",
    "    except:\n",
    "        return None\n",
    "\n",
    "def feature_time(df):\n",
    "    df['age_dif'] = abs(df.age_sender-df.age_receiver)\n",
    "    df['same_gender'] = df.gender_sender==df.gender_receiver\n",
    "    df['same_relate'] = df.inRelationship_sender == df.inRelationship_receiver\n",
    "    df['same_clean'] = df.isClean_sender == df.isClean_receiver\n",
    "    df['same_night'] = df.isNight_sender == df.isNight_receiver\n",
    "    df['same_student'] = df.isStudent_sender == df.isStudent_receiver\n",
    "    df['same_student'] = df.isStudent_sender == df.isStudent_receiver\n",
    "    df['same_smoking'] = df.smokingOk_sender == df.smokingOk_receiver\n",
    "    df['same_type'] = df.type_sender == df.type_receiver\n",
    "    df['same_term'] = df.term_sender == df.term_receiver\n",
    "    df['same_work'] = df.work_sender == df.work_receiver\n",
    "    df['same_city'] = df.hometownCity_sender == df.hometownCity_receiver\n",
    "    df['same_state'] = df.hometownState_sender == df.hometownState_receiver\n",
    "    df['same_country'] = df.hometownCountry_sender == df.hometownCountry_receiver\n",
    "    df['same_college'] = df.college_sender == df.college_receiver\n",
    "    df['same_metro'] = df.metro_sender == df.metro_receiver\n",
    "\n",
    "    df['roommate_similarity'] = abs(df.numRoommates_sender.apply(lambda x: roommate_rules(x))\n",
    "                                  -df.numRoommates_receiver.apply(lambda x: roommate_rules(x)))\n",
    "\n",
    "    df['hobbies_receiver'] = df.hobbies_receiver.apply(lambda x: set(x) if isinstance(x,list) else set())\n",
    "    df['hobbies_sender'] = df.hobbies_sender.apply(lambda x: set(x) if isinstance(x,list) else set())\n",
    "    df['hobbies_overlap'] = df.apply(lambda x: len(x['hobbies_receiver'].intersection(x['hobbies_sender'])), axis=1)\n",
    "\n",
    "    \n",
    "    df['amenities_receiver'] = df.amenities_receiver.apply(lambda x: set(x) if isinstance(x,list) else set())\n",
    "    df['amenities_sender'] = df.amenities_sender.apply(lambda x: set(x) if isinstance(x,list) else set())\n",
    "    df['amenities_overlap'] = df.apply(lambda x: len(x['amenities_receiver'].intersection(x['amenities_sender'])), axis=1)\n",
    "\n",
    "    df['neighborhoods_receiver'] = df.neighborhoods_receiver.apply(lambda x: set(x) if isinstance(x,list) else set())\n",
    "    df['neighborhoods_sender'] = df.neighborhoods_sender.apply(lambda x: set(x) if isinstance(x,list) else set())\n",
    "    df['neighborhoods_overlap'] = df.apply(lambda x: len(x['neighborhoods_receiver'].intersection(x['neighborhoods_sender'])), axis=1)\n",
    "\n",
    "    df['rent_overlap'] = df.apply(get_rent_range, axis=1)\n",
    "    \n",
    "    df['urgency_receiver'] = df.available_receiver-df.timestamp\n",
    "    df['urgency_sender'] = df.available_sender-df.timestamp\n",
    "\n",
    "    df['distance'] = df.apply(my_distance, axis=1)\n",
    "    \n",
    "    TF = {True: 1, False: 0, 'male':1, 'female':0, 'shared':0,'private':1,'nan':-1}\n",
    "    \n",
    "    col_to_TF = ['response', \n",
    "                 'has_about_sender', 'has_about_receiver', 'gender_sender','gender_receiver',\n",
    "                 'facebookId_sender', 'linkedinId_sender', 'picture_sender', 'has_room_sender',\n",
    "                 'type_sender','type_receiver',\n",
    "                 'facebookId_receiver', 'linkedinId_receiver', 'picture_receiver', 'has_room_receiver',\n",
    "                 'same_work','same_city','same_state','same_country','same_metro','same_college',\n",
    "                 'same_gender','same_relate','same_clean','same_night','same_student','same_smoking','same_term','same_type']\n",
    "    for col in col_to_TF:\n",
    "        df[col] = df[col].map(TF)\n",
    "    \n",
    "    print(\"columns with null values: {}\".format(len(df.columns[df.isnull().any()])))\n",
    "    return df\n",
    "  \n",
    "master_df = feature_time(master_df)\n",
    "master_df.head()"
   ]
  },
  {
   "cell_type": "markdown",
   "metadata": {},
   "source": [
    "# FILL NA "
   ]
  },
  {
   "cell_type": "code",
   "execution_count": null,
   "metadata": {},
   "outputs": [],
   "source": [
    "no_more_n_a = master_df.fillna(master_df.mean(axis=0))\n",
    "no_more_n_a.head()"
   ]
  },
  {
   "cell_type": "markdown",
   "metadata": {},
   "source": [
    "# PICKLE"
   ]
  },
  {
   "cell_type": "code",
   "execution_count": null,
   "metadata": {},
   "outputs": [],
   "source": [
    "mp.json_it(df,'data_features')\n",
    "mp.json_it(no_more_n_a,'data_master_full')"
   ]
  },
  {
   "cell_type": "code",
   "execution_count": null,
   "metadata": {
    "collapsed": true
   },
   "outputs": [],
   "source": []
  }
 ],
 "metadata": {
  "kernelspec": {
   "display_name": "Python 3",
   "language": "python",
   "name": "python3"
  },
  "language_info": {
   "codemirror_mode": {
    "name": "ipython",
    "version": 3
   },
   "file_extension": ".py",
   "mimetype": "text/x-python",
   "name": "python",
   "nbconvert_exporter": "python",
   "pygments_lexer": "ipython3",
   "version": "3.6.3"
  }
 },
 "nbformat": 4,
 "nbformat_minor": 2
}
