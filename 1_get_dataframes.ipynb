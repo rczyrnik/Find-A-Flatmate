{
 "cells": [
  {
   "cell_type": "markdown",
   "metadata": {},
   "source": [
    "# IMPORTS"
   ]
  },
  {
   "cell_type": "code",
   "execution_count": 8,
   "metadata": {
    "collapsed": true
   },
   "outputs": [],
   "source": [
    "# import pandas as pd\n",
    "\n",
    "import my_pickle as mp\n",
    "import my_split as ms\n",
    "import my_dataframes as md\n",
    "\n",
    "# from importlib import reload\n",
    "\n",
    "# import warnings\n",
    "# warnings.filterwarnings('ignore')"
   ]
  },
  {
   "cell_type": "code",
   "execution_count": null,
   "metadata": {
    "collapsed": true
   },
   "outputs": [],
   "source": [
    "# reload(md)\n",
    "# reload(ms)"
   ]
  },
  {
   "cell_type": "markdown",
   "metadata": {},
   "source": [
    "# READ IN"
   ]
  },
  {
   "cell_type": "code",
   "execution_count": 3,
   "metadata": {},
   "outputs": [
    {
     "name": "stdout",
     "output_type": "stream",
     "text": [
      "created message dataframe\n",
      "created conversation dataframe\n",
      "... read in dataframe\n",
      "... dropped users that aren't onboarded\n",
      "... renamed columns\n",
      "... changed to datetimes\n",
      "... dropped columns\n",
      "... got neighborhoods\n",
      "... got metro areas\n",
      "... added new features\n",
      "... converted to binary\n",
      "Created user dataframe\n"
     ]
    }
   ],
   "source": [
    "message_df = md.get_message_df()\n",
    "convo_df = md.get_conversation_df(message_df)\n",
    "user_df = md.get_user_df()"
   ]
  },
  {
   "cell_type": "markdown",
   "metadata": {},
   "source": [
    "# ECT SPLIT"
   ]
  },
  {
   "cell_type": "code",
   "execution_count": 10,
   "metadata": {},
   "outputs": [
    {
     "name": "stdout",
     "output_type": "stream",
     "text": [
      "split on:                      2017-10-01 06:37:20.466000\n",
      "most recent convo data:        2017-10-01 06:37:20.466000\n",
      "most recent message data:      2017-10-01 06:37:20.466000\n"
     ]
    }
   ],
   "source": [
    "# find the split!\n",
    "cutoff = ms.ect_find_split(convo_df, .7)\n",
    "print(\"split on:                      {}\".format(cutoff))\n",
    "\n",
    "# do the split!\n",
    "safe_convo_df = ms.ect_make_split(convo_df, cutoff)\n",
    "print(\"most recent convo data:        {}\".format(safe_convo_df.timestamp.max()))\n",
    "\n",
    "safe_message_df = ms.ect_make_split(message_df, cutoff)\n",
    "print(\"most recent message data:      {}\".format(safe_message_df.timestamp.max()))"
   ]
  },
  {
   "cell_type": "markdown",
   "metadata": {},
   "source": [
    "# PICKLE EVERYTHING!\n",
    "\n",
    "https://www.youtube.com/watch?v=yYey8ntlK_E"
   ]
  },
  {
   "cell_type": "code",
   "execution_count": 11,
   "metadata": {
    "scrolled": true
   },
   "outputs": [],
   "source": [
    "mp.json_it(user_df,'data_user')\n",
    "mp.json_it(safe_message_df,'data_message')  \n",
    "mp.json_it(safe_convo_df,'data_convo')  "
   ]
  }
 ],
 "metadata": {
  "kernelspec": {
   "display_name": "Python 3",
   "language": "python",
   "name": "python3"
  },
  "language_info": {
   "codemirror_mode": {
    "name": "ipython",
    "version": 3
   },
   "file_extension": ".py",
   "mimetype": "text/x-python",
   "name": "python",
   "nbconvert_exporter": "python",
   "pygments_lexer": "ipython3",
   "version": "3.6.3"
  }
 },
 "nbformat": 4,
 "nbformat_minor": 2
}
