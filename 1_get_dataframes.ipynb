{
 "cells": [
  {
   "cell_type": "markdown",
   "metadata": {},
   "source": [
    "# IMPORTS"
   ]
  },
  {
   "cell_type": "code",
   "execution_count": 1,
   "metadata": {
    "collapsed": true
   },
   "outputs": [],
   "source": [
    "import pandas as pd\n",
    "\n",
    "import my_pickle as mp\n",
    "import my_split as ms\n",
    "import my_dataframes as md\n",
    "\n",
    "from importlib import reload"
   ]
  },
  {
   "cell_type": "markdown",
   "metadata": {},
   "source": [
    "# READ IN"
   ]
  },
  {
   "cell_type": "code",
   "execution_count": 2,
   "metadata": {},
   "outputs": [
    {
     "name": "stdout",
     "output_type": "stream",
     "text": [
      "created message dataframe\n",
      "created conversation dataframe with 0 known errors\n",
      "created last message dataframe\n"
     ]
    }
   ],
   "source": [
    "# read in message data\n",
    "message_df = md.get_message_df()\n",
    "convo_df = md.get_conversation_df(message_df)\n",
    "last_df = md.get_lastmessage_df()"
   ]
  },
  {
   "cell_type": "code",
   "execution_count": 3,
   "metadata": {},
   "outputs": [
    {
     "data": {
      "text/html": [
       "<div>\n",
       "<style>\n",
       "    .dataframe thead tr:only-child th {\n",
       "        text-align: right;\n",
       "    }\n",
       "\n",
       "    .dataframe thead th {\n",
       "        text-align: left;\n",
       "    }\n",
       "\n",
       "    .dataframe tbody tr th {\n",
       "        vertical-align: top;\n",
       "    }\n",
       "</style>\n",
       "<table border=\"1\" class=\"dataframe\">\n",
       "  <thead>\n",
       "    <tr style=\"text-align: right;\">\n",
       "      <th></th>\n",
       "      <th>conv_id</th>\n",
       "      <th>response</th>\n",
       "      <th>first_uid</th>\n",
       "      <th>second_uid</th>\n",
       "      <th>first_mid</th>\n",
       "      <th>second_mid</th>\n",
       "      <th>timestamp</th>\n",
       "    </tr>\n",
       "  </thead>\n",
       "  <tbody>\n",
       "    <tr>\n",
       "      <th>16296</th>\n",
       "      <td>rKdn0zblFiRVDUEmDHyQ</td>\n",
       "      <td>True</td>\n",
       "      <td>rKdn0zblFi</td>\n",
       "      <td>RVDUEmDHyQ</td>\n",
       "      <td>-KWKghvlpF67UOv-iXXO</td>\n",
       "      <td>-KWKg_ybWV4qbG02NYrb</td>\n",
       "      <td>1478906535730</td>\n",
       "    </tr>\n",
       "    <tr>\n",
       "      <th>9241</th>\n",
       "      <td>aXnWmLjpaERVDUEmDHyQ</td>\n",
       "      <td>False</td>\n",
       "      <td>aXnWmLjpaE</td>\n",
       "      <td>RVDUEmDHyQ</td>\n",
       "      <td>-KWLsSEmEJgH3bhJupE7</td>\n",
       "      <td>None</td>\n",
       "      <td>1478926390334</td>\n",
       "    </tr>\n",
       "    <tr>\n",
       "      <th>1069</th>\n",
       "      <td>8Ws3QWmC4B52lmw7KQcq</td>\n",
       "      <td>True</td>\n",
       "      <td>8Ws3QWmC4B</td>\n",
       "      <td>52lmw7KQcq</td>\n",
       "      <td>-KWPb8hd_DbLpY1eIUlT</td>\n",
       "      <td>-KWQNe2ghZCGV0aywnKp</td>\n",
       "      <td>1478988962771</td>\n",
       "    </tr>\n",
       "    <tr>\n",
       "      <th>9414</th>\n",
       "      <td>b1HYtkC11e92RR2gpmjr</td>\n",
       "      <td>False</td>\n",
       "      <td>b1HYtkC11e</td>\n",
       "      <td>92RR2gpmjr</td>\n",
       "      <td>-KWQMn5WmLIKbUOt9a0O</td>\n",
       "      <td>None</td>\n",
       "      <td>1479001715202</td>\n",
       "    </tr>\n",
       "    <tr>\n",
       "      <th>4142</th>\n",
       "      <td>KnmYDsn5Q492RR2gpmjr</td>\n",
       "      <td>False</td>\n",
       "      <td>KnmYDsn5Q4</td>\n",
       "      <td>92RR2gpmjr</td>\n",
       "      <td>-KWQNFIghvLurnI-8epo</td>\n",
       "      <td>None</td>\n",
       "      <td>1479001834795</td>\n",
       "    </tr>\n",
       "  </tbody>\n",
       "</table>\n",
       "</div>"
      ],
      "text/plain": [
       "                    conv_id response   first_uid  second_uid  \\\n",
       "16296  rKdn0zblFiRVDUEmDHyQ     True  rKdn0zblFi  RVDUEmDHyQ   \n",
       "9241   aXnWmLjpaERVDUEmDHyQ    False  aXnWmLjpaE  RVDUEmDHyQ   \n",
       "1069   8Ws3QWmC4B52lmw7KQcq     True  8Ws3QWmC4B  52lmw7KQcq   \n",
       "9414   b1HYtkC11e92RR2gpmjr    False  b1HYtkC11e  92RR2gpmjr   \n",
       "4142   KnmYDsn5Q492RR2gpmjr    False  KnmYDsn5Q4  92RR2gpmjr   \n",
       "\n",
       "                  first_mid            second_mid      timestamp  \n",
       "16296  -KWKghvlpF67UOv-iXXO  -KWKg_ybWV4qbG02NYrb  1478906535730  \n",
       "9241   -KWLsSEmEJgH3bhJupE7                  None  1478926390334  \n",
       "1069   -KWPb8hd_DbLpY1eIUlT  -KWQNe2ghZCGV0aywnKp  1478988962771  \n",
       "9414   -KWQMn5WmLIKbUOt9a0O                  None  1479001715202  \n",
       "4142   -KWQNFIghvLurnI-8epo                  None  1479001834795  "
      ]
     },
     "execution_count": 3,
     "metadata": {},
     "output_type": "execute_result"
    }
   ],
   "source": [
    "convo_df.head()"
   ]
  },
  {
   "cell_type": "markdown",
   "metadata": {},
   "source": [
    "# ECT SPLIT"
   ]
  },
  {
   "cell_type": "code",
   "execution_count": 4,
   "metadata": {},
   "outputs": [
    {
     "name": "stdout",
     "output_type": "stream",
     "text": [
      "split on:         2017-10-02 01:35:58.644000\n",
      "most recent data: 2017-10-02 01:35:58.644000\n"
     ]
    }
   ],
   "source": [
    "# find the split!\n",
    "cutoff = ms.ect_find_split(convo_df, .7)\n",
    "print(\"split on:         {}\".format(pd.to_datetime(cutoff*1000000)))\n",
    "\n",
    "# do the split!\n",
    "safe_convo_df = ms.ect_make_split(convo_df, cutoff)\n",
    "print(\"most recent data: {}\".format(pd.to_datetime(safe_convo_df.timestamp.max()*1000000)))"
   ]
  },
  {
   "cell_type": "markdown",
   "metadata": {},
   "source": [
    "# COMBINE USER AND MESSAGE FILES\n",
    "\n",
    "NB: Have to do after ECT split!"
   ]
  },
  {
   "cell_type": "code",
   "execution_count": 5,
   "metadata": {
    "scrolled": true
   },
   "outputs": [
    {
     "data": {
      "text/html": [
       "<div>\n",
       "<style>\n",
       "    .dataframe thead tr:only-child th {\n",
       "        text-align: right;\n",
       "    }\n",
       "\n",
       "    .dataframe thead th {\n",
       "        text-align: left;\n",
       "    }\n",
       "\n",
       "    .dataframe tbody tr th {\n",
       "        vertical-align: top;\n",
       "    }\n",
       "</style>\n",
       "<table border=\"1\" class=\"dataframe\">\n",
       "  <thead>\n",
       "    <tr style=\"text-align: right;\">\n",
       "      <th></th>\n",
       "      <th>messages_sent</th>\n",
       "      <th>responses_received</th>\n",
       "      <th>attractiveness</th>\n",
       "      <th>messages_received</th>\n",
       "      <th>responses_sent</th>\n",
       "      <th>responsiveness</th>\n",
       "    </tr>\n",
       "  </thead>\n",
       "  <tbody>\n",
       "    <tr>\n",
       "      <th>00DMWuKDFs</th>\n",
       "      <td>0.0</td>\n",
       "      <td>0.0</td>\n",
       "      <td>0.392391</td>\n",
       "      <td>17.0</td>\n",
       "      <td>0.0</td>\n",
       "      <td>0.0</td>\n",
       "    </tr>\n",
       "    <tr>\n",
       "      <th>00kOFrnYJu</th>\n",
       "      <td>0.0</td>\n",
       "      <td>0.0</td>\n",
       "      <td>0.392391</td>\n",
       "      <td>2.0</td>\n",
       "      <td>0.0</td>\n",
       "      <td>0.0</td>\n",
       "    </tr>\n",
       "  </tbody>\n",
       "</table>\n",
       "</div>"
      ],
      "text/plain": [
       "            messages_sent  responses_received  attractiveness  \\\n",
       "00DMWuKDFs            0.0                 0.0        0.392391   \n",
       "00kOFrnYJu            0.0                 0.0        0.392391   \n",
       "\n",
       "            messages_received  responses_sent  responsiveness  \n",
       "00DMWuKDFs               17.0             0.0             0.0  \n",
       "00kOFrnYJu                2.0             0.0             0.0  "
      ]
     },
     "execution_count": 5,
     "metadata": {},
     "output_type": "execute_result"
    }
   ],
   "source": [
    "# get a data table with messages sent/received for each user\n",
    "response_df = md.get_response_df(convo_df)\n",
    "response_df.head(2)"
   ]
  },
  {
   "cell_type": "code",
   "execution_count": 6,
   "metadata": {},
   "outputs": [
    {
     "data": {
      "text/plain": [
       "<module 'my_dataframes' from '/Users/gandalf/Documents/Galvanize/MatchingService/my_dataframes.py'>"
      ]
     },
     "execution_count": 6,
     "metadata": {},
     "output_type": "execute_result"
    }
   ],
   "source": [
    "reload(md)"
   ]
  },
  {
   "cell_type": "code",
   "execution_count": 7,
   "metadata": {},
   "outputs": [
    {
     "data": {
      "text/html": [
       "<div>\n",
       "<style>\n",
       "    .dataframe thead tr:only-child th {\n",
       "        text-align: right;\n",
       "    }\n",
       "\n",
       "    .dataframe thead th {\n",
       "        text-align: left;\n",
       "    }\n",
       "\n",
       "    .dataframe tbody tr th {\n",
       "        vertical-align: top;\n",
       "    }\n",
       "</style>\n",
       "<table border=\"1\" class=\"dataframe\">\n",
       "  <thead>\n",
       "    <tr style=\"text-align: right;\">\n",
       "      <th></th>\n",
       "      <th>created</th>\n",
       "      <th>updated</th>\n",
       "      <th>activeAt</th>\n",
       "      <th>available</th>\n",
       "      <th>about</th>\n",
       "      <th>has_about</th>\n",
       "      <th>len_about</th>\n",
       "      <th>birthday</th>\n",
       "      <th>age</th>\n",
       "      <th>gender</th>\n",
       "      <th>...</th>\n",
       "      <th>isStudent</th>\n",
       "      <th>petsOk</th>\n",
       "      <th>smokingOk</th>\n",
       "      <th>onboarded</th>\n",
       "      <th>messages_sent</th>\n",
       "      <th>responses_received</th>\n",
       "      <th>attractiveness</th>\n",
       "      <th>messages_received</th>\n",
       "      <th>responses_sent</th>\n",
       "      <th>responsiveness</th>\n",
       "    </tr>\n",
       "    <tr>\n",
       "      <th>uid</th>\n",
       "      <th></th>\n",
       "      <th></th>\n",
       "      <th></th>\n",
       "      <th></th>\n",
       "      <th></th>\n",
       "      <th></th>\n",
       "      <th></th>\n",
       "      <th></th>\n",
       "      <th></th>\n",
       "      <th></th>\n",
       "      <th></th>\n",
       "      <th></th>\n",
       "      <th></th>\n",
       "      <th></th>\n",
       "      <th></th>\n",
       "      <th></th>\n",
       "      <th></th>\n",
       "      <th></th>\n",
       "      <th></th>\n",
       "      <th></th>\n",
       "      <th></th>\n",
       "    </tr>\n",
       "  </thead>\n",
       "  <tbody>\n",
       "    <tr>\n",
       "      <th>07cSOmlL0F</th>\n",
       "      <td>2016-11-15 22:54:02.653</td>\n",
       "      <td>2017-02-08 00:06:05.667</td>\n",
       "      <td>NaT</td>\n",
       "      <td>NaT</td>\n",
       "      <td></td>\n",
       "      <td>False</td>\n",
       "      <td>0</td>\n",
       "      <td>1990-11-16 21:00:00</td>\n",
       "      <td>28.0</td>\n",
       "      <td>male</td>\n",
       "      <td>...</td>\n",
       "      <td>NaN</td>\n",
       "      <td>1.0</td>\n",
       "      <td>0.0</td>\n",
       "      <td>0.0</td>\n",
       "      <td>1.0</td>\n",
       "      <td>0.0</td>\n",
       "      <td>0.000000</td>\n",
       "      <td>1.0</td>\n",
       "      <td>0.0</td>\n",
       "      <td>0.0</td>\n",
       "    </tr>\n",
       "    <tr>\n",
       "      <th>0PZ0jSiV11</th>\n",
       "      <td>2016-11-16 03:36:00.307</td>\n",
       "      <td>2017-03-13 19:38:46.405</td>\n",
       "      <td>NaT</td>\n",
       "      <td>NaT</td>\n",
       "      <td></td>\n",
       "      <td>False</td>\n",
       "      <td>0</td>\n",
       "      <td>1989-11-24 21:00:00</td>\n",
       "      <td>29.0</td>\n",
       "      <td>male</td>\n",
       "      <td>...</td>\n",
       "      <td>NaN</td>\n",
       "      <td>1.0</td>\n",
       "      <td>1.0</td>\n",
       "      <td>0.0</td>\n",
       "      <td>0.0</td>\n",
       "      <td>0.0</td>\n",
       "      <td>0.392391</td>\n",
       "      <td>3.0</td>\n",
       "      <td>0.0</td>\n",
       "      <td>0.0</td>\n",
       "    </tr>\n",
       "  </tbody>\n",
       "</table>\n",
       "<p>2 rows × 41 columns</p>\n",
       "</div>"
      ],
      "text/plain": [
       "                           created                 updated activeAt available  \\\n",
       "uid                                                                             \n",
       "07cSOmlL0F 2016-11-15 22:54:02.653 2017-02-08 00:06:05.667      NaT       NaT   \n",
       "0PZ0jSiV11 2016-11-16 03:36:00.307 2017-03-13 19:38:46.405      NaT       NaT   \n",
       "\n",
       "           about  has_about  len_about            birthday   age gender  \\\n",
       "uid                                                                       \n",
       "07cSOmlL0F            False          0 1990-11-16 21:00:00  28.0   male   \n",
       "0PZ0jSiV11            False          0 1989-11-24 21:00:00  29.0   male   \n",
       "\n",
       "                 ...       isStudent petsOk smokingOk onboarded messages_sent  \\\n",
       "uid              ...                                                            \n",
       "07cSOmlL0F       ...             NaN    1.0       0.0       0.0           1.0   \n",
       "0PZ0jSiV11       ...             NaN    1.0       1.0       0.0           0.0   \n",
       "\n",
       "           responses_received  attractiveness  messages_received  \\\n",
       "uid                                                                \n",
       "07cSOmlL0F                0.0        0.000000                1.0   \n",
       "0PZ0jSiV11                0.0        0.392391                3.0   \n",
       "\n",
       "            responses_sent  responsiveness  \n",
       "uid                                         \n",
       "07cSOmlL0F             0.0             0.0  \n",
       "0PZ0jSiV11             0.0             0.0  \n",
       "\n",
       "[2 rows x 41 columns]"
      ]
     },
     "execution_count": 7,
     "metadata": {},
     "output_type": "execute_result"
    }
   ],
   "source": [
    "# Combine with user table\n",
    "user_df = md.get_user_data(response_df)    # currently from csv, will be from json\n",
    "\n",
    "user_df.head(2)"
   ]
  },
  {
   "cell_type": "markdown",
   "metadata": {},
   "source": [
    "# REMOVE ROWS FROM CONVOS WITH MISSING UIDS"
   ]
  },
  {
   "cell_type": "code",
   "execution_count": 8,
   "metadata": {},
   "outputs": [
    {
     "name": "stderr",
     "output_type": "stream",
     "text": [
      "/Users/gandalf/Documents/Galvanize/MatchingService/my_dataframes.py:326: SettingWithCopyWarning: \n",
      "A value is trying to be set on a copy of a slice from a DataFrame.\n",
      "Try using .loc[row_indexer,col_indexer] = value instead\n",
      "\n",
      "See the caveats in the documentation: http://pandas.pydata.org/pandas-docs/stable/indexing.html#indexing-view-versus-copy\n",
      "  df['flag1'] = df.first_uid.apply(lambda x: x not in uids)\n",
      "/Users/gandalf/Documents/Galvanize/MatchingService/my_dataframes.py:327: SettingWithCopyWarning: \n",
      "A value is trying to be set on a copy of a slice from a DataFrame.\n",
      "Try using .loc[row_indexer,col_indexer] = value instead\n",
      "\n",
      "See the caveats in the documentation: http://pandas.pydata.org/pandas-docs/stable/indexing.html#indexing-view-versus-copy\n",
      "  df['flag2'] = df.second_uid.apply(lambda x: x not in uids)\n",
      "/Users/gandalf/Documents/Galvanize/MatchingService/my_dataframes.py:328: SettingWithCopyWarning: \n",
      "A value is trying to be set on a copy of a slice from a DataFrame.\n",
      "Try using .loc[row_indexer,col_indexer] = value instead\n",
      "\n",
      "See the caveats in the documentation: http://pandas.pydata.org/pandas-docs/stable/indexing.html#indexing-view-versus-copy\n",
      "  df['flag'] = df.flag1 | df.flag2\n"
     ]
    }
   ],
   "source": [
    "safe_convo_df = md.remove_bad_uids(safe_convo_df, user_df)  "
   ]
  },
  {
   "cell_type": "code",
   "execution_count": 9,
   "metadata": {},
   "outputs": [
    {
     "data": {
      "text/html": [
       "<div>\n",
       "<style>\n",
       "    .dataframe thead tr:only-child th {\n",
       "        text-align: right;\n",
       "    }\n",
       "\n",
       "    .dataframe thead th {\n",
       "        text-align: left;\n",
       "    }\n",
       "\n",
       "    .dataframe tbody tr th {\n",
       "        vertical-align: top;\n",
       "    }\n",
       "</style>\n",
       "<table border=\"1\" class=\"dataframe\">\n",
       "  <thead>\n",
       "    <tr style=\"text-align: right;\">\n",
       "      <th></th>\n",
       "      <th>conv_id</th>\n",
       "      <th>response</th>\n",
       "      <th>first_uid</th>\n",
       "      <th>second_uid</th>\n",
       "      <th>first_mid</th>\n",
       "      <th>second_mid</th>\n",
       "      <th>timestamp</th>\n",
       "    </tr>\n",
       "  </thead>\n",
       "  <tbody>\n",
       "    <tr>\n",
       "      <th>16296</th>\n",
       "      <td>rKdn0zblFiRVDUEmDHyQ</td>\n",
       "      <td>True</td>\n",
       "      <td>rKdn0zblFi</td>\n",
       "      <td>RVDUEmDHyQ</td>\n",
       "      <td>-KWKghvlpF67UOv-iXXO</td>\n",
       "      <td>-KWKg_ybWV4qbG02NYrb</td>\n",
       "      <td>1478906535730</td>\n",
       "    </tr>\n",
       "    <tr>\n",
       "      <th>9241</th>\n",
       "      <td>aXnWmLjpaERVDUEmDHyQ</td>\n",
       "      <td>False</td>\n",
       "      <td>aXnWmLjpaE</td>\n",
       "      <td>RVDUEmDHyQ</td>\n",
       "      <td>-KWLsSEmEJgH3bhJupE7</td>\n",
       "      <td>None</td>\n",
       "      <td>1478926390334</td>\n",
       "    </tr>\n",
       "    <tr>\n",
       "      <th>1069</th>\n",
       "      <td>8Ws3QWmC4B52lmw7KQcq</td>\n",
       "      <td>True</td>\n",
       "      <td>8Ws3QWmC4B</td>\n",
       "      <td>52lmw7KQcq</td>\n",
       "      <td>-KWPb8hd_DbLpY1eIUlT</td>\n",
       "      <td>-KWQNe2ghZCGV0aywnKp</td>\n",
       "      <td>1478988962771</td>\n",
       "    </tr>\n",
       "    <tr>\n",
       "      <th>9414</th>\n",
       "      <td>b1HYtkC11e92RR2gpmjr</td>\n",
       "      <td>False</td>\n",
       "      <td>b1HYtkC11e</td>\n",
       "      <td>92RR2gpmjr</td>\n",
       "      <td>-KWQMn5WmLIKbUOt9a0O</td>\n",
       "      <td>None</td>\n",
       "      <td>1479001715202</td>\n",
       "    </tr>\n",
       "    <tr>\n",
       "      <th>4142</th>\n",
       "      <td>KnmYDsn5Q492RR2gpmjr</td>\n",
       "      <td>False</td>\n",
       "      <td>KnmYDsn5Q4</td>\n",
       "      <td>92RR2gpmjr</td>\n",
       "      <td>-KWQNFIghvLurnI-8epo</td>\n",
       "      <td>None</td>\n",
       "      <td>1479001834795</td>\n",
       "    </tr>\n",
       "  </tbody>\n",
       "</table>\n",
       "</div>"
      ],
      "text/plain": [
       "                    conv_id response   first_uid  second_uid  \\\n",
       "16296  rKdn0zblFiRVDUEmDHyQ     True  rKdn0zblFi  RVDUEmDHyQ   \n",
       "9241   aXnWmLjpaERVDUEmDHyQ    False  aXnWmLjpaE  RVDUEmDHyQ   \n",
       "1069   8Ws3QWmC4B52lmw7KQcq     True  8Ws3QWmC4B  52lmw7KQcq   \n",
       "9414   b1HYtkC11e92RR2gpmjr    False  b1HYtkC11e  92RR2gpmjr   \n",
       "4142   KnmYDsn5Q492RR2gpmjr    False  KnmYDsn5Q4  92RR2gpmjr   \n",
       "\n",
       "                  first_mid            second_mid      timestamp  \n",
       "16296  -KWKghvlpF67UOv-iXXO  -KWKg_ybWV4qbG02NYrb  1478906535730  \n",
       "9241   -KWLsSEmEJgH3bhJupE7                  None  1478926390334  \n",
       "1069   -KWPb8hd_DbLpY1eIUlT  -KWQNe2ghZCGV0aywnKp  1478988962771  \n",
       "9414   -KWQMn5WmLIKbUOt9a0O                  None  1479001715202  \n",
       "4142   -KWQNFIghvLurnI-8epo                  None  1479001834795  "
      ]
     },
     "execution_count": 9,
     "metadata": {},
     "output_type": "execute_result"
    }
   ],
   "source": [
    "safe_convo_df.head()"
   ]
  },
  {
   "cell_type": "markdown",
   "metadata": {},
   "source": [
    "# PICKLE EVERYTHING!\n",
    "\n",
    "https://www.youtube.com/watch?v=yYey8ntlK_E"
   ]
  },
  {
   "cell_type": "code",
   "execution_count": 10,
   "metadata": {
    "collapsed": true
   },
   "outputs": [],
   "source": [
    "mp.pickle_it(user_df,'data_user')\n",
    "# mp.pickle_it(message_df,'message_df')  NOT ECT SAFE!\n",
    "mp.pickle_it(safe_convo_df,'data_convo')  # make sure pickling safe stuff\n",
    "# pickle_it(lastmessage_df,'lastmessage_df') NOT ECT SAFE!"
   ]
  },
  {
   "cell_type": "code",
   "execution_count": 11,
   "metadata": {},
   "outputs": [
    {
     "name": "stdout",
     "output_type": "stream",
     "text": [
      "35343\n"
     ]
    }
   ],
   "source": [
    "print(len(user_df))"
   ]
  },
  {
   "cell_type": "code",
   "execution_count": null,
   "metadata": {
    "collapsed": true
   },
   "outputs": [],
   "source": []
  }
 ],
 "metadata": {
  "kernelspec": {
   "display_name": "Python 3",
   "language": "python",
   "name": "python3"
  },
  "language_info": {
   "codemirror_mode": {
    "name": "ipython",
    "version": 3
   },
   "file_extension": ".py",
   "mimetype": "text/x-python",
   "name": "python",
   "nbconvert_exporter": "python",
   "pygments_lexer": "ipython3",
   "version": "3.6.3"
  }
 },
 "nbformat": 4,
 "nbformat_minor": 2
}
