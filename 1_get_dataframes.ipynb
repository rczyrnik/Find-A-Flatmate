{
 "cells": [
  {
   "cell_type": "markdown",
   "metadata": {},
   "source": [
    "# IMPORTS"
   ]
  },
  {
   "cell_type": "code",
   "execution_count": 1,
   "metadata": {
    "collapsed": true
   },
   "outputs": [],
   "source": [
    "import pandas as pd\n",
    "\n",
    "import my_pickle as mp\n",
    "import my_split as ms\n",
    "import my_dataframes as md\n",
    "\n",
    "from importlib import reload\n",
    "\n",
    "import warnings\n",
    "warnings.filterwarnings('ignore')"
   ]
  },
  {
   "cell_type": "code",
   "execution_count": 45,
   "metadata": {},
   "outputs": [
    {
     "data": {
      "text/plain": [
       "<module 'my_dataframes' from '/Users/gandalf/Documents/Galvanize/MatchingService/my_dataframes.py'>"
      ]
     },
     "execution_count": 45,
     "metadata": {},
     "output_type": "execute_result"
    }
   ],
   "source": [
    "reload(md)"
   ]
  },
  {
   "cell_type": "markdown",
   "metadata": {},
   "source": [
    "# READ IN"
   ]
  },
  {
   "cell_type": "code",
   "execution_count": 46,
   "metadata": {},
   "outputs": [
    {
     "name": "stdout",
     "output_type": "stream",
     "text": [
      "created user dataframe\n"
     ]
    }
   ],
   "source": [
    "# message_df = md.get_message_df()\n",
    "# convo_df = md.get_conversation_df(message_df)\n",
    "user_df = md.get_user_df()"
   ]
  },
  {
   "cell_type": "code",
   "execution_count": 47,
   "metadata": {},
   "outputs": [
    {
     "data": {
      "text/plain": [
       "uid\n",
       "00yWCOsIvK                      None\n",
       "01Kc0ZYNae                      None\n",
       "01mfWG4vUm                      None\n",
       "02GDyQPLII                      None\n",
       "04yEQfqfiB                      None\n",
       "05EWHMF9P7    San Francisco Bay Area\n",
       "064fnyPXG0                      None\n",
       "0A8toNM0Ft    San Francisco Bay Area\n",
       "0DNru2t6hV                      None\n",
       "0EGMGHv0Hs                   Unknown\n",
       "0GhSNfDyED    San Francisco Bay Area\n",
       "0KBalfROZZ    San Francisco Bay Area\n",
       "0PXeke6Qdw                      None\n",
       "0PcM87VrWq                      None\n",
       "0Qfst0rVBF                      None\n",
       "0QkV1coISG    San Francisco Bay Area\n",
       "0SOCDSYlOq                      None\n",
       "0WbcwGAHwq    San Francisco Bay Area\n",
       "0WwEOpRKRZ                   Unknown\n",
       "0X5RF1IxyE    San Francisco Bay Area\n",
       "0bQJmt0Wqi    San Francisco Bay Area\n",
       "0o9pvJ8wSU                      None\n",
       "0quCFbTHOO                      None\n",
       "0rqQ9Zmqme                      None\n",
       "10tD2Rprwz                      None\n",
       "11uGsC9cZB    San Francisco Bay Area\n",
       "13bGu7VO9x    San Francisco Bay Area\n",
       "144ySrzYUA    San Francisco Bay Area\n",
       "14lzjjzA00    San Francisco Bay Area\n",
       "16XwyGXY7X                      None\n",
       "                       ...          \n",
       "f3dbsV7n72                      None\n",
       "9ksetK0UJC                    Boston\n",
       "z9gI4yL4TC                      None\n",
       "G9qauL89co                      None\n",
       "6KZzYZgZtL                      None\n",
       "61WfhUiGMF             Detroit Metro\n",
       "eF2q9ew3YP                      None\n",
       "fijkBHRNCe    San Francisco Bay Area\n",
       "YccuLUnRwz                Washington\n",
       "iquCDc6j2e                Washington\n",
       "1C8EVK5dXZ                      None\n",
       "N2R4Fw19Td                      None\n",
       "uN5W8HDIe7            Tampa Bay Area\n",
       "7nxf5DR0we                      None\n",
       "KwEHGqJvDT                      None\n",
       "Js1wgrLW4v                      None\n",
       "C2sMqP0Nm8            Tampa Bay Area\n",
       "HVD0VF4wO7                      None\n",
       "TSTU4toCqQ                   Chicago\n",
       "BmehT45rIZ                   Phoenix\n",
       "6sdlxpwJpZ                      None\n",
       "c9rkWCjp6J             New York City\n",
       "xdAxSeGzJY                      None\n",
       "xdwyDbCLAM                      None\n",
       "Z64xHC5V8C                      None\n",
       "Bh2UG8zuDh                      None\n",
       "ACl10xR0cN            Tampa Bay Area\n",
       "qNvtw2eMBc                      None\n",
       "UVeXCm8PC9                   Chicago\n",
       "brJYCoZ5yE                      None\n",
       "Name: metro, Length: 25738, dtype: object"
      ]
     },
     "execution_count": 47,
     "metadata": {},
     "output_type": "execute_result"
    }
   ],
   "source": [
    "user_df.metro"
   ]
  },
  {
   "cell_type": "markdown",
   "metadata": {},
   "source": [
    "# ECT SPLIT"
   ]
  },
  {
   "cell_type": "code",
   "execution_count": 48,
   "metadata": {},
   "outputs": [
    {
     "name": "stdout",
     "output_type": "stream",
     "text": [
      "split on:                      2017-10-02 01:35:58.644000\n",
      "most recent convo data:        2017-10-02 01:35:58.644000\n",
      "most recent message data:      2017-10-02 01:35:58.644000\n"
     ]
    }
   ],
   "source": [
    "# find the split!\n",
    "cutoff = ms.ect_find_split(convo_df, .7)\n",
    "print(\"split on:                      {}\".format(pd.to_datetime(cutoff*1000000)))\n",
    "\n",
    "# do the split!\n",
    "safe_convo_df = ms.ect_make_split(convo_df, cutoff)\n",
    "print(\"most recent convo data:        {}\".format(pd.to_datetime(safe_convo_df.timestamp.max()*1000000)))\n",
    "\n",
    "safe_message_df = ms.ect_make_split(message_df, cutoff)\n",
    "print(\"most recent message data:      {}\".format(pd.to_datetime(safe_message_df.timestamp.max()*1000000)))\n",
    "\n",
    "# safe_lastmessage_df = ms.ect_make_split(last_df, cutoff)\n",
    "# print(\"most recent last message data: {}\".format(pd.to_datetime(safe_lastmessage_df.timestamp.max()*1000000)))"
   ]
  },
  {
   "cell_type": "markdown",
   "metadata": {},
   "source": [
    "# REMOVE ROWS FROM CONVOS WITH MISSING UIDS (not now)"
   ]
  },
  {
   "cell_type": "code",
   "execution_count": null,
   "metadata": {
    "collapsed": true
   },
   "outputs": [],
   "source": [
    "# safe_convo_df = md.remove_bad_uids(safe_convo_df, user_df)  "
   ]
  },
  {
   "cell_type": "markdown",
   "metadata": {},
   "source": [
    "# PICKLE EVERYTHING!\n",
    "\n",
    "https://www.youtube.com/watch?v=yYey8ntlK_E"
   ]
  },
  {
   "cell_type": "code",
   "execution_count": 49,
   "metadata": {
    "collapsed": true,
    "scrolled": true
   },
   "outputs": [],
   "source": [
    "mp.json_it(user_df,'data_user')\n",
    "mp.json_it(safe_message_df,'data_message')  \n",
    "mp.json_it(safe_convo_df,'data_convo')  \n",
    "# mp.json_it(lastmessage_df,'lastmessage_df')"
   ]
  },
  {
   "cell_type": "code",
   "execution_count": null,
   "metadata": {
    "collapsed": true
   },
   "outputs": [],
   "source": []
  }
 ],
 "metadata": {
  "kernelspec": {
   "display_name": "Python 3",
   "language": "python",
   "name": "python3"
  },
  "language_info": {
   "codemirror_mode": {
    "name": "ipython",
    "version": 3
   },
   "file_extension": ".py",
   "mimetype": "text/x-python",
   "name": "python",
   "nbconvert_exporter": "python",
   "pygments_lexer": "ipython3",
   "version": "3.6.3"
  }
 },
 "nbformat": 4,
 "nbformat_minor": 2
}
