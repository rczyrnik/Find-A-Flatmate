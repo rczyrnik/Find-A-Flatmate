{
 "cells": [
  {
   "cell_type": "markdown",
   "metadata": {},
   "source": [
    "# IMPORTS"
   ]
  },
  {
   "cell_type": "code",
   "execution_count": 1,
   "metadata": {
    "collapsed": true
   },
   "outputs": [],
   "source": [
    "import pandas as pd\n",
    "\n",
    "import my_pickle as mp\n",
    "import my_split as ms\n",
    "import my_dataframes as md\n",
    "\n",
    "from importlib import reload"
   ]
  },
  {
   "cell_type": "markdown",
   "metadata": {},
   "source": [
    "# READ IN"
   ]
  },
  {
   "cell_type": "code",
   "execution_count": 2,
   "metadata": {},
   "outputs": [
    {
     "name": "stdout",
     "output_type": "stream",
     "text": [
      "created message dataframe\n",
      "created conversation dataframe with 0 known errors\n",
      "created last message dataframe\n"
     ]
    }
   ],
   "source": [
    "# read in message data\n",
    "message_df = md.get_message_df()\n",
    "convo_df = md.get_conversation_df(message_df)\n",
    "last_df = md.get_lastmessage_df()"
   ]
  },
  {
   "cell_type": "code",
   "execution_count": 3,
   "metadata": {},
   "outputs": [
    {
     "data": {
      "text/html": [
       "<div>\n",
       "<style>\n",
       "    .dataframe thead tr:only-child th {\n",
       "        text-align: right;\n",
       "    }\n",
       "\n",
       "    .dataframe thead th {\n",
       "        text-align: left;\n",
       "    }\n",
       "\n",
       "    .dataframe tbody tr th {\n",
       "        vertical-align: top;\n",
       "    }\n",
       "</style>\n",
       "<table border=\"1\" class=\"dataframe\">\n",
       "  <thead>\n",
       "    <tr style=\"text-align: right;\">\n",
       "      <th></th>\n",
       "      <th>conv_id</th>\n",
       "      <th>response</th>\n",
       "      <th>first_uid</th>\n",
       "      <th>second_uid</th>\n",
       "      <th>first_mid</th>\n",
       "      <th>second_mid</th>\n",
       "      <th>timestamp</th>\n",
       "    </tr>\n",
       "  </thead>\n",
       "  <tbody>\n",
       "    <tr>\n",
       "      <th>16296</th>\n",
       "      <td>rKdn0zblFiRVDUEmDHyQ</td>\n",
       "      <td>True</td>\n",
       "      <td>rKdn0zblFi</td>\n",
       "      <td>RVDUEmDHyQ</td>\n",
       "      <td>-KWKghvlpF67UOv-iXXO</td>\n",
       "      <td>-KWKg_ybWV4qbG02NYrb</td>\n",
       "      <td>1478906535730</td>\n",
       "    </tr>\n",
       "    <tr>\n",
       "      <th>9241</th>\n",
       "      <td>aXnWmLjpaERVDUEmDHyQ</td>\n",
       "      <td>False</td>\n",
       "      <td>aXnWmLjpaE</td>\n",
       "      <td>RVDUEmDHyQ</td>\n",
       "      <td>-KWLsSEmEJgH3bhJupE7</td>\n",
       "      <td>None</td>\n",
       "      <td>1478926390334</td>\n",
       "    </tr>\n",
       "    <tr>\n",
       "      <th>1069</th>\n",
       "      <td>8Ws3QWmC4B52lmw7KQcq</td>\n",
       "      <td>True</td>\n",
       "      <td>8Ws3QWmC4B</td>\n",
       "      <td>52lmw7KQcq</td>\n",
       "      <td>-KWPb8hd_DbLpY1eIUlT</td>\n",
       "      <td>-KWQNe2ghZCGV0aywnKp</td>\n",
       "      <td>1478988962771</td>\n",
       "    </tr>\n",
       "    <tr>\n",
       "      <th>9414</th>\n",
       "      <td>b1HYtkC11e92RR2gpmjr</td>\n",
       "      <td>False</td>\n",
       "      <td>b1HYtkC11e</td>\n",
       "      <td>92RR2gpmjr</td>\n",
       "      <td>-KWQMn5WmLIKbUOt9a0O</td>\n",
       "      <td>None</td>\n",
       "      <td>1479001715202</td>\n",
       "    </tr>\n",
       "    <tr>\n",
       "      <th>4142</th>\n",
       "      <td>KnmYDsn5Q492RR2gpmjr</td>\n",
       "      <td>False</td>\n",
       "      <td>KnmYDsn5Q4</td>\n",
       "      <td>92RR2gpmjr</td>\n",
       "      <td>-KWQNFIghvLurnI-8epo</td>\n",
       "      <td>None</td>\n",
       "      <td>1479001834795</td>\n",
       "    </tr>\n",
       "  </tbody>\n",
       "</table>\n",
       "</div>"
      ],
      "text/plain": [
       "                    conv_id response   first_uid  second_uid  \\\n",
       "16296  rKdn0zblFiRVDUEmDHyQ     True  rKdn0zblFi  RVDUEmDHyQ   \n",
       "9241   aXnWmLjpaERVDUEmDHyQ    False  aXnWmLjpaE  RVDUEmDHyQ   \n",
       "1069   8Ws3QWmC4B52lmw7KQcq     True  8Ws3QWmC4B  52lmw7KQcq   \n",
       "9414   b1HYtkC11e92RR2gpmjr    False  b1HYtkC11e  92RR2gpmjr   \n",
       "4142   KnmYDsn5Q492RR2gpmjr    False  KnmYDsn5Q4  92RR2gpmjr   \n",
       "\n",
       "                  first_mid            second_mid      timestamp  \n",
       "16296  -KWKghvlpF67UOv-iXXO  -KWKg_ybWV4qbG02NYrb  1478906535730  \n",
       "9241   -KWLsSEmEJgH3bhJupE7                  None  1478926390334  \n",
       "1069   -KWPb8hd_DbLpY1eIUlT  -KWQNe2ghZCGV0aywnKp  1478988962771  \n",
       "9414   -KWQMn5WmLIKbUOt9a0O                  None  1479001715202  \n",
       "4142   -KWQNFIghvLurnI-8epo                  None  1479001834795  "
      ]
     },
     "execution_count": 3,
     "metadata": {},
     "output_type": "execute_result"
    }
   ],
   "source": [
    "convo_df.head()"
   ]
  },
  {
   "cell_type": "markdown",
   "metadata": {},
   "source": [
    "# ECT SPLIT"
   ]
  },
  {
   "cell_type": "code",
   "execution_count": 4,
   "metadata": {},
   "outputs": [
    {
     "name": "stdout",
     "output_type": "stream",
     "text": [
      "split on:         2017-10-02 01:35:58.644000\n",
      "most recent data: 2017-10-02 01:35:58.644000\n"
     ]
    }
   ],
   "source": [
    "# find the split!\n",
    "cutoff = ms.ect_find_split(convo_df, .7)\n",
    "print(\"split on:         {}\".format(pd.to_datetime(cutoff*1000000)))\n",
    "\n",
    "# do the split!\n",
    "safe_convo_df = ms.ect_make_split(convo_df, cutoff)\n",
    "print(\"most recent data: {}\".format(pd.to_datetime(safe_convo_df.timestamp.max()*1000000)))"
   ]
  },
  {
   "cell_type": "markdown",
   "metadata": {},
   "source": [
    "# COMBINE USER AND MESSAGE FILES\n",
    "\n",
    "NB: Have to do after ECT split!"
   ]
  },
  {
   "cell_type": "code",
   "execution_count": 5,
   "metadata": {
    "scrolled": true
   },
   "outputs": [
    {
     "data": {
      "text/html": [
       "<div>\n",
       "<style>\n",
       "    .dataframe thead tr:only-child th {\n",
       "        text-align: right;\n",
       "    }\n",
       "\n",
       "    .dataframe thead th {\n",
       "        text-align: left;\n",
       "    }\n",
       "\n",
       "    .dataframe tbody tr th {\n",
       "        vertical-align: top;\n",
       "    }\n",
       "</style>\n",
       "<table border=\"1\" class=\"dataframe\">\n",
       "  <thead>\n",
       "    <tr style=\"text-align: right;\">\n",
       "      <th></th>\n",
       "      <th>messages_sent</th>\n",
       "      <th>responses_received</th>\n",
       "      <th>attractiveness</th>\n",
       "      <th>messages_received</th>\n",
       "      <th>responses_sent</th>\n",
       "      <th>selectivity</th>\n",
       "    </tr>\n",
       "  </thead>\n",
       "  <tbody>\n",
       "    <tr>\n",
       "      <th>00DMWuKDFs</th>\n",
       "      <td>0.0</td>\n",
       "      <td>0.0</td>\n",
       "      <td>0.392391</td>\n",
       "      <td>17.0</td>\n",
       "      <td>0.0</td>\n",
       "      <td>1.0</td>\n",
       "    </tr>\n",
       "    <tr>\n",
       "      <th>00kOFrnYJu</th>\n",
       "      <td>0.0</td>\n",
       "      <td>0.0</td>\n",
       "      <td>0.392391</td>\n",
       "      <td>2.0</td>\n",
       "      <td>0.0</td>\n",
       "      <td>1.0</td>\n",
       "    </tr>\n",
       "  </tbody>\n",
       "</table>\n",
       "</div>"
      ],
      "text/plain": [
       "            messages_sent  responses_received  attractiveness  \\\n",
       "00DMWuKDFs            0.0                 0.0        0.392391   \n",
       "00kOFrnYJu            0.0                 0.0        0.392391   \n",
       "\n",
       "            messages_received  responses_sent  selectivity  \n",
       "00DMWuKDFs               17.0             0.0          1.0  \n",
       "00kOFrnYJu                2.0             0.0          1.0  "
      ]
     },
     "execution_count": 5,
     "metadata": {},
     "output_type": "execute_result"
    }
   ],
   "source": [
    "# get a data table with messages sent/received for each user\n",
    "response_df = md.get_response_df(convo_df)\n",
    "response_df.head(2)"
   ]
  },
  {
   "cell_type": "code",
   "execution_count": 6,
   "metadata": {},
   "outputs": [
    {
     "data": {
      "text/html": [
       "<div>\n",
       "<style>\n",
       "    .dataframe thead tr:only-child th {\n",
       "        text-align: right;\n",
       "    }\n",
       "\n",
       "    .dataframe thead th {\n",
       "        text-align: left;\n",
       "    }\n",
       "\n",
       "    .dataframe tbody tr th {\n",
       "        vertical-align: top;\n",
       "    }\n",
       "</style>\n",
       "<table border=\"1\" class=\"dataframe\">\n",
       "  <thead>\n",
       "    <tr style=\"text-align: right;\">\n",
       "      <th></th>\n",
       "      <th>created</th>\n",
       "      <th>updated</th>\n",
       "      <th>about</th>\n",
       "      <th>has_about</th>\n",
       "      <th>len_about</th>\n",
       "      <th>available</th>\n",
       "      <th>birthday</th>\n",
       "      <th>age</th>\n",
       "      <th>collegeId</th>\n",
       "      <th>emailVerified</th>\n",
       "      <th>...</th>\n",
       "      <th>roomTypeId</th>\n",
       "      <th>smokingOk</th>\n",
       "      <th>term</th>\n",
       "      <th>work</th>\n",
       "      <th>messages_sent</th>\n",
       "      <th>responses_received</th>\n",
       "      <th>attractiveness</th>\n",
       "      <th>messages_received</th>\n",
       "      <th>responses_sent</th>\n",
       "      <th>selectivity</th>\n",
       "    </tr>\n",
       "    <tr>\n",
       "      <th>uid</th>\n",
       "      <th></th>\n",
       "      <th></th>\n",
       "      <th></th>\n",
       "      <th></th>\n",
       "      <th></th>\n",
       "      <th></th>\n",
       "      <th></th>\n",
       "      <th></th>\n",
       "      <th></th>\n",
       "      <th></th>\n",
       "      <th></th>\n",
       "      <th></th>\n",
       "      <th></th>\n",
       "      <th></th>\n",
       "      <th></th>\n",
       "      <th></th>\n",
       "      <th></th>\n",
       "      <th></th>\n",
       "      <th></th>\n",
       "      <th></th>\n",
       "      <th></th>\n",
       "    </tr>\n",
       "  </thead>\n",
       "  <tbody>\n",
       "    <tr>\n",
       "      <th>0a9yOPKFSH</th>\n",
       "      <td>2017-06-19 03:31:08</td>\n",
       "      <td>2018-01-04 21:24:41</td>\n",
       "      <td></td>\n",
       "      <td>False</td>\n",
       "      <td>0</td>\n",
       "      <td>nan</td>\n",
       "      <td>1992-01-01</td>\n",
       "      <td>26.0</td>\n",
       "      <td>NaN</td>\n",
       "      <td>1</td>\n",
       "      <td>...</td>\n",
       "      <td>2.0</td>\n",
       "      <td>0.0</td>\n",
       "      <td>12.0</td>\n",
       "      <td>SEG</td>\n",
       "      <td>7.0</td>\n",
       "      <td>2.0</td>\n",
       "      <td>0.285714</td>\n",
       "      <td>9.0</td>\n",
       "      <td>2.0</td>\n",
       "      <td>0.777778</td>\n",
       "    </tr>\n",
       "    <tr>\n",
       "      <th>0owxBbcyZ6</th>\n",
       "      <td>2017-10-12 00:32:29</td>\n",
       "      <td>2018-01-04 03:05:50</td>\n",
       "      <td></td>\n",
       "      <td>False</td>\n",
       "      <td>0</td>\n",
       "      <td>nan</td>\n",
       "      <td>1974-01-01</td>\n",
       "      <td>44.0</td>\n",
       "      <td>NaN</td>\n",
       "      <td>1</td>\n",
       "      <td>...</td>\n",
       "      <td>NaN</td>\n",
       "      <td>1.0</td>\n",
       "      <td>NaN</td>\n",
       "      <td>WA State</td>\n",
       "      <td>0.0</td>\n",
       "      <td>0.0</td>\n",
       "      <td>0.392391</td>\n",
       "      <td>7.0</td>\n",
       "      <td>0.0</td>\n",
       "      <td>1.000000</td>\n",
       "    </tr>\n",
       "  </tbody>\n",
       "</table>\n",
       "<p>2 rows × 38 columns</p>\n",
       "</div>"
      ],
      "text/plain": [
       "                       created             updated about  has_about  \\\n",
       "uid                                                                   \n",
       "0a9yOPKFSH 2017-06-19 03:31:08 2018-01-04 21:24:41            False   \n",
       "0owxBbcyZ6 2017-10-12 00:32:29 2018-01-04 03:05:50            False   \n",
       "\n",
       "            len_about available   birthday   age  collegeId  emailVerified  \\\n",
       "uid                                                                          \n",
       "0a9yOPKFSH          0       nan 1992-01-01  26.0        NaN              1   \n",
       "0owxBbcyZ6          0       nan 1974-01-01  44.0        NaN              1   \n",
       "\n",
       "               ...       roomTypeId smokingOk  term      work  messages_sent  \\\n",
       "uid            ...                                                             \n",
       "0a9yOPKFSH     ...              2.0       0.0  12.0       SEG            7.0   \n",
       "0owxBbcyZ6     ...              NaN       1.0   NaN  WA State            0.0   \n",
       "\n",
       "            responses_received  attractiveness  messages_received  \\\n",
       "uid                                                                 \n",
       "0a9yOPKFSH                 2.0        0.285714                9.0   \n",
       "0owxBbcyZ6                 0.0        0.392391                7.0   \n",
       "\n",
       "           responses_sent  selectivity  \n",
       "uid                                     \n",
       "0a9yOPKFSH            2.0     0.777778  \n",
       "0owxBbcyZ6            0.0     1.000000  \n",
       "\n",
       "[2 rows x 38 columns]"
      ]
     },
     "execution_count": 6,
     "metadata": {},
     "output_type": "execute_result"
    }
   ],
   "source": [
    "# Combine with user table\n",
    "user_df = md.get_user_data(response_df)    # currently from csv, will be from json\n",
    "\n",
    "user_df.head(2)"
   ]
  },
  {
   "cell_type": "markdown",
   "metadata": {},
   "source": [
    "# REMOVE ROWS FROM CONVOS WITH MISSING UIDS"
   ]
  },
  {
   "cell_type": "code",
   "execution_count": 8,
   "metadata": {},
   "outputs": [
    {
     "name": "stderr",
     "output_type": "stream",
     "text": [
      "/Users/gandalf/Documents/Galvanize/MatchingService/my_dataframes.py:262: SettingWithCopyWarning: \n",
      "A value is trying to be set on a copy of a slice from a DataFrame.\n",
      "Try using .loc[row_indexer,col_indexer] = value instead\n",
      "\n",
      "See the caveats in the documentation: http://pandas.pydata.org/pandas-docs/stable/indexing.html#indexing-view-versus-copy\n",
      "  df['flag1'] = df.first_uid.apply(lambda x: x not in uids)\n",
      "/Users/gandalf/Documents/Galvanize/MatchingService/my_dataframes.py:263: SettingWithCopyWarning: \n",
      "A value is trying to be set on a copy of a slice from a DataFrame.\n",
      "Try using .loc[row_indexer,col_indexer] = value instead\n",
      "\n",
      "See the caveats in the documentation: http://pandas.pydata.org/pandas-docs/stable/indexing.html#indexing-view-versus-copy\n",
      "  df['flag2'] = df.second_uid.apply(lambda x: x not in uids)\n",
      "/Users/gandalf/Documents/Galvanize/MatchingService/my_dataframes.py:264: SettingWithCopyWarning: \n",
      "A value is trying to be set on a copy of a slice from a DataFrame.\n",
      "Try using .loc[row_indexer,col_indexer] = value instead\n",
      "\n",
      "See the caveats in the documentation: http://pandas.pydata.org/pandas-docs/stable/indexing.html#indexing-view-versus-copy\n",
      "  df['flag'] = df.flag1 | df.flag2\n"
     ]
    }
   ],
   "source": [
    "safe_convo_df = md.remove_bad_uids(safe_convo_df, user_df)  "
   ]
  },
  {
   "cell_type": "code",
   "execution_count": 9,
   "metadata": {},
   "outputs": [
    {
     "data": {
      "text/html": [
       "<div>\n",
       "<style>\n",
       "    .dataframe thead tr:only-child th {\n",
       "        text-align: right;\n",
       "    }\n",
       "\n",
       "    .dataframe thead th {\n",
       "        text-align: left;\n",
       "    }\n",
       "\n",
       "    .dataframe tbody tr th {\n",
       "        vertical-align: top;\n",
       "    }\n",
       "</style>\n",
       "<table border=\"1\" class=\"dataframe\">\n",
       "  <thead>\n",
       "    <tr style=\"text-align: right;\">\n",
       "      <th></th>\n",
       "      <th>conv_id</th>\n",
       "      <th>response</th>\n",
       "      <th>first_uid</th>\n",
       "      <th>second_uid</th>\n",
       "      <th>first_mid</th>\n",
       "      <th>second_mid</th>\n",
       "      <th>timestamp</th>\n",
       "    </tr>\n",
       "  </thead>\n",
       "  <tbody>\n",
       "    <tr>\n",
       "      <th>14397</th>\n",
       "      <td>nQYG2Z9elg8Ws3QWmC4B</td>\n",
       "      <td>True</td>\n",
       "      <td>nQYG2Z9elg</td>\n",
       "      <td>8Ws3QWmC4B</td>\n",
       "      <td>-KWZ6j5vHnNWPD90JJ18</td>\n",
       "      <td>-KWUqwqvF7RfcRaEqtL6</td>\n",
       "      <td>1479148499453</td>\n",
       "    </tr>\n",
       "    <tr>\n",
       "      <th>5891</th>\n",
       "      <td>QkEYa5ZJNZ6Iol6V4bND</td>\n",
       "      <td>True</td>\n",
       "      <td>6Iol6V4bND</td>\n",
       "      <td>QkEYa5ZJNZ</td>\n",
       "      <td>-KW_4Mfb_a0bNlSYtwN0</td>\n",
       "      <td>-KW_4ID8hJs4Hw_lU81P</td>\n",
       "      <td>1479164656685</td>\n",
       "    </tr>\n",
       "    <tr>\n",
       "      <th>14184</th>\n",
       "      <td>n2ffQeQMriYL4dlYdM1W</td>\n",
       "      <td>True</td>\n",
       "      <td>YL4dlYdM1W</td>\n",
       "      <td>n2ffQeQMri</td>\n",
       "      <td>-KYLE9PvLEsrBHm36puZ</td>\n",
       "      <td>-KYLDu4jBBzdhx8VdHcD</td>\n",
       "      <td>1481063049035</td>\n",
       "    </tr>\n",
       "    <tr>\n",
       "      <th>8589</th>\n",
       "      <td>YL4dlYdM1W6Iol6V4bND</td>\n",
       "      <td>True</td>\n",
       "      <td>YL4dlYdM1W</td>\n",
       "      <td>6Iol6V4bND</td>\n",
       "      <td>-KYLEFnJYvUAIbEW4uvC</td>\n",
       "      <td>-KYLPbedA40Fz69oKze4</td>\n",
       "      <td>1481063075142</td>\n",
       "    </tr>\n",
       "    <tr>\n",
       "      <th>14404</th>\n",
       "      <td>nQYG2Z9elgn2ffQeQMri</td>\n",
       "      <td>False</td>\n",
       "      <td>n2ffQeQMri</td>\n",
       "      <td>nQYG2Z9elg</td>\n",
       "      <td>-KYLEyp9_LdGKEMioVyZ</td>\n",
       "      <td>None</td>\n",
       "      <td>1481063263841</td>\n",
       "    </tr>\n",
       "  </tbody>\n",
       "</table>\n",
       "</div>"
      ],
      "text/plain": [
       "                    conv_id response   first_uid  second_uid  \\\n",
       "14397  nQYG2Z9elg8Ws3QWmC4B     True  nQYG2Z9elg  8Ws3QWmC4B   \n",
       "5891   QkEYa5ZJNZ6Iol6V4bND     True  6Iol6V4bND  QkEYa5ZJNZ   \n",
       "14184  n2ffQeQMriYL4dlYdM1W     True  YL4dlYdM1W  n2ffQeQMri   \n",
       "8589   YL4dlYdM1W6Iol6V4bND     True  YL4dlYdM1W  6Iol6V4bND   \n",
       "14404  nQYG2Z9elgn2ffQeQMri    False  n2ffQeQMri  nQYG2Z9elg   \n",
       "\n",
       "                  first_mid            second_mid      timestamp  \n",
       "14397  -KWZ6j5vHnNWPD90JJ18  -KWUqwqvF7RfcRaEqtL6  1479148499453  \n",
       "5891   -KW_4Mfb_a0bNlSYtwN0  -KW_4ID8hJs4Hw_lU81P  1479164656685  \n",
       "14184  -KYLE9PvLEsrBHm36puZ  -KYLDu4jBBzdhx8VdHcD  1481063049035  \n",
       "8589   -KYLEFnJYvUAIbEW4uvC  -KYLPbedA40Fz69oKze4  1481063075142  \n",
       "14404  -KYLEyp9_LdGKEMioVyZ                  None  1481063263841  "
      ]
     },
     "execution_count": 9,
     "metadata": {},
     "output_type": "execute_result"
    }
   ],
   "source": [
    "safe_convo_df.head()"
   ]
  },
  {
   "cell_type": "markdown",
   "metadata": {},
   "source": [
    "# PICKLE EVERYTHING!\n",
    "\n",
    "https://www.youtube.com/watch?v=yYey8ntlK_E"
   ]
  },
  {
   "cell_type": "code",
   "execution_count": 10,
   "metadata": {
    "collapsed": true
   },
   "outputs": [],
   "source": [
    "mp.pickle_it(user_df,'data_user')\n",
    "# mp.pickle_it(message_df,'message_df')  NOT ECT SAFE!\n",
    "mp.pickle_it(safe_convo_df,'data_convo')  # make sure pickling safe stuff\n",
    "# pickle_it(lastmessage_df,'lastmessage_df') NOT ECT SAFE!"
   ]
  },
  {
   "cell_type": "code",
   "execution_count": null,
   "metadata": {
    "collapsed": true
   },
   "outputs": [],
   "source": []
  }
 ],
 "metadata": {
  "kernelspec": {
   "display_name": "Python 3",
   "language": "python",
   "name": "python3"
  },
  "language_info": {
   "codemirror_mode": {
    "name": "ipython",
    "version": 3
   },
   "file_extension": ".py",
   "mimetype": "text/x-python",
   "name": "python",
   "nbconvert_exporter": "python",
   "pygments_lexer": "ipython3",
   "version": "3.6.3"
  }
 },
 "nbformat": 4,
 "nbformat_minor": 2
}
