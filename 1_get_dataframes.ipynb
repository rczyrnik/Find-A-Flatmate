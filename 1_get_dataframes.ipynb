{
 "cells": [
  {
   "cell_type": "markdown",
   "metadata": {},
   "source": [
    "# IMPORTS"
   ]
  },
  {
   "cell_type": "code",
   "execution_count": 1,
   "metadata": {
    "collapsed": true
   },
   "outputs": [],
   "source": [
    "import pandas as pd\n",
    "\n",
    "import my_pickle as mp\n",
    "import my_split as ms\n",
    "import my_dataframes as md\n",
    "\n",
    "from importlib import reload\n",
    "\n",
    "import warnings\n",
    "warnings.filterwarnings('ignore')"
   ]
  },
  {
   "cell_type": "code",
   "execution_count": 2,
   "metadata": {},
   "outputs": [
    {
     "data": {
      "text/plain": [
       "<module 'my_dataframes' from '/Users/gandalf/Documents/Galvanize/MatchingService/my_dataframes.py'>"
      ]
     },
     "execution_count": 2,
     "metadata": {},
     "output_type": "execute_result"
    }
   ],
   "source": [
    "reload(md)"
   ]
  },
  {
   "cell_type": "markdown",
   "metadata": {},
   "source": [
    "# READ IN"
   ]
  },
  {
   "cell_type": "code",
   "execution_count": 5,
   "metadata": {},
   "outputs": [
    {
     "name": "stdout",
     "output_type": "stream",
     "text": [
      "created message dataframe\n",
      "created conversation dataframe with 0 known errors\n",
      "created last message dataframe\n",
      "created user dataframe\n"
     ]
    }
   ],
   "source": [
    "# read in message data\n",
    "message_df = md.get_message_df()\n",
    "convo_df = md.get_conversation_df(message_df)\n",
    "last_df = md.get_lastmessage_df()\n",
    "user_df = md.get_user_data()"
   ]
  },
  {
   "cell_type": "code",
   "execution_count": 6,
   "metadata": {},
   "outputs": [
    {
     "data": {
      "text/html": [
       "<div>\n",
       "<style>\n",
       "    .dataframe thead tr:only-child th {\n",
       "        text-align: right;\n",
       "    }\n",
       "\n",
       "    .dataframe thead th {\n",
       "        text-align: left;\n",
       "    }\n",
       "\n",
       "    .dataframe tbody tr th {\n",
       "        vertical-align: top;\n",
       "    }\n",
       "</style>\n",
       "<table border=\"1\" class=\"dataframe\">\n",
       "  <thead>\n",
       "    <tr style=\"text-align: right;\">\n",
       "      <th></th>\n",
       "      <th>created</th>\n",
       "      <th>has_room</th>\n",
       "      <th>updated</th>\n",
       "      <th>about</th>\n",
       "      <th>activeAt</th>\n",
       "      <th>amenities</th>\n",
       "      <th>available</th>\n",
       "      <th>birthday</th>\n",
       "      <th>college</th>\n",
       "      <th>facebookId</th>\n",
       "      <th>...</th>\n",
       "      <th>I_count</th>\n",
       "      <th>I_ratio</th>\n",
       "      <th>period_count</th>\n",
       "      <th>period_ratio</th>\n",
       "      <th>question_count</th>\n",
       "      <th>question_ratio</th>\n",
       "      <th>exclaim_count</th>\n",
       "      <th>exclaim_ratio</th>\n",
       "      <th>sentence_count</th>\n",
       "      <th>sentence_ratio</th>\n",
       "    </tr>\n",
       "    <tr>\n",
       "      <th>uid</th>\n",
       "      <th></th>\n",
       "      <th></th>\n",
       "      <th></th>\n",
       "      <th></th>\n",
       "      <th></th>\n",
       "      <th></th>\n",
       "      <th></th>\n",
       "      <th></th>\n",
       "      <th></th>\n",
       "      <th></th>\n",
       "      <th></th>\n",
       "      <th></th>\n",
       "      <th></th>\n",
       "      <th></th>\n",
       "      <th></th>\n",
       "      <th></th>\n",
       "      <th></th>\n",
       "      <th></th>\n",
       "      <th></th>\n",
       "      <th></th>\n",
       "      <th></th>\n",
       "    </tr>\n",
       "  </thead>\n",
       "  <tbody>\n",
       "    <tr>\n",
       "      <th>00yWCOsIvK</th>\n",
       "      <td>2017-03-13 19:52:14.656</td>\n",
       "      <td>False</td>\n",
       "      <td>2018-01-12 23:08:47.553</td>\n",
       "      <td></td>\n",
       "      <td>2017-05-31 14:36:52.153</td>\n",
       "      <td>[Laundry]</td>\n",
       "      <td>NaT</td>\n",
       "      <td>1986-01-01 00:00:00</td>\n",
       "      <td>Academy of Art University</td>\n",
       "      <td>False</td>\n",
       "      <td>...</td>\n",
       "      <td>0</td>\n",
       "      <td>NaN</td>\n",
       "      <td>0</td>\n",
       "      <td>NaN</td>\n",
       "      <td>0</td>\n",
       "      <td>NaN</td>\n",
       "      <td>0</td>\n",
       "      <td>NaN</td>\n",
       "      <td>0</td>\n",
       "      <td>NaN</td>\n",
       "    </tr>\n",
       "    <tr>\n",
       "      <th>01Kc0ZYNae</th>\n",
       "      <td>2017-03-11 00:22:49.100</td>\n",
       "      <td>False</td>\n",
       "      <td>2018-01-12 23:08:51.185</td>\n",
       "      <td></td>\n",
       "      <td>NaT</td>\n",
       "      <td>[A/C, Dishwasher, Laundry]</td>\n",
       "      <td>NaT</td>\n",
       "      <td>1993-01-01 00:00:00</td>\n",
       "      <td>University of Arizona</td>\n",
       "      <td>True</td>\n",
       "      <td>...</td>\n",
       "      <td>0</td>\n",
       "      <td>NaN</td>\n",
       "      <td>0</td>\n",
       "      <td>NaN</td>\n",
       "      <td>0</td>\n",
       "      <td>NaN</td>\n",
       "      <td>0</td>\n",
       "      <td>NaN</td>\n",
       "      <td>0</td>\n",
       "      <td>NaN</td>\n",
       "    </tr>\n",
       "    <tr>\n",
       "      <th>01mfWG4vUm</th>\n",
       "      <td>2017-02-08 12:01:19.847</td>\n",
       "      <td>False</td>\n",
       "      <td>2018-01-12 23:08:54.367</td>\n",
       "      <td></td>\n",
       "      <td>2017-04-07 04:00:21.540</td>\n",
       "      <td>[Laundry]</td>\n",
       "      <td>NaT</td>\n",
       "      <td>1992-01-01 00:00:00</td>\n",
       "      <td>San Francisco State University</td>\n",
       "      <td>True</td>\n",
       "      <td>...</td>\n",
       "      <td>0</td>\n",
       "      <td>NaN</td>\n",
       "      <td>0</td>\n",
       "      <td>NaN</td>\n",
       "      <td>0</td>\n",
       "      <td>NaN</td>\n",
       "      <td>0</td>\n",
       "      <td>NaN</td>\n",
       "      <td>0</td>\n",
       "      <td>NaN</td>\n",
       "    </tr>\n",
       "    <tr>\n",
       "      <th>02GDyQPLII</th>\n",
       "      <td>2017-02-28 02:59:07.884</td>\n",
       "      <td>False</td>\n",
       "      <td>2018-01-12 23:08:59.864</td>\n",
       "      <td></td>\n",
       "      <td>NaT</td>\n",
       "      <td>[Parking, Laundry]</td>\n",
       "      <td>NaT</td>\n",
       "      <td>1997-02-18 21:00:00</td>\n",
       "      <td>University of San Francisco</td>\n",
       "      <td>True</td>\n",
       "      <td>...</td>\n",
       "      <td>0</td>\n",
       "      <td>NaN</td>\n",
       "      <td>0</td>\n",
       "      <td>NaN</td>\n",
       "      <td>0</td>\n",
       "      <td>NaN</td>\n",
       "      <td>0</td>\n",
       "      <td>NaN</td>\n",
       "      <td>0</td>\n",
       "      <td>NaN</td>\n",
       "    </tr>\n",
       "    <tr>\n",
       "      <th>04yEQfqfiB</th>\n",
       "      <td>2017-03-12 16:01:40.628</td>\n",
       "      <td>False</td>\n",
       "      <td>2018-01-12 23:09:03.164</td>\n",
       "      <td></td>\n",
       "      <td>NaT</td>\n",
       "      <td>[Laundry]</td>\n",
       "      <td>NaT</td>\n",
       "      <td>1994-01-01 00:00:00</td>\n",
       "      <td>Mission College</td>\n",
       "      <td>False</td>\n",
       "      <td>...</td>\n",
       "      <td>0</td>\n",
       "      <td>NaN</td>\n",
       "      <td>0</td>\n",
       "      <td>NaN</td>\n",
       "      <td>0</td>\n",
       "      <td>NaN</td>\n",
       "      <td>0</td>\n",
       "      <td>NaN</td>\n",
       "      <td>0</td>\n",
       "      <td>NaN</td>\n",
       "    </tr>\n",
       "  </tbody>\n",
       "</table>\n",
       "<p>5 rows × 45 columns</p>\n",
       "</div>"
      ],
      "text/plain": [
       "                           created  has_room                 updated about  \\\n",
       "uid                                                                          \n",
       "00yWCOsIvK 2017-03-13 19:52:14.656     False 2018-01-12 23:08:47.553         \n",
       "01Kc0ZYNae 2017-03-11 00:22:49.100     False 2018-01-12 23:08:51.185         \n",
       "01mfWG4vUm 2017-02-08 12:01:19.847     False 2018-01-12 23:08:54.367         \n",
       "02GDyQPLII 2017-02-28 02:59:07.884     False 2018-01-12 23:08:59.864         \n",
       "04yEQfqfiB 2017-03-12 16:01:40.628     False 2018-01-12 23:09:03.164         \n",
       "\n",
       "                          activeAt                   amenities available  \\\n",
       "uid                                                                        \n",
       "00yWCOsIvK 2017-05-31 14:36:52.153                   [Laundry]       NaT   \n",
       "01Kc0ZYNae                     NaT  [A/C, Dishwasher, Laundry]       NaT   \n",
       "01mfWG4vUm 2017-04-07 04:00:21.540                   [Laundry]       NaT   \n",
       "02GDyQPLII                     NaT          [Parking, Laundry]       NaT   \n",
       "04yEQfqfiB                     NaT                   [Laundry]       NaT   \n",
       "\n",
       "                      birthday                          college  facebookId  \\\n",
       "uid                                                                           \n",
       "00yWCOsIvK 1986-01-01 00:00:00        Academy of Art University       False   \n",
       "01Kc0ZYNae 1993-01-01 00:00:00            University of Arizona        True   \n",
       "01mfWG4vUm 1992-01-01 00:00:00  San Francisco State University         True   \n",
       "02GDyQPLII 1997-02-18 21:00:00      University of San Francisco        True   \n",
       "04yEQfqfiB 1994-01-01 00:00:00                  Mission College       False   \n",
       "\n",
       "                 ...       I_count I_ratio period_count period_ratio  \\\n",
       "uid              ...                                                   \n",
       "00yWCOsIvK       ...             0     NaN            0          NaN   \n",
       "01Kc0ZYNae       ...             0     NaN            0          NaN   \n",
       "01mfWG4vUm       ...             0     NaN            0          NaN   \n",
       "02GDyQPLII       ...             0     NaN            0          NaN   \n",
       "04yEQfqfiB       ...             0     NaN            0          NaN   \n",
       "\n",
       "           question_count  question_ratio  exclaim_count  exclaim_ratio  \\\n",
       "uid                                                                       \n",
       "00yWCOsIvK              0             NaN              0            NaN   \n",
       "01Kc0ZYNae              0             NaN              0            NaN   \n",
       "01mfWG4vUm              0             NaN              0            NaN   \n",
       "02GDyQPLII              0             NaN              0            NaN   \n",
       "04yEQfqfiB              0             NaN              0            NaN   \n",
       "\n",
       "            sentence_count  sentence_ratio  \n",
       "uid                                         \n",
       "00yWCOsIvK               0             NaN  \n",
       "01Kc0ZYNae               0             NaN  \n",
       "01mfWG4vUm               0             NaN  \n",
       "02GDyQPLII               0             NaN  \n",
       "04yEQfqfiB               0             NaN  \n",
       "\n",
       "[5 rows x 45 columns]"
      ]
     },
     "execution_count": 6,
     "metadata": {},
     "output_type": "execute_result"
    }
   ],
   "source": [
    "user_df.head()"
   ]
  },
  {
   "cell_type": "markdown",
   "metadata": {},
   "source": [
    "# ECT SPLIT"
   ]
  },
  {
   "cell_type": "code",
   "execution_count": 7,
   "metadata": {},
   "outputs": [
    {
     "name": "stdout",
     "output_type": "stream",
     "text": [
      "split on:                      2017-10-02 01:35:58.644000\n",
      "most recent convo data:        2017-10-02 01:35:58.644000\n",
      "most recent message data:      2017-10-02 01:35:58.644000\n"
     ]
    }
   ],
   "source": [
    "# find the split!\n",
    "cutoff = ms.ect_find_split(convo_df, .7)\n",
    "print(\"split on:                      {}\".format(pd.to_datetime(cutoff*1000000)))\n",
    "\n",
    "# do the split!\n",
    "safe_convo_df = ms.ect_make_split(convo_df, cutoff)\n",
    "print(\"most recent convo data:        {}\".format(pd.to_datetime(safe_convo_df.timestamp.max()*1000000)))\n",
    "\n",
    "safe_message_df = ms.ect_make_split(message_df, cutoff)\n",
    "print(\"most recent message data:      {}\".format(pd.to_datetime(safe_message_df.timestamp.max()*1000000)))\n",
    "\n",
    "# safe_lastmessage_df = ms.ect_make_split(last_df, cutoff)\n",
    "# print(\"most recent last message data: {}\".format(pd.to_datetime(safe_lastmessage_df.timestamp.max()*1000000)))"
   ]
  },
  {
   "cell_type": "markdown",
   "metadata": {},
   "source": [
    "# REMOVE ROWS FROM CONVOS WITH MISSING UIDS"
   ]
  },
  {
   "cell_type": "code",
   "execution_count": 8,
   "metadata": {},
   "outputs": [
    {
     "name": "stdout",
     "output_type": "stream",
     "text": [
      "467 rows dropped\n"
     ]
    }
   ],
   "source": [
    "safe_convo_df = md.remove_bad_uids(safe_convo_df, user_df)  "
   ]
  },
  {
   "cell_type": "markdown",
   "metadata": {},
   "source": [
    "# PICKLE EVERYTHING!\n",
    "\n",
    "https://www.youtube.com/watch?v=yYey8ntlK_E"
   ]
  },
  {
   "cell_type": "code",
   "execution_count": 9,
   "metadata": {
    "collapsed": true,
    "scrolled": true
   },
   "outputs": [],
   "source": [
    "mp.json_it(user_df,'data_user')\n",
    "mp.json_it(safe_message_df,'data_message')  \n",
    "mp.json_it(safe_convo_df,'data_convo')  \n",
    "# mp.json_it(lastmessage_df,'lastmessage_df')"
   ]
  },
  {
   "cell_type": "code",
   "execution_count": null,
   "metadata": {
    "collapsed": true
   },
   "outputs": [],
   "source": []
  }
 ],
 "metadata": {
  "kernelspec": {
   "display_name": "Python 3",
   "language": "python",
   "name": "python3"
  },
  "language_info": {
   "codemirror_mode": {
    "name": "ipython",
    "version": 3
   },
   "file_extension": ".py",
   "mimetype": "text/x-python",
   "name": "python",
   "nbconvert_exporter": "python",
   "pygments_lexer": "ipython3",
   "version": "3.6.3"
  }
 },
 "nbformat": 4,
 "nbformat_minor": 2
}
