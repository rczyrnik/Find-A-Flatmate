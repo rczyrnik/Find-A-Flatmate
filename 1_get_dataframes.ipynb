{
 "cells": [
  {
   "cell_type": "markdown",
   "metadata": {},
   "source": [
    "# IMPORTS"
   ]
  },
  {
   "cell_type": "code",
   "execution_count": 15,
   "metadata": {
    "collapsed": true
   },
   "outputs": [],
   "source": [
    "import pandas as pd\n",
    "\n",
    "import my_pickle as mp\n",
    "import my_split as ms\n",
    "import my_dataframes as md\n",
    "\n",
    "from importlib import reload\n",
    "\n",
    "import warnings\n",
    "warnings.filterwarnings('ignore')"
   ]
  },
  {
   "cell_type": "code",
   "execution_count": 23,
   "metadata": {},
   "outputs": [
    {
     "data": {
      "text/plain": [
       "<module 'my_pickle' from '/Users/gandalf/Documents/Galvanize/MatchingService/my_pickle.py'>"
      ]
     },
     "execution_count": 23,
     "metadata": {},
     "output_type": "execute_result"
    }
   ],
   "source": [
    "reload(mp)"
   ]
  },
  {
   "cell_type": "markdown",
   "metadata": {},
   "source": [
    "# READ IN"
   ]
  },
  {
   "cell_type": "code",
   "execution_count": 17,
   "metadata": {},
   "outputs": [
    {
     "name": "stdout",
     "output_type": "stream",
     "text": [
      "created message dataframe\n",
      "created conversation dataframe with 0 known errors\n",
      "created last message dataframe\n",
      "created user dataframe\n"
     ]
    }
   ],
   "source": [
    "# read in message data\n",
    "message_df = md.get_message_df()\n",
    "convo_df = md.get_conversation_df(message_df)\n",
    "last_df = md.get_lastmessage_df()\n",
    "user_df = md.get_user_data()"
   ]
  },
  {
   "cell_type": "markdown",
   "metadata": {},
   "source": [
    "# ECT SPLIT"
   ]
  },
  {
   "cell_type": "code",
   "execution_count": 18,
   "metadata": {},
   "outputs": [
    {
     "name": "stdout",
     "output_type": "stream",
     "text": [
      "split on:         2017-10-02 01:35:58.644000\n",
      "most recent data: 2017-10-02 01:35:58.644000\n"
     ]
    }
   ],
   "source": [
    "# find the split!\n",
    "cutoff = ms.ect_find_split(convo_df, .7)\n",
    "print(\"split on:         {}\".format(pd.to_datetime(cutoff*1000000)))\n",
    "\n",
    "# do the split!\n",
    "safe_convo_df = ms.ect_make_split(convo_df, cutoff)\n",
    "print(\"most recent data: {}\".format(pd.to_datetime(safe_convo_df.timestamp.max()*1000000)))"
   ]
  },
  {
   "cell_type": "markdown",
   "metadata": {},
   "source": [
    "# REMOVE ROWS FROM CONVOS WITH MISSING UIDS"
   ]
  },
  {
   "cell_type": "code",
   "execution_count": 20,
   "metadata": {},
   "outputs": [
    {
     "name": "stdout",
     "output_type": "stream",
     "text": [
      "0 rows dropped\n"
     ]
    }
   ],
   "source": [
    "safe_convo_df = md.remove_bad_uids(safe_convo_df, user_df)  "
   ]
  },
  {
   "cell_type": "markdown",
   "metadata": {},
   "source": [
    "# PICKLE EVERYTHING!\n",
    "\n",
    "https://www.youtube.com/watch?v=yYey8ntlK_E"
   ]
  },
  {
   "cell_type": "code",
   "execution_count": 24,
   "metadata": {},
   "outputs": [],
   "source": [
    "mp.json_it(user_df,'data_user')\n",
    "# mp.pickle_it(message_df,'message_df')  NOT ECT SAFE!\n",
    "mp.json_it(safe_convo_df,'data_convo')  # make sure pickling safe stuff\n",
    "# pickle_it(lastmessage_df,'lastmessage_df') NOT ECT SAFE!"
   ]
  },
  {
   "cell_type": "code",
   "execution_count": null,
   "metadata": {
    "collapsed": true
   },
   "outputs": [],
   "source": []
  },
  {
   "cell_type": "code",
   "execution_count": null,
   "metadata": {
    "collapsed": true
   },
   "outputs": [],
   "source": []
  },
  {
   "cell_type": "code",
   "execution_count": null,
   "metadata": {
    "collapsed": true
   },
   "outputs": [],
   "source": []
  },
  {
   "cell_type": "code",
   "execution_count": null,
   "metadata": {
    "collapsed": true
   },
   "outputs": [],
   "source": []
  },
  {
   "cell_type": "markdown",
   "metadata": {},
   "source": [
    "# SCRATCH"
   ]
  },
  {
   "cell_type": "code",
   "execution_count": 27,
   "metadata": {
    "collapsed": true
   },
   "outputs": [],
   "source": [
    "def my_to_datetime(x):\n",
    "    if isinstance(x, dict):\n",
    "        try:\n",
    "            return pd.to_datetime(x['$date'])\n",
    "        except:\n",
    "            return None\n",
    "    else:\n",
    "        return None"
   ]
  },
  {
   "cell_type": "code",
   "execution_count": 25,
   "metadata": {
    "collapsed": true
   },
   "outputs": [],
   "source": [
    "def get_user_data():\n",
    "\n",
    "    # read in json as dataframe\n",
    "    filename = \"/Users/gandalf/Documents/data/data_users.json\"\n",
    "    df = pd.read_json(filename)\n",
    "\n",
    "\n",
    "    df = df.rename(index=str, columns={\"_created_at\": \"created\",\n",
    "                                       \"_updated_at\": \"updated\",\n",
    "                                       \"_p_room\"    : \"has_room\",\n",
    "                                       \"_id\"        : \"uid\"})\n",
    "    df = df.set_index('uid')\n",
    "\n",
    "    # change dates from strings to date times\n",
    "    df.created = df.created.apply(lambda x: my_to_datetime(x))\n",
    "    df.updated = df.updated.apply(lambda x: my_to_datetime(x))\n",
    "    df.activeAt = df.activeAt.apply(lambda x: my_to_datetime(x))\n",
    "    df.available = df.available.apply(lambda x: my_to_datetime(x))\n",
    "    df.birthday = df.birthday.apply(lambda x: my_to_datetime(x))\n",
    "    df['age'] = 2018-df['birthday'].apply(lambda x: x.year)\n",
    "\n",
    "#     drop unused columns (dealt with implicitly when rearrange columns\n",
    "    # col_to_drop = ['_acl','_auth_data_facebook','_hashed_password','_rperm','_wperm','blocked','email','emailVerified','firstName',\n",
    "    #                   'foundRoommate','groupChat','hometown','hometownCounty','likes','lastName','positions','recommended','username']\n",
    "    # df = df.drop(col_to_drop, axis = 1)\n",
    "\n",
    "    # fill in na values\n",
    "    df = df.fillna({'about':''})\n",
    "\n",
    "\n",
    "    # create new features\n",
    "    df['len_about'] = df.about.apply(lambda x: len(x))\n",
    "    df['has_about'] = df.len_about > 0\n",
    "    df.has_room = df.has_room.apply(lambda x: isinstance(x,str))\n",
    "    df.facebookId = df.facebookId.apply(lambda x: isinstance(x,str))\n",
    "    df.linkedinId = df.linkedinId.apply(lambda x: isinstance(x,str))\n",
    "    df.picture = df.picture.apply(lambda x: isinstance(x,str))\n",
    "\n",
    "\n",
    "    # reformat df by renaming and moving around columns\n",
    "    df = df[['created', 'updated', 'activeAt', 'available', # dates\n",
    "             'about', 'has_about', 'len_about',            # about\n",
    "             'birthday', 'age', 'gender', 'location', 'work',      # demographic\n",
    "             'hometownCity', 'hometownCountry', 'hometownState',     # more demographic\n",
    "             'college', 'facebookId','linkedinId', 'picture',        # engagement\n",
    "             'maxCost', 'minCost', 'neighborhoods', 'numRoommates', 'term', 'type', 'has_room',  # room basics\n",
    "             'amenities', 'hobbies',                                              # room not boolean\n",
    "             'inRelationship', 'isClean', 'isNight', 'isStudent', 'petsOk', 'smokingOk',   # room boolean\n",
    "             'onboarded',]]\n",
    "\n",
    "    # df = df.join(response_df)\n",
    "    #\n",
    "    # average_attractiveness = response_df[response_df.attractiveness > 0].mean()['attractiveness']\n",
    "    # average_responsiveness = response_df[response_df.responsiveness > 0].mean()['responsiveness']\n",
    "    #\n",
    "    # df = df.fillna({'messages_sent' : 0,'responses_received': 0,'attractiveness':average_attractiveness,\n",
    "    #                           'messages_received': 0,'responses_sent': 0, 'responsiveness':average_responsiveness})\n",
    "\n",
    "    print(\"created user dataframe\")\n",
    "\n",
    "    return df"
   ]
  },
  {
   "cell_type": "code",
   "execution_count": 28,
   "metadata": {},
   "outputs": [
    {
     "name": "stdout",
     "output_type": "stream",
     "text": [
      "created user dataframe\n"
     ]
    }
   ],
   "source": [
    "df = get_user_data()"
   ]
  },
  {
   "cell_type": "code",
   "execution_count": null,
   "metadata": {
    "collapsed": true
   },
   "outputs": [],
   "source": []
  }
 ],
 "metadata": {
  "kernelspec": {
   "display_name": "Python 3",
   "language": "python",
   "name": "python3"
  },
  "language_info": {
   "codemirror_mode": {
    "name": "ipython",
    "version": 3
   },
   "file_extension": ".py",
   "mimetype": "text/x-python",
   "name": "python",
   "nbconvert_exporter": "python",
   "pygments_lexer": "ipython3",
   "version": "3.6.3"
  }
 },
 "nbformat": 4,
 "nbformat_minor": 2
}
