{
 "cells": [
  {
   "cell_type": "code",
   "execution_count": 1,
   "metadata": {
    "collapsed": true
   },
   "outputs": [],
   "source": [
    "# # BASICS\n",
    "# from time import time\n",
    "# import pandas as pd\n",
    "import numpy as np\n",
    "# import matplotlib.pyplot as plt\n",
    "\n",
    "# HELPER FUNCTIONS\n",
    "import my_functions as mf\n",
    "\n",
    "# CLASSIFIERS\n",
    "from sklearn.ensemble import GradientBoostingClassifier\n",
    "\n",
    "# GRID SEARCHING\n",
    "from sklearn.model_selection import RandomizedSearchCV\n",
    "\n",
    "# WARNINGS\n",
    "import warnings\n",
    "warnings.filterwarnings('ignore')"
   ]
  },
  {
   "cell_type": "markdown",
   "metadata": {},
   "source": [
    "# Create Dict to Hold Dataframse"
   ]
  },
  {
   "cell_type": "code",
   "execution_count": 2,
   "metadata": {
    "collapsed": true
   },
   "outputs": [],
   "source": [
    "# ed holds the searches in case I want to refer to one later\n",
    "ed = {}\n",
    "\n",
    "# random_forest_grid keeps track of the best grid search parmeters\n",
    "random_forest_grid = {}"
   ]
  },
  {
   "cell_type": "markdown",
   "metadata": {},
   "source": [
    "# Read Data"
   ]
  },
  {
   "cell_type": "code",
   "execution_count": 3,
   "metadata": {
    "collapsed": true
   },
   "outputs": [],
   "source": [
    "X_train, X_test, y_train, y_test, cols = mf.load_arrays(True)"
   ]
  },
  {
   "cell_type": "markdown",
   "metadata": {},
   "source": [
    "# loss"
   ]
  },
  {
   "cell_type": "code",
   "execution_count": 4,
   "metadata": {
    "collapsed": true
   },
   "outputs": [],
   "source": [
    "parameter = \"loss\"\n",
    "values = ['deviance', 'exponential']"
   ]
  },
  {
   "cell_type": "code",
   "execution_count": 5,
   "metadata": {},
   "outputs": [
    {
     "name": "stdout",
     "output_type": "stream",
     "text": [
      "CPU times: user 18 s, sys: 75.9 ms, total: 18.1 s\n",
      "Wall time: 18.2 s\n"
     ]
    }
   ],
   "source": [
    "%%time\n",
    "\n",
    "ed[parameter] = mf.gridsearching(\n",
    "        GradientBoostingClassifier(),         # Our model\n",
    "        {parameter: values},                  # Values for that parameter\n",
    "        X_train, y_train                      # Data to search\n",
    ")"
   ]
  },
  {
   "cell_type": "code",
   "execution_count": 6,
   "metadata": {},
   "outputs": [
    {
     "name": "stdout",
     "output_type": "stream",
     "text": [
      "Best f1 score:  0.147784570077\n"
     ]
    },
    {
     "data": {
      "image/png": "[encoded data removed]",
      "text/plain": [
       "<matplotlib.figure.Figure at 0x1a12cf1630>"
      ]
     },
     "metadata": {},
     "output_type": "display_data"
    }
   ],
   "source": [
    "print(\"Best f1 score: \", ed[parameter].mean_test_score.max())\n",
    "mf.plot_bar(ed[parameter], parameter) "
   ]
  },
  {
   "cell_type": "code",
   "execution_count": null,
   "metadata": {
    "collapsed": true
   },
   "outputs": [],
   "source": [
    "# CONCLUSION: deviance is better and it's default. no action needed"
   ]
  },
  {
   "cell_type": "markdown",
   "metadata": {},
   "source": [
    "# learning rate"
   ]
  },
  {
   "cell_type": "code",
   "execution_count": null,
   "metadata": {
    "collapsed": true
   },
   "outputs": [],
   "source": [
    "parameter = \"learning_rate\"\n",
    "values = np.arange(.1, 2.1, .1)"
   ]
  },
  {
   "cell_type": "code",
   "execution_count": null,
   "metadata": {},
   "outputs": [],
   "source": [
    "%%time\n",
    "ed[parameter] = mf.gridsearching(\n",
    "        GradientBoostingClassifier(),         # Our model\n",
    "        {parameter: values},                  # Values for that parameter\n",
    "        X_train, y_train                      # Data to search\n",
    ")"
   ]
  },
  {
   "cell_type": "code",
   "execution_count": null,
   "metadata": {},
   "outputs": [],
   "source": [
    "print(\"Best f1 score: \", ed[parameter].mean_test_score.max())\n",
    "\n",
    "plot_bar(ed[parameter], parameter, .1) \n",
    "plot_line(ed[parameter], parameter)"
   ]
  },
  {
   "cell_type": "code",
   "execution_count": null,
   "metadata": {
    "collapsed": true
   },
   "outputs": [],
   "source": [
    "# CONCLUSION: Higher learning rates do better, but not too high. After .8 it goes berserk.\n",
    "\n",
    "gradient_boosting_grid['learning_rate']=np.arange(.4, .9, .1)"
   ]
  },
  {
   "cell_type": "markdown",
   "metadata": {},
   "source": [
    "# n_estimators"
   ]
  },
  {
   "cell_type": "code",
   "execution_count": null,
   "metadata": {},
   "outputs": [],
   "source": [
    "%%time\n",
    "\n",
    "parameter = \"n_estimators\"\n",
    "values = np.arange(10, 500, 20)\n",
    "\n",
    "ed[parameter] = gridsearching(\n",
    "        GradientBoostingClassifier(),         # Our model\n",
    "        parameter,                            # Parameter to look at\n",
    "        {parameter: values}                   # Values for that parameter\n",
    ")\n",
    "\n",
    "print(\"Best f1 score: \", ed[parameter].mean_test_score.max())\n",
    "\n",
    "plot_line(ed[parameter], parameter) "
   ]
  },
  {
   "cell_type": "code",
   "execution_count": null,
   "metadata": {},
   "outputs": [],
   "source": [
    "df = ed[parameter].copy()\n",
    "plt.bar(df.param_n_estimators, df.mean_fit_time, 10, yerr=df.std_fit_time)\n",
    "plt.show()"
   ]
  },
  {
   "cell_type": "code",
   "execution_count": null,
   "metadata": {
    "collapsed": true
   },
   "outputs": [],
   "source": [
    "# CONCLUSION more is better\n",
    "\n",
    "gradient_boosting_grid['n_estimators']=[300]"
   ]
  },
  {
   "cell_type": "markdown",
   "metadata": {},
   "source": [
    "# max_depth"
   ]
  },
  {
   "cell_type": "code",
   "execution_count": null,
   "metadata": {
    "collapsed": true
   },
   "outputs": [],
   "source": [
    "parameter = \"max_depth\"\n",
    "values = np.arange(1, 200, 10)"
   ]
  },
  {
   "cell_type": "code",
   "execution_count": null,
   "metadata": {},
   "outputs": [],
   "source": [
    "%%time\n",
    "\n",
    "ed[parameter] = gridsearching(\n",
    "        GradientBoostingClassifier(),         # Our model\n",
    "        parameter,                            # Parameter to look at\n",
    "        {parameter: values}                   # Values for that parameter\n",
    ")\n",
    "\n",
    "print(\"Best f1 score: \", ed[parameter].mean_test_score.max())"
   ]
  },
  {
   "cell_type": "code",
   "execution_count": null,
   "metadata": {},
   "outputs": [],
   "source": [
    "# Plot\n",
    "plot_line(ed[parameter], parameter) "
   ]
  },
  {
   "cell_type": "code",
   "execution_count": null,
   "metadata": {
    "collapsed": true
   },
   "outputs": [],
   "source": [
    "'''\n",
    "CONCLUSION: 25 is a nice number\n",
    "            '''\n",
    "gradient_boosting_grid[\"max_depth\"]= np.arange(10, 50, 10)\n"
   ]
  },
  {
   "cell_type": "markdown",
   "metadata": {},
   "source": [
    "# min_samples_split"
   ]
  },
  {
   "cell_type": "code",
   "execution_count": null,
   "metadata": {
    "collapsed": true
   },
   "outputs": [],
   "source": [
    "parameter = \"min_samples_split\"\n",
    "values = np.arange(10, 110, 10)"
   ]
  },
  {
   "cell_type": "code",
   "execution_count": null,
   "metadata": {},
   "outputs": [],
   "source": [
    "%%time\n",
    "\n",
    "ed[parameter] = gridsearching(\n",
    "        GradientBoostingClassifier(),         # Our model\n",
    "        parameter,                            # Parameter to look at\n",
    "        {parameter: values}                   # Values for that parameter\n",
    ")\n",
    "\n",
    "print(\"Best f1 score: \", ed[parameter].mean_test_score.max())"
   ]
  },
  {
   "cell_type": "code",
   "execution_count": null,
   "metadata": {},
   "outputs": [],
   "source": [
    "# Plot\n",
    "plot_bar(ed[parameter], parameter, 10) "
   ]
  },
  {
   "cell_type": "code",
   "execution_count": null,
   "metadata": {
    "collapsed": true
   },
   "outputs": [],
   "source": [
    "'''\n",
    "CONCLUSION: doesn't seem to do much\n",
    "            ''';"
   ]
  },
  {
   "cell_type": "markdown",
   "metadata": {},
   "source": [
    "# min_samples_leaf"
   ]
  },
  {
   "cell_type": "code",
   "execution_count": null,
   "metadata": {
    "collapsed": true
   },
   "outputs": [],
   "source": [
    "parameter = \"min_samples_leaf\"\n",
    "values = np.arange(1, 100, 1)"
   ]
  },
  {
   "cell_type": "code",
   "execution_count": null,
   "metadata": {},
   "outputs": [],
   "source": [
    "%%time\n",
    "\n",
    "ed[parameter] = gridsearching(\n",
    "        GradientBoostingClassifier(),         # Our model\n",
    "        parameter,                            # Parameter to look at\n",
    "        {parameter: values}                   # Values for that parameter\n",
    ")"
   ]
  },
  {
   "cell_type": "code",
   "execution_count": null,
   "metadata": {},
   "outputs": [],
   "source": [
    "# Plot\n",
    "plot_bar(ed[parameter], parameter) "
   ]
  },
  {
   "cell_type": "code",
   "execution_count": null,
   "metadata": {
    "collapsed": true
   },
   "outputs": [],
   "source": [
    "'''\n",
    "CONCLUSION: 7 to 15 seems marginally better?\n",
    "            '''\n",
    "\n",
    "gradient_boosting_grid[\"min_samples_leaf\"]= range(1, 15)\n"
   ]
  },
  {
   "cell_type": "markdown",
   "metadata": {},
   "source": [
    "# min_impurity_decrease"
   ]
  },
  {
   "cell_type": "code",
   "execution_count": null,
   "metadata": {
    "collapsed": true
   },
   "outputs": [],
   "source": [
    "parameter = \"min_impurity_decrease\"\n",
    "values = np.arange(.1, 1, .1)"
   ]
  },
  {
   "cell_type": "code",
   "execution_count": null,
   "metadata": {},
   "outputs": [],
   "source": [
    "%%time\n",
    "\n",
    "ed[parameter] = gridsearching(\n",
    "        GradientBoostingClassifier(),         # Our model\n",
    "        parameter,                            # Parameter to look at\n",
    "        {parameter: values}                   # Values for that parameter\n",
    ")"
   ]
  },
  {
   "cell_type": "code",
   "execution_count": null,
   "metadata": {},
   "outputs": [],
   "source": [
    "# Plot\n",
    "plot_bar(ed[parameter], parameter, .1) "
   ]
  },
  {
   "cell_type": "code",
   "execution_count": null,
   "metadata": {
    "collapsed": true
   },
   "outputs": [],
   "source": [
    "'''\n",
    "CONCLUSION: Leave at default (0)\n",
    "            ''';"
   ]
  },
  {
   "cell_type": "markdown",
   "metadata": {},
   "source": [
    "# max_leaf_nodes"
   ]
  },
  {
   "cell_type": "code",
   "execution_count": null,
   "metadata": {
    "collapsed": true
   },
   "outputs": [],
   "source": [
    "parameter = \"max_leaf_nodes\"\n",
    "values = np.arange(2, 100, 10)"
   ]
  },
  {
   "cell_type": "code",
   "execution_count": null,
   "metadata": {},
   "outputs": [],
   "source": [
    "%%time\n",
    "\n",
    "ed[parameter] = gridsearching(\n",
    "        GradientBoostingClassifier(),         # Our model\n",
    "        parameter,                            # Parameter to look at\n",
    "        {parameter: values}                   # Values for that parameter\n",
    ")"
   ]
  },
  {
   "cell_type": "code",
   "execution_count": null,
   "metadata": {},
   "outputs": [],
   "source": [
    "# Plot\n",
    "plot_bar(ed[parameter], parameter, 10) "
   ]
  },
  {
   "cell_type": "code",
   "execution_count": null,
   "metadata": {
    "collapsed": true
   },
   "outputs": [],
   "source": [
    "'''\n",
    "CONCLUSION: Leave at default (None)\n",
    "            ''';"
   ]
  },
  {
   "cell_type": "code",
   "execution_count": null,
   "metadata": {},
   "outputs": [],
   "source": [
    "gradient_boosting_grid"
   ]
  },
  {
   "cell_type": "code",
   "execution_count": null,
   "metadata": {
    "collapsed": true
   },
   "outputs": [],
   "source": []
  }
 ],
 "metadata": {
  "kernelspec": {
   "display_name": "Python 3",
   "language": "python",
   "name": "python3"
  },
  "language_info": {
   "codemirror_mode": {
    "name": "ipython",
    "version": 3
   },
   "file_extension": ".py",
   "mimetype": "text/x-python",
   "name": "python",
   "nbconvert_exporter": "python",
   "pygments_lexer": "ipython3",
   "version": "3.6.3"
  }
 },
 "nbformat": 4,
 "nbformat_minor": 2
}
