{
 "cells": [
  {
   "cell_type": "code",
   "execution_count": 181,
   "metadata": {},
   "outputs": [],
   "source": [
    "import pandas as pd\n",
    "import numpy as np\n",
    "import my_pickle as mp\n",
    "import matplotlib.pyplot as plt\n",
    "\n",
    "from sklearn.preprocessing import StandardScaler\n",
    "from sklearn.linear_model import LinearRegression\n",
    "from sklearn.model_selection import train_test_split\n",
    "from sklearn.metrics import confusion_matrix, precision_score, recall_score\n",
    "from sklearn.ensemble import RandomForestRegressor\n",
    "\n",
    "import my_resample as ms\n",
    "\n",
    "\n",
    "import warnings\n",
    "warnings.filterwarnings('ignore')"
   ]
  },
  {
   "cell_type": "code",
   "execution_count": 6,
   "metadata": {},
   "outputs": [
    {
     "name": "stdout",
     "output_type": "stream",
     "text": [
      "Make sure we're not using ECT data\n",
      "2017-10-02 01:35:58.644000\n"
     ]
    }
   ],
   "source": [
    "df = mp.unjson_it('data_master')\n",
    "print(\"Make sure we're not using ECT data\")\n",
    "print(df.timestamp.max())"
   ]
  },
  {
   "cell_type": "code",
   "execution_count": 42,
   "metadata": {},
   "outputs": [
    {
     "data": {
      "text/html": [
       "<div>\n",
       "<style>\n",
       "    .dataframe thead tr:only-child th {\n",
       "        text-align: right;\n",
       "    }\n",
       "\n",
       "    .dataframe thead th {\n",
       "        text-align: left;\n",
       "    }\n",
       "\n",
       "    .dataframe tbody tr th {\n",
       "        vertical-align: top;\n",
       "    }\n",
       "</style>\n",
       "<table border=\"1\" class=\"dataframe\">\n",
       "  <thead>\n",
       "    <tr style=\"text-align: right;\">\n",
       "      <th></th>\n",
       "      <th>I_count_receiver</th>\n",
       "      <th>I_count_sender</th>\n",
       "      <th>I_ratio_receiver</th>\n",
       "      <th>I_ratio_sender</th>\n",
       "      <th>age_dif</th>\n",
       "      <th>age_receiver</th>\n",
       "      <th>age_sender</th>\n",
       "      <th>amenities_overlap</th>\n",
       "      <th>convo_length</th>\n",
       "      <th>distance</th>\n",
       "      <th>...</th>\n",
       "      <th>sentence_ratio_receiver</th>\n",
       "      <th>sentence_ratio_sender</th>\n",
       "      <th>smokingOk_receiver</th>\n",
       "      <th>smokingOk_sender</th>\n",
       "      <th>term_receiver</th>\n",
       "      <th>term_sender</th>\n",
       "      <th>type_receiver</th>\n",
       "      <th>type_sender</th>\n",
       "      <th>urgency_receiver</th>\n",
       "      <th>urgency_sender</th>\n",
       "    </tr>\n",
       "  </thead>\n",
       "  <tbody>\n",
       "    <tr>\n",
       "      <th>02sjTzcsaO02omVxM8Xm</th>\n",
       "      <td>0</td>\n",
       "      <td>0.0</td>\n",
       "      <td>0.011298</td>\n",
       "      <td>0.000000</td>\n",
       "      <td>3.0</td>\n",
       "      <td>25</td>\n",
       "      <td>22.0</td>\n",
       "      <td>0</td>\n",
       "      <td>1</td>\n",
       "      <td>37.806874</td>\n",
       "      <td>...</td>\n",
       "      <td>0.016371</td>\n",
       "      <td>0.148148</td>\n",
       "      <td>1</td>\n",
       "      <td>1.0</td>\n",
       "      <td>6.0</td>\n",
       "      <td>11.450264</td>\n",
       "      <td>1.000000</td>\n",
       "      <td>0.862843</td>\n",
       "      <td>1.723056e+09</td>\n",
       "      <td>-6.768931e+09</td>\n",
       "    </tr>\n",
       "    <tr>\n",
       "      <th>07Aj9wLBPC013LzOrVju</th>\n",
       "      <td>0</td>\n",
       "      <td>2.0</td>\n",
       "      <td>0.011298</td>\n",
       "      <td>0.006803</td>\n",
       "      <td>6.0</td>\n",
       "      <td>24</td>\n",
       "      <td>30.0</td>\n",
       "      <td>1</td>\n",
       "      <td>1</td>\n",
       "      <td>5.482670</td>\n",
       "      <td>...</td>\n",
       "      <td>0.016371</td>\n",
       "      <td>0.030612</td>\n",
       "      <td>0</td>\n",
       "      <td>1.0</td>\n",
       "      <td>2.0</td>\n",
       "      <td>4.000000</td>\n",
       "      <td>1.000000</td>\n",
       "      <td>0.862843</td>\n",
       "      <td>2.679062e+09</td>\n",
       "      <td>2.624028e+08</td>\n",
       "    </tr>\n",
       "    <tr>\n",
       "      <th>07lVtClAEQ01iDVeaXl1</th>\n",
       "      <td>6</td>\n",
       "      <td>0.0</td>\n",
       "      <td>0.014493</td>\n",
       "      <td>0.012595</td>\n",
       "      <td>5.0</td>\n",
       "      <td>20</td>\n",
       "      <td>25.0</td>\n",
       "      <td>3</td>\n",
       "      <td>1</td>\n",
       "      <td>1.207884</td>\n",
       "      <td>...</td>\n",
       "      <td>0.014493</td>\n",
       "      <td>0.018102</td>\n",
       "      <td>1</td>\n",
       "      <td>1.0</td>\n",
       "      <td>13.0</td>\n",
       "      <td>12.000000</td>\n",
       "      <td>0.909091</td>\n",
       "      <td>1.000000</td>\n",
       "      <td>-4.618784e+08</td>\n",
       "      <td>3.196406e+08</td>\n",
       "    </tr>\n",
       "    <tr>\n",
       "      <th>0AFU6guKDt01iDVeaXl1</th>\n",
       "      <td>1</td>\n",
       "      <td>0.0</td>\n",
       "      <td>0.004902</td>\n",
       "      <td>0.012595</td>\n",
       "      <td>3.0</td>\n",
       "      <td>22</td>\n",
       "      <td>25.0</td>\n",
       "      <td>2</td>\n",
       "      <td>1</td>\n",
       "      <td>41.182387</td>\n",
       "      <td>...</td>\n",
       "      <td>0.014706</td>\n",
       "      <td>0.018102</td>\n",
       "      <td>0</td>\n",
       "      <td>1.0</td>\n",
       "      <td>12.0</td>\n",
       "      <td>12.000000</td>\n",
       "      <td>1.000000</td>\n",
       "      <td>1.000000</td>\n",
       "      <td>2.679062e+09</td>\n",
       "      <td>3.196002e+08</td>\n",
       "    </tr>\n",
       "    <tr>\n",
       "      <th>0AFU6guKDt01mfWG4vUm</th>\n",
       "      <td>0</td>\n",
       "      <td>1.0</td>\n",
       "      <td>0.011298</td>\n",
       "      <td>0.004902</td>\n",
       "      <td>4.0</td>\n",
       "      <td>26</td>\n",
       "      <td>22.0</td>\n",
       "      <td>1</td>\n",
       "      <td>1</td>\n",
       "      <td>46.212738</td>\n",
       "      <td>...</td>\n",
       "      <td>0.016371</td>\n",
       "      <td>0.014706</td>\n",
       "      <td>0</td>\n",
       "      <td>0.0</td>\n",
       "      <td>12.0</td>\n",
       "      <td>12.000000</td>\n",
       "      <td>1.000000</td>\n",
       "      <td>1.000000</td>\n",
       "      <td>2.679062e+09</td>\n",
       "      <td>-6.768931e+09</td>\n",
       "    </tr>\n",
       "  </tbody>\n",
       "</table>\n",
       "<p>5 rows × 88 columns</p>\n",
       "</div>"
      ],
      "text/plain": [
       "                      I_count_receiver  I_count_sender  I_ratio_receiver  \\\n",
       "02sjTzcsaO02omVxM8Xm                 0             0.0          0.011298   \n",
       "07Aj9wLBPC013LzOrVju                 0             2.0          0.011298   \n",
       "07lVtClAEQ01iDVeaXl1                 6             0.0          0.014493   \n",
       "0AFU6guKDt01iDVeaXl1                 1             0.0          0.004902   \n",
       "0AFU6guKDt01mfWG4vUm                 0             1.0          0.011298   \n",
       "\n",
       "                      I_ratio_sender  age_dif  age_receiver  age_sender  \\\n",
       "02sjTzcsaO02omVxM8Xm        0.000000      3.0            25        22.0   \n",
       "07Aj9wLBPC013LzOrVju        0.006803      6.0            24        30.0   \n",
       "07lVtClAEQ01iDVeaXl1        0.012595      5.0            20        25.0   \n",
       "0AFU6guKDt01iDVeaXl1        0.012595      3.0            22        25.0   \n",
       "0AFU6guKDt01mfWG4vUm        0.004902      4.0            26        22.0   \n",
       "\n",
       "                      amenities_overlap  convo_length   distance  \\\n",
       "02sjTzcsaO02omVxM8Xm                  0             1  37.806874   \n",
       "07Aj9wLBPC013LzOrVju                  1             1   5.482670   \n",
       "07lVtClAEQ01iDVeaXl1                  3             1   1.207884   \n",
       "0AFU6guKDt01iDVeaXl1                  2             1  41.182387   \n",
       "0AFU6guKDt01mfWG4vUm                  1             1  46.212738   \n",
       "\n",
       "                           ...        sentence_ratio_receiver  \\\n",
       "02sjTzcsaO02omVxM8Xm       ...                       0.016371   \n",
       "07Aj9wLBPC013LzOrVju       ...                       0.016371   \n",
       "07lVtClAEQ01iDVeaXl1       ...                       0.014493   \n",
       "0AFU6guKDt01iDVeaXl1       ...                       0.014706   \n",
       "0AFU6guKDt01mfWG4vUm       ...                       0.016371   \n",
       "\n",
       "                      sentence_ratio_sender  smokingOk_receiver  \\\n",
       "02sjTzcsaO02omVxM8Xm               0.148148                   1   \n",
       "07Aj9wLBPC013LzOrVju               0.030612                   0   \n",
       "07lVtClAEQ01iDVeaXl1               0.018102                   1   \n",
       "0AFU6guKDt01iDVeaXl1               0.018102                   0   \n",
       "0AFU6guKDt01mfWG4vUm               0.014706                   0   \n",
       "\n",
       "                      smokingOk_sender  term_receiver  term_sender  \\\n",
       "02sjTzcsaO02omVxM8Xm               1.0            6.0    11.450264   \n",
       "07Aj9wLBPC013LzOrVju               1.0            2.0     4.000000   \n",
       "07lVtClAEQ01iDVeaXl1               1.0           13.0    12.000000   \n",
       "0AFU6guKDt01iDVeaXl1               1.0           12.0    12.000000   \n",
       "0AFU6guKDt01mfWG4vUm               0.0           12.0    12.000000   \n",
       "\n",
       "                      type_receiver  type_sender  urgency_receiver  \\\n",
       "02sjTzcsaO02omVxM8Xm       1.000000     0.862843      1.723056e+09   \n",
       "07Aj9wLBPC013LzOrVju       1.000000     0.862843      2.679062e+09   \n",
       "07lVtClAEQ01iDVeaXl1       0.909091     1.000000     -4.618784e+08   \n",
       "0AFU6guKDt01iDVeaXl1       1.000000     1.000000      2.679062e+09   \n",
       "0AFU6guKDt01mfWG4vUm       1.000000     1.000000      2.679062e+09   \n",
       "\n",
       "                      urgency_sender  \n",
       "02sjTzcsaO02omVxM8Xm   -6.768931e+09  \n",
       "07Aj9wLBPC013LzOrVju    2.624028e+08  \n",
       "07lVtClAEQ01iDVeaXl1    3.196406e+08  \n",
       "0AFU6guKDt01iDVeaXl1    3.196002e+08  \n",
       "0AFU6guKDt01mfWG4vUm   -6.768931e+09  \n",
       "\n",
       "[5 rows x 88 columns]"
      ]
     },
     "execution_count": 42,
     "metadata": {},
     "output_type": "execute_result"
    }
   ],
   "source": [
    "def drop_columns(df):\n",
    "    col_to_drop = ['uid_sender','uid_receiver','mid_sender','mid_receiver',\n",
    "                   'updated_sender','activeAt_sender',\n",
    "                   'created_sender','available_sender','about_sender','birthday_sender', 'location_sender', 'work_sender',\n",
    "                   'hometownCity_sender','hometownState_sender','hometownCountry_sender','college_sender','neighborhoods_sender',\n",
    "                   'amenities_sender', 'hobbies_sender',\n",
    "                   'updated_receiver','activeAt_receiver',\n",
    "                   'created_receiver','available_receiver','about_receiver','birthday_receiver', 'location_receiver', 'work_receiver',\n",
    "                   'hometownCity_receiver','hometownState_receiver','hometownCountry_receiver','college_receiver','neighborhoods_receiver',\n",
    "                   'amenities_receiver', 'hobbies_receiver','timestamp']\n",
    "                   \n",
    "    return df.drop(col_to_drop, axis=1) \n",
    "\n",
    "X_df = drop_columns(df).fillna(df.mean(axis=0))\n",
    "X_df.head()"
   ]
  },
  {
   "cell_type": "code",
   "execution_count": 49,
   "metadata": {},
   "outputs": [
    {
     "data": {
      "image/png": "[encoded data removed]",
      "text/plain": [
       "<matplotlib.figure.Figure at 0x1177d0d68>"
      ]
     },
     "metadata": {},
     "output_type": "display_data"
    }
   ],
   "source": [
    "X_df.convo_length.hist(bins=range(2,250))\n",
    "plt.show()"
   ]
  },
  {
   "cell_type": "markdown",
   "metadata": {},
   "source": [
    "# WRANGLE DATA"
   ]
  },
  {
   "cell_type": "code",
   "execution_count": 159,
   "metadata": {},
   "outputs": [],
   "source": [
    "def wrangle_data(resamp):\n",
    "    # GET DATA\n",
    "    y = X_df.convo_length\n",
    "    X = X_df.drop(['convo_length'], axis=1)\n",
    "\n",
    "    # TRAIN TEST SPLIT\n",
    "    X_train, X_test, y_train, y_test = train_test_split(X.as_matrix(), y.as_matrix(), random_state=17)\n",
    "\n",
    "    # RESAMPLE\n",
    "    X_train, y_train = ms.oversample(X_train, y_train, resamp)\n",
    "\n",
    "    # SCALE DATA\n",
    "    scaler = StandardScaler()\n",
    "    scaler.fit(X_train)\n",
    "    X_train = scaler.transform(X_train)\n",
    "    X_test = scaler.transform(X_test)"
   ]
  },
  {
   "cell_type": "markdown",
   "metadata": {},
   "source": [
    "# FIT LINEAR REGRESSION MODEL"
   ]
  },
  {
   "cell_type": "code",
   "execution_count": 160,
   "metadata": {},
   "outputs": [],
   "source": [
    "def fit_model():\n",
    "    # fit model\n",
    "    model = LinearRegression()\n",
    "    model.fit(X_train, y_train)\n",
    "    print(model.score(X_train, y_train))\n",
    "\n",
    "    # make predictions\n",
    "    y_pred = model.predict(X_test)"
   ]
  },
  {
   "cell_type": "markdown",
   "metadata": {},
   "source": [
    "### CONVERT TO BINARY AND GET ACURACY ETC"
   ]
  },
  {
   "cell_type": "code",
   "execution_count": 172,
   "metadata": {},
   "outputs": [],
   "source": [
    "def convert_to_binary():\n",
    "    y_pred_binary = [1 if x > 1 else 0 for x in y_pred]\n",
    "    y_test_binary = [1 if x > 1 else 0 for x in y_test]\n",
    "\n",
    "    print(\"\\nMETRICS\")\n",
    "    print(\"Model recall: {}\".format(recall_score(y_test_binary, y_pred_binary)))\n",
    "    print(\"Model precision: {}\".format(precision_score(y_test_binary, y_pred_binary)))\n",
    "    print(\"Model accuracy: {}\".format(model.score(X_test, y_test_binary)))\n",
    "\n",
    "    print (\"\\nCONFUSION MATRIX\")\n",
    "    print (confusion_matrix(y_test_binary, y_pred_binary))\n",
    "    print (\"\\nkey:\")\n",
    "    print (\" TN   FP \")\n",
    "    print (\" FN   TP \")\n",
    "    \n",
    "    return recall_score(y_test_binary, y_pred_binary), precision_score(y_test_binary, y_pred_binary)"
   ]
  },
  {
   "cell_type": "markdown",
   "metadata": {},
   "source": [
    "### RESAMPLE AS A HYPERPARAMETER"
   ]
  },
  {
   "cell_type": "code",
   "execution_count": null,
   "metadata": {},
   "outputs": [],
   "source": [
    "def all_together(X_df,resamp,cutoff):\n",
    "    # GET DATA\n",
    "    y = X_df.convo_length\n",
    "    X = X_df.drop(['convo_length'], axis=1)\n",
    "\n",
    "    # TRAIN TEST SPLIT\n",
    "    X_train, X_test, y_train, y_test = train_test_split(X.as_matrix(), y.as_matrix(), random_state=17)\n",
    "\n",
    "    # RESAMPLE\n",
    "    X_train, y_train = ms.oversample(X_train, y_train, resamp)\n",
    "\n",
    "    # SCALE DATA\n",
    "    scaler = StandardScaler()\n",
    "    scaler.fit(X_train)\n",
    "    X_train = scaler.transform(X_train)\n",
    "    X_test = scaler.transform(X_test)\n",
    "    \n",
    "    # fit model\n",
    "    model = LinearRegression()\n",
    "    model.fit(X_train, y_train)\n",
    "#     print(model.score(X_train, y_train))\n",
    "\n",
    "    # make predictions\n",
    "    y_pred = model.predict(X_test)\n",
    "    \n",
    "    y_pred_binary = [1 if x > cutoff else 0 for x in y_pred]\n",
    "    y_test_binary = [1 if x > cutoff else 0 for x in y_test]\n",
    "    \n",
    "    return recall_score(y_test_binary, y_pred_binary), precision_score(y_test_binary, y_pred_binary)"
   ]
  },
  {
   "cell_type": "code",
   "execution_count": null,
   "metadata": {},
   "outputs": [],
   "source": [
    "recall = []\n",
    "precision = []\n",
    "x_values = np.arange(.01,10,.01)\n",
    "for x in x_values:\n",
    "    r,p = all_together(X_df,x, 1)\n",
    "    recall.append(r)\n",
    "    precision.append(p)"
   ]
  },
  {
   "cell_type": "code",
   "execution_count": null,
   "metadata": {},
   "outputs": [],
   "source": [
    "fig, ax = plt.subplots()\n",
    "ax.plot(x_values, recall)\n",
    "ax.plot(x_values, precision)\n",
    "ax.set_title('RECALL AND PRECISION')\n",
    "plt.show()"
   ]
  },
  {
   "cell_type": "code",
   "execution_count": null,
   "metadata": {
    "collapsed": true
   },
   "outputs": [],
   "source": []
  },
  {
   "cell_type": "code",
   "execution_count": null,
   "metadata": {
    "collapsed": true
   },
   "outputs": [],
   "source": []
  },
  {
   "cell_type": "code",
   "execution_count": null,
   "metadata": {
    "collapsed": true
   },
   "outputs": [],
   "source": []
  },
  {
   "cell_type": "code",
   "execution_count": null,
   "metadata": {
    "collapsed": true
   },
   "outputs": [],
   "source": []
  },
  {
   "cell_type": "markdown",
   "metadata": {},
   "source": [
    "# RANDOM FOREST REGRESSOR"
   ]
  },
  {
   "cell_type": "code",
   "execution_count": 194,
   "metadata": {},
   "outputs": [],
   "source": [
    "\n",
    "# GET DATA\n",
    "y = X_df.convo_length\n",
    "X = X_df.drop(['convo_length','response'], axis=1)\n",
    "\n",
    "# TRAIN TEST SPLIT\n",
    "X_train, X_test, y_train, y_test = train_test_split(X.as_matrix(), y.as_matrix(), random_state=17)\n",
    "\n",
    "# RESAMPLE\n",
    "X_train, y_train = ms.oversample(X_train, y_train, .5)\n",
    "\n",
    "# SCALE DATA\n",
    "scaler = StandardScaler()\n",
    "scaler.fit(X_train)\n",
    "X_train = scaler.transform(X_train)\n",
    "X_test = scaler.transform(X_test)\n",
    "\n",
    "# fit model\n",
    "model = RandomForestRegressor()\n",
    "model.fit(X_train, y_train, sample_weight=None)\n",
    "\n",
    "# get feature importances\n",
    "feature_importances = model.feature_importances_"
   ]
  },
  {
   "cell_type": "code",
   "execution_count": 196,
   "metadata": {},
   "outputs": [
    {
     "name": "stdout",
     "output_type": "stream",
     "text": [
      "\n",
      "FEATURE RANKINGS\n",
      "1 \t len_receiver \t 0.197384505944\n",
      "2 \t urgency_receiver \t 0.10834768851\n",
      "3 \t distance \t 0.0946419642981\n",
      "4 \t term_sender \t 0.0425358979351\n",
      "5 \t type_sender \t 0.0399587247559\n",
      "6 \t hobbies_overlap \t 0.03428646539\n",
      "7 \t len_about_receiver \t 0.033778526736\n",
      "8 \t age_sender \t 0.0319652227642\n",
      "9 \t I_ratio_sender \t 0.0270634653937\n",
      "10 \t sentence_ratio_sender \t 0.0269979188673\n"
     ]
    }
   ],
   "source": [
    "feature_importances = np.argsort(model.feature_importances_)\n",
    "top_n = 10 #len(X.columns)\n",
    "print(\"\\nFEATURE RANKINGS\")\n",
    "for n in range(top_n):\n",
    "    print(n+1, '\\t',X.columns[feature_importances[-n-1]], '\\t',sorted(model.feature_importances_)[-n-1])"
   ]
  },
  {
   "cell_type": "code",
   "execution_count": 200,
   "metadata": {},
   "outputs": [
    {
     "data": {
      "text/plain": [
       "array([ 1.,  1.,  1., ...,  1.,  1.,  1.])"
      ]
     },
     "execution_count": 200,
     "metadata": {},
     "output_type": "execute_result"
    }
   ],
   "source": [
    "model.predict(X_test)"
   ]
  },
  {
   "cell_type": "code",
   "execution_count": 201,
   "metadata": {},
   "outputs": [
    {
     "data": {
      "text/plain": [
       "-0.16629065610741575"
      ]
     },
     "execution_count": 201,
     "metadata": {},
     "output_type": "execute_result"
    }
   ],
   "source": [
    "model.score(X_test, y_test)"
   ]
  },
  {
   "cell_type": "code",
   "execution_count": 218,
   "metadata": {},
   "outputs": [],
   "source": [
    "def change_cutoff(cutoff):\n",
    "    y_pred_binary = [1 if x > cutoff else 0 for x in y_pred]\n",
    "    y_test_binary = [1 if x > cutoff else 0 for x in y_test]\n",
    "\n",
    "#     print(\"\\nMETRICS\")\n",
    "#     print(\"Model recall: {}\".format(recall_score(y_test_binary, y_pred_binary)))\n",
    "#     print(\"Model precision: {}\".format(precision_score(y_test_binary, y_pred_binary)))\n",
    "#     print(\"Model accuracy: {}\".format(model.score(X_test, y_test_binary)))\n",
    "\n",
    "#     print (\"\\nCONFUSION MATRIX\")\n",
    "#     print (confusion_matrix(y_test_binary, y_pred_binary))\n",
    "#     print (\"\\nkey:\")\n",
    "#     print (\" TN   FP \")\n",
    "#     print (\" FN   TP \")\n",
    "    \n",
    "    return recall_score(y_test_binary, y_pred_binary), precision_score(y_test_binary, y_pred_binary)"
   ]
  },
  {
   "cell_type": "code",
   "execution_count": 221,
   "metadata": {},
   "outputs": [
    {
     "data": {
      "image/png": "[encoded data removed]",
      "text/plain": [
       "<matplotlib.figure.Figure at 0x1c3d5756d8>"
      ]
     },
     "metadata": {},
     "output_type": "display_data"
    }
   ],
   "source": [
    "recall = []\n",
    "precision = []\n",
    "x_values = np.arange(0,10,.01)\n",
    "for cutoff in x_values:\n",
    "    r,p = change_cutoff(cutoff)\n",
    "    recall.append(r)\n",
    "    precision.append(p)\n",
    "fig, ax = plt.subplots()\n",
    "ax.plot(x_values, recall)\n",
    "ax.plot(x_values, precision)\n",
    "ax.set_title('RECALL AND PRECISION')\n",
    "plt.show()"
   ]
  },
  {
   "cell_type": "markdown",
   "metadata": {},
   "source": [
    "# SUPER COOL SUMMARY?\n",
    "\n",
    "If the cutoff is set to 2, the recall is at nearly 100 (meaning I don't miss any replies) and the precision is 50% (meaning about half the people I say will reply actually reply).\n",
    "\n",
    "At the moment, only about 10% of the ppl suggestions say will reply, so this model is potentially superior.\n",
    "\n",
    "Suspicioulsy much so..."
   ]
  },
  {
   "cell_type": "code",
   "execution_count": null,
   "metadata": {
    "collapsed": true
   },
   "outputs": [],
   "source": []
  }
 ],
 "metadata": {
  "kernelspec": {
   "display_name": "Python 3",
   "language": "python",
   "name": "python3"
  },
  "language_info": {
   "codemirror_mode": {
    "name": "ipython",
    "version": 3
   },
   "file_extension": ".py",
   "mimetype": "text/x-python",
   "name": "python",
   "nbconvert_exporter": "python",
   "pygments_lexer": "ipython3",
   "version": "3.6.3"
  }
 },
 "nbformat": 4,
 "nbformat_minor": 2
}
