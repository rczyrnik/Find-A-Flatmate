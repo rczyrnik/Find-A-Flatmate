{
 "cells": [
  {
   "cell_type": "code",
   "execution_count": null,
   "metadata": {
    "collapsed": true
   },
   "outputs": [],
   "source": [
    "import pandas as pd\n",
    "import numpy as np\n",
    "import matplotlib.pyplot as plt\n",
    "import datetime as dt\n",
    "\n",
    "import seaborn as sns\n",
    "sns.set()"
   ]
  },
  {
   "cell_type": "code",
   "execution_count": null,
   "metadata": {
    "collapsed": true
   },
   "outputs": [],
   "source": [
    "# directory\n",
    "data_file_path = \"/Users/gandalf/Documents/coding/do_not_commit/capstone/\"\n",
    "website_file_path = '/Users/gandalf/Documents/coding/rczyrnik.github.io/capstone/'"
   ]
  },
  {
   "cell_type": "code",
   "execution_count": null,
   "metadata": {},
   "outputs": [],
   "source": [
    "user_df =  pd.read_pickle(data_file_path+'user_df.pkl')\n",
    "convo_df =  pd.read_pickle(data_file_path+'convo_df.pkl')\n",
    "\n",
    "user_df.head(2)"
   ]
  },
  {
   "cell_type": "code",
   "execution_count": null,
   "metadata": {},
   "outputs": [],
   "source": [
    "convo_df.head(2)"
   ]
  },
  {
   "cell_type": "markdown",
   "metadata": {},
   "source": [
    "# MERGE USER DATA TO CONVERSATION DATA"
   ]
  },
  {
   "cell_type": "code",
   "execution_count": null,
   "metadata": {
    "collapsed": true
   },
   "outputs": [],
   "source": [
    "# add a flag so we can identify rows with missing user data\n",
    "user_df['flag'] = True\n",
    "\n",
    "# get labels for new columns\n",
    "old_names = user_df.columns\n",
    "new_names = {old:old+'_sender' for old in old_names}\n",
    "\n",
    "# merge and rename\n",
    "master_df = convo_df.join(user_df, on='first_message_uid', rsuffix=\"_sender\") \\\n",
    "        .join(user_df, on='second_message_uid', rsuffix=\"_receiver\") \\\n",
    "        .rename(index=str, columns = new_names)"
   ]
  },
  {
   "cell_type": "markdown",
   "metadata": {},
   "source": [
    "# DROP CONVERSATIONS WITH MISSING USER DATA"
   ]
  },
  {
   "cell_type": "code",
   "execution_count": null,
   "metadata": {},
   "outputs": [],
   "source": [
    "initial_len = len(master_df)\n",
    "\n",
    "# add False values\n",
    "master_df.flag_receiver = master_df.flag_receiver.apply(lambda x: x if x==True else False)\n",
    "\n",
    "# keep only rows with the flag\n",
    "master_df = master_df[master_df.flag_receiver]\n",
    "\n",
    "# add False values\n",
    "master_df.flag_sender = master_df.flag_sender.apply(lambda x: x if x==True else False)\n",
    "\n",
    "# keep only rows with the flag\n",
    "master_df = master_df[master_df.flag_sender]\n",
    "\n",
    "# see how many conversations we lost\n",
    "print(\"{} conversations (of {}) were removed because they were missing user data\".format(initial_len-len(master_df), initial_len))\n",
    "# 227+182 conversations (of 11165) were removed because they were missing user data"
   ]
  },
  {
   "cell_type": "markdown",
   "metadata": {},
   "source": [
    "# ADD FEATURES"
   ]
  },
  {
   "cell_type": "code",
   "execution_count": null,
   "metadata": {
    "collapsed": true
   },
   "outputs": [],
   "source": [
    "def roommate_rules(roommates):\n",
    "    if roommates > 4: return 3\n",
    "    elif roommates > 1: return 2\n",
    "    elif roommates > 0: return 1\n",
    "    else: return 0\n",
    "\n",
    "def get_rent_range(row):\n",
    "    max1 = row.maxCost_sender\n",
    "    max2 = row.maxCost_receiver\n",
    "    min1 = row.minCost_sender\n",
    "    min2 = row.minCost_receiver\n",
    "    if max1*max2*min1*min2 > 0:\n",
    "        upper = min(max1,max2)\n",
    "        lower = max(min1,min2)\n",
    "        if upper-lower > 0: return upper-lower\n",
    "        else: return 0\n",
    "    else: return 175\n",
    "\n",
    "def my_distance(row):\n",
    "    a = row.location_receiver\n",
    "    b = row.location_sender\n",
    "    try:\n",
    "        one = b[0]-a[0]\n",
    "        two = b[1]-a[1]\n",
    "        return (one**2+two**2)**(.5)\n",
    "    except:\n",
    "        return None\n",
    "\n",
    "def get_features(df):\n",
    "    # age difference\n",
    "    df['age_dif'] = abs(df.age_sender-df.age_receiver)\n",
    "\n",
    "    # similarities\n",
    "    df['same_gender'] = df.gender_sender==df.gender_receiver\n",
    "    df['same_relate'] = df.inRelationship_sender == df.inRelationship_receiver\n",
    "    df['same_clean'] = df.isClean_sender == df.isClean_receiver\n",
    "    df['same_night'] = df.isNight_sender == df.isNight_receiver\n",
    "    df['same_student'] = df.isStudent_sender == df.isStudent_receiver\n",
    "    df['same_smoking'] = df.smokingOk_sender == df.smokingOk_receiver\n",
    "    df['same_type'] = df.type_sender == df.type_receiver\n",
    "    df['same_term'] = df.term_sender == df.term_receiver\n",
    "    df['same_work'] = df.work_sender == df.work_receiver\n",
    "    df['same_city'] = df.hometownCity_sender == df.hometownCity_receiver\n",
    "    df['same_state'] = df.hometownState_sender == df.hometownState_receiver\n",
    "    df['same_country'] = df.hometownCountry_sender == df.hometownCountry_receiver\n",
    "    df['same_college'] = df.college_sender == df.college_receiver\n",
    "    df['same_metro'] = df.neighborhoods_metro_sender == df.neighborhoods_metro_receiver\n",
    "\n",
    "    # overlaps\n",
    "    df['overlap_roommate'] = abs(df.numRoommates_sender.apply(lambda x: roommate_rules(x))\n",
    "                                  -df.numRoommates_receiver.apply(lambda x: roommate_rules(x)))\n",
    "    df['overlap_hobbies'] = df.apply(lambda x: len(x['hobbies_receiver'].intersection(x['hobbies_sender'])), axis=1)\n",
    "    df['overlap_amenities'] = df.apply(lambda x: len(x['amenities_receiver'].intersection(x['amenities_sender'])), axis=1)\n",
    "    df['overlap_neighborhoods'] = df.apply(lambda x: len(x['neighborhoods_name_receiver'].intersection(x['neighborhoods_name_sender'])), axis=1)\n",
    "    df['overlap_rent'] = df.apply(get_rent_range, axis=1)\n",
    "\n",
    "    # urgencies\n",
    "    df['urgency_receiver'] = df.available_receiver-df.first_message_date\n",
    "    df.urgency_receiver = df.urgency_receiver.apply(lambda x: x.days)\n",
    "\n",
    "    df['urgency_sender'] = df.available_sender-df.first_message_date\n",
    "    df.urgency_sender = df.urgency_sender.apply(lambda x: x.days)\n",
    "\n",
    "    # distance between sender and receiver\n",
    "    df['distance'] = df.apply(my_distance, axis=1)\n",
    "\n",
    "\n",
    "    # rename T/F as 1/0\n",
    "    binary = {True: 1, False: 0}\n",
    "    col_to_binary = ['same_work','same_city','same_state','same_country','same_metro',\n",
    "                 'same_college','same_gender','same_relate','same_clean','same_night',\n",
    "                 'same_student','same_smoking','same_term','same_type']\n",
    "    for col in col_to_binary: df[col] = df[col].map(binary)\n",
    "\n",
    "    print(\"columns with null values: {}\".format(len(df.columns[df.isnull().any()])))\n",
    "    return df"
   ]
  },
  {
   "cell_type": "code",
   "execution_count": null,
   "metadata": {
    "scrolled": true
   },
   "outputs": [],
   "source": [
    "master_df = get_features(master_df)"
   ]
  },
  {
   "cell_type": "markdown",
   "metadata": {},
   "source": [
    "# CREATE X AND y DATAFRAMES"
   ]
  },
  {
   "cell_type": "code",
   "execution_count": null,
   "metadata": {
    "collapsed": true
   },
   "outputs": [],
   "source": [
    "col_to_keep = [\n",
    " 'first_message_len',       \n",
    " 'first_message_day_of_year',   \n",
    " 'first_message_day_of_month',\n",
    " 'first_message_day_of_week',  \n",
    " 'first_message_hour',     \n",
    " 'const2',                  \n",
    " 'gender_sender',           \n",
    " 'inRelationship_sender',   \n",
    " 'isClean_sender',          \n",
    " 'isNight_sender',          \n",
    " 'isStudent_sender',        \n",
    " 'maxCost_sender',          \n",
    " 'minCost_sender',          \n",
    " 'numRoommates_sender',     \n",
    " 'petsOk_sender',           \n",
    " 'smokingOk_sender',\n",
    " 'term_sender',\n",
    " 'has_facebook_sender',     \n",
    " 'created_day_of_year_sender',\n",
    " 'created_day_of_month_sender',\n",
    " 'created_day_of_week_sender',\n",
    "#  'created_hour_sender',\n",
    " 'has_password_sender',\n",
    " 'yes_room_sender',\n",
    " 'len_about_sender',\n",
    " 'has_about_sender',\n",
    " 'len_amenities_sender',\n",
    " 'has_amenities_sender',\n",
    " 'has_available_sender',\n",
    " 'td_creat_avail_sender',\n",
    " 'age_sender',\n",
    " 'has_birthdate_sender',\n",
    " 'yes_block_sender',\n",
    " 'has_college_sender',\n",
    " 'has_email_sender',\n",
    " 'len_hobbies_sender',\n",
    " 'has_hobbies_sender',\n",
    " 'has_hometown_sender',\n",
    " 'has_linkedin_sender',\n",
    " 'has_location_sender',\n",
    " 'rent_range_sender',\n",
    " 'len_neighborhoods_sender',\n",
    " 'has_neighborhoods_sender',\n",
    " 'has_numRoommates_sender',\n",
    " 'has_picture_sender',\n",
    " 'has_term_sender',\n",
    " 'has_work_sender',\n",
    " 'engagement_proxy_sender',\n",
    " 'gender_receiver',\n",
    " 'inRelationship_receiver',\n",
    " 'isClean_receiver',\n",
    " 'isNight_receiver',\n",
    " 'isStudent_receiver',\n",
    " 'maxCost_receiver',\n",
    " 'minCost_receiver',\n",
    " 'numRoommates_receiver',\n",
    " 'petsOk_receiver',\n",
    " 'smokingOk_receiver',\n",
    " 'term_receiver',\n",
    " 'has_facebook_receiver',\n",
    " 'created_day_of_year_receiver',\n",
    " 'created_day_of_month_receiver',\n",
    " 'created_day_of_week_receiver',\n",
    "#  'created_hour_receiver',\n",
    " 'has_password_receiver',\n",
    " 'yes_room_receiver',\n",
    " 'len_about_receiver',\n",
    " 'has_about_receiver',\n",
    " 'len_amenities_receiver',\n",
    " 'has_amenities_receiver',\n",
    " 'has_available_receiver',\n",
    " 'td_creat_avail_receiver',\n",
    " 'age_receiver',\n",
    " 'has_birthdate_receiver',\n",
    " 'yes_block_receiver',\n",
    " 'has_college_receiver',\n",
    " 'has_email_receiver',\n",
    " 'len_hobbies_receiver',\n",
    " 'has_hobbies_receiver',\n",
    " 'has_hometown_receiver',\n",
    " 'has_linkedin_receiver',\n",
    " 'has_location_receiver',\n",
    " 'rent_range_receiver',\n",
    " 'len_neighborhoods_receiver',\n",
    " 'has_neighborhoods_receiver',\n",
    " 'has_numRoommates_receiver',\n",
    " 'has_picture_receiver',\n",
    " 'has_term_receiver',\n",
    " 'has_work_receiver',\n",
    " 'engagement_proxy_receiver',\n",
    " 'age_dif',\n",
    " 'same_gender',\n",
    " 'same_relate',\n",
    " 'same_clean',\n",
    " 'same_night',\n",
    " 'same_student',\n",
    " 'same_smoking',\n",
    " 'same_type',\n",
    " 'same_term',\n",
    " 'same_work',\n",
    " 'same_city',\n",
    " 'same_state',\n",
    " 'same_country',\n",
    " 'same_college',\n",
    " 'same_metro',\n",
    " 'overlap_roommate',\n",
    " 'overlap_hobbies',\n",
    " 'overlap_amenities',\n",
    " 'overlap_rent',\n",
    " 'distance',\n",
    " 'urgency_receiver',\n",
    " 'urgency_sender']"
   ]
  },
  {
   "cell_type": "markdown",
   "metadata": {},
   "source": [
    "# ADD CONSTANT FOR FUNSIES"
   ]
  },
  {
   "cell_type": "code",
   "execution_count": null,
   "metadata": {
    "collapsed": true
   },
   "outputs": [],
   "source": [
    "master_df['const'] = 1"
   ]
  },
  {
   "cell_type": "markdown",
   "metadata": {},
   "source": [
    "# BREAK INTO X AND Y"
   ]
  },
  {
   "cell_type": "code",
   "execution_count": null,
   "metadata": {
    "collapsed": true
   },
   "outputs": [],
   "source": [
    "X = master_df[col_to_keep]\n",
    "y1 = master_df.response\n",
    "y2 = master_df.len_convo"
   ]
  },
  {
   "cell_type": "markdown",
   "metadata": {},
   "source": [
    "# FILL NA VALUES"
   ]
  },
  {
   "cell_type": "code",
   "execution_count": null,
   "metadata": {
    "collapsed": true
   },
   "outputs": [],
   "source": [
    "temp = (X.describe().T ==len(X))\n",
    "temp.columns = ['a','b','c','d','e','f','g','h']\n",
    "col_with_na = temp.index[~temp.a]"
   ]
  },
  {
   "cell_type": "code",
   "execution_count": null,
   "metadata": {},
   "outputs": [],
   "source": [
    "X[col_with_na].describe()"
   ]
  },
  {
   "cell_type": "code",
   "execution_count": null,
   "metadata": {
    "collapsed": true
   },
   "outputs": [],
   "source": [
    "X = X.apply(lambda x: x.fillna(x.median()),axis=0)"
   ]
  },
  {
   "cell_type": "code",
   "execution_count": null,
   "metadata": {},
   "outputs": [],
   "source": [
    "X[col_with_na].describe()"
   ]
  },
  {
   "cell_type": "markdown",
   "metadata": {},
   "source": [
    "# PICKLE!"
   ]
  },
  {
   "cell_type": "code",
   "execution_count": null,
   "metadata": {},
   "outputs": [],
   "source": [
    "X.to_pickle(data_file_path+'X.pkl')\n",
    "y1.to_pickle(data_file_path+'y1.pkl')\n",
    "y2.to_pickle(data_file_path+'y2.pkl')\n",
    "master_df.to_pickle(data_file_path+'master_df.pkl')\n",
    "print(\"... saved as pickle\")"
   ]
  },
  {
   "cell_type": "code",
   "execution_count": null,
   "metadata": {
    "collapsed": true
   },
   "outputs": [],
   "source": []
  }
 ],
 "metadata": {
  "kernelspec": {
   "display_name": "Python 3",
   "language": "python",
   "name": "python3"
  },
  "language_info": {
   "codemirror_mode": {
    "name": "ipython",
    "version": 3
   },
   "file_extension": ".py",
   "mimetype": "text/x-python",
   "name": "python",
   "nbconvert_exporter": "python",
   "pygments_lexer": "ipython3",
   "version": "3.6.3"
  }
 },
 "nbformat": 4,
 "nbformat_minor": 2
}
