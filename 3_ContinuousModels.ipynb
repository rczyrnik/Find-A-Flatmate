{
 "cells": [
  {
   "cell_type": "markdown",
   "metadata": {},
   "source": [
    "## INCLUDES:\n",
    "\n",
    "- LINEAR REGRESSION\n",
    "\n",
    "- RANDOM FOREST REGRESSOR\n",
    "\n",
    "- GRADIENT BOOSTING REGRESSOR"
   ]
  },
  {
   "cell_type": "code",
   "execution_count": 1,
   "metadata": {},
   "outputs": [],
   "source": [
    "import pandas as pd\n",
    "import numpy as np\n",
    "import my_pickle as mp\n",
    "import my_functions as mf\n",
    "import matplotlib.pyplot as plt\n",
    "\n",
    "from sklearn.preprocessing import StandardScaler\n",
    "from sklearn.linear_model import LinearRegression\n",
    "from sklearn.model_selection import train_test_split\n",
    "from sklearn.metrics import confusion_matrix, precision_score, recall_score\n",
    "from sklearn.ensemble import RandomForestRegressor\n",
    "\n",
    "import my_resample as ms\n",
    "\n",
    "import warnings\n",
    "warnings.filterwarnings('ignore')\n",
    "\n",
    "\n",
    "from sklearn.ensemble import GradientBoostingRegressor\n",
    "from sklearn.ensemble.partial_dependence import plot_partial_dependence\n",
    "\n",
    "\n",
    "from importlib import reload\n",
    "\n",
    "import warnings\n",
    "warnings.filterwarnings('ignore')"
   ]
  },
  {
   "cell_type": "code",
   "execution_count": 2,
   "metadata": {},
   "outputs": [],
   "source": [
    "X = mp.unjson_it('data_X')\n",
    "y = mp.unjson_it('data_y')['convo_length']\n",
    "text_similarity_df = mp.unjson_it('data_text_similarity')\n",
    "X['count_similarity'] = text_similarity_df['count_similarity']\n",
    "X['tfidf_similarity'] = text_similarity_df['tfidf_similarity']"
   ]
  },
  {
   "cell_type": "markdown",
   "metadata": {},
   "source": [
    "# PREPARE DATA\n",
    "\n",
    "same train test split, resample, and scaling for everything"
   ]
  },
  {
   "cell_type": "code",
   "execution_count": 7,
   "metadata": {
    "collapsed": true
   },
   "outputs": [],
   "source": [
    "# train test split\n",
    "X_train, X_test, y_train, y_test = train_test_split(X.as_matrix(), y.as_matrix(), random_state=17)\n",
    "\n",
    "# resample\n",
    "X_train, y_train = ms.oversample(X_train, y_train, .5)\n",
    "\n",
    "# scale data\n",
    "# scaler = StandardScaler()\n",
    "# scaler.fit(X_train)\n",
    "# X_train = scaler.transform(X_train)\n",
    "# X_test = scaler.transform(X_test)"
   ]
  },
  {
   "cell_type": "markdown",
   "metadata": {},
   "source": [
    "# RELOAD FN"
   ]
  },
  {
   "cell_type": "code",
   "execution_count": 11,
   "metadata": {},
   "outputs": [
    {
     "data": {
      "text/plain": [
       "<module 'my_functions' from '/Users/gandalf/Documents/Galvanize/MatchingService/my_functions.py'>"
      ]
     },
     "execution_count": 11,
     "metadata": {},
     "output_type": "execute_result"
    }
   ],
   "source": [
    "reload(mf)"
   ]
  },
  {
   "cell_type": "markdown",
   "metadata": {},
   "source": [
    "# LINEAR REGRESSION"
   ]
  },
  {
   "cell_type": "code",
   "execution_count": 12,
   "metadata": {},
   "outputs": [
    {
     "name": "stdout",
     "output_type": "stream",
     "text": [
      "0.0624753394745\n",
      "\n",
      "METRICS\n",
      "Model recall: 0.18235294117647058\n",
      "Model precision: 0.1497584541062802\n",
      "Model accuracy: -1.105840856027342\n",
      "\n",
      "CONFUSION MATRIX\n",
      "[[2436  176]\n",
      " [ 139   31]]\n",
      "\n",
      "key:\n",
      " TN   FP \n",
      " FN   TP \n",
      "\n",
      "RECALL AND ACCURACY FOR DIFFERNET MODELS\n",
      "recall     \t precision   \tmodel\n",
      "0.182352941176 \t 0.149758454106 my model\n",
      "0.0 \t \t 0.0 \t\tpredict all zero\n",
      "1.0 \t \t 0.0611071171819 predict all one\n",
      "0.494117647059 \t 0.0587412587413 predict 50-50\n",
      "0.1 0.0553745928339 predict 90-10\n"
     ]
    },
    {
     "data": {
      "text/html": [
       "<div>\n",
       "<style>\n",
       "    .dataframe thead tr:only-child th {\n",
       "        text-align: right;\n",
       "    }\n",
       "\n",
       "    .dataframe thead th {\n",
       "        text-align: left;\n",
       "    }\n",
       "\n",
       "    .dataframe tbody tr th {\n",
       "        vertical-align: top;\n",
       "    }\n",
       "</style>\n",
       "<table border=\"1\" class=\"dataframe\">\n",
       "  <thead>\n",
       "    <tr style=\"text-align: right;\">\n",
       "      <th></th>\n",
       "      <th>feature</th>\n",
       "      <th>coefficient</th>\n",
       "      <th>abs_value</th>\n",
       "      <th>sign</th>\n",
       "    </tr>\n",
       "  </thead>\n",
       "  <tbody>\n",
       "    <tr>\n",
       "      <th>72</th>\n",
       "      <td>tfidf_similarity</td>\n",
       "      <td>5.78</td>\n",
       "      <td>5.78</td>\n",
       "      <td>1.00</td>\n",
       "    </tr>\n",
       "    <tr>\n",
       "      <th>56</th>\n",
       "      <td>same_state</td>\n",
       "      <td>-0.79</td>\n",
       "      <td>0.79</td>\n",
       "      <td>-1.00</td>\n",
       "    </tr>\n",
       "    <tr>\n",
       "      <th>68</th>\n",
       "      <td>type_sender</td>\n",
       "      <td>-0.55</td>\n",
       "      <td>0.55</td>\n",
       "      <td>-1.00</td>\n",
       "    </tr>\n",
       "    <tr>\n",
       "      <th>47</th>\n",
       "      <td>same_city</td>\n",
       "      <td>-0.54</td>\n",
       "      <td>0.54</td>\n",
       "      <td>-1.00</td>\n",
       "    </tr>\n",
       "    <tr>\n",
       "      <th>43</th>\n",
       "      <td>question_count_receiver</td>\n",
       "      <td>0.52</td>\n",
       "      <td>0.52</td>\n",
       "      <td>1.00</td>\n",
       "    </tr>\n",
       "  </tbody>\n",
       "</table>\n",
       "</div>"
      ],
      "text/plain": [
       "                    feature coefficient  abs_value  sign\n",
       "72         tfidf_similarity        5.78       5.78  1.00\n",
       "56               same_state       -0.79       0.79 -1.00\n",
       "68              type_sender       -0.55       0.55 -1.00\n",
       "47                same_city       -0.54       0.54 -1.00\n",
       "43  question_count_receiver        0.52       0.52  1.00"
      ]
     },
     "execution_count": 12,
     "metadata": {},
     "output_type": "execute_result"
    }
   ],
   "source": [
    "# fit model\n",
    "model = LinearRegression()\n",
    "model.fit(X_train, y_train)\n",
    "print(model.score(X_train, y_train))\n",
    "\n",
    "# make predictions\n",
    "y_pred = model.predict(X_test)\n",
    "\n",
    "# show metrics\n",
    "mf.display_metrics(model, X_test, y_test)\n",
    "\n",
    "# show importances\n",
    "mf.display_importances_linear(model, X).head(5)"
   ]
  },
  {
   "cell_type": "markdown",
   "metadata": {},
   "source": [
    "# RANDOM FOREST REGRESSOR"
   ]
  },
  {
   "cell_type": "code",
   "execution_count": 15,
   "metadata": {},
   "outputs": [
    {
     "name": "stdout",
     "output_type": "stream",
     "text": [
      "\n",
      "METRICS\n",
      "Model recall: 0.31176470588235294\n",
      "Model precision: 0.14363143631436315\n",
      "Model accuracy: -0.6514063153500771\n",
      "\n",
      "CONFUSION MATRIX\n",
      "[[2296  316]\n",
      " [ 117   53]]\n",
      "\n",
      "key:\n",
      " TN   FP \n",
      " FN   TP \n",
      "\n",
      "RECALL AND ACCURACY FOR DIFFERNET MODELS\n",
      "recall     \t precision   \tmodel\n",
      "0.311764705882 \t 0.143631436314 my model\n",
      "0.0 \t \t 0.0 \t\tpredict all zero\n",
      "1.0 \t \t 0.0611071171819 predict all one\n",
      "0.458823529412 \t 0.0552016985138 predict 50-50\n",
      "0.111764705882 0.0763052208835 predict 90-10\n"
     ]
    },
    {
     "data": {
      "text/html": [
       "<div>\n",
       "<style>\n",
       "    .dataframe thead tr:only-child th {\n",
       "        text-align: right;\n",
       "    }\n",
       "\n",
       "    .dataframe thead th {\n",
       "        text-align: left;\n",
       "    }\n",
       "\n",
       "    .dataframe tbody tr th {\n",
       "        vertical-align: top;\n",
       "    }\n",
       "</style>\n",
       "<table border=\"1\" class=\"dataframe\">\n",
       "  <thead>\n",
       "    <tr style=\"text-align: right;\">\n",
       "      <th></th>\n",
       "      <th>feature</th>\n",
       "      <th>coefficient</th>\n",
       "    </tr>\n",
       "  </thead>\n",
       "  <tbody>\n",
       "    <tr>\n",
       "      <th>6</th>\n",
       "      <td>distance</td>\n",
       "      <td>0.17</td>\n",
       "    </tr>\n",
       "    <tr>\n",
       "      <th>69</th>\n",
       "      <td>urgency_receiver</td>\n",
       "      <td>0.16</td>\n",
       "    </tr>\n",
       "    <tr>\n",
       "      <th>72</th>\n",
       "      <td>tfidf_similarity</td>\n",
       "      <td>0.04</td>\n",
       "    </tr>\n",
       "    <tr>\n",
       "      <th>21</th>\n",
       "      <td>hobbies_overlap</td>\n",
       "      <td>0.03</td>\n",
       "    </tr>\n",
       "    <tr>\n",
       "      <th>2</th>\n",
       "      <td>age_dif</td>\n",
       "      <td>0.03</td>\n",
       "    </tr>\n",
       "  </tbody>\n",
       "</table>\n",
       "</div>"
      ],
      "text/plain": [
       "             feature coefficient\n",
       "6           distance        0.17\n",
       "69  urgency_receiver        0.16\n",
       "72  tfidf_similarity        0.04\n",
       "21   hobbies_overlap        0.03\n",
       "2            age_dif        0.03"
      ]
     },
     "execution_count": 15,
     "metadata": {},
     "output_type": "execute_result"
    }
   ],
   "source": [
    "# fit model\n",
    "model = RandomForestRegressor(n_estimators=100)\n",
    "model.fit(X_train, y_train, sample_weight=None)\n",
    "\n",
    "# make predictions\n",
    "y_pred = model.predict(X_test)\n",
    "\n",
    "# show metrics\n",
    "mf.display_metrics(model, X_test, y_test)\n",
    "\n",
    "# show importances\n",
    "mf.display_importances_trees(model, X).head(5)"
   ]
  },
  {
   "cell_type": "code",
   "execution_count": null,
   "metadata": {
    "collapsed": true
   },
   "outputs": [],
   "source": []
  },
  {
   "cell_type": "markdown",
   "metadata": {
    "collapsed": true
   },
   "source": [
    "# GRADIENT BOOSTING REGRESSOR"
   ]
  },
  {
   "cell_type": "code",
   "execution_count": 14,
   "metadata": {},
   "outputs": [
    {
     "name": "stdout",
     "output_type": "stream",
     "text": [
      "\n",
      "METRICS\n",
      "Model recall: 0.12352941176470589\n",
      "Model precision: 0.1721311475409836\n",
      "Model accuracy: -1.0434314166709875\n",
      "\n",
      "CONFUSION MATRIX\n",
      "[[2511  101]\n",
      " [ 149   21]]\n",
      "\n",
      "key:\n",
      " TN   FP \n",
      " FN   TP \n",
      "\n",
      "RECALL AND ACCURACY FOR DIFFERNET MODELS\n",
      "recall     \t precision   \tmodel\n",
      "0.123529411765 \t 0.172131147541 my model\n",
      "0.0 \t \t 0.0 \t\tpredict all zero\n",
      "1.0 \t \t 0.0611071171819 predict all one\n",
      "0.511764705882 \t 0.0631349782293 predict 50-50\n",
      "0.0705882352941 0.0495867768595 predict 90-10\n"
     ]
    },
    {
     "data": {
      "text/html": [
       "<div>\n",
       "<style>\n",
       "    .dataframe thead tr:only-child th {\n",
       "        text-align: right;\n",
       "    }\n",
       "\n",
       "    .dataframe thead th {\n",
       "        text-align: left;\n",
       "    }\n",
       "\n",
       "    .dataframe tbody tr th {\n",
       "        vertical-align: top;\n",
       "    }\n",
       "</style>\n",
       "<table border=\"1\" class=\"dataframe\">\n",
       "  <thead>\n",
       "    <tr style=\"text-align: right;\">\n",
       "      <th></th>\n",
       "      <th>feature</th>\n",
       "      <th>coefficient</th>\n",
       "    </tr>\n",
       "  </thead>\n",
       "  <tbody>\n",
       "    <tr>\n",
       "      <th>6</th>\n",
       "      <td>distance</td>\n",
       "      <td>0.15</td>\n",
       "    </tr>\n",
       "    <tr>\n",
       "      <th>69</th>\n",
       "      <td>urgency_receiver</td>\n",
       "      <td>0.13</td>\n",
       "    </tr>\n",
       "    <tr>\n",
       "      <th>72</th>\n",
       "      <td>tfidf_similarity</td>\n",
       "      <td>0.09</td>\n",
       "    </tr>\n",
       "    <tr>\n",
       "      <th>70</th>\n",
       "      <td>urgency_sender</td>\n",
       "      <td>0.08</td>\n",
       "    </tr>\n",
       "    <tr>\n",
       "      <th>45</th>\n",
       "      <td>rent_overlap</td>\n",
       "      <td>0.07</td>\n",
       "    </tr>\n",
       "  </tbody>\n",
       "</table>\n",
       "</div>"
      ],
      "text/plain": [
       "             feature coefficient\n",
       "6           distance        0.15\n",
       "69  urgency_receiver        0.13\n",
       "72  tfidf_similarity        0.09\n",
       "70    urgency_sender        0.08\n",
       "45      rent_overlap        0.07"
      ]
     },
     "execution_count": 14,
     "metadata": {},
     "output_type": "execute_result"
    }
   ],
   "source": [
    "# fit model\n",
    "model = GradientBoostingRegressor()\n",
    "model.fit(X_train, y_train, sample_weight=None)\n",
    "\n",
    "# make predictions\n",
    "y_pred = model.predict(X_test)\n",
    "\n",
    "# show metrics\n",
    "mf.display_metrics(model, X_test, y_test)\n",
    "\n",
    "# show importances\n",
    "mf.display_importances_trees(model, X).head(5)"
   ]
  },
  {
   "cell_type": "code",
   "execution_count": null,
   "metadata": {
    "collapsed": true
   },
   "outputs": [],
   "source": []
  },
  {
   "cell_type": "code",
   "execution_count": null,
   "metadata": {
    "collapsed": true
   },
   "outputs": [],
   "source": []
  },
  {
   "cell_type": "code",
   "execution_count": null,
   "metadata": {
    "collapsed": true
   },
   "outputs": [],
   "source": []
  },
  {
   "cell_type": "code",
   "execution_count": null,
   "metadata": {
    "collapsed": true
   },
   "outputs": [],
   "source": []
  },
  {
   "cell_type": "code",
   "execution_count": null,
   "metadata": {
    "collapsed": true
   },
   "outputs": [],
   "source": []
  },
  {
   "cell_type": "code",
   "execution_count": null,
   "metadata": {
    "collapsed": true
   },
   "outputs": [],
   "source": []
  },
  {
   "cell_type": "code",
   "execution_count": null,
   "metadata": {
    "collapsed": true
   },
   "outputs": [],
   "source": []
  },
  {
   "cell_type": "code",
   "execution_count": null,
   "metadata": {
    "collapsed": true
   },
   "outputs": [],
   "source": []
  },
  {
   "cell_type": "markdown",
   "metadata": {},
   "source": [
    "### RESAMPLE AS A HYPERPARAMETER"
   ]
  },
  {
   "cell_type": "code",
   "execution_count": null,
   "metadata": {
    "collapsed": true
   },
   "outputs": [],
   "source": [
    "def all_together(X_df,resamp,cutoff):\n",
    "    # GET DATA\n",
    "    y = X_df.convo_length\n",
    "    X = X_df.drop(['convo_length'], axis=1)\n",
    "\n",
    "    # TRAIN TEST SPLIT\n",
    "    X_train, X_test, y_train, y_test = train_test_split(X.as_matrix(), y.as_matrix(), random_state=17)\n",
    "\n",
    "    # RESAMPLE\n",
    "    X_train, y_train = ms.oversample(X_train, y_train, resamp)\n",
    "\n",
    "    # SCALE DATA\n",
    "    scaler = StandardScaler()\n",
    "    scaler.fit(X_train)\n",
    "    X_train = scaler.transform(X_train)\n",
    "    X_test = scaler.transform(X_test)\n",
    "    \n",
    "    # fit model\n",
    "    model = LinearRegression()\n",
    "    model.fit(X_train, y_train)\n",
    "\n",
    "    # make predictions\n",
    "    y_pred = model.predict(X_test)\n",
    "    \n",
    "    y_pred_binary = [1 if x > cutoff else 0 for x in y_pred]\n",
    "    y_test_binary = [1 if x > cutoff else 0 for x in y_test]\n",
    "    \n",
    "    return recall_score(y_test_binary, y_pred_binary), precision_score(y_test_binary, y_pred_binary)"
   ]
  },
  {
   "cell_type": "code",
   "execution_count": null,
   "metadata": {},
   "outputs": [],
   "source": [
    "recall = []\n",
    "precision = []\n",
    "x_values = np.arange(.01,10,.01)\n",
    "for x in x_values:\n",
    "    r,p = all_together(X_df,x, 1)\n",
    "    recall.append(r)\n",
    "    precision.append(p)"
   ]
  },
  {
   "cell_type": "code",
   "execution_count": null,
   "metadata": {},
   "outputs": [],
   "source": [
    "fig, ax = plt.subplots()\n",
    "ax.plot(x_values, recall)\n",
    "ax.plot(x_values, precision)\n",
    "ax.set_title('RECALL AND PRECISION')\n",
    "plt.show()"
   ]
  },
  {
   "cell_type": "code",
   "execution_count": null,
   "metadata": {
    "collapsed": true
   },
   "outputs": [],
   "source": []
  },
  {
   "cell_type": "code",
   "execution_count": null,
   "metadata": {
    "collapsed": true
   },
   "outputs": [],
   "source": [
    "def change_cutoff(cutoff, lotsa = True):\n",
    "    y_pred_binary = [1 if x > cutoff else 0 for x in y_pred]\n",
    "    y_test_binary = [1 if x > cutoff else 0 for x in y_test]\n",
    "\n",
    "    if lotsa:\n",
    "        print(\"\\nMETRICS\")\n",
    "        print(\"Model recall: {}\".format(recall_score(y_test_binary, y_pred_binary)))\n",
    "        print(\"Model precision: {}\".format(precision_score(y_test_binary, y_pred_binary)))\n",
    "        print(\"Model accuracy: {}\".format(model.score(X_test, y_test_binary)))\n",
    "\n",
    "        print (\"\\nCONFUSION MATRIX\")\n",
    "        print (confusion_matrix(y_test_binary, y_pred_binary))\n",
    "        print (\"\\nkey:\")\n",
    "        print (\" TN   FP \")\n",
    "        print (\" FN   TP \")\n",
    "    \n",
    "    return recall_score(y_test_binary, y_pred_binary), precision_score(y_test_binary, y_pred_binary)\n",
    "\n",
    "change_cutoff(1.5)"
   ]
  },
  {
   "cell_type": "code",
   "execution_count": null,
   "metadata": {
    "collapsed": true
   },
   "outputs": [],
   "source": [
    "def plot_recall_precision():\n",
    "    recall = []\n",
    "    precision = []\n",
    "    x_values = np.arange(0,10,.1)\n",
    "    for cutoff in x_values:\n",
    "        r,p = change_cutoff(cutoff,False)\n",
    "        recall.append(r)\n",
    "        precision.append(p)\n",
    "    fig, ax = plt.subplots()\n",
    "    ax.plot(x_values, recall)\n",
    "    ax.plot(x_values, precision)\n",
    "    ax.set_title('RECALL AND PRECISION')\n",
    "    plt.show()\n",
    "plot_recall_precision()"
   ]
  },
  {
   "cell_type": "code",
   "execution_count": null,
   "metadata": {
    "collapsed": true
   },
   "outputs": [],
   "source": [
    "plot_partial_dependence(model, X_train, feature_importances[-6:], X.columns, n_jobs=-1,figsize = (16,8))\n",
    "plt.show()"
   ]
  },
  {
   "cell_type": "code",
   "execution_count": null,
   "metadata": {},
   "outputs": [],
   "source": [
    "fig, axs = plot_partial_dependence(model, X_train, [71]) \n",
    "plt.show()"
   ]
  },
  {
   "cell_type": "code",
   "execution_count": null,
   "metadata": {
    "collapsed": true
   },
   "outputs": [],
   "source": []
  },
  {
   "cell_type": "code",
   "execution_count": null,
   "metadata": {
    "collapsed": true
   },
   "outputs": [],
   "source": [
    "def change_cutoff(cutoff, lotsa = True):\n",
    "    y_pred_binary = [1 if x > cutoff else 0 for x in y_pred]\n",
    "    y_test_binary = [1 if x > cutoff else 0 for x in y_test]\n",
    "\n",
    "    if lotsa:\n",
    "        print(\"\\nMETRICS\")\n",
    "        print(\"Model recall: {}\".format(recall_score(y_test_binary, y_pred_binary)))\n",
    "        print(\"Model precision: {}\".format(precision_score(y_test_binary, y_pred_binary)))\n",
    "        print(\"Model accuracy: {}\".format(model.score(X_test, y_test_binary)))\n",
    "\n",
    "        print (\"\\nCONFUSION MATRIX\")\n",
    "        print (confusion_matrix(y_test_binary, y_pred_binary))\n",
    "        print (\"\\nkey:\")\n",
    "        print (\" TN   FP \")\n",
    "        print (\" FN   TP \")\n",
    "    \n",
    "    return recall_score(y_test_binary, y_pred_binary), precision_score(y_test_binary, y_pred_binary)\n",
    "\n",
    "change_cutoff(1)"
   ]
  },
  {
   "cell_type": "code",
   "execution_count": null,
   "metadata": {
    "collapsed": true
   },
   "outputs": [],
   "source": [
    "def plot_recall_precision():\n",
    "    recall = []\n",
    "    precision = []\n",
    "    x_values = np.arange(0,10,.1)\n",
    "    for cutoff in x_values:\n",
    "        r,p = change_cutoff(cutoff,False)\n",
    "        recall.append(r)\n",
    "        precision.append(p)\n",
    "    fig, ax = plt.subplots()\n",
    "    ax.plot(x_values, recall)\n",
    "    ax.plot(x_values, precision)\n",
    "    ax.set_title('RECALL AND PRECISION')\n",
    "    plt.show()\n",
    "plot_recall_precision()"
   ]
  }
 ],
 "metadata": {
  "kernelspec": {
   "display_name": "Python 3",
   "language": "python",
   "name": "python3"
  },
  "language_info": {
   "codemirror_mode": {
    "name": "ipython",
    "version": 3
   },
   "file_extension": ".py",
   "mimetype": "text/x-python",
   "name": "python",
   "nbconvert_exporter": "python",
   "pygments_lexer": "ipython3",
   "version": "3.6.3"
  }
 },
 "nbformat": 4,
 "nbformat_minor": 2
}
