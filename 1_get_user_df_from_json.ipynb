{
 "cells": [
  {
   "cell_type": "code",
   "execution_count": null,
   "metadata": {
    "collapsed": true
   },
   "outputs": [],
   "source": [
    "import json\n",
    "import pandas as pd\n",
    "import numpy as np"
   ]
  },
  {
   "cell_type": "code",
   "execution_count": null,
   "metadata": {
    "collapsed": true
   },
   "outputs": [],
   "source": [
    "filename = \"/Users/gandalf/Documents/data/data_report.json\"\n",
    "with open(filename) as fh:\n",
    "    json_data = fh.read()\n",
    "    data = json.loads(json_data)"
   ]
  },
  {
   "cell_type": "code",
   "execution_count": null,
   "metadata": {
    "collapsed": true
   },
   "outputs": [],
   "source": [
    "df = pd.read_json(filename)"
   ]
  },
  {
   "cell_type": "code",
   "execution_count": null,
   "metadata": {},
   "outputs": [],
   "source": [
    "df.head(2)"
   ]
  },
  {
   "cell_type": "code",
   "execution_count": null,
   "metadata": {},
   "outputs": [],
   "source": [
    "def get_user_from_json(df):\n",
    "    '''\n",
    "    original columns: \n",
    "    '_acl'                drop     UNKNOWN, ex: {'*': {'r': True}, '25mzfm6r5U': {'r': True, 'w': True}}\n",
    "    '_auth_data_facebook' drop     FACEBOOK AUTHORIZATION, not helpful (maybe as a yes/no?)\n",
    "    '_created_at'         to_date  DATE CREATED, format {'$date': '2016-11-15T22:54:02.653Z'}\n",
    "    '_hashed_password'    PASSWORD, not useful\n",
    "    '_id'                 string, IMPORTANT!\n",
    "    '_p_room'             UNKNOWN, string, ex: 'Room$dANkaNpTN9' post a room, someone with a room available\n",
    "    '_rperm'              UNKNOWN, ['*', '0PZ0jSiV11'] ignore\n",
    "    '_updated_at'         DATE UPDATED, eg: {'$date': '2017-03-13T19:38:46.405Z'}\n",
    "    '_wperm'              UNKNOWN, eg: ['0PZ0jSiV11'] ignore\n",
    "    'about'               ABOUT ME SECTION, string\n",
    "    'activeAt'            MOST RECENT ACTIVE format: {'$date': '2017-12-04T03:01:37.052Z'}\n",
    "    'amenities'           WHICH AMENITIES, eg: [Laundry, A/C, Dishwasher, Private Bath]\n",
    "    'available'           WHEN AVAILABLe, format: {'$date': '2017-01-31T11:40:52.000Z'}\n",
    "    'birthday'            BIRTHDAY, eg: {'$date': '1992-01-01T00:00:00.000Z'}\n",
    "    'blocked'             EVER BLOCKED eg: [{'__type': 'Pointer', 'className': '_User', 'objectId': 'nHcaVTlJUg'}]\n",
    "    'college'             COLLEGE, string\n",
    "    'email'               EMAIL, string\n",
    "    'emailVerified'       ???, just NaN and 0 ignore\n",
    "    'facebookId'          18-long num, or NaN\n",
    "    'firstName'           FIRST NAME (string)\n",
    "    'foundRoommate'       NaN or 1 (ignore)\n",
    "    'gender'              GENDER, male, female, nan\n",
    "    'groupChat'           ??? NaN or 1\n",
    "    'hobbies'             HOBBIES eg: [Foodie, Movies, Socializing]\n",
    "    'hometown'            HOMETOWN, mostly NAN, has city, state, country\n",
    "                          'hometownCity', 'hometownCountry','hometownCounty', 'hometownState'\n",
    "    'inRelationship', \n",
    "    'isClean',\n",
    "    'isNight', \n",
    "    'isStudent', \n",
    "    'lastName', \n",
    "    'likes'               CHECK BACK facebook likes,eg a band or place\n",
    "    'linkedinId'\n",
    "    'location'            LATITUDE AND LONGITUDE\n",
    "    'maxCost', 'minCost', \n",
    "    'neighborhoods'       eg: [{'__type': 'Pointer', 'className': 'Neighborhood', 'objectId': 'rQgVwGMItl'}]\n",
    "    'numRoommates' \n",
    "    'onboarded'           SUPA IMPORT!!!\n",
    "    'petsOk', \n",
    "    'picture'             string, eg: '6c5316ca545062ad708899e89adb917a_pic.jpeg'\n",
    "    'positions'           some sort of list, picture positions, for posting a room\n",
    "    'recommended'         ignore, internal use, for caching users\n",
    "    'smokingOk'\n",
    "    'term',\n",
    "    'type',               house type ( \n",
    "    'username', \n",
    "    'work']\n",
    "    \n",
    "    '''\n",
    "    \n",
    "    df._created_at = df._created_at.apply(lambda x: pd.to_datetime(x['$date']))\n",
    "    df._p_room = df._p_room.apply(lambda x: isinstance(x,str))\n",
    "    df._updated_at = df._updated_at.apply(lambda x: pd.to_datetime(x['$date']))\n",
    "    df.activeAt = df.activeAt.apply(lambda x: pd.to_datetime(x['$date']) if isinstance(x,str) else 0)\n",
    "    df.available = df.available.apply(lambda x: pd.to_datetime(x['$date']) if isinstance(x,str) else 0)\n",
    "    df.birthday = df.birthday.apply(lambda x: pd.to_datetime(x['$date']) if isinstance(x,str) else 0)\n",
    "    df.email = df.email.apply(lambda x: True if isinstance(x,str) else False)\n",
    "    df.facebookId = df.facebookId.apply(lambda x: True if isinstance(x,int) else False)\n",
    "    df.likes = df.likes.apply(lambda x: True if isinstance(x,int) else False)\n",
    "    df.linkedinId = df.linkedinId.apply(lambda x: True if isinstance(x,int) else False)\n",
    "    df.picture = df.picture.apply(lambda x: True if isinstance(x,str) else False)\n",
    "    df['work_tf'] = df.work.apply(lambda x: True if isinstance(x,str) else False)\n",
    "    col_to_drop = ['_acl','_auth_data_facebook','_hashed_password','_rperm','_wperm','blocked','emailVerified','firstName',\n",
    "                  'foundRoommate','groupChat','hometown','hometownCounty','lastName','positions','recommended','username']\n",
    "    df = df.fillna({'about':''})\n",
    "\n",
    "    df = df.drop(col_to_drop, axis = 1)\n",
    "    \n",
    "    return df\n",
    "\n",
    "temp_df = df.copy()\n",
    "temp_df = get_user_from_json(temp_df)"
   ]
  },
  {
   "cell_type": "code",
   "execution_count": null,
   "metadata": {},
   "outputs": [],
   "source": [
    "temp_df.iloc[:,:].head()"
   ]
  },
  {
   "cell_type": "code",
   "execution_count": null,
   "metadata": {},
   "outputs": [],
   "source": [
    "type(temp_df._created_at[0])"
   ]
  },
  {
   "cell_type": "code",
   "execution_count": null,
   "metadata": {
    "collapsed": true
   },
   "outputs": [],
   "source": []
  },
  {
   "cell_type": "code",
   "execution_count": null,
   "metadata": {
    "collapsed": true
   },
   "outputs": [],
   "source": []
  },
  {
   "cell_type": "code",
   "execution_count": null,
   "metadata": {
    "collapsed": true
   },
   "outputs": [],
   "source": []
  },
  {
   "cell_type": "code",
   "execution_count": null,
   "metadata": {
    "collapsed": true
   },
   "outputs": [],
   "source": []
  },
  {
   "cell_type": "code",
   "execution_count": null,
   "metadata": {
    "collapsed": true
   },
   "outputs": [],
   "source": []
  },
  {
   "cell_type": "code",
   "execution_count": null,
   "metadata": {
    "collapsed": true
   },
   "outputs": [],
   "source": []
  },
  {
   "cell_type": "code",
   "execution_count": null,
   "metadata": {
    "collapsed": true
   },
   "outputs": [],
   "source": []
  },
  {
   "cell_type": "markdown",
   "metadata": {
    "collapsed": true
   },
   "source": [
    "firebase - conversations\n",
    "mongodb for others"
   ]
  },
  {
   "cell_type": "code",
   "execution_count": null,
   "metadata": {
    "collapsed": true
   },
   "outputs": [],
   "source": []
  },
  {
   "cell_type": "code",
   "execution_count": null,
   "metadata": {
    "collapsed": true
   },
   "outputs": [],
   "source": []
  }
 ],
 "metadata": {
  "kernelspec": {
   "display_name": "Python 3",
   "language": "python",
   "name": "python3"
  },
  "language_info": {
   "codemirror_mode": {
    "name": "ipython",
    "version": 3
   },
   "file_extension": ".py",
   "mimetype": "text/x-python",
   "name": "python",
   "nbconvert_exporter": "python",
   "pygments_lexer": "ipython3",
   "version": "3.6.3"
  }
 },
 "nbformat": 4,
 "nbformat_minor": 2
}
