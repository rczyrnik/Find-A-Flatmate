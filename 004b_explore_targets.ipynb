{
 "cells": [
  {
   "cell_type": "code",
   "execution_count": null,
   "metadata": {
    "collapsed": true
   },
   "outputs": [],
   "source": [
    "import pandas as pd\n",
    "import numpy as np\n",
    "import matplotlib.pyplot as plt\n",
    "import datetime as dt\n",
    "\n",
    "import seaborn as sns\n",
    "sns.set()"
   ]
  },
  {
   "cell_type": "code",
   "execution_count": null,
   "metadata": {
    "collapsed": true
   },
   "outputs": [],
   "source": [
    "# directory\n",
    "data_file_path = \"/Users/gandalf/Documents/coding/do_not_commit/capstone/\"\n",
    "website_file_path = '/Users/gandalf/Documents/coding/rczyrnik.github.io/capstone/'"
   ]
  },
  {
   "cell_type": "code",
   "execution_count": null,
   "metadata": {
    "collapsed": true
   },
   "outputs": [],
   "source": [
    "master_df = pd.read_pickle(data_file_path+'master_df.pkl')"
   ]
  },
  {
   "cell_type": "code",
   "execution_count": null,
   "metadata": {
    "collapsed": true
   },
   "outputs": [],
   "source": []
  },
  {
   "cell_type": "code",
   "execution_count": null,
   "metadata": {},
   "outputs": [],
   "source": [
    "def smooth(lst, times=1):\n",
    "    once = [lst[0]] + [.25*lst[x-1]+.5*lst[x]+.25*lst[x+1] for x in range(0, len(lst)-1)]\n",
    "\n",
    "    if times == 1:\n",
    "        return once\n",
    "    else:\n",
    "        return (smooth(once, times-1))\n",
    "    \n",
    "def show_trend(df, feature_name, smoothing=20):\n",
    "    \n",
    "    temp = df.groupby([feature_name,'response']).count().const.unstack().fillna(0)\n",
    "    temp.columns = ['no','yes']\n",
    "    temp['total'] = temp.no+temp.yes\n",
    "    temp['percent'] = temp.yes/temp.total\n",
    "\n",
    "    lst = smooth(list(temp.percent),smoothing) \n",
    "\n",
    "#     dates = list(pd.date_range(pd.to_datetime(\"03/01/2017\"), periods=len(lst)))\n",
    "\n",
    "#     plt.plot(dates, lst)\n",
    "    plt.plot(lst)\n",
    "    plt.ylabel(\"Percent Responding\")\n",
    "#     plt.xlabel(\"Date\")\n",
    "    plt.title(feature_name, fontsize=16)\n",
    "    plt.savefig(website_file_path+\"response_rate_\"+feature_name+\".png\")\n",
    "    plt.show()\n",
    "    \n",
    "show_trend(master_df,'created_day_of_year_receiver')   "
   ]
  },
  {
   "cell_type": "code",
   "execution_count": null,
   "metadata": {
    "collapsed": true
   },
   "outputs": [],
   "source": [
    "most_important = ['td_creat_avail_receiver','urgency_receiver','created_day_of_year_receiver',\n",
    "                  'first_message_day_of_year','yes_room_receiver','maxCost_receiver',\n",
    "                  'engagement_proxy_receiver','rent_range_receiver','created_day_of_year_sender',\n",
    "                  'len_about_receiver','minCost_receiver','user_similarity','gender_sender','age_receiver',\n",
    "                  'len_hobbies_receiver','yes_block_receiver','age_dif','gender_receiver',\n",
    "                  'first_message_day_of_week','urgency_sender']"
   ]
  },
  {
   "cell_type": "code",
   "execution_count": null,
   "metadata": {},
   "outputs": [],
   "source": [
    "show_trend(master_df,'yes_room_receiver',1)   "
   ]
  },
  {
   "cell_type": "code",
   "execution_count": null,
   "metadata": {
    "collapsed": true
   },
   "outputs": [],
   "source": []
  },
  {
   "cell_type": "code",
   "execution_count": null,
   "metadata": {
    "collapsed": true
   },
   "outputs": [],
   "source": []
  },
  {
   "cell_type": "code",
   "execution_count": null,
   "metadata": {
    "collapsed": true
   },
   "outputs": [],
   "source": []
  },
  {
   "cell_type": "code",
   "execution_count": null,
   "metadata": {
    "collapsed": true
   },
   "outputs": [],
   "source": []
  },
  {
   "cell_type": "code",
   "execution_count": null,
   "metadata": {
    "collapsed": true
   },
   "outputs": [],
   "source": []
  },
  {
   "cell_type": "code",
   "execution_count": null,
   "metadata": {},
   "outputs": [],
   "source": [
    "for col in most_important:\n",
    "    show_trend(master_df,col) "
   ]
  },
  {
   "cell_type": "code",
   "execution_count": null,
   "metadata": {
    "collapsed": true
   },
   "outputs": [],
   "source": []
  },
  {
   "cell_type": "code",
   "execution_count": null,
   "metadata": {
    "collapsed": true
   },
   "outputs": [],
   "source": []
  }
 ],
 "metadata": {
  "kernelspec": {
   "display_name": "Python 3",
   "language": "python",
   "name": "python3"
  },
  "language_info": {
   "codemirror_mode": {
    "name": "ipython",
    "version": 3
   },
   "file_extension": ".py",
   "mimetype": "text/x-python",
   "name": "python",
   "nbconvert_exporter": "python",
   "pygments_lexer": "ipython3",
   "version": "3.6.3"
  }
 },
 "nbformat": 4,
 "nbformat_minor": 2
}
