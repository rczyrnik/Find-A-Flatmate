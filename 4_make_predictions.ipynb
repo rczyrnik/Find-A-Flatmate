{
 "cells": [
  {
   "cell_type": "markdown",
   "metadata": {},
   "source": [
    "# IMPORTS"
   ]
  },
  {
   "cell_type": "code",
   "execution_count": 1,
   "metadata": {
    "collapsed": true
   },
   "outputs": [],
   "source": [
    "import pandas as pd\n",
    "import numpy as np\n",
    "# import matplotlib.pyplot as plt\n",
    "# %matplotlib inline\n",
    "from sklearn.model_selection import train_test_split\n",
    "from sklearn.linear_model import LogisticRegression\n",
    "from sklearn.tree import DecisionTreeClassifier\n",
    "from sklearn.ensemble import RandomForestClassifier\n",
    "from sklearn.ensemble import GradientBoostingClassifier\n",
    "\n",
    "from sklearn.metrics import precision_score, recall_score\n",
    "# from sklearn.metrics import confusion_matrix\n",
    "import my_pickle as mp\n",
    "from my_resample import div_count_pos_neg, undersample, oversample\n",
    "import my_features as mf"
   ]
  },
  {
   "cell_type": "markdown",
   "metadata": {},
   "source": [
    "# UNPICKLE"
   ]
  },
  {
   "cell_type": "code",
   "execution_count": 4,
   "metadata": {},
   "outputs": [
    {
     "name": "stdout",
     "output_type": "stream",
     "text": [
      "Make sure we're not useing ECT data\n",
      "2017-10-02 01:35:58.644000\n"
     ]
    }
   ],
   "source": [
    "# user_df = mp.unjson_it('data_users')\n",
    "# convo_df = mp.unjson_it('data_convo')\n",
    "\n",
    "# print(\"Make sure we're not useing ECT data\")\n",
    "# print(convo_df.timestamp.max())"
   ]
  },
  {
   "cell_type": "code",
   "execution_count": 2,
   "metadata": {},
   "outputs": [
    {
     "name": "stdout",
     "output_type": "stream",
     "text": [
      "Make sure we're not useing ECT data\n",
      "2017-10-02 01:35:58.644000\n"
     ]
    }
   ],
   "source": [
    "X = mp.unjson_it('data_features')\n",
    "print(\"Make sure we're not useing ECT data\")\n",
    "print(X.timestamp.max())"
   ]
  },
  {
   "cell_type": "markdown",
   "metadata": {},
   "source": [
    "# GET X AND y"
   ]
  },
  {
   "cell_type": "code",
   "execution_count": 3,
   "metadata": {},
   "outputs": [
    {
     "name": "stdout",
     "output_type": "stream",
     "text": [
      "10937\n",
      "10937\n"
     ]
    }
   ],
   "source": [
    "y = X.response\n",
    "X = X.drop(['response', 'timestamp'], axis=1)\n",
    "print(len(X))\n",
    "print(len(y))#.sum()"
   ]
  },
  {
   "cell_type": "code",
   "execution_count": 4,
   "metadata": {},
   "outputs": [
    {
     "data": {
      "text/html": [
       "<div>\n",
       "<style>\n",
       "    .dataframe thead tr:only-child th {\n",
       "        text-align: right;\n",
       "    }\n",
       "\n",
       "    .dataframe thead th {\n",
       "        text-align: left;\n",
       "    }\n",
       "\n",
       "    .dataframe tbody tr th {\n",
       "        vertical-align: top;\n",
       "    }\n",
       "</style>\n",
       "<table border=\"1\" class=\"dataframe\">\n",
       "  <thead>\n",
       "    <tr style=\"text-align: right;\">\n",
       "      <th></th>\n",
       "      <th>I_count_receiver</th>\n",
       "      <th>I_count_sender</th>\n",
       "      <th>I_ratio_receiver</th>\n",
       "      <th>I_ratio_sender</th>\n",
       "      <th>age_dif</th>\n",
       "      <th>age_receiver</th>\n",
       "      <th>age_sender</th>\n",
       "      <th>amenities_overlap</th>\n",
       "      <th>exclaim_count_receiver</th>\n",
       "      <th>exclaim_count_sender</th>\n",
       "      <th>...</th>\n",
       "      <th>sentence_count_receiver</th>\n",
       "      <th>sentence_count_sender</th>\n",
       "      <th>sentence_ratio_receiver</th>\n",
       "      <th>sentence_ratio_sender</th>\n",
       "      <th>smokingOk_receiver</th>\n",
       "      <th>smokingOk_sender</th>\n",
       "      <th>term_receiver</th>\n",
       "      <th>term_sender</th>\n",
       "      <th>type_receiver</th>\n",
       "      <th>type_sender</th>\n",
       "    </tr>\n",
       "  </thead>\n",
       "  <tbody>\n",
       "    <tr>\n",
       "      <th>count</th>\n",
       "      <td>10937.000000</td>\n",
       "      <td>10937.000000</td>\n",
       "      <td>10937.000000</td>\n",
       "      <td>10937.000000</td>\n",
       "      <td>10937.000000</td>\n",
       "      <td>10937.000000</td>\n",
       "      <td>10937.000000</td>\n",
       "      <td>10937.000000</td>\n",
       "      <td>10937.000000</td>\n",
       "      <td>10937.000000</td>\n",
       "      <td>...</td>\n",
       "      <td>10937.000000</td>\n",
       "      <td>10937.000000</td>\n",
       "      <td>10937.000000</td>\n",
       "      <td>10937.000000</td>\n",
       "      <td>10937.000000</td>\n",
       "      <td>10937.000000</td>\n",
       "      <td>10937.000000</td>\n",
       "      <td>10937.000000</td>\n",
       "      <td>10937.000000</td>\n",
       "      <td>10937.000000</td>\n",
       "    </tr>\n",
       "    <tr>\n",
       "      <th>mean</th>\n",
       "      <td>1.330072</td>\n",
       "      <td>2.049465</td>\n",
       "      <td>28.027685</td>\n",
       "      <td>17.232078</td>\n",
       "      <td>5.391606</td>\n",
       "      <td>26.663802</td>\n",
       "      <td>26.900613</td>\n",
       "      <td>0.651275</td>\n",
       "      <td>0.233428</td>\n",
       "      <td>0.347536</td>\n",
       "      <td>...</td>\n",
       "      <td>1.824723</td>\n",
       "      <td>2.753132</td>\n",
       "      <td>28.029930</td>\n",
       "      <td>17.235737</td>\n",
       "      <td>0.479656</td>\n",
       "      <td>0.578038</td>\n",
       "      <td>17.615704</td>\n",
       "      <td>16.766844</td>\n",
       "      <td>13.757217</td>\n",
       "      <td>16.145979</td>\n",
       "    </tr>\n",
       "    <tr>\n",
       "      <th>std</th>\n",
       "      <td>2.892813</td>\n",
       "      <td>3.553003</td>\n",
       "      <td>30.796370</td>\n",
       "      <td>28.661532</td>\n",
       "      <td>6.939003</td>\n",
       "      <td>6.328276</td>\n",
       "      <td>7.227309</td>\n",
       "      <td>1.037781</td>\n",
       "      <td>0.824764</td>\n",
       "      <td>0.954910</td>\n",
       "      <td>...</td>\n",
       "      <td>3.692865</td>\n",
       "      <td>4.412519</td>\n",
       "      <td>30.794329</td>\n",
       "      <td>28.659357</td>\n",
       "      <td>0.499609</td>\n",
       "      <td>0.493895</td>\n",
       "      <td>12.839475</td>\n",
       "      <td>13.571254</td>\n",
       "      <td>19.352382</td>\n",
       "      <td>22.909026</td>\n",
       "    </tr>\n",
       "    <tr>\n",
       "      <th>min</th>\n",
       "      <td>0.000000</td>\n",
       "      <td>0.000000</td>\n",
       "      <td>0.000000</td>\n",
       "      <td>0.000000</td>\n",
       "      <td>0.000000</td>\n",
       "      <td>12.000000</td>\n",
       "      <td>12.000000</td>\n",
       "      <td>0.000000</td>\n",
       "      <td>0.000000</td>\n",
       "      <td>0.000000</td>\n",
       "      <td>...</td>\n",
       "      <td>0.000000</td>\n",
       "      <td>0.000000</td>\n",
       "      <td>0.000000</td>\n",
       "      <td>0.000000</td>\n",
       "      <td>0.000000</td>\n",
       "      <td>0.000000</td>\n",
       "      <td>1.000000</td>\n",
       "      <td>1.000000</td>\n",
       "      <td>0.000000</td>\n",
       "      <td>0.000000</td>\n",
       "    </tr>\n",
       "    <tr>\n",
       "      <th>25%</th>\n",
       "      <td>0.000000</td>\n",
       "      <td>0.000000</td>\n",
       "      <td>0.011792</td>\n",
       "      <td>0.007663</td>\n",
       "      <td>2.000000</td>\n",
       "      <td>22.000000</td>\n",
       "      <td>22.000000</td>\n",
       "      <td>0.000000</td>\n",
       "      <td>0.000000</td>\n",
       "      <td>0.000000</td>\n",
       "      <td>...</td>\n",
       "      <td>0.000000</td>\n",
       "      <td>0.000000</td>\n",
       "      <td>0.016260</td>\n",
       "      <td>0.012605</td>\n",
       "      <td>0.000000</td>\n",
       "      <td>0.000000</td>\n",
       "      <td>12.000000</td>\n",
       "      <td>12.000000</td>\n",
       "      <td>1.000000</td>\n",
       "      <td>1.000000</td>\n",
       "    </tr>\n",
       "    <tr>\n",
       "      <th>50%</th>\n",
       "      <td>0.000000</td>\n",
       "      <td>1.000000</td>\n",
       "      <td>27.058934</td>\n",
       "      <td>0.018349</td>\n",
       "      <td>4.000000</td>\n",
       "      <td>26.000000</td>\n",
       "      <td>26.000000</td>\n",
       "      <td>0.000000</td>\n",
       "      <td>0.000000</td>\n",
       "      <td>0.000000</td>\n",
       "      <td>...</td>\n",
       "      <td>0.000000</td>\n",
       "      <td>1.000000</td>\n",
       "      <td>27.058934</td>\n",
       "      <td>0.020979</td>\n",
       "      <td>0.000000</td>\n",
       "      <td>1.000000</td>\n",
       "      <td>12.000000</td>\n",
       "      <td>12.000000</td>\n",
       "      <td>1.000000</td>\n",
       "      <td>1.000000</td>\n",
       "    </tr>\n",
       "    <tr>\n",
       "      <th>75%</th>\n",
       "      <td>1.000000</td>\n",
       "      <td>3.000000</td>\n",
       "      <td>48.393939</td>\n",
       "      <td>34.157705</td>\n",
       "      <td>7.000000</td>\n",
       "      <td>30.000000</td>\n",
       "      <td>30.000000</td>\n",
       "      <td>1.000000</td>\n",
       "      <td>0.000000</td>\n",
       "      <td>0.000000</td>\n",
       "      <td>...</td>\n",
       "      <td>3.000000</td>\n",
       "      <td>4.000000</td>\n",
       "      <td>48.393939</td>\n",
       "      <td>34.157705</td>\n",
       "      <td>1.000000</td>\n",
       "      <td>1.000000</td>\n",
       "      <td>24.000000</td>\n",
       "      <td>20.308388</td>\n",
       "      <td>29.435340</td>\n",
       "      <td>33.873537</td>\n",
       "    </tr>\n",
       "    <tr>\n",
       "      <th>max</th>\n",
       "      <td>38.000000</td>\n",
       "      <td>38.000000</td>\n",
       "      <td>340.466910</td>\n",
       "      <td>311.311057</td>\n",
       "      <td>98.000000</td>\n",
       "      <td>118.000000</td>\n",
       "      <td>118.000000</td>\n",
       "      <td>6.000000</td>\n",
       "      <td>20.000000</td>\n",
       "      <td>20.000000</td>\n",
       "      <td>...</td>\n",
       "      <td>93.000000</td>\n",
       "      <td>93.000000</td>\n",
       "      <td>340.466910</td>\n",
       "      <td>311.311057</td>\n",
       "      <td>1.000000</td>\n",
       "      <td>1.000000</td>\n",
       "      <td>154.603746</td>\n",
       "      <td>150.057776</td>\n",
       "      <td>161.439289</td>\n",
       "      <td>164.027541</td>\n",
       "    </tr>\n",
       "  </tbody>\n",
       "</table>\n",
       "<p>8 rows × 80 columns</p>\n",
       "</div>"
      ],
      "text/plain": [
       "       I_count_receiver  I_count_sender  I_ratio_receiver  I_ratio_sender  \\\n",
       "count      10937.000000    10937.000000      10937.000000    10937.000000   \n",
       "mean           1.330072        2.049465         28.027685       17.232078   \n",
       "std            2.892813        3.553003         30.796370       28.661532   \n",
       "min            0.000000        0.000000          0.000000        0.000000   \n",
       "25%            0.000000        0.000000          0.011792        0.007663   \n",
       "50%            0.000000        1.000000         27.058934        0.018349   \n",
       "75%            1.000000        3.000000         48.393939       34.157705   \n",
       "max           38.000000       38.000000        340.466910      311.311057   \n",
       "\n",
       "            age_dif  age_receiver    age_sender  amenities_overlap  \\\n",
       "count  10937.000000  10937.000000  10937.000000       10937.000000   \n",
       "mean       5.391606     26.663802     26.900613           0.651275   \n",
       "std        6.939003      6.328276      7.227309           1.037781   \n",
       "min        0.000000     12.000000     12.000000           0.000000   \n",
       "25%        2.000000     22.000000     22.000000           0.000000   \n",
       "50%        4.000000     26.000000     26.000000           0.000000   \n",
       "75%        7.000000     30.000000     30.000000           1.000000   \n",
       "max       98.000000    118.000000    118.000000           6.000000   \n",
       "\n",
       "       exclaim_count_receiver  exclaim_count_sender      ...       \\\n",
       "count            10937.000000          10937.000000      ...        \n",
       "mean                 0.233428              0.347536      ...        \n",
       "std                  0.824764              0.954910      ...        \n",
       "min                  0.000000              0.000000      ...        \n",
       "25%                  0.000000              0.000000      ...        \n",
       "50%                  0.000000              0.000000      ...        \n",
       "75%                  0.000000              0.000000      ...        \n",
       "max                 20.000000             20.000000      ...        \n",
       "\n",
       "       sentence_count_receiver  sentence_count_sender  \\\n",
       "count             10937.000000           10937.000000   \n",
       "mean                  1.824723               2.753132   \n",
       "std                   3.692865               4.412519   \n",
       "min                   0.000000               0.000000   \n",
       "25%                   0.000000               0.000000   \n",
       "50%                   0.000000               1.000000   \n",
       "75%                   3.000000               4.000000   \n",
       "max                  93.000000              93.000000   \n",
       "\n",
       "       sentence_ratio_receiver  sentence_ratio_sender  smokingOk_receiver  \\\n",
       "count             10937.000000           10937.000000        10937.000000   \n",
       "mean                 28.029930              17.235737            0.479656   \n",
       "std                  30.794329              28.659357            0.499609   \n",
       "min                   0.000000               0.000000            0.000000   \n",
       "25%                   0.016260               0.012605            0.000000   \n",
       "50%                  27.058934               0.020979            0.000000   \n",
       "75%                  48.393939              34.157705            1.000000   \n",
       "max                 340.466910             311.311057            1.000000   \n",
       "\n",
       "       smokingOk_sender  term_receiver   term_sender  type_receiver  \\\n",
       "count      10937.000000   10937.000000  10937.000000   10937.000000   \n",
       "mean           0.578038      17.615704     16.766844      13.757217   \n",
       "std            0.493895      12.839475     13.571254      19.352382   \n",
       "min            0.000000       1.000000      1.000000       0.000000   \n",
       "25%            0.000000      12.000000     12.000000       1.000000   \n",
       "50%            1.000000      12.000000     12.000000       1.000000   \n",
       "75%            1.000000      24.000000     20.308388      29.435340   \n",
       "max            1.000000     154.603746    150.057776     161.439289   \n",
       "\n",
       "        type_sender  \n",
       "count  10937.000000  \n",
       "mean      16.145979  \n",
       "std       22.909026  \n",
       "min        0.000000  \n",
       "25%        1.000000  \n",
       "50%        1.000000  \n",
       "75%       33.873537  \n",
       "max      164.027541  \n",
       "\n",
       "[8 rows x 80 columns]"
      ]
     },
     "execution_count": 4,
     "metadata": {},
     "output_type": "execute_result"
    }
   ],
   "source": [
    "X.describe()"
   ]
  },
  {
   "cell_type": "markdown",
   "metadata": {},
   "source": [
    "# OVERSAMPLE"
   ]
  },
  {
   "cell_type": "code",
   "execution_count": 5,
   "metadata": {},
   "outputs": [
    {
     "name": "stdout",
     "output_type": "stream",
     "text": [
      "messages sent: 14632\n",
      "responses:     7316\n",
      "\n",
      "Prediction:   [0 0 0 0 0 1 0 0 0 0 0 0 0 0 0 0 0 0 0 0]...\n",
      "Actual:       [0 0 0 0 0 1 0 0 0 0 0 0 0 0 0 0 0 0 0 0]...\n",
      "Model recall: 0.6641509433962264\n",
      "Model precision: 0.9943502824858758\n",
      "Score of model: 0.9670932358318098\n",
      "Score to beat: 0.903107861060329\n"
     ]
    }
   ],
   "source": [
    "X_train, X_test, y_train, y_test = train_test_split(X.as_matrix(), y.as_matrix(), random_state=17)\n",
    "\n",
    "X_train, y_train = oversample(X_train, y_train, .5)\n",
    "\n",
    "# X_ove, y_ove = oversample(X.as_matrix(), y.as_matrix(), .5)\n",
    "\n",
    "# X_train, X_test, y_train, y_test = train_test_split(X_ove, y_ove, random_state=17)\n",
    "\n",
    "print(\"messages sent: {}\".format(len(y_train)))\n",
    "print(\"responses:     {}\\n\".format(y_train.sum()))\n",
    "\n",
    "model = RandomForestClassifier()\n",
    "model.fit(X_train, y_train)\n",
    "y_pred = model.predict(X_test)\n",
    "print(\"Prediction:   {}...\".format(model.predict(X_test)[:20]))\n",
    "print(\"Actual:       {}...\".format(y_test[:20]))\n",
    "print(\"Model recall: {}\".format(recall_score(y_test, y_pred)))\n",
    "print(\"Model precision: {}\".format(precision_score(y_test, y_pred)))\n",
    "print(\"Score of model: {}\".format(model.score(X_test, y_test)))\n",
    "print(\"Score to beat: {}\".format(1-y_test.sum()/len(y_test)))"
   ]
  },
  {
   "cell_type": "code",
   "execution_count": null,
   "metadata": {
    "collapsed": true
   },
   "outputs": [],
   "source": [
    "messages sent: 14708\n",
    "responses:     7354\n",
    "\n",
    "Prediction:   [0 0 0 0 0 0 0 0 0 0 0 0 0 0 0 0 1 0 0 0]...\n",
    "Actual:       [0 0 0 0 0 0 0 0 0 0 0 0 1 0 0 0 1 0 0 0]...\n",
    "Model recall: 0.31683168316831684\n",
    "Model precision: 0.5052631578947369\n",
    "Score of model: 0.889945155393053\n",
    "Score to beat: 0.8892138939670933"
   ]
  },
  {
   "cell_type": "markdown",
   "metadata": {},
   "source": [
    "# BASELINE RANDOM FOREST"
   ]
  },
  {
   "cell_type": "code",
   "execution_count": null,
   "metadata": {
    "collapsed": true
   },
   "outputs": [],
   "source": [
    "print(\"Messages with responses:    {}\".format((convo_df.response == True).sum()))\n",
    "print(\"Messages without responses: {}\".format((convo_df.response == False).sum()))\n",
    "print(\"Total messages:             {}\".format(len(convo_df)))"
   ]
  },
  {
   "cell_type": "code",
   "execution_count": null,
   "metadata": {
    "collapsed": true
   },
   "outputs": [],
   "source": [
    "# X_unsamp, y_unsamp = X.as_matrix(), y.as_matrix()\n",
    "\n",
    "# X_train, X_test, y_train, y_test = train_test_split(X_unsamp, y_unsamp, random_state=17)\n",
    "\n",
    "X_train, X_test, y_train, y_test = train_test_split(X.as_matrix(), y.as_matrix(), random_state=17)\n",
    "\n",
    "X_train, y_train = oversample(X_train, y_train, .5)\n",
    "\n",
    "print(\"messages sent: {}\".format(len(y_train)))\n",
    "print(\"responses:     {}\\n\".format(y_train.sum()))\n",
    "\n",
    "model = RandomForestClassifier()\n",
    "model.fit(X_train, y_train)\n",
    "y_pred = model.predict(X_test)\n",
    "print(\"Prediction:   {}...\".format(model.predict(X_test)[:20]))\n",
    "print(\"Actual:       {}...\".format(y_test[:20]))\n",
    "print(\"Model recall: {}\".format(recall_score(y_test, y_pred)))\n",
    "print(\"Model precision: {}\".format(precision_score(y_test, y_pred)))\n",
    "print(\"Score of model: {}\".format(model.score(X_test, y_test)))\n",
    "print(\"Score to beat: {}\".format(1-y_test.sum()/len(y_test)))"
   ]
  },
  {
   "cell_type": "markdown",
   "metadata": {},
   "source": [
    "# UNDERSAMPLE"
   ]
  },
  {
   "cell_type": "code",
   "execution_count": 18,
   "metadata": {},
   "outputs": [
    {
     "name": "stdout",
     "output_type": "stream",
     "text": [
      "messages sent: 14708\n",
      "responses:     7354\n",
      "\n",
      "Prediction:   [0 0 0 0 0 0 0 0 0 0 0 0 0 0 0 0 1 0 0 0]...\n",
      "Actual:       [0 0 0 0 0 0 0 0 0 0 0 0 1 0 0 0 1 0 0 0]...\n",
      "Model recall: 0.33663366336633666\n",
      "Model precision: 0.53125\n",
      "Score of model: 0.8936014625228519\n",
      "Score to beat: 0.8892138939670933\n"
     ]
    }
   ],
   "source": [
    "# X_und, y_und = undersample(X, y, .5)\n",
    "\n",
    "# X_train, X_test, y_train, y_test = train_test_split(X_und, y_und, random_state=17)\n",
    "\n",
    "X_train, X_test, y_train, y_test = train_test_split(X.as_matrix(), y.as_matrix(), random_state=17)\n",
    "\n",
    "X_train, y_train = oversample(X_train, y_train, .5)\n",
    "\n",
    "print(\"messages sent: {}\".format(len(y_train)))\n",
    "print(\"responses:     {}\\n\".format(y_train.sum()))\n",
    "\n",
    "model = RandomForestClassifier()\n",
    "model.fit(X_train, y_train)\n",
    "y_pred = model.predict(X_test)\n",
    "print(\"Prediction:   {}...\".format(model.predict(X_test)[:20]))\n",
    "print(\"Actual:       {}...\".format(y_test[:20]))\n",
    "print(\"Model recall: {}\".format(recall_score(y_test, y_pred)))\n",
    "print(\"Model precision: {}\".format(precision_score(y_test, y_pred)))\n",
    "print(\"Score of model: {}\".format(model.score(X_test, y_test)))\n",
    "print(\"Score to beat: {}\".format(1-y_test.sum()/len(y_test)))"
   ]
  },
  {
   "cell_type": "markdown",
   "metadata": {},
   "source": [
    "# OTHER MODELS KEPT HERE"
   ]
  },
  {
   "cell_type": "code",
   "execution_count": null,
   "metadata": {
    "collapsed": true
   },
   "outputs": [],
   "source": [
    "model = LogisticRegression()\n",
    "model.fit(X_train, y_train)\n",
    "print(\"Prediction:   {}\".format(model.predict(X_test)))\n",
    "print(\"Actual:       {}\".format(y_test))\n",
    "print(\"Score of model: {}\".format(model.score(X_test, y_test)))\n",
    "print(\"Score to beat: {}\".format(1-y_test.sum()/len(y_test)))"
   ]
  },
  {
   "cell_type": "code",
   "execution_count": null,
   "metadata": {
    "collapsed": true
   },
   "outputs": [],
   "source": [
    "model = DecisionTreeClassifier()\n",
    "model.fit(X_train, y_train)\n",
    "y_pred = model.predict(X_test)\n",
    "print(\"Prediction:   {}\".format(model.predict(X_test)))\n",
    "print(\"Actual:       {}\".format(y_test))\n",
    "print(\"Model recall: {}\".format(recall_score(y_test, y_pred)))\n",
    "print(\"Model precision: {}\".format(precision_score(y_test, y_pred)))\n",
    "print(\"Score of model: {}\".format(model.score(X_test, y_test)))\n",
    "print(\"Score to beat: {}\".format(1-y_test.sum()/len(y_test)))"
   ]
  },
  {
   "cell_type": "code",
   "execution_count": null,
   "metadata": {
    "collapsed": true
   },
   "outputs": [],
   "source": [
    "model = GradientBoostingClassifier()\n",
    "\n",
    "model.fit(X_train, y_train)\n",
    "print(\"Prediction:   {}\".format(model.predict(X_test)))\n",
    "print(\"Actual:       {}\".format(y_test))\n",
    "print(\"Model recall: {}\".format(recall_score(y_test, y_pred)))\n",
    "print(\"Model precision: {}\".format(precision_score(y_test, y_pred)))\n",
    "print(\"Score of model: {}\".format(model.score(X_test, y_test)))\n",
    "print(\"Score to beat: {}\".format(1-y_test.sum()/len(y_test)))"
   ]
  },
  {
   "cell_type": "code",
   "execution_count": null,
   "metadata": {
    "collapsed": true
   },
   "outputs": [],
   "source": []
  }
 ],
 "metadata": {
  "kernelspec": {
   "display_name": "Python 3",
   "language": "python",
   "name": "python3"
  },
  "language_info": {
   "codemirror_mode": {
    "name": "ipython",
    "version": 3
   },
   "file_extension": ".py",
   "mimetype": "text/x-python",
   "name": "python",
   "nbconvert_exporter": "python",
   "pygments_lexer": "ipython3",
   "version": "3.6.3"
  }
 },
 "nbformat": 4,
 "nbformat_minor": 2
}
