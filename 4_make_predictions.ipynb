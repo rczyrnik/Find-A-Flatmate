{
 "cells": [
  {
   "cell_type": "markdown",
   "metadata": {},
   "source": [
    "# IMPORTS"
   ]
  },
  {
   "cell_type": "code",
   "execution_count": 1,
   "metadata": {
    "collapsed": true
   },
   "outputs": [],
   "source": [
    "import pandas as pd\n",
    "import numpy as np\n",
    "# import matplotlib.pyplot as plt\n",
    "# %matplotlib inline\n",
    "from sklearn.model_selection import train_test_split\n",
    "from sklearn.linear_model import LogisticRegression\n",
    "from sklearn.tree import DecisionTreeClassifier\n",
    "from sklearn.ensemble import RandomForestClassifier\n",
    "from sklearn.ensemble import GradientBoostingClassifier\n",
    "\n",
    "from sklearn.metrics import precision_score, recall_score\n",
    "# from sklearn.metrics import confusion_matrix\n",
    "import my_pickle as mp\n",
    "from my_resample import div_count_pos_neg, undersample, oversample\n",
    "import my_features as mf"
   ]
  },
  {
   "cell_type": "markdown",
   "metadata": {},
   "source": [
    "# UNPICKLE"
   ]
  },
  {
   "cell_type": "code",
   "execution_count": 2,
   "metadata": {},
   "outputs": [
    {
     "name": "stdout",
     "output_type": "stream",
     "text": [
      "Make sure we're not useing ECT data\n",
      "2017-10-02 01:35:58.644000\n"
     ]
    }
   ],
   "source": [
    "user_df = mp.unpickle_it('user_df')\n",
    "convo_df = mp.unpickle_it('convo_df')\n",
    "\n",
    "print(\"Make sure we're not useing ECT data\")\n",
    "print(pd.to_datetime(convo_df.timestamp.max()*1000000))"
   ]
  },
  {
   "cell_type": "code",
   "execution_count": 19,
   "metadata": {},
   "outputs": [
    {
     "name": "stdout",
     "output_type": "stream",
     "text": [
      "Make sure we're not useing ECT data\n",
      "2017-10-02 01:35:58.644000\n"
     ]
    }
   ],
   "source": [
    "X = mp.unpickle_it('X')\n",
    "print(\"Make sure we're not useing ECT data\")\n",
    "print(pd.to_datetime(X.timestamp.max()*1000000))"
   ]
  },
  {
   "cell_type": "markdown",
   "metadata": {},
   "source": [
    "# GET X AND y"
   ]
  },
  {
   "cell_type": "code",
   "execution_count": 13,
   "metadata": {},
   "outputs": [
    {
     "name": "stdout",
     "output_type": "stream",
     "text": [
      "10937\n",
      "10937\n",
      "Index(['conv_id', 'response', 'first_uid', 'second_uid', 'first_mid',\n",
      "       'second_mid', 'timestamp', 'age_dif', 'rent_overlap',\n",
      "       'inverse_distance', 'roommate_num_sim', 'same_gender', 'same_relate',\n",
      "       'same_clean', 'same_night', 'same_student', 'same_smoking', 'same_term',\n",
      "       'sender_attractiveness', 'receiver_selectivity'],\n",
      "      dtype='object')\n"
     ]
    }
   ],
   "source": [
    "X = mf.feature_time(convo_df, user_df)\n",
    "print(X.columns)"
   ]
  },
  {
   "cell_type": "code",
   "execution_count": 20,
   "metadata": {},
   "outputs": [
    {
     "name": "stdout",
     "output_type": "stream",
     "text": [
      "10937\n",
      "10937\n"
     ]
    }
   ],
   "source": [
    "y = X.response.map({True:1,False:0})\n",
    "X = X.drop(['conv_id', 'response', 'first_uid', 'second_uid', 'first_mid',\n",
    "       'second_mid', 'timestamp'], axis=1)\n",
    "print(len(X))\n",
    "print(len(y))#.sum()"
   ]
  },
  {
   "cell_type": "code",
   "execution_count": 21,
   "metadata": {},
   "outputs": [
    {
     "data": {
      "text/html": [
       "<div>\n",
       "<style>\n",
       "    .dataframe thead tr:only-child th {\n",
       "        text-align: right;\n",
       "    }\n",
       "\n",
       "    .dataframe thead th {\n",
       "        text-align: left;\n",
       "    }\n",
       "\n",
       "    .dataframe tbody tr th {\n",
       "        vertical-align: top;\n",
       "    }\n",
       "</style>\n",
       "<table border=\"1\" class=\"dataframe\">\n",
       "  <thead>\n",
       "    <tr style=\"text-align: right;\">\n",
       "      <th></th>\n",
       "      <th>age_dif</th>\n",
       "      <th>rent_overlap</th>\n",
       "      <th>roommate_num_sim</th>\n",
       "      <th>same_gender</th>\n",
       "      <th>same_relate</th>\n",
       "      <th>same_clean</th>\n",
       "      <th>same_night</th>\n",
       "      <th>same_student</th>\n",
       "      <th>same_smoking</th>\n",
       "      <th>same_term</th>\n",
       "      <th>sender_attractiveness</th>\n",
       "      <th>receiver_selectivity</th>\n",
       "    </tr>\n",
       "  </thead>\n",
       "  <tbody>\n",
       "    <tr>\n",
       "      <th>count</th>\n",
       "      <td>10937.000000</td>\n",
       "      <td>10937.000000</td>\n",
       "      <td>10937.000000</td>\n",
       "      <td>10937.000000</td>\n",
       "      <td>10937.000000</td>\n",
       "      <td>10937.000000</td>\n",
       "      <td>10937.000000</td>\n",
       "      <td>10937.000000</td>\n",
       "      <td>10937.000000</td>\n",
       "      <td>10937.000000</td>\n",
       "      <td>10937.000000</td>\n",
       "      <td>10937.000000</td>\n",
       "    </tr>\n",
       "    <tr>\n",
       "      <th>mean</th>\n",
       "      <td>5.391606</td>\n",
       "      <td>215.324129</td>\n",
       "      <td>1.138978</td>\n",
       "      <td>0.584712</td>\n",
       "      <td>0.577032</td>\n",
       "      <td>0.555911</td>\n",
       "      <td>0.553900</td>\n",
       "      <td>0.439152</td>\n",
       "      <td>0.568895</td>\n",
       "      <td>0.235988</td>\n",
       "      <td>0.107128</td>\n",
       "      <td>0.064989</td>\n",
       "    </tr>\n",
       "    <tr>\n",
       "      <th>std</th>\n",
       "      <td>6.939003</td>\n",
       "      <td>182.554362</td>\n",
       "      <td>0.854907</td>\n",
       "      <td>0.492794</td>\n",
       "      <td>0.494053</td>\n",
       "      <td>0.496887</td>\n",
       "      <td>0.497109</td>\n",
       "      <td>0.496306</td>\n",
       "      <td>0.495253</td>\n",
       "      <td>0.424634</td>\n",
       "      <td>0.158821</td>\n",
       "      <td>0.332871</td>\n",
       "    </tr>\n",
       "    <tr>\n",
       "      <th>min</th>\n",
       "      <td>0.000000</td>\n",
       "      <td>0.000000</td>\n",
       "      <td>0.000000</td>\n",
       "      <td>0.000000</td>\n",
       "      <td>0.000000</td>\n",
       "      <td>0.000000</td>\n",
       "      <td>0.000000</td>\n",
       "      <td>0.000000</td>\n",
       "      <td>0.000000</td>\n",
       "      <td>0.000000</td>\n",
       "      <td>0.000000</td>\n",
       "      <td>-12.000000</td>\n",
       "    </tr>\n",
       "    <tr>\n",
       "      <th>25%</th>\n",
       "      <td>2.000000</td>\n",
       "      <td>175.000000</td>\n",
       "      <td>1.000000</td>\n",
       "      <td>0.000000</td>\n",
       "      <td>0.000000</td>\n",
       "      <td>0.000000</td>\n",
       "      <td>0.000000</td>\n",
       "      <td>0.000000</td>\n",
       "      <td>0.000000</td>\n",
       "      <td>0.000000</td>\n",
       "      <td>0.000000</td>\n",
       "      <td>0.000000</td>\n",
       "    </tr>\n",
       "    <tr>\n",
       "      <th>50%</th>\n",
       "      <td>4.000000</td>\n",
       "      <td>175.000000</td>\n",
       "      <td>1.000000</td>\n",
       "      <td>1.000000</td>\n",
       "      <td>1.000000</td>\n",
       "      <td>1.000000</td>\n",
       "      <td>1.000000</td>\n",
       "      <td>0.000000</td>\n",
       "      <td>1.000000</td>\n",
       "      <td>0.000000</td>\n",
       "      <td>0.059259</td>\n",
       "      <td>0.000000</td>\n",
       "    </tr>\n",
       "    <tr>\n",
       "      <th>75%</th>\n",
       "      <td>7.000000</td>\n",
       "      <td>200.000000</td>\n",
       "      <td>2.000000</td>\n",
       "      <td>1.000000</td>\n",
       "      <td>1.000000</td>\n",
       "      <td>1.000000</td>\n",
       "      <td>1.000000</td>\n",
       "      <td>1.000000</td>\n",
       "      <td>1.000000</td>\n",
       "      <td>0.000000</td>\n",
       "      <td>0.155556</td>\n",
       "      <td>0.000000</td>\n",
       "    </tr>\n",
       "    <tr>\n",
       "      <th>max</th>\n",
       "      <td>98.000000</td>\n",
       "      <td>3700.000000</td>\n",
       "      <td>3.000000</td>\n",
       "      <td>1.000000</td>\n",
       "      <td>1.000000</td>\n",
       "      <td>1.000000</td>\n",
       "      <td>1.000000</td>\n",
       "      <td>1.000000</td>\n",
       "      <td>1.000000</td>\n",
       "      <td>1.000000</td>\n",
       "      <td>1.000000</td>\n",
       "      <td>0.986301</td>\n",
       "    </tr>\n",
       "  </tbody>\n",
       "</table>\n",
       "</div>"
      ],
      "text/plain": [
       "            age_dif  rent_overlap  roommate_num_sim   same_gender  \\\n",
       "count  10937.000000  10937.000000      10937.000000  10937.000000   \n",
       "mean       5.391606    215.324129          1.138978      0.584712   \n",
       "std        6.939003    182.554362          0.854907      0.492794   \n",
       "min        0.000000      0.000000          0.000000      0.000000   \n",
       "25%        2.000000    175.000000          1.000000      0.000000   \n",
       "50%        4.000000    175.000000          1.000000      1.000000   \n",
       "75%        7.000000    200.000000          2.000000      1.000000   \n",
       "max       98.000000   3700.000000          3.000000      1.000000   \n",
       "\n",
       "        same_relate    same_clean    same_night  same_student  same_smoking  \\\n",
       "count  10937.000000  10937.000000  10937.000000  10937.000000  10937.000000   \n",
       "mean       0.577032      0.555911      0.553900      0.439152      0.568895   \n",
       "std        0.494053      0.496887      0.497109      0.496306      0.495253   \n",
       "min        0.000000      0.000000      0.000000      0.000000      0.000000   \n",
       "25%        0.000000      0.000000      0.000000      0.000000      0.000000   \n",
       "50%        1.000000      1.000000      1.000000      0.000000      1.000000   \n",
       "75%        1.000000      1.000000      1.000000      1.000000      1.000000   \n",
       "max        1.000000      1.000000      1.000000      1.000000      1.000000   \n",
       "\n",
       "          same_term  sender_attractiveness  receiver_selectivity  \n",
       "count  10937.000000           10937.000000          10937.000000  \n",
       "mean       0.235988               0.107128              0.064989  \n",
       "std        0.424634               0.158821              0.332871  \n",
       "min        0.000000               0.000000            -12.000000  \n",
       "25%        0.000000               0.000000              0.000000  \n",
       "50%        0.000000               0.059259              0.000000  \n",
       "75%        0.000000               0.155556              0.000000  \n",
       "max        1.000000               1.000000              0.986301  "
      ]
     },
     "execution_count": 21,
     "metadata": {},
     "output_type": "execute_result"
    }
   ],
   "source": [
    "X.describe()"
   ]
  },
  {
   "cell_type": "markdown",
   "metadata": {},
   "source": [
    "# OVERSAMPLE"
   ]
  },
  {
   "cell_type": "code",
   "execution_count": 22,
   "metadata": {},
   "outputs": [
    {
     "name": "stdout",
     "output_type": "stream",
     "text": [
      "messages sent: 14708\n",
      "responses:     7354\n",
      "\n",
      "Prediction:   [0 0 0 0 0 0 0 0 0 0 0 0 0 0 0 0 1 0 0 0]...\n",
      "Actual:       [0 0 0 0 0 0 0 0 0 0 0 0 1 0 0 0 1 0 0 0]...\n",
      "Model recall: 0.36303630363036304\n",
      "Model precision: 0.4888888888888889\n",
      "Score of model: 0.8873857404021938\n",
      "Score to beat: 0.8892138939670933\n"
     ]
    }
   ],
   "source": [
    "X_train, X_test, y_train, y_test = train_test_split(X.as_matrix(), y.as_matrix(), random_state=17)\n",
    "\n",
    "X_train, y_train = oversample(X_train, y_train, .5)\n",
    "\n",
    "# X_ove, y_ove = oversample(X.as_matrix(), y.as_matrix(), .5)\n",
    "\n",
    "# X_train, X_test, y_train, y_test = train_test_split(X_ove, y_ove, random_state=17)\n",
    "\n",
    "print(\"messages sent: {}\".format(len(y_train)))\n",
    "print(\"responses:     {}\\n\".format(y_train.sum()))\n",
    "\n",
    "model = RandomForestClassifier()\n",
    "model.fit(X_train, y_train)\n",
    "y_pred = model.predict(X_test)\n",
    "print(\"Prediction:   {}...\".format(model.predict(X_test)[:20]))\n",
    "print(\"Actual:       {}...\".format(y_test[:20]))\n",
    "print(\"Model recall: {}\".format(recall_score(y_test, y_pred)))\n",
    "print(\"Model precision: {}\".format(precision_score(y_test, y_pred)))\n",
    "print(\"Score of model: {}\".format(model.score(X_test, y_test)))\n",
    "print(\"Score to beat: {}\".format(1-y_test.sum()/len(y_test)))"
   ]
  },
  {
   "cell_type": "code",
   "execution_count": null,
   "metadata": {
    "collapsed": true
   },
   "outputs": [],
   "source": [
    "messages sent: 14708\n",
    "responses:     7354\n",
    "\n",
    "Prediction:   [0 0 0 0 0 0 0 0 0 0 0 0 0 0 0 0 1 0 0 0]...\n",
    "Actual:       [0 0 0 0 0 0 0 0 0 0 0 0 1 0 0 0 1 0 0 0]...\n",
    "Model recall: 0.31683168316831684\n",
    "Model precision: 0.5052631578947369\n",
    "Score of model: 0.889945155393053\n",
    "Score to beat: 0.8892138939670933"
   ]
  },
  {
   "cell_type": "markdown",
   "metadata": {},
   "source": [
    "# BASELINE RANDOM FOREST"
   ]
  },
  {
   "cell_type": "code",
   "execution_count": null,
   "metadata": {
    "collapsed": true
   },
   "outputs": [],
   "source": [
    "print(\"Messages with responses:    {}\".format((convo_df.response == True).sum()))\n",
    "print(\"Messages without responses: {}\".format((convo_df.response == False).sum()))\n",
    "print(\"Total messages:             {}\".format(len(convo_df)))"
   ]
  },
  {
   "cell_type": "code",
   "execution_count": null,
   "metadata": {
    "collapsed": true
   },
   "outputs": [],
   "source": [
    "# X_unsamp, y_unsamp = X.as_matrix(), y.as_matrix()\n",
    "\n",
    "# X_train, X_test, y_train, y_test = train_test_split(X_unsamp, y_unsamp, random_state=17)\n",
    "\n",
    "X_train, X_test, y_train, y_test = train_test_split(X.as_matrix(), y.as_matrix(), random_state=17)\n",
    "\n",
    "X_train, y_train = oversample(X_train, y_train, .5)\n",
    "\n",
    "print(\"messages sent: {}\".format(len(y_train)))\n",
    "print(\"responses:     {}\\n\".format(y_train.sum()))\n",
    "\n",
    "model = RandomForestClassifier()\n",
    "model.fit(X_train, y_train)\n",
    "y_pred = model.predict(X_test)\n",
    "print(\"Prediction:   {}...\".format(model.predict(X_test)[:20]))\n",
    "print(\"Actual:       {}...\".format(y_test[:20]))\n",
    "print(\"Model recall: {}\".format(recall_score(y_test, y_pred)))\n",
    "print(\"Model precision: {}\".format(precision_score(y_test, y_pred)))\n",
    "print(\"Score of model: {}\".format(model.score(X_test, y_test)))\n",
    "print(\"Score to beat: {}\".format(1-y_test.sum()/len(y_test)))"
   ]
  },
  {
   "cell_type": "markdown",
   "metadata": {},
   "source": [
    "# UNDERSAMPLE"
   ]
  },
  {
   "cell_type": "code",
   "execution_count": 18,
   "metadata": {},
   "outputs": [
    {
     "name": "stdout",
     "output_type": "stream",
     "text": [
      "messages sent: 14708\n",
      "responses:     7354\n",
      "\n",
      "Prediction:   [0 0 0 0 0 0 0 0 0 0 0 0 0 0 0 0 1 0 0 0]...\n",
      "Actual:       [0 0 0 0 0 0 0 0 0 0 0 0 1 0 0 0 1 0 0 0]...\n",
      "Model recall: 0.33663366336633666\n",
      "Model precision: 0.53125\n",
      "Score of model: 0.8936014625228519\n",
      "Score to beat: 0.8892138939670933\n"
     ]
    }
   ],
   "source": [
    "# X_und, y_und = undersample(X, y, .5)\n",
    "\n",
    "# X_train, X_test, y_train, y_test = train_test_split(X_und, y_und, random_state=17)\n",
    "\n",
    "X_train, X_test, y_train, y_test = train_test_split(X.as_matrix(), y.as_matrix(), random_state=17)\n",
    "\n",
    "X_train, y_train = oversample(X_train, y_train, .5)\n",
    "\n",
    "print(\"messages sent: {}\".format(len(y_train)))\n",
    "print(\"responses:     {}\\n\".format(y_train.sum()))\n",
    "\n",
    "model = RandomForestClassifier()\n",
    "model.fit(X_train, y_train)\n",
    "y_pred = model.predict(X_test)\n",
    "print(\"Prediction:   {}...\".format(model.predict(X_test)[:20]))\n",
    "print(\"Actual:       {}...\".format(y_test[:20]))\n",
    "print(\"Model recall: {}\".format(recall_score(y_test, y_pred)))\n",
    "print(\"Model precision: {}\".format(precision_score(y_test, y_pred)))\n",
    "print(\"Score of model: {}\".format(model.score(X_test, y_test)))\n",
    "print(\"Score to beat: {}\".format(1-y_test.sum()/len(y_test)))"
   ]
  },
  {
   "cell_type": "markdown",
   "metadata": {},
   "source": [
    "# OTHER MODELS KEPT HERE"
   ]
  },
  {
   "cell_type": "code",
   "execution_count": null,
   "metadata": {
    "collapsed": true
   },
   "outputs": [],
   "source": [
    "model = LogisticRegression()\n",
    "model.fit(X_train, y_train)\n",
    "print(\"Prediction:   {}\".format(model.predict(X_test)))\n",
    "print(\"Actual:       {}\".format(y_test))\n",
    "print(\"Score of model: {}\".format(model.score(X_test, y_test)))\n",
    "print(\"Score to beat: {}\".format(1-y_test.sum()/len(y_test)))"
   ]
  },
  {
   "cell_type": "code",
   "execution_count": null,
   "metadata": {
    "collapsed": true
   },
   "outputs": [],
   "source": [
    "model = DecisionTreeClassifier()\n",
    "model.fit(X_train, y_train)\n",
    "y_pred = model.predict(X_test)\n",
    "print(\"Prediction:   {}\".format(model.predict(X_test)))\n",
    "print(\"Actual:       {}\".format(y_test))\n",
    "print(\"Model recall: {}\".format(recall_score(y_test, y_pred)))\n",
    "print(\"Model precision: {}\".format(precision_score(y_test, y_pred)))\n",
    "print(\"Score of model: {}\".format(model.score(X_test, y_test)))\n",
    "print(\"Score to beat: {}\".format(1-y_test.sum()/len(y_test)))"
   ]
  },
  {
   "cell_type": "code",
   "execution_count": null,
   "metadata": {
    "collapsed": true
   },
   "outputs": [],
   "source": [
    "model = GradientBoostingClassifier()\n",
    "\n",
    "model.fit(X_train, y_train)\n",
    "print(\"Prediction:   {}\".format(model.predict(X_test)))\n",
    "print(\"Actual:       {}\".format(y_test))\n",
    "print(\"Model recall: {}\".format(recall_score(y_test, y_pred)))\n",
    "print(\"Model precision: {}\".format(precision_score(y_test, y_pred)))\n",
    "print(\"Score of model: {}\".format(model.score(X_test, y_test)))\n",
    "print(\"Score to beat: {}\".format(1-y_test.sum()/len(y_test)))"
   ]
  },
  {
   "cell_type": "code",
   "execution_count": null,
   "metadata": {
    "collapsed": true
   },
   "outputs": [],
   "source": []
  }
 ],
 "metadata": {
  "kernelspec": {
   "display_name": "Python 3",
   "language": "python",
   "name": "python3"
  },
  "language_info": {
   "codemirror_mode": {
    "name": "ipython",
    "version": 3
   },
   "file_extension": ".py",
   "mimetype": "text/x-python",
   "name": "python",
   "nbconvert_exporter": "python",
   "pygments_lexer": "ipython3",
   "version": "3.6.3"
  }
 },
 "nbformat": 4,
 "nbformat_minor": 2
}
