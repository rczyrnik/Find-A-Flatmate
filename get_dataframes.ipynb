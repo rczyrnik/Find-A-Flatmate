{
 "cells": [
  {
   "cell_type": "markdown",
   "metadata": {},
   "source": [
    "# Imports"
   ]
  },
  {
   "cell_type": "code",
   "execution_count": null,
   "metadata": {
    "collapsed": true
   },
   "outputs": [],
   "source": [
    "import pandas as pd\n",
    "import matplotlib.pyplot as plt\n",
    "%matplotlib inline\n",
    "\n",
    "import json\n",
    "\n",
    "from collections import defaultdict"
   ]
  },
  {
   "cell_type": "markdown",
   "metadata": {},
   "source": [
    "# FIRST DATA FILE"
   ]
  },
  {
   "cell_type": "markdown",
   "metadata": {},
   "source": [
    "### Read in data"
   ]
  },
  {
   "cell_type": "code",
   "execution_count": null,
   "metadata": {},
   "outputs": [],
   "source": [
    "filename = \"/Users/gandalf/Documents/data/data_users.csv\"\n",
    "\n",
    "user_df = pd.read_csv(filename, parse_dates=['created', \n",
    "                                        'updated', \n",
    "                                        'available', \n",
    "                                        'birthday', \n",
    "                                        'lastActive'])\n",
    "\n",
    "user_df = user_df.fillna({'legacyId' : 'None',\n",
    "                'about'    : '', \n",
    "                'birthday' : pd.to_datetime('1899-01-01'), \n",
    "                'latitude' : 0, \n",
    "                'longitude': 0})\n",
    "\n",
    "col_to_drop = ['hashedPassword','firstName','lastName','username']\n",
    "user_df = user_df.drop(col_to_drop, axis=1)\n",
    "\n",
    "user_df.head(2)\n",
    "               \n",
    "# get just user email end"
   ]
  },
  {
   "cell_type": "markdown",
   "metadata": {},
   "source": [
    "# SECOND DATA FILE"
   ]
  },
  {
   "cell_type": "markdown",
   "metadata": {},
   "source": [
    "### Read in data"
   ]
  },
  {
   "cell_type": "code",
   "execution_count": null,
   "metadata": {},
   "outputs": [],
   "source": [
    "filename = \"/Users/gandalf/Documents/data/data_messages.json\"\n",
    "json_data=open(filename).read()\n",
    "data = json.loads(json_data)"
   ]
  },
  {
   "cell_type": "markdown",
   "metadata": {},
   "source": [
    "### Create first data frame (messages)"
   ]
  },
  {
   "cell_type": "code",
   "execution_count": null,
   "metadata": {},
   "outputs": [],
   "source": [
    "column_names = ['message_id',       # Added, unique for each row\n",
    "               'conversation_id',   # Added, identifies the conversation, not unique\n",
    "               'uid',               # message sender\n",
    "               'read',              # true/false value\n",
    "               'readBy',            # message recipient(s)\n",
    "               'number_of_people',  # Added, num of people in conversation\n",
    "               'text_length',       # Added, length of text\n",
    "               'timestamp',         # time\n",
    "               'imageURL',          # image url\n",
    "               'emailAttempted',    # ?\n",
    "               'emailed']           # ?\n",
    "\n",
    "mi,ci,ui,rd,rb,np,tl,ts,iu,ea,em = [],[],[],[],[],[],[],[],[],[],[]\n",
    "  \n",
    "for conversation_id, conversation_data in data[\"conversations\"].items():\n",
    "    for message_id, message_data in conversation_data.items():\n",
    "        information = defaultdict(lambda: '', message_data)\n",
    "        ci.append(conversation_id)\n",
    "        mi.append(message_id)\n",
    "        ui.append(information['uid'])\n",
    "        rd.append(information['read'])\n",
    "        rb.append(information['readBy'])\n",
    "        np.append(1+len(information['readBy']))\n",
    "        tl.append(len(information['text']))\n",
    "        ts.append(information['timestamp'])\n",
    "        iu.append(information['imageURL'])\n",
    "        ea.append(information['emailAttempted'])\n",
    "        em.append(information['emailed'])\n",
    "\n",
    "message_df = pd.DataFrame([mi,ci,ui,rd,rb,np,tl,ts,iu,ea,em]).T\n",
    "message_df.columns=column_names\n",
    "\n",
    "message_df.head(2)"
   ]
  },
  {
   "cell_type": "markdown",
   "metadata": {},
   "source": [
    "### Create second data frame"
   ]
  },
  {
   "cell_type": "code",
   "execution_count": null,
   "metadata": {},
   "outputs": [],
   "source": [
    "column_names = ['user_id',       # user id\n",
    "               'first_ten',      # first ten of the 20 digit key\n",
    "               'last_ten',       # last ten of the 20 digit key (prob userid)\n",
    "               'lastMessageId']  # message id\n",
    "\n",
    "ui,ft,lt,lm = [],[],[],[]\n",
    "\n",
    "for user_id, user_data in data['users'].items():\n",
    "    for key, value in user_data['conversations'].items():\n",
    "        ui.append(user_id)\n",
    "        ft.append(key[:10])\n",
    "        lt.append(key[10:])\n",
    "        lm.append(value['lastMessageId'])\n",
    "\n",
    "lastmessage_df = pd.DataFrame([ui,ft,lt,lm]).T\n",
    "lastmessage_df.columns=column_names\n",
    "\n",
    "lastmessage_df.head(2)"
   ]
  },
  {
   "cell_type": "markdown",
   "metadata": {},
   "source": [
    "# SAVE AS PICKLE"
   ]
  },
  {
   "cell_type": "code",
   "execution_count": null,
   "metadata": {
    "collapsed": true
   },
   "outputs": [],
   "source": [
    "path_users = \"/Users/gandalf/Documents/data/data_users.pkl\"\n",
    "path_message = \"/Users/gandalf/Documents/data/data_message.pkl\"\n",
    "path_lastmessage = \"/Users/gandalf/Documents/data/data_lastmessage.pkl\"\n",
    "user_df.to_pickle(path_users)\n",
    "message_df.to_pickle(path_message)\n",
    "lastmessage_df.to_pickle(path_lastmessage)"
   ]
  }
 ],
 "metadata": {
  "kernelspec": {
   "display_name": "Python 3",
   "language": "python",
   "name": "python3"
  },
  "language_info": {
   "codemirror_mode": {
    "name": "ipython",
    "version": 3
   },
   "file_extension": ".py",
   "mimetype": "text/x-python",
   "name": "python",
   "nbconvert_exporter": "python",
   "pygments_lexer": "ipython3",
   "version": "3.6.3"
  }
 },
 "nbformat": 4,
 "nbformat_minor": 2
}
