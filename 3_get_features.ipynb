{
 "cells": [
  {
   "cell_type": "code",
   "execution_count": null,
   "metadata": {
    "collapsed": true
   },
   "outputs": [],
   "source": [
    "import pandas as pd\n",
    "from numpy.random import choice\n",
    "import my_pickle as mp\n",
    "import matplotlib.pyplot as plt"
   ]
  },
  {
   "cell_type": "code",
   "execution_count": null,
   "metadata": {},
   "outputs": [],
   "source": [
    "user_df = mp.unpickle_it('data_user')\n",
    "convo_df = mp.unpickle_it('data_convo')\n",
    "\n",
    "print(\"Make sure we're not useing ECT data\")\n",
    "print(pd.to_datetime(convo_df.timestamp.max()*1000000))"
   ]
  },
  {
   "cell_type": "markdown",
   "metadata": {},
   "source": [
    "# FILES THAT SHOULD BE MOVED TO PY FILE"
   ]
  },
  {
   "cell_type": "code",
   "execution_count": null,
   "metadata": {},
   "outputs": [],
   "source": [
    "def get_rent_range(first_user, second_user):\n",
    "    max1 = first_user.maxCost\n",
    "    max2 = second_user.maxCost\n",
    "    min1 = first_user.minCost\n",
    "    min2 = second_user.minCost\n",
    "    if max1*max2*min1*min2 > 0:\n",
    "        upper = min(first_user.maxCost,second_user.maxCost)\n",
    "        lower = max(first_user.minCost,second_user.minCost)\n",
    "        if upper-lower > 0: return upper-lower\n",
    "        else: return 0\n",
    "    else: return 175\n",
    "    \n",
    "def test_get_rent_range():    \n",
    "    yes1 = '0a9yOPKFSH'\n",
    "    yes2 = '013LzOrVju'\n",
    "    no1 = '0UBLgJIHgz'\n",
    "    no2 = '0EWNOmyQmW'\n",
    "    low = '01DE0NCjwh'\n",
    "    high = '02GDyQPLII'\n",
    "    print(get_rent_range(user_df.loc[yes1], user_df.loc[yes2])) # should be 150\n",
    "    print(get_rent_range(user_df.loc[yes1], user_df.loc[no1]))  # should be 175\n",
    "    print(get_rent_range(user_df.loc[no2], user_df.loc[no1]))   # should be 175\n",
    "    print(get_rent_range(user_df.loc[low], user_df.loc[high]))  # should be 0\n",
    "\n",
    "test_get_rent_range()"
   ]
  },
  {
   "cell_type": "code",
   "execution_count": null,
   "metadata": {
    "collapsed": true
   },
   "outputs": [],
   "source": [
    "def get_average_overlap(df,samples):\n",
    "    # to find average overlap of two users' rent ranges\n",
    "    # comes out to about $175\n",
    "    s = 0\n",
    "    for n in range(samples):\n",
    "        two_users = choice(user_df[user_df.cost_range>0].index,2)\n",
    "        overlap = user_df.loc[two_users,'maxCost'].min()-user_df.loc[two_users,'minCost'].max()\n",
    "        if overlap < 0: overlap = 0\n",
    "        s += overlap\n",
    "    return s/samples"
   ]
  },
  {
   "cell_type": "code",
   "execution_count": null,
   "metadata": {
    "collapsed": true
   },
   "outputs": [],
   "source": [
    "def get_inverse_distance(first_user, second_user):\n",
    "    x1 = first_user.longitude\n",
    "    x2 = second_user.latitude\n",
    "    y1 = first_user.longitude\n",
    "    y2 = second_user.latitude\n",
    "    dist = ((x2-x1)**2+(y2-y1)**2)**(.5)\n",
    "#     if dist > 0: return dist\n",
    "#     else: return 1\n",
    "    return ((x2-x1)**2+(y2-y1)**2)**(-.5)"
   ]
  },
  {
   "cell_type": "code",
   "execution_count": null,
   "metadata": {
    "collapsed": true
   },
   "outputs": [],
   "source": [
    "def roommate_rules(roommates):\n",
    "    if roommates > 4: return 3\n",
    "    elif roommates > 1: return 2\n",
    "    elif roommates > 0: return 1\n",
    "    else: return 0\n",
    "    \n",
    "def get_similar_roommates(first_user, second_user):\n",
    "    roommates1 = roommate_rules(first_user.numRoommates)\n",
    "    roommates2 = roommate_rules(second_user.numRoommates)\n",
    "    return abs(roommates1-roommates2)"
   ]
  },
  {
   "cell_type": "code",
   "execution_count": null,
   "metadata": {},
   "outputs": [],
   "source": [
    "# def get_urgency(timestamp, second_user):\n",
    "#     time_of_message = pd.to_datetime(timestamp*1000000)\n",
    "#     time_of_looking\n",
    "#     print(time_of_message)\n",
    "# get_urgency(1479148499453, 'x')"
   ]
  },
  {
   "cell_type": "code",
   "execution_count": null,
   "metadata": {
    "collapsed": true
   },
   "outputs": [],
   "source": [
    "def feature_time(df, user_df):\n",
    "    '''\n",
    "    age_dif: difference in ages between users\n",
    "    rent_overlap: buy how much do their ideal rent ranges overlap\n",
    "    same_gender: m/m or f/f\n",
    "    same_relate:  are they both in relationships or single?\n",
    "    same_clean: are the both clean/messy\n",
    "    same_night: are they both early-birds or night owls?\n",
    "    same_student: are they both students?\n",
    "    sender_attractiveness: do people generally respond to this senders messages?\n",
    "    receiver_selectivity: does this receiver generally respond to peopls messages?\n",
    "    '''\n",
    "    df = remove_bad_uids(df, user_df)  \n",
    "    \n",
    "    ad,ro,di,rn,sg,sr,sc,sn,ss,sm,st,sa,rs = [],[],[],[],[],[],[],[],[],[],[],[],[]\n",
    "\n",
    "    for index, row in df.iterrows():\n",
    "        first = user_df.loc[str(row.first_uid)]\n",
    "        second = user_df.loc[str(row.second_uid)]\n",
    "        ad.append(abs(first.age - second.age))\n",
    "        ro.append(get_rent_range(first, second))\n",
    "#         di.append(get_inverse_distance(first, second))\n",
    "        rn.append(get_similar_roommates(first, second))\n",
    "        sg.append(first.gender == second.gender)\n",
    "        sr.append(first.inRelationship == second.inRelationship)\n",
    "        sc.append(first.isClean == second.isClean)\n",
    "        sn.append(first.isNight == second.isNight)\n",
    "        ss.append(first.isStudent == second.isStudent)\n",
    "        sm.append(first.smokingOk == second.smokingOk)\n",
    "        st.append(first.term == second.term)\n",
    "        sa.append(first.attractiveness)\n",
    "        rs.append(second.selectivity)\n",
    "\n",
    "    print(len(df))\n",
    "    print(len(sr))\n",
    "    df['age_dif'] = ad\n",
    "    df['rent_overlap'] = ro\n",
    "#     df['inverse_distance'] = di\n",
    "    df['roommate_num_sim'] = rn\n",
    "    df['same_gender'] = sg\n",
    "    df['same_relate'] = sr\n",
    "    df['same_clean'] = sc\n",
    "    df['same_night'] = sn\n",
    "    df['same_student'] = ss\n",
    "    df['same_smoking'] = sm\n",
    "    df['same_term'] = st\n",
    "    df['sender_attractiveness'] = sa\n",
    "    df['receiver_selectivity'] = rs\n",
    "    \n",
    "    TF = {True: 1, False: 0}\n",
    "    col_to_TF = ['same_gender','same_relate','same_clean','same_night','same_student','same_smoking','same_term']\n",
    "    for col in col_to_TF:\n",
    "        df[col] = df[col].map(TF)\n",
    "    \n",
    "    return df"
   ]
  },
  {
   "cell_type": "code",
   "execution_count": null,
   "metadata": {},
   "outputs": [],
   "source": [
    "X = feature_time(convo_df, user_df)\n",
    "X.head()"
   ]
  },
  {
   "cell_type": "markdown",
   "metadata": {},
   "source": [
    "# SAVE AS PICKLE FILE"
   ]
  },
  {
   "cell_type": "code",
   "execution_count": null,
   "metadata": {
    "collapsed": true
   },
   "outputs": [],
   "source": [
    "mp.pickle_it(X,'data_features')"
   ]
  }
 ],
 "metadata": {
  "kernelspec": {
   "display_name": "Python 3",
   "language": "python",
   "name": "python3"
  },
  "language_info": {
   "codemirror_mode": {
    "name": "ipython",
    "version": 3
   },
   "file_extension": ".py",
   "mimetype": "text/x-python",
   "name": "python",
   "nbconvert_exporter": "python",
   "pygments_lexer": "ipython3",
   "version": "3.6.3"
  }
 },
 "nbformat": 4,
 "nbformat_minor": 2
}
