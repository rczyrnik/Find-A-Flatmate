{
 "cells": [
  {
   "cell_type": "markdown",
   "metadata": {},
   "source": [
    "# Imports"
   ]
  },
  {
   "cell_type": "code",
   "execution_count": 1,
   "metadata": {
    "collapsed": true
   },
   "outputs": [],
   "source": [
    "# import pandas as pd\n",
    "import numpy as np\n",
    "import matplotlib.pyplot as plt\n",
    "%matplotlib inline\n",
    "\n",
    "# # Location\n",
    "# from shapely.geometry import Point\n",
    "# from geopandas import GeoDataFrame\n",
    "# import geopandas as gpd\n",
    "\n",
    "import my_pickle as mp\n",
    "\n",
    "# import warnings\n",
    "# warnings.filterwarnings('ignore')\n",
    "\n",
    "# from sklearn.neighbors import KernelDensity"
   ]
  },
  {
   "cell_type": "markdown",
   "metadata": {},
   "source": [
    "# Read in data"
   ]
  },
  {
   "cell_type": "code",
   "execution_count": 7,
   "metadata": {},
   "outputs": [
    {
     "name": "stdout",
     "output_type": "stream",
     "text": [
      "/Users/gandalf/Documents/coding/data_do_not_commit/data_convo.json\n",
      "/Users/gandalf/Documents/coding/data_do_not_commit/data_message.json\n",
      "/Users/gandalf/Documents/coding/data_do_not_commit/data_master.json\n",
      "Make sure we're not using ECT data\n",
      "2017-10-01 06:37:20.466000\n"
     ]
    }
   ],
   "source": [
    "# user_df = mp.unjson_it('data_user')\n",
    "\n",
    "user_df = mp.reinstate_date(user_df,['activeAt', 'available', 'birthday','created','updated'])\n",
    "\n",
    "convo_df = mp.unjson_it('data_convo')\n",
    "message_df = mp.unjson_it('data_message') \n",
    "master_df = mp.unjson_it('data_master')\n",
    "\n",
    "print(\"Make sure we're not using ECT data\")\n",
    "print(convo_df.timestamp.max())\n",
    "\n",
    "# turn urgency negative (to make graphs easier to read for now)\n",
    "master_df.urgency_sender = master_df.urgency_sender.apply(lambda x: -x)\n",
    "master_df.urgency_receiver = master_df.urgency_receiver.apply(lambda x: -x)"
   ]
  },
  {
   "cell_type": "code",
   "execution_count": null,
   "metadata": {
    "collapsed": true
   },
   "outputs": [],
   "source": []
  },
  {
   "cell_type": "markdown",
   "metadata": {},
   "source": [
    "# Split into successful and unsuccessful"
   ]
  },
  {
   "cell_type": "code",
   "execution_count": 4,
   "metadata": {
    "collapsed": true
   },
   "outputs": [],
   "source": [
    "# if we want to drop rows without urgency\n",
    "# master_df = master_df.dropna(axis=0,subset=['urgency_receiver'])\n",
    "\n",
    "# separate dataset into with and without responses\n",
    "with_responses = master_df[master_df.response == 1]\n",
    "without_responses = master_df[master_df.response == 0]"
   ]
  },
  {
   "cell_type": "markdown",
   "metadata": {},
   "source": [
    "# Useful Fn"
   ]
  },
  {
   "cell_type": "code",
   "execution_count": null,
   "metadata": {
    "collapsed": true
   },
   "outputs": [],
   "source": [
    "# fn to display plot\n",
    "def plot_feature(col, bins=None):\n",
    "    with_resp = with_responses[col].hist(figsize = (16,4), bins = bins, alpha = .5)\n",
    "    without_resp = without_responses[col].hist(figsize = (16,4), bins = bins,alpha = .3, color='r')\n",
    "    \n",
    "    plt.xlabel(col,fontsize=14)\n",
    "    plt.ylabel('Number of Messages',fontsize=14)\n",
    "    plt.legend(['Response',\"No Response\"])\n",
    "    plt.show()\n",
    "    print(col+\" with response: {:.9f}\".format(with_responses[col].mean()))\n",
    "    print(col+\" without response: {:.9f}\\n\\n\".format(without_responses[col].mean()))"
   ]
  },
  {
   "cell_type": "markdown",
   "metadata": {},
   "source": [
    "# RESULTS FROM CONTINUOUS ANALYSIS"
   ]
  },
  {
   "cell_type": "markdown",
   "metadata": {},
   "source": [
    "## 1. urgency_receiver"
   ]
  },
  {
   "cell_type": "code",
   "execution_count": null,
   "metadata": {},
   "outputs": [],
   "source": [
    "plt.title('Comparing Mesages With and Without Responses',fontsize=24) \n",
    "plot_feature('urgency_receiver', np.arange(-180, 90, 30))"
   ]
  },
  {
   "cell_type": "code",
   "execution_count": null,
   "metadata": {},
   "outputs": [],
   "source": [
    "# with_responses =with_responses[with_responses.urgency_receiver >-180]\n",
    "# without_responses =without_responses[with_responses.urgency_receiver >-180]\n",
    "# with_responses =with_responses[with_responses.urgency_receiver <30]\n",
    "# without_responses =without_responses[with_responses.urgency_receiver <30]\n",
    "bin_size =7\n",
    "\n",
    "with_responses['urgency_receiver_bin'] = with_responses.urgency_receiver.apply(lambda x: int(x/bin_size))\n",
    "without_responses['urgency_receiver_bin'] = without_responses.urgency_receiver.apply(lambda x: int(x/bin_size))\n",
    "counts_with = with_responses.groupby(['urgency_receiver_bin']).uid_receiver.count()\n",
    "counts_without = without_responses.groupby(['urgency_receiver_bin']).uid_receiver.count()\n",
    "all_counts = pd.concat([counts_with,counts_without], axis=1)\n",
    "all_counts.columns = ['counts_with', 'counts_without']\n",
    "all_counts = all_counts.fillna(0)\n",
    "all_counts['total'] = all_counts.counts_with+all_counts.counts_without\n",
    "all_counts['percent_active'] = all_counts.counts_with/all_counts.total\n",
    "all_counts['percent_not_active'] = all_counts.counts_without/all_counts.total\n",
    "plt.plot(all_counts['percent_active'])\n",
    "plt.xlim( (-12, 4) )  # set the xlim to xmin, xmax\n",
    "plt.ylim( (0, .4) )  # set the xlim to xmin, xmax\n",
    "plt.title('User Responsiveness',fontsize=18 )\n",
    "plt.xlabel('Time Left to Find an Aparment (weeks)',fontsize=14)\n",
    "plt.ylabel(\"Probability of Responding\",fontsize=14)\n",
    "plt.show()\n",
    "\n",
    "# range(0,range_val*bin_size,bin_size),\n",
    "# [0:range_val]"
   ]
  },
  {
   "cell_type": "code",
   "execution_count": null,
   "metadata": {},
   "outputs": [],
   "source": [
    "all_counts.head()"
   ]
  },
  {
   "cell_type": "markdown",
   "metadata": {},
   "source": [
    "# 3. Len Receiver Abt Section"
   ]
  },
  {
   "cell_type": "code",
   "execution_count": null,
   "metadata": {},
   "outputs": [],
   "source": [
    "plt.title('Comparing Mesages With and Without Responses',fontsize=24) \n",
    "plot_feature('len_about_receiver', np.arange(0, 1000, 50))"
   ]
  },
  {
   "cell_type": "code",
   "execution_count": null,
   "metadata": {
    "collapsed": true
   },
   "outputs": [],
   "source": [
    "\n",
    "master_df['len_about_receiver_bins'] = master_df['len_about_receiver'].apply(lambda x:int(x/10))"
   ]
  },
  {
   "cell_type": "code",
   "execution_count": null,
   "metadata": {
    "collapsed": true
   },
   "outputs": [],
   "source": [
    "binned_about_receiver = master_df.groupby(['len_about_receiver_bins','response']).const.count()"
   ]
  },
  {
   "cell_type": "code",
   "execution_count": null,
   "metadata": {},
   "outputs": [],
   "source": [
    "binned_about_receiver.head()"
   ]
  },
  {
   "cell_type": "code",
   "execution_count": null,
   "metadata": {
    "collapsed": true
   },
   "outputs": [],
   "source": []
  },
  {
   "cell_type": "code",
   "execution_count": null,
   "metadata": {
    "collapsed": true
   },
   "outputs": [],
   "source": []
  },
  {
   "cell_type": "code",
   "execution_count": null,
   "metadata": {
    "collapsed": true
   },
   "outputs": [],
   "source": []
  },
  {
   "cell_type": "code",
   "execution_count": null,
   "metadata": {},
   "outputs": [],
   "source": [
    "master_df.len_about_receiver.plot.kde()\n",
    "plt.show()"
   ]
  },
  {
   "cell_type": "code",
   "execution_count": null,
   "metadata": {
    "collapsed": true
   },
   "outputs": [],
   "source": []
  },
  {
   "cell_type": "code",
   "execution_count": null,
   "metadata": {},
   "outputs": [],
   "source": [
    "col = 'urgency_receiver'\n",
    "bins = np.arange(-168, 84, 7)\n",
    "with_resp = with_responses[col].hist(figsize = (16,4), bins = bins, alpha = .5,kind='line')\n",
    "without_resp = without_responses[col].hist(figsize = (16,4), bins = bins, alpha = .3, color='r')\n",
    "\n",
    "plt.xlabel(col,fontsize=14)\n",
    "plt.ylabel('Number of Messages',fontsize=14)\n",
    "plt.legend(['Response',\"No Response\"])\n",
    "plt.show()\n",
    "print(col+\" with response: {:.9f}\".format(with_responses[col].mean()))\n",
    "print(col+\" without response: {:.9f}\\n\\n\".format(without_responses[col].mean()))"
   ]
  },
  {
   "cell_type": "code",
   "execution_count": null,
   "metadata": {},
   "outputs": [],
   "source": [
    "master_df[col].hist(figsize = (16,4), by='response'==1,bins = bins, alpha = .5)"
   ]
  },
  {
   "cell_type": "code",
   "execution_count": null,
   "metadata": {
    "collapsed": true
   },
   "outputs": [],
   "source": [
    "with_responses.urgency_receiver."
   ]
  },
  {
   "cell_type": "code",
   "execution_count": null,
   "metadata": {
    "collapsed": true
   },
   "outputs": [],
   "source": []
  },
  {
   "cell_type": "code",
   "execution_count": null,
   "metadata": {
    "collapsed": true
   },
   "outputs": [],
   "source": []
  },
  {
   "cell_type": "code",
   "execution_count": null,
   "metadata": {
    "collapsed": true
   },
   "outputs": [],
   "source": []
  },
  {
   "cell_type": "code",
   "execution_count": null,
   "metadata": {
    "collapsed": true
   },
   "outputs": [],
   "source": []
  },
  {
   "cell_type": "code",
   "execution_count": null,
   "metadata": {
    "collapsed": true
   },
   "outputs": [],
   "source": []
  },
  {
   "cell_type": "code",
   "execution_count": null,
   "metadata": {},
   "outputs": [],
   "source": [
    "n,bins,patches = with_responses[col].hist(figsize = (16,4), bins = bins, alpha = .5)"
   ]
  },
  {
   "cell_type": "code",
   "execution_count": null,
   "metadata": {
    "collapsed": true
   },
   "outputs": [],
   "source": [
    "with_responses['urgency_receiver_mod_31'] = \\\n",
    "    with_responses.urgency_receiver.apply(lambda x: int(x/31) if x%1==0 else None)\n",
    "without_responses['urgency_receiver_mod_31'] = \\\n",
    "    without_responses.urgency_receiver.apply(lambda x: int(x/31) if x%1==0 else None)"
   ]
  },
  {
   "cell_type": "code",
   "execution_count": null,
   "metadata": {
    "collapsed": true
   },
   "outputs": [],
   "source": [
    "one = with_responses.groupby('urgency_receiver_mod_31').count().const\n",
    "two = without_responses.groupby('urgency_receiver_mod_31').count().const"
   ]
  },
  {
   "cell_type": "code",
   "execution_count": null,
   "metadata": {
    "collapsed": true
   },
   "outputs": [],
   "source": [
    "result = pd.concat([one, two], axis=1)\n",
    "result.columns = ['with_','without_']"
   ]
  },
  {
   "cell_type": "code",
   "execution_count": null,
   "metadata": {
    "collapsed": true
   },
   "outputs": [],
   "source": [
    "result['sum_'] = result.with_ + result.without_"
   ]
  },
  {
   "cell_type": "code",
   "execution_count": null,
   "metadata": {
    "collapsed": true
   },
   "outputs": [],
   "source": [
    "result['percent'] = result.with_ / result.sum_"
   ]
  },
  {
   "cell_type": "code",
   "execution_count": null,
   "metadata": {},
   "outputs": [],
   "source": [
    "plt.plot(result.percent)"
   ]
  },
  {
   "cell_type": "code",
   "execution_count": null,
   "metadata": {},
   "outputs": [],
   "source": [
    "result.iloc[16:28]"
   ]
  },
  {
   "cell_type": "markdown",
   "metadata": {},
   "source": [
    "### TIME TO RESPOND"
   ]
  },
  {
   "cell_type": "code",
   "execution_count": null,
   "metadata": {},
   "outputs": [],
   "source": [
    "plt.title('Time to Respond',fontsize=24) \n",
    "plot_feature('time_to_respond', bins = np.arange(0, 80, 1))"
   ]
  },
  {
   "cell_type": "markdown",
   "metadata": {},
   "source": [
    "### Urgency"
   ]
  },
  {
   "cell_type": "code",
   "execution_count": null,
   "metadata": {
    "collapsed": true
   },
   "outputs": [],
   "source": [
    "user_df['urgency'] = user_df.available-user_df.created"
   ]
  },
  {
   "cell_type": "code",
   "execution_count": null,
   "metadata": {
    "collapsed": true
   },
   "outputs": [],
   "source": [
    "user_df['urgency'] = user_df['urgency'].apply(lambda x: x.days)"
   ]
  },
  {
   "cell_type": "code",
   "execution_count": null,
   "metadata": {},
   "outputs": [],
   "source": [
    "plt.title('How Long until Users are Available?',fontsize=18) \n",
    "user_df['urgency'].hist(bins=range(0,200))\n",
    "plt.xlabel(\"days from creating a profile until avaible for a room\",fontsize=14)\n",
    "plt.ylabel('number of users',fontsize=14)\n",
    "plt.show()"
   ]
  },
  {
   "cell_type": "code",
   "execution_count": null,
   "metadata": {},
   "outputs": [],
   "source": [
    "plt.title('How Long until Users are Available?',fontsize=18) \n",
    "user_df['urgency'].hist(bins=range(1,180,30))\n",
    "plt.xlabel(\"days from creating a profile until avaible for a room\",fontsize=14)\n",
    "plt.ylabel('number of users',fontsize=14)\n",
    "plt.show()"
   ]
  },
  {
   "cell_type": "code",
   "execution_count": null,
   "metadata": {},
   "outputs": [],
   "source": []
  },
  {
   "cell_type": "markdown",
   "metadata": {
    "collapsed": true
   },
   "source": [
    "## 2 - distance"
   ]
  },
  {
   "cell_type": "code",
   "execution_count": null,
   "metadata": {},
   "outputs": [],
   "source": [
    "plt.title('Distance',fontsize=24) \n",
    "plot_feature('distance', bins=range(1,60))"
   ]
  },
  {
   "cell_type": "markdown",
   "metadata": {
    "collapsed": true
   },
   "source": [
    "## 3-Urgency Sender"
   ]
  },
  {
   "cell_type": "code",
   "execution_count": null,
   "metadata": {},
   "outputs": [],
   "source": [
    "plt.title('Distance',fontsize=24) \n",
    "plot_feature('urgency_sender',bins=range(-180, 210,30))"
   ]
  },
  {
   "cell_type": "code",
   "execution_count": null,
   "metadata": {
    "collapsed": true
   },
   "outputs": [],
   "source": []
  },
  {
   "cell_type": "code",
   "execution_count": null,
   "metadata": {
    "collapsed": true
   },
   "outputs": [],
   "source": []
  },
  {
   "cell_type": "code",
   "execution_count": null,
   "metadata": {
    "collapsed": true
   },
   "outputs": [],
   "source": []
  },
  {
   "cell_type": "code",
   "execution_count": null,
   "metadata": {
    "collapsed": true
   },
   "outputs": [],
   "source": []
  },
  {
   "cell_type": "code",
   "execution_count": null,
   "metadata": {
    "collapsed": true
   },
   "outputs": [],
   "source": []
  },
  {
   "cell_type": "markdown",
   "metadata": {},
   "source": [
    "# AVERAGE MESSAGES SENT AND RECIEVED"
   ]
  },
  {
   "cell_type": "code",
   "execution_count": null,
   "metadata": {},
   "outputs": [],
   "source": [
    "fig = plt.figure(figsize=(16,4))\n",
    "ax1 = fig.add_subplot(121)\n",
    "ax1.hist(convo_df.groupby('uid_sender').count().my_count,bins = range(30))\n",
    "ax1.set_title('Messages sent')\n",
    "\n",
    "ax2 = fig.add_subplot(122)\n",
    "ax2.hist(convo_df.groupby('uid_receiver').count().my_count,bins = range(30))\n",
    "ax2.set_title('Messages received')\n",
    "ax2.set_title('Messages received')\n",
    "plt.show()\n",
    "\n",
    "print(\"Out of {} messages:\".format(convo_df.groupby('uid_sender').count().my_count.sum()))\n",
    "print(\" - users who sent messages sent {:.4} on average\".format( \n",
    "            convo_df.groupby('uid_sender').count().my_count.mean()))\n",
    "\n",
    "print(\" - users who received messages received {:.4} on average\".format(\n",
    "            convo_df.groupby('uid_receiver').count().my_count.mean()))\n",
    "print(\"\\n\")\n",
    "print(\"Out of {} onboarded users:\".format(len(user_df)))\n",
    "print(\" - {} unique users sent messages\".format(len(convo_df.uid_sender.unique())))\n",
    "print(\" - {} unique users received messages\".format(len(convo_df.uid_receiver.unique())))\n",
    "      \n",
    "      \n",
    "either = len(set(convo_df.uid_sender).union(set(convo_df.uid_receiver)))\n",
    "both = len(set(convo_df.uid_sender).intersection(set(convo_df.uid_receiver)))\n",
    "print(\" - {} unique users sent or received messages\".format(either))\n",
    "print(\" - {} unique users sent and received messages\".format(both))"
   ]
  },
  {
   "cell_type": "markdown",
   "metadata": {},
   "source": [
    "# LENGTH OF CONVERSATION"
   ]
  },
  {
   "cell_type": "code",
   "execution_count": null,
   "metadata": {
    "collapsed": true
   },
   "outputs": [],
   "source": [
    "grouped = message_df.groupby('conversation_id').count().const\n",
    "\n",
    "print(\"{} messages were sent\".format(grouped.sum()))\n",
    "print(\"The longest conversation was {} messages\".format(grouped.max()))\n",
    "print(\"On average, conversations lasted {:.3} messages\".format(grouped.mean()))"
   ]
  },
  {
   "cell_type": "markdown",
   "metadata": {},
   "source": [
    "# COST RANGE"
   ]
  },
  {
   "cell_type": "code",
   "execution_count": null,
   "metadata": {
    "collapsed": true
   },
   "outputs": [],
   "source": [
    "user_df['cost_range'] = user_df.maxCost-user_df.minCost\n",
    "user_df.cost_range.hist(bins=range(0,2000,50))\n",
    "plt.show()"
   ]
  },
  {
   "cell_type": "markdown",
   "metadata": {},
   "source": [
    "# NUM ROOMMATES"
   ]
  },
  {
   "cell_type": "code",
   "execution_count": null,
   "metadata": {
    "collapsed": true
   },
   "outputs": [],
   "source": [
    "x = user_df.groupby('numRoommates').created.count().index\n",
    "y = user_df.groupby('numRoommates').created.count().values\n",
    "plt.bar(x, y)\n",
    "plt.xlim(0,11)"
   ]
  },
  {
   "cell_type": "markdown",
   "metadata": {},
   "source": [
    "# CONVERSATIONS"
   ]
  },
  {
   "cell_type": "markdown",
   "metadata": {},
   "source": [
    "### basic info"
   ]
  },
  {
   "cell_type": "code",
   "execution_count": null,
   "metadata": {
    "collapsed": true
   },
   "outputs": [],
   "source": [
    "print(\"There are {} conversation.\".format(len(convo_df)))"
   ]
  },
  {
   "cell_type": "code",
   "execution_count": null,
   "metadata": {
    "collapsed": true
   },
   "outputs": [],
   "source": [
    "response_rate = convo_df.response.sum()/len(convo_df)\n",
    "print(\"Messages get responses {:.2} of the time.\".format(response_rate))"
   ]
  },
  {
   "cell_type": "markdown",
   "metadata": {},
   "source": [
    "# USERS"
   ]
  },
  {
   "cell_type": "markdown",
   "metadata": {},
   "source": [
    "### CREATED"
   ]
  },
  {
   "cell_type": "code",
   "execution_count": null,
   "metadata": {
    "collapsed": true
   },
   "outputs": [],
   "source": [
    "user_df.created.hist(figsize=(16,2), bins=100);"
   ]
  },
  {
   "cell_type": "code",
   "execution_count": null,
   "metadata": {
    "collapsed": true
   },
   "outputs": [],
   "source": [
    "user_df.updated.hist(figsize=(16,2), bins=100);"
   ]
  },
  {
   "cell_type": "markdown",
   "metadata": {},
   "source": [
    "### TIME FROM CREATED TO UPDATED"
   ]
  },
  {
   "cell_type": "code",
   "execution_count": null,
   "metadata": {},
   "outputs": [],
   "source": [
    "user_df[\"update-created\"] = user_df.updated-user_df.created\n",
    "# user_df[\"update-created\"] = user_df[\"update-created\"].apply(lambda x: pd.to_datetime(x*100000000))\n",
    "user_df[\"update-created\"] = user_df[\"update-created\"].apply(lambda x: x.days)\n",
    "user_df[\"update-created\"].hist(bins=range(0,350,30))"
   ]
  },
  {
   "cell_type": "code",
   "execution_count": null,
   "metadata": {
    "collapsed": true
   },
   "outputs": [],
   "source": [
    "group users based on less than 30, more than thirty"
   ]
  },
  {
   "cell_type": "markdown",
   "metadata": {},
   "source": [
    "### ABOUT"
   ]
  },
  {
   "cell_type": "markdown",
   "metadata": {},
   "source": [
    "#### length"
   ]
  },
  {
   "cell_type": "code",
   "execution_count": null,
   "metadata": {
    "collapsed": true
   },
   "outputs": [],
   "source": [
    "user_df.len_about.hist(bins=range(1, 1000, 10), figsize = [10, 3])\n",
    "plt.title(\"Lenght of 'about' Section\")\n",
    "plt.tight_layout()"
   ]
  },
  {
   "cell_type": "markdown",
   "metadata": {},
   "source": [
    "#### percent responding"
   ]
  },
  {
   "cell_type": "code",
   "execution_count": null,
   "metadata": {
    "collapsed": true
   },
   "outputs": [],
   "source": [
    "wth = user_df[user_df.len_about > 0].count()['about']\n",
    "wthout = user_df[user_df.len_about == 0].count()['about']\n",
    "print('total number of user entries: {}'.format(wth+wthout))\n",
    "print('number with about sections: {}'.format(wth))\n",
    "print('number without about sections: {}'.format(wthout))\n",
    "print('percent with about sections: {}'.format(wth/(wth+wthout)))"
   ]
  },
  {
   "cell_type": "code",
   "execution_count": null,
   "metadata": {
    "collapsed": true
   },
   "outputs": [],
   "source": [
    "user_df[user_df.len_about>0].about.values"
   ]
  },
  {
   "cell_type": "markdown",
   "metadata": {},
   "source": [
    "### BIRTHDAY"
   ]
  },
  {
   "cell_type": "code",
   "execution_count": null,
   "metadata": {
    "collapsed": true
   },
   "outputs": [],
   "source": [
    "user_df.age.hist(bins=range(16,100), figsize=(16,2));"
   ]
  },
  {
   "cell_type": "markdown",
   "metadata": {},
   "source": [
    "### LOCATION"
   ]
  },
  {
   "cell_type": "code",
   "execution_count": null,
   "metadata": {},
   "outputs": [],
   "source": [
    "user_df.metro.unique()"
   ]
  },
  {
   "cell_type": "code",
   "execution_count": null,
   "metadata": {
    "collapsed": true
   },
   "outputs": [],
   "source": []
  },
  {
   "cell_type": "code",
   "execution_count": null,
   "metadata": {
    "collapsed": true
   },
   "outputs": [],
   "source": []
  },
  {
   "cell_type": "code",
   "execution_count": null,
   "metadata": {
    "collapsed": true
   },
   "outputs": [],
   "source": []
  },
  {
   "cell_type": "code",
   "execution_count": null,
   "metadata": {},
   "outputs": [],
   "source": [
    "user_df.location[0][0]"
   ]
  },
  {
   "cell_type": "code",
   "execution_count": null,
   "metadata": {
    "collapsed": true
   },
   "outputs": [],
   "source": [
    "world = gpd.read_file(gpd.datasets.get_path('naturalearth_lowres'))\n",
    "cities = gpd.read_file(gpd.datasets.get_path('naturalearth_cities'))"
   ]
  },
  {
   "cell_type": "code",
   "execution_count": null,
   "metadata": {},
   "outputs": [],
   "source": [
    "fig, ax = plt.subplots(figsize = (16,10))\n",
    "\n",
    "ax.set_aspect('equal')\n",
    "\n",
    "world.plot(ax=ax, color='#66FF66', edgecolor='black')\n",
    "cities.plot(ax=ax, color='pink', edgecolor='black')\n",
    "\n",
    "ax.set_facecolor(\"#00FFFF\")\n",
    "plt.show();"
   ]
  },
  {
   "cell_type": "code",
   "execution_count": null,
   "metadata": {
    "collapsed": true
   },
   "outputs": [],
   "source": [
    "user_df.location = user_df.location.apply(lambda x: x if isinstance(x, list) else [0,0])"
   ]
  },
  {
   "cell_type": "code",
   "execution_count": null,
   "metadata": {
    "collapsed": true
   },
   "outputs": [],
   "source": [
    "geometry = [Point(xy) for xy in user_df.location]\n",
    "loc_df = user_df.location\n",
    "crs = {'init': 'epsg:4326'}\n",
    "gdf = GeoDataFrame(loc_df, crs=crs, geometry=geometry)\n",
    "\n",
    "\n",
    "# geometry = [Point(xy) for xy in zip(user_df.longitude, user_df.latitude)]\n",
    "# loc_df = user_df[['longitude', 'latitude']]\n",
    "# crs = {'init': 'epsg:4326'}\n",
    "# gdf = GeoDataFrame(loc_df, crs=crs, geometry=geometry)"
   ]
  },
  {
   "cell_type": "code",
   "execution_count": null,
   "metadata": {},
   "outputs": [],
   "source": [
    "fig, ax = plt.subplots(figsize = (16,10))\n",
    "\n",
    "ax.set_aspect('equal')\n",
    "\n",
    "world.plot(ax=ax, color='#66FF66', edgecolor='black')\n",
    "\n",
    "gdf.plot(ax=ax, marker='o', color='#FF00FF', markersize=5)\n",
    "ax.set_facecolor(\"#00FFFF\")\n",
    "plt.show();\n",
    "\n",
    "''' OPTION TWO\n",
    "base = world.plot(color='white', edgecolor='black', figsize = (16,10))\n",
    "gdf.plot(ax=base, marker='o', color='#FF00FF', markersize=5);\n",
    "''';"
   ]
  },
  {
   "cell_type": "code",
   "execution_count": null,
   "metadata": {},
   "outputs": [],
   "source": [
    "fig, ax = plt.subplots(figsize = (16,10))\n",
    "\n",
    "ax.set_aspect('equal')\n",
    "ax.set_xlim([-126, -67])\n",
    "ax.set_ylim([24, 50])\n",
    "\n",
    "world.plot(ax=ax, color='#66FF66', edgecolor='black')\n",
    "\n",
    "gdf.plot(ax=ax, marker='o', color='#FF00FF', markersize=5)\n",
    "ax.set_facecolor(\"#00FFFF\")\n",
    "plt.show();\n",
    "\n",
    "''' OPTION TWO\n",
    "base = world.plot(color='white', edgecolor='black', figsize = (16,10))\n",
    "gdf.plot(ax=base, marker='o', color='#FF00FF', markersize=5);\n",
    "''';"
   ]
  },
  {
   "cell_type": "code",
   "execution_count": null,
   "metadata": {},
   "outputs": [],
   "source": [
    "fig, ax = plt.subplots(figsize = (16,10))\n",
    "\n",
    "ax.set_aspect('equal')\n",
    "ax.set_xlim([-122.8, -121.5])\n",
    "ax.set_ylim([37, 38.2])\n",
    "\n",
    "world.plot(ax=ax, color='#66FF66', edgecolor='black')\n",
    "\n",
    "gdf.plot(ax=ax, marker='o', color='#FF00FF', markersize=5)\n",
    "ax.set_facecolor(\"#00FFFF\")\n",
    "plt.show();"
   ]
  },
  {
   "cell_type": "code",
   "execution_count": null,
   "metadata": {},
   "outputs": [],
   "source": [
    "fig, ax = plt.subplots(figsize = (16,10))\n",
    "\n",
    "ax.set_aspect('equal')\n",
    "ax.set_xlim([-80, -70])\n",
    "ax.set_ylim([40, 45])\n",
    "\n",
    "world.plot(ax=ax, color='#66FF66', edgecolor='black')\n",
    "\n",
    "gdf.plot(ax=ax, marker='o', color='#FF00FF', markersize=5)\n",
    "ax.set_facecolor(\"#00FFFF\")\n",
    "plt.show();"
   ]
  },
  {
   "cell_type": "code",
   "execution_count": null,
   "metadata": {
    "collapsed": true
   },
   "outputs": [],
   "source": [
    "master_df = mp.unjson_it('data_master')\n",
    "master_df['const'] = 1"
   ]
  },
  {
   "cell_type": "code",
   "execution_count": null,
   "metadata": {},
   "outputs": [],
   "source": [
    "messages_with_responses = master_df[master_df.response== True]\n",
    "messages_with_responses.columns"
   ]
  },
  {
   "cell_type": "code",
   "execution_count": null,
   "metadata": {},
   "outputs": [],
   "source": [
    "messages_with_responses.groupby('uid_sender').const.count().mean()"
   ]
  },
  {
   "cell_type": "code",
   "execution_count": null,
   "metadata": {
    "scrolled": true
   },
   "outputs": [],
   "source": [
    "messages_without_responses.groupby('first_uid').const.count().mean()"
   ]
  },
  {
   "cell_type": "code",
   "execution_count": null,
   "metadata": {
    "collapsed": true
   },
   "outputs": [],
   "source": [
    "master_df.groupby('first_uid').const.count().mean()"
   ]
  },
  {
   "cell_type": "code",
   "execution_count": null,
   "metadata": {
    "collapsed": true
   },
   "outputs": [],
   "source": [
    "all_cities = ['Chicago', 'Phoenix', 'San Francisco', 'Los Angeles',\n",
    "       'Fort Lauderdale', 'San Diego', 'Washington DC',\n",
    "       'Minneapolis', 'Detroit Metro', 'Dallas',\n",
    "       'Hawaii', 'South Florida', 'Atlanta', 'Boston', 'Tampa',\n",
    "       'New York City', 'Portland', 'Sacramento', 'Seattle',\n",
    "       'Ft Myers', 'Philadelphia']"
   ]
  },
  {
   "cell_type": "code",
   "execution_count": null,
   "metadata": {
    "collapsed": true
   },
   "outputs": [],
   "source": [
    "cities = pd.read_csv('/Users/gandalf/Documents/data/worldcities.csv')\n",
    "cities = cities.set_index('city')"
   ]
  },
  {
   "cell_type": "code",
   "execution_count": null,
   "metadata": {},
   "outputs": [],
   "source": [
    "user_df.metro.unique()"
   ]
  },
  {
   "cell_type": "code",
   "execution_count": null,
   "metadata": {
    "collapsed": true
   },
   "outputs": [],
   "source": []
  },
  {
   "cell_type": "code",
   "execution_count": null,
   "metadata": {
    "collapsed": true
   },
   "outputs": [],
   "source": []
  },
  {
   "cell_type": "code",
   "execution_count": null,
   "metadata": {},
   "outputs": [],
   "source": [
    "old_city_names = ['Chicago', 'Phoenix', 'San Francisco Bay Area', 'Los Angeles',\n",
    "       'Fort Lauderdale', 'San Diego', 'Washington',\n",
    "       'Minneapolis / St Paul', 'Detroit Metro', 'Dallas / Fort Worth',\n",
    "       'Hawaii', 'South Florida', 'Atlanta', 'Boston', 'Tampa Bay Area',\n",
    "       'New York City', 'Portland', 'Sacramento', 'Seattle-Tacoma',\n",
    "       'Ft Myers / Sw Florida', 'Philadelphia']\n",
    "\n",
    "new_city_names = ['Chicago', 'Phoenix', 'San Francisco', 'Los Angeles',\n",
    "       'Fort Lauderdale', 'San Diego', 'Washington, D.C.',\n",
    "       'Minneapolis', 'Detroit', 'Dallas',\n",
    "       'Honolulu', 'Miami', 'Atlanta', 'Boston', 'Tampa',\n",
    "       'New York', 'Portland', 'Sacramento', 'Seattle',\n",
    "       'Ft. Myers', 'Philadelphia']\n",
    "city_dic = {}\n",
    "for room_city, db_city in zip(old_city_names, new_city_names):\n",
    "    city_dic[room_city] = (cities.loc[db_city].lat,cities.loc[db_city].lng)\n",
    "city_dic"
   ]
  },
  {
   "cell_type": "code",
   "execution_count": null,
   "metadata": {
    "collapsed": true
   },
   "outputs": [],
   "source": [
    "city_dictionary = {'Atlanta': (33.83001385, -84.399949379999995),\n",
    " 'Boston': (42.329960139999997, -71.070013669999994),\n",
    " 'Chicago': (41.82999066, -87.750054969999994),\n",
    " 'Dallas / Fort Worth': (32.820023820000003, -96.840016930000004),\n",
    " 'Detroit Metro': (42.329960139999997, -83.080055790000003),\n",
    " 'Fort Lauderdale': (26.136064879999999, -80.141785519999999),\n",
    " 'Ft Myers / Sw Florida': (26.640297669999999, -81.86049199),\n",
    " 'Hawaii': (21.30687644, -157.85799790000002),\n",
    " 'Los Angeles': (33.989978,-118.179980),\n",
    " 'Minneapolis / St Paul': (44.979979270000001, -93.251786339999995),\n",
    " 'New York City': (40.749979060000001, -73.980016930000005),\n",
    " 'Philadelphia': (39.999973160000003, -75.169995970000002),\n",
    " 'Phoenix': (33.539979879999997, -112.06999170000002),\n",
    " 'Portland': (45.520024,-122.679990),\n",
    " 'Sacramento': (38.575021380000003, -121.47003810000001),\n",
    " 'San Diego': (32.820023820000003, -117.1799899),\n",
    " 'San Francisco Bay Area': (37.74000775, -122.459978),\n",
    " 'Seattle-Tacoma': (47.570002049999999, -122.33998500000001),\n",
    " 'South Florida': (25.787610699999998, -80.224106079999999),\n",
    " 'Tampa Bay Area': (27.946987929999999, -82.458620850000003),\n",
    " 'Washington': (38.899549380000003, -77.009418580000002)}"
   ]
  },
  {
   "cell_type": "code",
   "execution_count": null,
   "metadata": {
    "collapsed": true
   },
   "outputs": [],
   "source": [
    "user_df['keep1'] = user_df.metro.apply(lambda x: isinstance(x, str))\n",
    "user_df['keep2'] = user_df.location.apply(lambda x: isinstance(x, list))\n",
    "\n",
    "helpful_users = user_df[user_df.keep1 & user_df.keep2]"
   ]
  },
  {
   "cell_type": "code",
   "execution_count": null,
   "metadata": {
    "collapsed": true
   },
   "outputs": [],
   "source": [
    "helpful_users['location2'] = helpful_users.metro.map(city_dictionary)"
   ]
  },
  {
   "cell_type": "code",
   "execution_count": null,
   "metadata": {
    "collapsed": true
   },
   "outputs": [],
   "source": [
    "def dist_to_metro(row):\n",
    "    try:\n",
    "        lst = row.location\n",
    "        tup = row.location2\n",
    "        x = lst[0]-tup[0]\n",
    "        y = lst[1]-tup[1]\n",
    "        return (x**2+y**2)**(.5)\n",
    "    except:\n",
    "        return None"
   ]
  },
  {
   "cell_type": "code",
   "execution_count": null,
   "metadata": {
    "collapsed": true
   },
   "outputs": [],
   "source": [
    "helpful_users['my_dist'] = helpful_users.apply(dist_to_metro, axis=1)"
   ]
  },
  {
   "cell_type": "code",
   "execution_count": null,
   "metadata": {},
   "outputs": [],
   "source": [
    "helpful_users['my_dist'].hist(bins=np.arange(0,250,10))"
   ]
  },
  {
   "cell_type": "code",
   "execution_count": null,
   "metadata": {
    "collapsed": true
   },
   "outputs": [],
   "source": []
  },
  {
   "cell_type": "code",
   "execution_count": null,
   "metadata": {},
   "outputs": [],
   "source": [
    "helpful_users['my_dist']"
   ]
  },
  {
   "cell_type": "markdown",
   "metadata": {},
   "source": [
    "# CONVERSATION LENGTH"
   ]
  },
  {
   "cell_type": "code",
   "execution_count": null,
   "metadata": {
    "collapsed": true
   },
   "outputs": [],
   "source": [
    "master_df"
   ]
  },
  {
   "cell_type": "markdown",
   "metadata": {},
   "source": [
    "# COMPARE RESPONSE RATES"
   ]
  },
  {
   "cell_type": "code",
   "execution_count": null,
   "metadata": {
    "collapsed": true
   },
   "outputs": [],
   "source": [
    "# separate dataset into with and without responses\n",
    "messages_with_responses = master_df[master_df.response == 1]\n",
    "messages_without_responses = master_df[master_df.response == 0]"
   ]
  },
  {
   "cell_type": "code",
   "execution_count": null,
   "metadata": {
    "collapsed": true
   },
   "outputs": [],
   "source": [
    "messages_with_responses.columns"
   ]
  },
  {
   "cell_type": "code",
   "execution_count": null,
   "metadata": {
    "collapsed": true
   },
   "outputs": [],
   "source": [
    "# fn to display plot\n",
    "def plot_feature(col, bins=None):\n",
    "    with_resp = messages_with_responses[col].hist(figsize = (16,4), bins = bins, normed=True, alpha = .5)\n",
    "    without_rest = messages_without_responses[col].hist(figsize = (16,4), bins = bins,normed=True, alpha = .3, color='r')\n",
    "    \n",
    "    plt.xlabel(col,fontsize=14)\n",
    "    plt.ylabel('Number of Messages',fontsize=14)\n",
    "    plt.legend(['Response',\"No Response\"])\n",
    "    plt.show()\n",
    "    print(col+\" with response: {:.9f}\".format(messages_with_responses[col].mean()))\n",
    "    print(col+\" without response: {:.9f}\\n\\n\".format(messages_without_responses[col].mean()))"
   ]
  },
  {
   "cell_type": "markdown",
   "metadata": {},
   "source": [
    "# LENGTH OF ABOUT"
   ]
  },
  {
   "cell_type": "code",
   "execution_count": null,
   "metadata": {
    "collapsed": true
   },
   "outputs": [],
   "source": [
    "plt.title('Comparing Mesages With and Without Responses',fontsize=24) \n",
    "plot_feature('len_about_sender', range(1, 2000, 50))\n",
    "plot_feature('len_about_receiver', range(1, 2000, 50))"
   ]
  },
  {
   "cell_type": "code",
   "execution_count": null,
   "metadata": {
    "collapsed": true
   },
   "outputs": [],
   "source": [
    "plt.title('Comparing Mesages With and Without Responses',fontsize=24) \n",
    "plot_feature('sentence_ratio_sender')\n",
    "plot_feature('sentence_ratio_receiver')"
   ]
  },
  {
   "cell_type": "markdown",
   "metadata": {},
   "source": [
    "# urgency_receiver "
   ]
  },
  {
   "cell_type": "code",
   "execution_count": null,
   "metadata": {
    "collapsed": true
   },
   "outputs": [],
   "source": [
    "plt.title('Comparing Mesages With and Without Responses',fontsize=24) \n",
    "plot_feature('urgency_sender', bins=(range(0,10000000000,1000000000)))"
   ]
  },
  {
   "cell_type": "code",
   "execution_count": null,
   "metadata": {
    "collapsed": true
   },
   "outputs": [],
   "source": [
    "plt.title('Comparing Mesages With and Without Responses',fontsize=24) \n",
    "plot_feature('distance', bins = range(5,200, 10))"
   ]
  },
  {
   "cell_type": "markdown",
   "metadata": {},
   "source": [
    "# AGE OF RESPONDENTS"
   ]
  },
  {
   "cell_type": "code",
   "execution_count": null,
   "metadata": {
    "collapsed": true
   },
   "outputs": [],
   "source": [
    "plt.title('Comparing Mesages With and Without Responses',fontsize=24) \n",
    "plot_feature('age_sender',range(16,60))\n",
    "plot_feature('age_receiver',range(16,60))"
   ]
  },
  {
   "cell_type": "markdown",
   "metadata": {},
   "source": [
    "# MAX COST"
   ]
  },
  {
   "cell_type": "code",
   "execution_count": null,
   "metadata": {
    "collapsed": true
   },
   "outputs": [],
   "source": [
    "plt.title('Comparing Mesages With and Without Responses',fontsize=24) \n",
    "plot_feature('maxCost_sender')\n",
    "plot_feature('maxCost_receiver')"
   ]
  },
  {
   "cell_type": "markdown",
   "metadata": {},
   "source": [
    "# HOBBIES OVERLAP"
   ]
  },
  {
   "cell_type": "code",
   "execution_count": null,
   "metadata": {
    "collapsed": true
   },
   "outputs": [],
   "source": [
    "plt.title('Comparing Mesages With and Without Responses',fontsize=24) \n",
    "plot_feature('hobbies_overlap')"
   ]
  },
  {
   "cell_type": "markdown",
   "metadata": {},
   "source": [
    "# AGE DIFFERENCE"
   ]
  },
  {
   "cell_type": "code",
   "execution_count": null,
   "metadata": {
    "collapsed": true
   },
   "outputs": [],
   "source": [
    "plt.title('Comparing Mesages With and Without Responses',fontsize=24) \n",
    "plot_feature('age_dif', range(40))"
   ]
  },
  {
   "cell_type": "code",
   "execution_count": null,
   "metadata": {
    "collapsed": true
   },
   "outputs": [],
   "source": [
    "plt.title('Comparing Mesages With and Without Responses',fontsize=24) \n",
    "plot_feature('type_sender',range(0,3))\n",
    "plot_feature('type_receiver',range(0,3))"
   ]
  },
  {
   "cell_type": "code",
   "execution_count": null,
   "metadata": {
    "collapsed": true
   },
   "outputs": [],
   "source": [
    "plt.title('Comparing Mesages With and Without Responses',fontsize=24) \n",
    "\n",
    "plot_feature('age_receiver',range(0,100,1))"
   ]
  },
  {
   "cell_type": "code",
   "execution_count": null,
   "metadata": {
    "collapsed": true
   },
   "outputs": [],
   "source": [
    "plt.title('Comparing Mesages With and Without Responses',fontsize=24) \n",
    "plot_feature('isStudent_sender',range(0,3))\n",
    "plot_feature('isStudent_receiver',range(0,3))"
   ]
  },
  {
   "cell_type": "markdown",
   "metadata": {},
   "source": [
    "# MIN COST"
   ]
  },
  {
   "cell_type": "code",
   "execution_count": null,
   "metadata": {
    "collapsed": true
   },
   "outputs": [],
   "source": [
    "plt.title('Comparing Mesages With and Without Responses',fontsize=24) \n",
    "plot_feature('minCost_sender',range(0,2000,50))\n",
    "plot_feature('minCost_receiver',range(0,2000,50))"
   ]
  },
  {
   "cell_type": "markdown",
   "metadata": {},
   "source": [
    "# LEN OF FIRST MESSAGE"
   ]
  },
  {
   "cell_type": "code",
   "execution_count": null,
   "metadata": {
    "collapsed": true
   },
   "outputs": [],
   "source": [
    "plt.title('Comparing Mesages With and Without Responses',fontsize=24) \n",
    "plot_feature('first_len', range(0,500, 10))"
   ]
  },
  {
   "cell_type": "code",
   "execution_count": null,
   "metadata": {
    "collapsed": true
   },
   "outputs": [],
   "source": []
  },
  {
   "cell_type": "code",
   "execution_count": null,
   "metadata": {
    "collapsed": true
   },
   "outputs": [],
   "source": []
  },
  {
   "cell_type": "code",
   "execution_count": null,
   "metadata": {
    "collapsed": true
   },
   "outputs": [],
   "source": []
  },
  {
   "cell_type": "code",
   "execution_count": null,
   "metadata": {
    "collapsed": true
   },
   "outputs": [],
   "source": [
    "df = mp.unjson_it('data_master_full')\n",
    "df = mp.reinstate_date(df, ['activeAt_receiver', 'activeAt_sender',\n",
    "                            'available_receiver', 'available_sender',\n",
    "                            'birthday_receiver', 'birthday_sender',\n",
    "                            'updated_receiver','updated_sender', \n",
    "                            'urgency_receiver', 'urgency_sender'])\n",
    "print(\"Make sure we're not using ECT data\")\n",
    "print(df.timestamp.max())"
   ]
  },
  {
   "cell_type": "code",
   "execution_count": null,
   "metadata": {
    "collapsed": true
   },
   "outputs": [],
   "source": [
    "df = df[df.timestamp > pd.to_datetime('2017-02-01').date()]\n",
    "df.timestamp.min()"
   ]
  },
  {
   "cell_type": "code",
   "execution_count": null,
   "metadata": {
    "collapsed": true
   },
   "outputs": [],
   "source": [
    "df.timestamp.hist(figsize = (16,4))\n",
    "plt.show()"
   ]
  },
  {
   "cell_type": "code",
   "execution_count": null,
   "metadata": {
    "collapsed": true
   },
   "outputs": [],
   "source": [
    "df.timestamp = df.timestamp.apply(lambda x: x.date())"
   ]
  },
  {
   "cell_type": "code",
   "execution_count": null,
   "metadata": {
    "collapsed": true
   },
   "outputs": [],
   "source": [
    "df.timestamp.min()"
   ]
  },
  {
   "cell_type": "code",
   "execution_count": null,
   "metadata": {
    "collapsed": true
   },
   "outputs": [],
   "source": [
    "df['iso'] = df.timestamp.apply(lambda x: x.isocalendar())\n",
    "df['week'] = df['iso'].apply(lambda x: x[1])\n",
    "df['month'] = df['timestamp'].apply(lambda x: x.month)"
   ]
  },
  {
   "cell_type": "code",
   "execution_count": null,
   "metadata": {
    "collapsed": true
   },
   "outputs": [],
   "source": [
    "df.groupby('week')"
   ]
  },
  {
   "cell_type": "code",
   "execution_count": null,
   "metadata": {
    "collapsed": true
   },
   "outputs": [],
   "source": [
    "df['const']=1\n",
    "message_per_day = df.groupby('timestamp').count().const\n",
    "message_per_week = df.groupby('week').count().const\n",
    "\n",
    "plt.plot(message_per_week)"
   ]
  },
  {
   "cell_type": "code",
   "execution_count": null,
   "metadata": {
    "collapsed": true
   },
   "outputs": [],
   "source": [
    "plt.plot(df.groupby('week').mean().response)"
   ]
  },
  {
   "cell_type": "code",
   "execution_count": null,
   "metadata": {
    "collapsed": true
   },
   "outputs": [],
   "source": [
    "plt.plot(df.groupby('month').mean().response)"
   ]
  },
  {
   "cell_type": "code",
   "execution_count": null,
   "metadata": {
    "collapsed": true
   },
   "outputs": [],
   "source": [
    "df.groupby('month').mean().response"
   ]
  },
  {
   "cell_type": "code",
   "execution_count": null,
   "metadata": {
    "collapsed": true
   },
   "outputs": [],
   "source": [
    "master_df.columns"
   ]
  },
  {
   "cell_type": "markdown",
   "metadata": {},
   "source": [
    "# MALE VS FEMALE"
   ]
  },
  {
   "cell_type": "code",
   "execution_count": null,
   "metadata": {
    "collapsed": true
   },
   "outputs": [],
   "source": [
    "from_male_df = master_df[master_df.gender_sender == 1]\n",
    "from_female_df = master_df[master_df.gender_sender == 0]\n",
    "to_male_df = master_df[master_df.gender_receiver == 1]\n",
    "to_female_df = master_df[master_df.gender_receiver == 0]"
   ]
  },
  {
   "cell_type": "code",
   "execution_count": null,
   "metadata": {
    "collapsed": true
   },
   "outputs": [],
   "source": [
    "print(\"Response rate when men reach out: {:.3}\".format(from_male_df.response.mean()))\n",
    "print(\"Response rate when women reach out: {:.3}\".format(from_female_df.response.mean()))"
   ]
  },
  {
   "cell_type": "code",
   "execution_count": null,
   "metadata": {
    "collapsed": true
   },
   "outputs": [],
   "source": [
    "print(\"Response rate of men: {:.3}\".format(to_male_df.response.mean()))\n",
    "print(\"Response rate of women: {:.3}\".format(to_female_df.response.mean()))"
   ]
  },
  {
   "cell_type": "code",
   "execution_count": null,
   "metadata": {
    "collapsed": true
   },
   "outputs": [],
   "source": [
    "print(\"{:.3} of messages are sent by men\".format(master_df.gender_sender.sum()/len(master_df)))\n",
    "print(\"men make up {:.3} of users\".format(len(user_df[user_df.gender=='male'])/len(user_df)))"
   ]
  },
  {
   "cell_type": "code",
   "execution_count": null,
   "metadata": {
    "collapsed": true
   },
   "outputs": [],
   "source": []
  }
 ],
 "metadata": {
  "kernelspec": {
   "display_name": "Python 3",
   "language": "python",
   "name": "python3"
  },
  "language_info": {
   "codemirror_mode": {
    "name": "ipython",
    "version": 3
   },
   "file_extension": ".py",
   "mimetype": "text/x-python",
   "name": "python",
   "nbconvert_exporter": "python",
   "pygments_lexer": "ipython3",
   "version": "3.6.3"
  }
 },
 "nbformat": 4,
 "nbformat_minor": 2
}
