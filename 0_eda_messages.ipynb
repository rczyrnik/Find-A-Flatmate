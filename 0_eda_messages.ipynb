{
 "cells": [
  {
   "cell_type": "markdown",
   "metadata": {},
   "source": [
    "# Imports"
   ]
  },
  {
   "cell_type": "code",
   "execution_count": 1,
   "metadata": {
    "collapsed": true
   },
   "outputs": [],
   "source": [
    "import pandas as pd\n",
    "import numpy as np\n",
    "import matplotlib.pyplot as plt\n",
    "%matplotlib inline\n",
    "\n",
    "# Location\n",
    "from shapely.geometry import Point\n",
    "from geopandas import GeoDataFrame\n",
    "import geopandas as gpd\n",
    "\n",
    "import my_pickle as mp\n",
    "\n",
    "import warnings\n",
    "warnings.filterwarnings('ignore')\n",
    "\n",
    "from sklearn.neighbors import KernelDensity"
   ]
  },
  {
   "cell_type": "markdown",
   "metadata": {},
   "source": [
    "# Read in data"
   ]
  },
  {
   "cell_type": "code",
   "execution_count": 44,
   "metadata": {},
   "outputs": [
    {
     "name": "stdout",
     "output_type": "stream",
     "text": [
      "Make sure we're not using ECT data\n",
      "2017-10-01 06:37:20.466000\n"
     ]
    }
   ],
   "source": [
    "user_df = mp.unjson_it('data_user')\n",
    "user_df = mp.reinstate_date(user_df,['activeAt', 'available', 'birthday','created','updated'])\n",
    "\n",
    "convo_df = mp.unjson_it('data_convo')\n",
    "message_df = mp.unjson_it('data_message') \n",
    "master_df = mp.unjson_it('data_master')\n",
    "\n",
    "print(\"Make sure we're not using ECT data\")\n",
    "print(convo_df.timestamp.max())"
   ]
  },
  {
   "cell_type": "markdown",
   "metadata": {},
   "source": [
    "# Useful Fn"
   ]
  },
  {
   "cell_type": "code",
   "execution_count": 26,
   "metadata": {
    "collapsed": true
   },
   "outputs": [],
   "source": [
    "# fn to display plot\n",
    "def plot_feature(col, bins=None):\n",
    "    with_resp = with_responses[col].hist(figsize = (16,4), bins = bins, normed=True, alpha = .5)\n",
    "    without_resp = without_responses[col].hist(figsize = (16,4), bins = bins,normed=True, alpha = .3, color='r')\n",
    "    \n",
    "    plt.xlabel(col,fontsize=14)\n",
    "    plt.ylabel('Number of Messages',fontsize=14)\n",
    "    plt.legend(['Response',\"No Response\"])\n",
    "    plt.show()\n",
    "    print(col+\" with response: {:.9f}\".format(with_responses[col].mean()))\n",
    "    print(col+\" without response: {:.9f}\\n\\n\".format(without_responses[col].mean()))"
   ]
  },
  {
   "cell_type": "markdown",
   "metadata": {},
   "source": [
    "# Split into successful and unsuccessful"
   ]
  },
  {
   "cell_type": "code",
   "execution_count": 46,
   "metadata": {
    "collapsed": true
   },
   "outputs": [],
   "source": [
    "# separate dataset into with and without responses\n",
    "with_responses = master_df[master_df.response == 1]\n",
    "without_responses = master_df[master_df.response == 0]\n",
    "\n",
    "with_responses.urgency_receiver = with_responses.urgency_receiver.apply(lambda x: -x)\n",
    "without_responses.urgency_receiver = without_responses.urgency_receiver.apply(lambda x: -x)"
   ]
  },
  {
   "cell_type": "markdown",
   "metadata": {},
   "source": [
    "# RESULTS FROM CONTINUOUS ANALYSIS"
   ]
  },
  {
   "cell_type": "markdown",
   "metadata": {},
   "source": [
    "## 1. urgency_receiver"
   ]
  },
  {
   "cell_type": "code",
   "execution_count": 48,
   "metadata": {},
   "outputs": [
    {
     "data": {
      "image/png": "[encoded data removed]",
      "text/plain": [
       "<matplotlib.figure.Figure at 0x1a27f41978>"
      ]
     },
     "metadata": {},
     "output_type": "display_data"
    },
    {
     "name": "stdout",
     "output_type": "stream",
     "text": [
      "urgency_receiver with response: -37.522309711\n",
      "urgency_receiver without response: -29.750974659\n",
      "\n",
      "\n"
     ]
    }
   ],
   "source": [
    "plt.title('Comparing Mesages With and Without Responses',fontsize=24) \n",
    "plot_feature('urgency_receiver', np.arange(-200, 100, 10))"
   ]
  },
  {
   "cell_type": "code",
   "execution_count": 27,
   "metadata": {},
   "outputs": [
    {
     "data": {
      "text/plain": [
       "0a9yOPKFSH08WgF0hdlC             NaN\n",
       "0rWEHUEBJ30o9pvJ8wSU             NaN\n",
       "0yYUmPrMdJ0AB0LexUe3             NaN\n",
       "1SqAEiJUUV0A8toNM0Ft             NaN\n",
       "1mD1QnXCnG1MRCdKPUCE   -2.343290e+10\n",
       "Name: urgency_receiver, dtype: float64"
      ]
     },
     "execution_count": 27,
     "metadata": {},
     "output_type": "execute_result"
    }
   ],
   "source": [
    "with_responses.groupby([\"urgency_receiver.head()"
   ]
  },
  {
   "cell_type": "code",
   "execution_count": null,
   "metadata": {
    "collapsed": true
   },
   "outputs": [],
   "source": []
  },
  {
   "cell_type": "code",
   "execution_count": null,
   "metadata": {
    "collapsed": true
   },
   "outputs": [],
   "source": []
  },
  {
   "cell_type": "code",
   "execution_count": null,
   "metadata": {
    "collapsed": true
   },
   "outputs": [],
   "source": []
  },
  {
   "cell_type": "code",
   "execution_count": null,
   "metadata": {
    "collapsed": true
   },
   "outputs": [],
   "source": []
  },
  {
   "cell_type": "code",
   "execution_count": null,
   "metadata": {
    "collapsed": true
   },
   "outputs": [],
   "source": []
  },
  {
   "cell_type": "code",
   "execution_count": null,
   "metadata": {
    "collapsed": true
   },
   "outputs": [],
   "source": []
  },
  {
   "cell_type": "code",
   "execution_count": null,
   "metadata": {
    "collapsed": true
   },
   "outputs": [],
   "source": []
  },
  {
   "cell_type": "code",
   "execution_count": null,
   "metadata": {
    "collapsed": true
   },
   "outputs": [],
   "source": []
  },
  {
   "cell_type": "code",
   "execution_count": null,
   "metadata": {
    "collapsed": true
   },
   "outputs": [],
   "source": []
  },
  {
   "cell_type": "code",
   "execution_count": null,
   "metadata": {
    "collapsed": true
   },
   "outputs": [],
   "source": []
  },
  {
   "cell_type": "code",
   "execution_count": null,
   "metadata": {
    "collapsed": true
   },
   "outputs": [],
   "source": []
  },
  {
   "cell_type": "code",
   "execution_count": null,
   "metadata": {
    "collapsed": true
   },
   "outputs": [],
   "source": []
  },
  {
   "cell_type": "code",
   "execution_count": null,
   "metadata": {
    "collapsed": true
   },
   "outputs": [],
   "source": []
  },
  {
   "cell_type": "code",
   "execution_count": null,
   "metadata": {
    "collapsed": true
   },
   "outputs": [],
   "source": []
  },
  {
   "cell_type": "code",
   "execution_count": 3,
   "metadata": {},
   "outputs": [
    {
     "data": {
      "text/plain": [
       "02sjTzcsaO02omVxM8Xm    0\n",
       "07Aj9wLBPC013LzOrVju    0\n",
       "07lVtClAEQ01iDVeaXl1    0\n",
       "0AFU6guKDt01iDVeaXl1    0\n",
       "0AFU6guKDt01mfWG4vUm    0\n",
       "0AFU6guKDt06y5iMXoCP    0\n",
       "0AFU6guKDt0AB0LexUe3    0\n",
       "0AIXrTs4wJ0AFU6guKDt    0\n",
       "0BtCaxkrrw02i1Py9KrY    0\n",
       "0BtCaxkrrw02sjTzcsaO    0\n",
       "0DGCKCGZd90AFU6guKDt    0\n",
       "0DNru2t6hV0AFU6guKDt    0\n",
       "0Fsuw8S0mL013LzOrVju    0\n",
       "0HH9aGR3kd0AFU6guKDt    0\n",
       "0OgknYxioc0DGCKCGZd9    0\n",
       "0OgknYxioc0EGMGHv0Hs    0\n",
       "0SOCDSYlOq07s1qfAzpo    0\n",
       "0a9yOPKFSH03ePCiaOjo    0\n",
       "0a9yOPKFSH05EC8c3DrK    0\n",
       "0a9yOPKFSH08WgF0hdlC    1\n",
       "0caw6FaFyJ0AFU6guKDt    0\n",
       "0dGwZfaXmd01iDVeaXl1    0\n",
       "0decfhe3Oh0OgknYxioc    0\n",
       "0k5Et4GYuW0AIXrTs4wJ    0\n",
       "0l9OiUmJyq01iDVeaXl1    0\n",
       "0lOobaeXb606GEivRJk8    0\n",
       "0rLd8VXR7P02i1Py9KrY    0\n",
       "0rWEHUEBJ30o9pvJ8wSU    1\n",
       "0u0fHnUmfA0a9yOPKFSH    0\n",
       "0x4tTLVTIN03ePCiaOjo    0\n",
       "                       ..\n",
       "zonuklzaPUB3SFoDW6LC    0\n",
       "zonuklzaPUBqGAgb1wGF    0\n",
       "zonuklzaPUDVSgDGJS9n    0\n",
       "zonuklzaPUGGX7xvlEUP    0\n",
       "zonuklzaPUQi4kdXsOmt    0\n",
       "zonuklzaPUToxe8aT4CH    0\n",
       "zonuklzaPUZo8bw64tuO    0\n",
       "zonuklzaPUcJ473283eO    1\n",
       "zonuklzaPUdMSitEiLER    0\n",
       "zonuklzaPUh01OJRjQ6A    0\n",
       "zonuklzaPUhxcNmuYW6P    0\n",
       "zonuklzaPUr64AAaAsC0    0\n",
       "zonuklzaPUuiBwsZI8yP    0\n",
       "zorQIO8XUeWDf80cR3er    1\n",
       "zsF8gwIsVEOeo6h2h4AN    1\n",
       "zsF8gwIsVETVlSiclgsz    0\n",
       "zsF8gwIsVEUOD9g4CECT    1\n",
       "zsF8gwIsVEZAQXaQHfqO    0\n",
       "ztglOyWvvuOHSdpcSbvo    0\n",
       "ztglOyWvvuTed0nehtDG    0\n",
       "zxUlKgv9gg0AIXrTs4wJ    0\n",
       "zxUlKgv9ggB71qV8AFIn    1\n",
       "zxUlKgv9ggd2RscLAGeh    1\n",
       "zxUlKgv9ggnpVNRNKuYZ    0\n",
       "zxUlKgv9gguadp0NT1op    0\n",
       "zxbTAFN7nPlt3uPJdykQ    0\n",
       "zxlG3oymMGkeNUOr6Caa    0\n",
       "zxlG3oymMGv788vHnFmA    0\n",
       "zy9xMJvRmHHsnlcf3M6c    0\n",
       "zz1aUdfKKnRACdaEvb0s    0\n",
       "Name: response, Length: 11127, dtype: int64"
      ]
     },
     "execution_count": 3,
     "metadata": {},
     "output_type": "execute_result"
    }
   ],
   "source": [
    "master_df.response"
   ]
  },
  {
   "cell_type": "code",
   "execution_count": null,
   "metadata": {
    "collapsed": true
   },
   "outputs": [],
   "source": []
  },
  {
   "cell_type": "code",
   "execution_count": null,
   "metadata": {
    "collapsed": true
   },
   "outputs": [],
   "source": []
  },
  {
   "cell_type": "markdown",
   "metadata": {},
   "source": [
    "# AVERAGE MESSAGES SENT AND RECIEVED"
   ]
  },
  {
   "cell_type": "code",
   "execution_count": null,
   "metadata": {
    "collapsed": true
   },
   "outputs": [],
   "source": [
    "fig = plt.figure(figsize=(16,4))\n",
    "ax1 = fig.add_subplot(121)\n",
    "ax1.hist(convo_df.groupby('uid_sender').count().my_count,bins = range(30))\n",
    "ax1.set_title('Messages sent')\n",
    "\n",
    "ax2 = fig.add_subplot(122)\n",
    "ax2.hist(convo_df.groupby('uid_receiver').count().my_count,bins = range(30))\n",
    "ax2.set_title('Messages received')\n",
    "ax2.set_title('Messages received')\n",
    "plt.show()\n",
    "\n",
    "print(\"Out of {} messages:\".format(convo_df.groupby('uid_sender').count().my_count.sum()))\n",
    "print(\" - users who sent messages sent {:.4} on average\".format( \n",
    "            convo_df.groupby('uid_sender').count().my_count.mean()))\n",
    "\n",
    "print(\" - users who received messages received {:.4} on average\".format(\n",
    "            convo_df.groupby('uid_receiver').count().my_count.mean()))\n",
    "print(\"\\n\")\n",
    "print(\"Out of {} onboarded users:\".format(len(user_df)))\n",
    "print(\" - {} unique users sent messages\".format(len(convo_df.uid_sender.unique())))\n",
    "print(\" - {} unique users received messages\".format(len(convo_df.uid_receiver.unique())))\n",
    "      \n",
    "      \n",
    "either = len(set(convo_df.uid_sender).union(set(convo_df.uid_receiver)))\n",
    "both = len(set(convo_df.uid_sender).intersection(set(convo_df.uid_receiver)))\n",
    "print(\" - {} unique users sent or received messages\".format(either))\n",
    "print(\" - {} unique users sent and received messages\".format(both))"
   ]
  },
  {
   "cell_type": "markdown",
   "metadata": {},
   "source": [
    "# LENGTH OF CONVERSATION"
   ]
  },
  {
   "cell_type": "code",
   "execution_count": null,
   "metadata": {
    "collapsed": true
   },
   "outputs": [],
   "source": [
    "grouped = message_df.groupby('conversation_id').count().const\n",
    "\n",
    "print(\"{} messages were sent\".format(grouped.sum()))\n",
    "print(\"The longest conversation was {} messages\".format(grouped.max()))\n",
    "print(\"On average, conversations lasted {:.3} messages\".format(grouped.mean()))"
   ]
  },
  {
   "cell_type": "markdown",
   "metadata": {},
   "source": [
    "# COST RANGE"
   ]
  },
  {
   "cell_type": "code",
   "execution_count": null,
   "metadata": {
    "collapsed": true
   },
   "outputs": [],
   "source": [
    "user_df['cost_range'] = user_df.maxCost-user_df.minCost\n",
    "user_df.cost_range.hist(bins=range(0,2000,50))\n",
    "plt.show()"
   ]
  },
  {
   "cell_type": "markdown",
   "metadata": {},
   "source": [
    "# NUM ROOMMATES"
   ]
  },
  {
   "cell_type": "code",
   "execution_count": null,
   "metadata": {
    "collapsed": true
   },
   "outputs": [],
   "source": [
    "x = user_df.groupby('numRoommates').created.count().index\n",
    "y = user_df.groupby('numRoommates').created.count().values\n",
    "plt.bar(x, y)\n",
    "plt.xlim(0,11)"
   ]
  },
  {
   "cell_type": "markdown",
   "metadata": {},
   "source": [
    "# CONVERSATIONS"
   ]
  },
  {
   "cell_type": "markdown",
   "metadata": {},
   "source": [
    "### basic info"
   ]
  },
  {
   "cell_type": "code",
   "execution_count": null,
   "metadata": {
    "collapsed": true
   },
   "outputs": [],
   "source": [
    "print(\"There are {} conversation.\".format(len(convo_df)))"
   ]
  },
  {
   "cell_type": "code",
   "execution_count": null,
   "metadata": {
    "collapsed": true
   },
   "outputs": [],
   "source": [
    "response_rate = convo_df.response.sum()/len(convo_df)\n",
    "print(\"Messages get responses {:.2} of the time.\".format(response_rate))"
   ]
  },
  {
   "cell_type": "markdown",
   "metadata": {},
   "source": [
    "# USERS"
   ]
  },
  {
   "cell_type": "markdown",
   "metadata": {},
   "source": [
    "### CREATED"
   ]
  },
  {
   "cell_type": "code",
   "execution_count": null,
   "metadata": {
    "collapsed": true
   },
   "outputs": [],
   "source": [
    "user_df.created.hist(figsize=(16,2), bins=100);"
   ]
  },
  {
   "cell_type": "code",
   "execution_count": null,
   "metadata": {
    "collapsed": true
   },
   "outputs": [],
   "source": [
    "user_df.updated.hist(figsize=(16,2), bins=100);"
   ]
  },
  {
   "cell_type": "markdown",
   "metadata": {},
   "source": [
    "### TIME FROM CREATED TO UPDATED"
   ]
  },
  {
   "cell_type": "code",
   "execution_count": null,
   "metadata": {
    "collapsed": true
   },
   "outputs": [],
   "source": [
    "user_df[\"update-created\"] = user_df.updated-user_df.created\n",
    "# user_df[\"update-created\"] = user_df[\"update-created\"].apply(lambda x: pd.to_datetime(x*100000000))\n",
    "user_df[\"update-created\"] = user_df[\"update-created\"].apply(lambda x: x.days)\n",
    "user_df[\"update-created\"].hist()"
   ]
  },
  {
   "cell_type": "markdown",
   "metadata": {},
   "source": [
    "### ABOUT"
   ]
  },
  {
   "cell_type": "markdown",
   "metadata": {},
   "source": [
    "#### length"
   ]
  },
  {
   "cell_type": "code",
   "execution_count": null,
   "metadata": {
    "collapsed": true
   },
   "outputs": [],
   "source": [
    "user_df.len_about.hist(bins=range(1, 1000, 10), figsize = [10, 3])\n",
    "plt.title(\"Lenght of 'about' Section\")\n",
    "plt.tight_layout()"
   ]
  },
  {
   "cell_type": "markdown",
   "metadata": {},
   "source": [
    "#### percent responding"
   ]
  },
  {
   "cell_type": "code",
   "execution_count": null,
   "metadata": {
    "collapsed": true
   },
   "outputs": [],
   "source": [
    "wth = user_df[user_df.len_about > 0].count()['about']\n",
    "wthout = user_df[user_df.len_about == 0].count()['about']\n",
    "print('total number of user entries: {}'.format(wth+wthout))\n",
    "print('number with about sections: {}'.format(wth))\n",
    "print('number without about sections: {}'.format(wthout))\n",
    "print('percent with about sections: {}'.format(wth/(wth+wthout)))"
   ]
  },
  {
   "cell_type": "code",
   "execution_count": null,
   "metadata": {
    "collapsed": true
   },
   "outputs": [],
   "source": [
    "user_df[user_df.len_about>0].about.values"
   ]
  },
  {
   "cell_type": "markdown",
   "metadata": {},
   "source": [
    "### BIRTHDAY"
   ]
  },
  {
   "cell_type": "code",
   "execution_count": null,
   "metadata": {
    "collapsed": true
   },
   "outputs": [],
   "source": [
    "user_df.age.hist(bins=range(16,100), figsize=(16,2));"
   ]
  },
  {
   "cell_type": "markdown",
   "metadata": {},
   "source": [
    "### LOCATION"
   ]
  },
  {
   "cell_type": "code",
   "execution_count": null,
   "metadata": {
    "collapsed": true
   },
   "outputs": [],
   "source": [
    "user_df.location[0][0]"
   ]
  },
  {
   "cell_type": "code",
   "execution_count": null,
   "metadata": {
    "collapsed": true
   },
   "outputs": [],
   "source": [
    "world = gpd.read_file(gpd.datasets.get_path('naturalearth_lowres'))\n",
    "cities = gpd.read_file(gpd.datasets.get_path('naturalearth_cities'))"
   ]
  },
  {
   "cell_type": "code",
   "execution_count": null,
   "metadata": {
    "collapsed": true
   },
   "outputs": [],
   "source": [
    "user_df.location = user_df.location.apply(lambda x: x if isinstance(x, list) else [0,0])"
   ]
  },
  {
   "cell_type": "code",
   "execution_count": null,
   "metadata": {
    "collapsed": true
   },
   "outputs": [],
   "source": [
    "geometry = [Point(xy) for xy in user_df.location]\n",
    "loc_df = user_df.location\n",
    "crs = {'init': 'epsg:4326'}\n",
    "gdf = GeoDataFrame(loc_df, crs=crs, geometry=geometry)\n",
    "\n",
    "\n",
    "# geometry = [Point(xy) for xy in zip(user_df.longitude, user_df.latitude)]\n",
    "# loc_df = user_df[['longitude', 'latitude']]\n",
    "# crs = {'init': 'epsg:4326'}\n",
    "# gdf = GeoDataFrame(loc_df, crs=crs, geometry=geometry)"
   ]
  },
  {
   "cell_type": "code",
   "execution_count": null,
   "metadata": {
    "collapsed": true
   },
   "outputs": [],
   "source": [
    "fig, ax = plt.subplots(figsize = (16,10))\n",
    "\n",
    "ax.set_aspect('equal')\n",
    "\n",
    "world.plot(ax=ax, color='#66FF66', edgecolor='black')\n",
    "\n",
    "gdf.plot(ax=ax, marker='o', color='#FF00FF', markersize=5)\n",
    "ax.set_facecolor(\"#00FFFF\")\n",
    "plt.show();\n",
    "\n",
    "''' OPTION TWO\n",
    "base = world.plot(color='white', edgecolor='black', figsize = (16,10))\n",
    "gdf.plot(ax=base, marker='o', color='#FF00FF', markersize=5);\n",
    "''';"
   ]
  },
  {
   "cell_type": "code",
   "execution_count": null,
   "metadata": {
    "collapsed": true
   },
   "outputs": [],
   "source": [
    "fig, ax = plt.subplots(figsize = (16,10))\n",
    "\n",
    "ax.set_aspect('equal')\n",
    "ax.set_xlim([-126, -67])\n",
    "ax.set_ylim([24, 50])\n",
    "\n",
    "world.plot(ax=ax, color='#66FF66', edgecolor='black')\n",
    "\n",
    "gdf.plot(ax=ax, marker='o', color='#FF00FF', markersize=5)\n",
    "ax.set_facecolor(\"#00FFFF\")\n",
    "plt.show();\n",
    "\n",
    "''' OPTION TWO\n",
    "base = world.plot(color='white', edgecolor='black', figsize = (16,10))\n",
    "gdf.plot(ax=base, marker='o', color='#FF00FF', markersize=5);\n",
    "''';"
   ]
  },
  {
   "cell_type": "code",
   "execution_count": null,
   "metadata": {
    "collapsed": true
   },
   "outputs": [],
   "source": [
    "fig, ax = plt.subplots(figsize = (16,10))\n",
    "\n",
    "ax.set_aspect('equal')\n",
    "ax.set_xlim([-122.8, -121.5])\n",
    "ax.set_ylim([37, 38.2])\n",
    "\n",
    "world.plot(ax=ax, color='#66FF66', edgecolor='black')\n",
    "\n",
    "gdf.plot(ax=ax, marker='o', color='#FF00FF', markersize=5)\n",
    "ax.set_facecolor(\"#00FFFF\")\n",
    "plt.show();"
   ]
  },
  {
   "cell_type": "code",
   "execution_count": null,
   "metadata": {
    "collapsed": true
   },
   "outputs": [],
   "source": [
    "fig, ax = plt.subplots(figsize = (16,10))\n",
    "\n",
    "ax.set_aspect('equal')\n",
    "ax.set_xlim([-80, -70])\n",
    "ax.set_ylim([40, 45])\n",
    "\n",
    "world.plot(ax=ax, color='#66FF66', edgecolor='black')\n",
    "\n",
    "gdf.plot(ax=ax, marker='o', color='#FF00FF', markersize=5)\n",
    "ax.set_facecolor(\"#00FFFF\")\n",
    "plt.show();"
   ]
  },
  {
   "cell_type": "code",
   "execution_count": null,
   "metadata": {
    "collapsed": true
   },
   "outputs": [],
   "source": [
    "master_df = mp.unjson_it('data_master')\n",
    "master_df['const'] = 1"
   ]
  },
  {
   "cell_type": "code",
   "execution_count": null,
   "metadata": {
    "collapsed": true
   },
   "outputs": [],
   "source": [
    "messages_with_responses = master_df[master_df.response== True]\n",
    "messages_with_responses.columns"
   ]
  },
  {
   "cell_type": "code",
   "execution_count": null,
   "metadata": {
    "collapsed": true
   },
   "outputs": [],
   "source": [
    "messages_with_responses.groupby('uid_sender').const.count().mean()"
   ]
  },
  {
   "cell_type": "code",
   "execution_count": null,
   "metadata": {
    "collapsed": true,
    "scrolled": true
   },
   "outputs": [],
   "source": [
    "messages_without_responses.groupby('first_uid').const.count().mean()"
   ]
  },
  {
   "cell_type": "code",
   "execution_count": null,
   "metadata": {
    "collapsed": true
   },
   "outputs": [],
   "source": [
    "master_df.groupby('first_uid').const.count().mean()"
   ]
  },
  {
   "cell_type": "markdown",
   "metadata": {},
   "source": [
    "# CONVERSATION LENGTH"
   ]
  },
  {
   "cell_type": "code",
   "execution_count": null,
   "metadata": {
    "collapsed": true
   },
   "outputs": [],
   "source": [
    "master_df"
   ]
  },
  {
   "cell_type": "markdown",
   "metadata": {},
   "source": [
    "# COMPARE RESPONSE RATES"
   ]
  },
  {
   "cell_type": "code",
   "execution_count": null,
   "metadata": {
    "collapsed": true
   },
   "outputs": [],
   "source": [
    "# separate dataset into with and without responses\n",
    "messages_with_responses = master_df[master_df.response == 1]\n",
    "messages_without_responses = master_df[master_df.response == 0]"
   ]
  },
  {
   "cell_type": "code",
   "execution_count": null,
   "metadata": {
    "collapsed": true
   },
   "outputs": [],
   "source": [
    "messages_with_responses.columns"
   ]
  },
  {
   "cell_type": "code",
   "execution_count": null,
   "metadata": {
    "collapsed": true
   },
   "outputs": [],
   "source": [
    "# fn to display plot\n",
    "def plot_feature(col, bins=None):\n",
    "    with_resp = messages_with_responses[col].hist(figsize = (16,4), bins = bins, normed=True, alpha = .5)\n",
    "    without_rest = messages_without_responses[col].hist(figsize = (16,4), bins = bins,normed=True, alpha = .3, color='r')\n",
    "    \n",
    "    plt.xlabel(col,fontsize=14)\n",
    "    plt.ylabel('Number of Messages',fontsize=14)\n",
    "    plt.legend(['Response',\"No Response\"])\n",
    "    plt.show()\n",
    "    print(col+\" with response: {:.9f}\".format(messages_with_responses[col].mean()))\n",
    "    print(col+\" without response: {:.9f}\\n\\n\".format(messages_without_responses[col].mean()))"
   ]
  },
  {
   "cell_type": "markdown",
   "metadata": {},
   "source": [
    "# LENGTH OF ABOUT"
   ]
  },
  {
   "cell_type": "code",
   "execution_count": null,
   "metadata": {
    "collapsed": true
   },
   "outputs": [],
   "source": [
    "plt.title('Comparing Mesages With and Without Responses',fontsize=24) \n",
    "plot_feature('len_about_sender', range(1, 2000, 50))\n",
    "plot_feature('len_about_receiver', range(1, 2000, 50))"
   ]
  },
  {
   "cell_type": "code",
   "execution_count": null,
   "metadata": {
    "collapsed": true
   },
   "outputs": [],
   "source": [
    "plt.title('Comparing Mesages With and Without Responses',fontsize=24) \n",
    "plot_feature('sentence_ratio_sender')\n",
    "plot_feature('sentence_ratio_receiver')"
   ]
  },
  {
   "cell_type": "markdown",
   "metadata": {},
   "source": [
    "# urgency_receiver "
   ]
  },
  {
   "cell_type": "code",
   "execution_count": null,
   "metadata": {
    "collapsed": true
   },
   "outputs": [],
   "source": [
    "plt.title('Comparing Mesages With and Without Responses',fontsize=24) \n",
    "plot_feature('urgency_sender', bins=(range(0,10000000000,1000000000)))"
   ]
  },
  {
   "cell_type": "code",
   "execution_count": null,
   "metadata": {
    "collapsed": true
   },
   "outputs": [],
   "source": [
    "plt.title('Comparing Mesages With and Without Responses',fontsize=24) \n",
    "plot_feature('distance', bins = range(5,200, 10))"
   ]
  },
  {
   "cell_type": "markdown",
   "metadata": {},
   "source": [
    "# AGE OF RESPONDENTS"
   ]
  },
  {
   "cell_type": "code",
   "execution_count": null,
   "metadata": {
    "collapsed": true
   },
   "outputs": [],
   "source": [
    "plt.title('Comparing Mesages With and Without Responses',fontsize=24) \n",
    "plot_feature('age_sender',range(16,60))\n",
    "plot_feature('age_receiver',range(16,60))"
   ]
  },
  {
   "cell_type": "markdown",
   "metadata": {},
   "source": [
    "# MAX COST"
   ]
  },
  {
   "cell_type": "code",
   "execution_count": null,
   "metadata": {
    "collapsed": true
   },
   "outputs": [],
   "source": [
    "plt.title('Comparing Mesages With and Without Responses',fontsize=24) \n",
    "plot_feature('maxCost_sender')\n",
    "plot_feature('maxCost_receiver')"
   ]
  },
  {
   "cell_type": "markdown",
   "metadata": {},
   "source": [
    "# HOBBIES OVERLAP"
   ]
  },
  {
   "cell_type": "code",
   "execution_count": null,
   "metadata": {
    "collapsed": true
   },
   "outputs": [],
   "source": [
    "plt.title('Comparing Mesages With and Without Responses',fontsize=24) \n",
    "plot_feature('hobbies_overlap')"
   ]
  },
  {
   "cell_type": "markdown",
   "metadata": {},
   "source": [
    "# AGE DIFFERENCE"
   ]
  },
  {
   "cell_type": "code",
   "execution_count": null,
   "metadata": {
    "collapsed": true
   },
   "outputs": [],
   "source": [
    "plt.title('Comparing Mesages With and Without Responses',fontsize=24) \n",
    "plot_feature('age_dif', range(40))"
   ]
  },
  {
   "cell_type": "code",
   "execution_count": null,
   "metadata": {
    "collapsed": true
   },
   "outputs": [],
   "source": [
    "plt.title('Comparing Mesages With and Without Responses',fontsize=24) \n",
    "plot_feature('type_sender',range(0,3))\n",
    "plot_feature('type_receiver',range(0,3))"
   ]
  },
  {
   "cell_type": "code",
   "execution_count": null,
   "metadata": {
    "collapsed": true
   },
   "outputs": [],
   "source": [
    "plt.title('Comparing Mesages With and Without Responses',fontsize=24) \n",
    "\n",
    "plot_feature('age_receiver',range(0,100,1))"
   ]
  },
  {
   "cell_type": "code",
   "execution_count": null,
   "metadata": {
    "collapsed": true
   },
   "outputs": [],
   "source": [
    "plt.title('Comparing Mesages With and Without Responses',fontsize=24) \n",
    "plot_feature('isStudent_sender',range(0,3))\n",
    "plot_feature('isStudent_receiver',range(0,3))"
   ]
  },
  {
   "cell_type": "markdown",
   "metadata": {},
   "source": [
    "# MIN COST"
   ]
  },
  {
   "cell_type": "code",
   "execution_count": null,
   "metadata": {
    "collapsed": true
   },
   "outputs": [],
   "source": [
    "plt.title('Comparing Mesages With and Without Responses',fontsize=24) \n",
    "plot_feature('minCost_sender',range(0,2000,50))\n",
    "plot_feature('minCost_receiver',range(0,2000,50))"
   ]
  },
  {
   "cell_type": "markdown",
   "metadata": {},
   "source": [
    "# LEN OF FIRST MESSAGE"
   ]
  },
  {
   "cell_type": "code",
   "execution_count": null,
   "metadata": {
    "collapsed": true
   },
   "outputs": [],
   "source": [
    "plt.title('Comparing Mesages With and Without Responses',fontsize=24) \n",
    "plot_feature('first_len', range(0,500, 10))"
   ]
  },
  {
   "cell_type": "code",
   "execution_count": null,
   "metadata": {
    "collapsed": true
   },
   "outputs": [],
   "source": []
  },
  {
   "cell_type": "code",
   "execution_count": null,
   "metadata": {
    "collapsed": true
   },
   "outputs": [],
   "source": []
  },
  {
   "cell_type": "code",
   "execution_count": null,
   "metadata": {
    "collapsed": true
   },
   "outputs": [],
   "source": []
  },
  {
   "cell_type": "code",
   "execution_count": null,
   "metadata": {
    "collapsed": true
   },
   "outputs": [],
   "source": [
    "df = mp.unjson_it('data_master_full')\n",
    "df = mp.reinstate_date(df, ['activeAt_receiver', 'activeAt_sender',\n",
    "                            'available_receiver', 'available_sender',\n",
    "                            'birthday_receiver', 'birthday_sender',\n",
    "                            'updated_receiver','updated_sender', \n",
    "                            'urgency_receiver', 'urgency_sender'])\n",
    "print(\"Make sure we're not using ECT data\")\n",
    "print(df.timestamp.max())"
   ]
  },
  {
   "cell_type": "code",
   "execution_count": null,
   "metadata": {
    "collapsed": true
   },
   "outputs": [],
   "source": [
    "df = df[df.timestamp > pd.to_datetime('2017-02-01').date()]\n",
    "df.timestamp.min()"
   ]
  },
  {
   "cell_type": "code",
   "execution_count": null,
   "metadata": {
    "collapsed": true
   },
   "outputs": [],
   "source": [
    "df.timestamp.hist(figsize = (16,4))\n",
    "plt.show()"
   ]
  },
  {
   "cell_type": "code",
   "execution_count": null,
   "metadata": {
    "collapsed": true
   },
   "outputs": [],
   "source": [
    "df.timestamp = df.timestamp.apply(lambda x: x.date())"
   ]
  },
  {
   "cell_type": "code",
   "execution_count": null,
   "metadata": {
    "collapsed": true
   },
   "outputs": [],
   "source": [
    "df.timestamp.min()"
   ]
  },
  {
   "cell_type": "code",
   "execution_count": null,
   "metadata": {
    "collapsed": true
   },
   "outputs": [],
   "source": [
    "df['iso'] = df.timestamp.apply(lambda x: x.isocalendar())\n",
    "df['week'] = df['iso'].apply(lambda x: x[1])\n",
    "df['month'] = df['timestamp'].apply(lambda x: x.month)"
   ]
  },
  {
   "cell_type": "code",
   "execution_count": null,
   "metadata": {
    "collapsed": true
   },
   "outputs": [],
   "source": [
    "df.groupby('week')"
   ]
  },
  {
   "cell_type": "code",
   "execution_count": null,
   "metadata": {
    "collapsed": true
   },
   "outputs": [],
   "source": [
    "df['const']=1\n",
    "message_per_day = df.groupby('timestamp').count().const\n",
    "message_per_week = df.groupby('week').count().const\n",
    "\n",
    "plt.plot(message_per_week)"
   ]
  },
  {
   "cell_type": "code",
   "execution_count": null,
   "metadata": {
    "collapsed": true
   },
   "outputs": [],
   "source": [
    "plt.plot(df.groupby('week').mean().response)"
   ]
  },
  {
   "cell_type": "code",
   "execution_count": null,
   "metadata": {
    "collapsed": true
   },
   "outputs": [],
   "source": [
    "plt.plot(df.groupby('month').mean().response)"
   ]
  },
  {
   "cell_type": "code",
   "execution_count": null,
   "metadata": {
    "collapsed": true
   },
   "outputs": [],
   "source": [
    "df.groupby('month').mean().response"
   ]
  },
  {
   "cell_type": "code",
   "execution_count": null,
   "metadata": {
    "collapsed": true
   },
   "outputs": [],
   "source": [
    "master_df.columns"
   ]
  },
  {
   "cell_type": "markdown",
   "metadata": {},
   "source": [
    "# MALE VS FEMALE"
   ]
  },
  {
   "cell_type": "code",
   "execution_count": null,
   "metadata": {
    "collapsed": true
   },
   "outputs": [],
   "source": [
    "from_male_df = master_df[master_df.gender_sender == 1]\n",
    "from_female_df = master_df[master_df.gender_sender == 0]\n",
    "to_male_df = master_df[master_df.gender_receiver == 1]\n",
    "to_female_df = master_df[master_df.gender_receiver == 0]"
   ]
  },
  {
   "cell_type": "code",
   "execution_count": null,
   "metadata": {
    "collapsed": true
   },
   "outputs": [],
   "source": [
    "print(\"Response rate when men reach out: {:.3}\".format(from_male_df.response.mean()))\n",
    "print(\"Response rate when women reach out: {:.3}\".format(from_female_df.response.mean()))"
   ]
  },
  {
   "cell_type": "code",
   "execution_count": null,
   "metadata": {
    "collapsed": true
   },
   "outputs": [],
   "source": [
    "print(\"Response rate of men: {:.3}\".format(to_male_df.response.mean()))\n",
    "print(\"Response rate of women: {:.3}\".format(to_female_df.response.mean()))"
   ]
  },
  {
   "cell_type": "code",
   "execution_count": null,
   "metadata": {
    "collapsed": true
   },
   "outputs": [],
   "source": [
    "print(\"{:.3} of messages are sent by men\".format(master_df.gender_sender.sum()/len(master_df)))\n",
    "print(\"men make up {:.3} of users\".format(len(user_df[user_df.gender=='male'])/len(user_df)))"
   ]
  },
  {
   "cell_type": "code",
   "execution_count": null,
   "metadata": {
    "collapsed": true
   },
   "outputs": [],
   "source": []
  }
 ],
 "metadata": {
  "kernelspec": {
   "display_name": "Python 3",
   "language": "python",
   "name": "python3"
  },
  "language_info": {
   "codemirror_mode": {
    "name": "ipython",
    "version": 3
   },
   "file_extension": ".py",
   "mimetype": "text/x-python",
   "name": "python",
   "nbconvert_exporter": "python",
   "pygments_lexer": "ipython3",
   "version": "3.6.3"
  }
 },
 "nbformat": 4,
 "nbformat_minor": 2
}
