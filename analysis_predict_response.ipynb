{
 "cells": [
  {
   "cell_type": "code",
   "execution_count": null,
   "metadata": {
    "collapsed": true
   },
   "outputs": [],
   "source": [
    "import numpy as np\n",
    "import pandas as pd\n",
    "import matplotlib.pyplot as plt\n",
    "%matplotlib inline\n",
    "\n",
    "from sklearn.model_selection import train_test_split\n",
    "from sklearn.linear_model import LinearRegression\n",
    "from sklearn.linear_model import LogisticRegression\n",
    "from sklearn.preprocessing import StandardScaler\n",
    "from sklearn_pandas import DataFrameMapper"
   ]
  },
  {
   "cell_type": "markdown",
   "metadata": {},
   "source": [
    "# USER DATA"
   ]
  },
  {
   "cell_type": "code",
   "execution_count": null,
   "metadata": {},
   "outputs": [],
   "source": [
    "path_users = \"/Users/gandalf/Documents/data/data_users.pkl\"\n",
    "user_df = pd.read_pickle(path_users)\n",
    "\n",
    "# REMOVE NEW WORLD\n",
    "not_NA_user_df = user_df[(user_df.longitude > -25) | (user_df.latitude < 0)]\n",
    "not_NA_user_df = not_NA_user_df[user_df.longitude != 0]\n",
    "\n",
    "not_NA_user_df.head(2)"
   ]
  },
  {
   "cell_type": "code",
   "execution_count": null,
   "metadata": {},
   "outputs": [],
   "source": [
    "outside_NA_uid = not_NA_user_df.index\n",
    "print(len(outside_NA_uid))"
   ]
  },
  {
   "cell_type": "code",
   "execution_count": null,
   "metadata": {},
   "outputs": [],
   "source": [
    "path_message = \"/Users/gandalf/Documents/data/data_message.pkl\"\n",
    "message_df = pd.read_pickle(path_message)\n",
    "message_df.head(2)"
   ]
  },
  {
   "cell_type": "code",
   "execution_count": null,
   "metadata": {},
   "outputs": [],
   "source": [
    "print(\"All messages: {}\".format(len(message_df)))\n",
    "outside_NA_messages = message_df[message_df.uid.isin(outside_NA_uid)]\n",
    "print(\"Outside NA messages: {}\".format(len(outside_NA_messages)))"
   ]
  },
  {
   "cell_type": "code",
   "execution_count": null,
   "metadata": {},
   "outputs": [],
   "source": [
    "outside_NA.head()"
   ]
  },
  {
   "cell_type": "code",
   "execution_count": null,
   "metadata": {},
   "outputs": [],
   "source": [
    "path_lastmessage = \"/Users/gandalf/Documents/data/data_lastmessage.pkl\"\n",
    "lastmessage_df = pd.read_pickle(path_lastmessage)\n",
    "lastmessage_df.head(2)"
   ]
  },
  {
   "cell_type": "code",
   "execution_count": null,
   "metadata": {},
   "outputs": [],
   "source": [
    "path_response = \"/Users/gandalf/Documents/data/data_response.pkl\"\n",
    "response_df = pd.read_pickle(path_response)\n",
    "response_df.head(5)"
   ]
  },
  {
   "cell_type": "code",
   "execution_count": null,
   "metadata": {},
   "outputs": [],
   "source": [
    "print(\"All conversations: {}\".format(len(response_df)))\n",
    "outside_NA_conv = response_df[response_df.first_uid.isin(outside_NA_uid)]\n",
    "print(\"Outside NA conversations: {}\".format(len(outside_NA_conv)))\n",
    "outside_NA_conv.head()"
   ]
  },
  {
   "cell_type": "code",
   "execution_count": null,
   "metadata": {},
   "outputs": [],
   "source": [
    "outside_NA_conv.response.sum()/337"
   ]
  },
  {
   "cell_type": "code",
   "execution_count": null,
   "metadata": {},
   "outputs": [],
   "source": [
    "outside_NA_conv['first_ten'] = outside_NA_conv.conv_id.apply(lambda x: x[:10])\n",
    "outside_NA_conv['last_ten'] = outside_NA_conv.conv_id.apply(lambda x: x[10:])"
   ]
  },
  {
   "cell_type": "code",
   "execution_count": null,
   "metadata": {},
   "outputs": [],
   "source": [
    "outside_NA_conv.head()"
   ]
  },
  {
   "cell_type": "code",
   "execution_count": null,
   "metadata": {},
   "outputs": [],
   "source": [
    "# get recipients\n",
    "for index, row in outside_NA_conv.iterrows():\n",
    "    if row.second_uid == None:\n",
    "        if row.first_ten == row.first_uid: row.second_uid = row.last_ten\n",
    "        elif row.last_ten == row.first_uid: row.second_uid = row.first_ten\n",
    "        else: print('uh')"
   ]
  },
  {
   "cell_type": "code",
   "execution_count": null,
   "metadata": {},
   "outputs": [],
   "source": [
    "outside_NA_conv[outside_NA_conv.response].head()"
   ]
  },
  {
   "cell_type": "code",
   "execution_count": null,
   "metadata": {},
   "outputs": [],
   "source": [
    "simple_cols = ['first_uid','second_uid','response']\n",
    "simple_df = outside_NA_conv[simple_cols]\n",
    "# tf = {True:1, False:0, 1:1, 0:0}\n",
    "# simple_df.response = simple_df.response.map(tf)\n",
    "simple_df.head()"
   ]
  },
  {
   "cell_type": "code",
   "execution_count": null,
   "metadata": {},
   "outputs": [],
   "source": [
    "print(simple_df.response.sum())\n",
    "print(len(simple_df.response))"
   ]
  },
  {
   "cell_type": "code",
   "execution_count": null,
   "metadata": {},
   "outputs": [],
   "source": [
    "len(user_df)"
   ]
  },
  {
   "cell_type": "code",
   "execution_count": null,
   "metadata": {},
   "outputs": [],
   "source": [
    "user_df.loc['0cP281Y8eL'].isClean"
   ]
  },
  {
   "cell_type": "code",
   "execution_count": null,
   "metadata": {},
   "outputs": [],
   "source": [
    "simple_df.head(1)"
   ]
  },
  {
   "cell_type": "code",
   "execution_count": null,
   "metadata": {},
   "outputs": [],
   "source": [
    "ad,sg,sr,sc,sn,ss = [],[],[],[],[],[]\n",
    "\n",
    "for index, row in simple_df.iterrows():\n",
    "    first = user_df.loc[str(row.first_uid)]\n",
    "    second = user_df.loc[str(row.second_uid)]\n",
    "    ad.append(abs(first.age - second.age))\n",
    "    sg.append(first.gender == second.gender)\n",
    "    sr.append(first.inRelationship == second.inRelationship)\n",
    "    sc.append(first.isClean == second.isClean)\n",
    "    sn.append(first.isNight == second.isNight)\n",
    "    ss.append(first.isStudent == second.isStudent)\n",
    "\n",
    "simple_df['age_dif'] = ad\n",
    "simple_df['same_gender'] = sg\n",
    "simple_df['same_relate'] = sr\n",
    "simple_df['same_clean'] = sc\n",
    "simple_df['same_night'] = sn\n",
    "simple_df['same_student'] = ss\n",
    "\n",
    "# filled na at some point, should undo\n",
    "\n",
    "simple_df.head(2)"
   ]
  },
  {
   "cell_type": "code",
   "execution_count": null,
   "metadata": {},
   "outputs": [],
   "source": [
    "X = simple_df\n",
    "y = X.response.map({True:1,False:0})\n",
    "X = X.drop(['first_uid','second_uid','response'], axis=1)\n",
    "X.head()\n",
    "y.sum()"
   ]
  },
  {
   "cell_type": "code",
   "execution_count": null,
   "metadata": {},
   "outputs": [],
   "source": [
    "X_train, X_test, y_train, y_test = train_test_split(X, y, random_state=17)\n",
    "\n",
    "mapper = DataFrameMapper([(X_train.columns, StandardScaler())])\n",
    "scale = mapper.fit(X_train)\n",
    "X_train = pd.DataFrame(mapper.transform(X_train), index=X_train.index, columns=X_train.columns)\n",
    "X_test = pd.DataFrame(mapper.transform(X_test), index=X_test.index, columns=X_test.columns)"
   ]
  },
  {
   "cell_type": "code",
   "execution_count": null,
   "metadata": {},
   "outputs": [],
   "source": [
    "model = LogisticRegression()\n",
    "model.fit(X_train, y_train)\n",
    "\n",
    "print(\"Score of model: {}\".format(model.score(X_test, y_test)))\n",
    "\n",
    "print(\"Score to beat: {}\".format(1-y_test.sum()/len(y_test)))"
   ]
  },
  {
   "cell_type": "code",
   "execution_count": null,
   "metadata": {
    "collapsed": true
   },
   "outputs": [],
   "source": [
    "model = LogisticRegression()\n",
    "model.fit(X_train, y_train)\n",
    "\n",
    "print(\"Score of model: {}\".format(model.score(X_test, y_test)))\n",
    "\n",
    "print(\"Score to beat: {}\".format(1-y_test.sum()/len(y_test)))"
   ]
  }
 ],
 "metadata": {
  "kernelspec": {
   "display_name": "Python 3",
   "language": "python",
   "name": "python3"
  },
  "language_info": {
   "codemirror_mode": {
    "name": "ipython",
    "version": 3
   },
   "file_extension": ".py",
   "mimetype": "text/x-python",
   "name": "python",
   "nbconvert_exporter": "python",
   "pygments_lexer": "ipython3",
   "version": "3.6.3"
  }
 },
 "nbformat": 4,
 "nbformat_minor": 2
}
