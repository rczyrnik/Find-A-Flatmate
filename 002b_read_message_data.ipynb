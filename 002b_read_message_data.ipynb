{
 "cells": [
  {
   "cell_type": "code",
   "execution_count": 1,
   "metadata": {
    "collapsed": true
   },
   "outputs": [],
   "source": [
    "import pandas as pd\n",
    "import json"
   ]
  },
  {
   "cell_type": "code",
   "execution_count": 2,
   "metadata": {
    "collapsed": true
   },
   "outputs": [],
   "source": [
    "# filepath\n",
    "data_file_path = \"/Users/gandalf/Documents/coding/do_not_commit/capstone/\""
   ]
  },
  {
   "cell_type": "code",
   "execution_count": 3,
   "metadata": {},
   "outputs": [
    {
     "name": "stdout",
     "output_type": "stream",
     "text": [
      "... read in dataframe\n"
     ]
    }
   ],
   "source": [
    "# read in dataframe\n",
    "message_filename = data_file_path + \"raw_data_messages.json\"\n",
    "DF = pd.read_json(message_filename)\n",
    "print(\"... read in dataframe\")"
   ]
  },
  {
   "cell_type": "code",
   "execution_count": 4,
   "metadata": {},
   "outputs": [
    {
     "data": {
      "text/html": [
       "<div>\n",
       "<style>\n",
       "    .dataframe thead tr:only-child th {\n",
       "        text-align: right;\n",
       "    }\n",
       "\n",
       "    .dataframe thead th {\n",
       "        text-align: left;\n",
       "    }\n",
       "\n",
       "    .dataframe tbody tr th {\n",
       "        vertical-align: top;\n",
       "    }\n",
       "</style>\n",
       "<table border=\"1\" class=\"dataframe\">\n",
       "  <thead>\n",
       "    <tr style=\"text-align: right;\">\n",
       "      <th></th>\n",
       "      <th>conversations</th>\n",
       "      <th>users</th>\n",
       "    </tr>\n",
       "  </thead>\n",
       "  <tbody>\n",
       "    <tr>\n",
       "      <th>-KdmSL0izd_44wrniy-W</th>\n",
       "      <td>{'-KdmSRA-1a7niRVp5s83': {'read': True, 'text'...</td>\n",
       "      <td>NaN</td>\n",
       "    </tr>\n",
       "    <tr>\n",
       "      <th>-KdmixiTP5parpBtLtBJ</th>\n",
       "      <td>{'-Kdmj-d4TwKFUMQkPKeF': {'read': False, 'text...</td>\n",
       "      <td>NaN</td>\n",
       "    </tr>\n",
       "    <tr>\n",
       "      <th>-Ke18G-UGnLrasv4_xXT</th>\n",
       "      <td>{'-Ke18IPzq_R4mOHswlVh': {'read': True, 'readB...</td>\n",
       "      <td>NaN</td>\n",
       "    </tr>\n",
       "    <tr>\n",
       "      <th>-Ke28RHZLNV4m69_08sZ</th>\n",
       "      <td>{'-Ke28SI_EyKkov9BteUL': {'read': False, 'text...</td>\n",
       "      <td>NaN</td>\n",
       "    </tr>\n",
       "    <tr>\n",
       "      <th>-Ke4mWs5IgcfwfRwdRFA</th>\n",
       "      <td>{'-Ke4mjlJmO0XJUwci1dy': {'read': True, 'times...</td>\n",
       "      <td>NaN</td>\n",
       "    </tr>\n",
       "  </tbody>\n",
       "</table>\n",
       "</div>"
      ],
      "text/plain": [
       "                                                          conversations users\n",
       "-KdmSL0izd_44wrniy-W  {'-KdmSRA-1a7niRVp5s83': {'read': True, 'text'...   NaN\n",
       "-KdmixiTP5parpBtLtBJ  {'-Kdmj-d4TwKFUMQkPKeF': {'read': False, 'text...   NaN\n",
       "-Ke18G-UGnLrasv4_xXT  {'-Ke18IPzq_R4mOHswlVh': {'read': True, 'readB...   NaN\n",
       "-Ke28RHZLNV4m69_08sZ  {'-Ke28SI_EyKkov9BteUL': {'read': False, 'text...   NaN\n",
       "-Ke4mWs5IgcfwfRwdRFA  {'-Ke4mjlJmO0XJUwci1dy': {'read': True, 'times...   NaN"
      ]
     },
     "execution_count": 4,
     "metadata": {},
     "output_type": "execute_result"
    }
   ],
   "source": [
    "DF.head()"
   ]
  },
  {
   "cell_type": "code",
   "execution_count": 5,
   "metadata": {},
   "outputs": [
    {
     "data": {
      "text/plain": [
       "30639"
      ]
     },
     "execution_count": 5,
     "metadata": {},
     "output_type": "execute_result"
    }
   ],
   "source": [
    "len(DF)"
   ]
  },
  {
   "cell_type": "code",
   "execution_count": 5,
   "metadata": {},
   "outputs": [
    {
     "name": "stdout",
     "output_type": "stream",
     "text": [
      "... created a copy and cropped odd convos from start\n"
     ]
    }
   ],
   "source": [
    "# create a copy\n",
    "df = DF.copy()\n",
    "df = df[24:]\n",
    "print(\"... created a copy and cropped odd convos from start\")"
   ]
  },
  {
   "cell_type": "code",
   "execution_count": 6,
   "metadata": {},
   "outputs": [
    {
     "name": "stdout",
     "output_type": "stream",
     "text": [
      "... got just conversations\n"
     ]
    }
   ],
   "source": [
    "# split into conversation and last message dataframes\n",
    "df['conv_flag'] = df.conversations.apply(lambda x: 1 if isinstance(x, dict) else 0)\n",
    "df = df[df.conv_flag==1].drop(['users','conv_flag'],axis=1)\n",
    "# users_df = df[df.conv_flag==0].drop(['conversations','conv_flag'],axis=1)\n",
    "print(\"... got just conversations\")"
   ]
  },
  {
   "cell_type": "code",
   "execution_count": 7,
   "metadata": {},
   "outputs": [
    {
     "name": "stdout",
     "output_type": "stream",
     "text": [
      "... got conversation lengths\n"
     ]
    }
   ],
   "source": [
    "# get conversation length\n",
    "df['len_convo'] = df.conversations.apply(len)\n",
    "print(\"... got conversation lengths\")"
   ]
  },
  {
   "cell_type": "code",
   "execution_count": 8,
   "metadata": {},
   "outputs": [
    {
     "name": "stdout",
     "output_type": "stream",
     "text": [
      "... got details from the first message\n"
     ]
    }
   ],
   "source": [
    "# to get all possible column headings (#oneliners)\n",
    "master_set = set()\n",
    "for s in df.conversations.apply(lambda x: set(list(x.values())[0].keys())).tolist(): master_set = master_set.union(s) \n",
    "\n",
    "def get_deets_fn(x,label):\n",
    "    try: return list(x.values())[0][label]\n",
    "    except: return None\n",
    "    \n",
    "column_headings = list(master_set)\n",
    "\n",
    "for heading in column_headings:\n",
    "    df['first_message_' + heading] = df.conversations.apply(lambda x: get_deets_fn(x,heading))\n",
    "print(\"... got details from the first message\")"
   ]
  },
  {
   "cell_type": "code",
   "execution_count": 9,
   "metadata": {},
   "outputs": [
    {
     "data": {
      "text/plain": [
       "['uid', 'emailed', 'text', 'read', 'emailAttempted', 'timestamp', 'imageURL']"
      ]
     },
     "execution_count": 9,
     "metadata": {},
     "output_type": "execute_result"
    }
   ],
   "source": [
    "column_headings"
   ]
  },
  {
   "cell_type": "code",
   "execution_count": 10,
   "metadata": {},
   "outputs": [
    {
     "name": "stdout",
     "output_type": "stream",
     "text": [
      "... added second message uid\n"
     ]
    }
   ],
   "source": [
    "# this is really gross, but has a kinda nifty end if you're willing to invest the time\n",
    "\n",
    "df['indexies'] = df.index\n",
    "df['first_ten'] = df.indexies.apply(lambda x: x[:10])\n",
    "df['second_ten'] = df.indexies.apply(lambda x: x[10:])\n",
    "df['is_first'] = df.first_message_uid == df['first_ten']\n",
    "df['is_second'] = df.first_message_uid == df['second_ten']\n",
    "df['second_message_uid'] = df.is_second*df.first_ten + df.is_first*df.second_ten\n",
    "\n",
    "print(\"... added second message uid\")"
   ]
  },
  {
   "cell_type": "code",
   "execution_count": 11,
   "metadata": {},
   "outputs": [
    {
     "name": "stdout",
     "output_type": "stream",
     "text": [
      "... got the length of the first message\n"
     ]
    }
   ],
   "source": [
    "# fill blank conversation with empty strings\n",
    "df.first_message_text = df.first_message_text.fillna('')\n",
    "\n",
    "# get len of message text\n",
    "df['first_message_len_char'] = df.first_message_text.apply(len)\n",
    "df['first_message_len_word'] = df.first_message_text.apply(lambda x: len(x.split()))\n",
    "print(\"... got the length of the first message\")"
   ]
  },
  {
   "cell_type": "code",
   "execution_count": 12,
   "metadata": {},
   "outputs": [
    {
     "name": "stdout",
     "output_type": "stream",
     "text": [
      "... converted timestamp to datetime\n"
     ]
    }
   ],
   "source": [
    "# other cleanup\n",
    "df.first_message_timestamp = \\\n",
    "    df.first_message_timestamp.apply(lambda x: \n",
    "                                           pd.to_datetime(x*1000000) \n",
    "                                           if isinstance(x, int) \n",
    "                                           else x)\n",
    "print(\"... converted timestamp to datetime\")"
   ]
  },
  {
   "cell_type": "code",
   "execution_count": 13,
   "metadata": {},
   "outputs": [
    {
     "name": "stdout",
     "output_type": "stream",
     "text": [
      "... broke down time\n"
     ]
    }
   ],
   "source": [
    "df['first_message_date'] = df.first_message_timestamp.apply(lambda x: x.date())\n",
    "\n",
    "df['first_message_year'] = df.first_message_timestamp.apply(lambda x: x.year)\n",
    "df['first_message_day_of_year'] = df.first_message_timestamp.apply(lambda x: int(x.strftime('%j')))\n",
    "\n",
    "df['first_message_month'] = df.first_message_timestamp.apply(lambda x: x.month)\n",
    "df['first_message_day_of_month'] = df.first_message_timestamp.apply(lambda x: x.day)\n",
    "\n",
    "df['first_message_week'] = df.first_message_timestamp.apply(lambda x: x.isocalendar()[1])\n",
    "df['first_message_day_of_week'] = df.first_message_timestamp.apply(lambda x: x.isoweekday())\n",
    "\n",
    "df['first_message_day'] = df.first_message_timestamp.apply(lambda x: x.toordinal())\n",
    "df['first_message_hour'] = df.first_message_timestamp.apply(lambda x: x.hour)\n",
    "\n",
    "print(\"... broke down time\")"
   ]
  },
  {
   "cell_type": "code",
   "execution_count": 14,
   "metadata": {
    "collapsed": true
   },
   "outputs": [],
   "source": [
    "# start droppin\n",
    "col_to_drop = ['conversations','indexies','first_ten','second_ten','is_first','is_second', 'first_message_emailed',\n",
    "       'first_message_imageURL', 'first_message_emailAttempted',]\n",
    "# df = df.drop(col_to_drop,axis=1)\n",
    "# print(\"... dropped a bunch of lame columns\")"
   ]
  },
  {
   "cell_type": "code",
   "execution_count": 15,
   "metadata": {},
   "outputs": [
    {
     "data": {
      "text/html": [
       "<div>\n",
       "<style>\n",
       "    .dataframe thead tr:only-child th {\n",
       "        text-align: right;\n",
       "    }\n",
       "\n",
       "    .dataframe thead th {\n",
       "        text-align: left;\n",
       "    }\n",
       "\n",
       "    .dataframe tbody tr th {\n",
       "        vertical-align: top;\n",
       "    }\n",
       "</style>\n",
       "<table border=\"1\" class=\"dataframe\">\n",
       "  <thead>\n",
       "    <tr style=\"text-align: right;\">\n",
       "      <th></th>\n",
       "      <th>conversations</th>\n",
       "      <th>len_convo</th>\n",
       "      <th>first_message_uid</th>\n",
       "      <th>first_message_emailed</th>\n",
       "      <th>first_message_text</th>\n",
       "      <th>first_message_read</th>\n",
       "      <th>first_message_emailAttempted</th>\n",
       "      <th>first_message_timestamp</th>\n",
       "      <th>first_message_imageURL</th>\n",
       "      <th>indexies</th>\n",
       "      <th>...</th>\n",
       "      <th>first_message_len_word</th>\n",
       "      <th>first_message_date</th>\n",
       "      <th>first_message_year</th>\n",
       "      <th>first_message_day_of_year</th>\n",
       "      <th>first_message_month</th>\n",
       "      <th>first_message_day_of_month</th>\n",
       "      <th>first_message_week</th>\n",
       "      <th>first_message_day_of_week</th>\n",
       "      <th>first_message_day</th>\n",
       "      <th>first_message_hour</th>\n",
       "    </tr>\n",
       "  </thead>\n",
       "  <tbody>\n",
       "    <tr>\n",
       "      <th>021QQEg1bF013LzOrVju</th>\n",
       "      <td>{'-KykPRRd6nQPEATeQwnP': {'read': False, 'text...</td>\n",
       "      <td>1</td>\n",
       "      <td>021QQEg1bF</td>\n",
       "      <td>True</td>\n",
       "      <td>Is this Available</td>\n",
       "      <td>False</td>\n",
       "      <td>True</td>\n",
       "      <td>2017-11-12 13:27:23.250</td>\n",
       "      <td>None</td>\n",
       "      <td>021QQEg1bF013LzOrVju</td>\n",
       "      <td>...</td>\n",
       "      <td>3</td>\n",
       "      <td>2017-11-12</td>\n",
       "      <td>2017</td>\n",
       "      <td>316</td>\n",
       "      <td>11</td>\n",
       "      <td>12</td>\n",
       "      <td>45</td>\n",
       "      <td>7</td>\n",
       "      <td>736645</td>\n",
       "      <td>13</td>\n",
       "    </tr>\n",
       "  </tbody>\n",
       "</table>\n",
       "<p>1 rows × 26 columns</p>\n",
       "</div>"
      ],
      "text/plain": [
       "                                                          conversations  \\\n",
       "021QQEg1bF013LzOrVju  {'-KykPRRd6nQPEATeQwnP': {'read': False, 'text...   \n",
       "\n",
       "                      len_convo first_message_uid first_message_emailed  \\\n",
       "021QQEg1bF013LzOrVju          1        021QQEg1bF                  True   \n",
       "\n",
       "                     first_message_text  first_message_read  \\\n",
       "021QQEg1bF013LzOrVju  Is this Available               False   \n",
       "\n",
       "                     first_message_emailAttempted first_message_timestamp  \\\n",
       "021QQEg1bF013LzOrVju                         True 2017-11-12 13:27:23.250   \n",
       "\n",
       "                     first_message_imageURL              indexies  \\\n",
       "021QQEg1bF013LzOrVju                   None  021QQEg1bF013LzOrVju   \n",
       "\n",
       "                             ...         first_message_len_word  \\\n",
       "021QQEg1bF013LzOrVju         ...                              3   \n",
       "\n",
       "                     first_message_date  first_message_year  \\\n",
       "021QQEg1bF013LzOrVju         2017-11-12                2017   \n",
       "\n",
       "                      first_message_day_of_year first_message_month  \\\n",
       "021QQEg1bF013LzOrVju                        316                  11   \n",
       "\n",
       "                      first_message_day_of_month  first_message_week  \\\n",
       "021QQEg1bF013LzOrVju                          12                  45   \n",
       "\n",
       "                     first_message_day_of_week  first_message_day  \\\n",
       "021QQEg1bF013LzOrVju                         7             736645   \n",
       "\n",
       "                      first_message_hour  \n",
       "021QQEg1bF013LzOrVju                  13  \n",
       "\n",
       "[1 rows x 26 columns]"
      ]
     },
     "execution_count": 15,
     "metadata": {},
     "output_type": "execute_result"
    }
   ],
   "source": [
    "df.head(1)"
   ]
  },
  {
   "cell_type": "code",
   "execution_count": 16,
   "metadata": {},
   "outputs": [
    {
     "data": {
      "text/plain": [
       "Index(['conversations', 'len_convo', 'first_message_uid',\n",
       "       'first_message_emailed', 'first_message_text', 'first_message_read',\n",
       "       'first_message_emailAttempted', 'first_message_timestamp',\n",
       "       'first_message_imageURL', 'indexies', 'first_ten', 'second_ten',\n",
       "       'is_first', 'is_second', 'second_message_uid', 'first_message_len_char',\n",
       "       'first_message_len_word', 'first_message_date', 'first_message_year',\n",
       "       'first_message_day_of_year', 'first_message_month',\n",
       "       'first_message_day_of_month', 'first_message_week',\n",
       "       'first_message_day_of_week', 'first_message_day', 'first_message_hour'],\n",
       "      dtype='object')"
      ]
     },
     "execution_count": 16,
     "metadata": {},
     "output_type": "execute_result"
    }
   ],
   "source": [
    "df.columns"
   ]
  },
  {
   "cell_type": "code",
   "execution_count": 24,
   "metadata": {},
   "outputs": [
    {
     "name": "stdout",
     "output_type": "stream",
     "text": [
      "... rearranged remaining columns\n"
     ]
    }
   ],
   "source": [
    "# rearrange columns\n",
    "df = df[['first_message_uid', 'second_message_uid',\n",
    "                     'len_convo', 'first_message_read',\n",
    "                     'first_message_timestamp', \n",
    "                     'first_message_text', 'first_message_len_char', 'first_message_len_word', 'first_message_date',\n",
    "                     'first_message_year', 'first_message_day_of_year',\n",
    "                       'first_message_month', 'first_message_day_of_month',\n",
    "                       'first_message_week', 'first_message_day_of_week', 'first_message_day',\n",
    "                       'first_message_hour']]\n",
    "print(\"... rearranged remaining columns\")"
   ]
  },
  {
   "cell_type": "code",
   "execution_count": 25,
   "metadata": {},
   "outputs": [
    {
     "data": {
      "text/html": [
       "<div>\n",
       "<style>\n",
       "    .dataframe thead tr:only-child th {\n",
       "        text-align: right;\n",
       "    }\n",
       "\n",
       "    .dataframe thead th {\n",
       "        text-align: left;\n",
       "    }\n",
       "\n",
       "    .dataframe tbody tr th {\n",
       "        vertical-align: top;\n",
       "    }\n",
       "</style>\n",
       "<table border=\"1\" class=\"dataframe\">\n",
       "  <thead>\n",
       "    <tr style=\"text-align: right;\">\n",
       "      <th></th>\n",
       "      <th>first_message_uid</th>\n",
       "      <th>second_message_uid</th>\n",
       "      <th>len_convo</th>\n",
       "      <th>first_message_read</th>\n",
       "      <th>first_message_timestamp</th>\n",
       "      <th>first_message_text</th>\n",
       "      <th>first_message_len_char</th>\n",
       "      <th>first_message_len_word</th>\n",
       "      <th>first_message_date</th>\n",
       "      <th>first_message_year</th>\n",
       "      <th>first_message_day_of_year</th>\n",
       "      <th>first_message_month</th>\n",
       "      <th>first_message_day_of_month</th>\n",
       "      <th>first_message_week</th>\n",
       "      <th>first_message_day_of_week</th>\n",
       "      <th>first_message_day</th>\n",
       "      <th>first_message_hour</th>\n",
       "    </tr>\n",
       "  </thead>\n",
       "  <tbody>\n",
       "    <tr>\n",
       "      <th>02sjTzcsaO02omVxM8Xm</th>\n",
       "      <td>02omVxM8Xm</td>\n",
       "      <td>02sjTzcsaO</td>\n",
       "      <td>1</td>\n",
       "      <td>False</td>\n",
       "      <td>2017-09-11 02:41:19.188</td>\n",
       "      <td>Wya?</td>\n",
       "      <td>4</td>\n",
       "      <td>1</td>\n",
       "      <td>2017-09-11</td>\n",
       "      <td>2017</td>\n",
       "      <td>254</td>\n",
       "      <td>9</td>\n",
       "      <td>11</td>\n",
       "      <td>37</td>\n",
       "      <td>1</td>\n",
       "      <td>736583</td>\n",
       "      <td>2</td>\n",
       "    </tr>\n",
       "    <tr>\n",
       "      <th>07lVtClAEQ01iDVeaXl1</th>\n",
       "      <td>01iDVeaXl1</td>\n",
       "      <td>07lVtClAEQ</td>\n",
       "      <td>1</td>\n",
       "      <td>False</td>\n",
       "      <td>2017-09-06 20:03:30.419</td>\n",
       "      <td>Hey I'm looking for some roommates too have yo...</td>\n",
       "      <td>62</td>\n",
       "      <td>11</td>\n",
       "      <td>2017-09-06</td>\n",
       "      <td>2017</td>\n",
       "      <td>249</td>\n",
       "      <td>9</td>\n",
       "      <td>6</td>\n",
       "      <td>36</td>\n",
       "      <td>3</td>\n",
       "      <td>736578</td>\n",
       "      <td>20</td>\n",
       "    </tr>\n",
       "  </tbody>\n",
       "</table>\n",
       "</div>"
      ],
      "text/plain": [
       "                     first_message_uid second_message_uid  len_convo  \\\n",
       "02sjTzcsaO02omVxM8Xm        02omVxM8Xm         02sjTzcsaO          1   \n",
       "07lVtClAEQ01iDVeaXl1        01iDVeaXl1         07lVtClAEQ          1   \n",
       "\n",
       "                      first_message_read first_message_timestamp  \\\n",
       "02sjTzcsaO02omVxM8Xm               False 2017-09-11 02:41:19.188   \n",
       "07lVtClAEQ01iDVeaXl1               False 2017-09-06 20:03:30.419   \n",
       "\n",
       "                                                     first_message_text  \\\n",
       "02sjTzcsaO02omVxM8Xm                                               Wya?   \n",
       "07lVtClAEQ01iDVeaXl1  Hey I'm looking for some roommates too have yo...   \n",
       "\n",
       "                      first_message_len_char  first_message_len_word  \\\n",
       "02sjTzcsaO02omVxM8Xm                       4                       1   \n",
       "07lVtClAEQ01iDVeaXl1                      62                      11   \n",
       "\n",
       "                     first_message_date  first_message_year  \\\n",
       "02sjTzcsaO02omVxM8Xm         2017-09-11                2017   \n",
       "07lVtClAEQ01iDVeaXl1         2017-09-06                2017   \n",
       "\n",
       "                      first_message_day_of_year  first_message_month  \\\n",
       "02sjTzcsaO02omVxM8Xm                        254                    9   \n",
       "07lVtClAEQ01iDVeaXl1                        249                    9   \n",
       "\n",
       "                      first_message_day_of_month  first_message_week  \\\n",
       "02sjTzcsaO02omVxM8Xm                          11                  37   \n",
       "07lVtClAEQ01iDVeaXl1                           6                  36   \n",
       "\n",
       "                      first_message_day_of_week  first_message_day  \\\n",
       "02sjTzcsaO02omVxM8Xm                          1             736583   \n",
       "07lVtClAEQ01iDVeaXl1                          3             736578   \n",
       "\n",
       "                      first_message_hour  \n",
       "02sjTzcsaO02omVxM8Xm                   2  \n",
       "07lVtClAEQ01iDVeaXl1                  20  "
      ]
     },
     "execution_count": 25,
     "metadata": {},
     "output_type": "execute_result"
    }
   ],
   "source": [
    "df.head(2)"
   ]
  },
  {
   "cell_type": "markdown",
   "metadata": {},
   "source": [
    "# LIMIT ANALYSIS TO MESSAGES BETWEEN MAR 1, 2017 and SEPT 30, 2017\n"
   ]
  },
  {
   "cell_type": "code",
   "execution_count": 26,
   "metadata": {},
   "outputs": [
    {
     "name": "stdout",
     "output_type": "stream",
     "text": [
      "2017-03-01 00:30:30.688000\n",
      "2017-09-30 23:59:45.970000\n",
      "... cropped date to Jan through Sept 2017\n"
     ]
    }
   ],
   "source": [
    "df = df[df.first_message_month < 10]\n",
    "df = df[df.first_message_month > 2]\n",
    "print(min(df.first_message_timestamp))\n",
    "print(max(df.first_message_timestamp))\n",
    "print(\"... cropped date to Jan through Sept 2017\")"
   ]
  },
  {
   "cell_type": "markdown",
   "metadata": {},
   "source": [
    "# Add Constant for the lols"
   ]
  },
  {
   "cell_type": "code",
   "execution_count": 27,
   "metadata": {},
   "outputs": [
    {
     "name": "stdout",
     "output_type": "stream",
     "text": [
      "... added constant\n"
     ]
    }
   ],
   "source": [
    "df['const2'] = 1\n",
    "print(\"... added constant\")"
   ]
  },
  {
   "cell_type": "markdown",
   "metadata": {},
   "source": [
    "# ADD RESPONSE COLUMN"
   ]
  },
  {
   "cell_type": "code",
   "execution_count": 28,
   "metadata": {
    "collapsed": true
   },
   "outputs": [],
   "source": [
    "df['response'] = df.len_convo.apply(lambda x: 1 if x > 1 else 0)"
   ]
  },
  {
   "cell_type": "markdown",
   "metadata": {},
   "source": [
    "# SAVE AS JSON"
   ]
  },
  {
   "cell_type": "code",
   "execution_count": 29,
   "metadata": {},
   "outputs": [
    {
     "name": "stdout",
     "output_type": "stream",
     "text": [
      "... saved as json\n"
     ]
    }
   ],
   "source": [
    "df.to_json(data_file_path+'convo_df.json')\n",
    "print(\"... saved as json\")"
   ]
  },
  {
   "cell_type": "markdown",
   "metadata": {
    "collapsed": true
   },
   "source": [
    "# SAVE AS PICKLE"
   ]
  },
  {
   "cell_type": "code",
   "execution_count": 30,
   "metadata": {},
   "outputs": [
    {
     "name": "stdout",
     "output_type": "stream",
     "text": [
      "... saved as pickle\n"
     ]
    }
   ],
   "source": [
    "df.to_pickle(data_file_path + 'convo_df.pkl')\n",
    "print(\"... saved as pickle\")"
   ]
  },
  {
   "cell_type": "code",
   "execution_count": 31,
   "metadata": {},
   "outputs": [
    {
     "data": {
      "text/html": [
       "<div>\n",
       "<style>\n",
       "    .dataframe thead tr:only-child th {\n",
       "        text-align: right;\n",
       "    }\n",
       "\n",
       "    .dataframe thead th {\n",
       "        text-align: left;\n",
       "    }\n",
       "\n",
       "    .dataframe tbody tr th {\n",
       "        vertical-align: top;\n",
       "    }\n",
       "</style>\n",
       "<table border=\"1\" class=\"dataframe\">\n",
       "  <thead>\n",
       "    <tr style=\"text-align: right;\">\n",
       "      <th></th>\n",
       "      <th>first_message_uid</th>\n",
       "      <th>second_message_uid</th>\n",
       "      <th>len_convo</th>\n",
       "      <th>first_message_read</th>\n",
       "      <th>first_message_timestamp</th>\n",
       "      <th>first_message_text</th>\n",
       "      <th>first_message_len_char</th>\n",
       "      <th>first_message_len_word</th>\n",
       "      <th>first_message_date</th>\n",
       "      <th>first_message_year</th>\n",
       "      <th>first_message_day_of_year</th>\n",
       "      <th>first_message_month</th>\n",
       "      <th>first_message_day_of_month</th>\n",
       "      <th>first_message_week</th>\n",
       "      <th>first_message_day_of_week</th>\n",
       "      <th>first_message_day</th>\n",
       "      <th>first_message_hour</th>\n",
       "      <th>const2</th>\n",
       "      <th>response</th>\n",
       "    </tr>\n",
       "  </thead>\n",
       "  <tbody>\n",
       "    <tr>\n",
       "      <th>02sjTzcsaO02omVxM8Xm</th>\n",
       "      <td>02omVxM8Xm</td>\n",
       "      <td>02sjTzcsaO</td>\n",
       "      <td>1</td>\n",
       "      <td>False</td>\n",
       "      <td>2017-09-11 02:41:19.188</td>\n",
       "      <td>Wya?</td>\n",
       "      <td>4</td>\n",
       "      <td>1</td>\n",
       "      <td>2017-09-11</td>\n",
       "      <td>2017</td>\n",
       "      <td>254</td>\n",
       "      <td>9</td>\n",
       "      <td>11</td>\n",
       "      <td>37</td>\n",
       "      <td>1</td>\n",
       "      <td>736583</td>\n",
       "      <td>2</td>\n",
       "      <td>1</td>\n",
       "      <td>0</td>\n",
       "    </tr>\n",
       "    <tr>\n",
       "      <th>07lVtClAEQ01iDVeaXl1</th>\n",
       "      <td>01iDVeaXl1</td>\n",
       "      <td>07lVtClAEQ</td>\n",
       "      <td>1</td>\n",
       "      <td>False</td>\n",
       "      <td>2017-09-06 20:03:30.419</td>\n",
       "      <td>Hey I'm looking for some roommates too have yo...</td>\n",
       "      <td>62</td>\n",
       "      <td>11</td>\n",
       "      <td>2017-09-06</td>\n",
       "      <td>2017</td>\n",
       "      <td>249</td>\n",
       "      <td>9</td>\n",
       "      <td>6</td>\n",
       "      <td>36</td>\n",
       "      <td>3</td>\n",
       "      <td>736578</td>\n",
       "      <td>20</td>\n",
       "      <td>1</td>\n",
       "      <td>0</td>\n",
       "    </tr>\n",
       "    <tr>\n",
       "      <th>0AFU6guKDt01iDVeaXl1</th>\n",
       "      <td>01iDVeaXl1</td>\n",
       "      <td>0AFU6guKDt</td>\n",
       "      <td>1</td>\n",
       "      <td>True</td>\n",
       "      <td>2017-09-06 20:04:10.818</td>\n",
       "      <td>Hey I'm interested</td>\n",
       "      <td>18</td>\n",
       "      <td>3</td>\n",
       "      <td>2017-09-06</td>\n",
       "      <td>2017</td>\n",
       "      <td>249</td>\n",
       "      <td>9</td>\n",
       "      <td>6</td>\n",
       "      <td>36</td>\n",
       "      <td>3</td>\n",
       "      <td>736578</td>\n",
       "      <td>20</td>\n",
       "      <td>1</td>\n",
       "      <td>0</td>\n",
       "    </tr>\n",
       "    <tr>\n",
       "      <th>0AFU6guKDt01mfWG4vUm</th>\n",
       "      <td>0AFU6guKDt</td>\n",
       "      <td>01mfWG4vUm</td>\n",
       "      <td>1</td>\n",
       "      <td>False</td>\n",
       "      <td>2017-07-03 20:14:06.271</td>\n",
       "      <td>Check out my profile, let me know if you're in...</td>\n",
       "      <td>54</td>\n",
       "      <td>10</td>\n",
       "      <td>2017-07-03</td>\n",
       "      <td>2017</td>\n",
       "      <td>184</td>\n",
       "      <td>7</td>\n",
       "      <td>3</td>\n",
       "      <td>27</td>\n",
       "      <td>1</td>\n",
       "      <td>736513</td>\n",
       "      <td>20</td>\n",
       "      <td>1</td>\n",
       "      <td>0</td>\n",
       "    </tr>\n",
       "    <tr>\n",
       "      <th>0AFU6guKDt06y5iMXoCP</th>\n",
       "      <td>0AFU6guKDt</td>\n",
       "      <td>06y5iMXoCP</td>\n",
       "      <td>1</td>\n",
       "      <td>False</td>\n",
       "      <td>2017-07-03 20:18:55.419</td>\n",
       "      <td>Hey!! Check out my profile &amp; let me know if yo...</td>\n",
       "      <td>66</td>\n",
       "      <td>13</td>\n",
       "      <td>2017-07-03</td>\n",
       "      <td>2017</td>\n",
       "      <td>184</td>\n",
       "      <td>7</td>\n",
       "      <td>3</td>\n",
       "      <td>27</td>\n",
       "      <td>1</td>\n",
       "      <td>736513</td>\n",
       "      <td>20</td>\n",
       "      <td>1</td>\n",
       "      <td>0</td>\n",
       "    </tr>\n",
       "  </tbody>\n",
       "</table>\n",
       "</div>"
      ],
      "text/plain": [
       "                     first_message_uid second_message_uid  len_convo  \\\n",
       "02sjTzcsaO02omVxM8Xm        02omVxM8Xm         02sjTzcsaO          1   \n",
       "07lVtClAEQ01iDVeaXl1        01iDVeaXl1         07lVtClAEQ          1   \n",
       "0AFU6guKDt01iDVeaXl1        01iDVeaXl1         0AFU6guKDt          1   \n",
       "0AFU6guKDt01mfWG4vUm        0AFU6guKDt         01mfWG4vUm          1   \n",
       "0AFU6guKDt06y5iMXoCP        0AFU6guKDt         06y5iMXoCP          1   \n",
       "\n",
       "                      first_message_read first_message_timestamp  \\\n",
       "02sjTzcsaO02omVxM8Xm               False 2017-09-11 02:41:19.188   \n",
       "07lVtClAEQ01iDVeaXl1               False 2017-09-06 20:03:30.419   \n",
       "0AFU6guKDt01iDVeaXl1                True 2017-09-06 20:04:10.818   \n",
       "0AFU6guKDt01mfWG4vUm               False 2017-07-03 20:14:06.271   \n",
       "0AFU6guKDt06y5iMXoCP               False 2017-07-03 20:18:55.419   \n",
       "\n",
       "                                                     first_message_text  \\\n",
       "02sjTzcsaO02omVxM8Xm                                               Wya?   \n",
       "07lVtClAEQ01iDVeaXl1  Hey I'm looking for some roommates too have yo...   \n",
       "0AFU6guKDt01iDVeaXl1                                 Hey I'm interested   \n",
       "0AFU6guKDt01mfWG4vUm  Check out my profile, let me know if you're in...   \n",
       "0AFU6guKDt06y5iMXoCP  Hey!! Check out my profile & let me know if yo...   \n",
       "\n",
       "                      first_message_len_char  first_message_len_word  \\\n",
       "02sjTzcsaO02omVxM8Xm                       4                       1   \n",
       "07lVtClAEQ01iDVeaXl1                      62                      11   \n",
       "0AFU6guKDt01iDVeaXl1                      18                       3   \n",
       "0AFU6guKDt01mfWG4vUm                      54                      10   \n",
       "0AFU6guKDt06y5iMXoCP                      66                      13   \n",
       "\n",
       "                     first_message_date  first_message_year  \\\n",
       "02sjTzcsaO02omVxM8Xm         2017-09-11                2017   \n",
       "07lVtClAEQ01iDVeaXl1         2017-09-06                2017   \n",
       "0AFU6guKDt01iDVeaXl1         2017-09-06                2017   \n",
       "0AFU6guKDt01mfWG4vUm         2017-07-03                2017   \n",
       "0AFU6guKDt06y5iMXoCP         2017-07-03                2017   \n",
       "\n",
       "                      first_message_day_of_year  first_message_month  \\\n",
       "02sjTzcsaO02omVxM8Xm                        254                    9   \n",
       "07lVtClAEQ01iDVeaXl1                        249                    9   \n",
       "0AFU6guKDt01iDVeaXl1                        249                    9   \n",
       "0AFU6guKDt01mfWG4vUm                        184                    7   \n",
       "0AFU6guKDt06y5iMXoCP                        184                    7   \n",
       "\n",
       "                      first_message_day_of_month  first_message_week  \\\n",
       "02sjTzcsaO02omVxM8Xm                          11                  37   \n",
       "07lVtClAEQ01iDVeaXl1                           6                  36   \n",
       "0AFU6guKDt01iDVeaXl1                           6                  36   \n",
       "0AFU6guKDt01mfWG4vUm                           3                  27   \n",
       "0AFU6guKDt06y5iMXoCP                           3                  27   \n",
       "\n",
       "                      first_message_day_of_week  first_message_day  \\\n",
       "02sjTzcsaO02omVxM8Xm                          1             736583   \n",
       "07lVtClAEQ01iDVeaXl1                          3             736578   \n",
       "0AFU6guKDt01iDVeaXl1                          3             736578   \n",
       "0AFU6guKDt01mfWG4vUm                          1             736513   \n",
       "0AFU6guKDt06y5iMXoCP                          1             736513   \n",
       "\n",
       "                      first_message_hour  const2  response  \n",
       "02sjTzcsaO02omVxM8Xm                   2       1         0  \n",
       "07lVtClAEQ01iDVeaXl1                  20       1         0  \n",
       "0AFU6guKDt01iDVeaXl1                  20       1         0  \n",
       "0AFU6guKDt01mfWG4vUm                  20       1         0  \n",
       "0AFU6guKDt06y5iMXoCP                  20       1         0  "
      ]
     },
     "execution_count": 31,
     "metadata": {},
     "output_type": "execute_result"
    }
   ],
   "source": [
    "df.head()"
   ]
  },
  {
   "cell_type": "code",
   "execution_count": null,
   "metadata": {
    "collapsed": true
   },
   "outputs": [],
   "source": []
  },
  {
   "cell_type": "code",
   "execution_count": null,
   "metadata": {
    "collapsed": true
   },
   "outputs": [],
   "source": []
  }
 ],
 "metadata": {
  "kernelspec": {
   "display_name": "Python 3",
   "language": "python",
   "name": "python3"
  },
  "language_info": {
   "codemirror_mode": {
    "name": "ipython",
    "version": 3
   },
   "file_extension": ".py",
   "mimetype": "text/x-python",
   "name": "python",
   "nbconvert_exporter": "python",
   "pygments_lexer": "ipython3",
   "version": "3.6.3"
  }
 },
 "nbformat": 4,
 "nbformat_minor": 2
}
