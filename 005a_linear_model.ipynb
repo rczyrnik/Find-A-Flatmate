{
 "cells": [
  {
   "cell_type": "code",
   "execution_count": null,
   "metadata": {
    "collapsed": true
   },
   "outputs": [],
   "source": [
    "import pandas as pd\n",
    "import numpy as np\n",
    "import matplotlib.pyplot as plt\n",
    "import datetime as dt\n",
    "\n",
    "\n",
    "import my_resample as ms\n",
    "\n",
    "import seaborn as sns\n",
    "sns.set()\n",
    "from sklearn.linear_model import LinearRegression, Ridge, Lasso\n",
    "from sklearn.model_selection import train_test_split, KFold\n",
    "from sklearn.preprocessing import StandardScaler\n",
    "from sklearn.linear_model import LogisticRegression\n",
    "from sklearn.linear_model import LinearRegression\n",
    "from sklearn.metrics import confusion_matrix, precision_score, recall_score\n",
    "\n",
    "import warnings\n",
    "warnings.filterwarnings('ignore')\n",
    "\n",
    "from sklearn.preprocessing import scale"
   ]
  },
  {
   "cell_type": "code",
   "execution_count": null,
   "metadata": {
    "collapsed": true
   },
   "outputs": [],
   "source": [
    "# directory\n",
    "data_file_path = \"/Users/gandalf/Documents/coding/do_not_commit/capstone/\"\n",
    "website_file_path = '/Users/gandalf/Documents/coding/rczyrnik.github.io/capstone/'"
   ]
  },
  {
   "cell_type": "markdown",
   "metadata": {},
   "source": [
    "# READ IN DATA"
   ]
  },
  {
   "cell_type": "code",
   "execution_count": null,
   "metadata": {
    "collapsed": true
   },
   "outputs": [],
   "source": [
    "X =  pd.read_pickle(data_file_path+'X.pkl')\n",
    "y1 =  pd.read_pickle(data_file_path+'y1.pkl')\n",
    "y2 =  pd.read_pickle(data_file_path+'y2.pkl')"
   ]
  },
  {
   "cell_type": "code",
   "execution_count": null,
   "metadata": {
    "collapsed": true
   },
   "outputs": [],
   "source": [
    "columns = X.columns"
   ]
  },
  {
   "cell_type": "code",
   "execution_count": null,
   "metadata": {},
   "outputs": [],
   "source": [
    "X.head()"
   ]
  },
  {
   "cell_type": "code",
   "execution_count": null,
   "metadata": {},
   "outputs": [],
   "source": [
    "len(X.columns)"
   ]
  },
  {
   "cell_type": "code",
   "execution_count": null,
   "metadata": {},
   "outputs": [],
   "source": [
    "y1.head()"
   ]
  },
  {
   "cell_type": "code",
   "execution_count": null,
   "metadata": {},
   "outputs": [],
   "source": [
    "y2.head()"
   ]
  },
  {
   "cell_type": "markdown",
   "metadata": {},
   "source": [
    "# SCALE DATA"
   ]
  },
  {
   "cell_type": "code",
   "execution_count": null,
   "metadata": {
    "collapsed": true
   },
   "outputs": [],
   "source": [
    "X = scale(X)"
   ]
  },
  {
   "cell_type": "markdown",
   "metadata": {},
   "source": [
    "# SOME HELPFUL FNS"
   ]
  },
  {
   "cell_type": "code",
   "execution_count": null,
   "metadata": {
    "collapsed": true
   },
   "outputs": [],
   "source": [
    "def display_metrics(model, X_test, y_test):\n",
    "    y_pred = model.predict(X_test)\n",
    "\n",
    "    print(\"\\nMETRICS\")\n",
    "    print(\"Model recall: {}\".format(recall_score(y_test, y_pred)))\n",
    "    print(\"Model precision: {}\".format(precision_score(y_test, y_pred)))\n",
    "    print(\"Model accuracy: {}\".format(model.score(X_test, y_test)))\n",
    "\n",
    "    print (\"\\nCONFUSION MATRIX\")\n",
    "    print (confusion_matrix(y_test, y_pred)/len(y_test))\n",
    "    print (\"\\nkey:\")\n",
    "    print (\" TN   FP \")\n",
    "    print (\" FN   TP \")\n",
    "    \n",
    "def display_importances_linear(model, X):\n",
    "    # show feature importances\n",
    "    pd.options.display.float_format = '{:,.2f}'.format\n",
    "    feature_df = pd.DataFrame([columns, model.coef_[0]]).T\n",
    "    feature_df.columns = ['feature','coefficient']\n",
    "    feature_df['abs_value'] = feature_df.coefficient.apply(abs)\n",
    "    feature_df['sign'] = feature_df.coefficient/feature_df.abs_value\n",
    "    return feature_df.sort_values('abs_value', ascending=False)\n",
    "\n",
    "def convert_to_binary(lst, cutoff=1):\n",
    "    return [1 if x > cutoff else 0 for x in lst]\n",
    "\n",
    "def display_metrics_continuous(model, X_test, y_test):\n",
    "    y_pred = model.predict(X_test)\n",
    "    y_pred_binary = convert_to_binary(y_pred,2)\n",
    "    y_test_binary = convert_to_binary(y_test,2)\n",
    "\n",
    "    print(\"\\nMETRICS\")\n",
    "    print(\"Model recall: {}\".format(recall_score(y_test_binary, y_pred_binary)))\n",
    "    print(\"Model precision: {}\".format(precision_score(y_test_binary, y_pred_binary)))\n",
    "    print(\"Model accuracy: {}\".format(model.score(X_test, y_test)))\n",
    "\n",
    "    print (\"\\nCONFUSION MATRIX\")\n",
    "    print (confusion_matrix(y_test_binary, y_pred_binary))\n",
    "    print (\"\\nkey:\")\n",
    "    print (\" TN   FP \")\n",
    "    print (\" FN   TP \")"
   ]
  },
  {
   "cell_type": "markdown",
   "metadata": {},
   "source": [
    "# LOGISTIC REGRESSION"
   ]
  },
  {
   "cell_type": "code",
   "execution_count": null,
   "metadata": {},
   "outputs": [],
   "source": [
    "%%time\n",
    "\n",
    "# train test split\n",
    "X_train, X_test, y_train, y_test = train_test_split(X, y1.as_matrix(), random_state=17)\n",
    "\n",
    "# resample\n",
    "X_train, y_train = ms.oversample(X_train, y_train, .5)\n",
    "\n",
    "# scale data\n",
    "scaler = StandardScaler()\n",
    "scaler.fit(X_train)\n",
    "X_train = scaler.transform(X_train)\n",
    "X_test = scaler.transform(X_test)\n",
    "\n",
    "# fit model\n",
    "model = LogisticRegression()\n",
    "model.fit(X_train, y_train)\n",
    "y_pred = model.predict(X_test)\n",
    "\n",
    "display_metrics(model, X_test, y_test)\n",
    "print()\n",
    "print(display_importances_linear(model, X).head(20))\n",
    "print()"
   ]
  },
  {
   "cell_type": "code",
   "execution_count": null,
   "metadata": {},
   "outputs": [],
   "source": [
    "temp = display_importances_linear(model, X).head(20)\n",
    "for i, row in enumerate(temp.values):\n",
    "    if row[3] < 0: color = 'red'\n",
    "    else: color = 'green'\n",
    "    print(\"<div style='color: {}'> {}. {} </div>\".format(color,i+1,row[0]), end='')"
   ]
  },
  {
   "cell_type": "code",
   "execution_count": null,
   "metadata": {
    "collapsed": true
   },
   "outputs": [],
   "source": []
  },
  {
   "cell_type": "markdown",
   "metadata": {
    "collapsed": true
   },
   "source": [
    "# Guessing Randomly"
   ]
  },
  {
   "cell_type": "code",
   "execution_count": null,
   "metadata": {},
   "outputs": [],
   "source": [
    "y_pred = y_test.copy()\n",
    "np.random.shuffle(y_pred)\n",
    "\n",
    "print(\"\\nMETRICS\")\n",
    "print(\"Model recall: {}\".format(recall_score(y_test, y_pred)))\n",
    "print(\"Model precision: {}\".format(precision_score(y_test, y_pred)))\n",
    "print(\"Model accuracy: {}\".format(model.score(X_test, y_test)))\n",
    "\n",
    "print (\"\\nCONFUSION MATRIX\")\n",
    "print (confusion_matrix(y_test, y_pred)/len(y_pred))\n",
    "print (\"\\nkey:\")\n",
    "print (\" TN   FP \")\n",
    "print (\" FN   TP \")\n",
    "\n",
    "print(np.array(y_pred).sum())\n",
    "print(y_test.sum())\n",
    "print(len(y_test))\n",
    "print(304/2689)"
   ]
  },
  {
   "cell_type": "markdown",
   "metadata": {},
   "source": [
    "# Get rid of a lot of the has"
   ]
  },
  {
   "cell_type": "code",
   "execution_count": null,
   "metadata": {
    "collapsed": true
   },
   "outputs": [],
   "source": [
    "X_new = X.copy()"
   ]
  },
  {
   "cell_type": "code",
   "execution_count": null,
   "metadata": {
    "collapsed": true
   },
   "outputs": [],
   "source": [
    "has_sender_cols = ['has_facebook_sender','has_password_sender', 'has_about_sender', 'has_amenities_sender', \n",
    "                   'has_birthdate_sender','has_available_sender', 'has_college_sender',\n",
    "                     'has_email_sender', 'has_hobbies_sender','has_hometown_sender',\n",
    "                     'has_linkedin_sender', 'has_location_sender','has_neighborhoods_sender',\n",
    "                     'has_numRoommates_sender','has_picture_sender','has_term_sender','has_work_sender']\n",
    "\n",
    "has_receiver_cols = ['has_facebook_receiver','has_password_receiver','has_about_receiver','has_amenities_receiver',\n",
    "    'has_available_receiver','has_birthdate_receiver','has_college_receiver','has_email_receiver',\n",
    "    'has_hobbies_receiver','has_hometown_receiver','has_linkedin_receiver','has_location_receiver',\n",
    "    'has_neighborhoods_receiver','has_numRoommates_receiver','has_picture_receiver','has_term_receiver',\n",
    "    'has_work_receiver']\n",
    " \n",
    "similarity_cols = [\n",
    " 'same_gender','same_relate','same_clean','same_night','same_student','same_smoking','same_type','same_term',\n",
    " 'same_work','same_city','same_state','same_country','same_college','same_metro']"
   ]
  },
  {
   "cell_type": "code",
   "execution_count": null,
   "metadata": {
    "collapsed": true
   },
   "outputs": [],
   "source": [
    "def sum_columns(row, lst):\n",
    "    s = 0\n",
    "    for l in lst:\n",
    "        s += row[l]\n",
    "    return s\n",
    "\n",
    "# X_new['sender_activity'] = X_new.apply(lambda row: sum_columns(row, has_sender_cols), axis=1)\n",
    "# X_new['receiver_activity'] = X_new.apply(lambda row: sum_columns(row, has_receiver_cols), axis=1)\n",
    "X_new['user_similarity'] = X_new.apply(lambda row: sum_columns(row, similarity_cols), axis=1)"
   ]
  },
  {
   "cell_type": "code",
   "execution_count": null,
   "metadata": {
    "collapsed": true
   },
   "outputs": [],
   "source": [
    "X_new = X_new.drop(has_sender_cols+has_receiver_cols+similarity_cols, axis=1)\n",
    "# X_new = X_new.drop(has_receiver_cols, axis=1)\n",
    "# X_new = X_new.drop(similarity_cols, axis=1)"
   ]
  },
  {
   "cell_type": "code",
   "execution_count": null,
   "metadata": {},
   "outputs": [],
   "source": [
    "len(X_new.columns)"
   ]
  },
  {
   "cell_type": "code",
   "execution_count": null,
   "metadata": {},
   "outputs": [],
   "source": [
    "%%time\n",
    "\n",
    "# train test split\n",
    "X_train, X_test, y_train, y_test = train_test_split(X_new.as_matrix(), y1.as_matrix(), random_state=17)\n",
    "\n",
    "# resample\n",
    "X_train, y_train = ms.oversample(X_train, y_train, .5)\n",
    "\n",
    "# scale data\n",
    "scaler = StandardScaler()\n",
    "scaler.fit(X_train)\n",
    "X_train = scaler.transform(X_train)\n",
    "X_test = scaler.transform(X_test)\n",
    "\n",
    "# fit model\n",
    "model = LogisticRegression()\n",
    "model.fit(X_train, y_train)\n",
    "y_pred = model.predict(X_test)\n",
    "\n",
    "display_metrics(model, X_test, y_test)\n",
    "print()\n",
    "print(display_importances_linear(model, X_new).head(20))\n",
    "print()"
   ]
  },
  {
   "cell_type": "code",
   "execution_count": null,
   "metadata": {},
   "outputs": [],
   "source": [
    "temp = display_importances_linear(model, X_new).head(20)\n",
    "for i, row in enumerate(temp.values):\n",
    "    if row[3] < 0: color = 'red'\n",
    "    else: color = 'green'\n",
    "    print(\"<div style='color: {}'> {}. {} </div>\".format(color,i+1,row[0]), end='')"
   ]
  },
  {
   "cell_type": "code",
   "execution_count": null,
   "metadata": {},
   "outputs": [],
   "source": [
    "temp = display_importances_linear(model, X_new).head(20)\n",
    "for i, row in enumerate(temp.values):\n",
    "    print(\"'{}',\".format(row[0]), end='')"
   ]
  },
  {
   "cell_type": "code",
   "execution_count": null,
   "metadata": {
    "collapsed": true
   },
   "outputs": [],
   "source": []
  },
  {
   "cell_type": "code",
   "execution_count": null,
   "metadata": {
    "collapsed": true
   },
   "outputs": [],
   "source": []
  },
  {
   "cell_type": "code",
   "execution_count": null,
   "metadata": {
    "collapsed": true
   },
   "outputs": [],
   "source": []
  },
  {
   "cell_type": "code",
   "execution_count": null,
   "metadata": {
    "collapsed": true
   },
   "outputs": [],
   "source": []
  },
  {
   "cell_type": "code",
   "execution_count": null,
   "metadata": {
    "collapsed": true
   },
   "outputs": [],
   "source": []
  },
  {
   "cell_type": "markdown",
   "metadata": {},
   "source": [
    "# LINEAR REGRESSION"
   ]
  },
  {
   "cell_type": "code",
   "execution_count": null,
   "metadata": {},
   "outputs": [],
   "source": [
    "%%time\n",
    "\n",
    "# train test split\n",
    "X_train, X_test, y_train, y_test = train_test_split(X.as_matrix(), y2.as_matrix(), random_state=17)\n",
    "\n",
    "# resample\n",
    "X_train, y_train = ms.oversample(X_train, y_train, .5)\n",
    "\n",
    "# scale data\n",
    "scaler = StandardScaler()\n",
    "scaler.fit(X_train)\n",
    "X_train = scaler.transform(X_train)\n",
    "X_test = scaler.transform(X_test)\n",
    "\n",
    "# fit model\n",
    "model = LinearRegression()\n",
    "model.fit(X_train, y_train)\n",
    "y_pred = model.predict(X_test)"
   ]
  },
  {
   "cell_type": "code",
   "execution_count": null,
   "metadata": {},
   "outputs": [],
   "source": [
    "display_metrics(model, X_test, y_test)"
   ]
  },
  {
   "cell_type": "code",
   "execution_count": null,
   "metadata": {},
   "outputs": [],
   "source": [
    "plt.scatter(y_pred,y_test,alpha=.1)\n",
    "plt.show()"
   ]
  },
  {
   "cell_type": "markdown",
   "metadata": {},
   "source": [
    "# INVESTIGATE RESULTS"
   ]
  },
  {
   "cell_type": "markdown",
   "metadata": {},
   "source": [
    "### first_message_day_of_year\n",
    "\n",
    "    plot response rate over time\n",
    "        x: date\n",
    "        y: percent responses for that day\n",
    "    prob have to bin by week because low volume?"
   ]
  },
  {
   "cell_type": "code",
   "execution_count": null,
   "metadata": {
    "collapsed": true
   },
   "outputs": [],
   "source": [
    "temp = master_df[['first_message_day_of_year','response','const2']]\n",
    "temp = temp.groupby(['first_message_day_of_year']).sum().reset_index()[50:]\n",
    "temp['percent_response'] = temp.response/temp.const2\n",
    "temp.percent_response.plot()\n",
    "plt.show()"
   ]
  },
  {
   "cell_type": "code",
   "execution_count": null,
   "metadata": {
    "collapsed": true
   },
   "outputs": [],
   "source": [
    "bins=7\n",
    "temp['_bin'] = temp.first_message_day_of_year.apply(lambda x: int(x/bins))\n",
    "temp = temp.groupby('_bin').sum()\n",
    "temp.percent_response = temp['percent_response'] = temp.response/temp.const2\n",
    "temp.head()\n",
    "temp.percent_response.plot()\n",
    "plt.show()"
   ]
  },
  {
   "cell_type": "markdown",
   "metadata": {},
   "source": [
    "### created_day_of_year_receiver"
   ]
  },
  {
   "cell_type": "code",
   "execution_count": null,
   "metadata": {
    "collapsed": true
   },
   "outputs": [],
   "source": [
    "temp = master_df[['created_day_of_year_receiver','response','const2']]\n",
    "temp = temp.groupby(['created_day_of_year_receiver']).sum().reset_index()[50:]\n",
    "temp['percent_response'] = temp.response/temp.const2\n",
    "temp.percent_response.plot()\n",
    "plt.show()"
   ]
  },
  {
   "cell_type": "markdown",
   "metadata": {},
   "source": [
    "### urgency_receiver"
   ]
  },
  {
   "cell_type": "code",
   "execution_count": null,
   "metadata": {},
   "outputs": [],
   "source": [
    "bins=7\n",
    "temp['_bin'] = temp.created_day_of_year_receiver.apply(lambda x: int(x/bins))\n",
    "temp = temp.groupby('_bin').sum()\n",
    "temp.percent_response = temp['percent_response'] = temp.response/temp.const2\n",
    "temp.head()\n",
    "temp.percent_response.plot()\n",
    "plt.show()"
   ]
  },
  {
   "cell_type": "markdown",
   "metadata": {},
   "source": [
    "### td_creat_avail_receiver"
   ]
  },
  {
   "cell_type": "code",
   "execution_count": null,
   "metadata": {
    "collapsed": true
   },
   "outputs": [],
   "source": [
    "col = \n",
    "temp = master_df[['created_day_of_year_receiver','response','const2']]\n",
    "temp = temp.groupby(['created_day_of_year_receiver']).sum().reset_index()[50:]\n",
    "temp['percent_response'] = temp.response/temp.const2\n",
    "temp.percent_response.plot()\n",
    "plt.show()"
   ]
  }
 ],
 "metadata": {
  "kernelspec": {
   "display_name": "Python 3",
   "language": "python",
   "name": "python3"
  },
  "language_info": {
   "codemirror_mode": {
    "name": "ipython",
    "version": 3
   },
   "file_extension": ".py",
   "mimetype": "text/x-python",
   "name": "python",
   "nbconvert_exporter": "python",
   "pygments_lexer": "ipython3",
   "version": "3.6.3"
  }
 },
 "nbformat": 4,
 "nbformat_minor": 2
}
