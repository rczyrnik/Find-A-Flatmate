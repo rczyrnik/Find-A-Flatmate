{
 "cells": [
  {
   "cell_type": "markdown",
   "metadata": {},
   "source": [
    "### Imports"
   ]
  },
  {
   "cell_type": "code",
   "execution_count": 104,
   "metadata": {
    "collapsed": true
   },
   "outputs": [],
   "source": [
    "import my_pickle as mp\n",
    "import my_resample as ms\n",
    "import numpy as np\n",
    "import pandas as pd\n",
    "\n",
    "from sklearn.preprocessing import StandardScaler\n",
    "from sklearn.model_selection import train_test_split\n",
    "from sklearn.tree import DecisionTreeClassifier\n",
    "from sklearn.ensemble import RandomForestClassifier\n",
    "from sklearn.ensemble import GradientBoostingClassifier\n",
    "from sklearn.ensemble import AdaBoostClassifier\n",
    "from sklearn.metrics import confusion_matrix, precision_score, recall_score\n",
    "\n",
    "\n",
    "from sklearn.model_selection import GridSearchCV"
   ]
  },
  {
   "cell_type": "markdown",
   "metadata": {},
   "source": [
    "### Read in data"
   ]
  },
  {
   "cell_type": "code",
   "execution_count": 43,
   "metadata": {
    "collapsed": true
   },
   "outputs": [],
   "source": [
    "# read in\n",
    "convo_df = mp.unjson_it('data_master')\n",
    "user_df = mp.unjson_it('data_user')\n",
    "\n",
    "# get uid as a column\n",
    "user_df = user_df.reset_index().rename(index=str, columns={\"index\": \"uid\"})"
   ]
  },
  {
   "cell_type": "code",
   "execution_count": 119,
   "metadata": {},
   "outputs": [
    {
     "data": {
      "text/plain": [
       "Index(['uid', 'I_count', 'I_ratio', 'about', 'activeAt', 'age', 'amenities',\n",
       "       'available', 'birthday', 'college', 'created', 'exclaim_count',\n",
       "       'exclaim_ratio', 'facebookId', 'gender', 'has_about', 'has_facebookId',\n",
       "       'has_linkedinId', 'has_picture', 'has_room', 'hobbies', 'hometownCity',\n",
       "       'hometownCountry', 'hometownState', 'inRelationship', 'isClean',\n",
       "       'isNight', 'isStudent', 'len_about', 'linkedinId', 'location',\n",
       "       'maxCost', 'metro', 'minCost', 'neighborhoods', 'numRoommates',\n",
       "       'onboarded', 'period_count', 'period_ratio', 'petsOk', 'picture',\n",
       "       'question_count', 'question_ratio', 'sentence_count', 'sentence_ratio',\n",
       "       'smokingOk', 'term', 'timeframe', 'type', 'updated', 'work', 'interact',\n",
       "       'sender', 'responder', 'messager'],\n",
       "      dtype='object')"
      ]
     },
     "execution_count": 119,
     "metadata": {},
     "output_type": "execute_result"
    }
   ],
   "source": [
    "user_df.columns"
   ]
  },
  {
   "cell_type": "markdown",
   "metadata": {},
   "source": [
    "# The Problem"
   ]
  },
  {
   "cell_type": "code",
   "execution_count": 44,
   "metadata": {},
   "outputs": [
    {
     "name": "stdout",
     "output_type": "stream",
     "text": [
      "Only 10.7% of messages get a response.\n"
     ]
    }
   ],
   "source": [
    "print(\"Only {:.3}% of messages get a response.\".format(100*convo_df.response.sum()/len(convo_df)))"
   ]
  },
  {
   "cell_type": "markdown",
   "metadata": {
    "collapsed": true
   },
   "source": [
    "# Goal 1: filter out users who probably aren't active"
   ]
  },
  {
   "cell_type": "markdown",
   "metadata": {},
   "source": [
    "## Step 1: identify active users"
   ]
  },
  {
   "cell_type": "code",
   "execution_count": 114,
   "metadata": {},
   "outputs": [
    {
     "name": "stdout",
     "output_type": "stream",
     "text": [
      "9.55% of users start a conversation\n",
      "2.76% of users respond to a message\n",
      "        (but ~10% of messages get a response.)\n",
      "10.9% of users send a message\n"
     ]
    }
   ],
   "source": [
    "# create an array with anyone who has sent a message\n",
    "# assume conversations between just two users\n",
    "senders = set(convo_df.uid_sender.unique())\n",
    "responders = set(convo_df[convo_df.response == True].uid_receiver.unique())\n",
    "messagers = senders.union(responders)\n",
    "\n",
    "# create column on user_df for active/not active\n",
    "user_df['sender'] = user_df.uid.apply(lambda x: x in senders)\n",
    "user_df['responder'] = user_df.uid.apply(lambda x: x in responders)\n",
    "user_df['messager'] = user_df.uid.apply(lambda x: x in messagers)\n",
    "\n",
    "print(\"{:.3}% of users start a conversation\".format(100*len(senders)/len(user_df)))\n",
    "print(\"{:.3}% of users respond to a message\".format(100*len(responders)/len(user_df)))\n",
    "print(\"        (but ~10% of messages get a response.)\")\n",
    "print(\"{:.3}% of users send a message\".format(100*len(messagers)/len(user_df)))"
   ]
  },
  {
   "cell_type": "markdown",
   "metadata": {},
   "source": [
    "## Step 2: clean up user data to feed into model"
   ]
  },
  {
   "cell_type": "code",
   "execution_count": 168,
   "metadata": {
    "collapsed": true
   },
   "outputs": [],
   "source": [
    "user_df.amenities = user_df.amenities.apply(lambda x: len(x) if isinstance(x,list) else 0)\n",
    "user_df.hobbies = user_df.hobbies.apply(lambda x: len(x) if isinstance(x,list) else 0)\n",
    "user_df.neighborhoods = user_df.neighborhoods.apply(lambda x: len(x) if isinstance(x,list) else 0)\n",
    "user_df.location = user_df.location.apply(lambda x: 1 if isinstance(x,list) else 0)\n",
    "\n",
    "user_df.college = user_df.college.apply(lambda x: 1 if isinstance(x,str) else 0)\n",
    "user_df.hometownCity = user_df.hometownCity.apply(lambda x: 1 if isinstance(x,str) else 0)\n",
    "user_df.hometownCountry = user_df.hometownCountry.apply(lambda x: 1 if isinstance(x,str) else 0)\n",
    "user_df.hometownState = user_df.hometownState.apply(lambda x: 1 if isinstance(x,str) else 0)\n",
    "user_df.work = user_df.work.apply(lambda x: 1 if isinstance(x,str) else 0)\n",
    "\n",
    "col_to_keep = ['I_count','age', 'amenities','college','exclaim_count','gender','has_about', 'has_facebookId',\n",
    "       'has_linkedinId', 'has_picture', 'has_room','hobbies','hometownCity','hometownState','hometownCountry',\n",
    "               'inRelationship', 'isClean',\n",
    "       'isNight', 'isStudent', 'len_about','location','maxCost','minCost','neighborhoods','numRoommates',\n",
    "       'period_count','petsOk','question_count','smokingOk', 'term','work'] \n",
    "user_df['const']=1\n",
    "user_df['interact'] = user_df['interact'].apply(lambda x: 1 if x else 0)\n",
    "X = user_df[col_to_keep].fillna(X.mean(axis=0))\n",
    "y_wconst = user_df[['interact','const']]\n",
    "y = user_df['interact']"
   ]
  },
  {
   "cell_type": "code",
   "execution_count": 169,
   "metadata": {
    "collapsed": true
   },
   "outputs": [],
   "source": [
    "# save X and y for gridsearch\n",
    "mp.json_it(X, 'data_X_013018')\n",
    "mp.json_it(y_wconst, 'data_y_013018')"
   ]
  },
  {
   "cell_type": "code",
   "execution_count": 170,
   "metadata": {},
   "outputs": [],
   "source": [
    "# train test split\n",
    "X_train, X_test, y_train, y_test = train_test_split(X.as_matrix(), y.as_matrix(), random_state=17)\n",
    "\n",
    "# resample\n",
    "X_train, y_train = ms.oversample(X_train, y_train, .25)\n",
    "\n",
    "# scale data\n",
    "scaler = StandardScaler()\n",
    "scaler.fit(X_train)\n",
    "X_train = scaler.transform(X_train)\n",
    "X_test = scaler.transform(X_test)\n",
    "\n",
    "# make fake data\n",
    "pred_all_0 = [0]*len(y_test)\n",
    "pred_all_1 = [1]*len(y_test)\n",
    "pred_50_50 = np.random.choice([0,1], size=len(y_test))\n",
    "pred_90_10 = np.random.choice([0,1], size=len(y_test), p=[.9,.1])"
   ]
  },
  {
   "cell_type": "markdown",
   "metadata": {},
   "source": [
    "## Step 3: Run models"
   ]
  },
  {
   "cell_type": "markdown",
   "metadata": {},
   "source": [
    "Goal is to maximize negative predictive value (NPV)\n",
    "\n",
    "${\\displaystyle \\mathrm {NPV} ={\\frac {\\mathrm {TN} }{\\mathrm {TN} +\\mathrm {FN} }}}$\n",
    "\n",
    "remove users unlikely to be active while keeping users who may be active"
   ]
  },
  {
   "cell_type": "code",
   "execution_count": 132,
   "metadata": {},
   "outputs": [
    {
     "data": {
      "text/plain": [
       "0.90468986384266259"
      ]
     },
     "execution_count": 132,
     "metadata": {},
     "output_type": "execute_result"
    }
   ],
   "source": [
    "def get_NPV(confusion_matrix):\n",
    "    TN = confusion_matrix[0][0]\n",
    "    FN = confusion_matrix[1][0]\n",
    "    return TN/(TN+FN)\n",
    "\n",
    "get_NPV(confusion_matrix(y_test, y_pred))"
   ]
  },
  {
   "cell_type": "code",
   "execution_count": 96,
   "metadata": {
    "collapsed": true
   },
   "outputs": [],
   "source": [
    "def display_importances_trees():\n",
    "    # show feature importances\n",
    "    feature_df = pd.DataFrame([X.columns, model.feature_importances_]).T\n",
    "    feature_df.columns = ['feature','value']\n",
    "    return feature_df.sort_values('value', ascending=False)\n",
    "             \n",
    "def display_metrics():\n",
    "    print(\"\\nMETRICS\")\n",
    "    print(\"Model recall: {}\".format(recall_score(y_test, y_pred)))\n",
    "    print(\"Model precision: {}\".format(precision_score(y_test, y_pred)))\n",
    "    print(\"Model accuracy: {}\".format(model.score(X_test, y_test)))\n",
    "\n",
    "    print (\"\\nCONFUSION MATRIX\")\n",
    "    print (confusion_matrix(y_test, y_pred))\n",
    "    print (\"\\nkey:\")\n",
    "    print (\" TN   FP \")\n",
    "    print (\" FN   TP \")\n",
    "\n",
    "    print(\"\\nRECALL AND ACCURACY FOR DIFFERNET MODELS\")\n",
    "    print(\"recall     \\t precision   \\tmodel\")\n",
    "    print(recall_score(y_test, y_pred), '\\t',precision_score(y_test, y_pred), \"my model\")\n",
    "    print(recall_score(y_test, pred_all_0),'\\t','\\t', precision_score(y_test, pred_all_0), \"\\t\\tpredict all zero\")\n",
    "    print(recall_score(y_test, pred_all_1),'\\t','\\t', precision_score(y_test, pred_all_1), \"predict all one\")\n",
    "    print(recall_score(y_test, pred_50_50),'\\t', precision_score(y_test, pred_50_50), \"predict 50-50\")\n",
    "    print(recall_score(y_test, pred_90_10), precision_score(y_test, pred_90_10), \"predict 90-10\")"
   ]
  },
  {
   "cell_type": "code",
   "execution_count": 172,
   "metadata": {},
   "outputs": [
    {
     "name": "stdout",
     "output_type": "stream",
     "text": [
      "0.906627003801\n",
      "\n",
      "METRICS\n",
      "Model recall: 0.1654357459379616\n",
      "Model precision: 0.2916666666666667\n",
      "Model accuracy: 0.8699300699300699\n",
      "\n",
      "CONFUSION MATRIX\n",
      "[[5486  272]\n",
      " [ 565  112]]\n",
      "\n",
      "key:\n",
      " TN   FP \n",
      " FN   TP \n",
      "\n",
      "RECALL AND ACCURACY FOR DIFFERNET MODELS\n",
      "recall     \t precision   \tmodel\n",
      "0.165435745938 \t 0.291666666667 my model\n",
      "0.0 \t \t 0.0 \t\tpredict all zero\n",
      "1.0 \t \t 0.105205905206 predict all one\n",
      "0.480059084195 \t 0.100837728824 predict 50-50\n",
      "0.116691285081 0.11499272198 predict 90-10\n"
     ]
    },
    {
     "name": "stderr",
     "output_type": "stream",
     "text": [
      "/Users/gandalf/anaconda3/lib/python3.6/site-packages/sklearn/metrics/classification.py:1135: UndefinedMetricWarning: Precision is ill-defined and being set to 0.0 due to no predicted samples.\n",
      "  'precision', 'predicted', average, warn_for)\n"
     ]
    },
    {
     "data": {
      "text/html": [
       "<div>\n",
       "<style>\n",
       "    .dataframe thead tr:only-child th {\n",
       "        text-align: right;\n",
       "    }\n",
       "\n",
       "    .dataframe thead th {\n",
       "        text-align: left;\n",
       "    }\n",
       "\n",
       "    .dataframe tbody tr th {\n",
       "        vertical-align: top;\n",
       "    }\n",
       "</style>\n",
       "<table border=\"1\" class=\"dataframe\">\n",
       "  <thead>\n",
       "    <tr style=\"text-align: right;\">\n",
       "      <th></th>\n",
       "      <th>feature</th>\n",
       "      <th>value</th>\n",
       "    </tr>\n",
       "  </thead>\n",
       "  <tbody>\n",
       "    <tr>\n",
       "      <th>19</th>\n",
       "      <td>len_about</td>\n",
       "      <td>0.190696</td>\n",
       "    </tr>\n",
       "    <tr>\n",
       "      <th>21</th>\n",
       "      <td>maxCost</td>\n",
       "      <td>0.106963</td>\n",
       "    </tr>\n",
       "    <tr>\n",
       "      <th>22</th>\n",
       "      <td>minCost</td>\n",
       "      <td>0.0917119</td>\n",
       "    </tr>\n",
       "    <tr>\n",
       "      <th>1</th>\n",
       "      <td>age</td>\n",
       "      <td>0.091239</td>\n",
       "    </tr>\n",
       "    <tr>\n",
       "      <th>24</th>\n",
       "      <td>numRoommates</td>\n",
       "      <td>0.0776946</td>\n",
       "    </tr>\n",
       "  </tbody>\n",
       "</table>\n",
       "</div>"
      ],
      "text/plain": [
       "         feature      value\n",
       "19     len_about   0.190696\n",
       "21       maxCost   0.106963\n",
       "22       minCost  0.0917119\n",
       "1            age   0.091239\n",
       "24  numRoommates  0.0776946"
      ]
     },
     "execution_count": 172,
     "metadata": {},
     "output_type": "execute_result"
    }
   ],
   "source": [
    "model = GradientBoostingClassifier()\n",
    "model.fit(X_train, y_train)\n",
    "y_pred = model.predict(X_test)\n",
    "\n",
    "print(get_NPV(confusion_matrix(y_test, y_pred)))\n",
    "# show metrics\n",
    "display_metrics()\n",
    "\n",
    "# # show importances\n",
    "display_importances_trees().head(5)"
   ]
  },
  {
   "cell_type": "markdown",
   "metadata": {},
   "source": [
    "# Filter Users"
   ]
  },
  {
   "cell_type": "code",
   "execution_count": 174,
   "metadata": {
    "collapsed": true
   },
   "outputs": [],
   "source": [
    "user_df['prediction'] = model.predict(X)"
   ]
  },
  {
   "cell_type": "code",
   "execution_count": null,
   "metadata": {
    "collapsed": true
   },
   "outputs": [],
   "source": []
  },
  {
   "cell_type": "markdown",
   "metadata": {},
   "source": [
    "### Q1: Are users influenced by this low rate?\n",
    "- compare users who get a response quickly to those who don't?"
   ]
  }
 ],
 "metadata": {
  "kernelspec": {
   "display_name": "Python 3",
   "language": "python",
   "name": "python3"
  },
  "language_info": {
   "codemirror_mode": {
    "name": "ipython",
    "version": 3
   },
   "file_extension": ".py",
   "mimetype": "text/x-python",
   "name": "python",
   "nbconvert_exporter": "python",
   "pygments_lexer": "ipython3",
   "version": "3.6.3"
  }
 },
 "nbformat": 4,
 "nbformat_minor": 2
}
