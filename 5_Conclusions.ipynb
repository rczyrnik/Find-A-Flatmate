{
 "cells": [
  {
   "cell_type": "markdown",
   "metadata": {},
   "source": [
    "### Imports"
   ]
  },
  {
   "cell_type": "code",
   "execution_count": 104,
   "metadata": {
    "collapsed": true
   },
   "outputs": [],
   "source": [
    "import my_pickle as mp\n",
    "import my_resample as ms\n",
    "import numpy as np\n",
    "import pandas as pd\n",
    "\n",
    "from sklearn.preprocessing import StandardScaler\n",
    "from sklearn.model_selection import train_test_split\n",
    "from sklearn.tree import DecisionTreeClassifier\n",
    "from sklearn.ensemble import RandomForestClassifier\n",
    "from sklearn.ensemble import GradientBoostingClassifier\n",
    "from sklearn.ensemble import AdaBoostClassifier\n",
    "from sklearn.metrics import confusion_matrix, precision_score, recall_score\n",
    "\n",
    "\n",
    "from sklearn.model_selection import GridSearchCV"
   ]
  },
  {
   "cell_type": "markdown",
   "metadata": {},
   "source": [
    "### Read in data"
   ]
  },
  {
   "cell_type": "code",
   "execution_count": 43,
   "metadata": {
    "collapsed": true
   },
   "outputs": [],
   "source": [
    "# read in\n",
    "convo_df = mp.unjson_it('data_master')\n",
    "user_df = mp.unjson_it('data_user')\n",
    "\n",
    "# get uid as a column\n",
    "user_df = user_df.reset_index().rename(index=str, columns={\"index\": \"uid\"})"
   ]
  },
  {
   "cell_type": "code",
   "execution_count": 119,
   "metadata": {},
   "outputs": [
    {
     "data": {
      "text/plain": [
       "Index(['uid', 'I_count', 'I_ratio', 'about', 'activeAt', 'age', 'amenities',\n",
       "       'available', 'birthday', 'college', 'created', 'exclaim_count',\n",
       "       'exclaim_ratio', 'facebookId', 'gender', 'has_about', 'has_facebookId',\n",
       "       'has_linkedinId', 'has_picture', 'has_room', 'hobbies', 'hometownCity',\n",
       "       'hometownCountry', 'hometownState', 'inRelationship', 'isClean',\n",
       "       'isNight', 'isStudent', 'len_about', 'linkedinId', 'location',\n",
       "       'maxCost', 'metro', 'minCost', 'neighborhoods', 'numRoommates',\n",
       "       'onboarded', 'period_count', 'period_ratio', 'petsOk', 'picture',\n",
       "       'question_count', 'question_ratio', 'sentence_count', 'sentence_ratio',\n",
       "       'smokingOk', 'term', 'timeframe', 'type', 'updated', 'work', 'interact',\n",
       "       'sender', 'responder', 'messager'],\n",
       "      dtype='object')"
      ]
     },
     "execution_count": 119,
     "metadata": {},
     "output_type": "execute_result"
    }
   ],
   "source": [
    "user_df.columns"
   ]
  },
  {
   "cell_type": "markdown",
   "metadata": {},
   "source": [
    "# The Problem"
   ]
  },
  {
   "cell_type": "code",
   "execution_count": 44,
   "metadata": {},
   "outputs": [
    {
     "name": "stdout",
     "output_type": "stream",
     "text": [
      "Only 10.7% of messages get a response.\n"
     ]
    }
   ],
   "source": [
    "print(\"Only {:.3}% of messages get a response.\".format(100*convo_df.response.sum()/len(convo_df)))"
   ]
  },
  {
   "cell_type": "markdown",
   "metadata": {
    "collapsed": true
   },
   "source": [
    "# Goal 1: filter out users who probably aren't active"
   ]
  },
  {
   "cell_type": "markdown",
   "metadata": {},
   "source": [
    "## Step 1: identify active users"
   ]
  },
  {
   "cell_type": "code",
   "execution_count": 114,
   "metadata": {},
   "outputs": [
    {
     "name": "stdout",
     "output_type": "stream",
     "text": [
      "9.55% of users start a conversation\n",
      "2.76% of users respond to a message\n",
      "        (but ~10% of messages get a response.)\n",
      "10.9% of users send a message\n"
     ]
    }
   ],
   "source": [
    "# create an array with anyone who has sent a message\n",
    "# assume conversations between just two users\n",
    "senders = set(convo_df.uid_sender.unique())\n",
    "responders = set(convo_df[convo_df.response == True].uid_receiver.unique())\n",
    "messagers = senders.union(responders)\n",
    "\n",
    "# create column on user_df for active/not active\n",
    "user_df['sender'] = user_df.uid.apply(lambda x: x in senders)\n",
    "user_df['responder'] = user_df.uid.apply(lambda x: x in responders)\n",
    "user_df['messager'] = user_df.uid.apply(lambda x: x in messagers)\n",
    "\n",
    "print(\"{:.3}% of users start a conversation\".format(100*len(senders)/len(user_df)))\n",
    "print(\"{:.3}% of users respond to a message\".format(100*len(responders)/len(user_df)))\n",
    "print(\"        (but ~10% of messages get a response.)\")\n",
    "print(\"{:.3}% of users send a message\".format(100*len(messagers)/len(user_df)))"
   ]
  },
  {
   "cell_type": "markdown",
   "metadata": {},
   "source": [
    "## Step 2: clean up user data to feed into model"
   ]
  },
  {
   "cell_type": "code",
   "execution_count": 138,
   "metadata": {
    "collapsed": true
   },
   "outputs": [],
   "source": [
    "user_df.amenities = user_df.amenities.apply(lambda x: len(x) if isinstance(x,list) else 0)\n",
    "user_df.hobbies = user_df.hobbies.apply(lambda x: len(x) if isinstance(x,list) else 0)\n",
    "user_df.neighborhoods = user_df.neighborhoods.apply(lambda x: len(x) if isinstance(x,list) else 0)\n",
    "user_df.location = user_df.location.apply(lambda x: 1 if isinstance(x,list) else 0)\n",
    "\n",
    "user_df.college = user_df.college.apply(lambda x: 1 if isinstance(x,str) else 0)\n",
    "user_df.hometownCity = user_df.hometownCity.apply(lambda x: 1 if isinstance(x,str) else 0)\n",
    "user_df.hometownCountry = user_df.hometownCountry.apply(lambda x: 1 if isinstance(x,str) else 0)\n",
    "user_df.hometownState = user_df.hometownState.apply(lambda x: 1 if isinstance(x,str) else 0)\n",
    "user_df.work = user_df.work.apply(lambda x: 1 if isinstance(x,str) else 0)\n",
    "\n",
    "# TF = {True:1, False:0}\n",
    "# TF_col = ['facebookId','has_about','has_room','linkedinId','picture','has_about']\n",
    "# for col in TF_col:\n",
    "#     X[col]= X[col].map(TF)\n",
    "# to_drop = ['type','uid','about','metro','picture','facebookId','linkedinId']\n",
    "# X = X.drop(to_drop, axis=1)"
   ]
  },
  {
   "cell_type": "code",
   "execution_count": null,
   "metadata": {
    "collapsed": true
   },
   "outputs": [],
   "source": []
  },
  {
   "cell_type": "code",
   "execution_count": 139,
   "metadata": {},
   "outputs": [],
   "source": [
    "col_to_keep = ['I_count','age', 'amenities','college','exclaim_count','gender','has_about', 'has_facebookId',\n",
    "       'has_linkedinId', 'has_picture', 'has_room','hobbies','hometownCity','hometownState','hometownCountry',\n",
    "               'inRelationship', 'isClean',\n",
    "       'isNight', 'isStudent', 'len_about','location','maxCost','minCost','neighborhoods','numRoommates',\n",
    "       'period_count','petsOk','question_count','smokingOk', 'term','work'] \n",
    "\n",
    "X = user_df[col_to_keep].fillna(X.mean(axis=0))\n",
    "y = user_df['interact']\n",
    "\n",
    "# still missing features! (ammenities, etc)"
   ]
  },
  {
   "cell_type": "code",
   "execution_count": 140,
   "metadata": {},
   "outputs": [],
   "source": [
    "# train test split\n",
    "X_train, X_test, y_train, y_test = train_test_split(X.as_matrix(), y.as_matrix(), random_state=17)\n",
    "\n",
    "# resample\n",
    "X_train, y_train = ms.oversample(X_train, y_train, .5)\n",
    "\n",
    "# scale data\n",
    "scaler = StandardScaler()\n",
    "scaler.fit(X_train)\n",
    "X_train = scaler.transform(X_train)\n",
    "X_test = scaler.transform(X_test)\n",
    "\n",
    "# make fake data\n",
    "pred_all_0 = [0]*len(y_test)\n",
    "pred_all_1 = [1]*len(y_test)\n",
    "pred_50_50 = np.random.choice([0,1], size=len(y_test))\n",
    "pred_90_10 = np.random.choice([0,1], size=len(y_test), p=[.9,.1])"
   ]
  },
  {
   "cell_type": "markdown",
   "metadata": {},
   "source": [
    "## Step 3: Run models"
   ]
  },
  {
   "cell_type": "markdown",
   "metadata": {},
   "source": [
    "Goal is to maximize negative predictive value (NPV)\n",
    "\n",
    "${\\displaystyle \\mathrm {NPV} ={\\frac {\\mathrm {TN} }{\\mathrm {TN} +\\mathrm {FN} }}}$\n",
    "\n",
    "remove users unlikely to be active while keeping users who may be active"
   ]
  },
  {
   "cell_type": "code",
   "execution_count": 132,
   "metadata": {},
   "outputs": [
    {
     "data": {
      "text/plain": [
       "0.90468986384266259"
      ]
     },
     "execution_count": 132,
     "metadata": {},
     "output_type": "execute_result"
    }
   ],
   "source": [
    "def get_NPV(confusion_matrix):\n",
    "    TN = confusion_matrix[0][0]\n",
    "    FN = confusion_matrix[1][0]\n",
    "    return TN/(TN+FN)\n",
    "\n",
    "get_NPV(confusion_matrix(y_test, y_pred))"
   ]
  },
  {
   "cell_type": "code",
   "execution_count": 96,
   "metadata": {
    "collapsed": true
   },
   "outputs": [],
   "source": [
    "def display_importances_trees():\n",
    "    # show feature importances\n",
    "    feature_df = pd.DataFrame([X.columns, model.feature_importances_]).T\n",
    "    feature_df.columns = ['feature','value']\n",
    "    return feature_df.sort_values('value', ascending=False)\n",
    "             \n",
    "def display_metrics():\n",
    "    print(\"\\nMETRICS\")\n",
    "    print(\"Model recall: {}\".format(recall_score(y_test, y_pred)))\n",
    "    print(\"Model precision: {}\".format(precision_score(y_test, y_pred)))\n",
    "    print(\"Model accuracy: {}\".format(model.score(X_test, y_test)))\n",
    "\n",
    "    print (\"\\nCONFUSION MATRIX\")\n",
    "    print (confusion_matrix(y_test, y_pred))\n",
    "    print (\"\\nkey:\")\n",
    "    print (\" TN   FP \")\n",
    "    print (\" FN   TP \")\n",
    "\n",
    "    print(\"\\nRECALL AND ACCURACY FOR DIFFERNET MODELS\")\n",
    "    print(\"recall     \\t precision   \\tmodel\")\n",
    "    print(recall_score(y_test, y_pred), '\\t',precision_score(y_test, y_pred), \"my model\")\n",
    "    print(recall_score(y_test, pred_all_0),'\\t','\\t', precision_score(y_test, pred_all_0), \"\\t\\tpredict all zero\")\n",
    "    print(recall_score(y_test, pred_all_1),'\\t','\\t', precision_score(y_test, pred_all_1), \"predict all one\")\n",
    "    print(recall_score(y_test, pred_50_50),'\\t', precision_score(y_test, pred_50_50), \"predict 50-50\")\n",
    "    print(recall_score(y_test, pred_90_10), precision_score(y_test, pred_90_10), \"predict 90-10\")"
   ]
  },
  {
   "cell_type": "code",
   "execution_count": 143,
   "metadata": {},
   "outputs": [
    {
     "name": "stdout",
     "output_type": "stream",
     "text": [
      "0.954610951009\n",
      "\n",
      "METRICS\n",
      "Model recall: 0.7208271787296898\n",
      "Model precision: 0.21488331131660063\n",
      "Model accuracy: 0.6935508935508935\n",
      "\n",
      "CONFUSION MATRIX\n",
      "[[3975 1783]\n",
      " [ 189  488]]\n",
      "\n",
      "key:\n",
      " TN   FP \n",
      " FN   TP \n",
      "\n",
      "RECALL AND ACCURACY FOR DIFFERNET MODELS\n",
      "recall     \t precision   \tmodel\n",
      "0.72082717873 \t 0.214883311317 my model\n",
      "0.0 \t \t 0.0 \t\tpredict all zero\n",
      "1.0 \t \t 0.105205905206 predict all one\n",
      "0.490398818316 \t 0.104010025063 predict 50-50\n",
      "0.0871491875923 0.0902140672783 predict 90-10\n"
     ]
    },
    {
     "name": "stderr",
     "output_type": "stream",
     "text": [
      "/Users/gandalf/anaconda3/lib/python3.6/site-packages/sklearn/metrics/classification.py:1135: UndefinedMetricWarning: Precision is ill-defined and being set to 0.0 due to no predicted samples.\n",
      "  'precision', 'predicted', average, warn_for)\n"
     ]
    }
   ],
   "source": [
    "model = GradientBoostingClassifier()\n",
    "model.fit(X_train, y_train)\n",
    "y_pred = model.predict(X_test)\n",
    "\n",
    "print(get_NPV(confusion_matrix(y_test, y_pred)))\n",
    "# show metrics\n",
    "display_metrics()\n",
    "\n",
    "# # show importances\n",
    "# display_importances_trees().head(5)"
   ]
  },
  {
   "cell_type": "code",
   "execution_count": null,
   "metadata": {},
   "outputs": [],
   "source": []
  },
  {
   "cell_type": "code",
   "execution_count": null,
   "metadata": {
    "collapsed": true
   },
   "outputs": [],
   "source": []
  },
  {
   "cell_type": "markdown",
   "metadata": {},
   "source": [
    "### Q1: Are users influenced by this low rate?\n",
    "- compare users who get a response quickly to those who don't?"
   ]
  }
 ],
 "metadata": {
  "kernelspec": {
   "display_name": "Python 3",
   "language": "python",
   "name": "python3"
  },
  "language_info": {
   "codemirror_mode": {
    "name": "ipython",
    "version": 3
   },
   "file_extension": ".py",
   "mimetype": "text/x-python",
   "name": "python",
   "nbconvert_exporter": "python",
   "pygments_lexer": "ipython3",
   "version": "3.6.3"
  }
 },
 "nbformat": 4,
 "nbformat_minor": 2
}
