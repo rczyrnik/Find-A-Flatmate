{
 "cells": [
  {
   "cell_type": "markdown",
   "metadata": {},
   "source": [
    "# Imports"
   ]
  },
  {
   "cell_type": "code",
   "execution_count": null,
   "metadata": {
    "collapsed": true
   },
   "outputs": [],
   "source": [
    "import json\n",
    "import pandas as pd\n",
    "from collections import defaultdict"
   ]
  },
  {
   "cell_type": "markdown",
   "metadata": {},
   "source": [
    "# Read file"
   ]
  },
  {
   "cell_type": "code",
   "execution_count": null,
   "metadata": {},
   "outputs": [],
   "source": [
    "filename = \"/Users/gandalf/Documents/data/data_messages.json\"\n",
    "json_data=open(filename).read()\n",
    "data = json.loads(json_data)"
   ]
  },
  {
   "cell_type": "markdown",
   "metadata": {},
   "source": [
    "### Basic info"
   ]
  },
  {
   "cell_type": "code",
   "execution_count": null,
   "metadata": {},
   "outputs": [],
   "source": [
    "print(\"There are {} sections.\".format(len(data)))\n",
    "print(\"They are {}.\".format(data.keys()))"
   ]
  },
  {
   "cell_type": "markdown",
   "metadata": {},
   "source": [
    "# Start with \"conversations\" data\n",
    "\n",
    "create a message data frame"
   ]
  },
  {
   "cell_type": "code",
   "execution_count": null,
   "metadata": {},
   "outputs": [],
   "source": [
    "print(len(data[\"conversations\"]))"
   ]
  },
  {
   "cell_type": "markdown",
   "metadata": {},
   "source": [
    "### Read into a data frame"
   ]
  },
  {
   "cell_type": "code",
   "execution_count": null,
   "metadata": {},
   "outputs": [],
   "source": [
    "column_names = ['message_id',       # Added, unique for each row\n",
    "               'conversation_id',   # Added, identifies the conversation, not unique\n",
    "               'uid',               # message sender\n",
    "               'read',              # true/false value\n",
    "               'readBy',            # message recipient(s)\n",
    "               'number_of_people',  # Added, num of people in conversation\n",
    "               'text_length',       # Added, length of text\n",
    "               'timestamp',         # time\n",
    "               'imageURL',          # image url\n",
    "               'emailAttempted',    # ?\n",
    "               'emailed']           # ?\n",
    "\n",
    "mi,ci,ui,rd,rb,np,tl,ts,iu,ea,em = [],[],[],[],[],[],[],[],[],[],[]\n",
    "  \n",
    "for conversation_id, conversation_data in data[\"conversations\"].items():\n",
    "    for message_id, message_data in conversation_data.items():\n",
    "        information = defaultdict(lambda: '', message_data)\n",
    "        ci.append(conversation_id)\n",
    "        mi.append(message_id)\n",
    "        ui.append(information['uid'])\n",
    "        rd.append(information['read'])\n",
    "        rb.append(information['readBy'])\n",
    "        np.append(1+len(information['readBy']))\n",
    "        tl.append(len(information['text']))\n",
    "        ts.append(information['timestamp'])\n",
    "        iu.append(information['imageURL'])\n",
    "        ea.append(information['emailAttempted'])\n",
    "        em.append(information['emailed'])\n",
    "\n",
    "message_df = pd.DataFrame([mi,ci,ui,rd,rb,np,tl,ts,iu,ea,em]).T\n",
    "message_df.columns=column_names\n",
    "\n",
    "'''\n",
    "EXAMPLE conversation_id:\n",
    "    KpMlXG7ZYncKWH2COnA\n",
    "    \n",
    "EXAMPLE conversation_data:\n",
    "    {'-Ke28SI_EyKkov9BteUL': {'read': False, 'text': 'Testing', 'uid': 'nQYG2Z9elg', 'timestamp': 1488258979109, 'readBy': {'0': 'b1HYtkC11e'}}}\n",
    "\n",
    "EXAMPLE message_id:\n",
    "    -Ke28SI_EyKkov9BteUL\n",
    "    \n",
    "EXAMPLE message_data:\n",
    "    {'read': False, 'text': 'Hey testing', 'uid': 'nQYG2Z9elg', 'timestamp': 1487983610477, 'readBy': {'0': 'b1HYtkC11e'}}\n",
    "\n",
    "\n",
    "\n",
    "\n",
    "all message_data keys: {'-KxyhbVPrmol16PhwAoK', 'text', 'read', '-KzVojrcFAQKnpC1SSkj', '-KxyaIm1JaSRknl6xXCM', 'uid', '-Ky2Zo-LUnO78YcfDJHp', 'Ouap24POyVC9BUh6k7Vv', 'emailAttempted', '-KyHen9zv4-atfzeDkc2', '-KxyYSCrXvWnlhY-crfw', '-KyS8hwK7ilszKmfw0pE', '-KxydYL8uy4RpJzoOYVw', '-Kxyb7xaoadO-4kqevUy', 'readBy', 'emailed', '-KzViltfTtSvL-DDePkv', '-Kxy_wEoSK0mvbn1gJsI', '-KyWuKi5Nt-Uig92Gwu7', '-KxyfDDxeAwU63Aq_goZ', '-Kzvt6gidOrXuF4qtBHZ', '-KyHSFcoq2ZRt5hpdQjL', 'timestamp', 'imageURL', '-KyYBdFZ_juTBGls1Uuj', '-KyNN4AcJogRqGG_sLT1', '-Ky2Y5LDmyBGLtkk4icN'}\n",
    "\n",
    "weird message_data keys: \n",
    "    dict_keys(['-KyYBdFZ_juTBGls1Uuj', 'Ouap24POyVC9BUh6k7Vv', 'read'])\n",
    "    dict_keys(['-KyHen9zv4-atfzeDkc2', 'read'])\n",
    "    dict_keys(['-KxyYSCrXvWnlhY-crfw', 'read', '-Kxy_wEoSK0mvbn1gJsI', '-KxyaIm1JaSRknl6xXCM', '-Kxyb7xaoadO-4kqevUy', '-KxydYL8uy4RpJzoOYVw', '-KxyfDDxeAwU63Aq_goZ', '-Ky2Y5LDmyBGLtkk4icN'])\n",
    "    dict_keys(['-KxyhbVPrmol16PhwAoK', 'read', '-Ky2Zo-LUnO78YcfDJHp', '-KyS8hwK7ilszKmfw0pE'])\n",
    "    dict_keys(['-KzViltfTtSvL-DDePkv'])\n",
    "    dict_keys(['-KyHSFcoq2ZRt5hpdQjL', 'read'])\n",
    "    dict_keys(['-KyNN4AcJogRqGG_sLT1', 'read'])\n",
    "    dict_keys(['-KzVojrcFAQKnpC1SSkj', 'read'])\n",
    "    dict_keys(['-Kzvt6gidOrXuF4qtBHZ', 'read'])\n",
    "    dict_keys(['-KyWuKi5Nt-Uig92Gwu7', 'read'])\n",
    "(possibly others)    \n",
    "''';\n",
    "    "
   ]
  },
  {
   "cell_type": "code",
   "execution_count": null,
   "metadata": {},
   "outputs": [],
   "source": [
    "print(\"There are {} messages.\".format(len(message_df)))\n",
    "print(\"There are {} conversations.\".format(len(message_df.conversation_id.unique())))"
   ]
  },
  {
   "cell_type": "code",
   "execution_count": null,
   "metadata": {},
   "outputs": [],
   "source": [
    "message_df.head()"
   ]
  },
  {
   "cell_type": "markdown",
   "metadata": {
    "collapsed": true
   },
   "source": [
    "# Next look at \"users\" data"
   ]
  },
  {
   "cell_type": "code",
   "execution_count": null,
   "metadata": {
    "collapsed": true
   },
   "outputs": [],
   "source": []
  }
 ],
 "metadata": {
  "kernelspec": {
   "display_name": "Python 3",
   "language": "python",
   "name": "python3"
  },
  "language_info": {
   "codemirror_mode": {
    "name": "ipython",
    "version": 3
   },
   "file_extension": ".py",
   "mimetype": "text/x-python",
   "name": "python",
   "nbconvert_exporter": "python",
   "pygments_lexer": "ipython3",
   "version": "3.6.3"
  }
 },
 "nbformat": 4,
 "nbformat_minor": 2
}
