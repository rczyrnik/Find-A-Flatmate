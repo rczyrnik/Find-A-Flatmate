{
 "cells": [
  {
   "cell_type": "code",
   "execution_count": 146,
   "metadata": {
    "collapsed": true
   },
   "outputs": [],
   "source": [
    "import pandas as pd\n",
    "from collections import defaultdict"
   ]
  },
  {
   "cell_type": "code",
   "execution_count": 88,
   "metadata": {},
   "outputs": [
    {
     "data": {
      "text/html": [
       "<div>\n",
       "<style>\n",
       "    .dataframe thead tr:only-child th {\n",
       "        text-align: right;\n",
       "    }\n",
       "\n",
       "    .dataframe thead th {\n",
       "        text-align: left;\n",
       "    }\n",
       "\n",
       "    .dataframe tbody tr th {\n",
       "        vertical-align: top;\n",
       "    }\n",
       "</style>\n",
       "<table border=\"1\" class=\"dataframe\">\n",
       "  <thead>\n",
       "    <tr style=\"text-align: right;\">\n",
       "      <th></th>\n",
       "      <th>conversations</th>\n",
       "      <th>users</th>\n",
       "    </tr>\n",
       "  </thead>\n",
       "  <tbody>\n",
       "    <tr>\n",
       "      <th>-KdmSL0izd_44wrniy-W</th>\n",
       "      <td>{'-KdmSRA-1a7niRVp5s83': {'read': True, 'text'...</td>\n",
       "      <td>NaN</td>\n",
       "    </tr>\n",
       "    <tr>\n",
       "      <th>-KdmixiTP5parpBtLtBJ</th>\n",
       "      <td>{'-Kdmj-d4TwKFUMQkPKeF': {'read': False, 'text...</td>\n",
       "      <td>NaN</td>\n",
       "    </tr>\n",
       "    <tr>\n",
       "      <th>-Ke18G-UGnLrasv4_xXT</th>\n",
       "      <td>{'-Ke18IPzq_R4mOHswlVh': {'read': True, 'readB...</td>\n",
       "      <td>NaN</td>\n",
       "    </tr>\n",
       "    <tr>\n",
       "      <th>-Ke28RHZLNV4m69_08sZ</th>\n",
       "      <td>{'-Ke28SI_EyKkov9BteUL': {'read': False, 'text...</td>\n",
       "      <td>NaN</td>\n",
       "    </tr>\n",
       "    <tr>\n",
       "      <th>-Ke4mWs5IgcfwfRwdRFA</th>\n",
       "      <td>{'-Ke4mjlJmO0XJUwci1dy': {'read': True, 'times...</td>\n",
       "      <td>NaN</td>\n",
       "    </tr>\n",
       "  </tbody>\n",
       "</table>\n",
       "</div>"
      ],
      "text/plain": [
       "                                                          conversations users\n",
       "-KdmSL0izd_44wrniy-W  {'-KdmSRA-1a7niRVp5s83': {'read': True, 'text'...   NaN\n",
       "-KdmixiTP5parpBtLtBJ  {'-Kdmj-d4TwKFUMQkPKeF': {'read': False, 'text...   NaN\n",
       "-Ke18G-UGnLrasv4_xXT  {'-Ke18IPzq_R4mOHswlVh': {'read': True, 'readB...   NaN\n",
       "-Ke28RHZLNV4m69_08sZ  {'-Ke28SI_EyKkov9BteUL': {'read': False, 'text...   NaN\n",
       "-Ke4mWs5IgcfwfRwdRFA  {'-Ke4mjlJmO0XJUwci1dy': {'read': True, 'times...   NaN"
      ]
     },
     "execution_count": 88,
     "metadata": {},
     "output_type": "execute_result"
    }
   ],
   "source": [
    "filename = \"/Users/gandalf/Documents/data/data_messages.json\"\n",
    "\n",
    "df = pd.read_json(filename, orient = 'columns')\n",
    "\n",
    "df.head()"
   ]
  },
  {
   "cell_type": "code",
   "execution_count": 80,
   "metadata": {
    "collapsed": true
   },
   "outputs": [],
   "source": []
  },
  {
   "cell_type": "code",
   "execution_count": 186,
   "metadata": {},
   "outputs": [
    {
     "data": {
      "text/plain": [
       "30639"
      ]
     },
     "execution_count": 186,
     "metadata": {},
     "output_type": "execute_result"
    }
   ],
   "source": [
    "len(df.conversations)"
   ]
  },
  {
   "cell_type": "code",
   "execution_count": 138,
   "metadata": {},
   "outputs": [
    {
     "data": {
      "text/plain": [
       "{'-Kdmj-d4TwKFUMQkPKeF': {'read': False,\n",
       "  'readBy': {'0': 'b1HYtkC11e'},\n",
       "  'text': 'Hey testing',\n",
       "  'timestamp': 1487983610477,\n",
       "  'uid': 'nQYG2Z9elg'},\n",
       " '-KdmjBCinEGTfRSdv7-M': {'imageURL': 'https://s3.amazonaws.com/room8app/mrpDW1xjwrUEfrrnrybaxrcZ.jpeg',\n",
       "  'read': False,\n",
       "  'readBy': {'0': 'b1HYtkC11e'},\n",
       "  'timestamp': 1487983657874,\n",
       "  'uid': 'nQYG2Z9elg'},\n",
       " '-KdmuWrUGEd9HAOTDfix': {'read': False,\n",
       "  'readBy': {'0': 'b1HYtkC11e'},\n",
       "  'text': 'Testing',\n",
       "  'timestamp': 1487986630148,\n",
       "  'uid': 'nQYG2Z9elg'},\n",
       " '-Ke-Lu3L4MKWFw6VtGm-': {'read': False,\n",
       "  'readBy': {'0': 'b1HYtkC11e'},\n",
       "  'text': 'Message',\n",
       "  'timestamp': 1488212173152,\n",
       "  'uid': 'nQYG2Z9elg'},\n",
       " '-Ke-LxdQGbl2Gn1vegxD': {'imageURL': 'https://s3.amazonaws.com/room8app/OifnzcByBbyDLs0EfOTse0ul.jpeg',\n",
       "  'read': False,\n",
       "  'readBy': {'0': 'b1HYtkC11e'},\n",
       "  'timestamp': 1488212187803,\n",
       "  'uid': 'nQYG2Z9elg'}}"
      ]
     },
     "execution_count": 138,
     "metadata": {},
     "output_type": "execute_result"
    }
   ],
   "source": [
    "df.conversations[1]"
   ]
  },
  {
   "cell_type": "code",
   "execution_count": 187,
   "metadata": {},
   "outputs": [
    {
     "ename": "ValueError",
     "evalue": "Length mismatch: Expected axis has 9 elements, new values have 8 elements",
     "output_type": "error",
     "traceback": [
      "\u001b[0;31m---------------------------------------------------------------------------\u001b[0m",
      "\u001b[0;31mValueError\u001b[0m                                Traceback (most recent call last)",
      "\u001b[0;32m<ipython-input-187-3900ad18b6cb>\u001b[0m in \u001b[0;36m<module>\u001b[0;34m()\u001b[0m\n\u001b[1;32m     34\u001b[0m \u001b[0;34m\u001b[0m\u001b[0m\n\u001b[1;32m     35\u001b[0m \u001b[0mnew_df\u001b[0m \u001b[0;34m=\u001b[0m \u001b[0mpd\u001b[0m\u001b[0;34m.\u001b[0m\u001b[0mDataFrame\u001b[0m\u001b[0;34m(\u001b[0m\u001b[0;34m[\u001b[0m\u001b[0mm_id\u001b[0m\u001b[0;34m,\u001b[0m\u001b[0mc_id\u001b[0m\u001b[0;34m,\u001b[0m\u001b[0mu\u001b[0m\u001b[0;34m,\u001b[0m\u001b[0mr\u001b[0m\u001b[0;34m,\u001b[0m\u001b[0mrB\u001b[0m\u001b[0;34m,\u001b[0m\u001b[0mn\u001b[0m\u001b[0;34m,\u001b[0m\u001b[0mt\u001b[0m\u001b[0;34m,\u001b[0m\u001b[0mts\u001b[0m\u001b[0;34m,\u001b[0m\u001b[0mi\u001b[0m\u001b[0;34m]\u001b[0m\u001b[0;34m)\u001b[0m\u001b[0;34m.\u001b[0m\u001b[0mT\u001b[0m\u001b[0;34m\u001b[0m\u001b[0m\n\u001b[0;32m---> 36\u001b[0;31m \u001b[0mnew_df\u001b[0m\u001b[0;34m.\u001b[0m\u001b[0mcolumns\u001b[0m\u001b[0;34m=\u001b[0m\u001b[0mcolumns\u001b[0m\u001b[0;34m\u001b[0m\u001b[0m\n\u001b[0m\u001b[1;32m     37\u001b[0m \u001b[0;34m\u001b[0m\u001b[0m\n\u001b[1;32m     38\u001b[0m \u001b[0mnew_df\u001b[0m\u001b[0;34m\u001b[0m\u001b[0m\n",
      "\u001b[0;32m~/anaconda3/lib/python3.6/site-packages/pandas/core/generic.py\u001b[0m in \u001b[0;36m__setattr__\u001b[0;34m(self, name, value)\u001b[0m\n\u001b[1;32m   3092\u001b[0m         \u001b[0;32mtry\u001b[0m\u001b[0;34m:\u001b[0m\u001b[0;34m\u001b[0m\u001b[0m\n\u001b[1;32m   3093\u001b[0m             \u001b[0mobject\u001b[0m\u001b[0;34m.\u001b[0m\u001b[0m__getattribute__\u001b[0m\u001b[0;34m(\u001b[0m\u001b[0mself\u001b[0m\u001b[0;34m,\u001b[0m \u001b[0mname\u001b[0m\u001b[0;34m)\u001b[0m\u001b[0;34m\u001b[0m\u001b[0m\n\u001b[0;32m-> 3094\u001b[0;31m             \u001b[0;32mreturn\u001b[0m \u001b[0mobject\u001b[0m\u001b[0;34m.\u001b[0m\u001b[0m__setattr__\u001b[0m\u001b[0;34m(\u001b[0m\u001b[0mself\u001b[0m\u001b[0;34m,\u001b[0m \u001b[0mname\u001b[0m\u001b[0;34m,\u001b[0m \u001b[0mvalue\u001b[0m\u001b[0;34m)\u001b[0m\u001b[0;34m\u001b[0m\u001b[0m\n\u001b[0m\u001b[1;32m   3095\u001b[0m         \u001b[0;32mexcept\u001b[0m \u001b[0mAttributeError\u001b[0m\u001b[0;34m:\u001b[0m\u001b[0;34m\u001b[0m\u001b[0m\n\u001b[1;32m   3096\u001b[0m             \u001b[0;32mpass\u001b[0m\u001b[0;34m\u001b[0m\u001b[0m\n",
      "\u001b[0;32mpandas/_libs/src/properties.pyx\u001b[0m in \u001b[0;36mpandas._libs.lib.AxisProperty.__set__\u001b[0;34m()\u001b[0m\n",
      "\u001b[0;32m~/anaconda3/lib/python3.6/site-packages/pandas/core/generic.py\u001b[0m in \u001b[0;36m_set_axis\u001b[0;34m(self, axis, labels)\u001b[0m\n\u001b[1;32m    471\u001b[0m \u001b[0;34m\u001b[0m\u001b[0m\n\u001b[1;32m    472\u001b[0m     \u001b[0;32mdef\u001b[0m \u001b[0m_set_axis\u001b[0m\u001b[0;34m(\u001b[0m\u001b[0mself\u001b[0m\u001b[0;34m,\u001b[0m \u001b[0maxis\u001b[0m\u001b[0;34m,\u001b[0m \u001b[0mlabels\u001b[0m\u001b[0;34m)\u001b[0m\u001b[0;34m:\u001b[0m\u001b[0;34m\u001b[0m\u001b[0m\n\u001b[0;32m--> 473\u001b[0;31m         \u001b[0mself\u001b[0m\u001b[0;34m.\u001b[0m\u001b[0m_data\u001b[0m\u001b[0;34m.\u001b[0m\u001b[0mset_axis\u001b[0m\u001b[0;34m(\u001b[0m\u001b[0maxis\u001b[0m\u001b[0;34m,\u001b[0m \u001b[0mlabels\u001b[0m\u001b[0;34m)\u001b[0m\u001b[0;34m\u001b[0m\u001b[0m\n\u001b[0m\u001b[1;32m    474\u001b[0m         \u001b[0mself\u001b[0m\u001b[0;34m.\u001b[0m\u001b[0m_clear_item_cache\u001b[0m\u001b[0;34m(\u001b[0m\u001b[0;34m)\u001b[0m\u001b[0;34m\u001b[0m\u001b[0m\n\u001b[1;32m    475\u001b[0m \u001b[0;34m\u001b[0m\u001b[0m\n",
      "\u001b[0;32m~/anaconda3/lib/python3.6/site-packages/pandas/core/internals.py\u001b[0m in \u001b[0;36mset_axis\u001b[0;34m(self, axis, new_labels)\u001b[0m\n\u001b[1;32m   2834\u001b[0m             raise ValueError('Length mismatch: Expected axis has %d elements, '\n\u001b[1;32m   2835\u001b[0m                              \u001b[0;34m'new values have %d elements'\u001b[0m \u001b[0;34m%\u001b[0m\u001b[0;34m\u001b[0m\u001b[0m\n\u001b[0;32m-> 2836\u001b[0;31m                              (old_len, new_len))\n\u001b[0m\u001b[1;32m   2837\u001b[0m \u001b[0;34m\u001b[0m\u001b[0m\n\u001b[1;32m   2838\u001b[0m         \u001b[0mself\u001b[0m\u001b[0;34m.\u001b[0m\u001b[0maxes\u001b[0m\u001b[0;34m[\u001b[0m\u001b[0maxis\u001b[0m\u001b[0;34m]\u001b[0m \u001b[0;34m=\u001b[0m \u001b[0mnew_labels\u001b[0m\u001b[0;34m\u001b[0m\u001b[0m\n",
      "\u001b[0;31mValueError\u001b[0m: Length mismatch: Expected axis has 9 elements, new values have 8 elements"
     ]
    }
   ],
   "source": [
    "c_id,m_id,r,rB,n,t,ts,u,i,lmi = [],[],[],[],[],[],[],[],[],[]\n",
    "\n",
    "# columns = ['message_id','conversation_id','uid','read','readBy','number_of_people','text_length','timestamp','imageURL']\n",
    "columns = ['message_id',        # unique for each row\n",
    "           'conversation_id',   # identifies the conversation, not unique\n",
    "           'uid'                # message sender\n",
    "           'read',              # true/false value\n",
    "           'readBy',            # message recipient(s)\n",
    "           'number_of_people',\n",
    "           'text_length',       \n",
    "           'timestamp',         # time\n",
    "\n",
    "           'imageURL']          # image url\n",
    "#            'emailAttempted',    # ?\n",
    "#            'emailed']           # true/false\n",
    "\n",
    "\n",
    "for conversation_id, conversation in df.conversations.items():\n",
    "    try:\n",
    "        for message_id, info in conversation.items():\n",
    "            information = defaultdict(lambda: '',info)\n",
    "            c_id.append(conversation_id)\n",
    "            m_id.append(message_id)\n",
    "            r.append(information['read'])\n",
    "            rB.append(information['readBy'])\n",
    "            t.append(len(information['text']))\n",
    "            ts.append(information['timestamp'])\n",
    "            u.append(information['uid'])\n",
    "            i.append(information['imageURL'])\n",
    "            n.append(1+len(information['readBy'].keys()))\n",
    "\n",
    "    except:\n",
    "        pass\n",
    "\n",
    "new_df = pd.DataFrame([m_id,c_id,u,r,rB,n,t,ts,i]).T\n",
    "new_df.columns=columns\n",
    "\n",
    "new_df"
   ]
  },
  {
   "cell_type": "code",
   "execution_count": 61,
   "metadata": {},
   "outputs": [
    {
     "name": "stdout",
     "output_type": "stream",
     "text": [
      "{'Ouap24POyVC9BUh6k7Vv', '-Ky2Y5LDmyBGLtkk4icN', 'timestamp', 'imageURL', 'read', 'emailAttempted', '-KyNN4AcJogRqGG_sLT1', '-Kxy_wEoSK0mvbn1gJsI', '-Ky2Zo-LUnO78YcfDJHp', '-KyS8hwK7ilszKmfw0pE', '-KyHSFcoq2ZRt5hpdQjL', 'readBy', '-KzVojrcFAQKnpC1SSkj', '-Kzvt6gidOrXuF4qtBHZ', '-KxydYL8uy4RpJzoOYVw', 'uid', 'text', 'emailed', '-KyYBdFZ_juTBGls1Uuj', '-KyHen9zv4-atfzeDkc2', '-KxyaIm1JaSRknl6xXCM', '-KxyfDDxeAwU63Aq_goZ', '-KyWuKi5Nt-Uig92Gwu7', '-KzViltfTtSvL-DDePkv', '-KxyYSCrXvWnlhY-crfw', '-KxyhbVPrmol16PhwAoK', '-Kxyb7xaoadO-4kqevUy'}\n",
      "10246\n",
      "20393\n"
     ]
    }
   ],
   "source": [
    "# to figure out the column names and the counts\n",
    "\n",
    "columns = set()\n",
    "nan_count = 0\n",
    "conversation_count = 0\n",
    "\n",
    "for conversation in df.conversations:\n",
    "    try:\n",
    "        for key, value in conversation.items():\n",
    "            for k, v in value.items():\n",
    "                columns.add(k)\n",
    "#                 print('{}: {}'.format(k, v))\n",
    "        conversation_count += 1\n",
    "    except:\n",
    "        nan_count += 1\n",
    "print(columns)\n",
    "print(nan_count)\n",
    "print(conversation_count)"
   ]
  },
  {
   "cell_type": "code",
   "execution_count": null,
   "metadata": {
    "collapsed": true
   },
   "outputs": [],
   "source": []
  }
 ],
 "metadata": {
  "kernelspec": {
   "display_name": "Python 3",
   "language": "python",
   "name": "python3"
  },
  "language_info": {
   "codemirror_mode": {
    "name": "ipython",
    "version": 3
   },
   "file_extension": ".py",
   "mimetype": "text/x-python",
   "name": "python",
   "nbconvert_exporter": "python",
   "pygments_lexer": "ipython3",
   "version": "3.6.3"
  }
 },
 "nbformat": 4,
 "nbformat_minor": 2
}
