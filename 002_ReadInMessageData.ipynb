{
 "cells": [
  {
   "cell_type": "code",
   "execution_count": null,
   "metadata": {
    "collapsed": true
   },
   "outputs": [],
   "source": [
    "import pandas as pd"
   ]
  },
  {
   "cell_type": "code",
   "execution_count": null,
   "metadata": {},
   "outputs": [],
   "source": [
    "# read in dataframe\n",
    "message_filename = \"/Users/gandalf/Documents/coding/data_do_not_commit/raw_data_messages.json\"\n",
    "DF = pd.read_json(message_filename)\n",
    "print(\"... read in dataframe\")"
   ]
  },
  {
   "cell_type": "code",
   "execution_count": null,
   "metadata": {},
   "outputs": [],
   "source": [
    "# create a copy\n",
    "df = DF.copy()\n",
    "df = df[24:]\n",
    "print(\"... created a copy and cropped odd convos from start\")"
   ]
  },
  {
   "cell_type": "code",
   "execution_count": null,
   "metadata": {},
   "outputs": [],
   "source": [
    "# split into conversation and last message dataframes\n",
    "df['conv_flag'] = df.conversations.apply(lambda x: 1 if isinstance(x, dict) else 0)\n",
    "convo_df = df[df.conv_flag==1].drop(['users','conv_flag'],axis=1)\n",
    "users_df = df[df.conv_flag==0].drop(['conversations','conv_flag'],axis=1)\n",
    "print(\"... split into conversation and last message dataframes\")"
   ]
  },
  {
   "cell_type": "code",
   "execution_count": null,
   "metadata": {},
   "outputs": [],
   "source": [
    "# get conversation length\n",
    "convo_df['len_convo'] = convo_df.conversations.apply(len)\n",
    "print(\"... got conversation lengths\")"
   ]
  },
  {
   "cell_type": "code",
   "execution_count": null,
   "metadata": {},
   "outputs": [],
   "source": [
    "# to get all possible column headings (#oneliners)\n",
    "master_set = set()\n",
    "for s in convo_df.conversations.apply(lambda x: set(list(x.values())[0].keys())).tolist(): master_set = master_set.union(s) \n",
    "\n",
    "def get_deets_fn(x,label):\n",
    "    try: return list(x.values())[0][label]\n",
    "    except: return None\n",
    "    \n",
    "column_headings = list(master_set)\n",
    "\n",
    "for heading in column_headings:\n",
    "    convo_df['first_message_' + heading] = convo_df.conversations.apply(lambda x: get_deets_fn(x,heading))\n",
    "print(\"... got details from the first message\")"
   ]
  },
  {
   "cell_type": "code",
   "execution_count": null,
   "metadata": {},
   "outputs": [],
   "source": [
    "# this is really gross, but has a kinda nifty end if you're willing to invest the time\n",
    "\n",
    "convo_df['indexies'] = convo_df.index\n",
    "convo_df['first_ten'] = convo_df.indexies.apply(lambda x: x[:10])\n",
    "convo_df['second_ten'] = convo_df.indexies.apply(lambda x: x[10:])\n",
    "convo_df['is_first'] = convo_df.first_message_uid == convo_df['first_ten']\n",
    "convo_df['is_second'] = convo_df.first_message_uid == convo_df['second_ten']\n",
    "convo_df['second_message_uid'] = convo_df.is_second*convo_df.first_ten + convo_df.is_first*convo_df.second_ten\n",
    "\n",
    "print(\"... added second message uid\")"
   ]
  },
  {
   "cell_type": "code",
   "execution_count": null,
   "metadata": {},
   "outputs": [],
   "source": [
    "# get len of message text\n",
    "convo_df['first_message_len'] = convo_df.first_message_text.fillna('').apply(len)\n",
    "print(\"... got the length of the first message\")"
   ]
  },
  {
   "cell_type": "code",
   "execution_count": null,
   "metadata": {},
   "outputs": [],
   "source": [
    "# other cleanup\n",
    "convo_df.first_message_timestamp = \\\n",
    "    convo_df.first_message_timestamp.apply(lambda x: \n",
    "                                           pd.to_datetime(x*1000000) \n",
    "                                           if isinstance(x, int) \n",
    "                                           else x)\n",
    "print(\"... converted timestamp to datetime\")"
   ]
  },
  {
   "cell_type": "code",
   "execution_count": null,
   "metadata": {},
   "outputs": [],
   "source": [
    "# start droppin\n",
    "col_to_drop = ['conversations','indexies','first_ten','second_ten','is_first','is_second']\n",
    "convo_df.drop(col_to_drop,axis=1)\n",
    "print(\"... dropped a bunch of lame columns\")"
   ]
  },
  {
   "cell_type": "code",
   "execution_count": null,
   "metadata": {
    "collapsed": true
   },
   "outputs": [],
   "source": []
  }
 ],
 "metadata": {
  "kernelspec": {
   "display_name": "Python 3",
   "language": "python",
   "name": "python3"
  },
  "language_info": {
   "codemirror_mode": {
    "name": "ipython",
    "version": 3
   },
   "file_extension": ".py",
   "mimetype": "text/x-python",
   "name": "python",
   "nbconvert_exporter": "python",
   "pygments_lexer": "ipython3",
   "version": "3.6.3"
  }
 },
 "nbformat": 4,
 "nbformat_minor": 2
}
