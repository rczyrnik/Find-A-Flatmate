{
 "cells": [
  {
   "cell_type": "code",
   "execution_count": 1,
   "metadata": {
    "collapsed": true
   },
   "outputs": [],
   "source": [
    "# DOESNT WORK"
   ]
  },
  {
   "cell_type": "markdown",
   "metadata": {},
   "source": [
    "# INVESTIGATE A CONVERSATION BY ID"
   ]
  },
  {
   "cell_type": "code",
   "execution_count": null,
   "metadata": {
    "collapsed": true
   },
   "outputs": [],
   "source": [
    "convo_id = ''\n",
    "\n",
    "for conversation_id, conversation_data in data[\"conversations\"].items():\n",
    "    if conversation_id == convo_id:\n",
    "        for message_id, message_data in conversation_data.items():\n",
    "            information = defaultdict(lambda: '', message_data)\n",
    "            print(information['text'])\n",
    "            \n",
    "message_df[message_df.conversation_id == convo_id]"
   ]
  },
  {
   "cell_type": "markdown",
   "metadata": {
    "collapsed": true
   },
   "source": [
    "# INVESTIGATE MESSAGES SENT BY A UID"
   ]
  },
  {
   "cell_type": "code",
   "execution_count": null,
   "metadata": {
    "collapsed": true
   },
   "outputs": [],
   "source": [
    "goal_uid = ''\n",
    "\n",
    "for conversation_id, conversation_data in data[\"conversations\"].items():\n",
    "    for message_id, message_data in conversation_data.items():\n",
    "#         print(message_data)\n",
    "        if information.uid == goal_uid:\n",
    "            print(information['text'])\n",
    "            \n",
    "# message_df[message_df.conversation_id == convo_id]"
   ]
  },
  {
   "cell_type": "code",
   "execution_count": null,
   "metadata": {
    "collapsed": true
   },
   "outputs": [],
   "source": [
    "goal_uid = ''\n",
    "\n",
    "for conversation_id, conversation_data in data[\"conversations\"].items():\n",
    "    for message_id, message_data in conversation_data.items():\n",
    "        try:\n",
    "            if message_data['uid']==goal_uid:\n",
    "                print(information['text'])\n",
    "        except:\n",
    "            pass"
   ]
  },
  {
   "cell_type": "code",
   "execution_count": null,
   "metadata": {
    "collapsed": true
   },
   "outputs": [],
   "source": []
  }
 ],
 "metadata": {
  "kernelspec": {
   "display_name": "Python 3",
   "language": "python",
   "name": "python3"
  },
  "language_info": {
   "codemirror_mode": {
    "name": "ipython",
    "version": 3
   },
   "file_extension": ".py",
   "mimetype": "text/x-python",
   "name": "python",
   "nbconvert_exporter": "python",
   "pygments_lexer": "ipython3",
   "version": "3.6.3"
  }
 },
 "nbformat": 4,
 "nbformat_minor": 2
}
