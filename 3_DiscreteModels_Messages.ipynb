{
 "cells": [
  {
   "cell_type": "markdown",
   "metadata": {},
   "source": [
    "## INCLUDES:\n",
    "\n",
    "# LOGISTIC REGRESSION\n",
    "\n",
    "# DECISION TREE CLASSIFIER\n",
    "\n",
    "# RANDOM FOREST CLASSIFIER\n",
    "\n",
    "# GRADIENT BOOSTING CLASSIFIER"
   ]
  },
  {
   "cell_type": "code",
   "execution_count": 1,
   "metadata": {
    "collapsed": true
   },
   "outputs": [],
   "source": [
    "import pandas as pd\n",
    "import numpy as np\n",
    "import matplotlib.pyplot as plt\n",
    "\n",
    "import my_pickle as mp\n",
    "import my_resample as ms\n",
    "\n",
    "from sklearn.model_selection import train_test_split\n",
    "from sklearn.preprocessing import StandardScaler\n",
    "from sklearn.ensemble import RandomForestClassifier\n",
    "from sklearn.tree import DecisionTreeClassifier\n",
    "from sklearn.ensemble import GradientBoostingClassifier\n",
    "from sklearn.linear_model import LogisticRegression\n",
    "from sklearn.metrics import confusion_matrix, precision_score, recall_score\n",
    "\n",
    "from sklearn.ensemble.partial_dependence import plot_partial_dependence\n",
    "# from sklearn.model_selection import GridSearchCV\n",
    "\n",
    "# from sklearn.model_selection import KFold\n",
    "# from sklearn.metrics import roc_curve, auc\n",
    "# from scipy import interp\n",
    "# from random import *\n",
    "# import matplotlib.pyplot as plt\n",
    "# %matplotlib inline\n",
    "\n",
    "# from sklearn.ensemble.partial_dependence import plot_partial_dependence\n",
    "# from sklearn.ensemble.partial_dependence import partial_dependence"
   ]
  },
  {
   "cell_type": "code",
   "execution_count": 10,
   "metadata": {
    "collapsed": true
   },
   "outputs": [],
   "source": [
    "X = mp.unjson_it('data_X')\n",
    "y = mp.unjson_it('data_y')['response']"
   ]
  },
  {
   "cell_type": "code",
   "execution_count": 6,
   "metadata": {},
   "outputs": [],
   "source": [
    "text_similarity_df = mp.unjson_it('data_text_similarity')\n",
    "X['count_similarity'] = text_similarity_df['count_similarity']\n",
    "X['tfidf_similarity'] = text_similarity_df['tfidf_similarity']"
   ]
  },
  {
   "cell_type": "code",
   "execution_count": 7,
   "metadata": {},
   "outputs": [
    {
     "data": {
      "text/html": [
       "<div>\n",
       "<style>\n",
       "    .dataframe thead tr:only-child th {\n",
       "        text-align: right;\n",
       "    }\n",
       "\n",
       "    .dataframe thead th {\n",
       "        text-align: left;\n",
       "    }\n",
       "\n",
       "    .dataframe tbody tr th {\n",
       "        vertical-align: top;\n",
       "    }\n",
       "</style>\n",
       "<table border=\"1\" class=\"dataframe\">\n",
       "  <thead>\n",
       "    <tr style=\"text-align: right;\">\n",
       "      <th></th>\n",
       "      <th>I_count_receiver</th>\n",
       "      <th>I_count_sender</th>\n",
       "      <th>age_dif</th>\n",
       "      <th>age_receiver</th>\n",
       "      <th>age_sender</th>\n",
       "      <th>amenities_overlap</th>\n",
       "      <th>distance</th>\n",
       "      <th>exclaim_count_receiver</th>\n",
       "      <th>exclaim_count_sender</th>\n",
       "      <th>gender_receiver</th>\n",
       "      <th>...</th>\n",
       "      <th>smokingOk_receiver</th>\n",
       "      <th>smokingOk_sender</th>\n",
       "      <th>term_receiver</th>\n",
       "      <th>term_sender</th>\n",
       "      <th>type_receiver</th>\n",
       "      <th>type_sender</th>\n",
       "      <th>urgency_receiver</th>\n",
       "      <th>urgency_sender</th>\n",
       "      <th>count_similarity</th>\n",
       "      <th>tfidf_similarity</th>\n",
       "    </tr>\n",
       "  </thead>\n",
       "  <tbody>\n",
       "    <tr>\n",
       "      <th>02sjTzcsaO02omVxM8Xm</th>\n",
       "      <td>0</td>\n",
       "      <td>0.0</td>\n",
       "      <td>3.0</td>\n",
       "      <td>25</td>\n",
       "      <td>22.0</td>\n",
       "      <td>0</td>\n",
       "      <td>37.806874</td>\n",
       "      <td>0</td>\n",
       "      <td>0.0</td>\n",
       "      <td>0</td>\n",
       "      <td>...</td>\n",
       "      <td>1</td>\n",
       "      <td>1.0</td>\n",
       "      <td>6.0</td>\n",
       "      <td>11.450264</td>\n",
       "      <td>1.000000</td>\n",
       "      <td>0.862843</td>\n",
       "      <td>1.723056e+09</td>\n",
       "      <td>-6.768931e+09</td>\n",
       "      <td>0</td>\n",
       "      <td>0.0</td>\n",
       "    </tr>\n",
       "    <tr>\n",
       "      <th>07Aj9wLBPC013LzOrVju</th>\n",
       "      <td>0</td>\n",
       "      <td>2.0</td>\n",
       "      <td>6.0</td>\n",
       "      <td>24</td>\n",
       "      <td>30.0</td>\n",
       "      <td>1</td>\n",
       "      <td>5.482670</td>\n",
       "      <td>0</td>\n",
       "      <td>1.0</td>\n",
       "      <td>1</td>\n",
       "      <td>...</td>\n",
       "      <td>0</td>\n",
       "      <td>1.0</td>\n",
       "      <td>2.0</td>\n",
       "      <td>4.000000</td>\n",
       "      <td>1.000000</td>\n",
       "      <td>0.862843</td>\n",
       "      <td>2.679062e+09</td>\n",
       "      <td>2.624028e+08</td>\n",
       "      <td>0</td>\n",
       "      <td>0.0</td>\n",
       "    </tr>\n",
       "    <tr>\n",
       "      <th>07lVtClAEQ01iDVeaXl1</th>\n",
       "      <td>6</td>\n",
       "      <td>0.0</td>\n",
       "      <td>5.0</td>\n",
       "      <td>20</td>\n",
       "      <td>25.0</td>\n",
       "      <td>3</td>\n",
       "      <td>1.207884</td>\n",
       "      <td>2</td>\n",
       "      <td>0.0</td>\n",
       "      <td>0</td>\n",
       "      <td>...</td>\n",
       "      <td>1</td>\n",
       "      <td>1.0</td>\n",
       "      <td>13.0</td>\n",
       "      <td>12.000000</td>\n",
       "      <td>0.909091</td>\n",
       "      <td>1.000000</td>\n",
       "      <td>-4.618784e+08</td>\n",
       "      <td>3.196406e+08</td>\n",
       "      <td>0</td>\n",
       "      <td>0.0</td>\n",
       "    </tr>\n",
       "    <tr>\n",
       "      <th>0AFU6guKDt01iDVeaXl1</th>\n",
       "      <td>1</td>\n",
       "      <td>0.0</td>\n",
       "      <td>3.0</td>\n",
       "      <td>22</td>\n",
       "      <td>25.0</td>\n",
       "      <td>2</td>\n",
       "      <td>41.182387</td>\n",
       "      <td>0</td>\n",
       "      <td>0.0</td>\n",
       "      <td>0</td>\n",
       "      <td>...</td>\n",
       "      <td>0</td>\n",
       "      <td>1.0</td>\n",
       "      <td>12.0</td>\n",
       "      <td>12.000000</td>\n",
       "      <td>1.000000</td>\n",
       "      <td>1.000000</td>\n",
       "      <td>2.679062e+09</td>\n",
       "      <td>3.196002e+08</td>\n",
       "      <td>0</td>\n",
       "      <td>0.0</td>\n",
       "    </tr>\n",
       "    <tr>\n",
       "      <th>0AFU6guKDt01mfWG4vUm</th>\n",
       "      <td>0</td>\n",
       "      <td>1.0</td>\n",
       "      <td>4.0</td>\n",
       "      <td>26</td>\n",
       "      <td>22.0</td>\n",
       "      <td>1</td>\n",
       "      <td>46.212738</td>\n",
       "      <td>0</td>\n",
       "      <td>0.0</td>\n",
       "      <td>1</td>\n",
       "      <td>...</td>\n",
       "      <td>0</td>\n",
       "      <td>0.0</td>\n",
       "      <td>12.0</td>\n",
       "      <td>12.000000</td>\n",
       "      <td>1.000000</td>\n",
       "      <td>1.000000</td>\n",
       "      <td>2.679062e+09</td>\n",
       "      <td>-6.768931e+09</td>\n",
       "      <td>0</td>\n",
       "      <td>0.0</td>\n",
       "    </tr>\n",
       "  </tbody>\n",
       "</table>\n",
       "<p>5 rows × 73 columns</p>\n",
       "</div>"
      ],
      "text/plain": [
       "                      I_count_receiver  I_count_sender  age_dif  age_receiver  \\\n",
       "02sjTzcsaO02omVxM8Xm                 0             0.0      3.0            25   \n",
       "07Aj9wLBPC013LzOrVju                 0             2.0      6.0            24   \n",
       "07lVtClAEQ01iDVeaXl1                 6             0.0      5.0            20   \n",
       "0AFU6guKDt01iDVeaXl1                 1             0.0      3.0            22   \n",
       "0AFU6guKDt01mfWG4vUm                 0             1.0      4.0            26   \n",
       "\n",
       "                      age_sender  amenities_overlap   distance  \\\n",
       "02sjTzcsaO02omVxM8Xm        22.0                  0  37.806874   \n",
       "07Aj9wLBPC013LzOrVju        30.0                  1   5.482670   \n",
       "07lVtClAEQ01iDVeaXl1        25.0                  3   1.207884   \n",
       "0AFU6guKDt01iDVeaXl1        25.0                  2  41.182387   \n",
       "0AFU6guKDt01mfWG4vUm        22.0                  1  46.212738   \n",
       "\n",
       "                      exclaim_count_receiver  exclaim_count_sender  \\\n",
       "02sjTzcsaO02omVxM8Xm                       0                   0.0   \n",
       "07Aj9wLBPC013LzOrVju                       0                   1.0   \n",
       "07lVtClAEQ01iDVeaXl1                       2                   0.0   \n",
       "0AFU6guKDt01iDVeaXl1                       0                   0.0   \n",
       "0AFU6guKDt01mfWG4vUm                       0                   0.0   \n",
       "\n",
       "                      gender_receiver        ...         smokingOk_receiver  \\\n",
       "02sjTzcsaO02omVxM8Xm                0        ...                          1   \n",
       "07Aj9wLBPC013LzOrVju                1        ...                          0   \n",
       "07lVtClAEQ01iDVeaXl1                0        ...                          1   \n",
       "0AFU6guKDt01iDVeaXl1                0        ...                          0   \n",
       "0AFU6guKDt01mfWG4vUm                1        ...                          0   \n",
       "\n",
       "                      smokingOk_sender  term_receiver  term_sender  \\\n",
       "02sjTzcsaO02omVxM8Xm               1.0            6.0    11.450264   \n",
       "07Aj9wLBPC013LzOrVju               1.0            2.0     4.000000   \n",
       "07lVtClAEQ01iDVeaXl1               1.0           13.0    12.000000   \n",
       "0AFU6guKDt01iDVeaXl1               1.0           12.0    12.000000   \n",
       "0AFU6guKDt01mfWG4vUm               0.0           12.0    12.000000   \n",
       "\n",
       "                      type_receiver  type_sender  urgency_receiver  \\\n",
       "02sjTzcsaO02omVxM8Xm       1.000000     0.862843      1.723056e+09   \n",
       "07Aj9wLBPC013LzOrVju       1.000000     0.862843      2.679062e+09   \n",
       "07lVtClAEQ01iDVeaXl1       0.909091     1.000000     -4.618784e+08   \n",
       "0AFU6guKDt01iDVeaXl1       1.000000     1.000000      2.679062e+09   \n",
       "0AFU6guKDt01mfWG4vUm       1.000000     1.000000      2.679062e+09   \n",
       "\n",
       "                      urgency_sender  count_similarity  tfidf_similarity  \n",
       "02sjTzcsaO02omVxM8Xm   -6.768931e+09                 0               0.0  \n",
       "07Aj9wLBPC013LzOrVju    2.624028e+08                 0               0.0  \n",
       "07lVtClAEQ01iDVeaXl1    3.196406e+08                 0               0.0  \n",
       "0AFU6guKDt01iDVeaXl1    3.196002e+08                 0               0.0  \n",
       "0AFU6guKDt01mfWG4vUm   -6.768931e+09                 0               0.0  \n",
       "\n",
       "[5 rows x 73 columns]"
      ]
     },
     "execution_count": 7,
     "metadata": {},
     "output_type": "execute_result"
    }
   ],
   "source": [
    "X.head()"
   ]
  },
  {
   "cell_type": "markdown",
   "metadata": {},
   "source": [
    "# MAIN FN"
   ]
  },
  {
   "cell_type": "code",
   "execution_count": 8,
   "metadata": {
    "collapsed": true
   },
   "outputs": [],
   "source": [
    "def my_pipeline(model, lst, verbose=False):\n",
    "    \n",
    "    # train test split\n",
    "    X_train, X_test, y_train, y_test = train_test_split(X.as_matrix(), y.as_matrix(), random_state=17)\n",
    "\n",
    "    # resample\n",
    "    X_train, y_train = ms.oversample(X_train, y_train, .5)\n",
    "\n",
    "    # scale data\n",
    "    scaler = StandardScaler()\n",
    "    scaler.fit(X_train)\n",
    "    X_train = scaler.transform(X_train)\n",
    "    X_test = scaler.transform(X_test)\n",
    "    \n",
    "    # fit data\n",
    "    model.fit(X_train, y_train)\n",
    "    y_pred = model.predict(X_test)\n",
    "\n",
    "    \n",
    "#     clf = GradientBoostingRegressor(n_estimators=10).fit(X, y)\n",
    "    try:\n",
    "        fig, axs = plot_partial_dependence(model, X_train, lst) \n",
    "        plt.show()\n",
    "    except:\n",
    "        pass\n",
    "        \n",
    "    if verbose:\n",
    "        print(\"\\nMETRICS\")\n",
    "        print(\"Model recall: {}\".format(recall_score(y_test, y_pred)))\n",
    "        print(\"Model precision: {}\".format(precision_score(y_test, y_pred)))\n",
    "        print(\"Model accuracy: {}\".format(model.score(X_test, y_test)))\n",
    "\n",
    "        print (\"\\nCONFUSION MATRIX\")\n",
    "        print (confusion_matrix(y_test, y_pred))\n",
    "        print (\"\\nkey:\")\n",
    "        print (\" TN   FP \")\n",
    "        print (\" FN   TP \")\n",
    "\n",
    "        pred_all_0 = [0]*len(y_test)\n",
    "        pred_all_1 = [1]*len(y_test)\n",
    "        pred_50_50 = np.random.choice([0,1], size=len(y_test))\n",
    "        pred_90_10 = np.random.choice([0,1], size=len(y_test), p=[.9,.1])\n",
    "        \n",
    "        print(\"\\nRECALL AND ACCURACY FOR DIFFERNET MODELS\")\n",
    "        print(\"recall     \\t precision   \\tmodel\")\n",
    "        print(recall_score(y_test, y_pred), '\\t',precision_score(y_test, y_pred), \"my model\")\n",
    "        print(recall_score(y_test, pred_all_0),'\\t','\\t', precision_score(y_test, pred_all_0), \"\\t\\tpredict all zero\")\n",
    "        print(recall_score(y_test, pred_all_1),'\\t','\\t', precision_score(y_test, pred_all_1), \"predict all one\")\n",
    "        print(recall_score(y_test, pred_50_50),'\\t', precision_score(y_test, pred_50_50), \"predict 50-50\")\n",
    "        print(recall_score(y_test, pred_90_10), precision_score(y_test, pred_90_10), \"predict 90-10\")\n",
    "        \n",
    "    return recall_score(y_test, y_pred), precision_score(y_test, y_pred), model.score(X_test, y_test)\n",
    "\n"
   ]
  },
  {
   "cell_type": "markdown",
   "metadata": {},
   "source": [
    "# RANDOM FOREST CLASSIFIER"
   ]
  },
  {
   "cell_type": "code",
   "execution_count": null,
   "metadata": {},
   "outputs": [],
   "source": [
    "model = RandomForestClassifier(max_depth=50, max_features=None, min_samples_leaf=3, n_estimators=100, n_jobs=-1)\n",
    "my_pipeline(model, [70], True)\n",
    "\n",
    "feature_importances = np.argsort(model.feature_importances_)\n",
    "top_n = len(feature_importances)\n",
    "print(\"\\nFEATURE RANKINGS\")\n",
    "for n in range(top_n):\n",
    "    print(n+1, '\\t',X.columns[feature_importances[-n-1]], '\\t',sorted(model.feature_importances_)[-n-1])"
   ]
  },
  {
   "cell_type": "markdown",
   "metadata": {},
   "source": [
    "# GRADIENT BOOSTING CLASSIFIER"
   ]
  },
  {
   "cell_type": "code",
   "execution_count": 11,
   "metadata": {},
   "outputs": [
    {
     "data": {
      "image/png": "[encoded data removed]",
      "text/plain": [
       "<matplotlib.figure.Figure at 0x1a1ad7edd8>"
      ]
     },
     "metadata": {},
     "output_type": "display_data"
    },
    {
     "name": "stdout",
     "output_type": "stream",
     "text": [
      "\n",
      "METRICS\n",
      "Model recall: 0.5870307167235495\n",
      "Model precision: 0.21799746514575413\n",
      "Model accuracy: 0.7347232207045291\n",
      "\n",
      "CONFUSION MATRIX\n",
      "[[1872  617]\n",
      " [ 121  172]]\n",
      "\n",
      "key:\n",
      " TN   FP \n",
      " FN   TP \n",
      "\n",
      "RECALL AND ACCURACY FOR DIFFERNET MODELS\n",
      "recall     \t precision   \tmodel\n",
      "0.587030716724 \t 0.217997465146 my model\n",
      "0.0 \t \t 0.0 \t\tpredict all zero\n",
      "1.0 \t \t 0.105319913731 predict all one\n",
      "0.508532423208 \t 0.10405027933 predict 50-50\n",
      "0.0887372013652 0.0962962962963 predict 90-10\n",
      "\n",
      "FEATURE RANKINGS\n",
      "1 \t len_about_receiver \t 0.0930369972405 \t 30\n",
      "2 \t urgency_receiver \t 0.0906692909373 \t 69\n",
      "3 \t urgency_sender \t 0.0867761427414 \t 70\n",
      "4 \t age_receiver \t 0.0674039191321 \t 3\n",
      "5 \t distance \t 0.0620416513461 \t 6\n",
      "6 \t isStudent_receiver \t 0.0489463580754 "
     ]
    },
    {
     "name": "stderr",
     "output_type": "stream",
     "text": [
      "/Users/gandalf/anaconda3/lib/python3.6/site-packages/sklearn/metrics/classification.py:1135: UndefinedMetricWarning: Precision is ill-defined and being set to 0.0 due to no predicted samples.\n",
      "  'precision', 'predicted', average, warn_for)\n"
     ]
    },
    {
     "name": "stdout",
     "output_type": "stream",
     "text": [
      "\t 28\n",
      "7 \t maxCost_receiver \t 0.0445270412433 \t 32\n",
      "8 \t numRoommates_receiver \t 0.0394303745811 \t 37\n",
      "9 \t hobbies_overlap \t 0.0347031187559 \t 21\n",
      "10 \t age_dif \t 0.0282207582392 \t 2\n",
      "11 \t term_sender \t 0.0272234536842 \t 66\n",
      "12 \t gender_sender \t 0.0253717537992 \t 10\n",
      "13 \t minCost_receiver \t 0.0212824489711 \t 34\n",
      "14 \t minCost_sender \t 0.0206101347966 \t 35\n",
      "15 \t isStudent_sender \t 0.0201350845155 \t 29\n",
      "16 \t age_sender \t 0.018686385865 \t 4\n",
      "17 \t I_count_receiver \t 0.0179074061981 \t 0\n",
      "18 \t period_count_receiver \t 0.0167457020288 \t 39\n",
      "19 \t sentence_count_receiver \t 0.0164845968154 \t 61\n",
      "20 \t maxCost_sender \t 0.0164477679113 \t 33\n",
      "21 \t len_about_sender \t 0.0147366907073 \t 31\n",
      "22 \t isClean_receiver \t 0.0113353428277 \t 24\n",
      "23 \t has_room_receiver \t 0.011113443599 \t 19\n",
      "24 \t has_facebookId_receiver \t 0.0108579589806 \t 13\n",
      "25 \t same_gender \t 0.0102963491176 \t 51\n",
      "26 \t term_receiver \t 0.0102107839313 \t 65\n",
      "27 \t exclaim_count_receiver \t 0.00989807542121 \t 7\n",
      "28 \t exclaim_count_sender \t 0.00988808330588 \t 8\n",
      "29 \t rent_overlap \t 0.00958677385962 \t 45\n",
      "30 \t has_facebookId_sender \t 0.00927927967078 \t 14\n",
      "31 \t neighborhoods_overlap \t 0.00834820442678 \t 36\n",
      "32 \t same_metro \t 0.00674791241736 \t 52\n",
      "33 \t gender_receiver \t 0.0061593289321 \t 9\n",
      "34 \t has_picture_sender \t 0.00615891726552 \t 18\n",
      "35 \t amenities_overlap \t 0.00599403921995 \t 5\n",
      "36 \t isNight_sender \t 0.00536669779424 \t 27\n",
      "37 \t same_type \t 0.00520913798493 \t 59\n",
      "38 \t numRoommates_sender \t 0.00489641291935 \t 38\n",
      "39 \t I_count_sender \t 0.00488986932804 \t 1\n",
      "40 \t type_sender \t 0.00483618244218 \t 68\n",
      "41 \t question_count_sender \t 0.00349655274185 \t 44\n",
      "42 \t type_receiver \t 0.00343347102168 \t 67\n",
      "43 \t same_relate \t 0.00332070389632 \t 54\n",
      "44 \t petsOk_sender \t 0.00320037621494 \t 42\n",
      "45 \t has_room_sender \t 0.00290223553949 \t 20\n",
      "46 \t smokingOk_sender \t 0.00288881706688 \t 64\n",
      "47 \t question_count_receiver \t 0.00279297685104 \t 43\n",
      "48 \t inRelationship_sender \t 0.00273961763167 \t 23\n",
      "49 \t sentence_count_sender \t 0.00230883521164 \t 62\n",
      "50 \t period_count_sender \t 0.00214178978329 \t 40\n",
      "51 \t isClean_sender \t 0.00211411888881 \t 25\n",
      "52 \t same_term \t 0.00147968407493 \t 58\n",
      "53 \t same_night \t 0.00144144967964 \t 53\n",
      "54 \t roommate_similarity \t 0.00121229296894 \t 46\n",
      "55 \t has_picture_receiver \t 0.000776871127289 \t 17\n",
      "56 \t same_student \t 0.000554101879779 \t 57\n",
      "57 \t has_about_receiver \t 0.000468476445421 \t 11\n",
      "58 \t same_college \t 0.000267757947189 \t 49\n",
      "59 \t same_country \t 0.0 \t 50\n",
      "60 \t same_clean \t 0.0 \t 48\n",
      "61 \t same_city \t 0.0 \t 47\n",
      "62 \t petsOk_receiver \t 0.0 \t 41\n",
      "63 \t smokingOk_receiver \t 0.0 \t 63\n",
      "64 \t inRelationship_receiver \t 0.0 \t 22\n",
      "65 \t has_about_sender \t 0.0 \t 12\n",
      "66 \t same_work \t 0.0 \t 60\n",
      "67 \t same_smoking \t 0.0 \t 55\n",
      "68 \t has_linkedinId_receiver \t 0.0 \t 15\n",
      "69 \t has_linkedinId_sender \t 0.0 \t 16\n",
      "70 \t isNight_receiver \t 0.0 \t 26\n",
      "71 \t same_state \t 0.0 \t 56\n"
     ]
    }
   ],
   "source": [
    "model = GradientBoostingClassifier()\n",
    "my_pipeline(model, [3], True)\n",
    "\n",
    "feature_importances = np.argsort(model.feature_importances_)\n",
    "top_n = len(feature_importances)\n",
    "print(\"\\nFEATURE RANKINGS\")\n",
    "for n in range(top_n):\n",
    "    print(n+1, '\\t',X.columns[feature_importances[-n-1]], '\\t',sorted(model.feature_importances_)[-n-1],'\\t',feature_importances[-n-1])"
   ]
  },
  {
   "cell_type": "code",
   "execution_count": null,
   "metadata": {},
   "outputs": [],
   "source": []
  },
  {
   "cell_type": "markdown",
   "metadata": {},
   "source": [
    "# DECISION TREE CLASSIFIER"
   ]
  },
  {
   "cell_type": "code",
   "execution_count": null,
   "metadata": {},
   "outputs": [],
   "source": [
    "model = DecisionTreeClassifier()\n",
    "my_pipeline(model)\n",
    "\n",
    "feature_importances = np.argsort(model.feature_importances_)\n",
    "top_n = 10\n",
    "print(\"\\nFEATURE RANKINGS\")\n",
    "for n in range(top_n):\n",
    "    print(n+1, '\\t',X.columns[feature_importances[-n-1]], '\\t',sorted(model.feature_importances_)[-n-1])"
   ]
  },
  {
   "cell_type": "markdown",
   "metadata": {},
   "source": [
    "# LOGISTIC REGRESSION"
   ]
  },
  {
   "cell_type": "code",
   "execution_count": null,
   "metadata": {},
   "outputs": [],
   "source": [
    "model = LogisticRegression()\n",
    "my_pipeline(model)"
   ]
  },
  {
   "cell_type": "code",
   "execution_count": null,
   "metadata": {
    "collapsed": true
   },
   "outputs": [],
   "source": [
    "results_df = pd.DataFrame([X.columns,model.coef_[0]]).T\n",
    "results_df.columns = ['feature','coefficients']\n",
    "results_df['abs_val'] = results_df.coefficients.apply(abs)\n",
    "results_df['sign'] = results_df.coefficients.apply(lambda s: s>0)"
   ]
  },
  {
   "cell_type": "code",
   "execution_count": null,
   "metadata": {},
   "outputs": [],
   "source": [
    "results_df.head().sort_values('abs_val', ascending=False)"
   ]
  },
  {
   "cell_type": "code",
   "execution_count": null,
   "metadata": {},
   "outputs": [],
   "source": [
    "results_df.set_index('feature').loc['age_receiver'].sign"
   ]
  },
  {
   "cell_type": "code",
   "execution_count": null,
   "metadata": {
    "collapsed": true
   },
   "outputs": [],
   "source": []
  },
  {
   "cell_type": "code",
   "execution_count": null,
   "metadata": {
    "collapsed": true
   },
   "outputs": [],
   "source": []
  },
  {
   "cell_type": "code",
   "execution_count": null,
   "metadata": {
    "collapsed": true
   },
   "outputs": [],
   "source": [
    "def do_grid_search(X, y):\n",
    "    '''\n",
    "    X as 2d numpy array\n",
    "    y as 1d numpy array\n",
    "    \n",
    "    PARAMETERS\n",
    "    n_estimators: The number of trees in the forest\n",
    "    criterion: gini or entropy\n",
    "    max_features: The number of features to consider when looking for the best split\n",
    "        If int, then consider max_features features at each split.\n",
    "        If float, then max_features is a percentage and int(max_features * n_features) features are considered at each split.\n",
    "        If “auto”, then max_features=sqrt(n_features).\n",
    "        If “sqrt”, then max_features=sqrt(n_features) (same as “auto”).\n",
    "        If “log2”, then max_features=log2(n_features).\n",
    "        If None, then max_features=n_features.\n",
    "    max_depth: The maximum depth of the tree\n",
    "    n_jobs: The number of jobs to run in parallel for both fit and predict. If -1, then the number of jobs is set to the number of cores.\n",
    "    '''\n",
    "    \n",
    "    # Split it up into our training and testing sets\n",
    "    X_train, X_test, y_train, y_test = train_test_split(X, y)\n",
    "\n",
    "    # resample\n",
    "    X_train, y_train = ms.oversample(X_train.as_matrix(), y_train.as_matrix(), .5)\n",
    "    \n",
    "    # Initalize our model here\n",
    "    model = RandomForestClassifier()\n",
    "\n",
    "    # Here are the params we are tuning\n",
    "    param_grid = {'max_features' : [None],\n",
    "                  'n_estimators' : [50,100,1000],\n",
    "                  'max_depth': [50],\n",
    "                  'min_samples_leaf': [3]\n",
    "                  }\n",
    "\n",
    "    # Plug in our model, params dict, and the number of jobs, then .fit()\n",
    "    gs_cv = GridSearchCV(model, param_grid, n_jobs=-1).fit(X_train, y_train)\n",
    "\n",
    "    # return the best score and the best params\n",
    "    return gs_cv.best_score_, gs_cv.best_params_"
   ]
  },
  {
   "cell_type": "code",
   "execution_count": null,
   "metadata": {
    "collapsed": true
   },
   "outputs": [],
   "source": [
    "%%time\n",
    "model = RandomForestClassifier(max_depth=50, max_features=None, min_samples_leaf=3, n_estimators=100, n_jobs=-1)\n",
    "fit_model(model, X, y)"
   ]
  },
  {
   "cell_type": "code",
   "execution_count": null,
   "metadata": {
    "collapsed": true
   },
   "outputs": [],
   "source": [
    "%%time\n",
    "n = do_grid_search(X, y)\n",
    "print(n)"
   ]
  },
  {
   "cell_type": "code",
   "execution_count": null,
   "metadata": {
    "collapsed": true
   },
   "outputs": [],
   "source": [
    "%%time\n",
    "model = LogisticRegression()\n",
    "fit_model(model, X, y)"
   ]
  },
  {
   "cell_type": "code",
   "execution_count": null,
   "metadata": {
    "collapsed": true
   },
   "outputs": [],
   "source": [
    "\n",
    "print (\"    Decision Tree:       \", get_scores(DecisionTreeClassifier, X_train, X_test, y_train, y_test))\n",
    "print (\"    Naive Bayes:         \", get_scores(MultinomialNB, X_train, X_test, y_train, y_test))"
   ]
  },
  {
   "cell_type": "code",
   "execution_count": null,
   "metadata": {
    "collapsed": true
   },
   "outputs": [],
   "source": [
    "# Calculate the standard deviation for feature importances across all trees\n",
    "\n",
    "n = len(X.columns)\n",
    "\n",
    "#importances = forest_fit.feature_importances_[:n]\n",
    "importances = model.feature_importances_[:n]\n",
    "std = np.std([tree.feature_importances_ for tree in model.estimators_],\n",
    "             axis=0)\n",
    "indices = np.argsort(importances)[::-1]\n",
    "features = list(X.columns[indices])\n",
    "\n",
    "# print(\"Feature ranking:\")\n",
    "# for f in range(n):\n",
    "#     print(\"%d. %s (%f)\" % (f + 1, features[f], importances[indices[f]]))\n",
    "\n",
    "# Plot the feature importances of the forest\n",
    "plt.figure(figsize=(16,12))\n",
    "plt.title(\"Feature importances\")\n",
    "plt.bar(range(n), importances[indices], yerr=std[indices], color=\"r\", align=\"edge\", width = -.9)\n",
    "plt.xticks(range(n), features, rotation=-75)\n",
    "plt.xlim([-1, n])\n",
    "plt.show()"
   ]
  },
  {
   "cell_type": "code",
   "execution_count": null,
   "metadata": {
    "collapsed": true
   },
   "outputs": [],
   "source": [
    "# Try modifying the number of trees, graph results\n",
    "num_trees = range(5, 50, 5)\n",
    "accuracies = []\n",
    "for n in num_trees:\n",
    "    tot = 0\n",
    "    for i in range(5):\n",
    "        rf = RandomForestClassifier(n_estimators=n)\n",
    "        rf.fit(X_train, y_train)\n",
    "        tot += rf.score(X_test, y_test)\n",
    "    accuracies.append(tot / 5)\n",
    "plt.plot(num_trees, accuracies)\n",
    "plt.xlabel=\"num_trees\"\n",
    "plt.ylabel=\"accuracy\"\n",
    "plt.show()"
   ]
  },
  {
   "cell_type": "code",
   "execution_count": null,
   "metadata": {
    "collapsed": true
   },
   "outputs": [],
   "source": [
    "# Modifying the max features parameter\n",
    "for nn in range(10):\n",
    "    num_features = range(2, len(X.columns))\n",
    "    accuracies = []\n",
    "    for n in num_features:\n",
    "        tot = 0\n",
    "        for i in range(5):\n",
    "            rf = RandomForestClassifier(max_features=n)\n",
    "            rf.fit(X_train, y_train)\n",
    "            tot += rf.score(X_test, y_test)\n",
    "        accuracies.append(tot / 5)\n",
    "    plt.plot(num_features, accuracies)\n",
    "    plt.xlabel=\"num_features\"\n",
    "    plt.ylabel=\"accuracy\"\n",
    "plt.show()"
   ]
  },
  {
   "cell_type": "code",
   "execution_count": null,
   "metadata": {
    "collapsed": true
   },
   "outputs": [],
   "source": [
    "# Run all the other classifiers that we have learned so far in class\n",
    "def get_scores(classifier, X_train, X_test, y_train, y_test, **kwargs):\n",
    "    model = classifier(**kwargs)\n",
    "    model.fit(X_train, y_train)\n",
    "    y_predict = model.predict(X_test)\n",
    "    return model.score(X_test, y_test), \\\n",
    "           precision_score(y_test, y_predict), \\\n",
    "           recall_score(y_test, y_predict)\n",
    "\n",
    "print (\"    Model,                Accuracy, Precision, Recall\")\n",
    "print (\"    Random Forest:       \", get_scores(RandomForestClassifier, X_train, X_test, y_train, y_test, n_estimators=25, max_features=5))\n",
    "print (\"    Logistic Regression: \", get_scores(LogisticRegression, X_train, X_test, y_train, y_test))\n",
    "print (\"    Decision Tree:       \", get_scores(DecisionTreeClassifier, X_train, X_test, y_train, y_test))\n",
    "print (\"    Naive Bayes:         \", get_scores(MultinomialNB, X_train, X_test, y_train, y_test))"
   ]
  },
  {
   "cell_type": "code",
   "execution_count": null,
   "metadata": {
    "collapsed": true
   },
   "outputs": [],
   "source": [
    "def plot_roc(X, y, clf_class, title, **kwargs):\n",
    "# def plot_roc(X, y, clf_class, kwargs):\n",
    "    scaler = StandardScaler()\n",
    "    X = scaler.fit_transform(X)\n",
    "    kf = KFold(len(y), n_folds=5, shuffle=True)\n",
    "    y_prob = np.zeros((len(y),2))\n",
    "    mean_tpr = 0.0\n",
    "    mean_fpr = np.linspace(0, 1, 100)\n",
    "    all_tpr = []\n",
    "    for i, (train_index, test_index) in enumerate(kf):\n",
    "        X_train, X_test = X[train_index], X[test_index]\n",
    "        y_train = y[train_index]\n",
    "        clf = clf_class(**kwargs)\n",
    "        clf.fit(X_train,y_train)\n",
    "        # Predict probabilities, not classes\n",
    "        y_prob[test_index] = clf.predict_proba(X_test)\n",
    "        fpr, tpr, thresholds = roc_curve(y[test_index], y_prob[test_index, 1])\n",
    "        mean_tpr += interp(mean_fpr, fpr, tpr)\n",
    "        mean_tpr[0] = 0.0\n",
    "        roc_auc = auc(fpr, tpr)\n",
    "        plt.plot(fpr, tpr, lw=1, label='ROC fold %d (area = %0.2f)' % (i, roc_auc))\n",
    "    mean_tpr /= len(kf)\n",
    "    mean_tpr[-1] = 1.0\n",
    "    mean_auc = auc(mean_fpr, mean_tpr)\n",
    "    plt.plot(mean_fpr, mean_tpr, 'k--',label='Mean ROC (area = %0.2f)' % mean_auc, lw=2)\n",
    "\n",
    "    plt.plot([0, 1], [0, 1], '--', color=(0.6, 0.6, 0.6), label='Random')\n",
    "    plt.xlim([-0.05, 1.05])\n",
    "    plt.ylim([-0.05, 1.05])\n",
    "#     plt.xlabel('False Positive Rate')\n",
    "#     plt.ylabel('True Positive Rate')\n",
    "    plt.title(title + 'ROC')\n",
    "    plt.legend(loc=\"lower right\")\n",
    "    plt.show()"
   ]
  },
  {
   "cell_type": "code",
   "execution_count": null,
   "metadata": {
    "collapsed": true
   },
   "outputs": [],
   "source": [
    "xfake, yfake = np.random.rand(100,6), np.random.randint(0,2, size=(100,))\n",
    "plt.figure(figsize=(20,16))\n",
    "print (\"Visualize the roc curve of each model\")\n",
    "plot_roc(xfake, yfake, RandomForestClassifier, 'Random_Forest', n_estimators=25, max_features=5)\n",
    "#plot_roc(X, y, LogisticRegression, 'Logistic_Regrssion')\n",
    "#plot_roc(X, y, DecisionTreeClassifier, 'Decision_Tree')\n",
    "#plot_roc(X, y, MultinomialNB, 'Naive_Bayes') error\n",
    "print('\\nPlotting completed.')"
   ]
  },
  {
   "cell_type": "code",
   "execution_count": null,
   "metadata": {
    "collapsed": true
   },
   "outputs": [],
   "source": [
    "print (\"Visualize the roc curve of each model\")\n",
    "plot_roc(X, y, RandomForestClassifier, 'Random_Forest', n_estimators=25, max_features=5)\n",
    "plot_roc(X, y, LogisticRegression, 'Logistic_Regrssion')\n",
    "plot_roc(X, y, DecisionTreeClassifier, 'Decision_Tree')\n",
    "#plot_roc(X, y, MultinomialNB, 'Naive_Bayes') error\n",
    "print('\\nPlotting completed.')"
   ]
  },
  {
   "cell_type": "code",
   "execution_count": null,
   "metadata": {
    "collapsed": true
   },
   "outputs": [],
   "source": []
  },
  {
   "cell_type": "code",
   "execution_count": null,
   "metadata": {
    "collapsed": true
   },
   "outputs": [],
   "source": []
  }
 ],
 "metadata": {
  "kernelspec": {
   "display_name": "Python 3",
   "language": "python",
   "name": "python3"
  },
  "language_info": {
   "codemirror_mode": {
    "name": "ipython",
    "version": 3
   },
   "file_extension": ".py",
   "mimetype": "text/x-python",
   "name": "python",
   "nbconvert_exporter": "python",
   "pygments_lexer": "ipython3",
   "version": "3.6.3"
  }
 },
 "nbformat": 4,
 "nbformat_minor": 2
}
