{
 "cells": [
  {
   "cell_type": "markdown",
   "metadata": {},
   "source": [
    "# IMPORTS"
   ]
  },
  {
   "cell_type": "code",
   "execution_count": null,
   "metadata": {
    "collapsed": true
   },
   "outputs": [],
   "source": [
    "import my_pickle as mp\n",
    "import pandas as pd\n",
    "import numpy as np\n",
    "import json\n",
    "from collections import defaultdict\n",
    "import my_pickle as mp\n",
    "import my_split as ms\n",
    "import matplotlib.pyplot as plt\n",
    "\n",
    "%matplotlib inline\n",
    "import datetime as dt\n",
    "import seaborn as sns\n",
    "sns.set()\n",
    "\n",
    "import warnings\n",
    "warnings.filterwarnings('ignore')"
   ]
  },
  {
   "cell_type": "markdown",
   "metadata": {},
   "source": [
    "# READ IN USER INFORMATION"
   ]
  },
  {
   "cell_type": "code",
   "execution_count": null,
   "metadata": {},
   "outputs": [],
   "source": [
    "user_filename = \"/Users/gandalf/Documents/coding/data_do_not_commit/raw_data_users.json\"\n",
    "DF = pd.read_json(user_filename)\n",
    "print(\"... read in dataframe\")"
   ]
  },
  {
   "cell_type": "code",
   "execution_count": null,
   "metadata": {},
   "outputs": [],
   "source": [
    "# create a copy\n",
    "df = DF.copy()\n",
    "\n",
    "# remove users that haven't been onboarded\n",
    "df = df.drop(df[df.onboarded != 1].index)\n",
    "print(\"... dropped users that aren't onboarded\")\n",
    "\n",
    "# convert to datetimes\n",
    "def my_to_datetime(x):\n",
    "    if isinstance(x, dict):\n",
    "        try: return pd.to_datetime(x['$date'])\n",
    "        except: return None\n",
    "    else: return None\n",
    "\n",
    "def my_to_date(x):\n",
    "    if isinstance(x, dict):\n",
    "        try: return pd.to_datetime(x['$date']).date()\n",
    "        except: return None\n",
    "    else: return None\n",
    "df['_created_at'] = df._created_at.apply(lambda x: my_to_datetime(x))\n",
    "df['_updated_at'] = df._updated_at.apply(lambda x: my_to_datetime(x))\n",
    "df.activeAt = df.activeAt.apply(lambda x: my_to_datetime(x))\n",
    "df.available = df.available.apply(lambda x: my_to_date(x))\n",
    "df.birthday = df.birthday.apply(lambda x: my_to_date(x))\n",
    "print(\"... changed to datetimes\")\n",
    "\n",
    "# set the user id as the index\n",
    "df = df.set_index('_id')\n",
    "print(\"... set user id as the index\")\n",
    "\n",
    "# create a constant for easy counting\n",
    "df['const']=1\n",
    "print(\"... created a constant value\")\n",
    "\n",
    "# set a value n for the number of users in the sample\n",
    "n = len(df)\n",
    "print(\"There are {} users in the data frame.\".format(n))"
   ]
  },
  {
   "cell_type": "code",
   "execution_count": null,
   "metadata": {},
   "outputs": [],
   "source": [
    "print(df.columns)"
   ]
  },
  {
   "cell_type": "code",
   "execution_count": null,
   "metadata": {
    "collapsed": true
   },
   "outputs": [],
   "source": [
    "drop_set = set()"
   ]
  },
  {
   "cell_type": "markdown",
   "metadata": {},
   "source": [
    "# _acl"
   ]
  },
  {
   "cell_type": "code",
   "execution_count": null,
   "metadata": {
    "collapsed": true
   },
   "outputs": [],
   "source": [
    "# What is it? \n",
    "#   looks like read/write properties. everything seems set to True for everyone. \n",
    "#\n",
    "# What do I do with it? \n",
    "#   delete\n",
    "\n",
    "drop_set.add('_acl')"
   ]
  },
  {
   "cell_type": "markdown",
   "metadata": {},
   "source": [
    "# _auth_data_facebook"
   ]
  },
  {
   "cell_type": "code",
   "execution_count": null,
   "metadata": {},
   "outputs": [],
   "source": [
    "# What is it? \n",
    "#   information about Facebook authoration \n",
    "#\n",
    "# What do I do with it? \n",
    "#   turn into has_facebook binary\n",
    "\n",
    "df['has_facebook'] = df._auth_data_facebook.apply(lambda x: \n",
    "                                                  1 if isinstance(x, dict) else 0)\n",
    "print(\"{:.3}% of users have linked to facebook.\".format(100*df.has_facebook.sum()/n))\n",
    "drop_set.add('_auth_data_facebook')"
   ]
  },
  {
   "cell_type": "markdown",
   "metadata": {},
   "source": [
    "# _created_at"
   ]
  },
  {
   "cell_type": "code",
   "execution_count": null,
   "metadata": {
    "collapsed": true
   },
   "outputs": [],
   "source": [
    "# What is it?\n",
    "#   date the account was created\n",
    "#\n",
    "# What do I do with it?\n",
    "#   get date, day of month, day of week, and hour of day information\n",
    "\n",
    "df['created_date'] = df._created_at.apply(lambda x: x.date())\n",
    "\n",
    "df['created_year'] = df._created_at.apply(lambda x: x.year)\n",
    "df['created_day_of_year'] = df._created_at.apply(lambda x: int(x.strftime('%j')))\n",
    "\n",
    "df['created_month'] = df._created_at.apply(lambda x: x.isocalendar()[0])\n",
    "df['created_day_of_month'] = df._created_at.apply(lambda x: x.day)\n",
    "\n",
    "df['created_week'] = df._created_at.apply(lambda x: x.isocalendar()[1])\n",
    "df['created_day_of_week'] = df._created_at.apply(lambda x: x.isoweekday())\n",
    "\n",
    "df['created_day'] = df._created_at.apply(lambda x: x.toordinal())\n",
    "df['created_hour'] = df._created_at.apply(lambda x: x.hour)"
   ]
  },
  {
   "cell_type": "markdown",
   "metadata": {},
   "source": [
    "# _hashed_password"
   ]
  },
  {
   "cell_type": "code",
   "execution_count": null,
   "metadata": {},
   "outputs": [],
   "source": [
    "# What is it?\n",
    "#   some ppl have one, some don't\n",
    "#\n",
    "# What do I do with it?\n",
    "#   make it binary!\n",
    "\n",
    "df['has_password'] = df._hashed_password.apply(lambda x: 1 if isinstance(x, str) else 0)\n",
    "print(\"{:.3}% of users have a password.\".format(100*df.has_password.sum()/n))\n",
    "drop_set.add('_hashed_password')"
   ]
  },
  {
   "cell_type": "markdown",
   "metadata": {},
   "source": [
    "# _p_room"
   ]
  },
  {
   "cell_type": "code",
   "execution_count": null,
   "metadata": {},
   "outputs": [],
   "source": [
    "# What is it?\n",
    "#   does the person have a room already?\n",
    "#\n",
    "# What do I do with it?\n",
    "#   make it binary!\n",
    "\n",
    "df['has_room'] = df._p_room.apply(lambda x: 1 if isinstance(x, str) else 0)\n",
    "print(\"{:.3}% of users already have a room\".format(100*df.has_room.sum()/n))\n",
    "drop_set.add('_hashed_password')"
   ]
  },
  {
   "cell_type": "markdown",
   "metadata": {},
   "source": [
    "# _rperm"
   ]
  },
  {
   "cell_type": "code",
   "execution_count": null,
   "metadata": {
    "collapsed": true
   },
   "outputs": [],
   "source": [
    "# What is it?\n",
    "#   a list of an asterix and the user's id\n",
    "#\n",
    "# What do I do with it?\n",
    "#   delete it\n",
    "\n",
    "drop_set.add('_rperm')"
   ]
  },
  {
   "cell_type": "markdown",
   "metadata": {},
   "source": [
    "# _updated_at"
   ]
  },
  {
   "cell_type": "code",
   "execution_count": null,
   "metadata": {},
   "outputs": [],
   "source": [
    "# What is it?\n",
    "#   one of three dates in Jan 2018\n",
    "#\n",
    "# What do I do with it?\n",
    "#   delete it\n",
    "\n",
    "# get information out of when they updated their profile\n",
    "df['_updated_at_date'] = df._updated_at.apply(lambda x: x.date())\n",
    "print(df['_updated_at_date'].unique())\n",
    "\n",
    "drop_set.add('_updated_at')\n",
    "drop_set.add('_updated_at_date')"
   ]
  },
  {
   "cell_type": "markdown",
   "metadata": {},
   "source": [
    "# about"
   ]
  },
  {
   "cell_type": "code",
   "execution_count": null,
   "metadata": {},
   "outputs": [],
   "source": [
    "# What is it?\n",
    "#   users self-descriptions\n",
    "#\n",
    "# What do I do with it?\n",
    "#   turn NaN into empty strings\n",
    "#   create binary has_about variable\n",
    "#   create int len_about variable\n",
    "\n",
    "df.about = df.about.fillna(\"\")\n",
    "df['len_about'] = df.about.apply(lambda x: len(x))\n",
    "df['has_about'] = df.len_about.apply(lambda x: 1 if x >0 else 0)\n",
    "print(\"{:.3}% of users have an about section\".format(100*df.has_about.sum()/n))"
   ]
  },
  {
   "cell_type": "markdown",
   "metadata": {},
   "source": [
    "# activeAt"
   ]
  },
  {
   "cell_type": "code",
   "execution_count": null,
   "metadata": {
    "collapsed": true
   },
   "outputs": [],
   "source": [
    "# What is it?\n",
    "#   most recent activity\n",
    "#\n",
    "# What do I do with it?\n",
    "#   delete it\n",
    "#   has data from after the break point --> data bleed\n",
    "\n",
    "drop_set.add('activeAt')"
   ]
  },
  {
   "cell_type": "markdown",
   "metadata": {},
   "source": [
    "# amenities"
   ]
  },
  {
   "cell_type": "code",
   "execution_count": null,
   "metadata": {
    "collapsed": true
   },
   "outputs": [],
   "source": [
    "# What is it?\n",
    "#   ammenities ppl have asked for\n",
    "#\n",
    "# What do I do with it?\n",
    "#   create len amenities\n",
    "#   create has amenities\n",
    "#   perhaps lateron tokenize each amenity\n",
    "\n",
    "df['len_amenities'] = df.amenities.apply(lambda x: len(x) if isinstance(x, list) else 0)\n",
    "df['has_amenities'] = df.len_amenities.apply(lambda x: 1 if x >0 else 0)"
   ]
  },
  {
   "cell_type": "markdown",
   "metadata": {},
   "source": [
    "# available"
   ]
  },
  {
   "cell_type": "code",
   "execution_count": null,
   "metadata": {
    "collapsed": true
   },
   "outputs": [],
   "source": [
    "# What is it?\n",
    "#   date person needs a room\n",
    "#\n",
    "# What do I do with it?\n",
    "#   turn into a date\n",
    "#   create has_available\n",
    "#   create timedelta_created_available\n",
    "#\n",
    "#   Maybe in the future,\n",
    "#   fix dates that appear misentered, or somehow code the dates as \"past\" or \"future\"\n",
    "\n",
    "df['has_available'] = df.available.apply(lambda x: 1 if isinstance(x, dt.date) else 0)\n",
    "df['td_creat_avail'] = (df.available-df.created_date).apply(\n",
    "    lambda x: None if isinstance(x, pd._libs.tslib.NaTType) else x.days)  "
   ]
  },
  {
   "cell_type": "markdown",
   "metadata": {},
   "source": [
    "# birthday"
   ]
  },
  {
   "cell_type": "code",
   "execution_count": null,
   "metadata": {
    "collapsed": true
   },
   "outputs": [],
   "source": [
    "# What is it?\n",
    "#   their birthday, everyone put in a birthday\n",
    "#\n",
    "# What do I do with it?\n",
    "#   get (approx) age\n",
    "#   get binary for birthday\n",
    "#\n",
    "#   in future: summer vs winter babies? (might be clutching at straws here)\n",
    "\n",
    "df['age'] = 2018-df.birthday.apply(lambda x: x.year)\n",
    "df['has_birthdate'] = df.birthday.apply(lambda x: 0 if str(x)[5:] == '01-01' else 1)\n",
    "\n",
    "drop_set.add('birthday')"
   ]
  },
  {
   "cell_type": "markdown",
   "metadata": {},
   "source": [
    "# blocked"
   ]
  },
  {
   "cell_type": "code",
   "execution_count": null,
   "metadata": {},
   "outputs": [],
   "source": [
    "# What is it?\n",
    "#   who have they been blocked by?\n",
    "#\n",
    "# What do I do with it?\n",
    "#   make has_block binary\n",
    "#   delete blocked\n",
    "\n",
    "df['has_block'] = df.blocked.apply(lambda x: 1 if isinstance(x, list) else 0)\n",
    "print(\"{} users have been blocked\".format(df.has_block.sum()))\n",
    "drop_set.add('blocked')"
   ]
  },
  {
   "cell_type": "markdown",
   "metadata": {},
   "source": [
    "# college"
   ]
  },
  {
   "cell_type": "code",
   "execution_count": null,
   "metadata": {},
   "outputs": [],
   "source": [
    "# What is it?\n",
    "#   where did they go to college\n",
    "#\n",
    "# What do I do with it?\n",
    "#   make has_college\n",
    "\n",
    "df['has_college'] = df.college.apply(lambda x: 1 if isinstance(x, str) else 0)\n",
    "print(\"{:.3} of users included a college\".format(100*df.has_college.sum()/n))"
   ]
  },
  {
   "cell_type": "markdown",
   "metadata": {},
   "source": [
    "# email"
   ]
  },
  {
   "cell_type": "code",
   "execution_count": null,
   "metadata": {},
   "outputs": [],
   "source": [
    "# What is it?\n",
    "#   what is their email\n",
    "#\n",
    "# What do I do with it?\n",
    "#   make has_email\n",
    "#   drop email because security\n",
    "\n",
    "df['has_email'] = df.email.apply(lambda x: 1 if isinstance(x, str) else 0)\n",
    "print(\"{:.3} of users included an email\".format(100*df.has_email.sum()/n))\n",
    "drop_set.add('email')"
   ]
  },
  {
   "cell_type": "markdown",
   "metadata": {},
   "source": [
    "# emailVerified"
   ]
  },
  {
   "cell_type": "code",
   "execution_count": null,
   "metadata": {
    "collapsed": true
   },
   "outputs": [],
   "source": [
    "# What is it?\n",
    "#   just nan or 0\n",
    "#\n",
    "# What do I do with it?\n",
    "#   delete it!\n",
    "\n",
    "drop_set.add('emailVerified')"
   ]
  },
  {
   "cell_type": "markdown",
   "metadata": {},
   "source": [
    "# facebookId"
   ]
  },
  {
   "cell_type": "code",
   "execution_count": null,
   "metadata": {
    "collapsed": true
   },
   "outputs": [],
   "source": [
    "# What is it?\n",
    "#   users facebookId, duplicated info from _auth_data_facebook\n",
    "#\n",
    "# What do I do with it?\n",
    "#   delete it!\n",
    "\n",
    "drop_set.add('facebookId')"
   ]
  },
  {
   "cell_type": "markdown",
   "metadata": {},
   "source": [
    "# firstName"
   ]
  },
  {
   "cell_type": "code",
   "execution_count": null,
   "metadata": {
    "collapsed": true
   },
   "outputs": [],
   "source": [
    "# What is it?\n",
    "#   users name, major privacy issues\n",
    "#\n",
    "# What do I do with it?\n",
    "#   delete it!\n",
    "\n",
    "drop_set.add('firstName')"
   ]
  },
  {
   "cell_type": "markdown",
   "metadata": {},
   "source": [
    "# foundRoommate"
   ]
  },
  {
   "cell_type": "code",
   "execution_count": null,
   "metadata": {
    "collapsed": true
   },
   "outputs": [],
   "source": [
    "# What is it?\n",
    "#   users who stoped using the app? \n",
    "#   was told to ignore it\n",
    "#\n",
    "# What do I do with it?\n",
    "#   delete it!\n",
    "\n",
    "drop_set.add('foundRoommate')"
   ]
  },
  {
   "cell_type": "markdown",
   "metadata": {},
   "source": [
    "# gender"
   ]
  },
  {
   "cell_type": "code",
   "execution_count": null,
   "metadata": {},
   "outputs": [],
   "source": [
    "# What is it?\n",
    "#   male/female\n",
    "#   no other options, no nans\n",
    "#\n",
    "# What do I do with it?\n",
    "#   binary 1s and 0s\n",
    "\n",
    "\n",
    "df['gender'] = df.gender.apply(lambda x: 1 if x == 'male' or x == 1 else 0)\n",
    "print(\"{:.3} of users are male\".format(100*df.gender2.sum()/n))"
   ]
  },
  {
   "cell_type": "code",
   "execution_count": null,
   "metadata": {
    "collapsed": true
   },
   "outputs": [],
   "source": []
  },
  {
   "cell_type": "code",
   "execution_count": null,
   "metadata": {
    "collapsed": true
   },
   "outputs": [],
   "source": []
  },
  {
   "cell_type": "code",
   "execution_count": null,
   "metadata": {
    "collapsed": true
   },
   "outputs": [],
   "source": []
  },
  {
   "cell_type": "code",
   "execution_count": null,
   "metadata": {
    "collapsed": true
   },
   "outputs": [],
   "source": []
  },
  {
   "cell_type": "code",
   "execution_count": null,
   "metadata": {
    "collapsed": true
   },
   "outputs": [],
   "source": []
  },
  {
   "cell_type": "code",
   "execution_count": null,
   "metadata": {
    "collapsed": true
   },
   "outputs": [],
   "source": []
  },
  {
   "cell_type": "code",
   "execution_count": null,
   "metadata": {
    "collapsed": true
   },
   "outputs": [],
   "source": []
  },
  {
   "cell_type": "code",
   "execution_count": null,
   "metadata": {
    "collapsed": true
   },
   "outputs": [],
   "source": [
    "temp = df.groupby('has_about').count().const\n",
    "ax = temp.plot(kind='bar',width=.6)\n",
    "\n",
    "y_ticks = ax.get_yticks()\n",
    "total_n = len(df)\n",
    "ylabels = [round(x/total_n,2) for x in y_ticks]\n",
    "ax.set_yticklabels(ylabels)\n",
    "\n",
    "ax.set_ylabel(\"Relative Density\")\n",
    "ax.set_xlabel(\"\")\n",
    "plt.title(\"Has About\", fontsize=16)"
   ]
  },
  {
   "cell_type": "code",
   "execution_count": null,
   "metadata": {
    "collapsed": true
   },
   "outputs": [],
   "source": []
  },
  {
   "cell_type": "code",
   "execution_count": null,
   "metadata": {
    "collapsed": true
   },
   "outputs": [],
   "source": []
  },
  {
   "cell_type": "code",
   "execution_count": null,
   "metadata": {
    "collapsed": true
   },
   "outputs": [],
   "source": []
  },
  {
   "cell_type": "code",
   "execution_count": null,
   "metadata": {
    "collapsed": true
   },
   "outputs": [],
   "source": []
  },
  {
   "cell_type": "code",
   "execution_count": null,
   "metadata": {
    "collapsed": true
   },
   "outputs": [],
   "source": [
    "def get_hoods(lst):\n",
    "    if isinstance(lst, list):\n",
    "        temp_set = set()\n",
    "        for thing in lst:\n",
    "            temp_set.add(thing['objectId'])\n",
    "        return temp_set\n",
    "    else:\n",
    "        return set()\n",
    "\n",
    "def get_city(lst,metro_dict):\n",
    "    if len(lst) > 0:\n",
    "        try: return metro_dict[list(lst)[0] ]['metro']\n",
    "        except: return 'Unknown'\n",
    "    else: return None\n",
    "    \n",
    "    \n",
    "    # make a dictionary of all the neighborhoods\n",
    "    metro_df = pd.read_json(metro_filename)\n",
    "    metro_df = metro_df.drop(['_created_at','_updated_at','city','name'], axis=1)\n",
    "    metro_dict = metro_df.set_index('_id').to_dict('index')\n",
    "\n",
    "    df.neighborhoods = df.neighborhoods.apply(get_hoods)\n",
    "    print(\"... got neighborhoods\")\n",
    "    df['metro'] = df.neighborhoods.apply(lambda x: get_city(x,metro_dict))\n",
    "    print(\"... got metro areas\")\n",
    "\n",
    "    # create new features\n",
    "    df = df.fillna({'about':''})\n",
    "    df['age'] = 2018-df['birthday'].apply(lambda x: x.year)\n",
    "    df['len_about'] = df.about.apply(lambda x: len(x))\n",
    "    df['has_about'] = df.len_about > 0\n",
    "    df['I_count'] = df.about.apply(lambda x: x.count('I'))\n",
    "    df['I_ratio'] = df.about.apply(lambda x: x.count('I')/len(x) if len(x) > 0 else np.nan)\n",
    "    df['period_count'] = df.about.apply(lambda x: x.count('.'))\n",
    "    df['period_ratio'] = df.about.apply(lambda x: x.count('.')/len(x) if len(x) > 0 else np.nan)\n",
    "    df['question_count'] = df.about.apply(lambda x: x.count('?'))\n",
    "    df['question_ratio'] = df.about.apply(lambda x: x.count('?')/len(x) if len(x) > 0 else np.nan)\n",
    "    df['exclaim_count'] = df.about.apply(lambda x: x.count('!'))\n",
    "    df['exclaim_ratio'] = df.about.apply(lambda x: x.count('!')/len(x) if len(x) > 0 else np.nan)\n",
    "    df['sentence_count'] = df.period_count+df.question_count+df.exclaim_count\n",
    "    df['sentence_ratio'] = df.period_ratio+df.question_ratio+df.exclaim_ratio\n",
    "    df.has_room = df.has_room.apply(lambda x: isinstance(x,str))\n",
    "    df['has_facebookId'] = df.facebookId.apply(lambda x: isinstance(x,str))\n",
    "    df['has_linkedinId'] = df.linkedinId.apply(lambda x: isinstance(x,str))\n",
    "    df['has_picture'] = df.picture.apply(lambda x: isinstance(x,str))\n",
    "    df['timeframe'] = df.available-df.created\n",
    "    print(\"... added new features\")"
   ]
  },
  {
   "cell_type": "code",
   "execution_count": null,
   "metadata": {
    "collapsed": true
   },
   "outputs": [],
   "source": [
    "user_filename = \"/Users/gandalf/Documents/coding/data_do_not_commit/raw_data_users.json\"\n",
    "metro_filename = \"/Users/gandalf/Documents/coding/data_do_not_commit/raw_data_neighborhoods.json\""
   ]
  },
  {
   "cell_type": "code",
   "execution_count": null,
   "metadata": {
    "collapsed": true
   },
   "outputs": [],
   "source": [
    "metro_df = pd.read_json(metro_filename)\n",
    "metro_df = metro_df.drop(['_created_at','_updated_at','city','name'], axis=1)\n",
    "# metro_df.set_index('_id')\n",
    "metro_dict = metro_df.set_index('_id').to_dict('index')\n"
   ]
  },
  {
   "cell_type": "code",
   "execution_count": null,
   "metadata": {
    "collapsed": true
   },
   "outputs": [],
   "source": [
    "metro_df.head()"
   ]
  },
  {
   "cell_type": "code",
   "execution_count": null,
   "metadata": {
    "collapsed": true
   },
   "outputs": [],
   "source": [
    "metro_dict"
   ]
  },
  {
   "cell_type": "code",
   "execution_count": null,
   "metadata": {
    "collapsed": true
   },
   "outputs": [],
   "source": []
  },
  {
   "cell_type": "code",
   "execution_count": null,
   "metadata": {},
   "outputs": [],
   "source": [
    "df2017 = df[df.created_year == 2017]\n",
    "ax = df2017['created_day_of_year'].plot(kind='kde')\n",
    "\n",
    "xlabels = [dt.date(2017,1,1) + dt.timedelta(x) for x in range(0,400, 50)]\n",
    "ax.set_xticklabels(xlabels)\n",
    "\n",
    "plt.xticks(rotation=45)\n",
    "\n",
    "ax.set_xlim(0,365)\n",
    "ax.set_ylim(0,.008)\n",
    "ax.set_ylabel(\"Relative Density\")\n",
    "ax.set_xlabel(\"\")\n",
    "plt.title(\"User Signups - Date\", fontsize=16)"
   ]
  },
  {
   "cell_type": "code",
   "execution_count": null,
   "metadata": {},
   "outputs": [],
   "source": [
    "temp = df.groupby(\"created_day_of_month\").count().created\n",
    "ax = temp.plot(kind='bar',width=.6)\n",
    "\n",
    "y_ticks = ax.get_yticks()\n",
    "total_n = len(df)\n",
    "ylabels = [round(x/total_n,2) for x in y_ticks]\n",
    "ax.set_yticklabels(ylabels)\n",
    "\n",
    "ax.set_ylabel(\"Relative Density\")\n",
    "ax.set_xlabel(\"\")\n",
    "plt.title(\"User Signups - Day of Month\", fontsize=16)"
   ]
  },
  {
   "cell_type": "code",
   "execution_count": null,
   "metadata": {},
   "outputs": [],
   "source": [
    "temp = df.groupby(\"created_day_of_week\").count().created\n",
    "ax = temp.plot(kind='bar',width=.6)\n",
    "x_labels = [\"Mon\",\"Tues\",\"Weds\",\"Thurs\",\"Fri\",\"Sat\",\"Sun\"]\n",
    "ax.set_xticklabels(x_labels)\n",
    "\n",
    "y_ticks = ax.get_yticks()\n",
    "total_n = len(df)\n",
    "ylabels = [round(x/total_n,2) for x in y_ticks]\n",
    "ax.set_yticklabels(ylabels)\n",
    "\n",
    "ax.set_ylabel(\"Relative Density\")\n",
    "ax.set_xlabel(\"\")\n",
    "plt.title(\"User Signups - Day of Week\", fontsize=16)"
   ]
  },
  {
   "cell_type": "code",
   "execution_count": null,
   "metadata": {},
   "outputs": [],
   "source": [
    "ax = df['created_hour'].plot(kind='hist',bins=24)\n",
    "x_labels = [\"Midnight\", \"5 AM\", \"10 AM\", \"3 PM\",\"8 PM\"]\n",
    "ax.set_xticklabels(x_labels)\n",
    "ax.set_xlim(0,23)\n",
    "\n",
    "y_ticks = ax.get_yticks()\n",
    "# ax.set_yticks(y_ticks[::2])\n",
    "total_n = len(df)\n",
    "\n",
    "ylabels = [round(x/total_n,3) for x in y_ticks]\n",
    "ax.set_yticklabels(ylabels)\n",
    "\n",
    "ax.set_ylabel(\"Relative Density\")\n",
    "ax.set_xlabel(\"\")\n",
    "plt.title(\"User Signups - Time of Day\", fontsize=16)"
   ]
  },
  {
   "cell_type": "code",
   "execution_count": null,
   "metadata": {},
   "outputs": [],
   "source": [
    "temp = df[df.has_available == 1]\n",
    "temp['timedelta_created_available2'] = temp.timedelta_created_available.apply(lambda x: x.days)\n",
    "temp[['created_date','available','timedelta_created_available','timedelta_created_available2']].tail()"
   ]
  },
  {
   "cell_type": "code",
   "execution_count": null,
   "metadata": {},
   "outputs": [],
   "source": [
    "plt.hist(temp.timedelta_created_available2, bins=range(0,365))\n",
    "plt.show()"
   ]
  },
  {
   "cell_type": "code",
   "execution_count": null,
   "metadata": {},
   "outputs": [],
   "source": [
    "print(\"{} users put an availability in the past.\".format\n",
    "      ((temp.timedelta_created_available2 < 0).sum()))\n",
    "\n",
    "plt.hist(temp.timedelta_created_available2, bins=np.arange(-365,-1))\n",
    "plt.show()"
   ]
  },
  {
   "cell_type": "code",
   "execution_count": null,
   "metadata": {
    "scrolled": false
   },
   "outputs": [],
   "source": [
    "print(\"{} users put an availability more than a year in the future.\".format\n",
    "      ((temp.timedelta_created_available2 > 365).sum()))\n",
    "\n",
    "plt.hist(temp.timedelta_created_available2, bins=np.arange(365,730))\n",
    "plt.show()"
   ]
  }
 ],
 "metadata": {
  "kernelspec": {
   "display_name": "Python 3",
   "language": "python",
   "name": "python3"
  },
  "language_info": {
   "codemirror_mode": {
    "name": "ipython",
    "version": 3
   },
   "file_extension": ".py",
   "mimetype": "text/x-python",
   "name": "python",
   "nbconvert_exporter": "python",
   "pygments_lexer": "ipython3",
   "version": "3.6.3"
  }
 },
 "nbformat": 4,
 "nbformat_minor": 2
}
