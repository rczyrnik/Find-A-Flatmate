{
 "cells": [
  {
   "cell_type": "code",
   "execution_count": null,
   "metadata": {
    "collapsed": true
   },
   "outputs": [],
   "source": [
    "look up by index"
   ]
  },
  {
   "cell_type": "markdown",
   "metadata": {},
   "source": [
    "# GOAL\n",
    "\n",
    "1. find features\n",
    "2. use features to predict response ratio"
   ]
  },
  {
   "cell_type": "markdown",
   "metadata": {},
   "source": [
    "# IMPORTS"
   ]
  },
  {
   "cell_type": "code",
   "execution_count": null,
   "metadata": {},
   "outputs": [],
   "source": [
    "import numpy as np\n",
    "import pandas as pd\n",
    "import matplotlib.pyplot as plt\n",
    "%matplotlib inline\n",
    "\n",
    "from sklearn.model_selection import train_test_split\n",
    "from sklearn.linear_model import LinearRegression\n",
    "from sklearn.linear_model import LogisticRegression\n",
    "from sklearn.preprocessing import StandardScaler\n",
    "from sklearn_pandas import DataFrameMapper"
   ]
  },
  {
   "cell_type": "markdown",
   "metadata": {},
   "source": [
    "# GET DATA"
   ]
  },
  {
   "cell_type": "code",
   "execution_count": null,
   "metadata": {},
   "outputs": [],
   "source": [
    "path_users = \"/Users/gandalf/Documents/data/data_users.pkl\"\n",
    "user_df = pd.read_pickle(path_users)\n",
    "# print(user_df.columns)\n",
    "# user_df.head(2)\n",
    "\n",
    "# REMOVE NEW WORLD\n",
    "print(len(user_df))\n",
    "user_df = user_df[(user_df.longitude > -25) | (user_df.latitude < 0)]\n",
    "user_df = user_df[user_df.longitude != 0]\n",
    "print(len(user_df))"
   ]
  },
  {
   "cell_type": "code",
   "execution_count": null,
   "metadata": {},
   "outputs": [],
   "source": [
    "from shapely.geometry import Point\n",
    "from geopandas import GeoDataFrame\n",
    "import geopandas as gpd\n",
    "\n",
    "world = gpd.read_file(gpd.datasets.get_path('naturalearth_lowres'))\n",
    "\n",
    "geometry = [Point(xy) for xy in zip(user_df.longitude, user_df.latitude)]\n",
    "loc_df = user_df[['longitude', 'latitude']]\n",
    "crs = {'init': 'epsg:4326'}\n",
    "gdf = GeoDataFrame(loc_df, crs=crs, geometry=geometry)\n",
    "\n",
    "fig, ax = plt.subplots(figsize = (16,10))\n",
    "\n",
    "ax.set_aspect('equal')\n",
    "\n",
    "world.plot(ax=ax, color='#66FF66', edgecolor='black')\n",
    "\n",
    "gdf.plot(ax=ax, marker='o', color='#FF00FF', markersize=5)\n",
    "ax.set_facecolor(\"#00FFFF\")\n",
    "plt.show();"
   ]
  },
  {
   "cell_type": "code",
   "execution_count": null,
   "metadata": {},
   "outputs": [],
   "source": [
    "user_df.describe()"
   ]
  },
  {
   "cell_type": "code",
   "execution_count": null,
   "metadata": {},
   "outputs": [],
   "source": [
    "# pick columns\n",
    "cols_for_regression = ['has_about','len_about',\n",
    "       'age', 'gender', 'inRelationship', 'isClean', 'isNight',\n",
    "       'isStudent', 'latitude', 'longitude', 'maxCost',\n",
    "       'minCost', 'petsOk', 'pictureId', 'sent']\n",
    "X = user_df[cols_for_regression]\n",
    "y = user_df['ratio']\n",
    "\n",
    "# reformat columns\n",
    "tf = {True:1, False:0, 1:1, 0:0}\n",
    "mf = {'male':1, 'female':0, 1:1, 0:0}\n",
    "\n",
    "X.has_about = X.has_about.map(tf)\n",
    "\n",
    "X.gender = X.has_about.map(mf)\n",
    "X = X.fillna(0)\n",
    "\n",
    "# y_binary = (y > 0).map(tf)"
   ]
  },
  {
   "cell_type": "code",
   "execution_count": null,
   "metadata": {},
   "outputs": [],
   "source": [
    "X_train, X_test, y_train, y_test = train_test_split(X, y, random_state=17)\n",
    "\n",
    "mapper = DataFrameMapper([(X_train.columns, StandardScaler())])\n",
    "scale = mapper.fit(X_train)\n",
    "X_train = pd.DataFrame(mapper.transform(X_train), index=X_train.index, columns=X_train.columns)\n",
    "X_test = pd.DataFrame(mapper.transform(X_test), index=X_test.index, columns=X_test.columns)\n",
    "\n",
    "y_train_binary = (y_train > 0).map(tf)\n",
    "y_test_binary = (y_test > 0).map(tf)"
   ]
  },
  {
   "cell_type": "code",
   "execution_count": null,
   "metadata": {},
   "outputs": [],
   "source": [
    "print(y_test_binary.sum())\n",
    "print(len(y_test_binary))"
   ]
  },
  {
   "cell_type": "code",
   "execution_count": null,
   "metadata": {},
   "outputs": [],
   "source": [
    "print(\"baseline: {:.5}\".format(1-(y_test_binary.sum()/len(y_test_binary))))"
   ]
  },
  {
   "cell_type": "markdown",
   "metadata": {},
   "source": [
    "# LINEAR REGRESSION"
   ]
  },
  {
   "cell_type": "code",
   "execution_count": null,
   "metadata": {},
   "outputs": [],
   "source": [
    "model = LinearRegression()\n",
    "model.fit(X_train, y_train)\n",
    "model.score(X_test, y_test)"
   ]
  },
  {
   "cell_type": "markdown",
   "metadata": {},
   "source": [
    "# LOGISTIC REGRESSION"
   ]
  },
  {
   "cell_type": "code",
   "execution_count": null,
   "metadata": {},
   "outputs": [],
   "source": [
    "model = LogisticRegression()\n",
    "model.fit(X_train, y_train_binary)\n",
    "model.score(X_test, y_test_binary)"
   ]
  },
  {
   "cell_type": "markdown",
   "metadata": {},
   "source": [
    "# DECISION TREE"
   ]
  },
  {
   "cell_type": "code",
   "execution_count": null,
   "metadata": {},
   "outputs": [],
   "source": [
    "dt = DecisionTree()\n",
    "dt.fit(X_train, y_train)\n",
    "predicted_y = dt.predict(X_test)"
   ]
  },
  {
   "cell_type": "code",
   "execution_count": null,
   "metadata": {
    "collapsed": true
   },
   "outputs": [],
   "source": []
  }
 ],
 "metadata": {
  "kernelspec": {
   "display_name": "Python 3",
   "language": "python",
   "name": "python3"
  },
  "language_info": {
   "codemirror_mode": {
    "name": "ipython",
    "version": 3
   },
   "file_extension": ".py",
   "mimetype": "text/x-python",
   "name": "python",
   "nbconvert_exporter": "python",
   "pygments_lexer": "ipython3",
   "version": "3.6.3"
  }
 },
 "nbformat": 4,
 "nbformat_minor": 2
}
