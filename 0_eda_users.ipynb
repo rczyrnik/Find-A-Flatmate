{
 "cells": [
  {
   "cell_type": "code",
   "execution_count": null,
   "metadata": {
    "collapsed": true
   },
   "outputs": [],
   "source": [
    "import pandas as pd\n",
    "import numpy as np\n",
    "import matplotlib.pyplot as plt\n",
    "%matplotlib inline\n",
    "\n",
    "# Location\n",
    "from shapely.geometry import Point\n",
    "from geopandas import GeoDataFrame\n",
    "import geopandas as gpd\n",
    "\n",
    "import my_pickle as mp\n",
    "\n",
    "import warnings\n",
    "warnings.filterwarnings('ignore')"
   ]
  },
  {
   "cell_type": "markdown",
   "metadata": {},
   "source": [
    "# READ IN DATA"
   ]
  },
  {
   "cell_type": "code",
   "execution_count": null,
   "metadata": {},
   "outputs": [],
   "source": [
    "user_df = mp.unjson_it('data_user').reset_index()\n",
    "user_df.columns = ['uid', 'I_count', 'I_ratio', 'about', 'activeAt', 'age', 'amenities',\n",
    "       'available', 'birthday', 'college', 'created', 'exclaim_count',\n",
    "       'exclaim_ratio', 'facebookId', 'gender', 'has_about', 'has_room',\n",
    "       'hobbies', 'hometownCity', 'hometownCountry', 'hometownState',\n",
    "       'inRelationship', 'isClean', 'isNight', 'isStudent', 'len_about',\n",
    "       'linkedinId', 'location', 'maxCost', 'metro','minCost','neighborhoods',\n",
    "       'numRoommates', 'onboarded', 'period_count', 'period_ratio', 'petsOk',\n",
    "       'picture', 'question_count', 'question_ratio', 'sentence_count',\n",
    "       'sentence_ratio', 'smokingOk', 'term', 'type', 'updated', 'work']\n",
    "user_df = mp.reinstate_date(user_df,['activeAt', 'available', 'birthday','created','updated'])\n",
    "user_df['const'] = 1\n",
    "\n",
    "convo_df = mp.unjson_it('data_convo')\n",
    "message_df = mp.unjson_it('data_message') \n",
    "master_df = mp.unjson_it('data_master')\n",
    "\n",
    "print(\"Make sure we're not using ECT data\")\n",
    "print(convo_df.timestamp.max())"
   ]
  },
  {
   "cell_type": "markdown",
   "metadata": {},
   "source": [
    "# SEPARATE INTO ACTIVE AND NOT ACTIVE"
   ]
  },
  {
   "cell_type": "code",
   "execution_count": null,
   "metadata": {
    "collapsed": true
   },
   "outputs": [],
   "source": [
    "# Make lists of senders and receivers\n",
    "uid_receivers = set(convo_df.uid_receiver)\n",
    "uid_senders = set(convo_df.uid_sender)\n",
    "\n",
    "# Combine the lists\n",
    "uid_active = uid_senders.union(uid_receivers)"
   ]
  },
  {
   "cell_type": "code",
   "execution_count": null,
   "metadata": {},
   "outputs": [],
   "source": [
    "# Create a flag for active\n",
    "user_df['active'] = user_df.uid.apply(lambda x: x in uid_active)\n",
    "print(\"{:.3} of onboarded users are active\".format(user_df.active.sum()/len(user_df)))"
   ]
  },
  {
   "cell_type": "code",
   "execution_count": null,
   "metadata": {},
   "outputs": [],
   "source": [
    "# Separate into two dataframes\n",
    "active_df = user_df[user_df['active']==True]\n",
    "not_active_df = user_df[user_df['active']==False]"
   ]
  },
  {
   "cell_type": "markdown",
   "metadata": {},
   "source": [
    "# GET CITY DATAFRAME WITH ACTIVE/NOT ACTIVE COUNTS"
   ]
  },
  {
   "cell_type": "code",
   "execution_count": null,
   "metadata": {},
   "outputs": [],
   "source": [
    "cities = not_active_df.groupby(['metro']).count().const.to_dict().keys()\n",
    "not_active_count = not_active_df.groupby(['metro']).count().const.to_dict()\n",
    "active_count = active_df.groupby(['metro']).count().const.to_dict()"
   ]
  },
  {
   "cell_type": "code",
   "execution_count": null,
   "metadata": {},
   "outputs": [],
   "source": [
    "city_df = pd.DataFrame(list(cities),[1]*len(cities))\n",
    "city_df.columns = ['metro']"
   ]
  },
  {
   "cell_type": "code",
   "execution_count": null,
   "metadata": {},
   "outputs": [],
   "source": [
    "city_df['active_users'] = city_df.metro.apply(lambda x: active_count[x] if x in active_count.keys() else 0)\n",
    "city_df['not_active_users'] = city_df.metro.apply(lambda x: not_active_count[x])\n",
    "city_df['percent_active'] = city_df['active_users']/city_df['not_active_users']\n",
    "city_df.head(2)"
   ]
  },
  {
   "cell_type": "code",
   "execution_count": null,
   "metadata": {
    "scrolled": true
   },
   "outputs": [],
   "source": [
    "fig, ax = plt.subplots(figsize = (16,6))\n",
    "plt.barh(city_df.metro,city_df.percent_active)"
   ]
  },
  {
   "cell_type": "code",
   "execution_count": null,
   "metadata": {
    "collapsed": true
   },
   "outputs": [],
   "source": []
  },
  {
   "cell_type": "code",
   "execution_count": null,
   "metadata": {
    "collapsed": true
   },
   "outputs": [],
   "source": [
    "# fn to display plot\n",
    "def plot_feature(col, bins=None):\n",
    "    active = active_df[col].hist(figsize = (16,4), bins = bins, normed=True, alpha = .5)\n",
    "    not_active = not_active_df[col].hist(figsize = (16,4), bins = bins,normed=True, alpha = .3, color='r')\n",
    "    \n",
    "    plt.xlabel(col,fontsize=14)\n",
    "    plt.ylabel('Number of Users',fontsize=14)\n",
    "    plt.legend(['Active',\"Not Active\"])\n",
    "    plt.show()\n",
    "    print(col+\" active users: {:.9f}\".format(active_df[col].mean()))\n",
    "    print(col+\" not active users: {:.9f}\\n\\n\".format(not_active_df[col].mean()))"
   ]
  },
  {
   "cell_type": "markdown",
   "metadata": {},
   "source": [
    "# COMPARE 'ACTIVE' VS 'NOT ACTIVE' USERS\n",
    "\n",
    "'active' = sent or received at least one message"
   ]
  },
  {
   "cell_type": "code",
   "execution_count": null,
   "metadata": {
    "collapsed": true
   },
   "outputs": [],
   "source": [
    "user_df.gender = user_df.gender.apply(lambda x: 1 if x == 'male' else 0)\n",
    "active_df = user_df[user_df['active']==True]\n",
    "not_active_df = user_df[user_df['active']==False]"
   ]
  },
  {
   "cell_type": "markdown",
   "metadata": {},
   "source": [
    "## Gender"
   ]
  },
  {
   "cell_type": "code",
   "execution_count": null,
   "metadata": {},
   "outputs": [],
   "source": [
    "active_users = len(active_df)\n",
    "active_males = active_df.gender.values.sum()\n",
    "active_females = active_users-active_males"
   ]
  },
  {
   "cell_type": "code",
   "execution_count": null,
   "metadata": {
    "collapsed": true
   },
   "outputs": [],
   "source": [
    "not_active_users = len(not_active_df)\n",
    "not_active_males = not_active_df.gender.values.sum()\n",
    "not_active_females = not_active_users-active_males"
   ]
  },
  {
   "cell_type": "code",
   "execution_count": null,
   "metadata": {
    "collapsed": true
   },
   "outputs": [],
   "source": [
    "all_males = active_males+not_active_males\n",
    "all_females = active_females+not_active_females"
   ]
  },
  {
   "cell_type": "code",
   "execution_count": null,
   "metadata": {},
   "outputs": [],
   "source": [
    "print(\" MALE VS FEMALE ACTIVE USERS \\n\")\n",
    "print(\"         Active  Not-Active     Percent-Active\")\n",
    "print(\" Male\\t {} \\t {} \\t\\t{:.4}\".format(active_males,not_active_males,active_males/all_males))\n",
    "print(\" Female\\t {} \\t {}\\t\\t{:.4}\".format(active_females,not_active_females,active_females/all_females))"
   ]
  },
  {
   "cell_type": "markdown",
   "metadata": {},
   "source": [
    "# birthday"
   ]
  },
  {
   "cell_type": "code",
   "execution_count": null,
   "metadata": {},
   "outputs": [],
   "source": [
    "plt.title('Comparing Active and Not Active Users',fontsize=24) \n",
    "plot_feature('age')"
   ]
  },
  {
   "cell_type": "code",
   "execution_count": null,
   "metadata": {},
   "outputs": [],
   "source": [
    "plt.title('Comparing Active and Not Active Users',fontsize=24) \n",
    "plot_feature('minCost')"
   ]
  },
  {
   "cell_type": "markdown",
   "metadata": {},
   "source": [
    "## Age"
   ]
  },
  {
   "cell_type": "code",
   "execution_count": null,
   "metadata": {},
   "outputs": [],
   "source": [
    "plt.title('Comparing Active and Not Active Users',fontsize=24) \n",
    "plot_feature('age', range(1, 100))"
   ]
  },
  {
   "cell_type": "markdown",
   "metadata": {},
   "source": [
    "## Has About"
   ]
  },
  {
   "cell_type": "code",
   "execution_count": null,
   "metadata": {},
   "outputs": [],
   "source": [
    "plt.title('Comparing Active and Not Active Users',fontsize=24) \n",
    "plot_feature('has_about', range(0, 3))"
   ]
  },
  {
   "cell_type": "code",
   "execution_count": null,
   "metadata": {},
   "outputs": [],
   "source": [
    "plt.title('Comparing Active and Not Active Users',fontsize=24) \n",
    "plot_feature('len_about',range(1,1000,10))"
   ]
  },
  {
   "cell_type": "code",
   "execution_count": null,
   "metadata": {
    "collapsed": true
   },
   "outputs": [],
   "source": [
    "mp.json_it(user_df,'data_user_active')"
   ]
  },
  {
   "cell_type": "code",
   "execution_count": null,
   "metadata": {},
   "outputs": [],
   "source": [
    "plt.title('Comparing Active and Not Active Users',fontsize=24) \n",
    "plot_feature('created')"
   ]
  },
  {
   "cell_type": "code",
   "execution_count": null,
   "metadata": {
    "collapsed": true
   },
   "outputs": [],
   "source": []
  }
 ],
 "metadata": {
  "kernelspec": {
   "display_name": "Python 3",
   "language": "python",
   "name": "python3"
  },
  "language_info": {
   "codemirror_mode": {
    "name": "ipython",
    "version": 3
   },
   "file_extension": ".py",
   "mimetype": "text/x-python",
   "name": "python",
   "nbconvert_exporter": "python",
   "pygments_lexer": "ipython3",
   "version": "3.6.3"
  }
 },
 "nbformat": 4,
 "nbformat_minor": 2
}
