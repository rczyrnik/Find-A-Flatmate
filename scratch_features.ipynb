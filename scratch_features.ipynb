{
 "cells": [
  {
   "cell_type": "code",
   "execution_count": 2,
   "metadata": {
    "collapsed": true
   },
   "outputs": [],
   "source": [
    "import pandas as pd\n",
    "from numpy.random import choice\n",
    "from my_pickle import unpickle_it\n",
    "import matplotlib.pyplot as plt"
   ]
  },
  {
   "cell_type": "code",
   "execution_count": 3,
   "metadata": {},
   "outputs": [
    {
     "name": "stdout",
     "output_type": "stream",
     "text": [
      "Make sure we're not useing ECT data\n",
      "2017-10-02 01:35:58.644000\n"
     ]
    }
   ],
   "source": [
    "user_df = unpickle_it('user_df')\n",
    "convo_df = unpickle_it('convo_df')\n",
    "\n",
    "print(\"Make sure we're not useing ECT data\")\n",
    "print(pd.to_datetime(convo_df.timestamp.max()*1000000))"
   ]
  },
  {
   "cell_type": "markdown",
   "metadata": {},
   "source": [
    "# CELLS TO BE COPY-PASTED INTO .PY FILE"
   ]
  },
  {
   "cell_type": "code",
   "execution_count": 5,
   "metadata": {},
   "outputs": [
    {
     "name": "stdout",
     "output_type": "stream",
     "text": [
      "32436\n",
      "32436\n"
     ]
    }
   ],
   "source": [
    "# are user ids unique?\n",
    "print(len(user_df.index))\n",
    "print(len(user_df.index.unique())) "
   ]
  },
  {
   "cell_type": "code",
   "execution_count": 11,
   "metadata": {},
   "outputs": [
    {
     "data": {
      "image/png": "[encoded data removed]",
      "text/plain": [
       "<matplotlib.figure.Figure at 0x110260978>"
      ]
     },
     "metadata": {},
     "output_type": "display_data"
    },
    {
     "data": {
      "text/html": [
       "<div>\n",
       "<style>\n",
       "    .dataframe thead tr:only-child th {\n",
       "        text-align: right;\n",
       "    }\n",
       "\n",
       "    .dataframe thead th {\n",
       "        text-align: left;\n",
       "    }\n",
       "\n",
       "    .dataframe tbody tr th {\n",
       "        vertical-align: top;\n",
       "    }\n",
       "</style>\n",
       "<table border=\"1\" class=\"dataframe\">\n",
       "  <thead>\n",
       "    <tr style=\"text-align: right;\">\n",
       "      <th></th>\n",
       "      <th>created</th>\n",
       "      <th>updated</th>\n",
       "      <th>about</th>\n",
       "      <th>has_about</th>\n",
       "      <th>len_about</th>\n",
       "      <th>available</th>\n",
       "      <th>birthday</th>\n",
       "      <th>age</th>\n",
       "      <th>collegeId</th>\n",
       "      <th>emailVerified</th>\n",
       "      <th>...</th>\n",
       "      <th>smokingOk</th>\n",
       "      <th>term</th>\n",
       "      <th>work</th>\n",
       "      <th>messages_sent</th>\n",
       "      <th>responses_received</th>\n",
       "      <th>attractiveness</th>\n",
       "      <th>messages_received</th>\n",
       "      <th>responses_sent</th>\n",
       "      <th>selectivity</th>\n",
       "      <th>cost_range</th>\n",
       "    </tr>\n",
       "    <tr>\n",
       "      <th>uid</th>\n",
       "      <th></th>\n",
       "      <th></th>\n",
       "      <th></th>\n",
       "      <th></th>\n",
       "      <th></th>\n",
       "      <th></th>\n",
       "      <th></th>\n",
       "      <th></th>\n",
       "      <th></th>\n",
       "      <th></th>\n",
       "      <th></th>\n",
       "      <th></th>\n",
       "      <th></th>\n",
       "      <th></th>\n",
       "      <th></th>\n",
       "      <th></th>\n",
       "      <th></th>\n",
       "      <th></th>\n",
       "      <th></th>\n",
       "      <th></th>\n",
       "      <th></th>\n",
       "    </tr>\n",
       "  </thead>\n",
       "  <tbody>\n",
       "    <tr>\n",
       "      <th>0a9yOPKFSH</th>\n",
       "      <td>2017-06-19 03:31:08</td>\n",
       "      <td>2018-01-04 21:24:41</td>\n",
       "      <td></td>\n",
       "      <td>False</td>\n",
       "      <td>0</td>\n",
       "      <td>nan</td>\n",
       "      <td>1992-01-01</td>\n",
       "      <td>26.0</td>\n",
       "      <td>NaN</td>\n",
       "      <td>1</td>\n",
       "      <td>...</td>\n",
       "      <td>0.0</td>\n",
       "      <td>12.0</td>\n",
       "      <td>SEG</td>\n",
       "      <td>7.0</td>\n",
       "      <td>2.0</td>\n",
       "      <td>0.285714</td>\n",
       "      <td>9.0</td>\n",
       "      <td>2.0</td>\n",
       "      <td>0.777778</td>\n",
       "      <td>150.0</td>\n",
       "    </tr>\n",
       "    <tr>\n",
       "      <th>0owxBbcyZ6</th>\n",
       "      <td>2017-10-12 00:32:29</td>\n",
       "      <td>2018-01-04 03:05:50</td>\n",
       "      <td></td>\n",
       "      <td>False</td>\n",
       "      <td>0</td>\n",
       "      <td>nan</td>\n",
       "      <td>1974-01-01</td>\n",
       "      <td>44.0</td>\n",
       "      <td>NaN</td>\n",
       "      <td>1</td>\n",
       "      <td>...</td>\n",
       "      <td>1.0</td>\n",
       "      <td>NaN</td>\n",
       "      <td>WA State</td>\n",
       "      <td>0.0</td>\n",
       "      <td>0.0</td>\n",
       "      <td>0.000000</td>\n",
       "      <td>7.0</td>\n",
       "      <td>0.0</td>\n",
       "      <td>0.000000</td>\n",
       "      <td>NaN</td>\n",
       "    </tr>\n",
       "  </tbody>\n",
       "</table>\n",
       "<p>2 rows × 39 columns</p>\n",
       "</div>"
      ],
      "text/plain": [
       "                       created             updated about  has_about  \\\n",
       "uid                                                                   \n",
       "0a9yOPKFSH 2017-06-19 03:31:08 2018-01-04 21:24:41            False   \n",
       "0owxBbcyZ6 2017-10-12 00:32:29 2018-01-04 03:05:50            False   \n",
       "\n",
       "            len_about available   birthday   age  collegeId  emailVerified  \\\n",
       "uid                                                                          \n",
       "0a9yOPKFSH          0       nan 1992-01-01  26.0        NaN              1   \n",
       "0owxBbcyZ6          0       nan 1974-01-01  44.0        NaN              1   \n",
       "\n",
       "               ...      smokingOk  term      work  messages_sent  \\\n",
       "uid            ...                                                 \n",
       "0a9yOPKFSH     ...            0.0  12.0       SEG            7.0   \n",
       "0owxBbcyZ6     ...            1.0   NaN  WA State            0.0   \n",
       "\n",
       "            responses_received  attractiveness  messages_received  \\\n",
       "uid                                                                 \n",
       "0a9yOPKFSH                 2.0        0.285714                9.0   \n",
       "0owxBbcyZ6                 0.0        0.000000                7.0   \n",
       "\n",
       "            responses_sent selectivity  cost_range  \n",
       "uid                                                 \n",
       "0a9yOPKFSH             2.0    0.777778       150.0  \n",
       "0owxBbcyZ6             0.0    0.000000         NaN  \n",
       "\n",
       "[2 rows x 39 columns]"
      ]
     },
     "execution_count": 11,
     "metadata": {},
     "output_type": "execute_result"
    }
   ],
   "source": [
    "user_df['cost_range'] = user_df.maxCost-user_df.minCost\n",
    "user_df.cost_range.hist(bins=range(0,2000,50))\n",
    "plt.show()\n",
    "user_df.head(2)"
   ]
  },
  {
   "cell_type": "code",
   "execution_count": 6,
   "metadata": {},
   "outputs": [
    {
     "data": {
      "text/plain": [
       "10937"
      ]
     },
     "execution_count": 6,
     "metadata": {},
     "output_type": "execute_result"
    }
   ],
   "source": [
    "def remove_bad_uids(df, user_df):\n",
    "    ''' \n",
    "    removes and rows of the df that have uids not in uids\n",
    "    '''\n",
    "    uids = set(user_df.index)\n",
    "    df['flag1'] = df.first_uid.apply(lambda x: x not in uids)\n",
    "    df['flag2'] = df.second_uid.apply(lambda x: x not in uids)\n",
    "    df['flag'] = df.flag1 | df.flag2\n",
    "    \n",
    "    df = df.drop(df[df.flag].index)\n",
    "\n",
    "    df = df.drop(['flag1','flag2','flag'], axis=1)\n",
    "    return df\n",
    "    \n",
    "\n",
    "convo_df = remove_bad_uids(convo_df, user_df)  \n",
    "len(convo_df)"
   ]
  },
  {
   "cell_type": "code",
   "execution_count": 17,
   "metadata": {},
   "outputs": [
    {
     "name": "stdout",
     "output_type": "stream",
     "text": [
      "150.0\n",
      "175\n",
      "175\n",
      "0\n"
     ]
    }
   ],
   "source": [
    "def get_rent_range(first_user, second_user):\n",
    "    max1 = first_user.maxCost\n",
    "    max2 = second_user.maxCost\n",
    "    min1 = first_user.minCost\n",
    "    min2 = second_user.minCost\n",
    "    if max1*max2*min1*min2 > 0:\n",
    "        upper = min(first_user.maxCost,second_user.maxCost)\n",
    "        lower = max(first_user.minCost,second_user.minCost)\n",
    "        if upper-lower > 0: return upper-lower\n",
    "        else: return 0\n",
    "    else: return 175\n",
    "    \n",
    "def test_get_rent_range():    \n",
    "    yes1 = '0a9yOPKFSH'\n",
    "    yes2 = '013LzOrVju'\n",
    "    no1 = '0UBLgJIHgz'\n",
    "    no2 = '0EWNOmyQmW'\n",
    "    low = '01DE0NCjwh'\n",
    "    high = '02GDyQPLII'\n",
    "    print(get_rent_range(user_df.loc[yes1], user_df.loc[yes2])) # should be 150\n",
    "    print(get_rent_range(user_df.loc[yes1], user_df.loc[no1]))  # should be 175\n",
    "    print(get_rent_range(user_df.loc[no2], user_df.loc[no1]))   # should be 175\n",
    "    print(get_rent_range(user_df.loc[low], user_df.loc[high]))  # should be 0\n",
    "\n",
    "test_get_rent_range()"
   ]
  },
  {
   "cell_type": "code",
   "execution_count": 8,
   "metadata": {
    "collapsed": true
   },
   "outputs": [],
   "source": [
    "def get_average_overlap(df,samples):\n",
    "    # to find average overlap of two users' rent ranges\n",
    "    # comes out to about $175\n",
    "    s = 0\n",
    "    for n in range(samples):\n",
    "        two_users = choice(user_df[user_df.cost_range>0].index,2)\n",
    "        overlap = user_df.loc[two_users,'maxCost'].min()-user_df.loc[two_users,'minCost'].max()\n",
    "        if overlap < 0: overlap = 0\n",
    "        s += overlap\n",
    "    return s/samples"
   ]
  },
  {
   "cell_type": "code",
   "execution_count": 22,
   "metadata": {
    "collapsed": true
   },
   "outputs": [],
   "source": [
    "def get_inverse_distance(first_user, second_user):\n",
    "    x1 = first_user.longitude\n",
    "    x2 = second_user.latitude\n",
    "    y1 = first_user.longitude\n",
    "    y2 = second_user.latitude\n",
    "    return ((x2-x1)**2+(y2-y1)**2)**(-.5)"
   ]
  },
  {
   "cell_type": "code",
   "execution_count": null,
   "metadata": {
    "collapsed": true
   },
   "outputs": [],
   "source": [
    "def get_similar_roommates(first_user, second_user):\n",
    "    "
   ]
  },
  {
   "cell_type": "code",
   "execution_count": 31,
   "metadata": {
    "collapsed": true
   },
   "outputs": [],
   "source": [
    "def feature_time(df, user_df):\n",
    "    '''\n",
    "    age_dif: difference in ages between users\n",
    "    rent_overlap: buy how much do their ideal rent ranges overlap\n",
    "    same_gender: m/m or f/f\n",
    "    same_relate:  are they both in relationships or single?\n",
    "    same_clean: are the both clean/messy\n",
    "    same_night: are they both early-birds or night owls?\n",
    "    same_student: are they both students?\n",
    "    sender_attractiveness: do people generally respond to this senders messages?\n",
    "    receiver_selectivity: does this receiver generally respond to peopls messages?\n",
    "    '''\n",
    "    \n",
    "    ad,ro,di,sg,sr,sc,sn,ss,sm,st,sa,rs = [],[],[],[],[],[],[],[],[],[],[],[]\n",
    "\n",
    "    for index, row in df.iterrows():\n",
    "        first = user_df.loc[str(row.first_uid)]\n",
    "        second = user_df.loc[str(row.second_uid)]\n",
    "        ad.append(abs(first.age - second.age))\n",
    "        ro.append(get_rent_range(first, second))\n",
    "        di.append(get_inverse_distance(first, second))\n",
    "        sg.append(first.gender == second.gender)\n",
    "        sr.append(first.inRelationship == second.inRelationship)\n",
    "        sc.append(first.isClean == second.isClean)\n",
    "        sn.append(first.isNight == second.isNight)\n",
    "        ss.append(first.isStudent == second.isStudent)\n",
    "        sm.append(first.smokingOk == second.smokingOk)\n",
    "        st.append(first.term == second.term)\n",
    "        sa.append(first.attractiveness)\n",
    "        rs.append(second.selectivity)\n",
    "\n",
    "    df['age_dif'] = ad\n",
    "    df['rent_overlap'] = ro\n",
    "    df['inverse_distance'] = di\n",
    "    df['same_gender'] = sg\n",
    "    df['same_relate'] = sr\n",
    "    df['same_clean'] = sc\n",
    "    df['same_night'] = sn\n",
    "    df['same_student'] = ss\n",
    "    df['same_smoking'] = sm\n",
    "    df['same_term'] = st\n",
    "    df['sender_attractiveness'] = sa\n",
    "    df['receiver_selectivity'] = rs\n",
    "\n",
    "    return df"
   ]
  },
  {
   "cell_type": "code",
   "execution_count": 34,
   "metadata": {},
   "outputs": [
    {
     "data": {
      "text/html": [
       "<div>\n",
       "<style>\n",
       "    .dataframe thead tr:only-child th {\n",
       "        text-align: right;\n",
       "    }\n",
       "\n",
       "    .dataframe thead th {\n",
       "        text-align: left;\n",
       "    }\n",
       "\n",
       "    .dataframe tbody tr th {\n",
       "        vertical-align: top;\n",
       "    }\n",
       "</style>\n",
       "<table border=\"1\" class=\"dataframe\">\n",
       "  <thead>\n",
       "    <tr style=\"text-align: right;\">\n",
       "      <th></th>\n",
       "      <th>conv_id</th>\n",
       "      <th>response</th>\n",
       "      <th>first_uid</th>\n",
       "      <th>second_uid</th>\n",
       "      <th>first_mid</th>\n",
       "      <th>second_mid</th>\n",
       "      <th>timestamp</th>\n",
       "      <th>age_dif</th>\n",
       "      <th>same_gender</th>\n",
       "      <th>rent_overlap</th>\n",
       "      <th>same_relate</th>\n",
       "      <th>same_clean</th>\n",
       "      <th>same_night</th>\n",
       "      <th>same_student</th>\n",
       "      <th>sender_attractiveness</th>\n",
       "      <th>receiver_selectivity</th>\n",
       "      <th>inverse_distance</th>\n",
       "      <th>same_smoking</th>\n",
       "      <th>same_term</th>\n",
       "    </tr>\n",
       "  </thead>\n",
       "  <tbody>\n",
       "    <tr>\n",
       "      <th>14397</th>\n",
       "      <td>nQYG2Z9elg8Ws3QWmC4B</td>\n",
       "      <td>True</td>\n",
       "      <td>nQYG2Z9elg</td>\n",
       "      <td>8Ws3QWmC4B</td>\n",
       "      <td>-KWZ6j5vHnNWPD90JJ18</td>\n",
       "      <td>-KWUqwqvF7RfcRaEqtL6</td>\n",
       "      <td>1479148499453</td>\n",
       "      <td>2.0</td>\n",
       "      <td>True</td>\n",
       "      <td>100.0</td>\n",
       "      <td>True</td>\n",
       "      <td>False</td>\n",
       "      <td>True</td>\n",
       "      <td>False</td>\n",
       "      <td>0.500000</td>\n",
       "      <td>0.933333</td>\n",
       "      <td>0.004258</td>\n",
       "      <td>False</td>\n",
       "      <td>False</td>\n",
       "    </tr>\n",
       "    <tr>\n",
       "      <th>5891</th>\n",
       "      <td>QkEYa5ZJNZ6Iol6V4bND</td>\n",
       "      <td>True</td>\n",
       "      <td>6Iol6V4bND</td>\n",
       "      <td>QkEYa5ZJNZ</td>\n",
       "      <td>-KW_4Mfb_a0bNlSYtwN0</td>\n",
       "      <td>-KW_4ID8hJs4Hw_lU81P</td>\n",
       "      <td>1479164656685</td>\n",
       "      <td>7.0</td>\n",
       "      <td>True</td>\n",
       "      <td>450.0</td>\n",
       "      <td>False</td>\n",
       "      <td>True</td>\n",
       "      <td>False</td>\n",
       "      <td>True</td>\n",
       "      <td>0.666667</td>\n",
       "      <td>0.000000</td>\n",
       "      <td>0.004413</td>\n",
       "      <td>False</td>\n",
       "      <td>True</td>\n",
       "    </tr>\n",
       "    <tr>\n",
       "      <th>14184</th>\n",
       "      <td>n2ffQeQMriYL4dlYdM1W</td>\n",
       "      <td>True</td>\n",
       "      <td>YL4dlYdM1W</td>\n",
       "      <td>n2ffQeQMri</td>\n",
       "      <td>-KYLE9PvLEsrBHm36puZ</td>\n",
       "      <td>-KYLDu4jBBzdhx8VdHcD</td>\n",
       "      <td>1481063049035</td>\n",
       "      <td>7.0</td>\n",
       "      <td>False</td>\n",
       "      <td>1000.0</td>\n",
       "      <td>False</td>\n",
       "      <td>True</td>\n",
       "      <td>True</td>\n",
       "      <td>True</td>\n",
       "      <td>0.750000</td>\n",
       "      <td>0.235294</td>\n",
       "      <td>0.004424</td>\n",
       "      <td>True</td>\n",
       "      <td>True</td>\n",
       "    </tr>\n",
       "    <tr>\n",
       "      <th>8589</th>\n",
       "      <td>YL4dlYdM1W6Iol6V4bND</td>\n",
       "      <td>True</td>\n",
       "      <td>YL4dlYdM1W</td>\n",
       "      <td>6Iol6V4bND</td>\n",
       "      <td>-KYLEFnJYvUAIbEW4uvC</td>\n",
       "      <td>-KYLPbedA40Fz69oKze4</td>\n",
       "      <td>1481063075142</td>\n",
       "      <td>12.0</td>\n",
       "      <td>True</td>\n",
       "      <td>0.0</td>\n",
       "      <td>False</td>\n",
       "      <td>False</td>\n",
       "      <td>True</td>\n",
       "      <td>False</td>\n",
       "      <td>0.750000</td>\n",
       "      <td>0.714286</td>\n",
       "      <td>0.004423</td>\n",
       "      <td>True</td>\n",
       "      <td>True</td>\n",
       "    </tr>\n",
       "    <tr>\n",
       "      <th>14404</th>\n",
       "      <td>nQYG2Z9elgn2ffQeQMri</td>\n",
       "      <td>False</td>\n",
       "      <td>n2ffQeQMri</td>\n",
       "      <td>nQYG2Z9elg</td>\n",
       "      <td>-KYLEyp9_LdGKEMioVyZ</td>\n",
       "      <td>None</td>\n",
       "      <td>1481063263841</td>\n",
       "      <td>12.0</td>\n",
       "      <td>False</td>\n",
       "      <td>950.0</td>\n",
       "      <td>False</td>\n",
       "      <td>False</td>\n",
       "      <td>False</td>\n",
       "      <td>False</td>\n",
       "      <td>0.722222</td>\n",
       "      <td>0.857143</td>\n",
       "      <td>0.004415</td>\n",
       "      <td>False</td>\n",
       "      <td>True</td>\n",
       "    </tr>\n",
       "  </tbody>\n",
       "</table>\n",
       "</div>"
      ],
      "text/plain": [
       "                    conv_id response   first_uid  second_uid  \\\n",
       "14397  nQYG2Z9elg8Ws3QWmC4B     True  nQYG2Z9elg  8Ws3QWmC4B   \n",
       "5891   QkEYa5ZJNZ6Iol6V4bND     True  6Iol6V4bND  QkEYa5ZJNZ   \n",
       "14184  n2ffQeQMriYL4dlYdM1W     True  YL4dlYdM1W  n2ffQeQMri   \n",
       "8589   YL4dlYdM1W6Iol6V4bND     True  YL4dlYdM1W  6Iol6V4bND   \n",
       "14404  nQYG2Z9elgn2ffQeQMri    False  n2ffQeQMri  nQYG2Z9elg   \n",
       "\n",
       "                  first_mid            second_mid      timestamp  age_dif  \\\n",
       "14397  -KWZ6j5vHnNWPD90JJ18  -KWUqwqvF7RfcRaEqtL6  1479148499453      2.0   \n",
       "5891   -KW_4Mfb_a0bNlSYtwN0  -KW_4ID8hJs4Hw_lU81P  1479164656685      7.0   \n",
       "14184  -KYLE9PvLEsrBHm36puZ  -KYLDu4jBBzdhx8VdHcD  1481063049035      7.0   \n",
       "8589   -KYLEFnJYvUAIbEW4uvC  -KYLPbedA40Fz69oKze4  1481063075142     12.0   \n",
       "14404  -KYLEyp9_LdGKEMioVyZ                  None  1481063263841     12.0   \n",
       "\n",
       "       same_gender  rent_overlap  same_relate  same_clean  same_night  \\\n",
       "14397         True         100.0         True       False        True   \n",
       "5891          True         450.0        False        True       False   \n",
       "14184        False        1000.0        False        True        True   \n",
       "8589          True           0.0        False       False        True   \n",
       "14404        False         950.0        False       False       False   \n",
       "\n",
       "       same_student  sender_attractiveness  receiver_selectivity  \\\n",
       "14397         False               0.500000              0.933333   \n",
       "5891           True               0.666667              0.000000   \n",
       "14184          True               0.750000              0.235294   \n",
       "8589          False               0.750000              0.714286   \n",
       "14404         False               0.722222              0.857143   \n",
       "\n",
       "       inverse_distance  same_smoking  same_term  \n",
       "14397          0.004258         False      False  \n",
       "5891           0.004413         False       True  \n",
       "14184          0.004424          True       True  \n",
       "8589           0.004423          True       True  \n",
       "14404          0.004415         False       True  "
      ]
     },
     "execution_count": 34,
     "metadata": {},
     "output_type": "execute_result"
    }
   ],
   "source": [
    "X = feature_time(convo_df, user_df)\n",
    "X.head()"
   ]
  },
  {
   "cell_type": "code",
   "execution_count": null,
   "metadata": {
    "collapsed": true
   },
   "outputs": [],
   "source": []
  },
  {
   "cell_type": "code",
   "execution_count": null,
   "metadata": {
    "collapsed": true
   },
   "outputs": [],
   "source": []
  },
  {
   "cell_type": "code",
   "execution_count": null,
   "metadata": {
    "collapsed": true
   },
   "outputs": [],
   "source": []
  },
  {
   "cell_type": "code",
   "execution_count": null,
   "metadata": {
    "collapsed": true
   },
   "outputs": [],
   "source": []
  }
 ],
 "metadata": {
  "kernelspec": {
   "display_name": "Python 3",
   "language": "python",
   "name": "python3"
  },
  "language_info": {
   "codemirror_mode": {
    "name": "ipython",
    "version": 3
   },
   "file_extension": ".py",
   "mimetype": "text/x-python",
   "name": "python",
   "nbconvert_exporter": "python",
   "pygments_lexer": "ipython3",
   "version": "3.6.3"
  }
 },
 "nbformat": 4,
 "nbformat_minor": 2
}
