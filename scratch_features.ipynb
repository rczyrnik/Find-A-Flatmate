{
 "cells": [
  {
   "cell_type": "code",
   "execution_count": null,
   "metadata": {
    "collapsed": true
   },
   "outputs": [],
   "source": [
    "import pandas as pd\n",
    "from numpy.random import choice\n",
    "from my_pickle import unpickle_it\n",
    "import matplotlib.pyplot as plt"
   ]
  },
  {
   "cell_type": "code",
   "execution_count": null,
   "metadata": {},
   "outputs": [],
   "source": [
    "user_df = unpickle_it('user_df')\n",
    "convo_df = unpickle_it('convo_df')\n",
    "\n",
    "print(\"Make sure we're not useing ECT data\")\n",
    "print(pd.to_datetime(convo_df.timestamp.max()*1000000))"
   ]
  },
  {
   "cell_type": "code",
   "execution_count": null,
   "metadata": {},
   "outputs": [],
   "source": [
    "print(\"Troubleshoot\")\n",
    "print(32436)\n",
    "print(len(user_df))\n",
    "print(len(convo_df))"
   ]
  },
  {
   "cell_type": "markdown",
   "metadata": {},
   "source": [
    "# CELLS TO BE COPY-PASTED INTO .PY FILE"
   ]
  },
  {
   "cell_type": "code",
   "execution_count": null,
   "metadata": {},
   "outputs": [],
   "source": [
    "# are user ids unique?\n",
    "print(len(user_df.index))\n",
    "print(len(user_df.index.unique())) "
   ]
  },
  {
   "cell_type": "code",
   "execution_count": null,
   "metadata": {},
   "outputs": [],
   "source": [
    "def remove_bad_uids(df, user_df):\n",
    "    ''' \n",
    "    removes and rows of the df that have uids not in uids\n",
    "    '''\n",
    "    uids = set(user_df.index)\n",
    "    df['flag1'] = df.first_uid.apply(lambda x: x not in uids)\n",
    "    df['flag2'] = df.second_uid.apply(lambda x: x not in uids)\n",
    "    df['flag'] = df.flag1 | df.flag2\n",
    "    \n",
    "    df = df.drop(df[df.flag].index)\n",
    "\n",
    "    df = df.drop(['flag1','flag2','flag'], axis=1)\n",
    "    return df\n",
    "    \n",
    "\n",
    "convo_df = remove_bad_uids(convo_df, user_df)  \n",
    "len(convo_df)"
   ]
  },
  {
   "cell_type": "code",
   "execution_count": null,
   "metadata": {
    "collapsed": true
   },
   "outputs": [],
   "source": [
    "def get_rent_range(first_user, second_user):\n",
    "    max1 = first_user.maxCost\n",
    "    max2 = second_user.maxCost\n",
    "    min1 = first_user.minCost\n",
    "    min2 = second_user.minCost\n",
    "    if max1*max2*min1*min2 > 0:\n",
    "        upper = min(first_user.maxCost,second_user.maxCost)\n",
    "        lower = max(first_user.minCost,second_user.minCost)\n",
    "        if upper-lower > 0: return upper-lower\n",
    "        else: return 0\n",
    "    else: return 175"
   ]
  },
  {
   "cell_type": "code",
   "execution_count": null,
   "metadata": {},
   "outputs": [],
   "source": [
    "yes1 = '0a9yOPKFSH'\n",
    "yes2 = '013LzOrVju'\n",
    "no1 = '0UBLgJIHgz'\n",
    "no2 = '0EWNOmyQmW'\n",
    "low = '01DE0NCjwh'\n",
    "high = '02GDyQPLII'\n",
    "print(get_rent_range(user_df.loc[yes1], user_df.loc[yes2])) # should be 150\n",
    "print(get_rent_range(user_df.loc[yes1], user_df.loc[no1]))  # should be 175\n",
    "print(get_rent_range(user_df.loc[no2], user_df.loc[no1]))   # should be 175\n",
    "print(get_rent_range(user_df.loc[low], user_df.loc[high]))  # should be 0"
   ]
  },
  {
   "cell_type": "code",
   "execution_count": null,
   "metadata": {
    "collapsed": true
   },
   "outputs": [],
   "source": [
    "def feature_time(df, user_df):\n",
    "\n",
    "    ad,sg,ro,sr,sc,sn,ss,sa,rs = [],[],[],[],[],[],[],[],[]\n",
    "\n",
    "    for index, row in df.iterrows():\n",
    "        first = user_df.loc[str(row.first_uid)]\n",
    "        second = user_df.loc[str(row.second_uid)]\n",
    "        ad.append(abs(first.age - second.age))\n",
    "        sg.append(first.gender == second.gender)\n",
    "        ro.append(get_rent_range(first, second))\n",
    "        sr.append(first.inRelationship == second.inRelationship)\n",
    "        sc.append(first.isClean == second.isClean)\n",
    "        sn.append(first.isNight == second.isNight)\n",
    "        ss.append(first.isStudent == second.isStudent)\n",
    "        sa.append(first.attractiveness)\n",
    "        rs.append(second.selectivity)\n",
    "\n",
    "    df['age_dif'] = ad\n",
    "    df['same_gender'] = sg\n",
    "    df['rent_overlap'] = ro\n",
    "    df['same_relate'] = sr\n",
    "    df['same_clean'] = sc\n",
    "    df['same_night'] = sn\n",
    "    df['same_student'] = ss\n",
    "    df['sender_attractiveness'] = sa\n",
    "    df['receiver_selectivity'] = rs\n",
    "\n",
    "    return df"
   ]
  },
  {
   "cell_type": "code",
   "execution_count": null,
   "metadata": {},
   "outputs": [],
   "source": [
    "X = feature_time(convo_df, user_df)"
   ]
  },
  {
   "cell_type": "code",
   "execution_count": null,
   "metadata": {},
   "outputs": [],
   "source": [
    "X.head()"
   ]
  },
  {
   "cell_type": "code",
   "execution_count": null,
   "metadata": {
    "collapsed": true
   },
   "outputs": [],
   "source": []
  },
  {
   "cell_type": "code",
   "execution_count": null,
   "metadata": {
    "collapsed": true
   },
   "outputs": [],
   "source": []
  },
  {
   "cell_type": "code",
   "execution_count": null,
   "metadata": {
    "collapsed": true
   },
   "outputs": [],
   "source": []
  },
  {
   "cell_type": "code",
   "execution_count": null,
   "metadata": {
    "collapsed": true
   },
   "outputs": [],
   "source": [
    "user_df['cost_range'] = user_df.maxCost-user_df.minCost\n",
    "user_df.cost_range.hist(bins=range(0,2000,50))\n",
    "plt.show()\n",
    "user_df.head(2)"
   ]
  },
  {
   "cell_type": "code",
   "execution_count": null,
   "metadata": {
    "collapsed": true
   },
   "outputs": [],
   "source": [
    "def get_average_overlap(df,samples):\n",
    "    # to find average overlap of two users' rent ranges\n",
    "    # comes out to about $175\n",
    "    s = 0\n",
    "    for n in range(samples):\n",
    "        two_users = choice(user_df[user_df.cost_range>0].index,2)\n",
    "        overlap = user_df.loc[two_users,'maxCost'].min()-user_df.loc[two_users,'minCost'].max()\n",
    "        if overlap < 0: overlap = 0\n",
    "        s += overlap\n",
    "    return s/samples"
   ]
  },
  {
   "cell_type": "code",
   "execution_count": null,
   "metadata": {
    "collapsed": true,
    "scrolled": true
   },
   "outputs": [],
   "source": [
    "X = feature_time(convo_df, user_df)"
   ]
  },
  {
   "cell_type": "code",
   "execution_count": null,
   "metadata": {
    "collapsed": true
   },
   "outputs": [],
   "source": [
    "print(len(X))"
   ]
  },
  {
   "cell_type": "code",
   "execution_count": null,
   "metadata": {
    "collapsed": true
   },
   "outputs": [],
   "source": []
  }
 ],
 "metadata": {
  "kernelspec": {
   "display_name": "Python 3",
   "language": "python",
   "name": "python3"
  },
  "language_info": {
   "codemirror_mode": {
    "name": "ipython",
    "version": 3
   },
   "file_extension": ".py",
   "mimetype": "text/x-python",
   "name": "python",
   "nbconvert_exporter": "python",
   "pygments_lexer": "ipython3",
   "version": "3.6.3"
  }
 },
 "nbformat": 4,
 "nbformat_minor": 2
}
