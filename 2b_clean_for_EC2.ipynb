{
 "cells": [
  {
   "cell_type": "code",
   "execution_count": null,
   "metadata": {
    "collapsed": true
   },
   "outputs": [],
   "source": [
    "import pandas as pd\n",
    "import numpy as np\n",
    "from numpy.random import choice\n",
    "import my_pickle as mp\n",
    "import matplotlib.pyplot as plt\n",
    "\n",
    "from importlib import reload"
   ]
  },
  {
   "cell_type": "code",
   "execution_count": null,
   "metadata": {
    "collapsed": true
   },
   "outputs": [],
   "source": [
    "master_df = mp.unjson_it('data_master')"
   ]
  },
  {
   "cell_type": "code",
   "execution_count": null,
   "metadata": {
    "collapsed": true
   },
   "outputs": [],
   "source": [
    "master_df.columns.values"
   ]
  },
  {
   "cell_type": "code",
   "execution_count": null,
   "metadata": {
    "collapsed": true
   },
   "outputs": [],
   "source": [
    "master_df.iloc[:,119:130].head()"
   ]
  },
  {
   "cell_type": "code",
   "execution_count": null,
   "metadata": {
    "collapsed": true
   },
   "outputs": [],
   "source": [
    "print(\"there are {} columns\".format(len(master_df.columns.values)))"
   ]
  },
  {
   "cell_type": "code",
   "execution_count": null,
   "metadata": {
    "collapsed": true
   },
   "outputs": [],
   "source": [
    "keep_X = ['I_count_receiver', 'I_count_sender',  \n",
    "        'age_dif', 'age_receiver', 'age_sender', 'amenities_overlap', 'distance', \n",
    "        'exclaim_count_receiver','exclaim_count_sender', 'gender_receiver', 'gender_sender',\n",
    "        'has_about_receiver', 'has_about_sender', 'has_facebookId_receiver','has_facebookId_sender',\n",
    "        'has_linkedinId_receiver','has_linkedinId_sender', 'has_picture_receiver','has_picture_sender', \n",
    "        'has_room_receiver', 'has_room_sender','hobbies_overlap','inRelationship_receiver', 'inRelationship_sender',\n",
    "        'isClean_receiver', 'isClean_sender', 'isNight_receiver','isNight_sender', \n",
    "        'isStudent_receiver', 'isStudent_sender','len_about_receiver', 'len_about_sender',\n",
    "        'maxCost_receiver','maxCost_sender','minCost_receiver', 'minCost_sender',\n",
    "        'neighborhoods_overlap','numRoommates_receiver','numRoommates_sender',\n",
    "        'period_count_receiver', 'period_count_sender','petsOk_receiver','petsOk_sender',\n",
    "        'question_count_receiver', 'question_count_sender','rent_overlap','roommate_similarity',\n",
    "        'same_city', 'same_clean',\n",
    "        'same_college', 'same_country', 'same_gender', 'same_metro',\n",
    "        'same_night', 'same_relate', 'same_smoking', 'same_state',\n",
    "        'same_student', 'same_term', 'same_type', 'same_work',\n",
    "        'sentence_count_receiver', 'sentence_count_sender',\n",
    "        'smokingOk_receiver', 'smokingOk_sender', 'term_receiver','term_sender', \n",
    "        'type_receiver', 'type_sender','urgency_receiver', 'urgency_sender']\n",
    "   \n",
    "keep_y = ['convo_length','response']\n",
    "          \n",
    "drop = ['I_ratio_receiver', 'I_ratio_sender','about_receiver', 'about_sender', \n",
    "        'activeAt_receiver', 'activeAt_sender',\n",
    "        'amenities_receiver', 'amenities_sender','available_receiver', 'available_sender', \n",
    "        'birthday_receiver', 'birthday_sender',\n",
    "        'college_receiver', 'college_sender','created_receiver', 'created_sender',\n",
    "        'exclaim_ratio_receiver','exclaim_ratio_sender',\n",
    "        'facebookId_receiver', 'facebookId_sender', 'flag_receiver', 'flag_sender',\n",
    "        'hobbies_receiver', 'hobbies_sender','hometownCity_receiver', 'hometownCity_sender',\n",
    "        'hometownCountry_receiver', 'hometownCountry_sender','hometownState_receiver', 'hometownState_sender',\n",
    "        'len_receiver','len_sender','linkedinId_receiver', 'linkedinId_sender',\n",
    "        'location_receiver', 'location_sender','metro_receiver', 'metro_sender', \n",
    "        'mid_receiver','mid_sender', 'neighborhoods_receiver','neighborhoods_sender',\n",
    "        'onboarded_receiver', 'onboarded_sender','period_ratio_receiver', 'period_ratio_sender', \n",
    "        'picture_receiver', 'picture_sender','question_ratio_receiver', 'question_ratio_sender',\n",
    "        'sentence_ratio_receiver', 'sentence_ratio_sender','timestamp',\n",
    "        'uid_receiver', 'uid_sender','updated_receiver', 'updated_sender',\n",
    "        'work_receiver', 'work_sender']"
   ]
  },
  {
   "cell_type": "code",
   "execution_count": null,
   "metadata": {
    "collapsed": true
   },
   "outputs": [],
   "source": [
    "X_df = master_df[keep_X]\n",
    "X_df = X_df.fillna(X_df.mean(axis=0))\n",
    "y_df = master_df[keep_y]"
   ]
  },
  {
   "cell_type": "code",
   "execution_count": null,
   "metadata": {
    "collapsed": true
   },
   "outputs": [],
   "source": [
    "mp.json_it(X_df,'data_X')\n",
    "mp.json_it(y_df,'data_y')"
   ]
  },
  {
   "cell_type": "code",
   "execution_count": null,
   "metadata": {
    "collapsed": true
   },
   "outputs": [],
   "source": []
  }
 ],
 "metadata": {
  "kernelspec": {
   "display_name": "Python 3",
   "language": "python",
   "name": "python3"
  },
  "language_info": {
   "codemirror_mode": {
    "name": "ipython",
    "version": 3
   },
   "file_extension": ".py",
   "mimetype": "text/x-python",
   "name": "python",
   "nbconvert_exporter": "python",
   "pygments_lexer": "ipython3",
   "version": "3.6.3"
  }
 },
 "nbformat": 4,
 "nbformat_minor": 2
}
