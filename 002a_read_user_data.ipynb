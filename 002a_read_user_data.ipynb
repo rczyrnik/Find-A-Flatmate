{
 "cells": [
  {
   "cell_type": "markdown",
   "metadata": {},
   "source": [
    "# IMPORTS"
   ]
  },
  {
   "cell_type": "code",
   "execution_count": null,
   "metadata": {
    "collapsed": true
   },
   "outputs": [],
   "source": [
    "import pandas as pd\n",
    "import numpy as np\n",
    "\n",
    "import datetime as dt\n",
    "\n",
    "import re\n",
    "\n",
    "import json"
   ]
  },
  {
   "cell_type": "markdown",
   "metadata": {},
   "source": [
    "# READ IN USER INFORMATION"
   ]
  },
  {
   "cell_type": "code",
   "execution_count": null,
   "metadata": {
    "collapsed": true
   },
   "outputs": [],
   "source": [
    "# filepath\n",
    "data_file_path = \"/Users/gandalf/Documents/coding/do_not_commit/capstone/\"\n",
    "DF = pd.read_json(data_file_path+\"raw_data_users.json\")\n",
    "print(\"... read in dataframe\")"
   ]
  },
  {
   "cell_type": "code",
   "execution_count": null,
   "metadata": {
    "collapsed": true
   },
   "outputs": [],
   "source": [
    "# create a copy\n",
    "df = DF.copy()\n",
    "\n",
    "# remove users that haven't been onboarded\n",
    "df = df.drop(df[df.onboarded != 1].index)\n",
    "print(\"... dropped users that aren't onboarded\")\n",
    "\n",
    "# convert to datetimes\n",
    "def my_to_datetime(x):\n",
    "    if isinstance(x, dict):\n",
    "        try: return pd.to_datetime(x['$date'])\n",
    "        except: return None\n",
    "    else: return None\n",
    "\n",
    "def my_to_date(x):\n",
    "    if isinstance(x, dict):\n",
    "        try: return pd.to_datetime(x['$date']).date()\n",
    "        except: return None\n",
    "    else: return None\n",
    "df['_created_at'] = df._created_at.apply(lambda x: my_to_datetime(x))\n",
    "df['_updated_at'] = df._updated_at.apply(lambda x: my_to_datetime(x))\n",
    "df.activeAt = df.activeAt.apply(lambda x: my_to_datetime(x))\n",
    "df.available = df.available.apply(lambda x: my_to_date(x))\n",
    "df.birthday = df.birthday.apply(lambda x: my_to_date(x))\n",
    "print(\"... changed to datetimes\")\n",
    "\n",
    "# set the user id as the index\n",
    "df = df.set_index('_id')\n",
    "print(\"... set user id as the index\")\n",
    "\n",
    "# create a constant for easy counting\n",
    "df['const']=1\n",
    "print(\"... created a constant value\")\n",
    "\n",
    "# set a value n for the number of users in the sample\n",
    "n = len(df)\n",
    "print(\"There are {} users in the data frame.\".format(n))"
   ]
  },
  {
   "cell_type": "markdown",
   "metadata": {},
   "source": [
    "# INITIAL DATA INVESTIGATION"
   ]
  },
  {
   "cell_type": "code",
   "execution_count": null,
   "metadata": {
    "collapsed": true
   },
   "outputs": [],
   "source": [
    "drop_set = set()\n",
    "\n",
    "print(df.columns)"
   ]
  },
  {
   "cell_type": "markdown",
   "metadata": {},
   "source": [
    "## _acl"
   ]
  },
  {
   "cell_type": "code",
   "execution_count": null,
   "metadata": {
    "collapsed": true
   },
   "outputs": [],
   "source": [
    "# What is it? \n",
    "#   looks like read/write properties. everything seems set to True for everyone. \n",
    "#\n",
    "# What do I do with it? \n",
    "#   delete\n",
    "\n",
    "drop_set.add('_acl')"
   ]
  },
  {
   "cell_type": "markdown",
   "metadata": {},
   "source": [
    "## _auth_data_facebook"
   ]
  },
  {
   "cell_type": "code",
   "execution_count": null,
   "metadata": {
    "collapsed": true
   },
   "outputs": [],
   "source": [
    "# What is it? \n",
    "#   information about Facebook authoration \n",
    "#\n",
    "# What do I do with it? \n",
    "#   turn into has_facebook binary\n",
    "\n",
    "df['has_facebook'] = df._auth_data_facebook.apply(lambda x: \n",
    "                                                  1 if isinstance(x, dict) else 0)\n",
    "print(\"{:.3}% of users have linked to facebook.\".format(100*df.has_facebook.sum()/n))\n",
    "drop_set.add('_auth_data_facebook')\n"
   ]
  },
  {
   "cell_type": "markdown",
   "metadata": {},
   "source": [
    "## _created_at"
   ]
  },
  {
   "cell_type": "code",
   "execution_count": null,
   "metadata": {
    "collapsed": true
   },
   "outputs": [],
   "source": [
    "# What is it?\n",
    "#   date the account was created\n",
    "#\n",
    "# What do I do with it?\n",
    "#   get date, day of month, day of week, and hour of day information\n",
    "\n",
    "df['created_date'] = df._created_at.apply(lambda x: x.date())\n",
    "\n",
    "df['created_year'] = df._created_at.apply(lambda x: x.year)\n",
    "df['created_day_of_year'] = df._created_at.apply(lambda x: int(x.strftime('%j')))\n",
    "\n",
    "df['created_month'] = df._created_at.apply(lambda x: x.isocalendar()[0])\n",
    "df['created_day_of_month'] = df._created_at.apply(lambda x: x.day)\n",
    "\n",
    "df['created_week'] = df._created_at.apply(lambda x: x.isocalendar()[1])\n",
    "df['created_day_of_week'] = df._created_at.apply(lambda x: x.isoweekday())\n",
    "\n",
    "df['created_day'] = df._created_at.apply(lambda x: x.toordinal())\n",
    "df['created_hour_of_day'] = df._created_at.apply(lambda x: x.hour)\n",
    "\n",
    "drop_set.add('_created_at')"
   ]
  },
  {
   "cell_type": "markdown",
   "metadata": {},
   "source": [
    "## _hashed_password"
   ]
  },
  {
   "cell_type": "code",
   "execution_count": null,
   "metadata": {
    "collapsed": true
   },
   "outputs": [],
   "source": [
    "# What is it?\n",
    "#   some ppl have one, some don't\n",
    "#\n",
    "# What do I do with it?\n",
    "#   make it binary!\n",
    "\n",
    "df['has_password'] = df._hashed_password.apply(lambda x: 1 if isinstance(x, str) else 0)\n",
    "print(\"{:.3}% of users have a password.\".format(100*df.has_password.sum()/n))\n",
    "drop_set.add('_hashed_password')"
   ]
  },
  {
   "cell_type": "markdown",
   "metadata": {},
   "source": [
    "## _p_room"
   ]
  },
  {
   "cell_type": "code",
   "execution_count": null,
   "metadata": {
    "collapsed": true
   },
   "outputs": [],
   "source": [
    "# What is it?\n",
    "#   does the person have a room already?\n",
    "#\n",
    "# What do I do with it?\n",
    "#   make it binary!\n",
    "\n",
    "df['yes_room'] = df._p_room.apply(lambda x: 1 if isinstance(x, str) else 0)\n",
    "print(\"{:.3}% of users already have a room\".format(100*df.yes_room.sum()/n))\n",
    "drop_set.add('_p_room')"
   ]
  },
  {
   "cell_type": "markdown",
   "metadata": {},
   "source": [
    "## _rperm"
   ]
  },
  {
   "cell_type": "code",
   "execution_count": null,
   "metadata": {
    "collapsed": true
   },
   "outputs": [],
   "source": [
    "# What is it?\n",
    "#   a list of an asterix and the user's id\n",
    "#\n",
    "# What do I do with it?\n",
    "#   delete it\n",
    "\n",
    "drop_set.add('_rperm')"
   ]
  },
  {
   "cell_type": "markdown",
   "metadata": {},
   "source": [
    "## _updated_at"
   ]
  },
  {
   "cell_type": "code",
   "execution_count": null,
   "metadata": {
    "collapsed": true
   },
   "outputs": [],
   "source": [
    "# What is it?\n",
    "#   one of three dates in Jan 2018\n",
    "#\n",
    "# What do I do with it?\n",
    "#   delete it\n",
    "\n",
    "# get information out of when they updated their profile\n",
    "df['_updated_at_date'] = df._updated_at.apply(lambda x: x.date())\n",
    "print(df['_updated_at_date'].unique())\n",
    "\n",
    "drop_set.add('_updated_at')\n",
    "drop_set.add('_updated_at_date')"
   ]
  },
  {
   "cell_type": "markdown",
   "metadata": {},
   "source": [
    "# _wperm"
   ]
  },
  {
   "cell_type": "code",
   "execution_count": null,
   "metadata": {
    "collapsed": true
   },
   "outputs": [],
   "source": [
    "# What is it?\n",
    "#   user id\n",
    "#\n",
    "# What do I do with it?\n",
    "#   drop\n",
    "\n",
    "drop_set.add('_wperm')"
   ]
  },
  {
   "cell_type": "markdown",
   "metadata": {},
   "source": [
    "## about"
   ]
  },
  {
   "cell_type": "code",
   "execution_count": null,
   "metadata": {
    "collapsed": true
   },
   "outputs": [],
   "source": [
    "# What is it?\n",
    "#   users self-descriptions\n",
    "#\n",
    "# What do I do with it?\n",
    "#   turn NaN into empty strings\n",
    "#   create binary has_about variable\n",
    "#   create int len_about variable\n",
    "\n",
    "df.about = df.about.fillna(\"\")\n",
    "df['len_about'] = df.about.apply(lambda x: len(x))\n",
    "df['has_about'] = df.len_about.apply(lambda x: 1 if x >0 else 0)\n",
    "print(\"{:.3}% of users have an about section\".format(100*df.has_about.sum()/n))"
   ]
  },
  {
   "cell_type": "markdown",
   "metadata": {},
   "source": [
    "## activeAt"
   ]
  },
  {
   "cell_type": "code",
   "execution_count": null,
   "metadata": {
    "collapsed": true
   },
   "outputs": [],
   "source": [
    "# What is it?\n",
    "#   most recent activity\n",
    "#\n",
    "# What do I do with it?\n",
    "#   delete it\n",
    "#   has data from after the break point --> data bleed\n",
    "\n",
    "drop_set.add('activeAt')"
   ]
  },
  {
   "cell_type": "markdown",
   "metadata": {},
   "source": [
    "## amenities"
   ]
  },
  {
   "cell_type": "code",
   "execution_count": null,
   "metadata": {
    "collapsed": true
   },
   "outputs": [],
   "source": [
    "# What is it?\n",
    "#   ammenities ppl have asked for\n",
    "#\n",
    "# What do I do with it?\n",
    "#   create len amenities\n",
    "#   create has amenities\n",
    "#   perhaps lateron tokenize each amenity\n",
    "\n",
    "df.amenities = df.amenities.apply(lambda x: set(x) if isinstance(x,list) else set())\n",
    "df['len_amenities'] = df.amenities.apply(lambda x: len(x))\n",
    "df['has_amenities'] = df.len_amenities.apply(lambda x: 1 if x > 0 else 0)"
   ]
  },
  {
   "cell_type": "markdown",
   "metadata": {},
   "source": [
    "## available"
   ]
  },
  {
   "cell_type": "code",
   "execution_count": null,
   "metadata": {
    "collapsed": true
   },
   "outputs": [],
   "source": [
    "# What is it?\n",
    "#   date person needs a room\n",
    "#\n",
    "# What do I do with it?\n",
    "#   turn into a date\n",
    "#   create has_available\n",
    "#   create timedelta_created_available\n",
    "#\n",
    "#   Maybe in the future,\n",
    "#   fix dates that appear misentered, or somehow code the dates as \"past\" or \"future\"\n",
    "\n",
    "df['has_available'] = df.available.apply(lambda x: 1 if isinstance(x, dt.date) else 0)\n",
    "df['td_creat_avail'] = (df.available-df.created_date).apply(\n",
    "    lambda x: None if isinstance(x, pd._libs.tslib.NaTType) else x.days)  "
   ]
  },
  {
   "cell_type": "markdown",
   "metadata": {},
   "source": [
    "## birthday"
   ]
  },
  {
   "cell_type": "code",
   "execution_count": null,
   "metadata": {
    "collapsed": true
   },
   "outputs": [],
   "source": [
    "# What is it?\n",
    "#   their birthday, everyone put in a birthday\n",
    "#\n",
    "# What do I do with it?\n",
    "#   get (approx) age\n",
    "#   get binary for birthday\n",
    "#\n",
    "#   in future: summer vs winter babies? (might be clutching at straws here)\n",
    "\n",
    "df['age'] = 2018-df.birthday.apply(lambda x: x.year)\n",
    "df['has_birthdate'] = df.birthday.apply(lambda x: 0 if str(x)[5:] == '01-01' else 1)\n",
    "\n",
    "drop_set.add('birthday')"
   ]
  },
  {
   "cell_type": "markdown",
   "metadata": {},
   "source": [
    "## blocked"
   ]
  },
  {
   "cell_type": "code",
   "execution_count": null,
   "metadata": {
    "collapsed": true
   },
   "outputs": [],
   "source": [
    "# What is it?\n",
    "#   who have they been blocked by?\n",
    "#\n",
    "# What do I do with it?\n",
    "#   make yes_block binary\n",
    "#   delete blocked\n",
    "\n",
    "df['yes_block'] = df.blocked.apply(lambda x: 1 if isinstance(x, list) else 0)\n",
    "print(\"{} users have been blocked\".format(df.yes_block.sum()))\n",
    "drop_set.add('blocked')"
   ]
  },
  {
   "cell_type": "markdown",
   "metadata": {},
   "source": [
    "## college"
   ]
  },
  {
   "cell_type": "code",
   "execution_count": null,
   "metadata": {
    "collapsed": true
   },
   "outputs": [],
   "source": [
    "# What is it?\n",
    "#   where did they go to college\n",
    "#\n",
    "# What do I do with it?\n",
    "#   make has_college\n",
    "\n",
    "df['has_college'] = df.college.apply(lambda x: 1 if isinstance(x, str) else 0)\n",
    "print(\"{:.3} of users included a college\".format(100*df.has_college.sum()/n))"
   ]
  },
  {
   "cell_type": "markdown",
   "metadata": {},
   "source": [
    "## email"
   ]
  },
  {
   "cell_type": "code",
   "execution_count": null,
   "metadata": {
    "collapsed": true
   },
   "outputs": [],
   "source": [
    "# What is it?\n",
    "#   what is their email\n",
    "#\n",
    "# What do I do with it?\n",
    "#   make has_email\n",
    "#   get information about email provider\n",
    "#   drop email because security\n",
    "#\n",
    "\n",
    "df['has_email'] = df.email.apply(lambda x: 1 if isinstance(x, str) else 0)\n",
    "print(\"{:.3} of users included an email\".format(100*df.has_email.sum()/n))\n",
    "\n",
    "def get_domain(x):\n",
    "    try: return re.search('(@[a-zA-Z0-9-]+\\.[a-zA-Z0-9-.]+$)', x).group()\n",
    "    except: return ''   \n",
    "df['email_domain'] = df.email.apply(get_domain)\n",
    "\n",
    "drop_set.add('email')"
   ]
  },
  {
   "cell_type": "markdown",
   "metadata": {},
   "source": [
    "## emailVerified"
   ]
  },
  {
   "cell_type": "code",
   "execution_count": null,
   "metadata": {
    "collapsed": true
   },
   "outputs": [],
   "source": [
    "# What is it?\n",
    "#   just nan or 0\n",
    "#\n",
    "# What do I do with it?\n",
    "#   delete it!\n",
    "\n",
    "drop_set.add('emailVerified')"
   ]
  },
  {
   "cell_type": "markdown",
   "metadata": {},
   "source": [
    "## facebookId"
   ]
  },
  {
   "cell_type": "code",
   "execution_count": null,
   "metadata": {
    "collapsed": true
   },
   "outputs": [],
   "source": [
    "# What is it?\n",
    "#   users facebookId, duplicated info from _auth_data_facebook\n",
    "#\n",
    "# What do I do with it?\n",
    "#   delete it!\n",
    "\n",
    "drop_set.add('facebookId')"
   ]
  },
  {
   "cell_type": "markdown",
   "metadata": {},
   "source": [
    "## firstName"
   ]
  },
  {
   "cell_type": "code",
   "execution_count": null,
   "metadata": {
    "collapsed": true
   },
   "outputs": [],
   "source": [
    "# What is it?\n",
    "#   users name, major privacy issues\n",
    "#\n",
    "# What do I do with it?\n",
    "#   delete it!\n",
    "\n",
    "drop_set.add('firstName')"
   ]
  },
  {
   "cell_type": "markdown",
   "metadata": {},
   "source": [
    "## foundRoommate"
   ]
  },
  {
   "cell_type": "code",
   "execution_count": null,
   "metadata": {
    "collapsed": true
   },
   "outputs": [],
   "source": [
    "# What is it?\n",
    "#   users who stoped using the app? \n",
    "#   was told to ignore it\n",
    "#\n",
    "# What do I do with it?\n",
    "#   delete it!\n",
    "\n",
    "drop_set.add('foundRoommate')"
   ]
  },
  {
   "cell_type": "markdown",
   "metadata": {},
   "source": [
    "## gender"
   ]
  },
  {
   "cell_type": "code",
   "execution_count": null,
   "metadata": {
    "collapsed": true
   },
   "outputs": [],
   "source": [
    "# What is it?\n",
    "#   male/female\n",
    "#   no other options, no nans\n",
    "#\n",
    "# What do I do with it?\n",
    "#   binary 1s and 0s\n",
    "\n",
    "\n",
    "df['gender'] = df.gender.apply(lambda x: 1 if x == 'male' or x == 1 else 0)\n",
    "print(\"{:.3} of users are male\".format(100*df.gender.sum()/n))"
   ]
  },
  {
   "cell_type": "markdown",
   "metadata": {
    "collapsed": true
   },
   "source": [
    "## groupChat"
   ]
  },
  {
   "cell_type": "code",
   "execution_count": null,
   "metadata": {
    "collapsed": true
   },
   "outputs": [],
   "source": [
    "# What is it?\n",
    "#   1 or nan\n",
    "#   about 97% 1s\n",
    "#   could be leekage if it tells whether a user has ever chatted\n",
    "#\n",
    "# What do I do with it?\n",
    "#   drop it\n",
    "\n",
    "drop_set.add('groupChat')"
   ]
  },
  {
   "cell_type": "markdown",
   "metadata": {
    "collapsed": true
   },
   "source": [
    "## hobbies"
   ]
  },
  {
   "cell_type": "code",
   "execution_count": null,
   "metadata": {
    "collapsed": true
   },
   "outputs": [],
   "source": [
    "# What is it?\n",
    "#   hobbies ppl have listed\n",
    "#\n",
    "# What do I do with it?\n",
    "#   create len hobbies\n",
    "#   create has hobbies\n",
    "#   turn into set\n",
    "#   perhaps lateron tokenize each hobby\n",
    "\n",
    "\n",
    "df.hobbies = df.hobbies.apply(lambda x: set(x) if isinstance(x,list) else set())\n",
    "df['len_hobbies'] = df.hobbies.apply(lambda x: len(x))\n",
    "df['has_hobbies'] = df.len_hobbies.apply(lambda x: 1 if x >0 else 0)"
   ]
  },
  {
   "cell_type": "markdown",
   "metadata": {
    "collapsed": true
   },
   "source": [
    "## hometown, hometownCity, hometownCountry, hometownCounty, hometownState"
   ]
  },
  {
   "cell_type": "code",
   "execution_count": null,
   "metadata": {
    "collapsed": true
   },
   "outputs": [],
   "source": [
    "# What is it?\n",
    "#   eg:   San Francisco, CA, USA\n",
    "#         San Francisco\n",
    "#         United States\n",
    "#         San Francisco County\n",
    "#         California\n",
    "#   'hometown' duplicated in later columns\n",
    "#\n",
    "# What do I do with it?\n",
    "#   turn into has_hometown\n",
    "#   keep for now, \n",
    "#          same_hometown?\n",
    "#          EEUU vs USA\n",
    "\n",
    "df['has_hometown'] = df.hometown.apply(lambda x: 1 if isinstance(x, str) else 0)\n",
    "print(\"{:.3} of users shared their hometown\".format(100*df.has_hometown.sum()/n))"
   ]
  },
  {
   "cell_type": "markdown",
   "metadata": {},
   "source": [
    "## inRelationship, isClean, isNight, isStudent"
   ]
  },
  {
   "cell_type": "code",
   "execution_count": null,
   "metadata": {
    "collapsed": true
   },
   "outputs": [],
   "source": [
    "# What is it?\n",
    "#   a bunch of binaries\n",
    "#\n",
    "# What do I do with it?\n",
    "#   nothing needs doing, already done!\n",
    "\n",
    "print(\"{:.3} of users identify as in a relationship.\".\n",
    "      format(100*df.inRelationship.sum()/n))\n",
    "print(\"{:.3} of users identify as clean.\".\n",
    "      format(100*df.isClean.sum()/n))\n",
    "print(\"{:.3} of users identify as night owls.\".\n",
    "      format(100*df.isNight.sum()/n))\n",
    "print(\"{:.3} of users identify as students.\".\n",
    "      format(100*df.isStudent.sum()/n))"
   ]
  },
  {
   "cell_type": "markdown",
   "metadata": {},
   "source": [
    "## lastName"
   ]
  },
  {
   "cell_type": "code",
   "execution_count": null,
   "metadata": {
    "collapsed": true
   },
   "outputs": [],
   "source": [
    "# What is it?\n",
    "#   users name, major privacy issues\n",
    "#\n",
    "# What do I do with it?\n",
    "#   drop it like it's hot!\n",
    "\n",
    "drop_set.add('lastName')"
   ]
  },
  {
   "cell_type": "markdown",
   "metadata": {},
   "source": [
    "## likes"
   ]
  },
  {
   "cell_type": "code",
   "execution_count": null,
   "metadata": {
    "collapsed": true
   },
   "outputs": [],
   "source": [
    "# What is it?\n",
    "#   appears to ba all nans\n",
    "#\n",
    "# What do I do with it?\n",
    "#   killit\n",
    "\n",
    "drop_set.add('likes')"
   ]
  },
  {
   "cell_type": "markdown",
   "metadata": {},
   "source": [
    "## linkedinId"
   ]
  },
  {
   "cell_type": "code",
   "execution_count": null,
   "metadata": {
    "collapsed": true
   },
   "outputs": [],
   "source": [
    "# What is it? \n",
    "#   linked in id \n",
    "#\n",
    "# What do I do with it? \n",
    "#   turn into has_facebook binary\n",
    "\n",
    "df['has_linkedin'] = df.linkedinId.apply(lambda x: \n",
    "                                                  1 if isinstance(x, str) else 0)\n",
    "print(\"{:.3}% of users have added a linkedin ID.\".format(100*df.has_linkedin.sum()/n))\n",
    "drop_set.add('linkedinId')"
   ]
  },
  {
   "cell_type": "markdown",
   "metadata": {},
   "source": [
    "## location"
   ]
  },
  {
   "cell_type": "code",
   "execution_count": null,
   "metadata": {
    "collapsed": true
   },
   "outputs": [],
   "source": [
    "# What is it? \n",
    "#   GPS\n",
    "#\n",
    "# What do I do with it? \n",
    "#   turn into  binary\n",
    "#   also info in diff len?\n",
    "\n",
    "df['has_location'] = df.location.apply(lambda x: \n",
    "                                                  1 if isinstance(x, list) else 0)\n",
    "print(\"{:.3}% of users have a GPS location.\".format(100*df.has_location.sum()/n))"
   ]
  },
  {
   "cell_type": "markdown",
   "metadata": {},
   "source": [
    "## maxCost"
   ]
  },
  {
   "cell_type": "code",
   "execution_count": null,
   "metadata": {
    "collapsed": true
   },
   "outputs": [],
   "source": [
    "# What is it? \n",
    "#   max and min cost\n",
    "#\n",
    "# What do I do with it? \n",
    "#   binary it!\n",
    "#   it won't binary\n",
    "#   create a rent range?\n",
    "\n",
    "print(\"92% of users included a rent range.\")\n",
    "\n",
    "df['rent_range'] = df.maxCost-df.minCost"
   ]
  },
  {
   "cell_type": "markdown",
   "metadata": {},
   "source": [
    "## neighborhoods"
   ]
  },
  {
   "cell_type": "code",
   "execution_count": null,
   "metadata": {
    "collapsed": true
   },
   "outputs": [],
   "source": [
    "# What is it? \n",
    "#   id for a neighborhood (will have to look up)\n",
    "#\n",
    "# What do I do with it? \n",
    "#   extract just neighborhood id\n",
    "#   binary it!\n",
    "#   get city, metro, neighborhood info\n",
    "\n",
    "# Make Metro Dictionary\n",
    "filename = \"/Users/gandalf/Documents/coding/do_not_commit/capstone/raw_data_neighborhoods.json\"\n",
    "metro_df = pd.read_json(filename).drop(['_created_at','_updated_at'], axis=1).set_index('_id')\n",
    "\n",
    "metro_dict_city = metro_df.city.to_dict()\n",
    "metro_dict_metro = metro_df.metro.to_dict()\n",
    "metro_dict_name = metro_df.name.to_dict()\n",
    "\n",
    "def get_from_dict(d, x):\n",
    "    try: return d[x]\n",
    "    except: return 'Other'\n",
    "\n",
    "def get_hoods(lst):\n",
    "    if isinstance(lst, set): return lst   # need in case run the cell multiple times\n",
    "    elif isinstance(lst, list): return set(thing['objectId'] for thing in lst)\n",
    "    else: return set()\n",
    "      \n",
    "df['neighborhoods'] = df.neighborhoods.apply(get_hoods)\n",
    "df['len_neighborhoods'] = df.neighborhoods.apply(len)\n",
    "df['has_neighborhoods'] = df.len_neighborhoods.apply(lambda x: 1 if x > 0 else 0)\n",
    "df['neighborhoods_city'] = df.neighborhoods.apply(lambda x: {get_from_dict(metro_dict_city,i) for i in x})\n",
    "df['neighborhoods_metro'] = df.neighborhoods.apply(lambda x: {get_from_dict(metro_dict_metro,i) for i in x})\n",
    "df['neighborhoods_name'] = df.neighborhoods.apply(lambda x: {get_from_dict(metro_dict_name,i) for i in x})\n",
    "\n",
    "print(\"{:.3}% of users included at least one prefered neighborhood.\".\n",
    "      format(100*df.has_neighborhoods.sum()/n))\n",
    "\n",
    "drop_set.add('neighborhoods')"
   ]
  },
  {
   "cell_type": "markdown",
   "metadata": {},
   "source": [
    "## numRoommates"
   ]
  },
  {
   "cell_type": "code",
   "execution_count": null,
   "metadata": {
    "collapsed": true
   },
   "outputs": [],
   "source": [
    "# What is it? \n",
    "#   num roommates\n",
    "#\n",
    "# What do I do with it? \n",
    "#   binary it!\n",
    "\n",
    "df['has_numRoommates'] = df.numRoommates.apply(lambda x: \n",
    "                                                  1 if x >= 0 else 0)\n",
    "print(\"{:.3}% of users specified a number of roommates.\".\n",
    "      format(100*df.has_numRoommates.sum()/n))"
   ]
  },
  {
   "cell_type": "markdown",
   "metadata": {},
   "source": [
    "## onboarded"
   ]
  },
  {
   "cell_type": "code",
   "execution_count": null,
   "metadata": {
    "collapsed": true
   },
   "outputs": [],
   "source": [
    "# What is it? \n",
    "#   use to filter out users\n",
    "#\n",
    "# What do I do with it? \n",
    "#   kill it!\n",
    "\n",
    "drop_set.add('onboarded')"
   ]
  },
  {
   "cell_type": "markdown",
   "metadata": {},
   "source": [
    "## petsOk"
   ]
  },
  {
   "cell_type": "code",
   "execution_count": null,
   "metadata": {
    "collapsed": true
   },
   "outputs": [],
   "source": [
    "# What is it? \n",
    "#   pets okay?\n",
    "#\n",
    "# What do I do with it? \n",
    "#   already perfect!\n",
    "\n",
    "print(\"{:.3}% of users are okay with pets.\".\n",
    "      format(100*df.petsOk.sum()/n))"
   ]
  },
  {
   "cell_type": "markdown",
   "metadata": {},
   "source": [
    "## picture"
   ]
  },
  {
   "cell_type": "code",
   "execution_count": null,
   "metadata": {
    "collapsed": true
   },
   "outputs": [],
   "source": [
    "# What is it? \n",
    "#   pic id\n",
    "#\n",
    "# What do I do with it? \n",
    "#   binary then kill\n",
    "\n",
    "df['has_picture'] = df.picture.apply(lambda x: 1 if isinstance(x, str) else 0)\n",
    "print(\"{:.3}% of users added a picture.\". format(100*df.has_picture.sum()/n))\n",
    "\n",
    "drop_set.add('picture')"
   ]
  },
  {
   "cell_type": "markdown",
   "metadata": {},
   "source": [
    "# positions"
   ]
  },
  {
   "cell_type": "code",
   "execution_count": null,
   "metadata": {
    "collapsed": true
   },
   "outputs": [],
   "source": [
    "# What is it? \n",
    "#   not sure. address? job? from linkedin?\n",
    "#\n",
    "# What do I do with it? \n",
    "#   kill\n",
    "\n",
    "df['yes_positions'] = df.positions.apply(lambda x: 1 if isinstance(x, list) else 0)\n",
    "print(\"{:.3}% of users have positions, whatever that is.\". format(100*df.yes_positions.sum()/n))\n",
    "\n",
    "drop_set.add('positions')\n",
    "drop_set.add('yes_positions')"
   ]
  },
  {
   "cell_type": "markdown",
   "metadata": {},
   "source": [
    "## recommended"
   ]
  },
  {
   "cell_type": "code",
   "execution_count": null,
   "metadata": {
    "collapsed": true
   },
   "outputs": [],
   "source": [
    "# What is it? \n",
    "#   list of user ids?\n",
    "#   99.996% are 100 terms long\n",
    "#\n",
    "# What do I do with it? \n",
    "#   back burner it\n",
    "#   delete 4 now\n",
    "\n",
    "\n",
    "def get_recomendations(lst):\n",
    "    if isinstance(lst, set): return lst   # need in case run the cell multiple times\n",
    "    elif isinstance(lst, list): return set(thing['objectId'] for thing in lst)\n",
    "    else: return set()\n",
    "\n",
    "df['recommended'] = df.recommended.apply(get_hoods)\n",
    "df['len_recommended'] = df.recommended.apply(len)\n",
    "df['yes_100recommended'] = df.len_recommended.apply(lambda x: 1 if x == 100 else 0)\n",
    "\n",
    "print(\"{:.5}% of users have 100 recomended user ids.\".\n",
    "      format(100*df.yes_100recommended.sum()/n))\n",
    "\n",
    "drop_set.add('recommended')\n",
    "drop_set.add('len_recommended')\n",
    "drop_set.add('yes_100recommended')"
   ]
  },
  {
   "cell_type": "markdown",
   "metadata": {},
   "source": [
    "## smokingOk"
   ]
  },
  {
   "cell_type": "code",
   "execution_count": null,
   "metadata": {
    "collapsed": true
   },
   "outputs": [],
   "source": [
    "# What is it? \n",
    "#   pets okay?\n",
    "#\n",
    "# What do I do with it? \n",
    "#   already perfect!\n",
    "\n",
    "print(\"{:.3}% of users are okay with smoking.\".\n",
    "      format(100*df.smokingOk.sum()/n))"
   ]
  },
  {
   "cell_type": "markdown",
   "metadata": {},
   "source": [
    "## term"
   ]
  },
  {
   "cell_type": "code",
   "execution_count": null,
   "metadata": {
    "collapsed": true
   },
   "outputs": [],
   "source": [
    "# What is it? \n",
    "#   length of idea lease?\n",
    "#\n",
    "# What do I do with it? \n",
    "#   binary it!\n",
    "\n",
    "df['has_term'] = df.term.apply(lambda x: 1 if x >= 0 else 0)\n",
    "print(\"{:.3}% of users specified a term length.\".\n",
    "      format(100*df.has_term.sum()/n))"
   ]
  },
  {
   "cell_type": "markdown",
   "metadata": {},
   "source": [
    "## type"
   ]
  },
  {
   "cell_type": "code",
   "execution_count": null,
   "metadata": {
    "collapsed": true
   },
   "outputs": [],
   "source": [
    "# What is it? \n",
    "#   type of room (most say private)\n",
    "#\n",
    "# What do I do with it? \n",
    "#   hold off on anything for now"
   ]
  },
  {
   "cell_type": "markdown",
   "metadata": {},
   "source": [
    "## username"
   ]
  },
  {
   "cell_type": "code",
   "execution_count": null,
   "metadata": {
    "collapsed": true
   },
   "outputs": [],
   "source": [
    "# What is it? \n",
    "#   something usernamey\n",
    "#   some are random strings\n",
    "#   some are email addresses\n",
    "#\n",
    "# What do I do with it? \n",
    "#   drop it\n",
    "\n",
    "drop_set.add('username')"
   ]
  },
  {
   "cell_type": "markdown",
   "metadata": {},
   "source": [
    "## work"
   ]
  },
  {
   "cell_type": "code",
   "execution_count": null,
   "metadata": {
    "collapsed": true
   },
   "outputs": [],
   "source": [
    "# What is it? \n",
    "#   employer\n",
    "#\n",
    "# What do I do with it? \n",
    "#   binary it (NaN prob means unemployed?)\n",
    "\n",
    "df['has_work'] = df.work.apply(lambda x: 1 if isinstance(x, str) else 0)\n",
    "print(\"{:.3}% of users list a work.\".format(100*df.has_work.sum()/n))"
   ]
  },
  {
   "cell_type": "markdown",
   "metadata": {},
   "source": [
    "## engagement_proxy"
   ]
  },
  {
   "cell_type": "code",
   "execution_count": null,
   "metadata": {
    "collapsed": true
   },
   "outputs": [],
   "source": [
    "# What is it? \n",
    "#   created\n",
    "#   add up the number of optional items the user answered\n",
    "\n",
    "has_list = [col for col in df.columns if col[:3]=='has']\n",
    "df['engagement_proxy'] = df[has_list].sum(axis=1)"
   ]
  },
  {
   "cell_type": "markdown",
   "metadata": {},
   "source": [
    "# REMOVE COLUMNS"
   ]
  },
  {
   "cell_type": "code",
   "execution_count": null,
   "metadata": {
    "collapsed": true
   },
   "outputs": [],
   "source": [
    "df = df.drop(drop_set, axis=1)\n",
    "drop_set = []"
   ]
  },
  {
   "cell_type": "markdown",
   "metadata": {},
   "source": [
    "# SAVE AS JSON"
   ]
  },
  {
   "cell_type": "code",
   "execution_count": null,
   "metadata": {
    "collapsed": true
   },
   "outputs": [],
   "source": [
    "df.to_json(data_file_path+'user_df.json')\n",
    "print(\"... saved as json\")"
   ]
  },
  {
   "cell_type": "markdown",
   "metadata": {
    "collapsed": true
   },
   "source": [
    "# SAVE AS PICKLE"
   ]
  },
  {
   "cell_type": "code",
   "execution_count": null,
   "metadata": {
    "collapsed": true
   },
   "outputs": [],
   "source": [
    "df.to_pickle(data_file_path+'user_df.pkl')\n",
    "print(\"... saved as pickle\")"
   ]
  }
 ],
 "metadata": {
  "kernelspec": {
   "display_name": "Python 3",
   "language": "python",
   "name": "python3"
  },
  "language_info": {
   "codemirror_mode": {
    "name": "ipython",
    "version": 3
   },
   "file_extension": ".py",
   "mimetype": "text/x-python",
   "name": "python",
   "nbconvert_exporter": "python",
   "pygments_lexer": "ipython3",
   "version": "3.6.3"
  }
 },
 "nbformat": 4,
 "nbformat_minor": 2
}
