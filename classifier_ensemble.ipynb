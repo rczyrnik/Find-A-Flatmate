{
 "cells": [
  {
   "cell_type": "code",
   "execution_count": 8,
   "metadata": {},
   "outputs": [],
   "source": [
    "# BASICS\n",
    "from time import time\n",
    "import pandas as pd\n",
    "import numpy as np\n",
    "import matplotlib.pyplot as plt\n",
    "\n",
    "# HELPER FUNCTIONS\n",
    "import my_resample as ms\n",
    "import my_functions as mf\n",
    "\n",
    "# METRICS\n",
    "from sklearn.metrics import confusion_matrix, precision_score \n",
    "from sklearn.metrics import recall_score, accuracy_score\n",
    "from sklearn.metrics import f1_score\n",
    "from sklearn.metrics import roc_auc_score\n",
    "from sklearn.metrics import roc_curve\n",
    "\n",
    "# CLASSIFIERS\n",
    "from sklearn.ensemble import RandomForestClassifier \n",
    "from sklearn.ensemble import GradientBoostingClassifier\n",
    "from sklearn.ensemble import AdaBoostClassifier\n",
    "\n",
    "# GRID SEARCHING\n",
    "from sklearn.model_selection import RandomizedSearchCV\n",
    "\n",
    "# WARNINGS\n",
    "import warnings\n",
    "warnings.filterwarnings('ignore')\n",
    "\n",
    "from sklearn.linear_model import LogisticRegression\n",
    "\n",
    "import seaborn as sns\n",
    "sns.set()"
   ]
  },
  {
   "cell_type": "markdown",
   "metadata": {},
   "source": [
    "# Read Data"
   ]
  },
  {
   "cell_type": "code",
   "execution_count": 3,
   "metadata": {
    "collapsed": true
   },
   "outputs": [],
   "source": [
    "X_train, X_test, y_train, y_test, cols = mf.load_arrays(True)"
   ]
  },
  {
   "cell_type": "markdown",
   "metadata": {},
   "source": [
    "# RandomForestClassifier"
   ]
  },
  {
   "cell_type": "code",
   "execution_count": 3,
   "metadata": {
    "collapsed": true
   },
   "outputs": [],
   "source": [
    "# Grid\n",
    "random_forest_grid={\n",
    "    \"n_estimators\": [5, 7, 11],\n",
    "    \"max_features\": [.6, .7, .8, .9], \n",
    "    \"max_depth\": np.arange(11, 17, 1),\n",
    "    \"min_samples_split\": np.arange(2, 20),\n",
    "    \"min_samples_leaf\": (1, 5),\n",
    "    \"max_leaf_nodes\": np.arange(200, 600, 10),\n",
    "    \"min_impurity_decrease\": np.arange(0, .0001, .00001),\n",
    "    \"class_weight\": [{0:n, 1:1-n} for n in np.arange(.1, 1, .1)]\n",
    "}"
   ]
  },
  {
   "cell_type": "code",
   "execution_count": 4,
   "metadata": {},
   "outputs": [
    {
     "name": "stdout",
     "output_type": "stream",
     "text": [
      "CPU times: user 2min 14s, sys: 2.85 s, total: 2min 16s\n",
      "Wall time: 2min 28s\n"
     ]
    }
   ],
   "source": [
    "%%time\n",
    "\n",
    "# Grid Search\n",
    "rfc = RandomForestClassifier()\n",
    "rf_model = RandomizedSearchCV(rfc, param_distributions=random_forest_grid, scoring='f1', n_iter=100)\n",
    "rf_model.fit(X_train, y_train)"
   ]
  },
  {
   "cell_type": "code",
   "execution_count": 5,
   "metadata": {
    "collapsed": true
   },
   "outputs": [],
   "source": [
    "# Predict\n",
    "y_pred_rf = rf_model.predict(X_test)\n",
    "y_pp_rf = rf_model.predict_proba(X_test)"
   ]
  },
  {
   "cell_type": "code",
   "execution_count": 9,
   "metadata": {},
   "outputs": [
    {
     "name": "stdout",
     "output_type": "stream",
     "text": [
      "\n",
      "METRICS\n",
      "Model recall: 0.3\n",
      "Model precision: 0.34210526315789475\n",
      "Model f1: 0.319672131147541\n",
      "Model accuracy: 0.319672131147541\n",
      "\n",
      "CONFUSION MATRIX\n",
      "[[2149  150]\n",
      " [ 182   78]]\n",
      "\n",
      "key:\n",
      " TN   FP \n",
      " FN   TP \n"
     ]
    }
   ],
   "source": [
    "print(\"\\nMETRICS\")\n",
    "print(\"Model recall: {}\".format(recall_score(y_test, y_pred_rf)))\n",
    "print(\"Model precision: {}\".format(precision_score(y_test, y_pred_rf)))\n",
    "print(\"Model f1: {}\".format(f1_score(y_test, y_pred_rf)))\n",
    "print(\"Model accuracy: {}\".format(rf_model.score(X_test, y_test)))\n",
    "\n",
    "print (\"\\nCONFUSION MATRIX\")\n",
    "print (confusion_matrix(y_test, y_pred_rf))\n",
    "print (\"\\nkey:\")\n",
    "print (\" TN   FP \")\n",
    "print (\" FN   TP \")"
   ]
  },
  {
   "cell_type": "markdown",
   "metadata": {},
   "source": [
    "# Gradient Boosting Classifier"
   ]
  },
  {
   "cell_type": "code",
   "execution_count": 10,
   "metadata": {
    "collapsed": true
   },
   "outputs": [],
   "source": [
    "# Grid\n",
    "gradient_boost_grid={'learning_rate': [ 0.4,  0.5,  0.6,  0.7,  0.8],\n",
    "                         'max_depth': [10, 20, 30, 40],\n",
    "                         'min_samples_leaf': range(1, 15),\n",
    "                         'n_estimators': [300]}"
   ]
  },
  {
   "cell_type": "code",
   "execution_count": 11,
   "metadata": {},
   "outputs": [
    {
     "name": "stdout",
     "output_type": "stream",
     "text": [
      "CPU times: user 3min 43s, sys: 1.54 s, total: 3min 44s\n",
      "Wall time: 3min 47s\n"
     ]
    }
   ],
   "source": [
    "%%time\n",
    "\n",
    "# Grid Search\n",
    "gbc = GradientBoostingClassifier()\n",
    "gb_model = RandomizedSearchCV(gbc, param_distributions=gradient_boost_grid, scoring='f1')\n",
    "gb_model.fit(X_train, y_train)"
   ]
  },
  {
   "cell_type": "code",
   "execution_count": 12,
   "metadata": {
    "collapsed": true
   },
   "outputs": [],
   "source": [
    "# Predict\n",
    "y_pred_gb = gb_model.predict(X_test)\n",
    "y_pp_gb = gb_model.predict_proba(X_test)"
   ]
  },
  {
   "cell_type": "code",
   "execution_count": 13,
   "metadata": {},
   "outputs": [
    {
     "name": "stdout",
     "output_type": "stream",
     "text": [
      "\n",
      "METRICS\n",
      "Model recall: 0.3346153846153846\n",
      "Model precision: 0.3175182481751825\n",
      "Model f1: 0.32584269662921345\n",
      "Model accuracy: 0.32584269662921345\n",
      "\n",
      "CONFUSION MATRIX\n",
      "[[2112  187]\n",
      " [ 173   87]]\n",
      "\n",
      "key:\n",
      " TN   FP \n",
      " FN   TP \n"
     ]
    }
   ],
   "source": [
    "print(\"\\nMETRICS\")\n",
    "print(\"Model recall: {}\".format(recall_score(y_test, y_pred_gb)))\n",
    "print(\"Model precision: {}\".format(precision_score(y_test, y_pred_gb)))\n",
    "print(\"Model f1: {}\".format(f1_score(y_test, y_pred_gb)))\n",
    "print(\"Model accuracy: {}\".format(gb_model.score(X_test, y_test)))\n",
    "\n",
    "print (\"\\nCONFUSION MATRIX\")\n",
    "print (confusion_matrix(y_test, y_pred_gb))\n",
    "print (\"\\nkey:\")\n",
    "print (\" TN   FP \")\n",
    "print (\" FN   TP \")"
   ]
  },
  {
   "cell_type": "markdown",
   "metadata": {},
   "source": [
    "# Ada Boost Classifier"
   ]
  },
  {
   "cell_type": "code",
   "execution_count": 14,
   "metadata": {
    "collapsed": true
   },
   "outputs": [],
   "source": [
    "# Grid\n",
    "ada_boost_grid = {\n",
    "    \"n_estimators\": range(1, 150, 10),          #  50\n",
    "    \"learning_rate\": np.arange(.1, 2, .2),      #  1\n",
    "}\n"
   ]
  },
  {
   "cell_type": "code",
   "execution_count": 15,
   "metadata": {},
   "outputs": [
    {
     "name": "stdout",
     "output_type": "stream",
     "text": [
      "CPU times: user 3.61 s, sys: 241 ms, total: 3.85 s\n",
      "Wall time: 25.9 s\n"
     ]
    }
   ],
   "source": [
    "%%time\n",
    "\n",
    "# Grid Search\n",
    "abc = AdaBoostClassifier()\n",
    "ab_model = RandomizedSearchCV(abc, param_distributions=ada_boost_grid, scoring='f1', n_jobs=-1)\n",
    "ab_model.fit(X_train, y_train)"
   ]
  },
  {
   "cell_type": "code",
   "execution_count": 16,
   "metadata": {
    "collapsed": true
   },
   "outputs": [],
   "source": [
    "# Predict\n",
    "y_pred_ab = ab_model.predict(X_test)\n",
    "y_pp_ab = ab_model.predict_proba(X_test)"
   ]
  },
  {
   "cell_type": "code",
   "execution_count": 17,
   "metadata": {},
   "outputs": [
    {
     "name": "stdout",
     "output_type": "stream",
     "text": [
      "\n",
      "METRICS\n",
      "Model recall: 0.177\n",
      "Model precision: 0.37398373983739835\n",
      "Model f1: 0.24020887728459533\n",
      "Model accuracy: 0.24020887728459533\n",
      "\n",
      "CONFUSION MATRIX\n",
      "[[2222   77]\n",
      " [ 214   46]]\n",
      "\n",
      "key:\n",
      " TN   FP \n",
      " FN   TP \n"
     ]
    }
   ],
   "source": [
    "print(\"\\nMETRICS\")\n",
    "print(\"Model recall: {:.3f}\".format(recall_score(y_test, y_pred_ab)))\n",
    "print(\"Model precision: {}\".format(precision_score(y_test, y_pred_ab)))\n",
    "print(\"Model f1: {}\".format(f1_score(y_test, y_pred_ab)))\n",
    "print(\"Model accuracy: {}\".format(ab_model.score(X_test, y_test)))\n",
    "\n",
    "print (\"\\nCONFUSION MATRIX\")\n",
    "print (confusion_matrix(y_test, y_pred_ab))\n",
    "print (\"\\nkey:\")\n",
    "print (\" TN   FP \")\n",
    "print (\" FN   TP \")"
   ]
  },
  {
   "cell_type": "markdown",
   "metadata": {},
   "source": [
    "# LOGISTIC REGRESSION (because why not?)"
   ]
  },
  {
   "cell_type": "code",
   "execution_count": 38,
   "metadata": {
    "collapsed": true
   },
   "outputs": [],
   "source": [
    "lin_mod = LogisticRegression()\n",
    "lin_mod.fit(X_train, y_train)\n",
    "y_pred_lr = lin_mod.predict(X_test)\n",
    "y_pp_lr = lin_mod.predict_proba(X_test)"
   ]
  },
  {
   "cell_type": "code",
   "execution_count": 39,
   "metadata": {},
   "outputs": [
    {
     "name": "stdout",
     "output_type": "stream",
     "text": [
      "\n",
      "METRICS\n",
      "Model recall: 0.042\n",
      "Model precision: 0.5\n",
      "Model f1: 0.07801418439716314\n",
      "Model accuracy: 0.8983978116451738\n",
      "\n",
      "CONFUSION MATRIX\n",
      "[[2222   77]\n",
      " [ 214   46]]\n",
      "\n",
      "key:\n",
      " TN   FP \n",
      " FN   TP \n"
     ]
    }
   ],
   "source": [
    "y_pred= y_pred_lr\n",
    "\n",
    "print(\"\\nMETRICS\")\n",
    "print(\"Model recall: {:.3f}\".format(recall_score(y_test, y_pred)))\n",
    "print(\"Model precision: {}\".format(precision_score(y_test, y_pred)))\n",
    "print(\"Model f1: {}\".format(f1_score(y_test, y_pred)))\n",
    "print(\"Model accuracy: {}\".format(accuracy_score(y_pred, y_test)))\n",
    "\n",
    "print (\"\\nCONFUSION MATRIX\")\n",
    "print (confusion_matrix(y_test, y_pred_ab))\n",
    "print (\"\\nkey:\")\n",
    "print (\" TN   FP \")\n",
    "print (\" FN   TP \")"
   ]
  },
  {
   "cell_type": "markdown",
   "metadata": {},
   "source": [
    "# NEURAL NETS"
   ]
  },
  {
   "cell_type": "code",
   "execution_count": 36,
   "metadata": {},
   "outputs": [],
   "source": [
    "nn_model = LogisticRegression()\n",
    "nn_model.fit(X_train, y_train)\n",
    "y_pred_nn = nn_model.predict(X_test)\n",
    "y_pp_nn = nn_model.predict_proba(X_test)"
   ]
  },
  {
   "cell_type": "code",
   "execution_count": 37,
   "metadata": {},
   "outputs": [
    {
     "name": "stdout",
     "output_type": "stream",
     "text": [
      "\n",
      "METRICS\n",
      "Model recall: 0.042\n",
      "Model precision: 0.5\n",
      "Model f1: 0.07801418439716314\n",
      "Model accuracy: 0.8983978116451738\n",
      "\n",
      "CONFUSION MATRIX\n",
      "[[2222   77]\n",
      " [ 214   46]]\n",
      "\n",
      "key:\n",
      " TN   FP \n",
      " FN   TP \n"
     ]
    }
   ],
   "source": [
    "y_pred= y_pred_nn\n",
    "\n",
    "\n",
    "print(\"\\nMETRICS\")\n",
    "print(\"Model recall: {:.3f}\".format(recall_score(y_test, y_pred)))\n",
    "print(\"Model precision: {}\".format(precision_score(y_test, y_pred)))\n",
    "print(\"Model f1: {}\".format(f1_score(y_test, y_pred)))\n",
    "print(\"Model accuracy: {}\".format(accuracy_score(y_pred, y_test)))\n",
    "\n",
    "print (\"\\nCONFUSION MATRIX\")\n",
    "print (confusion_matrix(y_test, y_pred_ab))\n",
    "print (\"\\nkey:\")\n",
    "print (\" TN   FP \")\n",
    "print (\" FN   TP \")"
   ]
  },
  {
   "cell_type": "markdown",
   "metadata": {},
   "source": [
    "# COMBINE"
   ]
  },
  {
   "cell_type": "code",
   "execution_count": 22,
   "metadata": {
    "collapsed": true
   },
   "outputs": [],
   "source": [
    "models = ['rf','gb','ab','lr','nn']\n",
    "predictions = [y_pred_rf,y_pred_gb,y_pred_ab,y_pred_lr,y_pred_nn]\n",
    "probabilities = [y_pp_rf,y_pp_gb,y_pp_ab,y_pp_lr,y_pp_nn]\n",
    "\n",
    "results = pd.DataFrame(\n",
    "    {'y_test': y_test,\n",
    "     \n",
    "     'rf': y_pred_rf,\n",
    "     'gb': y_pred_gb,\n",
    "     'ab': y_pred_ab,\n",
    "     'lr': y_pred_lr,\n",
    "     'nn': y_pred_nn,\n",
    "    \n",
    "     \"rf_pp\": y_pp_rf[:,1],\n",
    "     \"gb_pp\": y_pp_gb[:,1],\n",
    "     \"ab_pp\": y_pp_ab[:,1],\n",
    "     \"lr_pp\": y_pp_lr[:,1],\n",
    "     'nn_pp': y_pp_nn[:,1],\n",
    "    })"
   ]
  },
  {
   "cell_type": "code",
   "execution_count": 23,
   "metadata": {},
   "outputs": [],
   "source": [
    "results['s'] = results.ab+results.gb+results.rf+results.lr+results.nn\n",
    "results[\"s_pp\"] = results.ab_pp+results.gb_pp+results.rf_pp+results.lr_pp+results.nn_pp\n",
    "results['p'] = results['s'].apply(lambda x: 1 if x > 0 else 0)"
   ]
  },
  {
   "cell_type": "markdown",
   "metadata": {},
   "source": [
    "# Voting"
   ]
  },
  {
   "cell_type": "code",
   "execution_count": 27,
   "metadata": {
    "collapsed": true
   },
   "outputs": [],
   "source": [
    "y_pred = results['p']"
   ]
  },
  {
   "cell_type": "code",
   "execution_count": 28,
   "metadata": {},
   "outputs": [
    {
     "name": "stdout",
     "output_type": "stream",
     "text": [
      "\n",
      "METRICS\n",
      "Model recall: 0.5576923076923077\n",
      "Model precision: 0.30145530145530147\n",
      "Model f1: 0.39136302294197034\n",
      "Model accuracy: 0.8237592809691285\n",
      "\n",
      "CONFUSION MATRIX\n",
      "[[1963  336]\n",
      " [ 115  145]]\n",
      "\n",
      "key:\n",
      " TN   FP \n",
      " FN   TP \n"
     ]
    }
   ],
   "source": [
    "print(\"\\nMETRICS\")\n",
    "print(\"Model recall: {}\".format(recall_score(y_test, y_pred)))\n",
    "print(\"Model precision: {}\".format(precision_score(y_test, y_pred)))\n",
    "print(\"Model f1: {}\".format(f1_score(y_test, y_pred)))\n",
    "print(\"Model accuracy: {}\".format(accuracy_score(y_pred, y_test)))\n",
    "\n",
    "print (\"\\nCONFUSION MATRIX\")\n",
    "print (confusion_matrix(y_test, y_pred))\n",
    "print (\"\\nkey:\")\n",
    "print (\" TN   FP \")\n",
    "print (\" FN   TP \")"
   ]
  },
  {
   "cell_type": "code",
   "execution_count": 29,
   "metadata": {},
   "outputs": [
    {
     "name": "stdout",
     "output_type": "stream",
     "text": [
      "0.714625924315\n"
     ]
    },
    {
     "data": {
      "image/png": "[encoded data removed]",
      "text/plain": [
       "<matplotlib.figure.Figure at 0x1a0cbbcd30>"
      ]
     },
     "metadata": {},
     "output_type": "display_data"
    }
   ],
   "source": [
    "print(roc_auc_score(y_test, results.s))\n",
    "y = roc_curve(y_test, results.s_pp)\n",
    "\n",
    "plt.plot(y[0], y[1])\n",
    "plt.xlabel(\"false positives\", fontsize=14)\n",
    "plt.ylabel(\"true positives\", fontsize=14)\n",
    "plt.title(\"ROC Curve\", fontsize=18)\n",
    "plt.savefig(readme_file_path+\"roc.png\")\n",
    "plt.show()"
   ]
  },
  {
   "cell_type": "code",
   "execution_count": 30,
   "metadata": {},
   "outputs": [
    {
     "name": "stdout",
     "output_type": "stream",
     "text": [
      "0.391363022942\n"
     ]
    },
    {
     "data": {
      "image/png": "[encoded data removed]",
      "text/plain": [
       "<matplotlib.figure.Figure at 0x1a164fe588>"
      ]
     },
     "metadata": {},
     "output_type": "display_data"
    }
   ],
   "source": [
    "f1 = []\n",
    "precision = []\n",
    "recall = []\n",
    "for cutoff in np.arange(0, 4.1, .01):\n",
    "    y_pred = results['s'].apply(lambda x: 1 if x > cutoff else 0)\n",
    "    f1.append(f1_score(y_test, y_pred))\n",
    "    precision.append(precision_score(y_test, y_pred))\n",
    "    recall.append(recall_score(y_test, y_pred))\n",
    "        \n",
    "print(max(f1))\n",
    "plt.plot(np.arange(0, 4.1, .01), f1)\n",
    "plt.show()"
   ]
  },
  {
   "cell_type": "code",
   "execution_count": 32,
   "metadata": {
    "collapsed": true
   },
   "outputs": [],
   "source": [
    "recalls = []\n",
    "precisions = []\n",
    "accuracies = []\n",
    "fones = []\n",
    "\n",
    "y_pp = results['s']\n",
    "x = np.arange(0, 4, .1)\n",
    "for cutoff in x:\n",
    "    y_pred = y_pp.apply(lambda x: 1 if x > cutoff else 0)\n",
    "    recalls.append(recall_score(y_test, y_pred))\n",
    "    precisions.append(precision_score(y_test, y_pred))\n",
    "    accuracies.append(accuracy_score(y_pred, y_test))\n",
    "    fones.append(f1_score(y_test, y_pred))\n"
   ]
  },
  {
   "cell_type": "code",
   "execution_count": 33,
   "metadata": {},
   "outputs": [
    {
     "data": {
      "image/png": "[encoded data removed]",
      "text/plain": [
       "<matplotlib.figure.Figure at 0x1a1624d978>"
      ]
     },
     "metadata": {},
     "output_type": "display_data"
    }
   ],
   "source": [
    "plt.plot(x, recalls)\n",
    "plt.plot(x, precisions)\n",
    "plt.plot(x, accuracies)\n",
    "plt.plot(x, fones)\n",
    "plt.legend(['recall', 'precision', 'accuracy', 'fone'])\n",
    "plt.show()"
   ]
  },
  {
   "cell_type": "markdown",
   "metadata": {},
   "source": [
    "# Adding Probabilities"
   ]
  },
  {
   "cell_type": "code",
   "execution_count": 24,
   "metadata": {},
   "outputs": [
    {
     "name": "stdout",
     "output_type": "stream",
     "text": [
      "0.798912570683\n"
     ]
    },
    {
     "data": {
      "image/png": "[encoded data removed]",
      "text/plain": [
       "<matplotlib.figure.Figure at 0x103fc14a8>"
      ]
     },
     "metadata": {},
     "output_type": "display_data"
    }
   ],
   "source": [
    "print(roc_auc_score(y_test, results.s_pp))\n",
    "y = roc_curve(y_test, results.s_pp)\n",
    "\n",
    "plt.plot(y[0], y[1])\n",
    "plt.xlabel(\"false positives\", fontsize=14)\n",
    "plt.ylabel(\"true positives\", fontsize=14)\n",
    "plt.title(\"ROC Curve\", fontsize=18)\n",
    "plt.savefig(readme_file_path+\"roc.png\")\n",
    "plt.show()"
   ]
  },
  {
   "cell_type": "code",
   "execution_count": 53,
   "metadata": {},
   "outputs": [
    {
     "name": "stdout",
     "output_type": "stream",
     "text": [
      "0.799220396828\n"
     ]
    },
    {
     "data": {
      "image/png": "[encoded data removed]",
      "text/plain": [
       "<matplotlib.figure.Figure at 0x1a19f86668>"
      ]
     },
     "metadata": {},
     "output_type": "display_data"
    }
   ],
   "source": [
    "print(roc_auc_score(y_test, results.s_pp))\n",
    "y = roc_curve(y_test, results.s_pp)\n",
    "\n",
    "plt.plot(y[0], y[1])\n",
    "plt.xlabel(\"false positives\", fontsize=14)\n",
    "plt.ylabel(\"true positives\", fontsize=14)\n",
    "plt.title(\"ROC Curve\", fontsize=18)\n",
    "plt.savefig(readme_file_path+\"roc.png\")\n",
    "plt.show()"
   ]
  },
  {
   "cell_type": "code",
   "execution_count": 26,
   "metadata": {},
   "outputs": [
    {
     "name": "stdout",
     "output_type": "stream",
     "text": [
      "0.393351800554\n"
     ]
    },
    {
     "data": {
      "image/png": "[encoded data removed]",
      "text/plain": [
       "<matplotlib.figure.Figure at 0x1a0cbbcef0>"
      ]
     },
     "metadata": {},
     "output_type": "display_data"
    }
   ],
   "source": [
    "f1 = []\n",
    "precision = []\n",
    "recall = []\n",
    "for cutoff in np.arange(0, 4.1, .01):\n",
    "    results['p_pp'] = results['s_pp'].apply(lambda x: 1 if x > cutoff else 0)\n",
    "    f1.append(f1_score(y_test, results['p_pp']))\n",
    "    precision.append(precision_score(y_test, results['p_pp']))\n",
    "    recall.append(recall_score(y_test, results['p_pp']))\n",
    "        \n",
    "print(max(f1))\n",
    "plt.plot(np.arange(0, 4.1, .01), f1)\n",
    "plt.show()"
   ]
  },
  {
   "cell_type": "code",
   "execution_count": 39,
   "metadata": {},
   "outputs": [
    {
     "name": "stdout",
     "output_type": "stream",
     "text": [
      "0.414985590778\n"
     ]
    },
    {
     "data": {
      "image/png": "[encoded data removed]",
      "text/plain": [
       "<matplotlib.figure.Figure at 0x1a113befd0>"
      ]
     },
     "metadata": {},
     "output_type": "display_data"
    }
   ],
   "source": [
    "f1 = []\n",
    "precision = []\n",
    "recall = []\n",
    "for cutoff in np.arange(0, 3.1, .01):\n",
    "    results['p_pp'] = results['s_pp'].apply(lambda x: 1 if x > cutoff else 0)\n",
    "    f1.append(f1_score(y_test, results['p_pp']))\n",
    "    precision.append(precision_score(y_test, results['p_pp']))\n",
    "    recall.append(recall_score(y_test, results['p_pp']))\n",
    "    \n",
    "print(max(f1))\n",
    "plt.plot(np.arange(0, 3.1, .01), f1)\n",
    "plt.show()"
   ]
  },
  {
   "cell_type": "code",
   "execution_count": 40,
   "metadata": {},
   "outputs": [
    {
     "data": {
      "image/png": "[encoded data removed]",
      "text/plain": [
       "<matplotlib.figure.Figure at 0x1a19ca9908>"
      ]
     },
     "metadata": {},
     "output_type": "display_data"
    }
   ],
   "source": [
    "plt.scatter(recall, precision, marker='.')\n",
    "plt.xlabel(\"recall\")\n",
    "plt.ylabel(\"precision\")\n",
    "plt.show()"
   ]
  },
  {
   "cell_type": "code",
   "execution_count": 77,
   "metadata": {
    "collapsed": true
   },
   "outputs": [],
   "source": [
    "recalls = []\n",
    "precisions = []\n",
    "accuracies = []\n",
    "fones = []\n",
    "\n",
    "y_pp = results['s_pp']\n",
    "x = np.arange(0, 4, .1)\n",
    "for cutoff in x:\n",
    "    y_pred = y_pp.apply(lambda x: 1 if x > cutoff else 0)\n",
    "    recalls.append(recall_score(y_test, y_pred))\n",
    "    precisions.append(precision_score(y_test, y_pred))\n",
    "    accuracies.append(accuracy_score(y_pred, y_test))\n",
    "    fones.append(f1_score(y_test, y_pred))\n",
    "\n",
    "\n",
    "# print(\"\\nMETRICS\")\n",
    "# print(\"Model recall: {}\".format(recall_score(y_test, y_pred)))\n",
    "# print(\"Model precision: {}\".format(precision_score(y_test, y_pred)))\n",
    "# print(\"Model accuracy: {}\".format(accuracy_score(y_pred, y_test)))\n",
    "# print(\"Model f1: {}\".format(f1_score(y_test, y_pred)))\n",
    "\n",
    "# print (\"\\nCONFUSION MATRIX\")\n",
    "# print (confusion_matrix(y_test, y_pred))\n",
    "# print (\"\\nkey:\")\n",
    "# print (\" TN   FP \")\n",
    "# print (\" FN   TP \")"
   ]
  },
  {
   "cell_type": "code",
   "execution_count": 78,
   "metadata": {},
   "outputs": [
    {
     "data": {
      "image/png": "[encoded data removed]",
      "text/plain": [
       "<matplotlib.figure.Figure at 0x1a100a70b8>"
      ]
     },
     "metadata": {},
     "output_type": "display_data"
    }
   ],
   "source": [
    "plt.plot(x, recalls)\n",
    "plt.plot(x, precisions)\n",
    "plt.plot(x, accuracies)\n",
    "plt.plot(x, fones)\n",
    "plt.legend(['recall', 'precision', 'accuracy', 'fone'])\n",
    "plt.show()"
   ]
  },
  {
   "cell_type": "markdown",
   "metadata": {},
   "source": [
    "recalls"
   ]
  },
  {
   "cell_type": "code",
   "execution_count": 81,
   "metadata": {},
   "outputs": [
    {
     "name": "stdout",
     "output_type": "stream",
     "text": [
      "\n",
      "METRICS\n",
      "Model recall: 0.5384615384615384\n",
      "Model precision: 0.3309692671394799\n",
      "Model accuracy: 0.8425166080500195\n",
      "Model f1: 0.4099560761346998\n",
      "\n",
      "CONFUSION MATRIX\n",
      "[[2016  283]\n",
      " [ 120  140]]\n",
      "\n",
      "key:\n",
      " TN   FP \n",
      " FN   TP \n"
     ]
    }
   ],
   "source": [
    "cutoff = x[fones.index(max(fones))]\n",
    "\n",
    "y_pred = y_ pp.apply(lambda x: 1 if x > cutoff else 0)\n",
    "\n",
    "print(\"\\nMETRICS\")\n",
    "print(\"Model recall: {}\".format(recall_score(y_test, y_pred)))\n",
    "print(\"Model precision: {}\".format(precision_score(y_test, y_pred)))\n",
    "print(\"Model accuracy: {}\".format(accuracy_score(y_pred, y_test)))\n",
    "print(\"Model f1: {}\".format(f1_score(y_test, y_pred)))\n",
    "\n",
    "print (\"\\nCONFUSION MATRIX\")\n",
    "print (confusion_matrix(y_test, y_pred))\n",
    "print (\"\\nkey:\")\n",
    "print (\" TN   FP \")\n",
    "print (\" FN   TP \")"
   ]
  },
  {
   "cell_type": "code",
   "execution_count": null,
   "metadata": {
    "collapsed": true
   },
   "outputs": [],
   "source": []
  }
 ],
 "metadata": {
  "kernelspec": {
   "display_name": "Python 3",
   "language": "python",
   "name": "python3"
  },
  "language_info": {
   "codemirror_mode": {
    "name": "ipython",
    "version": 3
   },
   "file_extension": ".py",
   "mimetype": "text/x-python",
   "name": "python",
   "nbconvert_exporter": "python",
   "pygments_lexer": "ipython3",
   "version": "3.6.3"
  }
 },
 "nbformat": 4,
 "nbformat_minor": 2
}
