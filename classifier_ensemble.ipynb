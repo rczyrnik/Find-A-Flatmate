{
 "cells": [
  {
   "cell_type": "code",
   "execution_count": 1,
   "metadata": {},
   "outputs": [],
   "source": [
    "# # BASICS\n",
    "# from time import time\n",
    "import pandas as pd\n",
    "import numpy as np\n",
    "import matplotlib.pyplot as plt\n",
    "import seaborn as sns\n",
    "sns.set()\n",
    "\n",
    "# # HELPER FUNCTIONS\n",
    "# # import src.my_resample as ms\n",
    "import src.my_functions as mf\n",
    "\n",
    "# # METRICS\n",
    "# from sklearn.metrics import confusion_matrix\n",
    "# from sklearn.metrics import precision_score \n",
    "# from sklearn.metrics import recall_score\n",
    "# from sklearn.metrics import accuracy_score\n",
    "# from sklearn.metrics import f1_score\n",
    "from sklearn.metrics import roc_auc_score\n",
    "from sklearn.metrics import roc_curve\n",
    "\n",
    "# CLASSIFIERS\n",
    "from sklearn.ensemble import RandomForestClassifier \n",
    "from sklearn.ensemble import GradientBoostingClassifier\n",
    "from sklearn.ensemble import AdaBoostClassifier\n",
    "from sklearn.linear_model import LogisticRegression\n",
    "from sklearn.neighbors import KNeighborsClassifier\n",
    "\n",
    "# GRID SEARCHING\n",
    "from sklearn.model_selection import RandomizedSearchCV\n",
    "\n",
    "# WARNINGS\n",
    "import warnings\n",
    "warnings.filterwarnings('ignore')"
   ]
  },
  {
   "cell_type": "markdown",
   "metadata": {},
   "source": [
    "# Read Data"
   ]
  },
  {
   "cell_type": "code",
   "execution_count": 2,
   "metadata": {},
   "outputs": [],
   "source": [
    "X_train, X_test, y_train, y_test, cols = mf.load_arrays(scale = True, classification = True)"
   ]
  },
  {
   "cell_type": "markdown",
   "metadata": {},
   "source": [
    "# RandomForestClassifier"
   ]
  },
  {
   "cell_type": "code",
   "execution_count": 3,
   "metadata": {},
   "outputs": [],
   "source": [
    "# Grid\n",
    "random_forest_grid={\n",
    "    \"n_estimators\": [5, 7, 11],\n",
    "    \"max_features\": [.6, .7, .8, .9], \n",
    "    \"max_depth\": np.arange(11, 17, 1),\n",
    "    \"min_samples_split\": np.arange(2, 20),\n",
    "    \"min_samples_leaf\": (1, 5),\n",
    "    \"max_leaf_nodes\": np.arange(200, 600, 10),\n",
    "    \"min_impurity_decrease\": np.arange(0, .0001, .00001),\n",
    "    \"class_weight\": [{0:n, 1:1-n} for n in np.arange(.1, 1, .1)]\n",
    "}"
   ]
  },
  {
   "cell_type": "code",
   "execution_count": 4,
   "metadata": {},
   "outputs": [
    {
     "name": "stdout",
     "output_type": "stream",
     "text": [
      "CPU times: user 2min 4s, sys: 1.5 s, total: 2min 6s\n",
      "Wall time: 2min 14s\n"
     ]
    }
   ],
   "source": [
    "%%time\n",
    "\n",
    "# Grid Search\n",
    "rfc = RandomForestClassifier()\n",
    "rf_model = RandomizedSearchCV(rfc, param_distributions=random_forest_grid, scoring='f1', n_iter=100)\n",
    "rf_model.fit(X_train, y_train)"
   ]
  },
  {
   "cell_type": "code",
   "execution_count": 5,
   "metadata": {},
   "outputs": [
    {
     "name": "stdout",
     "output_type": "stream",
     "text": [
      "\n",
      "METRICS\n",
      "Model recall: 0.350\n",
      "Model precision: 0.346\n",
      "Model f1: 0.348\n",
      "Model accuracy: 0.867\n",
      "\n",
      "CONFUSION MATRIX        key\n",
      "2127\t172\t\tTP\tFP\n",
      "169\t91\t\tFN\tTP\n"
     ]
    }
   ],
   "source": [
    "# Predict\n",
    "y_pred_rf = rf_model.predict(X_test)\n",
    "y_pp_rf = rf_model.predict_proba(X_test)\n",
    "\n",
    "mf.display_metrics(y_pred_rf, y_test)"
   ]
  },
  {
   "cell_type": "code",
   "execution_count": 64,
   "metadata": {},
   "outputs": [
    {
     "name": "stdout",
     "output_type": "stream",
     "text": [
      "n_estimators=7, min_samples_split=18, min_samples_leaf=1, min_impurity_decrease=8e-05, max_leaf_nodes=230, max_features=0.8, max_depth=13, class_weight={0: 0.10000000000000001, 1: 0.90000000000000002}, "
     ]
    }
   ],
   "source": [
    "# format parameters to pass to function\n",
    "d = rf_model.best_params_\n",
    "for key, value in d.items():\n",
    "#     print(param)\n",
    "    print(\"{}={}, \".format(key, value), end = '')\n",
    "#     print(key)"
   ]
  },
  {
   "cell_type": "code",
   "execution_count": 85,
   "metadata": {},
   "outputs": [
    {
     "data": {
      "text/plain": [
       "1.0"
      ]
     },
     "execution_count": 85,
     "metadata": {},
     "output_type": "execute_result"
    }
   ],
   "source": [
    "# create new model to get feature importances\n",
    "new_rf_model = RandomForestClassifier(n_estimators=7, min_samples_split=18, min_samples_leaf=1, min_impurity_decrease=8e-05, max_leaf_nodes=230, max_features=0.8, max_depth=13, class_weight={0: 0.10000000000000001, 1: 0.90000000000000002})\n",
    "new_rf_model.fit(X_train, y_train)\n",
    "rf_features = new_rf_model.feature_importances_\n",
    "rf_features.sum()"
   ]
  },
  {
   "cell_type": "markdown",
   "metadata": {},
   "source": [
    "# Gradient Boosting Classifier"
   ]
  },
  {
   "cell_type": "code",
   "execution_count": 6,
   "metadata": {
    "collapsed": true
   },
   "outputs": [],
   "source": [
    "# Grid\n",
    "gradient_boost_grid={'learning_rate': [ 0.4,  0.5,  0.6,  0.7,  0.8],\n",
    "                         'max_depth': [10, 20, 30, 40],\n",
    "                         'min_samples_leaf': range(1, 15),\n",
    "                         'n_estimators': [300]}"
   ]
  },
  {
   "cell_type": "code",
   "execution_count": 7,
   "metadata": {},
   "outputs": [
    {
     "name": "stdout",
     "output_type": "stream",
     "text": [
      "CPU times: user 3min 9s, sys: 949 ms, total: 3min 10s\n",
      "Wall time: 3min 12s\n"
     ]
    }
   ],
   "source": [
    "%%time\n",
    "\n",
    "# Grid Search\n",
    "gbc = GradientBoostingClassifier()\n",
    "gb_model = RandomizedSearchCV(gbc, param_distributions=gradient_boost_grid, scoring='f1')\n",
    "gb_model.fit(X_train, y_train)"
   ]
  },
  {
   "cell_type": "code",
   "execution_count": 8,
   "metadata": {},
   "outputs": [
    {
     "name": "stdout",
     "output_type": "stream",
     "text": [
      "\n",
      "METRICS\n",
      "Model recall: 0.281\n",
      "Model precision: 0.277\n",
      "Model f1: 0.279\n",
      "Model accuracy: 0.852\n",
      "\n",
      "CONFUSION MATRIX        key\n",
      "2108\t191\t\tTP\tFP\n",
      "187\t73\t\tFN\tTP\n"
     ]
    }
   ],
   "source": [
    "# Predict\n",
    "y_pred_gb = gb_model.predict(X_test)\n",
    "y_pp_gb = gb_model.predict_proba(X_test)\n",
    "\n",
    "mf.display_metrics(y_pred_gb, y_test)"
   ]
  },
  {
   "cell_type": "code",
   "execution_count": 65,
   "metadata": {},
   "outputs": [
    {
     "name": "stdout",
     "output_type": "stream",
     "text": [
      "n_estimators=300, min_samples_leaf=1, max_depth=30, learning_rate=0.7, "
     ]
    }
   ],
   "source": [
    "# format parameters to pass to function\n",
    "d = gb_model.best_params_\n",
    "for key, value in d.items():\n",
    "#     print(param)\n",
    "    print(\"{}={}, \".format(key, value), end = '')\n",
    "#     print(key)"
   ]
  },
  {
   "cell_type": "code",
   "execution_count": 84,
   "metadata": {},
   "outputs": [
    {
     "data": {
      "text/plain": [
       "0.040000000000000001"
      ]
     },
     "execution_count": 84,
     "metadata": {},
     "output_type": "execute_result"
    }
   ],
   "source": [
    "# create new model to get feature importances\n",
    "new_gb_model = GradientBoostingClassifier(n_estimators=300, min_samples_leaf=1, max_depth=30, learning_rate=0.7)\n",
    "new_gb_model.fit(X_train, y_train)\n",
    "gb_features = new_gb_model.feature_importances_\n",
    "gb_features.sum()"
   ]
  },
  {
   "cell_type": "markdown",
   "metadata": {},
   "source": [
    "# Ada Boost Classifier"
   ]
  },
  {
   "cell_type": "code",
   "execution_count": 9,
   "metadata": {
    "collapsed": true
   },
   "outputs": [],
   "source": [
    "# Grid\n",
    "ada_boost_grid = {\n",
    "    \"n_estimators\": range(1, 150, 10),          #  50\n",
    "    \"learning_rate\": np.arange(.1, 2, .2),      #  1\n",
    "}\n"
   ]
  },
  {
   "cell_type": "code",
   "execution_count": 10,
   "metadata": {},
   "outputs": [
    {
     "name": "stdout",
     "output_type": "stream",
     "text": [
      "CPU times: user 1.66 s, sys: 195 ms, total: 1.86 s\n",
      "Wall time: 19.6 s\n"
     ]
    }
   ],
   "source": [
    "%%time\n",
    "\n",
    "# Grid Search\n",
    "abc = AdaBoostClassifier()\n",
    "ab_model = RandomizedSearchCV(abc, param_distributions=ada_boost_grid, scoring='f1', n_jobs=-1)\n",
    "ab_model.fit(X_train, y_train)"
   ]
  },
  {
   "cell_type": "code",
   "execution_count": 11,
   "metadata": {},
   "outputs": [
    {
     "name": "stdout",
     "output_type": "stream",
     "text": [
      "\n",
      "METRICS\n",
      "Model recall: 0.135\n",
      "Model precision: 0.432\n",
      "Model f1: 0.205\n",
      "Model accuracy: 0.894\n",
      "\n",
      "CONFUSION MATRIX        key\n",
      "2253\t46\t\tTP\tFP\n",
      "225\t35\t\tFN\tTP\n"
     ]
    }
   ],
   "source": [
    "# Predict\n",
    "y_pred_ab = ab_model.predict(X_test)\n",
    "y_pp_ab = ab_model.predict_proba(X_test)\n",
    "\n",
    "mf.display_metrics(y_pred_ab, y_test)"
   ]
  },
  {
   "cell_type": "code",
   "execution_count": 67,
   "metadata": {},
   "outputs": [
    {
     "name": "stdout",
     "output_type": "stream",
     "text": [
      "n_estimators=51, learning_rate=1.5000000000000004, "
     ]
    }
   ],
   "source": [
    "# format parameters to pass to function\n",
    "d = ab_model.best_params_\n",
    "for key, value in d.items():\n",
    "#     print(param)\n",
    "    print(\"{}={}, \".format(key, value), end = '')\n",
    "#     print(key)"
   ]
  },
  {
   "cell_type": "code",
   "execution_count": 68,
   "metadata": {
    "collapsed": true
   },
   "outputs": [],
   "source": [
    "# create new model to get feature importances\n",
    "new_ab_model = AdaBoostClassifier(n_estimators=51, learning_rate=1.5)\n",
    "new_ab_model.fit(X_train, y_train)\n",
    "ab_features = new_ab_model.feature_importances_"
   ]
  },
  {
   "cell_type": "code",
   "execution_count": 83,
   "metadata": {},
   "outputs": [
    {
     "data": {
      "text/plain": [
       "1.0"
      ]
     },
     "execution_count": 83,
     "metadata": {},
     "output_type": "execute_result"
    }
   ],
   "source": [
    "ab_features.sum()"
   ]
  },
  {
   "cell_type": "markdown",
   "metadata": {},
   "source": [
    "# LOGISTIC REGRESSION"
   ]
  },
  {
   "cell_type": "code",
   "execution_count": 12,
   "metadata": {
    "collapsed": true
   },
   "outputs": [],
   "source": [
    "lin_mod = LogisticRegression()\n",
    "lin_mod.fit(X_train, y_train)\n",
    "y_pred_lr = lin_mod.predict(X_test)\n",
    "y_pp_lr = lin_mod.predict_proba(X_test)"
   ]
  },
  {
   "cell_type": "code",
   "execution_count": 13,
   "metadata": {},
   "outputs": [
    {
     "name": "stdout",
     "output_type": "stream",
     "text": [
      "\n",
      "METRICS\n",
      "Model recall: 0.050\n",
      "Model precision: 0.565\n",
      "Model f1: 0.092\n",
      "Model accuracy: 0.900\n",
      "\n",
      "CONFUSION MATRIX        key\n",
      "2289\t10\t\tTP\tFP\n",
      "247\t13\t\tFN\tTP\n"
     ]
    }
   ],
   "source": [
    "mf.display_metrics(y_pred_lr, y_test)"
   ]
  },
  {
   "cell_type": "markdown",
   "metadata": {},
   "source": [
    "# NEURAL NETS"
   ]
  },
  {
   "cell_type": "code",
   "execution_count": 14,
   "metadata": {
    "collapsed": true
   },
   "outputs": [],
   "source": [
    "nn_model = LogisticRegression()\n",
    "nn_model.fit(X_train, y_train)\n",
    "y_pred_nn = nn_model.predict(X_test)\n",
    "y_pp_nn = nn_model.predict_proba(X_test)"
   ]
  },
  {
   "cell_type": "code",
   "execution_count": 15,
   "metadata": {
    "scrolled": true
   },
   "outputs": [
    {
     "name": "stdout",
     "output_type": "stream",
     "text": [
      "\n",
      "METRICS\n",
      "Model recall: 0.050\n",
      "Model precision: 0.565\n",
      "Model f1: 0.092\n",
      "Model accuracy: 0.900\n",
      "\n",
      "CONFUSION MATRIX        key\n",
      "2289\t10\t\tTP\tFP\n",
      "247\t13\t\tFN\tTP\n"
     ]
    }
   ],
   "source": [
    "mf.display_metrics(y_pred_nn, y_test)"
   ]
  },
  {
   "cell_type": "markdown",
   "metadata": {},
   "source": [
    "# K NEAREST NEIGHBORS"
   ]
  },
  {
   "cell_type": "code",
   "execution_count": 16,
   "metadata": {},
   "outputs": [],
   "source": [
    "nn_model = KNeighborsClassifier()\n",
    "nn_model.fit(X_train, y_train)\n",
    "y_pred_knn = nn_model.predict(X_test)\n",
    "y_pp_knn = nn_model.predict_proba(X_test)"
   ]
  },
  {
   "cell_type": "code",
   "execution_count": 17,
   "metadata": {
    "scrolled": true
   },
   "outputs": [
    {
     "name": "stdout",
     "output_type": "stream",
     "text": [
      "\n",
      "METRICS\n",
      "Model recall: 0.092\n",
      "Model precision: 0.471\n",
      "Model f1: 0.154\n",
      "Model accuracy: 0.897\n",
      "\n",
      "CONFUSION MATRIX        key\n",
      "2272\t27\t\tTP\tFP\n",
      "236\t24\t\tFN\tTP\n"
     ]
    }
   ],
   "source": [
    "mf.display_metrics(y_pred_knn, y_test)"
   ]
  },
  {
   "cell_type": "markdown",
   "metadata": {},
   "source": [
    "# COMBINE"
   ]
  },
  {
   "cell_type": "code",
   "execution_count": 18,
   "metadata": {},
   "outputs": [],
   "source": [
    "models = ['rf','gb','ab','lr','nn','knn']\n",
    "predictions = [y_pred_rf,y_pred_gb,y_pred_ab,y_pred_lr,y_pred_nn,y_pred_knn]\n",
    "probabilities = [y_pp_rf,y_pp_gb,y_pp_ab,y_pp_lr,y_pp_nn,y_pp_knn]\n",
    "\n",
    "results = pd.DataFrame(\n",
    "    {'y_test': y_test,\n",
    "     \n",
    "     'rf': y_pred_rf,\n",
    "     'gb': y_pred_gb,\n",
    "     'ab': y_pred_ab,\n",
    "     'lr': y_pred_lr,\n",
    "     'nn': y_pred_nn,\n",
    "     'knn': y_pred_knn, \n",
    "     \n",
    "     \"rf_pp\": y_pp_rf[:,1],\n",
    "     \"gb_pp\": y_pp_gb[:,1],\n",
    "     \"ab_pp\": y_pp_ab[:,1],\n",
    "     \"lr_pp\": y_pp_lr[:,1],\n",
    "     'nn_pp': y_pp_nn[:,1],\n",
    "     'knn_pp': y_pp_knn[:,1],\n",
    "    })"
   ]
  },
  {
   "cell_type": "code",
   "execution_count": 19,
   "metadata": {
    "collapsed": true
   },
   "outputs": [],
   "source": [
    "results['s'] = results.ab+results.gb+results.rf+results.lr+results.nn+results.knn\n",
    "results[\"s_pp\"] = results.ab_pp+results.gb_pp+results.rf_pp+results.lr_pp+results.nn_pp+results.knn_pp\n",
    "results['p'] = results['s'].apply(lambda x: 1 if x > 0 else 0)"
   ]
  },
  {
   "cell_type": "code",
   "execution_count": 24,
   "metadata": {
    "collapsed": true
   },
   "outputs": [],
   "source": [
    "results.to_pickle(\"data/results.pkl\")"
   ]
  },
  {
   "cell_type": "markdown",
   "metadata": {},
   "source": [
    "# Voting"
   ]
  },
  {
   "cell_type": "code",
   "execution_count": 20,
   "metadata": {},
   "outputs": [
    {
     "name": "stdout",
     "output_type": "stream",
     "text": [
      "\n",
      "METRICS\n",
      "Model recall: 0.542\n",
      "Model precision: 0.284\n",
      "Model f1: 0.373\n",
      "Model accuracy: 0.815\n",
      "\n",
      "CONFUSION MATRIX        key\n",
      "1944\t355\t\tTP\tFP\n",
      "119\t141\t\tFN\tTP\n"
     ]
    }
   ],
   "source": [
    "y_pred = results['p']\n",
    "mf.display_metrics(y_pred, y_test)"
   ]
  },
  {
   "cell_type": "code",
   "execution_count": 21,
   "metadata": {},
   "outputs": [
    {
     "name": "stdout",
     "output_type": "stream",
     "text": [
      "0.705524140931\n"
     ]
    },
    {
     "data": {
      "image/png": "[encoded data removed]",
      "text/plain": [
       "<matplotlib.figure.Figure at 0x1a17b66668>"
      ]
     },
     "metadata": {},
     "output_type": "display_data"
    }
   ],
   "source": [
    "print(roc_auc_score(y_test, results.s))\n",
    "y = roc_curve(y_test, results.s_pp)\n",
    "\n",
    "plt.plot(y[0], y[1])\n",
    "plt.xlabel(\"false positives\", fontsize=14)\n",
    "plt.ylabel(\"true positives\", fontsize=14)\n",
    "plt.title(\"ROC Curve\", fontsize=18)\n",
    "plt.savefig(\"img/roc.png\")\n",
    "plt.show()"
   ]
  },
  {
   "cell_type": "markdown",
   "metadata": {},
   "source": [
    "# Most Important Features"
   ]
  },
  {
   "cell_type": "code",
   "execution_count": 77,
   "metadata": {},
   "outputs": [],
   "source": [
    "features = pd.DataFrame(\n",
    "    {'features': cols,\n",
    "     'rf': rf_features,\n",
    "     'gb': gb_features,\n",
    "     'ab': ab_features\n",
    "    })\n",
    "\n",
    "features['sum'] = features.rf+features.gb+features.ab"
   ]
  },
  {
   "cell_type": "code",
   "execution_count": 100,
   "metadata": {},
   "outputs": [],
   "source": [
    "# sort, rearrange, and pickle\n",
    "features.sort_values('sum', ascending=False).reset_index()[['features', 'rf', 'gb', 'ab', 'sum']].to_pickle('data/features.pkl')"
   ]
  },
  {
   "cell_type": "markdown",
   "metadata": {},
   "source": [
    "# More Stuff 'n' Ideas"
   ]
  },
  {
   "cell_type": "code",
   "execution_count": 22,
   "metadata": {},
   "outputs": [
    {
     "ename": "NameError",
     "evalue": "name 'f1_score' is not defined",
     "output_type": "error",
     "traceback": [
      "\u001b[0;31m---------------------------------------------------------------------------\u001b[0m",
      "\u001b[0;31mNameError\u001b[0m                                 Traceback (most recent call last)",
      "\u001b[0;32m<ipython-input-22-d08636369bb0>\u001b[0m in \u001b[0;36m<module>\u001b[0;34m()\u001b[0m\n\u001b[1;32m      4\u001b[0m \u001b[0;32mfor\u001b[0m \u001b[0mcutoff\u001b[0m \u001b[0;32min\u001b[0m \u001b[0mnp\u001b[0m\u001b[0;34m.\u001b[0m\u001b[0marange\u001b[0m\u001b[0;34m(\u001b[0m\u001b[0;36m0\u001b[0m\u001b[0;34m,\u001b[0m \u001b[0;36m4.1\u001b[0m\u001b[0;34m,\u001b[0m \u001b[0;36m.01\u001b[0m\u001b[0;34m)\u001b[0m\u001b[0;34m:\u001b[0m\u001b[0;34m\u001b[0m\u001b[0m\n\u001b[1;32m      5\u001b[0m     \u001b[0my_pred\u001b[0m \u001b[0;34m=\u001b[0m \u001b[0mresults\u001b[0m\u001b[0;34m[\u001b[0m\u001b[0;34m's'\u001b[0m\u001b[0;34m]\u001b[0m\u001b[0;34m.\u001b[0m\u001b[0mapply\u001b[0m\u001b[0;34m(\u001b[0m\u001b[0;32mlambda\u001b[0m \u001b[0mx\u001b[0m\u001b[0;34m:\u001b[0m \u001b[0;36m1\u001b[0m \u001b[0;32mif\u001b[0m \u001b[0mx\u001b[0m \u001b[0;34m>\u001b[0m \u001b[0mcutoff\u001b[0m \u001b[0;32melse\u001b[0m \u001b[0;36m0\u001b[0m\u001b[0;34m)\u001b[0m\u001b[0;34m\u001b[0m\u001b[0m\n\u001b[0;32m----> 6\u001b[0;31m     \u001b[0mf1\u001b[0m\u001b[0;34m.\u001b[0m\u001b[0mappend\u001b[0m\u001b[0;34m(\u001b[0m\u001b[0mf1_score\u001b[0m\u001b[0;34m(\u001b[0m\u001b[0my_test\u001b[0m\u001b[0;34m,\u001b[0m \u001b[0my_pred\u001b[0m\u001b[0;34m)\u001b[0m\u001b[0;34m)\u001b[0m\u001b[0;34m\u001b[0m\u001b[0m\n\u001b[0m\u001b[1;32m      7\u001b[0m     \u001b[0mprecision\u001b[0m\u001b[0;34m.\u001b[0m\u001b[0mappend\u001b[0m\u001b[0;34m(\u001b[0m\u001b[0mprecision_score\u001b[0m\u001b[0;34m(\u001b[0m\u001b[0my_test\u001b[0m\u001b[0;34m,\u001b[0m \u001b[0my_pred\u001b[0m\u001b[0;34m)\u001b[0m\u001b[0;34m)\u001b[0m\u001b[0;34m\u001b[0m\u001b[0m\n\u001b[1;32m      8\u001b[0m     \u001b[0mrecall\u001b[0m\u001b[0;34m.\u001b[0m\u001b[0mappend\u001b[0m\u001b[0;34m(\u001b[0m\u001b[0mrecall_score\u001b[0m\u001b[0;34m(\u001b[0m\u001b[0my_test\u001b[0m\u001b[0;34m,\u001b[0m \u001b[0my_pred\u001b[0m\u001b[0;34m)\u001b[0m\u001b[0;34m)\u001b[0m\u001b[0;34m\u001b[0m\u001b[0m\n",
      "\u001b[0;31mNameError\u001b[0m: name 'f1_score' is not defined"
     ]
    }
   ],
   "source": [
    "f1 = []\n",
    "precision = []\n",
    "recall = []\n",
    "for cutoff in np.arange(0, 4.1, .01):\n",
    "    y_pred = results['s'].apply(lambda x: 1 if x > cutoff else 0)\n",
    "    f1.append(f1_score(y_test, y_pred))\n",
    "    precision.append(precision_score(y_test, y_pred))\n",
    "    recall.append(recall_score(y_test, y_pred))\n",
    "        \n",
    "print(max(f1))\n",
    "plt.plot(np.arange(0, 4.1, .01), f1)\n",
    "plt.show()"
   ]
  },
  {
   "cell_type": "code",
   "execution_count": null,
   "metadata": {
    "collapsed": true
   },
   "outputs": [],
   "source": [
    "recalls = []\n",
    "precisions = []\n",
    "accuracies = []\n",
    "fones = []\n",
    "\n",
    "y_pp = results['s']\n",
    "x = np.arange(0, 4, .1)\n",
    "for cutoff in x:\n",
    "    y_pred = y_pp.apply(lambda x: 1 if x > cutoff else 0)\n",
    "    recalls.append(recall_score(y_test, y_pred))\n",
    "    precisions.append(precision_score(y_test, y_pred))\n",
    "    accuracies.append(accuracy_score(y_pred, y_test))\n",
    "    fones.append(f1_score(y_test, y_pred))\n"
   ]
  },
  {
   "cell_type": "code",
   "execution_count": null,
   "metadata": {},
   "outputs": [],
   "source": [
    "plt.plot(x, recalls)\n",
    "plt.plot(x, precisions)\n",
    "plt.plot(x, accuracies)\n",
    "plt.plot(x, fones)\n",
    "plt.legend(['recall', 'precision', 'accuracy', 'fone'])\n",
    "plt.show()"
   ]
  },
  {
   "cell_type": "markdown",
   "metadata": {},
   "source": [
    "# Adding Probabilities"
   ]
  },
  {
   "cell_type": "code",
   "execution_count": null,
   "metadata": {},
   "outputs": [],
   "source": [
    "print(roc_auc_score(y_test, results.s_pp))\n",
    "y = roc_curve(y_test, results.s_pp)\n",
    "\n",
    "plt.plot(y[0], y[1])\n",
    "plt.xlabel(\"false positives\", fontsize=14)\n",
    "plt.ylabel(\"true positives\", fontsize=14)\n",
    "plt.title(\"ROC Curve\", fontsize=18)\n",
    "plt.savefig(readme_file_path+\"roc.png\")\n",
    "plt.show()"
   ]
  },
  {
   "cell_type": "code",
   "execution_count": null,
   "metadata": {},
   "outputs": [],
   "source": [
    "print(roc_auc_score(y_test, results.s_pp))\n",
    "y = roc_curve(y_test, results.s_pp)\n",
    "\n",
    "plt.plot(y[0], y[1])\n",
    "plt.xlabel(\"false positives\", fontsize=14)\n",
    "plt.ylabel(\"true positives\", fontsize=14)\n",
    "plt.title(\"ROC Curve\", fontsize=18)\n",
    "plt.savefig(readme_file_path+\"roc.png\")\n",
    "plt.show()"
   ]
  },
  {
   "cell_type": "code",
   "execution_count": null,
   "metadata": {},
   "outputs": [],
   "source": [
    "f1 = []\n",
    "precision = []\n",
    "recall = []\n",
    "for cutoff in np.arange(0, 4.1, .01):\n",
    "    results['p_pp'] = results['s_pp'].apply(lambda x: 1 if x > cutoff else 0)\n",
    "    f1.append(f1_score(y_test, results['p_pp']))\n",
    "    precision.append(precision_score(y_test, results['p_pp']))\n",
    "    recall.append(recall_score(y_test, results['p_pp']))\n",
    "        \n",
    "print(max(f1))\n",
    "plt.plot(np.arange(0, 4.1, .01), f1)\n",
    "plt.show()"
   ]
  },
  {
   "cell_type": "code",
   "execution_count": null,
   "metadata": {},
   "outputs": [],
   "source": [
    "f1 = []\n",
    "precision = []\n",
    "recall = []\n",
    "for cutoff in np.arange(0, 3.1, .01):\n",
    "    results['p_pp'] = results['s_pp'].apply(lambda x: 1 if x > cutoff else 0)\n",
    "    f1.append(f1_score(y_test, results['p_pp']))\n",
    "    precision.append(precision_score(y_test, results['p_pp']))\n",
    "    recall.append(recall_score(y_test, results['p_pp']))\n",
    "    \n",
    "print(max(f1))\n",
    "plt.plot(np.arange(0, 3.1, .01), f1)\n",
    "plt.show()"
   ]
  },
  {
   "cell_type": "code",
   "execution_count": null,
   "metadata": {},
   "outputs": [],
   "source": [
    "plt.scatter(recall, precision, marker='.')\n",
    "plt.xlabel(\"recall\")\n",
    "plt.ylabel(\"precision\")\n",
    "plt.show()"
   ]
  },
  {
   "cell_type": "code",
   "execution_count": null,
   "metadata": {
    "collapsed": true
   },
   "outputs": [],
   "source": [
    "recalls = []\n",
    "precisions = []\n",
    "accuracies = []\n",
    "fones = []\n",
    "\n",
    "y_pp = results['s_pp']\n",
    "x = np.arange(0, 4, .1)\n",
    "for cutoff in x:\n",
    "    y_pred = y_pp.apply(lambda x: 1 if x > cutoff else 0)\n",
    "    recalls.append(recall_score(y_test, y_pred))\n",
    "    precisions.append(precision_score(y_test, y_pred))\n",
    "    accuracies.append(accuracy_score(y_pred, y_test))\n",
    "    fones.append(f1_score(y_test, y_pred))\n",
    "\n",
    "\n",
    "# print(\"\\nMETRICS\")\n",
    "# print(\"Model recall: {}\".format(recall_score(y_test, y_pred)))\n",
    "# print(\"Model precision: {}\".format(precision_score(y_test, y_pred)))\n",
    "# print(\"Model accuracy: {}\".format(accuracy_score(y_pred, y_test)))\n",
    "# print(\"Model f1: {}\".format(f1_score(y_test, y_pred)))\n",
    "\n",
    "# print (\"\\nCONFUSION MATRIX\")\n",
    "# print (confusion_matrix(y_test, y_pred))\n",
    "# print (\"\\nkey:\")\n",
    "# print (\" TN   FP \")\n",
    "# print (\" FN   TP \")"
   ]
  },
  {
   "cell_type": "code",
   "execution_count": null,
   "metadata": {},
   "outputs": [],
   "source": [
    "plt.plot(x, recalls)\n",
    "plt.plot(x, precisions)\n",
    "plt.plot(x, accuracies)\n",
    "plt.plot(x, fones)\n",
    "plt.legend(['recall', 'precision', 'accuracy', 'fone'])\n",
    "plt.show()"
   ]
  },
  {
   "cell_type": "markdown",
   "metadata": {},
   "source": [
    "recalls"
   ]
  },
  {
   "cell_type": "code",
   "execution_count": null,
   "metadata": {},
   "outputs": [],
   "source": [
    "cutoff = x[fones.index(max(fones))]\n",
    "\n",
    "y_pred = y_ pp.apply(lambda x: 1 if x > cutoff else 0)\n",
    "\n",
    "print(\"\\nMETRICS\")\n",
    "print(\"Model recall: {}\".format(recall_score(y_test, y_pred)))\n",
    "print(\"Model precision: {}\".format(precision_score(y_test, y_pred)))\n",
    "print(\"Model accuracy: {}\".format(accuracy_score(y_pred, y_test)))\n",
    "print(\"Model f1: {}\".format(f1_score(y_test, y_pred)))\n",
    "\n",
    "print (\"\\nCONFUSION MATRIX\")\n",
    "print (confusion_matrix(y_test, y_pred))\n",
    "print (\"\\nkey:\")\n",
    "print (\" TN   FP \")\n",
    "print (\" FN   TP \")"
   ]
  },
  {
   "cell_type": "code",
   "execution_count": null,
   "metadata": {
    "collapsed": true
   },
   "outputs": [],
   "source": []
  }
 ],
 "metadata": {
  "kernelspec": {
   "display_name": "Python 3",
   "language": "python",
   "name": "python3"
  },
  "language_info": {
   "codemirror_mode": {
    "name": "ipython",
    "version": 3
   },
   "file_extension": ".py",
   "mimetype": "text/x-python",
   "name": "python",
   "nbconvert_exporter": "python",
   "pygments_lexer": "ipython3",
   "version": "3.6.3"
  }
 },
 "nbformat": 4,
 "nbformat_minor": 2
}
