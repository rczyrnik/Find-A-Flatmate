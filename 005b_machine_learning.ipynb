{
 "cells": [
  {
   "cell_type": "code",
   "execution_count": 33,
   "metadata": {
    "collapsed": true
   },
   "outputs": [],
   "source": [
    "import pandas as pd\n",
    "import numpy as np\n",
    "import matplotlib.pyplot as plt\n",
    "import datetime as dt\n",
    "\n",
    "import seaborn as sns\n",
    "sns.set()\n",
    "\n",
    "\n",
    "import my_resample as ms\n",
    "import my_functions as mf\n",
    "\n",
    "from sklearn.model_selection import train_test_split\n",
    "from sklearn.preprocessing import StandardScaler\n",
    "from sklearn.linear_model import LogisticRegression\n",
    "from sklearn.metrics import confusion_matrix, precision_score, recall_score, f1_score\n",
    "\n",
    "\n",
    "\n",
    "from sklearn.ensemble import RandomForestClassifier\n",
    "from sklearn.tree import DecisionTreeClassifier\n",
    "from sklearn.ensemble import GradientBoostingClassifier\n",
    "from sklearn.ensemble import AdaBoostClassifier\n",
    "\n",
    "# from sklearn.ensemble.partial_dependence import plot_partial_dependence\n",
    "# from sklearn.model_selection import GridSearchCV\n",
    "\n",
    "# from sklearn.model_selection import KFold\n",
    "# from sklearn.metrics import roc_curve, auc\n",
    "# from scipy import interp\n",
    "# from random import *\n",
    "# import matplotlib.pyplot as plt\n",
    "# %matplotlib inline\n",
    "\n",
    "# from sklearn.ensemble.partial_dependence import plot_partial_dependence\n",
    "# from sklearn.ensemble.partial_dependence import partial_dependence\n",
    "\n",
    "from importlib import reload\n",
    "\n",
    "import warnings\n",
    "warnings.filterwarnings('ignore')"
   ]
  },
  {
   "cell_type": "code",
   "execution_count": 3,
   "metadata": {
    "collapsed": true
   },
   "outputs": [],
   "source": [
    "# directory\n",
    "data_file_path = \"/Users/gandalf/Documents/coding/do_not_commit/capstone/\"\n",
    "website_file_path = '/Users/gandalf/Documents/coding/rczyrnik.github.io/capstone/'"
   ]
  },
  {
   "cell_type": "markdown",
   "metadata": {},
   "source": [
    "# READ IN DATA"
   ]
  },
  {
   "cell_type": "code",
   "execution_count": 4,
   "metadata": {
    "collapsed": true
   },
   "outputs": [],
   "source": [
    "X =  pd.read_pickle(data_file_path+'X.pkl')\n",
    "y1 =  pd.read_pickle(data_file_path+'y1.pkl')\n",
    "y2 =  pd.read_pickle(data_file_path+'y2.pkl')"
   ]
  },
  {
   "cell_type": "code",
   "execution_count": 5,
   "metadata": {},
   "outputs": [
    {
     "data": {
      "text/html": [
       "<div>\n",
       "<style>\n",
       "    .dataframe thead tr:only-child th {\n",
       "        text-align: right;\n",
       "    }\n",
       "\n",
       "    .dataframe thead th {\n",
       "        text-align: left;\n",
       "    }\n",
       "\n",
       "    .dataframe tbody tr th {\n",
       "        vertical-align: top;\n",
       "    }\n",
       "</style>\n",
       "<table border=\"1\" class=\"dataframe\">\n",
       "  <thead>\n",
       "    <tr style=\"text-align: right;\">\n",
       "      <th></th>\n",
       "      <th>first_message_len</th>\n",
       "      <th>first_message_day_of_year</th>\n",
       "      <th>first_message_day_of_month</th>\n",
       "      <th>first_message_day_of_week</th>\n",
       "      <th>first_message_hour</th>\n",
       "      <th>const2</th>\n",
       "      <th>gender_sender</th>\n",
       "      <th>inRelationship_sender</th>\n",
       "      <th>isClean_sender</th>\n",
       "      <th>isNight_sender</th>\n",
       "      <th>...</th>\n",
       "      <th>same_country</th>\n",
       "      <th>same_college</th>\n",
       "      <th>same_metro</th>\n",
       "      <th>overlap_roommate</th>\n",
       "      <th>overlap_hobbies</th>\n",
       "      <th>overlap_amenities</th>\n",
       "      <th>overlap_rent</th>\n",
       "      <th>distance</th>\n",
       "      <th>urgency_receiver</th>\n",
       "      <th>urgency_sender</th>\n",
       "    </tr>\n",
       "  </thead>\n",
       "  <tbody>\n",
       "    <tr>\n",
       "      <th>02sjTzcsaO02omVxM8Xm</th>\n",
       "      <td>4</td>\n",
       "      <td>254</td>\n",
       "      <td>11</td>\n",
       "      <td>1</td>\n",
       "      <td>2</td>\n",
       "      <td>1</td>\n",
       "      <td>1.0</td>\n",
       "      <td>0.0</td>\n",
       "      <td>1.0</td>\n",
       "      <td>1.0</td>\n",
       "      <td>...</td>\n",
       "      <td>0</td>\n",
       "      <td>0</td>\n",
       "      <td>0</td>\n",
       "      <td>1</td>\n",
       "      <td>8</td>\n",
       "      <td>0</td>\n",
       "      <td>175.0</td>\n",
       "      <td>37.806874</td>\n",
       "      <td>20.0</td>\n",
       "      <td>25.0</td>\n",
       "    </tr>\n",
       "    <tr>\n",
       "      <th>07lVtClAEQ01iDVeaXl1</th>\n",
       "      <td>62</td>\n",
       "      <td>249</td>\n",
       "      <td>6</td>\n",
       "      <td>3</td>\n",
       "      <td>20</td>\n",
       "      <td>1</td>\n",
       "      <td>0.0</td>\n",
       "      <td>1.0</td>\n",
       "      <td>1.0</td>\n",
       "      <td>1.0</td>\n",
       "      <td>...</td>\n",
       "      <td>0</td>\n",
       "      <td>0</td>\n",
       "      <td>1</td>\n",
       "      <td>0</td>\n",
       "      <td>7</td>\n",
       "      <td>3</td>\n",
       "      <td>200.0</td>\n",
       "      <td>1.207884</td>\n",
       "      <td>-5.0</td>\n",
       "      <td>4.0</td>\n",
       "    </tr>\n",
       "    <tr>\n",
       "      <th>0AFU6guKDt01iDVeaXl1</th>\n",
       "      <td>18</td>\n",
       "      <td>249</td>\n",
       "      <td>6</td>\n",
       "      <td>3</td>\n",
       "      <td>20</td>\n",
       "      <td>1</td>\n",
       "      <td>0.0</td>\n",
       "      <td>1.0</td>\n",
       "      <td>1.0</td>\n",
       "      <td>1.0</td>\n",
       "      <td>...</td>\n",
       "      <td>0</td>\n",
       "      <td>0</td>\n",
       "      <td>0</td>\n",
       "      <td>1</td>\n",
       "      <td>4</td>\n",
       "      <td>2</td>\n",
       "      <td>200.0</td>\n",
       "      <td>41.182387</td>\n",
       "      <td>21.0</td>\n",
       "      <td>4.0</td>\n",
       "    </tr>\n",
       "    <tr>\n",
       "      <th>0AFU6guKDt01mfWG4vUm</th>\n",
       "      <td>54</td>\n",
       "      <td>184</td>\n",
       "      <td>3</td>\n",
       "      <td>1</td>\n",
       "      <td>20</td>\n",
       "      <td>1</td>\n",
       "      <td>0.0</td>\n",
       "      <td>0.0</td>\n",
       "      <td>1.0</td>\n",
       "      <td>0.0</td>\n",
       "      <td>...</td>\n",
       "      <td>0</td>\n",
       "      <td>0</td>\n",
       "      <td>1</td>\n",
       "      <td>0</td>\n",
       "      <td>3</td>\n",
       "      <td>1</td>\n",
       "      <td>0.0</td>\n",
       "      <td>46.212738</td>\n",
       "      <td>21.0</td>\n",
       "      <td>25.0</td>\n",
       "    </tr>\n",
       "    <tr>\n",
       "      <th>0AFU6guKDt06y5iMXoCP</th>\n",
       "      <td>66</td>\n",
       "      <td>184</td>\n",
       "      <td>3</td>\n",
       "      <td>1</td>\n",
       "      <td>20</td>\n",
       "      <td>1</td>\n",
       "      <td>0.0</td>\n",
       "      <td>0.0</td>\n",
       "      <td>1.0</td>\n",
       "      <td>0.0</td>\n",
       "      <td>...</td>\n",
       "      <td>0</td>\n",
       "      <td>0</td>\n",
       "      <td>1</td>\n",
       "      <td>0</td>\n",
       "      <td>3</td>\n",
       "      <td>1</td>\n",
       "      <td>350.0</td>\n",
       "      <td>0.263554</td>\n",
       "      <td>21.0</td>\n",
       "      <td>25.0</td>\n",
       "    </tr>\n",
       "  </tbody>\n",
       "</table>\n",
       "<p>5 rows × 110 columns</p>\n",
       "</div>"
      ],
      "text/plain": [
       "                      first_message_len  first_message_day_of_year  \\\n",
       "02sjTzcsaO02omVxM8Xm                  4                        254   \n",
       "07lVtClAEQ01iDVeaXl1                 62                        249   \n",
       "0AFU6guKDt01iDVeaXl1                 18                        249   \n",
       "0AFU6guKDt01mfWG4vUm                 54                        184   \n",
       "0AFU6guKDt06y5iMXoCP                 66                        184   \n",
       "\n",
       "                      first_message_day_of_month  first_message_day_of_week  \\\n",
       "02sjTzcsaO02omVxM8Xm                          11                          1   \n",
       "07lVtClAEQ01iDVeaXl1                           6                          3   \n",
       "0AFU6guKDt01iDVeaXl1                           6                          3   \n",
       "0AFU6guKDt01mfWG4vUm                           3                          1   \n",
       "0AFU6guKDt06y5iMXoCP                           3                          1   \n",
       "\n",
       "                      first_message_hour  const2  gender_sender  \\\n",
       "02sjTzcsaO02omVxM8Xm                   2       1            1.0   \n",
       "07lVtClAEQ01iDVeaXl1                  20       1            0.0   \n",
       "0AFU6guKDt01iDVeaXl1                  20       1            0.0   \n",
       "0AFU6guKDt01mfWG4vUm                  20       1            0.0   \n",
       "0AFU6guKDt06y5iMXoCP                  20       1            0.0   \n",
       "\n",
       "                      inRelationship_sender  isClean_sender  isNight_sender  \\\n",
       "02sjTzcsaO02omVxM8Xm                    0.0             1.0             1.0   \n",
       "07lVtClAEQ01iDVeaXl1                    1.0             1.0             1.0   \n",
       "0AFU6guKDt01iDVeaXl1                    1.0             1.0             1.0   \n",
       "0AFU6guKDt01mfWG4vUm                    0.0             1.0             0.0   \n",
       "0AFU6guKDt06y5iMXoCP                    0.0             1.0             0.0   \n",
       "\n",
       "                           ...        same_country  same_college  same_metro  \\\n",
       "02sjTzcsaO02omVxM8Xm       ...                   0             0           0   \n",
       "07lVtClAEQ01iDVeaXl1       ...                   0             0           1   \n",
       "0AFU6guKDt01iDVeaXl1       ...                   0             0           0   \n",
       "0AFU6guKDt01mfWG4vUm       ...                   0             0           1   \n",
       "0AFU6guKDt06y5iMXoCP       ...                   0             0           1   \n",
       "\n",
       "                      overlap_roommate  overlap_hobbies  overlap_amenities  \\\n",
       "02sjTzcsaO02omVxM8Xm                 1                8                  0   \n",
       "07lVtClAEQ01iDVeaXl1                 0                7                  3   \n",
       "0AFU6guKDt01iDVeaXl1                 1                4                  2   \n",
       "0AFU6guKDt01mfWG4vUm                 0                3                  1   \n",
       "0AFU6guKDt06y5iMXoCP                 0                3                  1   \n",
       "\n",
       "                      overlap_rent   distance  urgency_receiver  \\\n",
       "02sjTzcsaO02omVxM8Xm         175.0  37.806874              20.0   \n",
       "07lVtClAEQ01iDVeaXl1         200.0   1.207884              -5.0   \n",
       "0AFU6guKDt01iDVeaXl1         200.0  41.182387              21.0   \n",
       "0AFU6guKDt01mfWG4vUm           0.0  46.212738              21.0   \n",
       "0AFU6guKDt06y5iMXoCP         350.0   0.263554              21.0   \n",
       "\n",
       "                      urgency_sender  \n",
       "02sjTzcsaO02omVxM8Xm            25.0  \n",
       "07lVtClAEQ01iDVeaXl1             4.0  \n",
       "0AFU6guKDt01iDVeaXl1             4.0  \n",
       "0AFU6guKDt01mfWG4vUm            25.0  \n",
       "0AFU6guKDt06y5iMXoCP            25.0  \n",
       "\n",
       "[5 rows x 110 columns]"
      ]
     },
     "execution_count": 5,
     "metadata": {},
     "output_type": "execute_result"
    }
   ],
   "source": [
    "X.head()"
   ]
  },
  {
   "cell_type": "code",
   "execution_count": 6,
   "metadata": {},
   "outputs": [
    {
     "data": {
      "text/plain": [
       "02sjTzcsaO02omVxM8Xm    0\n",
       "07lVtClAEQ01iDVeaXl1    0\n",
       "0AFU6guKDt01iDVeaXl1    0\n",
       "0AFU6guKDt01mfWG4vUm    0\n",
       "0AFU6guKDt06y5iMXoCP    0\n",
       "Name: response, dtype: int64"
      ]
     },
     "execution_count": 6,
     "metadata": {},
     "output_type": "execute_result"
    }
   ],
   "source": [
    "y1.head()"
   ]
  },
  {
   "cell_type": "code",
   "execution_count": 7,
   "metadata": {},
   "outputs": [
    {
     "data": {
      "text/plain": [
       "02sjTzcsaO02omVxM8Xm    1\n",
       "07lVtClAEQ01iDVeaXl1    1\n",
       "0AFU6guKDt01iDVeaXl1    1\n",
       "0AFU6guKDt01mfWG4vUm    1\n",
       "0AFU6guKDt06y5iMXoCP    1\n",
       "Name: len_convo, dtype: int64"
      ]
     },
     "execution_count": 7,
     "metadata": {},
     "output_type": "execute_result"
    }
   ],
   "source": [
    "y2.head()"
   ]
  },
  {
   "cell_type": "markdown",
   "metadata": {},
   "source": [
    "# TRAIN TEST SPLIT"
   ]
  },
  {
   "cell_type": "code",
   "execution_count": 36,
   "metadata": {
    "collapsed": true
   },
   "outputs": [],
   "source": [
    "# train test split\n",
    "X_train, X_test, y_train, y_test = train_test_split(X.as_matrix(), y1.as_matrix(), random_state=17)\n",
    "\n",
    "np.save(data_file_path+'X_train', X_train)\n",
    "np.save(data_file_path+'X_test', X_test)\n",
    "np.save(data_file_path+'y_train', y_train)\n",
    "np.save(data_file_path+'y_test', y_test)\n",
    "\n",
    "# resample\n",
    "X_train, y_train = ms.oversample(X_train, y_train, .5)\n",
    "\n",
    "# scale data\n",
    "scaler = StandardScaler()\n",
    "scaler.fit(X_train)\n",
    "X_train = scaler.transform(X_train)\n",
    "X_test = scaler.transform(X_test)"
   ]
  },
  {
   "cell_type": "code",
   "execution_count": 25,
   "metadata": {
    "collapsed": true
   },
   "outputs": [],
   "source": []
  },
  {
   "cell_type": "code",
   "execution_count": 32,
   "metadata": {
    "collapsed": true
   },
   "outputs": [],
   "source": [
    "cols = X.columns\n",
    "list(cols)\n",
    "np.save(data_file_path+'cols', cols)"
   ]
  },
  {
   "cell_type": "code",
   "execution_count": null,
   "metadata": {
    "collapsed": true
   },
   "outputs": [],
   "source": []
  },
  {
   "cell_type": "code",
   "execution_count": 28,
   "metadata": {
    "collapsed": true
   },
   "outputs": [],
   "source": [
    "def display_importances_trees(model, cols):\n",
    "    # show feature importances\n",
    "    pd.options.display.float_format = '{:,.2f}'.format\n",
    "    feature_df = pd.DataFrame([cols, model.feature_importances_]).T\n",
    "    feature_df.columns = ['feature','coefficient']\n",
    "    return feature_df.sort_values('coefficient', ascending=False)"
   ]
  },
  {
   "cell_type": "markdown",
   "metadata": {},
   "source": [
    "# DECISION TREE CLASSIFIER"
   ]
  },
  {
   "cell_type": "code",
   "execution_count": 35,
   "metadata": {},
   "outputs": [
    {
     "name": "stdout",
     "output_type": "stream",
     "text": [
      "\n",
      "METRICS\n",
      "Model recall: 0.28076923076923077\n",
      "Model precision: 0.3093220338983051\n",
      "Model accuracy: 0.8632278233685033\n",
      "Model f1: 0.2943548387096775\n",
      "\n",
      "CONFUSION MATRIX\n",
      "[[2136  163]\n",
      " [ 187   73]]\n",
      "\n",
      "key:\n",
      " TN   FP \n",
      " FN   TP \n",
      "                           feature coefficient\n",
      "64              len_about_receiver        0.10\n",
      "59    created_day_of_year_receiver        0.09\n",
      "1        first_message_day_of_year        0.05\n",
      "18      created_day_of_year_sender        0.04\n",
      "75            len_hobbies_receiver        0.04\n",
      "70                    age_receiver        0.03\n",
      "60   created_day_of_month_receiver        0.03\n",
      "107                       distance        0.03\n",
      "104                overlap_hobbies        0.03\n",
      "4               first_message_hour        0.03\n",
      "CPU times: user 451 ms, sys: 18.4 ms, total: 469 ms\n",
      "Wall time: 502 ms\n"
     ]
    }
   ],
   "source": [
    "%%time\n",
    "\n",
    "# fit model\n",
    "model = DecisionTreeClassifier()\n",
    "model.fit(X_train, y_train)\n",
    "\n",
    "# show metrics\n",
    "y_pred = model.predict(X_test)\n",
    "\n",
    "print(\"\\nMETRICS\")\n",
    "print(\"Model recall: {}\".format(recall_score(y_test, y_pred)))\n",
    "print(\"Model precision: {}\".format(precision_score(y_test, y_pred)))\n",
    "print(\"Model accuracy: {}\".format(model.score(X_test, y_test)))\n",
    "print(\"Model f1: {}\".format(f1_score(y_test, y_pred)))\n",
    "\n",
    "print (\"\\nCONFUSION MATRIX\")\n",
    "print (confusion_matrix(y_test, y_pred))\n",
    "print (\"\\nkey:\")\n",
    "print (\" TN   FP \")\n",
    "print (\" FN   TP \")\n",
    "\n",
    "# show importances\n",
    "print(display_importances_trees(model, cols).head(10))"
   ]
  },
  {
   "cell_type": "markdown",
   "metadata": {},
   "source": [
    "# RANDOM FOREST CLASSIFIER"
   ]
  },
  {
   "cell_type": "code",
   "execution_count": 11,
   "metadata": {},
   "outputs": [
    {
     "name": "stdout",
     "output_type": "stream",
     "text": [
      "\n",
      "METRICS\n",
      "Model recall: 0.09615384615384616\n",
      "Model precision: 0.5952380952380952\n",
      "Model accuracy: 0.9015240328253223\n",
      "\n",
      "CONFUSION MATRIX\n",
      "[[2282   17]\n",
      " [ 235   25]]\n",
      "\n",
      "key:\n",
      " TN   FP \n",
      " FN   TP \n",
      "                           feature coefficient\n",
      "64              len_about_receiver        0.05\n",
      "59    created_day_of_year_receiver        0.04\n",
      "1        first_message_day_of_year        0.04\n",
      "18      created_day_of_year_sender        0.03\n",
      "70                    age_receiver        0.03\n",
      "75            len_hobbies_receiver        0.03\n",
      "60   created_day_of_month_receiver        0.02\n",
      "107                       distance        0.02\n",
      "0                first_message_len        0.02\n",
      "23                len_about_sender        0.02\n",
      "CPU times: user 308 ms, sys: 12.2 ms, total: 320 ms\n",
      "Wall time: 327 ms\n"
     ]
    }
   ],
   "source": [
    "%%time\n",
    "\n",
    "model = RandomForestClassifier()\n",
    "model.fit(X_train, y_train)\n",
    "y_pred = model.predict(X_test)\n",
    "\n",
    "# show metrics\n",
    "y_pred = model.predict(X_test)\n",
    "\n",
    "print(\"\\nMETRICS\")\n",
    "print(\"Model recall: {}\".format(recall_score(y_test, y_pred)))\n",
    "print(\"Model precision: {}\".format(precision_score(y_test, y_pred)))\n",
    "print(\"Model accuracy: {}\".format(model.score(X_test, y_test)))\n",
    "\n",
    "print (\"\\nCONFUSION MATRIX\")\n",
    "print (confusion_matrix(y_test, y_pred))\n",
    "print (\"\\nkey:\")\n",
    "print (\" TN   FP \")\n",
    "print (\" FN   TP \")\n",
    "\n",
    "# show importances\n",
    "print(display_importances_trees(model, X).head(10))"
   ]
  },
  {
   "cell_type": "markdown",
   "metadata": {},
   "source": [
    "# GradientBoostingClassifier"
   ]
  },
  {
   "cell_type": "code",
   "execution_count": 12,
   "metadata": {},
   "outputs": [
    {
     "name": "stdout",
     "output_type": "stream",
     "text": [
      "\n",
      "METRICS\n",
      "Model recall: 0.18846153846153846\n",
      "Model precision: 0.5\n",
      "Model accuracy: 0.8983978116451738\n",
      "\n",
      "CONFUSION MATRIX\n",
      "[[2250   49]\n",
      " [ 211   49]]\n",
      "\n",
      "key:\n",
      " TN   FP \n",
      " FN   TP \n",
      "                           feature coefficient\n",
      "64              len_about_receiver        0.04\n",
      "59    created_day_of_year_receiver        0.04\n",
      "107                       distance        0.04\n",
      "1        first_message_day_of_year        0.03\n",
      "60   created_day_of_month_receiver        0.02\n",
      "70                    age_receiver        0.02\n",
      "0                first_message_len        0.02\n",
      "18      created_day_of_year_sender        0.02\n",
      "23                len_about_sender        0.02\n",
      "4               first_message_hour        0.02\n",
      "CPU times: user 43.5 s, sys: 408 ms, total: 43.9 s\n",
      "Wall time: 46.8 s\n"
     ]
    }
   ],
   "source": [
    "%%time\n",
    "\n",
    "# fit model\n",
    "model = GradientBoostingClassifier(learning_rate= 0.4, \n",
    "                                   max_depth= 10, \n",
    "                                   min_samples_leaf= 2, \n",
    "                                   min_samples_split= 3, \n",
    "                                   n_estimators= 100, \n",
    "                                   subsample= 1)\n",
    "\n",
    "# model = GradientBoostingClassifier()\n",
    "model.fit(X_train, y_train)\n",
    "\n",
    "# show metrics\n",
    "y_pred = model.predict(X_test)\n",
    "\n",
    "print(\"\\nMETRICS\")\n",
    "print(\"Model recall: {}\".format(recall_score(y_test, y_pred)))\n",
    "print(\"Model precision: {}\".format(precision_score(y_test, y_pred)))\n",
    "print(\"Model accuracy: {}\".format(model.score(X_test, y_test)))\n",
    "\n",
    "print (\"\\nCONFUSION MATRIX\")\n",
    "print (confusion_matrix(y_test, y_pred))\n",
    "print (\"\\nkey:\")\n",
    "print (\" TN   FP \")\n",
    "print (\" FN   TP \")\n",
    "\n",
    "# show importances\n",
    "print(display_importances_trees(model, X).head(10))"
   ]
  },
  {
   "cell_type": "markdown",
   "metadata": {},
   "source": [
    "# ADABOOST CLASSIFIER"
   ]
  },
  {
   "cell_type": "code",
   "execution_count": 13,
   "metadata": {},
   "outputs": [
    {
     "name": "stdout",
     "output_type": "stream",
     "text": [
      "\n",
      "METRICS\n",
      "Model recall: 0.6653846153846154\n",
      "Model precision: 0.21200980392156862\n",
      "Model accuracy: 0.7147323173114498\n",
      "\n",
      "CONFUSION MATRIX\n",
      "[[1656  643]\n",
      " [  87  173]]\n",
      "\n",
      "key:\n",
      " TN   FP \n",
      " FN   TP \n",
      "                          feature coefficient\n",
      "59   created_day_of_year_receiver        0.12\n",
      "1       first_message_day_of_year        0.10\n",
      "18     created_day_of_year_sender        0.08\n",
      "70                   age_receiver        0.06\n",
      "108              urgency_receiver        0.06\n",
      "53               minCost_receiver        0.04\n",
      "62          has_password_receiver        0.02\n",
      "48        inRelationship_receiver        0.02\n",
      "93                   same_student        0.02\n",
      "25           len_amenities_sender        0.02\n",
      "CPU times: user 2.55 s, sys: 50.4 ms, total: 2.6 s\n",
      "Wall time: 2.92 s\n"
     ]
    }
   ],
   "source": [
    "%%time\n",
    "\n",
    "# fit model\n",
    "model = AdaBoostClassifier()\n",
    "model.fit(X_train, y_train)\n",
    "\n",
    "\n",
    "# show metrics\n",
    "y_pred = model.predict(X_test)\n",
    "\n",
    "print(\"\\nMETRICS\")\n",
    "print(\"Model recall: {}\".format(recall_score(y_test, y_pred)))\n",
    "print(\"Model precision: {}\".format(precision_score(y_test, y_pred)))\n",
    "print(\"Model accuracy: {}\".format(model.score(X_test, y_test)))\n",
    "\n",
    "print (\"\\nCONFUSION MATRIX\")\n",
    "print (confusion_matrix(y_test, y_pred))\n",
    "print (\"\\nkey:\")\n",
    "print (\" TN   FP \")\n",
    "print (\" FN   TP \")\n",
    "\n",
    "# show importances\n",
    "print(display_importances_trees(model, X).head(10))"
   ]
  },
  {
   "cell_type": "code",
   "execution_count": null,
   "metadata": {
    "collapsed": true
   },
   "outputs": [],
   "source": []
  }
 ],
 "metadata": {
  "kernelspec": {
   "display_name": "Python 3",
   "language": "python",
   "name": "python3"
  },
  "language_info": {
   "codemirror_mode": {
    "name": "ipython",
    "version": 3
   },
   "file_extension": ".py",
   "mimetype": "text/x-python",
   "name": "python",
   "nbconvert_exporter": "python",
   "pygments_lexer": "ipython3",
   "version": "3.6.3"
  }
 },
 "nbformat": 4,
 "nbformat_minor": 2
}
