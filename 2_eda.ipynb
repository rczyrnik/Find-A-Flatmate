{
 "cells": [
  {
   "cell_type": "markdown",
   "metadata": {},
   "source": [
    "# Imports"
   ]
  },
  {
   "cell_type": "code",
   "execution_count": 1,
   "metadata": {
    "collapsed": true
   },
   "outputs": [],
   "source": [
    "import pandas as pd\n",
    "import numpy as np\n",
    "import matplotlib.pyplot as plt\n",
    "%matplotlib inline\n",
    "\n",
    "# Location\n",
    "from shapely.geometry import Point\n",
    "from geopandas import GeoDataFrame\n",
    "import geopandas as gpd\n",
    "\n",
    "from my_pickle import unpickle_it"
   ]
  },
  {
   "cell_type": "markdown",
   "metadata": {},
   "source": [
    "# Read in data"
   ]
  },
  {
   "cell_type": "code",
   "execution_count": 2,
   "metadata": {},
   "outputs": [
    {
     "name": "stdout",
     "output_type": "stream",
     "text": [
      "Make sure we're not using ECT data\n",
      "2017-10-02 01:35:58.644000\n"
     ]
    }
   ],
   "source": [
    "user_df = unpickle_it('data_user')\n",
    "convo_df = unpickle_it('data_convo')\n",
    "\n",
    "print(\"Make sure we're not using ECT data\")\n",
    "print(pd.to_datetime(convo_df.timestamp.max()*1000000))"
   ]
  },
  {
   "cell_type": "code",
   "execution_count": 3,
   "metadata": {},
   "outputs": [
    {
     "data": {
      "text/html": [
       "<div>\n",
       "<style>\n",
       "    .dataframe thead tr:only-child th {\n",
       "        text-align: right;\n",
       "    }\n",
       "\n",
       "    .dataframe thead th {\n",
       "        text-align: left;\n",
       "    }\n",
       "\n",
       "    .dataframe tbody tr th {\n",
       "        vertical-align: top;\n",
       "    }\n",
       "</style>\n",
       "<table border=\"1\" class=\"dataframe\">\n",
       "  <thead>\n",
       "    <tr style=\"text-align: right;\">\n",
       "      <th></th>\n",
       "      <th>created</th>\n",
       "      <th>updated</th>\n",
       "      <th>activeAt</th>\n",
       "      <th>available</th>\n",
       "      <th>about</th>\n",
       "      <th>has_about</th>\n",
       "      <th>len_about</th>\n",
       "      <th>birthday</th>\n",
       "      <th>age</th>\n",
       "      <th>gender</th>\n",
       "      <th>...</th>\n",
       "      <th>isStudent</th>\n",
       "      <th>petsOk</th>\n",
       "      <th>smokingOk</th>\n",
       "      <th>onboarded</th>\n",
       "      <th>messages_sent</th>\n",
       "      <th>responses_received</th>\n",
       "      <th>attractiveness</th>\n",
       "      <th>messages_received</th>\n",
       "      <th>responses_sent</th>\n",
       "      <th>selectivity</th>\n",
       "    </tr>\n",
       "    <tr>\n",
       "      <th>uid</th>\n",
       "      <th></th>\n",
       "      <th></th>\n",
       "      <th></th>\n",
       "      <th></th>\n",
       "      <th></th>\n",
       "      <th></th>\n",
       "      <th></th>\n",
       "      <th></th>\n",
       "      <th></th>\n",
       "      <th></th>\n",
       "      <th></th>\n",
       "      <th></th>\n",
       "      <th></th>\n",
       "      <th></th>\n",
       "      <th></th>\n",
       "      <th></th>\n",
       "      <th></th>\n",
       "      <th></th>\n",
       "      <th></th>\n",
       "      <th></th>\n",
       "      <th></th>\n",
       "    </tr>\n",
       "  </thead>\n",
       "  <tbody>\n",
       "    <tr>\n",
       "      <th>07cSOmlL0F</th>\n",
       "      <td>2016-11-15 22:54:02.653</td>\n",
       "      <td>2017-02-08 00:06:05.667</td>\n",
       "      <td>NaT</td>\n",
       "      <td>NaT</td>\n",
       "      <td></td>\n",
       "      <td>False</td>\n",
       "      <td>0</td>\n",
       "      <td>1990-11-16 21:00:00</td>\n",
       "      <td>28.0</td>\n",
       "      <td>male</td>\n",
       "      <td>...</td>\n",
       "      <td>NaN</td>\n",
       "      <td>1.0</td>\n",
       "      <td>0.0</td>\n",
       "      <td>0.0</td>\n",
       "      <td>1.0</td>\n",
       "      <td>0.0</td>\n",
       "      <td>0.000000</td>\n",
       "      <td>1.0</td>\n",
       "      <td>0.0</td>\n",
       "      <td>1.0</td>\n",
       "    </tr>\n",
       "    <tr>\n",
       "      <th>0PZ0jSiV11</th>\n",
       "      <td>2016-11-16 03:36:00.307</td>\n",
       "      <td>2017-03-13 19:38:46.405</td>\n",
       "      <td>NaT</td>\n",
       "      <td>NaT</td>\n",
       "      <td></td>\n",
       "      <td>False</td>\n",
       "      <td>0</td>\n",
       "      <td>1989-11-24 21:00:00</td>\n",
       "      <td>29.0</td>\n",
       "      <td>male</td>\n",
       "      <td>...</td>\n",
       "      <td>NaN</td>\n",
       "      <td>1.0</td>\n",
       "      <td>1.0</td>\n",
       "      <td>0.0</td>\n",
       "      <td>0.0</td>\n",
       "      <td>0.0</td>\n",
       "      <td>0.392391</td>\n",
       "      <td>3.0</td>\n",
       "      <td>0.0</td>\n",
       "      <td>1.0</td>\n",
       "    </tr>\n",
       "  </tbody>\n",
       "</table>\n",
       "<p>2 rows × 41 columns</p>\n",
       "</div>"
      ],
      "text/plain": [
       "                           created                 updated activeAt available  \\\n",
       "uid                                                                             \n",
       "07cSOmlL0F 2016-11-15 22:54:02.653 2017-02-08 00:06:05.667      NaT       NaT   \n",
       "0PZ0jSiV11 2016-11-16 03:36:00.307 2017-03-13 19:38:46.405      NaT       NaT   \n",
       "\n",
       "           about  has_about  len_about            birthday   age gender  \\\n",
       "uid                                                                       \n",
       "07cSOmlL0F            False          0 1990-11-16 21:00:00  28.0   male   \n",
       "0PZ0jSiV11            False          0 1989-11-24 21:00:00  29.0   male   \n",
       "\n",
       "               ...      isStudent petsOk smokingOk onboarded messages_sent  \\\n",
       "uid            ...                                                           \n",
       "07cSOmlL0F     ...            NaN    1.0       0.0       0.0           1.0   \n",
       "0PZ0jSiV11     ...            NaN    1.0       1.0       0.0           0.0   \n",
       "\n",
       "           responses_received  attractiveness  messages_received  \\\n",
       "uid                                                                \n",
       "07cSOmlL0F                0.0        0.000000                1.0   \n",
       "0PZ0jSiV11                0.0        0.392391                3.0   \n",
       "\n",
       "            responses_sent  selectivity  \n",
       "uid                                      \n",
       "07cSOmlL0F             0.0          1.0  \n",
       "0PZ0jSiV11             0.0          1.0  \n",
       "\n",
       "[2 rows x 41 columns]"
      ]
     },
     "execution_count": 3,
     "metadata": {},
     "output_type": "execute_result"
    }
   ],
   "source": [
    "user_df.head(2)"
   ]
  },
  {
   "cell_type": "code",
   "execution_count": 4,
   "metadata": {},
   "outputs": [
    {
     "data": {
      "text/html": [
       "<div>\n",
       "<style>\n",
       "    .dataframe thead tr:only-child th {\n",
       "        text-align: right;\n",
       "    }\n",
       "\n",
       "    .dataframe thead th {\n",
       "        text-align: left;\n",
       "    }\n",
       "\n",
       "    .dataframe tbody tr th {\n",
       "        vertical-align: top;\n",
       "    }\n",
       "</style>\n",
       "<table border=\"1\" class=\"dataframe\">\n",
       "  <thead>\n",
       "    <tr style=\"text-align: right;\">\n",
       "      <th></th>\n",
       "      <th>conv_id</th>\n",
       "      <th>response</th>\n",
       "      <th>first_uid</th>\n",
       "      <th>second_uid</th>\n",
       "      <th>first_mid</th>\n",
       "      <th>second_mid</th>\n",
       "      <th>timestamp</th>\n",
       "    </tr>\n",
       "  </thead>\n",
       "  <tbody>\n",
       "    <tr>\n",
       "      <th>16296</th>\n",
       "      <td>rKdn0zblFiRVDUEmDHyQ</td>\n",
       "      <td>True</td>\n",
       "      <td>rKdn0zblFi</td>\n",
       "      <td>RVDUEmDHyQ</td>\n",
       "      <td>-KWKghvlpF67UOv-iXXO</td>\n",
       "      <td>-KWKg_ybWV4qbG02NYrb</td>\n",
       "      <td>1478906535730</td>\n",
       "    </tr>\n",
       "    <tr>\n",
       "      <th>9241</th>\n",
       "      <td>aXnWmLjpaERVDUEmDHyQ</td>\n",
       "      <td>False</td>\n",
       "      <td>aXnWmLjpaE</td>\n",
       "      <td>RVDUEmDHyQ</td>\n",
       "      <td>-KWLsSEmEJgH3bhJupE7</td>\n",
       "      <td>None</td>\n",
       "      <td>1478926390334</td>\n",
       "    </tr>\n",
       "  </tbody>\n",
       "</table>\n",
       "</div>"
      ],
      "text/plain": [
       "                    conv_id response   first_uid  second_uid  \\\n",
       "16296  rKdn0zblFiRVDUEmDHyQ     True  rKdn0zblFi  RVDUEmDHyQ   \n",
       "9241   aXnWmLjpaERVDUEmDHyQ    False  aXnWmLjpaE  RVDUEmDHyQ   \n",
       "\n",
       "                  first_mid            second_mid      timestamp  \n",
       "16296  -KWKghvlpF67UOv-iXXO  -KWKg_ybWV4qbG02NYrb  1478906535730  \n",
       "9241   -KWLsSEmEJgH3bhJupE7                  None  1478926390334  "
      ]
     },
     "execution_count": 4,
     "metadata": {},
     "output_type": "execute_result"
    }
   ],
   "source": [
    "convo_df.head(2)"
   ]
  },
  {
   "cell_type": "markdown",
   "metadata": {},
   "source": [
    "# COST RANGE"
   ]
  },
  {
   "cell_type": "code",
   "execution_count": 5,
   "metadata": {},
   "outputs": [
    {
     "data": {
      "image/png": "[encoded data removed]",
      "text/plain": [
       "<matplotlib.figure.Figure at 0x1129eaba8>"
      ]
     },
     "metadata": {},
     "output_type": "display_data"
    }
   ],
   "source": [
    "user_df['cost_range'] = user_df.maxCost-user_df.minCost\n",
    "user_df.cost_range.hist(bins=range(0,2000,50))\n",
    "plt.show()"
   ]
  },
  {
   "cell_type": "markdown",
   "metadata": {},
   "source": [
    "# NUM ROOMMATES"
   ]
  },
  {
   "cell_type": "code",
   "execution_count": 6,
   "metadata": {},
   "outputs": [
    {
     "data": {
      "text/plain": [
       "<Container object of 25 artists>"
      ]
     },
     "execution_count": 6,
     "metadata": {},
     "output_type": "execute_result"
    },
    {
     "data": {
      "image/png": "[encoded data removed]",
      "text/plain": [
       "<matplotlib.figure.Figure at 0x1129f0f60>"
      ]
     },
     "metadata": {},
     "output_type": "display_data"
    }
   ],
   "source": [
    "x = user_df.groupby('numRoommates').created.count().index\n",
    "y = user_df.groupby('numRoommates').created.count().values\n",
    "plt.bar(x, y)"
   ]
  },
  {
   "cell_type": "markdown",
   "metadata": {},
   "source": [
    "# CONVERSATIONS"
   ]
  },
  {
   "cell_type": "markdown",
   "metadata": {},
   "source": [
    "### basic info"
   ]
  },
  {
   "cell_type": "code",
   "execution_count": 7,
   "metadata": {},
   "outputs": [
    {
     "name": "stdout",
     "output_type": "stream",
     "text": [
      "There are 11396 conversation.\n"
     ]
    }
   ],
   "source": [
    "print(\"There are {} conversation.\".format(len(convo_df)))"
   ]
  },
  {
   "cell_type": "code",
   "execution_count": 8,
   "metadata": {},
   "outputs": [
    {
     "name": "stdout",
     "output_type": "stream",
     "text": [
      "Messages get responses 0.11 of the time.\n"
     ]
    }
   ],
   "source": [
    "response_rate = convo_df.response.sum()/len(convo_df)\n",
    "print(\"Messages get responses {:.2} of the time.\".format(response_rate))"
   ]
  },
  {
   "cell_type": "markdown",
   "metadata": {},
   "source": [
    "# USERS"
   ]
  },
  {
   "cell_type": "markdown",
   "metadata": {},
   "source": [
    "### CREATED"
   ]
  },
  {
   "cell_type": "code",
   "execution_count": 9,
   "metadata": {},
   "outputs": [
    {
     "data": {
      "image/png": "[encoded data removed]",
      "text/plain": [
       "<matplotlib.figure.Figure at 0x1129f01d0>"
      ]
     },
     "metadata": {},
     "output_type": "display_data"
    }
   ],
   "source": [
    "user_df.created.hist(figsize=(16,2));"
   ]
  },
  {
   "cell_type": "markdown",
   "metadata": {},
   "source": [
    "### UPDATED"
   ]
  },
  {
   "cell_type": "code",
   "execution_count": 10,
   "metadata": {},
   "outputs": [
    {
     "ename": "AttributeError",
     "evalue": "'DataFrame' object has no attribute 'lastActive'",
     "output_type": "error",
     "traceback": [
      "\u001b[0;31m---------------------------------------------------------------------------\u001b[0m",
      "\u001b[0;31mAttributeError\u001b[0m                            Traceback (most recent call last)",
      "\u001b[0;32m<ipython-input-10-0748d93856b1>\u001b[0m in \u001b[0;36m<module>\u001b[0;34m()\u001b[0m\n\u001b[1;32m      5\u001b[0m \u001b[0;31m# (rough idea of how long users interact with the site (over days or months?)\u001b[0m\u001b[0;34m\u001b[0m\u001b[0;34m\u001b[0m\u001b[0m\n\u001b[1;32m      6\u001b[0m \u001b[0;34m\u001b[0m\u001b[0m\n\u001b[0;32m----> 7\u001b[0;31m \u001b[0muser_df\u001b[0m\u001b[0;34m[\u001b[0m\u001b[0;34m'time_with_site'\u001b[0m\u001b[0;34m]\u001b[0m \u001b[0;34m=\u001b[0m \u001b[0muser_df\u001b[0m\u001b[0;34m.\u001b[0m\u001b[0mlastActive\u001b[0m\u001b[0;34m-\u001b[0m\u001b[0muser_df\u001b[0m\u001b[0;34m.\u001b[0m\u001b[0mcreated\u001b[0m\u001b[0;34m\u001b[0m\u001b[0m\n\u001b[0m\u001b[1;32m      8\u001b[0m \u001b[0muser_df\u001b[0m\u001b[0;34m.\u001b[0m\u001b[0mtime_with_site\u001b[0m\u001b[0;34m.\u001b[0m\u001b[0mapply\u001b[0m\u001b[0;34m(\u001b[0m\u001b[0;32mlambda\u001b[0m \u001b[0mx\u001b[0m\u001b[0;34m:\u001b[0m \u001b[0mx\u001b[0m\u001b[0;34m.\u001b[0m\u001b[0mdays\u001b[0m\u001b[0;34m)\u001b[0m\u001b[0;34m.\u001b[0m\u001b[0mhist\u001b[0m\u001b[0;34m(\u001b[0m\u001b[0mbins\u001b[0m\u001b[0;34m=\u001b[0m\u001b[0mrange\u001b[0m\u001b[0;34m(\u001b[0m\u001b[0;36m1\u001b[0m\u001b[0;34m,\u001b[0m\u001b[0;36m400\u001b[0m\u001b[0;34m)\u001b[0m\u001b[0;34m)\u001b[0m\u001b[0;34m;\u001b[0m\u001b[0;34m\u001b[0m\u001b[0m\n\u001b[1;32m      9\u001b[0m \u001b[0;34m\u001b[0m\u001b[0m\n",
      "\u001b[0;32m~/anaconda3/lib/python3.6/site-packages/pandas/core/generic.py\u001b[0m in \u001b[0;36m__getattr__\u001b[0;34m(self, name)\u001b[0m\n\u001b[1;32m   3079\u001b[0m             \u001b[0;32mif\u001b[0m \u001b[0mname\u001b[0m \u001b[0;32min\u001b[0m \u001b[0mself\u001b[0m\u001b[0;34m.\u001b[0m\u001b[0m_info_axis\u001b[0m\u001b[0;34m:\u001b[0m\u001b[0;34m\u001b[0m\u001b[0m\n\u001b[1;32m   3080\u001b[0m                 \u001b[0;32mreturn\u001b[0m \u001b[0mself\u001b[0m\u001b[0;34m[\u001b[0m\u001b[0mname\u001b[0m\u001b[0;34m]\u001b[0m\u001b[0;34m\u001b[0m\u001b[0m\n\u001b[0;32m-> 3081\u001b[0;31m             \u001b[0;32mreturn\u001b[0m \u001b[0mobject\u001b[0m\u001b[0;34m.\u001b[0m\u001b[0m__getattribute__\u001b[0m\u001b[0;34m(\u001b[0m\u001b[0mself\u001b[0m\u001b[0;34m,\u001b[0m \u001b[0mname\u001b[0m\u001b[0;34m)\u001b[0m\u001b[0;34m\u001b[0m\u001b[0m\n\u001b[0m\u001b[1;32m   3082\u001b[0m \u001b[0;34m\u001b[0m\u001b[0m\n\u001b[1;32m   3083\u001b[0m     \u001b[0;32mdef\u001b[0m \u001b[0m__setattr__\u001b[0m\u001b[0;34m(\u001b[0m\u001b[0mself\u001b[0m\u001b[0;34m,\u001b[0m \u001b[0mname\u001b[0m\u001b[0;34m,\u001b[0m \u001b[0mvalue\u001b[0m\u001b[0;34m)\u001b[0m\u001b[0;34m:\u001b[0m\u001b[0;34m\u001b[0m\u001b[0m\n",
      "\u001b[0;31mAttributeError\u001b[0m: 'DataFrame' object has no attribute 'lastActive'"
     ]
    }
   ],
   "source": [
    "# time with the app \n",
    "\n",
    "# Date Updated - Last Active\n",
    "\n",
    "# (rough idea of how long users interact with the site (over days or months?)\n",
    "\n",
    "user_df['time_with_site'] = user_df.lastActive-user_df.created\n",
    "user_df.time_with_site.apply(lambda x: x.days).hist(bins=range(1,400));\n",
    "\n",
    "# a lot of one day interactions (cut out for sake of visibility)\n",
    "# strange peaks and drop off.updated.hist(figsize=(16,2));"
   ]
  },
  {
   "cell_type": "markdown",
   "metadata": {},
   "source": [
    "### time until most recent edit \n",
    "\n",
    "Date Updated - Date Created\n",
    "\n",
    "(rough idea of how long users interact with the site (over days or months?)"
   ]
  },
  {
   "cell_type": "code",
   "execution_count": 11,
   "metadata": {},
   "outputs": [
    {
     "data": {
      "image/png": "[encoded data removed]",
      "text/plain": [
       "<matplotlib.figure.Figure at 0x110556cc0>"
      ]
     },
     "metadata": {},
     "output_type": "display_data"
    }
   ],
   "source": [
    "user_df['time_with_site'] = user_df.updated-user_df.created\n",
    "user_df.time_with_site.apply(lambda x: x.days).hist(bins=range(1,400));\n",
    "\n",
    "# a lot of one day interactions (cut out for sake of visibility)\n",
    "# strange peaks and drop off"
   ]
  },
  {
   "cell_type": "markdown",
   "metadata": {},
   "source": [
    "### ABOUT"
   ]
  },
  {
   "cell_type": "markdown",
   "metadata": {},
   "source": [
    "#### length"
   ]
  },
  {
   "cell_type": "code",
   "execution_count": 12,
   "metadata": {},
   "outputs": [
    {
     "data": {
      "image/png": "[encoded data removed]",
      "text/plain": [
       "<matplotlib.figure.Figure at 0x11c1c89b0>"
      ]
     },
     "metadata": {},
     "output_type": "display_data"
    }
   ],
   "source": [
    "user_df.len_about.hist(bins=range(1, 1000, 10), figsize = [10, 3])\n",
    "plt.title(\"Lenght of 'about' Section\")\n",
    "plt.tight_layout()"
   ]
  },
  {
   "cell_type": "markdown",
   "metadata": {},
   "source": [
    "#### percent responding"
   ]
  },
  {
   "cell_type": "code",
   "execution_count": 13,
   "metadata": {},
   "outputs": [
    {
     "name": "stdout",
     "output_type": "stream",
     "text": [
      "total number of user entries: 35343\n",
      "number with about sections: 8532\n",
      "number without about sections: 26811\n",
      "percent with about sections: 0.24140565317035906\n"
     ]
    }
   ],
   "source": [
    "wth = user_df[user_df.len_about > 0].count()['about']\n",
    "wthout = user_df[user_df.len_about == 0].count()['about']\n",
    "print('total number of user entries: {}'.format(wth+wthout))\n",
    "print('number with about sections: {}'.format(wth))\n",
    "print('number without about sections: {}'.format(wthout))\n",
    "print('percent with about sections: {}'.format(wth/(wth+wthout)))"
   ]
  },
  {
   "cell_type": "markdown",
   "metadata": {},
   "source": [
    "### BIRTHDAY"
   ]
  },
  {
   "cell_type": "code",
   "execution_count": 14,
   "metadata": {},
   "outputs": [
    {
     "data": {
      "image/png": "[encoded data removed]",
      "text/plain": [
       "<matplotlib.figure.Figure at 0x11becc358>"
      ]
     },
     "metadata": {},
     "output_type": "display_data"
    }
   ],
   "source": [
    "user_df = user_df.fillna({'birthday' : pd.to_datetime('1899-01-01')})\n",
    "\n",
    "user_df['birth_year'] = user_df['birthday'].apply(lambda x: x.year)\n",
    "user_df['birth_month'] = user_df['birthday'].apply(lambda x: x.month)\n",
    "\n",
    "fig, ax = plt.subplots(1, ncols=2, figsize=(14, 3))\n",
    "\n",
    "ax[0].hist(user_df.birth_year, bins=range(1950, 2000))\n",
    "ax[0].set_title(\"Birth Years\")\n",
    "\n",
    "ax[1].hist(user_df.birth_month, bins=range(1, 13))\n",
    "ax[1].set_title(\"Birth Month\")\n",
    "\n",
    "plt.tight_layout()"
   ]
  },
  {
   "cell_type": "code",
   "execution_count": 15,
   "metadata": {},
   "outputs": [
    {
     "data": {
      "text/html": [
       "<div>\n",
       "<style>\n",
       "    .dataframe thead tr:only-child th {\n",
       "        text-align: right;\n",
       "    }\n",
       "\n",
       "    .dataframe thead th {\n",
       "        text-align: left;\n",
       "    }\n",
       "\n",
       "    .dataframe tbody tr th {\n",
       "        vertical-align: top;\n",
       "    }\n",
       "</style>\n",
       "<table border=\"1\" class=\"dataframe\">\n",
       "  <thead>\n",
       "    <tr style=\"text-align: right;\">\n",
       "      <th></th>\n",
       "      <th>created</th>\n",
       "      <th>updated</th>\n",
       "      <th>activeAt</th>\n",
       "      <th>available</th>\n",
       "      <th>about</th>\n",
       "      <th>has_about</th>\n",
       "      <th>len_about</th>\n",
       "      <th>birthday</th>\n",
       "      <th>age</th>\n",
       "      <th>gender</th>\n",
       "      <th>...</th>\n",
       "      <th>responses_received</th>\n",
       "      <th>attractiveness</th>\n",
       "      <th>messages_received</th>\n",
       "      <th>responses_sent</th>\n",
       "      <th>selectivity</th>\n",
       "      <th>cost_range</th>\n",
       "      <th>time_with_site</th>\n",
       "      <th>birth_year</th>\n",
       "      <th>birth_month</th>\n",
       "      <th>has_bday</th>\n",
       "    </tr>\n",
       "    <tr>\n",
       "      <th>uid</th>\n",
       "      <th></th>\n",
       "      <th></th>\n",
       "      <th></th>\n",
       "      <th></th>\n",
       "      <th></th>\n",
       "      <th></th>\n",
       "      <th></th>\n",
       "      <th></th>\n",
       "      <th></th>\n",
       "      <th></th>\n",
       "      <th></th>\n",
       "      <th></th>\n",
       "      <th></th>\n",
       "      <th></th>\n",
       "      <th></th>\n",
       "      <th></th>\n",
       "      <th></th>\n",
       "      <th></th>\n",
       "      <th></th>\n",
       "      <th></th>\n",
       "      <th></th>\n",
       "    </tr>\n",
       "  </thead>\n",
       "  <tbody>\n",
       "    <tr>\n",
       "      <th>07cSOmlL0F</th>\n",
       "      <td>2016-11-15 22:54:02.653</td>\n",
       "      <td>2017-02-08 00:06:05.667</td>\n",
       "      <td>NaT</td>\n",
       "      <td>NaT</td>\n",
       "      <td></td>\n",
       "      <td>False</td>\n",
       "      <td>0</td>\n",
       "      <td>1990-11-16 21:00:00</td>\n",
       "      <td>28</td>\n",
       "      <td>male</td>\n",
       "      <td>...</td>\n",
       "      <td>0.0</td>\n",
       "      <td>0.000000</td>\n",
       "      <td>1.0</td>\n",
       "      <td>0.0</td>\n",
       "      <td>1.0</td>\n",
       "      <td>550.0</td>\n",
       "      <td>84 days 01:12:03.014000</td>\n",
       "      <td>1990</td>\n",
       "      <td>11</td>\n",
       "      <td>True</td>\n",
       "    </tr>\n",
       "    <tr>\n",
       "      <th>0PZ0jSiV11</th>\n",
       "      <td>2016-11-16 03:36:00.307</td>\n",
       "      <td>2017-03-13 19:38:46.405</td>\n",
       "      <td>NaT</td>\n",
       "      <td>NaT</td>\n",
       "      <td></td>\n",
       "      <td>False</td>\n",
       "      <td>0</td>\n",
       "      <td>1989-11-24 21:00:00</td>\n",
       "      <td>29</td>\n",
       "      <td>male</td>\n",
       "      <td>...</td>\n",
       "      <td>0.0</td>\n",
       "      <td>0.392391</td>\n",
       "      <td>3.0</td>\n",
       "      <td>0.0</td>\n",
       "      <td>1.0</td>\n",
       "      <td>NaN</td>\n",
       "      <td>117 days 16:02:46.098000</td>\n",
       "      <td>1989</td>\n",
       "      <td>11</td>\n",
       "      <td>True</td>\n",
       "    </tr>\n",
       "  </tbody>\n",
       "</table>\n",
       "<p>2 rows × 46 columns</p>\n",
       "</div>"
      ],
      "text/plain": [
       "                           created                 updated activeAt available  \\\n",
       "uid                                                                             \n",
       "07cSOmlL0F 2016-11-15 22:54:02.653 2017-02-08 00:06:05.667      NaT       NaT   \n",
       "0PZ0jSiV11 2016-11-16 03:36:00.307 2017-03-13 19:38:46.405      NaT       NaT   \n",
       "\n",
       "           about  has_about  len_about            birthday  age gender  \\\n",
       "uid                                                                      \n",
       "07cSOmlL0F            False          0 1990-11-16 21:00:00   28   male   \n",
       "0PZ0jSiV11            False          0 1989-11-24 21:00:00   29   male   \n",
       "\n",
       "              ...    responses_received attractiveness messages_received  \\\n",
       "uid           ...                                                          \n",
       "07cSOmlL0F    ...                   0.0       0.000000               1.0   \n",
       "0PZ0jSiV11    ...                   0.0       0.392391               3.0   \n",
       "\n",
       "           responses_sent selectivity cost_range           time_with_site  \\\n",
       "uid                                                                         \n",
       "07cSOmlL0F            0.0         1.0      550.0  84 days 01:12:03.014000   \n",
       "0PZ0jSiV11            0.0         1.0        NaN 117 days 16:02:46.098000   \n",
       "\n",
       "            birth_year  birth_month  has_bday  \n",
       "uid                                            \n",
       "07cSOmlL0F        1990           11      True  \n",
       "0PZ0jSiV11        1989           11      True  \n",
       "\n",
       "[2 rows x 46 columns]"
      ]
     },
     "execution_count": 15,
     "metadata": {},
     "output_type": "execute_result"
    }
   ],
   "source": [
    "user_df['age'] = 2018-user_df['birthday'].apply(lambda x: x.year)\n",
    "user_df['has_bday'] = user_df['birthday'].apply(lambda x: x.month) != 1\n",
    "user_df.head(2)"
   ]
  },
  {
   "cell_type": "code",
   "execution_count": 16,
   "metadata": {},
   "outputs": [
    {
     "data": {
      "image/png": "[encoded data removed]",
      "text/plain": [
       "<matplotlib.figure.Figure at 0x11bed72e8>"
      ]
     },
     "metadata": {},
     "output_type": "display_data"
    }
   ],
   "source": [
    "# age on Jan 1 2018\n",
    "today = pd.to_datetime('2018-01-01')\n",
    "user_df['age'] = (today-user_df['birthday'])/365\n",
    "\n",
    "user_df.age.apply(lambda x: x.days).hist(bins=range(18,100), figsize=(16,2));"
   ]
  },
  {
   "cell_type": "markdown",
   "metadata": {},
   "source": [
    "### LOCATION"
   ]
  },
  {
   "cell_type": "code",
   "execution_count": null,
   "metadata": {
    "collapsed": true
   },
   "outputs": [],
   "source": [
    "world = gpd.read_file(gpd.datasets.get_path('naturalearth_lowres'))\n",
    "cities = gpd.read_file(gpd.datasets.get_path('naturalearth_cities'))"
   ]
  },
  {
   "cell_type": "code",
   "execution_count": null,
   "metadata": {
    "collapsed": true
   },
   "outputs": [],
   "source": [
    "geometry = [Point(xy) for xy in zip(user_df.longitude, user_df.latitude)]\n",
    "loc_df = user_df[['longitude', 'latitude']]\n",
    "crs = {'init': 'epsg:4326'}\n",
    "gdf = GeoDataFrame(loc_df, crs=crs, geometry=geometry)"
   ]
  },
  {
   "cell_type": "code",
   "execution_count": null,
   "metadata": {
    "collapsed": true
   },
   "outputs": [],
   "source": [
    "fig, ax = plt.subplots(figsize = (16,10))\n",
    "\n",
    "ax.set_aspect('equal')\n",
    "\n",
    "world.plot(ax=ax, color='#66FF66', edgecolor='black')\n",
    "\n",
    "gdf.plot(ax=ax, marker='o', color='#FF00FF', markersize=5)\n",
    "ax.set_facecolor(\"#00FFFF\")\n",
    "plt.show();\n",
    "\n",
    "''' OPTION TWO\n",
    "base = world.plot(color='white', edgecolor='black', figsize = (16,10))\n",
    "gdf.plot(ax=base, marker='o', color='#FF00FF', markersize=5);\n",
    "''';"
   ]
  },
  {
   "cell_type": "code",
   "execution_count": null,
   "metadata": {
    "collapsed": true
   },
   "outputs": [],
   "source": [
    "fig, ax = plt.subplots(figsize = (16,10))\n",
    "\n",
    "ax.set_aspect('equal')\n",
    "ax.set_xlim([-126, -67])\n",
    "ax.set_ylim([24, 50])\n",
    "\n",
    "world.plot(ax=ax, color='#66FF66', edgecolor='black')\n",
    "\n",
    "gdf.plot(ax=ax, marker='o', color='#FF00FF', markersize=5)\n",
    "ax.set_facecolor(\"#00FFFF\")\n",
    "plt.show();\n",
    "\n",
    "''' OPTION TWO\n",
    "base = world.plot(color='white', edgecolor='black', figsize = (16,10))\n",
    "gdf.plot(ax=base, marker='o', color='#FF00FF', markersize=5);\n",
    "''';"
   ]
  },
  {
   "cell_type": "markdown",
   "metadata": {},
   "source": [
    "### time with the app \n",
    "\n",
    "Date Updated - Last Active\n",
    "\n",
    "(rough idea of how long users interact with the site (over days or months?)"
   ]
  },
  {
   "cell_type": "code",
   "execution_count": null,
   "metadata": {
    "collapsed": true
   },
   "outputs": [],
   "source": [
    "fig, ax = plt.subplots(figsize = (16,10))\n",
    "\n",
    "ax.set_aspect('equal')\n",
    "ax.set_xlim([-123, -121])\n",
    "ax.set_ylim([36, 39])\n",
    "\n",
    "world.plot(ax=ax, color='#66FF66', edgecolor='black')\n",
    "\n",
    "gdf.plot(ax=ax, marker='o', color='#FF00FF', markersize=5)\n",
    "ax.set_facecolor(\"#00FFFF\")\n",
    "plt.show();\n",
    "\n",
    "''' OPTION TWO\n",
    "base = world.plot(color='white', edgecolor='black', figsize = (16,10))\n",
    "gdf.plot(ax=base, marker='o', color='#FF00FF', markersize=5);\n",
    "''';"
   ]
  },
  {
   "cell_type": "code",
   "execution_count": null,
   "metadata": {
    "collapsed": true
   },
   "outputs": [],
   "source": [
    "fig, ax = plt.subplots(figsize = (16,10))\n",
    "\n",
    "ax.set_aspect('equal')\n",
    "ax.set_xlim([-122.6, -122.3])\n",
    "ax.set_ylim([37.6, 37.9])\n",
    "\n",
    "world.plot(ax=ax, color='#66FF66', edgecolor='black')\n",
    "\n",
    "gdf.plot(ax=ax, marker='o', color='#FF00FF', markersize=5)\n",
    "ax.set_facecolor(\"#00FFFF\")\n",
    "plt.show();\n",
    "\n",
    "''' OPTION TWO\n",
    "base = world.plot(color='white', edgecolor='black', figsize = (16,10))\n",
    "gdf.plot(ax=base, marker='o', color='#FF00FF', markersize=5);\n",
    "''';"
   ]
  },
  {
   "cell_type": "code",
   "execution_count": null,
   "metadata": {
    "collapsed": true,
    "scrolled": true
   },
   "outputs": [],
   "source": [
    "user_df['time_with_site'] = user_df.lastActive-user_df.created\n",
    "user_df.time_with_site.apply(lambda x: x.days).hist(bins=range(1,300), figsize=(16,2));"
   ]
  },
  {
   "cell_type": "markdown",
   "metadata": {},
   "source": [
    "# COMBINE USERS AND MESSAGES"
   ]
  },
  {
   "cell_type": "code",
   "execution_count": 18,
   "metadata": {},
   "outputs": [
    {
     "data": {
      "text/plain": [
       "[0, 1000, 0, 1]"
      ]
     },
     "execution_count": 18,
     "metadata": {},
     "output_type": "execute_result"
    },
    {
     "data": {
      "image/png": "[encoded data removed]",
      "text/plain": [
       "<matplotlib.figure.Figure at 0x110556128>"
      ]
     },
     "metadata": {},
     "output_type": "display_data"
    }
   ],
   "source": [
    "plt.scatter(user_df.len_about, user_df.attractiveness)\n",
    "plt.axis([0,1000,0,1])"
   ]
  },
  {
   "cell_type": "code",
   "execution_count": 19,
   "metadata": {},
   "outputs": [
    {
     "data": {
      "image/png": "[encoded data removed]",
      "text/plain": [
       "<matplotlib.figure.Figure at 0x11bef8978>"
      ]
     },
     "metadata": {},
     "output_type": "display_data"
    },
    {
     "data": {
      "text/html": [
       "<div>\n",
       "<style>\n",
       "    .dataframe thead tr:only-child th {\n",
       "        text-align: right;\n",
       "    }\n",
       "\n",
       "    .dataframe thead th {\n",
       "        text-align: left;\n",
       "    }\n",
       "\n",
       "    .dataframe tbody tr th {\n",
       "        vertical-align: top;\n",
       "    }\n",
       "</style>\n",
       "<table border=\"1\" class=\"dataframe\">\n",
       "  <thead>\n",
       "    <tr style=\"text-align: right;\">\n",
       "      <th></th>\n",
       "      <th>created</th>\n",
       "      <th>updated</th>\n",
       "      <th>activeAt</th>\n",
       "      <th>available</th>\n",
       "      <th>about</th>\n",
       "      <th>has_about</th>\n",
       "      <th>len_about</th>\n",
       "      <th>birthday</th>\n",
       "      <th>age</th>\n",
       "      <th>gender</th>\n",
       "      <th>...</th>\n",
       "      <th>responses_received</th>\n",
       "      <th>attractiveness</th>\n",
       "      <th>messages_received</th>\n",
       "      <th>responses_sent</th>\n",
       "      <th>selectivity</th>\n",
       "      <th>cost_range</th>\n",
       "      <th>time_with_site</th>\n",
       "      <th>birth_year</th>\n",
       "      <th>birth_month</th>\n",
       "      <th>has_bday</th>\n",
       "    </tr>\n",
       "    <tr>\n",
       "      <th>uid</th>\n",
       "      <th></th>\n",
       "      <th></th>\n",
       "      <th></th>\n",
       "      <th></th>\n",
       "      <th></th>\n",
       "      <th></th>\n",
       "      <th></th>\n",
       "      <th></th>\n",
       "      <th></th>\n",
       "      <th></th>\n",
       "      <th></th>\n",
       "      <th></th>\n",
       "      <th></th>\n",
       "      <th></th>\n",
       "      <th></th>\n",
       "      <th></th>\n",
       "      <th></th>\n",
       "      <th></th>\n",
       "      <th></th>\n",
       "      <th></th>\n",
       "      <th></th>\n",
       "    </tr>\n",
       "  </thead>\n",
       "  <tbody>\n",
       "    <tr>\n",
       "      <th>07cSOmlL0F</th>\n",
       "      <td>2016-11-15 22:54:02.653</td>\n",
       "      <td>2017-02-08 00:06:05.667</td>\n",
       "      <td>NaT</td>\n",
       "      <td>NaT</td>\n",
       "      <td></td>\n",
       "      <td>False</td>\n",
       "      <td>0</td>\n",
       "      <td>1990-11-16 21:00:00</td>\n",
       "      <td>27 days 03:25:38.630136</td>\n",
       "      <td>male</td>\n",
       "      <td>...</td>\n",
       "      <td>0.0</td>\n",
       "      <td>0.000000</td>\n",
       "      <td>1.0</td>\n",
       "      <td>0.0</td>\n",
       "      <td>1.0</td>\n",
       "      <td>550.0</td>\n",
       "      <td>84 days 01:12:03.014000</td>\n",
       "      <td>1990</td>\n",
       "      <td>11</td>\n",
       "      <td>True</td>\n",
       "    </tr>\n",
       "    <tr>\n",
       "      <th>0PZ0jSiV11</th>\n",
       "      <td>2016-11-16 03:36:00.307</td>\n",
       "      <td>2017-03-13 19:38:46.405</td>\n",
       "      <td>NaT</td>\n",
       "      <td>NaT</td>\n",
       "      <td></td>\n",
       "      <td>False</td>\n",
       "      <td>0</td>\n",
       "      <td>1989-11-24 21:00:00</td>\n",
       "      <td>28 days 02:54:04.931506</td>\n",
       "      <td>male</td>\n",
       "      <td>...</td>\n",
       "      <td>0.0</td>\n",
       "      <td>0.392391</td>\n",
       "      <td>3.0</td>\n",
       "      <td>0.0</td>\n",
       "      <td>1.0</td>\n",
       "      <td>NaN</td>\n",
       "      <td>117 days 16:02:46.098000</td>\n",
       "      <td>1989</td>\n",
       "      <td>11</td>\n",
       "      <td>True</td>\n",
       "    </tr>\n",
       "  </tbody>\n",
       "</table>\n",
       "<p>2 rows × 46 columns</p>\n",
       "</div>"
      ],
      "text/plain": [
       "                           created                 updated activeAt available  \\\n",
       "uid                                                                             \n",
       "07cSOmlL0F 2016-11-15 22:54:02.653 2017-02-08 00:06:05.667      NaT       NaT   \n",
       "0PZ0jSiV11 2016-11-16 03:36:00.307 2017-03-13 19:38:46.405      NaT       NaT   \n",
       "\n",
       "           about  has_about  len_about            birthday  \\\n",
       "uid                                                          \n",
       "07cSOmlL0F            False          0 1990-11-16 21:00:00   \n",
       "0PZ0jSiV11            False          0 1989-11-24 21:00:00   \n",
       "\n",
       "                               age gender    ...    responses_received  \\\n",
       "uid                                          ...                         \n",
       "07cSOmlL0F 27 days 03:25:38.630136   male    ...                   0.0   \n",
       "0PZ0jSiV11 28 days 02:54:04.931506   male    ...                   0.0   \n",
       "\n",
       "           attractiveness messages_received responses_sent selectivity  \\\n",
       "uid                                                                      \n",
       "07cSOmlL0F       0.000000               1.0            0.0         1.0   \n",
       "0PZ0jSiV11       0.392391               3.0            0.0         1.0   \n",
       "\n",
       "           cost_range           time_with_site  birth_year  birth_month  \\\n",
       "uid                                                                       \n",
       "07cSOmlL0F      550.0  84 days 01:12:03.014000        1990           11   \n",
       "0PZ0jSiV11        NaN 117 days 16:02:46.098000        1989           11   \n",
       "\n",
       "            has_bday  \n",
       "uid                   \n",
       "07cSOmlL0F      True  \n",
       "0PZ0jSiV11      True  \n",
       "\n",
       "[2 rows x 46 columns]"
      ]
     },
     "execution_count": 19,
     "metadata": {},
     "output_type": "execute_result"
    }
   ],
   "source": [
    "user_df['cost_range'] = user_df.maxCost-user_df.minCost\n",
    "user_df.cost_range.hist(bins=range(0,2000,50))\n",
    "plt.show()\n",
    "user_df.head(2)"
   ]
  },
  {
   "cell_type": "code",
   "execution_count": null,
   "metadata": {
    "collapsed": true
   },
   "outputs": [],
   "source": []
  },
  {
   "cell_type": "code",
   "execution_count": null,
   "metadata": {
    "collapsed": true
   },
   "outputs": [],
   "source": []
  },
  {
   "cell_type": "code",
   "execution_count": null,
   "metadata": {
    "collapsed": true
   },
   "outputs": [],
   "source": []
  }
 ],
 "metadata": {
  "kernelspec": {
   "display_name": "Python 3",
   "language": "python",
   "name": "python3"
  },
  "language_info": {
   "codemirror_mode": {
    "name": "ipython",
    "version": 3
   },
   "file_extension": ".py",
   "mimetype": "text/x-python",
   "name": "python",
   "nbconvert_exporter": "python",
   "pygments_lexer": "ipython3",
   "version": "3.6.3"
  }
 },
 "nbformat": 4,
 "nbformat_minor": 2
}
