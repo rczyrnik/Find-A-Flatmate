{
 "cells": [
  {
   "cell_type": "code",
   "execution_count": null,
   "metadata": {
    "collapsed": true
   },
   "outputs": [],
   "source": [
    "neighborhood info"
   ]
  },
  {
   "cell_type": "markdown",
   "metadata": {},
   "source": [
    "# Imports"
   ]
  },
  {
   "cell_type": "code",
   "execution_count": 1,
   "metadata": {
    "collapsed": true
   },
   "outputs": [],
   "source": [
    "import pandas as pd\n",
    "import numpy as np\n",
    "import matplotlib.pyplot as plt\n",
    "%matplotlib inline\n",
    "\n",
    "# Location\n",
    "from shapely.geometry import Point\n",
    "from geopandas import GeoDataFrame\n",
    "import geopandas as gpd"
   ]
  },
  {
   "cell_type": "markdown",
   "metadata": {},
   "source": [
    "# Read in data"
   ]
  },
  {
   "cell_type": "markdown",
   "metadata": {},
   "source": [
    "### User data (id, age, gender, work, etc)"
   ]
  },
  {
   "cell_type": "code",
   "execution_count": 2,
   "metadata": {},
   "outputs": [
    {
     "data": {
      "text/html": [
       "<div>\n",
       "<style>\n",
       "    .dataframe thead tr:only-child th {\n",
       "        text-align: right;\n",
       "    }\n",
       "\n",
       "    .dataframe thead th {\n",
       "        text-align: left;\n",
       "    }\n",
       "\n",
       "    .dataframe tbody tr th {\n",
       "        vertical-align: top;\n",
       "    }\n",
       "</style>\n",
       "<table border=\"1\" class=\"dataframe\">\n",
       "  <thead>\n",
       "    <tr style=\"text-align: right;\">\n",
       "      <th></th>\n",
       "      <th>created</th>\n",
       "      <th>updated</th>\n",
       "      <th>about</th>\n",
       "      <th>has_about</th>\n",
       "      <th>len_about</th>\n",
       "      <th>available</th>\n",
       "      <th>birthday</th>\n",
       "      <th>age</th>\n",
       "      <th>collegeId</th>\n",
       "      <th>emailVerified</th>\n",
       "      <th>...</th>\n",
       "      <th>petsOk</th>\n",
       "      <th>pictureId</th>\n",
       "      <th>roomPostId</th>\n",
       "      <th>roomTypeId</th>\n",
       "      <th>smokingOk</th>\n",
       "      <th>term</th>\n",
       "      <th>work</th>\n",
       "      <th>sent</th>\n",
       "      <th>responses</th>\n",
       "      <th>ratio</th>\n",
       "    </tr>\n",
       "    <tr>\n",
       "      <th>uid</th>\n",
       "      <th></th>\n",
       "      <th></th>\n",
       "      <th></th>\n",
       "      <th></th>\n",
       "      <th></th>\n",
       "      <th></th>\n",
       "      <th></th>\n",
       "      <th></th>\n",
       "      <th></th>\n",
       "      <th></th>\n",
       "      <th></th>\n",
       "      <th></th>\n",
       "      <th></th>\n",
       "      <th></th>\n",
       "      <th></th>\n",
       "      <th></th>\n",
       "      <th></th>\n",
       "      <th></th>\n",
       "      <th></th>\n",
       "      <th></th>\n",
       "      <th></th>\n",
       "    </tr>\n",
       "  </thead>\n",
       "  <tbody>\n",
       "    <tr>\n",
       "      <th>0a9yOPKFSH</th>\n",
       "      <td>2017-06-19 03:31:08</td>\n",
       "      <td>2018-01-04 21:24:41</td>\n",
       "      <td></td>\n",
       "      <td>False</td>\n",
       "      <td>0</td>\n",
       "      <td>nan</td>\n",
       "      <td>1992-01-01</td>\n",
       "      <td>26</td>\n",
       "      <td>NaN</td>\n",
       "      <td>1</td>\n",
       "      <td>...</td>\n",
       "      <td>1.0</td>\n",
       "      <td>331.0</td>\n",
       "      <td>375.0</td>\n",
       "      <td>2.0</td>\n",
       "      <td>0.0</td>\n",
       "      <td>12.0</td>\n",
       "      <td>SEG</td>\n",
       "      <td>7.0</td>\n",
       "      <td>2.0</td>\n",
       "      <td>0.285714</td>\n",
       "    </tr>\n",
       "    <tr>\n",
       "      <th>0owxBbcyZ6</th>\n",
       "      <td>2017-10-12 00:32:29</td>\n",
       "      <td>2018-01-04 03:05:50</td>\n",
       "      <td></td>\n",
       "      <td>False</td>\n",
       "      <td>0</td>\n",
       "      <td>nan</td>\n",
       "      <td>1974-01-01</td>\n",
       "      <td>44</td>\n",
       "      <td>NaN</td>\n",
       "      <td>1</td>\n",
       "      <td>...</td>\n",
       "      <td>1.0</td>\n",
       "      <td>516.0</td>\n",
       "      <td>89.0</td>\n",
       "      <td>NaN</td>\n",
       "      <td>1.0</td>\n",
       "      <td>NaN</td>\n",
       "      <td>WA State</td>\n",
       "      <td>0.0</td>\n",
       "      <td>0.0</td>\n",
       "      <td>0.000000</td>\n",
       "    </tr>\n",
       "  </tbody>\n",
       "</table>\n",
       "<p>2 rows × 35 columns</p>\n",
       "</div>"
      ],
      "text/plain": [
       "                       created             updated about  has_about  \\\n",
       "uid                                                                   \n",
       "0a9yOPKFSH 2017-06-19 03:31:08 2018-01-04 21:24:41            False   \n",
       "0owxBbcyZ6 2017-10-12 00:32:29 2018-01-04 03:05:50            False   \n",
       "\n",
       "            len_about available   birthday  age  collegeId  emailVerified  \\\n",
       "uid                                                                         \n",
       "0a9yOPKFSH          0       nan 1992-01-01   26        NaN              1   \n",
       "0owxBbcyZ6          0       nan 1974-01-01   44        NaN              1   \n",
       "\n",
       "              ...     petsOk pictureId  roomPostId  roomTypeId  smokingOk  \\\n",
       "uid           ...                                                           \n",
       "0a9yOPKFSH    ...        1.0     331.0       375.0         2.0        0.0   \n",
       "0owxBbcyZ6    ...        1.0     516.0        89.0         NaN        1.0   \n",
       "\n",
       "            term      work  sent responses     ratio  \n",
       "uid                                                   \n",
       "0a9yOPKFSH  12.0       SEG   7.0       2.0  0.285714  \n",
       "0owxBbcyZ6   NaN  WA State   0.0       0.0  0.000000  \n",
       "\n",
       "[2 rows x 35 columns]"
      ]
     },
     "execution_count": 2,
     "metadata": {},
     "output_type": "execute_result"
    }
   ],
   "source": [
    "path_users = \"/Users/gandalf/Documents/data/data_users.pkl\"\n",
    "user_df = pd.read_pickle(path_users)\n",
    "user_df.head(2)"
   ]
  },
  {
   "cell_type": "markdown",
   "metadata": {},
   "source": [
    "### Message data (id, read, length, time, etc)"
   ]
  },
  {
   "cell_type": "code",
   "execution_count": 10,
   "metadata": {},
   "outputs": [
    {
     "data": {
      "text/html": [
       "<div>\n",
       "<style>\n",
       "    .dataframe thead tr:only-child th {\n",
       "        text-align: right;\n",
       "    }\n",
       "\n",
       "    .dataframe thead th {\n",
       "        text-align: left;\n",
       "    }\n",
       "\n",
       "    .dataframe tbody tr th {\n",
       "        vertical-align: top;\n",
       "    }\n",
       "</style>\n",
       "<table border=\"1\" class=\"dataframe\">\n",
       "  <thead>\n",
       "    <tr style=\"text-align: right;\">\n",
       "      <th></th>\n",
       "      <th>message_id</th>\n",
       "      <th>conversation_id</th>\n",
       "      <th>uid</th>\n",
       "      <th>read</th>\n",
       "      <th>readBy</th>\n",
       "      <th>text_length</th>\n",
       "      <th>timestamp</th>\n",
       "      <th>date</th>\n",
       "      <th>imageURL</th>\n",
       "      <th>emailAttempted</th>\n",
       "      <th>emailed</th>\n",
       "    </tr>\n",
       "  </thead>\n",
       "  <tbody>\n",
       "    <tr>\n",
       "      <th>0</th>\n",
       "      <td>-KdmSRA-1a7niRVp5s83</td>\n",
       "      <td>-KdmSL0izd_44wrniy-W</td>\n",
       "      <td>8Ws3QWmC4B</td>\n",
       "      <td>True</td>\n",
       "      <td>{'1': '6y3bPICtHM', '0': 'OBFaJBVxWC'}</td>\n",
       "      <td>3</td>\n",
       "      <td>1487979004690</td>\n",
       "      <td>2017-02-24 23:30:04.690</td>\n",
       "      <td></td>\n",
       "      <td></td>\n",
       "      <td></td>\n",
       "    </tr>\n",
       "    <tr>\n",
       "      <th>1</th>\n",
       "      <td>-Ke-RBSDV6VsM2fE2cwu</td>\n",
       "      <td>-KdmSL0izd_44wrniy-W</td>\n",
       "      <td>OBFaJBVxWC</td>\n",
       "      <td>True</td>\n",
       "      <td>{'1': '6y3bPICtHM', '0': '8Ws3QWmC4B'}</td>\n",
       "      <td>3</td>\n",
       "      <td>1488213559164</td>\n",
       "      <td>2017-02-27 16:39:19.164</td>\n",
       "      <td></td>\n",
       "      <td></td>\n",
       "      <td></td>\n",
       "    </tr>\n",
       "  </tbody>\n",
       "</table>\n",
       "</div>"
      ],
      "text/plain": [
       "             message_id       conversation_id         uid  read  \\\n",
       "0  -KdmSRA-1a7niRVp5s83  -KdmSL0izd_44wrniy-W  8Ws3QWmC4B  True   \n",
       "1  -Ke-RBSDV6VsM2fE2cwu  -KdmSL0izd_44wrniy-W  OBFaJBVxWC  True   \n",
       "\n",
       "                                   readBy text_length      timestamp  \\\n",
       "0  {'1': '6y3bPICtHM', '0': 'OBFaJBVxWC'}           3  1487979004690   \n",
       "1  {'1': '6y3bPICtHM', '0': '8Ws3QWmC4B'}           3  1488213559164   \n",
       "\n",
       "                     date imageURL emailAttempted emailed  \n",
       "0 2017-02-24 23:30:04.690                                  \n",
       "1 2017-02-27 16:39:19.164                                  "
      ]
     },
     "execution_count": 10,
     "metadata": {},
     "output_type": "execute_result"
    }
   ],
   "source": [
    "path_message = \"/Users/gandalf/Documents/data/data_message.pkl\"\n",
    "message_df = pd.read_pickle(path_message)\n",
    "message_df.head(2)"
   ]
  },
  {
   "cell_type": "markdown",
   "metadata": {},
   "source": [
    "### Last Message, purpose unclear"
   ]
  },
  {
   "cell_type": "code",
   "execution_count": 4,
   "metadata": {},
   "outputs": [
    {
     "data": {
      "text/html": [
       "<div>\n",
       "<style>\n",
       "    .dataframe thead tr:only-child th {\n",
       "        text-align: right;\n",
       "    }\n",
       "\n",
       "    .dataframe thead th {\n",
       "        text-align: left;\n",
       "    }\n",
       "\n",
       "    .dataframe tbody tr th {\n",
       "        vertical-align: top;\n",
       "    }\n",
       "</style>\n",
       "<table border=\"1\" class=\"dataframe\">\n",
       "  <thead>\n",
       "    <tr style=\"text-align: right;\">\n",
       "      <th></th>\n",
       "      <th>user_id</th>\n",
       "      <th>first_ten</th>\n",
       "      <th>last_ten</th>\n",
       "    </tr>\n",
       "    <tr>\n",
       "      <th>lastMessageId</th>\n",
       "      <th></th>\n",
       "      <th></th>\n",
       "      <th></th>\n",
       "    </tr>\n",
       "  </thead>\n",
       "  <tbody>\n",
       "    <tr>\n",
       "      <th>-L-pLJ5Q9ziekprSBl2e</th>\n",
       "      <td>00DMWuKDFs</td>\n",
       "      <td>0sTqXBoFyW</td>\n",
       "      <td>00DMWuKDFs</td>\n",
       "    </tr>\n",
       "    <tr>\n",
       "      <th>-KxYXLd8xNLXVxs6hauY</th>\n",
       "      <td>00DMWuKDFs</td>\n",
       "      <td>6MSR8WmfII</td>\n",
       "      <td>00DMWuKDFs</td>\n",
       "    </tr>\n",
       "  </tbody>\n",
       "</table>\n",
       "</div>"
      ],
      "text/plain": [
       "                         user_id   first_ten    last_ten\n",
       "lastMessageId                                           \n",
       "-L-pLJ5Q9ziekprSBl2e  00DMWuKDFs  0sTqXBoFyW  00DMWuKDFs\n",
       "-KxYXLd8xNLXVxs6hauY  00DMWuKDFs  6MSR8WmfII  00DMWuKDFs"
      ]
     },
     "execution_count": 4,
     "metadata": {},
     "output_type": "execute_result"
    }
   ],
   "source": [
    "path_lastmessage = \"/Users/gandalf/Documents/data/data_lastmessage.pkl\"\n",
    "lastmessage_df = pd.read_pickle(path_lastmessage)\n",
    "lastmessage_df.head(2)"
   ]
  },
  {
   "cell_type": "markdown",
   "metadata": {},
   "source": [
    "### Response (convo_id, sender_id, responder_id, etc)"
   ]
  },
  {
   "cell_type": "code",
   "execution_count": 5,
   "metadata": {},
   "outputs": [
    {
     "data": {
      "text/html": [
       "<div>\n",
       "<style>\n",
       "    .dataframe thead tr:only-child th {\n",
       "        text-align: right;\n",
       "    }\n",
       "\n",
       "    .dataframe thead th {\n",
       "        text-align: left;\n",
       "    }\n",
       "\n",
       "    .dataframe tbody tr th {\n",
       "        vertical-align: top;\n",
       "    }\n",
       "</style>\n",
       "<table border=\"1\" class=\"dataframe\">\n",
       "  <thead>\n",
       "    <tr style=\"text-align: right;\">\n",
       "      <th></th>\n",
       "      <th>conv_id</th>\n",
       "      <th>first_ten</th>\n",
       "      <th>last_ten</th>\n",
       "      <th>response</th>\n",
       "      <th>first_uid</th>\n",
       "      <th>first_mid</th>\n",
       "      <th>second_uid</th>\n",
       "      <th>second_mid</th>\n",
       "    </tr>\n",
       "  </thead>\n",
       "  <tbody>\n",
       "    <tr>\n",
       "      <th>0</th>\n",
       "      <td>-KdmSL0izd_44wrniy-W</td>\n",
       "      <td>0sTqXBoFyW</td>\n",
       "      <td>00DMWuKDFs</td>\n",
       "      <td>True</td>\n",
       "      <td>8Ws3QWmC4B</td>\n",
       "      <td>-KdmSRA-1a7niRVp5s83</td>\n",
       "      <td>OBFaJBVxWC</td>\n",
       "      <td>-Ke-RBSDV6VsM2fE2cwu</td>\n",
       "    </tr>\n",
       "    <tr>\n",
       "      <th>1</th>\n",
       "      <td>-KdmixiTP5parpBtLtBJ</td>\n",
       "      <td>6MSR8WmfII</td>\n",
       "      <td>00DMWuKDFs</td>\n",
       "      <td>True</td>\n",
       "      <td>nQYG2Z9elg</td>\n",
       "      <td>-Kdmj-d4TwKFUMQkPKeF</td>\n",
       "      <td>nQYG2Z9elg</td>\n",
       "      <td>-KdmjBCinEGTfRSdv7-M</td>\n",
       "    </tr>\n",
       "  </tbody>\n",
       "</table>\n",
       "</div>"
      ],
      "text/plain": [
       "                conv_id   first_ten    last_ten response   first_uid  \\\n",
       "0  -KdmSL0izd_44wrniy-W  0sTqXBoFyW  00DMWuKDFs     True  8Ws3QWmC4B   \n",
       "1  -KdmixiTP5parpBtLtBJ  6MSR8WmfII  00DMWuKDFs     True  nQYG2Z9elg   \n",
       "\n",
       "              first_mid  second_uid            second_mid  \n",
       "0  -KdmSRA-1a7niRVp5s83  OBFaJBVxWC  -Ke-RBSDV6VsM2fE2cwu  \n",
       "1  -Kdmj-d4TwKFUMQkPKeF  nQYG2Z9elg  -KdmjBCinEGTfRSdv7-M  "
      ]
     },
     "execution_count": 5,
     "metadata": {},
     "output_type": "execute_result"
    }
   ],
   "source": [
    "path_response = \"/Users/gandalf/Documents/data/data_response.pkl\"\n",
    "response_df = pd.read_pickle(path_response)\n",
    "response_df.head(2)"
   ]
  },
  {
   "cell_type": "markdown",
   "metadata": {},
   "source": [
    "# MESSAGES"
   ]
  },
  {
   "cell_type": "markdown",
   "metadata": {},
   "source": [
    "### basic info"
   ]
  },
  {
   "cell_type": "code",
   "execution_count": 6,
   "metadata": {},
   "outputs": [
    {
     "name": "stdout",
     "output_type": "stream",
     "text": [
      "There are 34604 messages.\n"
     ]
    }
   ],
   "source": [
    "print(\"There are {} messages.\".format(len(message_df)))"
   ]
  },
  {
   "cell_type": "code",
   "execution_count": 7,
   "metadata": {},
   "outputs": [
    {
     "name": "stdout",
     "output_type": "stream",
     "text": [
      "Messages get responses 0.016 of the time.\n"
     ]
    }
   ],
   "source": [
    "response_rate = len(response_df[response_df.response == True])/len(response_df)\n",
    "print(\"Messages get responses {:.2} of the time.\".format(response_rate))"
   ]
  },
  {
   "cell_type": "code",
   "execution_count": 8,
   "metadata": {},
   "outputs": [
    {
     "ename": "NameError",
     "evalue": "name 'user_response' is not defined",
     "output_type": "error",
     "traceback": [
      "\u001b[0;31m---------------------------------------------------------------------------\u001b[0m",
      "\u001b[0;31mNameError\u001b[0m                                 Traceback (most recent call last)",
      "\u001b[0;32m<ipython-input-8-5b1cde99c5a8>\u001b[0m in \u001b[0;36m<module>\u001b[0;34m()\u001b[0m\n\u001b[0;32m----> 1\u001b[0;31m \u001b[0mplt\u001b[0m\u001b[0;34m.\u001b[0m\u001b[0mscatter\u001b[0m\u001b[0;34m(\u001b[0m\u001b[0muser_response\u001b[0m\u001b[0;34m.\u001b[0m\u001b[0msent\u001b[0m\u001b[0;34m,\u001b[0m\u001b[0muser_response\u001b[0m\u001b[0;34m.\u001b[0m\u001b[0mresponses\u001b[0m\u001b[0;34m)\u001b[0m\u001b[0;34m\u001b[0m\u001b[0m\n\u001b[0m\u001b[1;32m      2\u001b[0m \u001b[0;34m\u001b[0m\u001b[0m\n\u001b[1;32m      3\u001b[0m \u001b[0mplt\u001b[0m\u001b[0;34m.\u001b[0m\u001b[0mxlabel\u001b[0m\u001b[0;34m(\u001b[0m\u001b[0;34m'sent'\u001b[0m\u001b[0;34m)\u001b[0m\u001b[0;34m\u001b[0m\u001b[0m\n\u001b[1;32m      4\u001b[0m \u001b[0mplt\u001b[0m\u001b[0;34m.\u001b[0m\u001b[0mylabel\u001b[0m\u001b[0;34m(\u001b[0m\u001b[0;34m'responses'\u001b[0m\u001b[0;34m)\u001b[0m\u001b[0;34m\u001b[0m\u001b[0m\n\u001b[1;32m      5\u001b[0m \u001b[0mplt\u001b[0m\u001b[0;34m.\u001b[0m\u001b[0mshow\u001b[0m\u001b[0;34m(\u001b[0m\u001b[0;34m)\u001b[0m\u001b[0;34m\u001b[0m\u001b[0m\n",
      "\u001b[0;31mNameError\u001b[0m: name 'user_response' is not defined"
     ]
    }
   ],
   "source": [
    "plt.scatter(user_response.sent,user_response.responses)\n",
    "\n",
    "plt.xlabel('sent')\n",
    "plt.ylabel('responses')\n",
    "plt.show()"
   ]
  },
  {
   "cell_type": "code",
   "execution_count": 13,
   "metadata": {},
   "outputs": [
    {
     "data": {
      "text/plain": [
       "<matplotlib.axes._subplots.AxesSubplot at 0x11be28d30>"
      ]
     },
     "execution_count": 13,
     "metadata": {},
     "output_type": "execute_result"
    },
    {
     "data": {
      "image/png": "[encoded data removed]",
      "text/plain": [
       "<matplotlib.figure.Figure at 0x11bd99630>"
      ]
     },
     "metadata": {},
     "output_type": "display_data"
    }
   ],
   "source": [
    "df = message_df[['date']]\n",
    "df.groupby([df[\"date\"].dt.year, df[\"date\"].dt.month, df[\"date\"].dt.day]).count().plot()"
   ]
  },
  {
   "cell_type": "markdown",
   "metadata": {},
   "source": [
    "## Find outliers"
   ]
  },
  {
   "cell_type": "code",
   "execution_count": null,
   "metadata": {
    "collapsed": true
   },
   "outputs": [],
   "source": [
    "user_response[user_response.sent>150]"
   ]
  },
  {
   "cell_type": "code",
   "execution_count": null,
   "metadata": {
    "collapsed": true
   },
   "outputs": [],
   "source": []
  },
  {
   "cell_type": "code",
   "execution_count": null,
   "metadata": {
    "collapsed": true
   },
   "outputs": [],
   "source": []
  },
  {
   "cell_type": "code",
   "execution_count": null,
   "metadata": {
    "collapsed": true
   },
   "outputs": [],
   "source": []
  },
  {
   "cell_type": "markdown",
   "metadata": {},
   "source": [
    "# USERS"
   ]
  },
  {
   "cell_type": "markdown",
   "metadata": {},
   "source": [
    "### CREATED"
   ]
  },
  {
   "cell_type": "code",
   "execution_count": null,
   "metadata": {
    "collapsed": true
   },
   "outputs": [],
   "source": [
    "user_df.created.hist(figsize=(16,2));"
   ]
  },
  {
   "cell_type": "markdown",
   "metadata": {},
   "source": [
    "### UPDATED"
   ]
  },
  {
   "cell_type": "code",
   "execution_count": null,
   "metadata": {
    "collapsed": true
   },
   "outputs": [],
   "source": [
    "# time with the app \n",
    "\n",
    "# Date Updated - Last Active\n",
    "\n",
    "# (rough idea of how long users interact with the site (over days or months?)\n",
    "\n",
    "user_df['time_with_site'] = user_df.lastActive-user_df.created\n",
    "user_df.time_with_site.apply(lambda x: x.days).hist(bins=range(1,400));\n",
    "\n",
    "# a lot of one day interactions (cut out for sake of visibility)\n",
    "# strange peaks and drop off.updated.hist(figsize=(16,2));"
   ]
  },
  {
   "cell_type": "markdown",
   "metadata": {},
   "source": [
    "### time until most recent edit \n",
    "\n",
    "Date Updated - Date Created\n",
    "\n",
    "(rough idea of how long users interact with the site (over days or months?)"
   ]
  },
  {
   "cell_type": "code",
   "execution_count": null,
   "metadata": {
    "collapsed": true
   },
   "outputs": [],
   "source": [
    "user_df['time_with_site'] = user_df.updated-user_df.created\n",
    "user_df.time_with_site.apply(lambda x: x.days).hist(bins=range(1,400));\n",
    "\n",
    "# a lot of one day interactions (cut out for sake of visibility)\n",
    "# strange peaks and drop off"
   ]
  },
  {
   "cell_type": "markdown",
   "metadata": {},
   "source": [
    "### ABOUT"
   ]
  },
  {
   "cell_type": "markdown",
   "metadata": {},
   "source": [
    "#### length"
   ]
  },
  {
   "cell_type": "code",
   "execution_count": null,
   "metadata": {
    "collapsed": true
   },
   "outputs": [],
   "source": [
    "user_df.len_about.hist(bins=range(1, 1000, 10), figsize = [10, 3])\n",
    "plt.title(\"Lenght of 'about' Section\")\n",
    "plt.tight_layout()"
   ]
  },
  {
   "cell_type": "markdown",
   "metadata": {},
   "source": [
    "#### percent responding"
   ]
  },
  {
   "cell_type": "code",
   "execution_count": null,
   "metadata": {
    "collapsed": true
   },
   "outputs": [],
   "source": [
    "wth = user_df[user_df.about_len > 0].count()['about']\n",
    "wthout = user_df[user_df.about_len == 0].count()['about']\n",
    "print('total number of user entries: {}'.format(wth+wthout))\n",
    "print('number with about sections: {}'.format(wth))\n",
    "print('number without about sections: {}'.format(wthout))\n",
    "print('percent with about sections: {}'.format(wth/(wth+wthout)))"
   ]
  },
  {
   "cell_type": "markdown",
   "metadata": {},
   "source": [
    "### AVAILABLE"
   ]
  },
  {
   "cell_type": "code",
   "execution_count": null,
   "metadata": {
    "collapsed": true
   },
   "outputs": [],
   "source": [
    "# user_df.available.dropna.hist(figsize=(16,2));\n",
    "# would be nice to drop NaN more reasonably"
   ]
  },
  {
   "cell_type": "markdown",
   "metadata": {},
   "source": [
    "### BIRTHDAY"
   ]
  },
  {
   "cell_type": "code",
   "execution_count": null,
   "metadata": {
    "collapsed": true
   },
   "outputs": [],
   "source": [
    "user_df['birth_year'] = user_df['birthday'].apply(lambda x: x.year)\n",
    "user_df['birth_month'] = user_df['birthday'].apply(lambda x: x.month)\n",
    "\n",
    "fig, ax = plt.subplots(1, ncols=2, figsize=(14, 3))\n",
    "\n",
    "ax[0].hist(user_df.birth_year, bins=range(1950, 2000))\n",
    "ax[0].set_title(\"Birth Years\")\n",
    "\n",
    "ax[1].hist(user_df.birth_month, bins=range(1, 13))\n",
    "ax[1].set_title(\"Birth Month\")\n",
    "\n",
    "plt.tight_layout()"
   ]
  },
  {
   "cell_type": "code",
   "execution_count": null,
   "metadata": {
    "collapsed": true
   },
   "outputs": [],
   "source": [
    "user_df['age'] = 2018-user_df['birthday'].apply(lambda x: x.year)\n",
    "user_df['has_bday'] = user_df['birthday'].apply(lambda x: x.month) != 1\n",
    "user_df.head(200)"
   ]
  },
  {
   "cell_type": "code",
   "execution_count": null,
   "metadata": {
    "collapsed": true
   },
   "outputs": [],
   "source": [
    "# age on Jan 1 2018\n",
    "today = pd.to_datetime('2018-01-01')\n",
    "user_df['age'] = (today-user_df['birthday'])/365\n",
    "\n",
    "user_df.age.apply(lambda x: x.days).hist(bins=range(18,100), figsize=(16,2));"
   ]
  },
  {
   "cell_type": "markdown",
   "metadata": {},
   "source": [
    "### FOUND ROOMMATE"
   ]
  },
  {
   "cell_type": "code",
   "execution_count": null,
   "metadata": {
    "collapsed": true
   },
   "outputs": [],
   "source": [
    "found = user_df.foundRoommate.sum()\n",
    "print(\"{} users found a roommate, which is {:.3} of the total.\".format(found, found/len(user_df)))"
   ]
  },
  {
   "cell_type": "code",
   "execution_count": null,
   "metadata": {
    "collapsed": true
   },
   "outputs": [],
   "source": [
    "user_df.head(1)"
   ]
  },
  {
   "cell_type": "code",
   "execution_count": null,
   "metadata": {
    "collapsed": true
   },
   "outputs": [],
   "source": [
    "# Goal: of ppl with about, what % found a roommate\n",
    "users_with_about_df = user_df[user_df.len_about >0]\n",
    "users_without_about_df = user_df[user_df.len_about == 0]\n",
    "\n",
    "print(\"percent with about finding roommates: {}\".format(users_with_about_df.foundRoommate.sum()/len(users_with_about_df)))\n",
    "print(\"percent without about finding roommates: {}\".format(users_without_about_df.foundRoommate.sum()/len(users_without_about_df)))\n"
   ]
  },
  {
   "cell_type": "markdown",
   "metadata": {},
   "source": [
    "### LOCATION"
   ]
  },
  {
   "cell_type": "code",
   "execution_count": null,
   "metadata": {
    "collapsed": true
   },
   "outputs": [],
   "source": [
    "world = gpd.read_file(gpd.datasets.get_path('naturalearth_lowres'))\n",
    "cities = gpd.read_file(gpd.datasets.get_path('naturalearth_cities'))"
   ]
  },
  {
   "cell_type": "code",
   "execution_count": null,
   "metadata": {
    "collapsed": true
   },
   "outputs": [],
   "source": [
    "geometry = [Point(xy) for xy in zip(user_df.longitude, user_df.latitude)]\n",
    "loc_df = user_df[['longitude', 'latitude']]\n",
    "crs = {'init': 'epsg:4326'}\n",
    "gdf = GeoDataFrame(loc_df, crs=crs, geometry=geometry)"
   ]
  },
  {
   "cell_type": "code",
   "execution_count": null,
   "metadata": {
    "collapsed": true
   },
   "outputs": [],
   "source": [
    "fig, ax = plt.subplots(figsize = (16,10))\n",
    "\n",
    "ax.set_aspect('equal')\n",
    "\n",
    "world.plot(ax=ax, color='#66FF66', edgecolor='black')\n",
    "\n",
    "gdf.plot(ax=ax, marker='o', color='#FF00FF', markersize=5)\n",
    "ax.set_facecolor(\"#00FFFF\")\n",
    "plt.show();\n",
    "\n",
    "''' OPTION TWO\n",
    "base = world.plot(color='white', edgecolor='black', figsize = (16,10))\n",
    "gdf.plot(ax=base, marker='o', color='#FF00FF', markersize=5);\n",
    "''';"
   ]
  },
  {
   "cell_type": "code",
   "execution_count": null,
   "metadata": {
    "collapsed": true
   },
   "outputs": [],
   "source": [
    "fig, ax = plt.subplots(figsize = (16,10))\n",
    "\n",
    "ax.set_aspect('equal')\n",
    "ax.set_xlim([-126, -67])\n",
    "ax.set_ylim([24, 50])\n",
    "\n",
    "world.plot(ax=ax, color='#66FF66', edgecolor='black')\n",
    "\n",
    "gdf.plot(ax=ax, marker='o', color='#FF00FF', markersize=5)\n",
    "ax.set_facecolor(\"#00FFFF\")\n",
    "plt.show();\n",
    "\n",
    "''' OPTION TWO\n",
    "base = world.plot(color='white', edgecolor='black', figsize = (16,10))\n",
    "gdf.plot(ax=base, marker='o', color='#FF00FF', markersize=5);\n",
    "''';"
   ]
  },
  {
   "cell_type": "markdown",
   "metadata": {},
   "source": [
    "### time with the app \n",
    "\n",
    "Date Updated - Last Active\n",
    "\n",
    "(rough idea of how long users interact with the site (over days or months?)"
   ]
  },
  {
   "cell_type": "code",
   "execution_count": null,
   "metadata": {
    "collapsed": true
   },
   "outputs": [],
   "source": [
    "fig, ax = plt.subplots(figsize = (16,10))\n",
    "\n",
    "ax.set_aspect('equal')\n",
    "ax.set_xlim([-123, -121])\n",
    "ax.set_ylim([36, 39])\n",
    "\n",
    "world.plot(ax=ax, color='#66FF66', edgecolor='black')\n",
    "\n",
    "gdf.plot(ax=ax, marker='o', color='#FF00FF', markersize=5)\n",
    "ax.set_facecolor(\"#00FFFF\")\n",
    "plt.show();\n",
    "\n",
    "''' OPTION TWO\n",
    "base = world.plot(color='white', edgecolor='black', figsize = (16,10))\n",
    "gdf.plot(ax=base, marker='o', color='#FF00FF', markersize=5);\n",
    "''';"
   ]
  },
  {
   "cell_type": "code",
   "execution_count": null,
   "metadata": {
    "collapsed": true
   },
   "outputs": [],
   "source": [
    "fig, ax = plt.subplots(figsize = (16,10))\n",
    "\n",
    "ax.set_aspect('equal')\n",
    "ax.set_xlim([-122.6, -122.3])\n",
    "ax.set_ylim([37.6, 37.9])\n",
    "\n",
    "world.plot(ax=ax, color='#66FF66', edgecolor='black')\n",
    "\n",
    "gdf.plot(ax=ax, marker='o', color='#FF00FF', markersize=5)\n",
    "ax.set_facecolor(\"#00FFFF\")\n",
    "plt.show();\n",
    "\n",
    "''' OPTION TWO\n",
    "base = world.plot(color='white', edgecolor='black', figsize = (16,10))\n",
    "gdf.plot(ax=base, marker='o', color='#FF00FF', markersize=5);\n",
    "''';"
   ]
  },
  {
   "cell_type": "code",
   "execution_count": null,
   "metadata": {
    "collapsed": true,
    "scrolled": true
   },
   "outputs": [],
   "source": [
    "user_df['time_with_site'] = user_df.lastActive-user_df.created\n",
    "user_df.time_with_site.apply(lambda x: x.days).hist(bins=range(1,300), figsize=(16,2));"
   ]
  },
  {
   "cell_type": "markdown",
   "metadata": {},
   "source": [
    "# COMBINE USERS AND MESSAGES"
   ]
  },
  {
   "cell_type": "code",
   "execution_count": null,
   "metadata": {
    "collapsed": true
   },
   "outputs": [],
   "source": [
    "plt.scatter(user_df.len_about, user_df.ratio)\n",
    "plt.axis([0,1000,0,1])"
   ]
  },
  {
   "cell_type": "code",
   "execution_count": null,
   "metadata": {
    "collapsed": true
   },
   "outputs": [],
   "source": [
    "response_df.head()"
   ]
  },
  {
   "cell_type": "code",
   "execution_count": null,
   "metadata": {
    "collapsed": true
   },
   "outputs": [],
   "source": []
  }
 ],
 "metadata": {
  "kernelspec": {
   "display_name": "Python 3",
   "language": "python",
   "name": "python3"
  },
  "language_info": {
   "codemirror_mode": {
    "name": "ipython",
    "version": 3
   },
   "file_extension": ".py",
   "mimetype": "text/x-python",
   "name": "python",
   "nbconvert_exporter": "python",
   "pygments_lexer": "ipython3",
   "version": "3.6.3"
  }
 },
 "nbformat": 4,
 "nbformat_minor": 2
}
