{
 "cells": [
  {
   "cell_type": "markdown",
   "metadata": {},
   "source": [
    "## Imports"
   ]
  },
  {
   "cell_type": "code",
   "execution_count": null,
   "metadata": {
    "collapsed": true
   },
   "outputs": [],
   "source": [
    "import pandas as pd\n",
    "import matplotlib.pyplot as plt\n",
    "%matplotlib inline\n",
    "\n",
    "# Location\n",
    "from shapely.geometry import Point\n",
    "from geopandas import GeoDataFrame\n",
    "import geopandas as gpd"
   ]
  },
  {
   "cell_type": "markdown",
   "metadata": {},
   "source": [
    "## Read in Data"
   ]
  },
  {
   "cell_type": "code",
   "execution_count": null,
   "metadata": {},
   "outputs": [],
   "source": [
    "path_users = \"/Users/gandalf/Documents/data/data_users.pkl\"\n",
    "path_message = \"/Users/gandalf/Documents/data/data_message.pkl\"\n",
    "path_lastmessage = \"/Users/gandalf/Documents/data/data_lastmessage.pkl\"\n",
    "user_df = pd.read_pickle(path_users)\n",
    "message_df = pd.read_pickle(path_message)\n",
    "lastmessage_df = pd.read_pickle(path_lastmessage)"
   ]
  },
  {
   "cell_type": "markdown",
   "metadata": {},
   "source": [
    "# CREATED"
   ]
  },
  {
   "cell_type": "code",
   "execution_count": null,
   "metadata": {},
   "outputs": [],
   "source": [
    "df.created.hist(figsize=(16,2));"
   ]
  },
  {
   "cell_type": "markdown",
   "metadata": {},
   "source": [
    "# UPDATED"
   ]
  },
  {
   "cell_type": "code",
   "execution_count": null,
   "metadata": {},
   "outputs": [],
   "source": [
    "df# time with the app \n",
    "\n",
    "# Date Updated - Last Active\n",
    "\n",
    "# (rough idea of how long users interact with the site (over days or months?)\n",
    "\n",
    "df['time_with_site'] = df.lastActive-df.created\n",
    "df.time_with_site.apply(lambda x: x.days).hist(bins=range(1,400));\n",
    "\n",
    "# a lot of one day interactions (cut out for sake of visibility)\n",
    "# strange peaks and drop off.updated.hist(figsize=(16,2));"
   ]
  },
  {
   "cell_type": "markdown",
   "metadata": {},
   "source": [
    "# time until most recent edit \n",
    "\n",
    "Date Updated - Date Created\n",
    "\n",
    "(rough idea of how long users interact with the site (over days or months?)"
   ]
  },
  {
   "cell_type": "code",
   "execution_count": null,
   "metadata": {},
   "outputs": [],
   "source": [
    "df['time_with_site'] = df.updated-df.created\n",
    "df.time_with_site.apply(lambda x: x.days).hist(bins=range(1,400));\n",
    "\n",
    "# a lot of one day interactions (cut out for sake of visibility)\n",
    "# strange peaks and drop off"
   ]
  },
  {
   "cell_type": "markdown",
   "metadata": {},
   "source": [
    "# ABOUT"
   ]
  },
  {
   "cell_type": "markdown",
   "metadata": {},
   "source": [
    "## length"
   ]
  },
  {
   "cell_type": "code",
   "execution_count": null,
   "metadata": {},
   "outputs": [],
   "source": [
    "df['about_len'] = df['about'].apply(lambda x: len(x))\n",
    "df.about_len.hist(bins=range(1, 1000, 10), figsize = [10, 3])\n",
    "plt.title(\"Lenght of 'about' Section\")\n",
    "plt.tight_layout()"
   ]
  },
  {
   "cell_type": "markdown",
   "metadata": {},
   "source": [
    "## percent responding"
   ]
  },
  {
   "cell_type": "code",
   "execution_count": null,
   "metadata": {},
   "outputs": [],
   "source": [
    "wth = df[df.about_len > 0].count()['about']\n",
    "wthout = df[df.about_len == 0].count()['about']\n",
    "print('total number of user entries: {}'.format(wth+wthout))\n",
    "print('number with about sections: {}'.format(wth))\n",
    "print('number without about sections: {}'.format(wthout))\n",
    "print('percent with about sections: {}'.format(wth/(wth+wthout)))"
   ]
  },
  {
   "cell_type": "markdown",
   "metadata": {},
   "source": [
    "# AVAILABLE"
   ]
  },
  {
   "cell_type": "code",
   "execution_count": null,
   "metadata": {
    "collapsed": true
   },
   "outputs": [],
   "source": [
    "# df.available.dropna.hist(figsize=(16,2));\n",
    "# would be nice to drop NaN more reasonably"
   ]
  },
  {
   "cell_type": "markdown",
   "metadata": {},
   "source": [
    "# BIRTHDAY"
   ]
  },
  {
   "cell_type": "code",
   "execution_count": null,
   "metadata": {},
   "outputs": [],
   "source": [
    "df['birth_year'] = df['birthday'].apply(lambda x: x.year)\n",
    "df['birth_month'] = df['birthday'].apply(lambda x: x.month)\n",
    "\n",
    "fig, ax = plt.subplots(1, ncols=2, figsize=(14, 3))\n",
    "\n",
    "ax[0].hist(df.birth_year, bins=range(1950, 2000))\n",
    "ax[0].set_title(\"Birth Years\")\n",
    "\n",
    "ax[1].hist(df.birth_month, bins=range(1, 13))\n",
    "ax[1].set_title(\"Birth Month\")\n",
    "\n",
    "plt.tight_layout()"
   ]
  },
  {
   "cell_type": "code",
   "execution_count": null,
   "metadata": {},
   "outputs": [],
   "source": [
    "# age on Jan 1 2018\n",
    "today = pd.to_datetime('2018-01-01')\n",
    "df['age'] = (today-df['birthday'])/365\n",
    "\n",
    "df.age.apply(lambda x: x.days).hist(bins=range(18,100), figsize=(16,2));"
   ]
  },
  {
   "cell_type": "markdown",
   "metadata": {},
   "source": [
    "# LOCATION"
   ]
  },
  {
   "cell_type": "code",
   "execution_count": null,
   "metadata": {
    "collapsed": true
   },
   "outputs": [],
   "source": [
    "world = gpd.read_file(gpd.datasets.get_path('naturalearth_lowres'))\n",
    "cities = gpd.read_file(gpd.datasets.get_path('naturalearth_cities'))"
   ]
  },
  {
   "cell_type": "code",
   "execution_count": null,
   "metadata": {
    "collapsed": true
   },
   "outputs": [],
   "source": [
    "geometry = [Point(xy) for xy in zip(df.longitude, df.latitude)]\n",
    "loc_df = df[['longitude', 'latitude']]\n",
    "crs = {'init': 'epsg:4326'}\n",
    "gdf = GeoDataFrame(loc_df, crs=crs, geometry=geometry)"
   ]
  },
  {
   "cell_type": "code",
   "execution_count": null,
   "metadata": {},
   "outputs": [],
   "source": [
    "fig, ax = plt.subplots(figsize = (16,10))\n",
    "\n",
    "ax.set_aspect('equal')\n",
    "\n",
    "world.plot(ax=ax, color='#66FF66', edgecolor='black')\n",
    "\n",
    "gdf.plot(ax=ax, marker='o', color='#FF00FF', markersize=5)\n",
    "ax.set_facecolor(\"#00FFFF\")\n",
    "plt.show();\n",
    "\n",
    "''' OPTION TWO\n",
    "base = world.plot(color='white', edgecolor='black', figsize = (16,10))\n",
    "gdf.plot(ax=base, marker='o', color='#FF00FF', markersize=5);\n",
    "''';"
   ]
  },
  {
   "cell_type": "markdown",
   "metadata": {},
   "source": [
    "# time with the app \n",
    "\n",
    "Date Updated - Last Active\n",
    "\n",
    "(rough idea of how long users interact with the site (over days or months?)"
   ]
  },
  {
   "cell_type": "code",
   "execution_count": null,
   "metadata": {},
   "outputs": [],
   "source": [
    "df['time_with_site'] = df.lastActive-df.created\n",
    "df.time_with_site.apply(lambda x: x.days).hist(bins=range(1,300), figsize=(16,2));"
   ]
  },
  {
   "cell_type": "code",
   "execution_count": null,
   "metadata": {
    "collapsed": true
   },
   "outputs": [],
   "source": []
  }
 ],
 "metadata": {
  "kernelspec": {
   "display_name": "Python 3",
   "language": "python",
   "name": "python3"
  },
  "language_info": {
   "codemirror_mode": {
    "name": "ipython",
    "version": 3
   },
   "file_extension": ".py",
   "mimetype": "text/x-python",
   "name": "python",
   "nbconvert_exporter": "python",
   "pygments_lexer": "ipython3",
   "version": "3.6.3"
  }
 },
 "nbformat": 4,
 "nbformat_minor": 2
}
