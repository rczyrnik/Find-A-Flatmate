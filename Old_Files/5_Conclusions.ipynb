{
 "cells": [
  {
   "cell_type": "markdown",
   "metadata": {},
   "source": [
    "### Imports"
   ]
  },
  {
   "cell_type": "code",
   "execution_count": 104,
   "metadata": {
    "collapsed": true
   },
   "outputs": [],
   "source": [
    "import my_pickle as mp\n",
    "import my_resample as ms\n",
    "import numpy as np\n",
    "import pandas as pd\n",
    "\n",
    "from sklearn.preprocessing import StandardScaler\n",
    "from sklearn.model_selection import train_test_split\n",
    "from sklearn.tree import DecisionTreeClassifier\n",
    "from sklearn.ensemble import RandomForestClassifier\n",
    "from sklearn.ensemble import GradientBoostingClassifier\n",
    "from sklearn.ensemble import AdaBoostClassifier\n",
    "from sklearn.metrics import confusion_matrix, precision_score, recall_score\n",
    "\n",
    "\n",
    "from sklearn.model_selection import GridSearchCV"
   ]
  },
  {
   "cell_type": "markdown",
   "metadata": {},
   "source": [
    "### Read in data"
   ]
  },
  {
   "cell_type": "code",
   "execution_count": 43,
   "metadata": {
    "collapsed": true
   },
   "outputs": [],
   "source": [
    "# read in\n",
    "convo_df = mp.unjson_it('data_master')\n",
    "user_df = mp.unjson_it('data_user')\n",
    "\n",
    "# get uid as a column\n",
    "user_df = user_df.reset_index().rename(index=str, columns={\"index\": \"uid\"})"
   ]
  },
  {
   "cell_type": "code",
   "execution_count": 119,
   "metadata": {},
   "outputs": [
    {
     "data": {
      "text/plain": [
       "Index(['uid', 'I_count', 'I_ratio', 'about', 'activeAt', 'age', 'amenities',\n",
       "       'available', 'birthday', 'college', 'created', 'exclaim_count',\n",
       "       'exclaim_ratio', 'facebookId', 'gender', 'has_about', 'has_facebookId',\n",
       "       'has_linkedinId', 'has_picture', 'has_room', 'hobbies', 'hometownCity',\n",
       "       'hometownCountry', 'hometownState', 'inRelationship', 'isClean',\n",
       "       'isNight', 'isStudent', 'len_about', 'linkedinId', 'location',\n",
       "       'maxCost', 'metro', 'minCost', 'neighborhoods', 'numRoommates',\n",
       "       'onboarded', 'period_count', 'period_ratio', 'petsOk', 'picture',\n",
       "       'question_count', 'question_ratio', 'sentence_count', 'sentence_ratio',\n",
       "       'smokingOk', 'term', 'timeframe', 'type', 'updated', 'work', 'interact',\n",
       "       'sender', 'responder', 'messager'],\n",
       "      dtype='object')"
      ]
     },
     "execution_count": 119,
     "metadata": {},
     "output_type": "execute_result"
    }
   ],
   "source": [
    "user_df.columns"
   ]
  },
  {
   "cell_type": "markdown",
   "metadata": {},
   "source": [
    "# The Problem"
   ]
  },
  {
   "cell_type": "code",
   "execution_count": 44,
   "metadata": {},
   "outputs": [
    {
     "name": "stdout",
     "output_type": "stream",
     "text": [
      "Only 10.7% of messages get a response.\n"
     ]
    }
   ],
   "source": [
    "print(\"Only {:.3}% of messages get a response.\".format(100*convo_df.response.sum()/len(convo_df)))"
   ]
  },
  {
   "cell_type": "markdown",
   "metadata": {
    "collapsed": true
   },
   "source": [
    "# Goal 1: filter out users who probably aren't active"
   ]
  },
  {
   "cell_type": "markdown",
   "metadata": {},
   "source": [
    "## Step 1: identify active users"
   ]
  },
  {
   "cell_type": "code",
   "execution_count": 114,
   "metadata": {},
   "outputs": [
    {
     "name": "stdout",
     "output_type": "stream",
     "text": [
      "9.55% of users start a conversation\n",
      "2.76% of users respond to a message\n",
      "        (but ~10% of messages get a response.)\n",
      "10.9% of users send a message\n"
     ]
    }
   ],
   "source": [
    "# create an array with anyone who has sent a message\n",
    "# assume conversations between just two users\n",
    "senders = set(convo_df.uid_sender.unique())\n",
    "responders = set(convo_df[convo_df.response == True].uid_receiver.unique())\n",
    "messagers = senders.union(responders)\n",
    "\n",
    "# create column on user_df for active/not active\n",
    "user_df['sender'] = user_df.uid.apply(lambda x: x in senders)\n",
    "user_df['responder'] = user_df.uid.apply(lambda x: x in responders)\n",
    "user_df['messager'] = user_df.uid.apply(lambda x: x in messagers)\n",
    "\n",
    "print(\"{:.3}% of users start a conversation\".format(100*len(senders)/len(user_df)))\n",
    "print(\"{:.3}% of users respond to a message\".format(100*len(responders)/len(user_df)))\n",
    "print(\"        (but ~10% of messages get a response.)\")\n",
    "print(\"{:.3}% of users send a message\".format(100*len(messagers)/len(user_df)))"
   ]
  },
  {
   "cell_type": "markdown",
   "metadata": {},
   "source": [
    "## Step 2: clean up user data to feed into model"
   ]
  },
  {
   "cell_type": "code",
   "execution_count": 168,
   "metadata": {
    "collapsed": true
   },
   "outputs": [],
   "source": [
    "user_df.amenities = user_df.amenities.apply(lambda x: len(x) if isinstance(x,list) else 0)\n",
    "user_df.hobbies = user_df.hobbies.apply(lambda x: len(x) if isinstance(x,list) else 0)\n",
    "user_df.neighborhoods = user_df.neighborhoods.apply(lambda x: len(x) if isinstance(x,list) else 0)\n",
    "user_df.location = user_df.location.apply(lambda x: 1 if isinstance(x,list) else 0)\n",
    "\n",
    "user_df.college = user_df.college.apply(lambda x: 1 if isinstance(x,str) else 0)\n",
    "user_df.hometownCity = user_df.hometownCity.apply(lambda x: 1 if isinstance(x,str) else 0)\n",
    "user_df.hometownCountry = user_df.hometownCountry.apply(lambda x: 1 if isinstance(x,str) else 0)\n",
    "user_df.hometownState = user_df.hometownState.apply(lambda x: 1 if isinstance(x,str) else 0)\n",
    "user_df.work = user_df.work.apply(lambda x: 1 if isinstance(x,str) else 0)\n",
    "\n",
    "col_to_keep = ['I_count','age', 'amenities','college','exclaim_count','gender','has_about', 'has_facebookId',\n",
    "       'has_linkedinId', 'has_picture', 'has_room','hobbies','hometownCity','hometownState','hometownCountry',\n",
    "               'inRelationship', 'isClean',\n",
    "       'isNight', 'isStudent', 'len_about','location','maxCost','minCost','neighborhoods','numRoommates',\n",
    "       'period_count','petsOk','question_count','smokingOk', 'term','work'] \n",
    "user_df['const']=1\n",
    "user_df['interact'] = user_df['interact'].apply(lambda x: 1 if x else 0)\n",
    "X = user_df[col_to_keep].fillna(X.mean(axis=0))\n",
    "y_wconst = user_df[['interact','const']]\n",
    "y = user_df['interact']"
   ]
  },
  {
   "cell_type": "code",
   "execution_count": 169,
   "metadata": {
    "collapsed": true
   },
   "outputs": [],
   "source": [
    "# save X and y for gridsearch\n",
    "mp.json_it(X, 'data_X_013018')\n",
    "mp.json_it(y_wconst, 'data_y_013018')"
   ]
  },
  {
   "cell_type": "markdown",
   "metadata": {},
   "source": [
    "## Step 3: Run models"
   ]
  },
  {
   "cell_type": "markdown",
   "metadata": {},
   "source": [
    "Goal is to maximize negative predictive value (NPV)\n",
    "\n",
    "${\\displaystyle \\mathrm {NPV} ={\\frac {\\mathrm {TN} }{\\mathrm {TN} +\\mathrm {FN} }}}$\n",
    "\n",
    "remove users unlikely to be active while keeping users who may be active"
   ]
  },
  {
   "cell_type": "code",
   "execution_count": 132,
   "metadata": {},
   "outputs": [
    {
     "data": {
      "text/plain": [
       "0.90468986384266259"
      ]
     },
     "execution_count": 132,
     "metadata": {},
     "output_type": "execute_result"
    }
   ],
   "source": [
    "def get_NPV(confusion_matrix):\n",
    "    TN = confusion_matrix[0][0]\n",
    "    FN = confusion_matrix[1][0]\n",
    "    return TN/(TN+FN)\n",
    "\n",
    "get_NPV(confusion_matrix(y_test, y_pred))"
   ]
  },
  {
   "cell_type": "code",
   "execution_count": 96,
   "metadata": {
    "collapsed": true
   },
   "outputs": [],
   "source": [
    "def display_importances_trees():\n",
    "    # show feature importances\n",
    "    feature_df = pd.DataFrame([X.columns, model.feature_importances_]).T\n",
    "    feature_df.columns = ['feature','value']\n",
    "    return feature_df.sort_values('value', ascending=False)\n",
    "             \n",
    "def display_metrics():\n",
    "    print(\"\\nMETRICS\")\n",
    "    print(\"Model recall: {}\".format(recall_score(y_test, y_pred)))\n",
    "    print(\"Model precision: {}\".format(precision_score(y_test, y_pred)))\n",
    "    print(\"Model accuracy: {}\".format(model.score(X_test, y_test)))\n",
    "\n",
    "    print (\"\\nCONFUSION MATRIX\")\n",
    "    print (confusion_matrix(y_test, y_pred))\n",
    "    print (\"\\nkey:\")\n",
    "    print (\" TN   FP \")\n",
    "    print (\" FN   TP \")\n",
    "\n",
    "    print(\"\\nRECALL AND ACCURACY FOR DIFFERNET MODELS\")\n",
    "    print(\"recall     \\t precision   \\tmodel\")\n",
    "    print(recall_score(y_test, y_pred), '\\t',precision_score(y_test, y_pred), \"my model\")\n",
    "    print(recall_score(y_test, pred_all_0),'\\t','\\t', precision_score(y_test, pred_all_0), \"\\t\\tpredict all zero\")\n",
    "    print(recall_score(y_test, pred_all_1),'\\t','\\t', precision_score(y_test, pred_all_1), \"predict all one\")\n",
    "    print(recall_score(y_test, pred_50_50),'\\t', precision_score(y_test, pred_50_50), \"predict 50-50\")\n",
    "    print(recall_score(y_test, pred_90_10), precision_score(y_test, pred_90_10), \"predict 90-10\")"
   ]
  },
  {
   "cell_type": "code",
   "execution_count": 222,
   "metadata": {},
   "outputs": [
    {
     "name": "stderr",
     "output_type": "stream",
     "text": [
      "/Users/gandalf/anaconda3/lib/python3.6/site-packages/sklearn/utils/validation.py:475: DataConversionWarning: Data with input dtype object was converted to float64 by StandardScaler.\n",
      "  warnings.warn(msg, DataConversionWarning)\n"
     ]
    },
    {
     "name": "stdout",
     "output_type": "stream",
     "text": [
      "0.910308894678\n",
      "\n",
      "METRICS\n",
      "Model recall: 0.1392857142857143\n",
      "Model precision: 0.582089552238806\n",
      "Model accuracy: 0.9023238925199709\n",
      "\n",
      "CONFUSION MATRIX\n",
      "[[2446   28]\n",
      " [ 241   39]]\n",
      "\n",
      "key:\n",
      " TN   FP \n",
      " FN   TP \n",
      "\n",
      "RECALL AND ACCURACY FOR DIFFERNET MODELS\n",
      "recall     \t precision   \tmodel\n",
      "0.139285714286 \t 0.582089552239 my model\n",
      "0.0 \t \t 0.0 \t\tpredict all zero\n",
      "1.0 \t \t 0.101670297749 predict all one\n",
      "0.471428571429 \t 0.0927617709065 predict 50-50\n",
      "0.132142857143 0.138059701493 predict 90-10\n"
     ]
    },
    {
     "name": "stderr",
     "output_type": "stream",
     "text": [
      "/Users/gandalf/anaconda3/lib/python3.6/site-packages/sklearn/metrics/classification.py:1135: UndefinedMetricWarning: Precision is ill-defined and being set to 0.0 due to no predicted samples.\n",
      "  'precision', 'predicted', average, warn_for)\n"
     ]
    },
    {
     "data": {
      "text/html": [
       "<div>\n",
       "<style>\n",
       "    .dataframe thead tr:only-child th {\n",
       "        text-align: right;\n",
       "    }\n",
       "\n",
       "    .dataframe thead th {\n",
       "        text-align: left;\n",
       "    }\n",
       "\n",
       "    .dataframe tbody tr th {\n",
       "        vertical-align: top;\n",
       "    }\n",
       "</style>\n",
       "<table border=\"1\" class=\"dataframe\">\n",
       "  <thead>\n",
       "    <tr style=\"text-align: right;\">\n",
       "      <th></th>\n",
       "      <th>feature</th>\n",
       "      <th>value</th>\n",
       "    </tr>\n",
       "  </thead>\n",
       "  <tbody>\n",
       "    <tr>\n",
       "      <th>5</th>\n",
       "      <td>distance</td>\n",
       "      <td>0.0909967</td>\n",
       "    </tr>\n",
       "    <tr>\n",
       "      <th>28</th>\n",
       "      <td>len_about_receiver</td>\n",
       "      <td>0.0438527</td>\n",
       "    </tr>\n",
       "    <tr>\n",
       "      <th>3</th>\n",
       "      <td>age_receiver</td>\n",
       "      <td>0.0382462</td>\n",
       "    </tr>\n",
       "    <tr>\n",
       "      <th>2</th>\n",
       "      <td>age_dif</td>\n",
       "      <td>0.0297432</td>\n",
       "    </tr>\n",
       "    <tr>\n",
       "      <th>30</th>\n",
       "      <td>maxCost_receiver</td>\n",
       "      <td>0.0288005</td>\n",
       "    </tr>\n",
       "  </tbody>\n",
       "</table>\n",
       "</div>"
      ],
      "text/plain": [
       "               feature      value\n",
       "5             distance  0.0909967\n",
       "28  len_about_receiver  0.0438527\n",
       "3         age_receiver  0.0382462\n",
       "2              age_dif  0.0297432\n",
       "30    maxCost_receiver  0.0288005"
      ]
     },
     "execution_count": 222,
     "metadata": {},
     "output_type": "execute_result"
    }
   ],
   "source": [
    "# train test split\n",
    "X_train, X_test, y_train, y_test = train_test_split(X.as_matrix(), y.as_matrix(), random_state=17)\n",
    "\n",
    "# resample\n",
    "X_train, y_train = ms.oversample(X_train, y_train, .25)\n",
    "\n",
    "# scale data\n",
    "scaler = StandardScaler()\n",
    "scaler.fit(X_train)\n",
    "X_train = scaler.transform(X_train)\n",
    "X_test = scaler.transform(X_test)\n",
    "\n",
    "# make fake data\n",
    "pred_all_0 = [0]*len(y_test)\n",
    "pred_all_1 = [1]*len(y_test)\n",
    "pred_50_50 = np.random.choice([0,1], size=len(y_test))\n",
    "pred_90_10 = np.random.choice([0,1], size=len(y_test), p=[.9,.1])\n",
    "\n",
    "model = GradientBoostingClassifier(learning_rate= 0.4, \n",
    "                                   max_depth= 10, \n",
    "                                   min_samples_leaf= 2, \n",
    "                                   min_samples_split= 3, \n",
    "                                   n_estimators= 100, \n",
    "                                   subsample= 1)\n",
    "# model = GradientBoostingClassifier()\n",
    "model.fit(X_train, y_train)\n",
    "y_pred = model.predict(X_test)\n",
    "\n",
    "print(get_NPV(confusion_matrix(y_test, y_pred)))\n",
    "# show metrics\n",
    "display_metrics()\n",
    "\n",
    "# # show importances\n",
    "display_importances_trees().head(5)"
   ]
  },
  {
   "cell_type": "markdown",
   "metadata": {},
   "source": [
    "# Filter Users"
   ]
  },
  {
   "cell_type": "code",
   "execution_count": 174,
   "metadata": {
    "collapsed": true
   },
   "outputs": [],
   "source": [
    "user_df['prediction'] = model.predict(X)"
   ]
  },
  {
   "cell_type": "code",
   "execution_count": 192,
   "metadata": {},
   "outputs": [],
   "source": [
    "X = mp.unjson_it('data_X')\n",
    "y = mp.unjson_it('data_y')['response']\n",
    "text_similarity_df = mp.unjson_it('data_text_similarity')\n",
    "X['count_similarity'] = text_similarity_df['count_similarity']\n",
    "X['tfidf_similarity'] = text_similarity_df['tfidf_similarity']"
   ]
  },
  {
   "cell_type": "code",
   "execution_count": 202,
   "metadata": {},
   "outputs": [
    {
     "name": "stdout",
     "output_type": "stream",
     "text": [
      "\n",
      "METRICS\n",
      "Model recall: 0.5857142857142857\n",
      "Model precision: 0.20838627700127066\n",
      "Model accuracy: 0.7316630355846042\n",
      "\n",
      "CONFUSION MATRIX\n",
      "[[1851  623]\n",
      " [ 116  164]]\n",
      "\n",
      "key:\n",
      " TN   FP \n",
      " FN   TP \n",
      "\n",
      "RECALL AND ACCURACY FOR DIFFERNET MODELS\n",
      "recall     \t precision   \tmodel\n",
      "0.585714285714 \t 0.208386277001 my model\n",
      "0.0 \t \t 0.0 \t\tpredict all zero\n",
      "1.0 \t \t 0.101670297749 predict all one\n",
      "0.521428571429 \t 0.102600140548 predict 50-50\n",
      "0.0964285714286 0.0992647058824 predict 90-10\n"
     ]
    },
    {
     "name": "stderr",
     "output_type": "stream",
     "text": [
      "/Users/gandalf/anaconda3/lib/python3.6/site-packages/sklearn/metrics/classification.py:1135: UndefinedMetricWarning: Precision is ill-defined and being set to 0.0 due to no predicted samples.\n",
      "  'precision', 'predicted', average, warn_for)\n"
     ]
    },
    {
     "data": {
      "text/html": [
       "<div>\n",
       "<style>\n",
       "    .dataframe thead tr:only-child th {\n",
       "        text-align: right;\n",
       "    }\n",
       "\n",
       "    .dataframe thead th {\n",
       "        text-align: left;\n",
       "    }\n",
       "\n",
       "    .dataframe tbody tr th {\n",
       "        vertical-align: top;\n",
       "    }\n",
       "</style>\n",
       "<table border=\"1\" class=\"dataframe\">\n",
       "  <thead>\n",
       "    <tr style=\"text-align: right;\">\n",
       "      <th></th>\n",
       "      <th>feature</th>\n",
       "      <th>value</th>\n",
       "    </tr>\n",
       "  </thead>\n",
       "  <tbody>\n",
       "    <tr>\n",
       "      <th>28</th>\n",
       "      <td>len_about_receiver</td>\n",
       "      <td>0.118654</td>\n",
       "    </tr>\n",
       "    <tr>\n",
       "      <th>5</th>\n",
       "      <td>distance</td>\n",
       "      <td>0.0913954</td>\n",
       "    </tr>\n",
       "    <tr>\n",
       "      <th>69</th>\n",
       "      <td>urgency_receiver</td>\n",
       "      <td>0.0911112</td>\n",
       "    </tr>\n",
       "    <tr>\n",
       "      <th>3</th>\n",
       "      <td>age_receiver</td>\n",
       "      <td>0.071858</td>\n",
       "    </tr>\n",
       "    <tr>\n",
       "      <th>70</th>\n",
       "      <td>urgency_sender</td>\n",
       "      <td>0.0712608</td>\n",
       "    </tr>\n",
       "  </tbody>\n",
       "</table>\n",
       "</div>"
      ],
      "text/plain": [
       "               feature      value\n",
       "28  len_about_receiver   0.118654\n",
       "5             distance  0.0913954\n",
       "69    urgency_receiver  0.0911112\n",
       "3         age_receiver   0.071858\n",
       "70      urgency_sender  0.0712608"
      ]
     },
     "execution_count": 202,
     "metadata": {},
     "output_type": "execute_result"
    }
   ],
   "source": [
    "# train test split\n",
    "X_train, X_test, y_train, y_test = train_test_split(X.as_matrix(), y.as_matrix(), random_state=17)\n",
    "\n",
    "# resample\n",
    "X_train, y_train = ms.oversample(X_train, y_train, .5)\n",
    "\n",
    "# scale data\n",
    "scaler = StandardScaler()\n",
    "scaler.fit(X_train)\n",
    "X_train = scaler.transform(X_train)\n",
    "X_test = scaler.transform(X_test)\n",
    "\n",
    "# make fake data\n",
    "pred_all_0 = [0]*len(y_test)\n",
    "pred_all_1 = [1]*len(y_test)\n",
    "pred_50_50 = np.random.choice([0,1], size=len(y_test))\n",
    "pred_90_10 = np.random.choice([0,1], size=len(y_test), p=[.9,.1])\n",
    "\n",
    "model = GradientBoostingClassifier()\n",
    "model.fit(X_train, y_train)\n",
    "y_pred = model.predict(X_test)\n",
    "\n",
    "# show metrics\n",
    "display_metrics()\n",
    "\n",
    "# show importances\n",
    "display_importances_trees().head(5)"
   ]
  },
  {
   "cell_type": "code",
   "execution_count": 200,
   "metadata": {
    "collapsed": true
   },
   "outputs": [],
   "source": [
    "predicted_active_users = set(user_df[user_df.prediction == 1].uid)"
   ]
  },
  {
   "cell_type": "code",
   "execution_count": 210,
   "metadata": {},
   "outputs": [],
   "source": [
    "X['predicted_active_receiver'] = convo_df.uid_receiver.apply(lambda x: x in predicted_active_users)"
   ]
  },
  {
   "cell_type": "code",
   "execution_count": 214,
   "metadata": {},
   "outputs": [],
   "source": [
    "y_filtered = y[X.predicted_active_receiver == 1]\n",
    "X_filtered = X[X.predicted_active_receiver == 1]"
   ]
  },
  {
   "cell_type": "code",
   "execution_count": null,
   "metadata": {
    "collapsed": true
   },
   "outputs": [],
   "source": []
  },
  {
   "cell_type": "code",
   "execution_count": 221,
   "metadata": {},
   "outputs": [
    {
     "name": "stdout",
     "output_type": "stream",
     "text": [
      "Messages sent to pre-screened users receive responses 15.294117647058824% of the time\n"
     ]
    }
   ],
   "source": [
    "print(\"Messages sent to pre-screened users receive responses {}% of the time\".format(100*y_filtered.sum()/len(y_filtered)))"
   ]
  },
  {
   "cell_type": "code",
   "execution_count": null,
   "metadata": {
    "collapsed": true
   },
   "outputs": [],
   "source": []
  },
  {
   "cell_type": "code",
   "execution_count": 216,
   "metadata": {},
   "outputs": [
    {
     "name": "stderr",
     "output_type": "stream",
     "text": [
      "/Users/gandalf/anaconda3/lib/python3.6/site-packages/sklearn/utils/validation.py:475: DataConversionWarning: Data with input dtype object was converted to float64 by StandardScaler.\n",
      "  warnings.warn(msg, DataConversionWarning)\n"
     ]
    },
    {
     "name": "stdout",
     "output_type": "stream",
     "text": [
      "\n",
      "METRICS\n",
      "Model recall: 0.5068493150684932\n",
      "Model precision: 0.22023809523809523\n",
      "Model accuracy: 0.6918819188191881\n",
      "\n",
      "CONFUSION MATRIX\n",
      "[[676 262]\n",
      " [ 72  74]]\n",
      "\n",
      "key:\n",
      " TN   FP \n",
      " FN   TP \n",
      "\n",
      "RECALL AND ACCURACY FOR DIFFERNET MODELS\n",
      "recall     \t precision   \tmodel\n",
      "0.506849315068 \t 0.220238095238 my model\n",
      "0.0 \t \t 0.0 \t\tpredict all zero\n",
      "1.0 \t \t 0.134686346863 predict all one\n",
      "0.5 \t 0.133211678832 predict 50-50\n",
      "0.0479452054795 0.0729166666667 predict 90-10\n"
     ]
    },
    {
     "name": "stderr",
     "output_type": "stream",
     "text": [
      "/Users/gandalf/anaconda3/lib/python3.6/site-packages/sklearn/metrics/classification.py:1135: UndefinedMetricWarning: Precision is ill-defined and being set to 0.0 due to no predicted samples.\n",
      "  'precision', 'predicted', average, warn_for)\n"
     ]
    },
    {
     "data": {
      "text/html": [
       "<div>\n",
       "<style>\n",
       "    .dataframe thead tr:only-child th {\n",
       "        text-align: right;\n",
       "    }\n",
       "\n",
       "    .dataframe thead th {\n",
       "        text-align: left;\n",
       "    }\n",
       "\n",
       "    .dataframe tbody tr th {\n",
       "        vertical-align: top;\n",
       "    }\n",
       "</style>\n",
       "<table border=\"1\" class=\"dataframe\">\n",
       "  <thead>\n",
       "    <tr style=\"text-align: right;\">\n",
       "      <th></th>\n",
       "      <th>feature</th>\n",
       "      <th>value</th>\n",
       "    </tr>\n",
       "  </thead>\n",
       "  <tbody>\n",
       "    <tr>\n",
       "      <th>3</th>\n",
       "      <td>age_receiver</td>\n",
       "      <td>0.112021</td>\n",
       "    </tr>\n",
       "    <tr>\n",
       "      <th>28</th>\n",
       "      <td>len_about_receiver</td>\n",
       "      <td>0.0892394</td>\n",
       "    </tr>\n",
       "    <tr>\n",
       "      <th>69</th>\n",
       "      <td>urgency_receiver</td>\n",
       "      <td>0.0677629</td>\n",
       "    </tr>\n",
       "    <tr>\n",
       "      <th>5</th>\n",
       "      <td>distance</td>\n",
       "      <td>0.0505383</td>\n",
       "    </tr>\n",
       "    <tr>\n",
       "      <th>33</th>\n",
       "      <td>minCost_sender</td>\n",
       "      <td>0.0434035</td>\n",
       "    </tr>\n",
       "  </tbody>\n",
       "</table>\n",
       "</div>"
      ],
      "text/plain": [
       "               feature      value\n",
       "3         age_receiver   0.112021\n",
       "28  len_about_receiver  0.0892394\n",
       "69    urgency_receiver  0.0677629\n",
       "5             distance  0.0505383\n",
       "33      minCost_sender  0.0434035"
      ]
     },
     "execution_count": 216,
     "metadata": {},
     "output_type": "execute_result"
    }
   ],
   "source": [
    "# train test split\n",
    "X_train, X_test, y_train, y_test = train_test_split(X_filtered.as_matrix(), y_filtered.as_matrix(), random_state=17)\n",
    "\n",
    "# resample\n",
    "X_train, y_train = ms.oversample(X_train, y_train, .5)\n",
    "\n",
    "# scale data\n",
    "scaler = StandardScaler()\n",
    "scaler.fit(X_train)\n",
    "X_train = scaler.transform(X_train)\n",
    "X_test = scaler.transform(X_test)\n",
    "\n",
    "# make fake data\n",
    "pred_all_0 = [0]*len(y_test)\n",
    "pred_all_1 = [1]*len(y_test)\n",
    "pred_50_50 = np.random.choice([0,1], size=len(y_test))\n",
    "pred_90_10 = np.random.choice([0,1], size=len(y_test), p=[.9,.1])\n",
    "\n",
    "model = GradientBoostingClassifier()\n",
    "model.fit(X_train, y_train)\n",
    "y_pred = model.predict(X_test)\n",
    "\n",
    "# show metrics\n",
    "display_metrics()\n",
    "\n",
    "# show importances\n",
    "display_importances_trees().head(5)"
   ]
  },
  {
   "cell_type": "code",
   "execution_count": 220,
   "metadata": {},
   "outputs": [
    {
     "data": {
      "text/html": [
       "<div>\n",
       "<style>\n",
       "    .dataframe thead tr:only-child th {\n",
       "        text-align: right;\n",
       "    }\n",
       "\n",
       "    .dataframe thead th {\n",
       "        text-align: left;\n",
       "    }\n",
       "\n",
       "    .dataframe tbody tr th {\n",
       "        vertical-align: top;\n",
       "    }\n",
       "</style>\n",
       "<table border=\"1\" class=\"dataframe\">\n",
       "  <thead>\n",
       "    <tr style=\"text-align: right;\">\n",
       "      <th></th>\n",
       "      <th>feature</th>\n",
       "      <th>value</th>\n",
       "    </tr>\n",
       "  </thead>\n",
       "  <tbody>\n",
       "    <tr>\n",
       "      <th>0</th>\n",
       "      <td>age_receiver</td>\n",
       "      <td>0.112021</td>\n",
       "    </tr>\n",
       "    <tr>\n",
       "      <th>1</th>\n",
       "      <td>len_about_receiver</td>\n",
       "      <td>0.0892394</td>\n",
       "    </tr>\n",
       "    <tr>\n",
       "      <th>2</th>\n",
       "      <td>urgency_receiver</td>\n",
       "      <td>0.0677629</td>\n",
       "    </tr>\n",
       "    <tr>\n",
       "      <th>3</th>\n",
       "      <td>distance</td>\n",
       "      <td>0.0505383</td>\n",
       "    </tr>\n",
       "    <tr>\n",
       "      <th>4</th>\n",
       "      <td>minCost_sender</td>\n",
       "      <td>0.0434035</td>\n",
       "    </tr>\n",
       "    <tr>\n",
       "      <th>5</th>\n",
       "      <td>maxCost_sender</td>\n",
       "      <td>0.0417146</td>\n",
       "    </tr>\n",
       "    <tr>\n",
       "      <th>6</th>\n",
       "      <td>urgency_sender</td>\n",
       "      <td>0.0390941</td>\n",
       "    </tr>\n",
       "    <tr>\n",
       "      <th>7</th>\n",
       "      <td>numRoommates_sender</td>\n",
       "      <td>0.0311809</td>\n",
       "    </tr>\n",
       "    <tr>\n",
       "      <th>8</th>\n",
       "      <td>minCost_receiver</td>\n",
       "      <td>0.0295081</td>\n",
       "    </tr>\n",
       "    <tr>\n",
       "      <th>9</th>\n",
       "      <td>age_dif</td>\n",
       "      <td>0.0271157</td>\n",
       "    </tr>\n",
       "    <tr>\n",
       "      <th>10</th>\n",
       "      <td>numRoommates_receiver</td>\n",
       "      <td>0.0256277</td>\n",
       "    </tr>\n",
       "    <tr>\n",
       "      <th>11</th>\n",
       "      <td>term_receiver</td>\n",
       "      <td>0.024384</td>\n",
       "    </tr>\n",
       "    <tr>\n",
       "      <th>12</th>\n",
       "      <td>maxCost_receiver</td>\n",
       "      <td>0.0240508</td>\n",
       "    </tr>\n",
       "    <tr>\n",
       "      <th>13</th>\n",
       "      <td>age_sender</td>\n",
       "      <td>0.0231364</td>\n",
       "    </tr>\n",
       "    <tr>\n",
       "      <th>14</th>\n",
       "      <td>gender_sender</td>\n",
       "      <td>0.0218782</td>\n",
       "    </tr>\n",
       "    <tr>\n",
       "      <th>15</th>\n",
       "      <td>isStudent_receiver</td>\n",
       "      <td>0.0203589</td>\n",
       "    </tr>\n",
       "    <tr>\n",
       "      <th>16</th>\n",
       "      <td>tfidf_similarity</td>\n",
       "      <td>0.0201195</td>\n",
       "    </tr>\n",
       "    <tr>\n",
       "      <th>17</th>\n",
       "      <td>period_count_receiver</td>\n",
       "      <td>0.0188777</td>\n",
       "    </tr>\n",
       "    <tr>\n",
       "      <th>18</th>\n",
       "      <td>has_facebookId_receiver</td>\n",
       "      <td>0.0178234</td>\n",
       "    </tr>\n",
       "    <tr>\n",
       "      <th>19</th>\n",
       "      <td>overlap_rent</td>\n",
       "      <td>0.0166226</td>\n",
       "    </tr>\n",
       "    <tr>\n",
       "      <th>20</th>\n",
       "      <td>has_picture_receiver</td>\n",
       "      <td>0.0156513</td>\n",
       "    </tr>\n",
       "    <tr>\n",
       "      <th>21</th>\n",
       "      <td>len_about_sender</td>\n",
       "      <td>0.0153471</td>\n",
       "    </tr>\n",
       "    <tr>\n",
       "      <th>22</th>\n",
       "      <td>sentence_count_sender</td>\n",
       "      <td>0.0148884</td>\n",
       "    </tr>\n",
       "    <tr>\n",
       "      <th>23</th>\n",
       "      <td>I_count_receiver</td>\n",
       "      <td>0.0132188</td>\n",
       "    </tr>\n",
       "    <tr>\n",
       "      <th>24</th>\n",
       "      <td>isClean_receiver</td>\n",
       "      <td>0.0126563</td>\n",
       "    </tr>\n",
       "    <tr>\n",
       "      <th>25</th>\n",
       "      <td>type_receiver</td>\n",
       "      <td>0.0121445</td>\n",
       "    </tr>\n",
       "    <tr>\n",
       "      <th>26</th>\n",
       "      <td>term_sender</td>\n",
       "      <td>0.0113334</td>\n",
       "    </tr>\n",
       "    <tr>\n",
       "      <th>27</th>\n",
       "      <td>same_relate</td>\n",
       "      <td>0.0110581</td>\n",
       "    </tr>\n",
       "    <tr>\n",
       "      <th>28</th>\n",
       "      <td>same_night</td>\n",
       "      <td>0.0107932</td>\n",
       "    </tr>\n",
       "    <tr>\n",
       "      <th>29</th>\n",
       "      <td>period_count_sender</td>\n",
       "      <td>0.0100133</td>\n",
       "    </tr>\n",
       "    <tr>\n",
       "      <th>...</th>\n",
       "      <td>...</td>\n",
       "      <td>...</td>\n",
       "    </tr>\n",
       "    <tr>\n",
       "      <th>44</th>\n",
       "      <td>petsOk_receiver</td>\n",
       "      <td>0.00393971</td>\n",
       "    </tr>\n",
       "    <tr>\n",
       "      <th>45</th>\n",
       "      <td>smokingOk_sender</td>\n",
       "      <td>0.00379031</td>\n",
       "    </tr>\n",
       "    <tr>\n",
       "      <th>46</th>\n",
       "      <td>same_term</td>\n",
       "      <td>0.00312589</td>\n",
       "    </tr>\n",
       "    <tr>\n",
       "      <th>47</th>\n",
       "      <td>same_gender</td>\n",
       "      <td>0.00279189</td>\n",
       "    </tr>\n",
       "    <tr>\n",
       "      <th>48</th>\n",
       "      <td>question_count_receiver</td>\n",
       "      <td>0.00212368</td>\n",
       "    </tr>\n",
       "    <tr>\n",
       "      <th>49</th>\n",
       "      <td>same_college</td>\n",
       "      <td>0.00196684</td>\n",
       "    </tr>\n",
       "    <tr>\n",
       "      <th>50</th>\n",
       "      <td>inRelationship_sender</td>\n",
       "      <td>0.00187832</td>\n",
       "    </tr>\n",
       "    <tr>\n",
       "      <th>51</th>\n",
       "      <td>isStudent_sender</td>\n",
       "      <td>0.00168654</td>\n",
       "    </tr>\n",
       "    <tr>\n",
       "      <th>52</th>\n",
       "      <td>question_count_sender</td>\n",
       "      <td>0.00160105</td>\n",
       "    </tr>\n",
       "    <tr>\n",
       "      <th>53</th>\n",
       "      <td>gender_receiver</td>\n",
       "      <td>0.00150738</td>\n",
       "    </tr>\n",
       "    <tr>\n",
       "      <th>54</th>\n",
       "      <td>has_picture_sender</td>\n",
       "      <td>0.00132759</td>\n",
       "    </tr>\n",
       "    <tr>\n",
       "      <th>55</th>\n",
       "      <td>has_linkedinId_receiver</td>\n",
       "      <td>0.00125647</td>\n",
       "    </tr>\n",
       "    <tr>\n",
       "      <th>56</th>\n",
       "      <td>has_facebookId_sender</td>\n",
       "      <td>0.00124195</td>\n",
       "    </tr>\n",
       "    <tr>\n",
       "      <th>57</th>\n",
       "      <td>isClean_sender</td>\n",
       "      <td>0.000984965</td>\n",
       "    </tr>\n",
       "    <tr>\n",
       "      <th>58</th>\n",
       "      <td>exclaim_count_sender</td>\n",
       "      <td>0.000861365</td>\n",
       "    </tr>\n",
       "    <tr>\n",
       "      <th>59</th>\n",
       "      <td>has_room_sender</td>\n",
       "      <td>0.000455382</td>\n",
       "    </tr>\n",
       "    <tr>\n",
       "      <th>60</th>\n",
       "      <td>same_type</td>\n",
       "      <td>0.000352539</td>\n",
       "    </tr>\n",
       "    <tr>\n",
       "      <th>61</th>\n",
       "      <td>has_about_sender</td>\n",
       "      <td>8.94609e-05</td>\n",
       "    </tr>\n",
       "    <tr>\n",
       "      <th>62</th>\n",
       "      <td>overlap_hobbies</td>\n",
       "      <td>0</td>\n",
       "    </tr>\n",
       "    <tr>\n",
       "      <th>63</th>\n",
       "      <td>same_work</td>\n",
       "      <td>0</td>\n",
       "    </tr>\n",
       "    <tr>\n",
       "      <th>64</th>\n",
       "      <td>same_smoking</td>\n",
       "      <td>0</td>\n",
       "    </tr>\n",
       "    <tr>\n",
       "      <th>65</th>\n",
       "      <td>same_clean</td>\n",
       "      <td>0</td>\n",
       "    </tr>\n",
       "    <tr>\n",
       "      <th>66</th>\n",
       "      <td>same_city</td>\n",
       "      <td>0</td>\n",
       "    </tr>\n",
       "    <tr>\n",
       "      <th>67</th>\n",
       "      <td>overlap_neighborhoods</td>\n",
       "      <td>0</td>\n",
       "    </tr>\n",
       "    <tr>\n",
       "      <th>68</th>\n",
       "      <td>overlap_amenities</td>\n",
       "      <td>0</td>\n",
       "    </tr>\n",
       "    <tr>\n",
       "      <th>69</th>\n",
       "      <td>isNight_receiver</td>\n",
       "      <td>0</td>\n",
       "    </tr>\n",
       "    <tr>\n",
       "      <th>70</th>\n",
       "      <td>has_room_receiver</td>\n",
       "      <td>0</td>\n",
       "    </tr>\n",
       "    <tr>\n",
       "      <th>71</th>\n",
       "      <td>has_linkedinId_sender</td>\n",
       "      <td>0</td>\n",
       "    </tr>\n",
       "    <tr>\n",
       "      <th>72</th>\n",
       "      <td>has_about_receiver</td>\n",
       "      <td>0</td>\n",
       "    </tr>\n",
       "    <tr>\n",
       "      <th>73</th>\n",
       "      <td>predicted_active_receiver</td>\n",
       "      <td>0</td>\n",
       "    </tr>\n",
       "  </tbody>\n",
       "</table>\n",
       "<p>74 rows × 2 columns</p>\n",
       "</div>"
      ],
      "text/plain": [
       "                      feature        value\n",
       "0                age_receiver     0.112021\n",
       "1          len_about_receiver    0.0892394\n",
       "2            urgency_receiver    0.0677629\n",
       "3                    distance    0.0505383\n",
       "4              minCost_sender    0.0434035\n",
       "5              maxCost_sender    0.0417146\n",
       "6              urgency_sender    0.0390941\n",
       "7         numRoommates_sender    0.0311809\n",
       "8            minCost_receiver    0.0295081\n",
       "9                     age_dif    0.0271157\n",
       "10      numRoommates_receiver    0.0256277\n",
       "11              term_receiver     0.024384\n",
       "12           maxCost_receiver    0.0240508\n",
       "13                 age_sender    0.0231364\n",
       "14              gender_sender    0.0218782\n",
       "15         isStudent_receiver    0.0203589\n",
       "16           tfidf_similarity    0.0201195\n",
       "17      period_count_receiver    0.0188777\n",
       "18    has_facebookId_receiver    0.0178234\n",
       "19               overlap_rent    0.0166226\n",
       "20       has_picture_receiver    0.0156513\n",
       "21           len_about_sender    0.0153471\n",
       "22      sentence_count_sender    0.0148884\n",
       "23           I_count_receiver    0.0132188\n",
       "24           isClean_receiver    0.0126563\n",
       "25              type_receiver    0.0121445\n",
       "26                term_sender    0.0113334\n",
       "27                same_relate    0.0110581\n",
       "28                 same_night    0.0107932\n",
       "29        period_count_sender    0.0100133\n",
       "..                        ...          ...\n",
       "44            petsOk_receiver   0.00393971\n",
       "45           smokingOk_sender   0.00379031\n",
       "46                  same_term   0.00312589\n",
       "47                same_gender   0.00279189\n",
       "48    question_count_receiver   0.00212368\n",
       "49               same_college   0.00196684\n",
       "50      inRelationship_sender   0.00187832\n",
       "51           isStudent_sender   0.00168654\n",
       "52      question_count_sender   0.00160105\n",
       "53            gender_receiver   0.00150738\n",
       "54         has_picture_sender   0.00132759\n",
       "55    has_linkedinId_receiver   0.00125647\n",
       "56      has_facebookId_sender   0.00124195\n",
       "57             isClean_sender  0.000984965\n",
       "58       exclaim_count_sender  0.000861365\n",
       "59            has_room_sender  0.000455382\n",
       "60                  same_type  0.000352539\n",
       "61           has_about_sender  8.94609e-05\n",
       "62            overlap_hobbies            0\n",
       "63                  same_work            0\n",
       "64               same_smoking            0\n",
       "65                 same_clean            0\n",
       "66                  same_city            0\n",
       "67      overlap_neighborhoods            0\n",
       "68          overlap_amenities            0\n",
       "69           isNight_receiver            0\n",
       "70          has_room_receiver            0\n",
       "71      has_linkedinId_sender            0\n",
       "72         has_about_receiver            0\n",
       "73  predicted_active_receiver            0\n",
       "\n",
       "[74 rows x 2 columns]"
      ]
     },
     "execution_count": 220,
     "metadata": {},
     "output_type": "execute_result"
    }
   ],
   "source": [
    "display_importances_trees().reset_index(drop=True)"
   ]
  },
  {
   "cell_type": "code",
   "execution_count": null,
   "metadata": {
    "collapsed": true
   },
   "outputs": [],
   "source": []
  },
  {
   "cell_type": "code",
   "execution_count": null,
   "metadata": {
    "collapsed": true
   },
   "outputs": [],
   "source": []
  },
  {
   "cell_type": "code",
   "execution_count": null,
   "metadata": {
    "collapsed": true
   },
   "outputs": [],
   "source": []
  },
  {
   "cell_type": "code",
   "execution_count": null,
   "metadata": {
    "collapsed": true
   },
   "outputs": [],
   "source": []
  },
  {
   "cell_type": "markdown",
   "metadata": {},
   "source": [
    "### Q1: Are users influenced by this low rate?\n",
    "- compare users who get a response quickly to those who don't?"
   ]
  }
 ],
 "metadata": {
  "kernelspec": {
   "display_name": "Python 3",
   "language": "python",
   "name": "python3"
  },
  "language_info": {
   "codemirror_mode": {
    "name": "ipython",
    "version": 3
   },
   "file_extension": ".py",
   "mimetype": "text/x-python",
   "name": "python",
   "nbconvert_exporter": "python",
   "pygments_lexer": "ipython3",
   "version": "3.6.3"
  }
 },
 "nbformat": 4,
 "nbformat_minor": 2
}
