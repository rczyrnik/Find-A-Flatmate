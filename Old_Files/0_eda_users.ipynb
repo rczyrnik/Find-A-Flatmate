{
 "cells": [
  {
   "cell_type": "code",
   "execution_count": 133,
   "metadata": {
    "collapsed": true
   },
   "outputs": [],
   "source": [
    "import pandas as pd\n",
    "import numpy as np\n",
    "import matplotlib.pyplot as plt\n",
    "%matplotlib inline\n",
    "\n",
    "# Location\n",
    "from shapely.geometry import Point\n",
    "from geopandas import GeoDataFrame\n",
    "import geopandas as gpd\n",
    "\n",
    "import my_pickle as mp\n",
    "\n",
    "import warnings\n",
    "warnings.filterwarnings('ignore')"
   ]
  },
  {
   "cell_type": "markdown",
   "metadata": {},
   "source": [
    "# READ IN DATA"
   ]
  },
  {
   "cell_type": "code",
   "execution_count": 134,
   "metadata": {},
   "outputs": [
    {
     "name": "stdout",
     "output_type": "stream",
     "text": [
      "Make sure we're not using ECT data\n",
      "2017-10-01 06:37:20.466000\n"
     ]
    }
   ],
   "source": [
    "user_df = mp.unjson_it('data_user').reset_index()\n",
    "user_df = user_df.rename(index=str,columns={'index':'uid'})\n",
    "user_df = mp.reinstate_date(user_df,['activeAt', 'available', 'birthday','created','updated'])\n",
    "user_df['const'] = 1\n",
    "\n",
    "convo_df = mp.unjson_it('data_convo')\n",
    "message_df = mp.unjson_it('data_message') \n",
    "master_df = mp.unjson_it('data_master')\n",
    "\n",
    "print(\"Make sure we're not using ECT data\")\n",
    "print(convo_df.timestamp.max())"
   ]
  },
  {
   "cell_type": "markdown",
   "metadata": {},
   "source": [
    "# SEPARATE INTO ACTIVE AND NOT ACTIVE"
   ]
  },
  {
   "cell_type": "code",
   "execution_count": 135,
   "metadata": {
    "collapsed": true
   },
   "outputs": [],
   "source": [
    "# Make lists of senders and receivers\n",
    "uid_receivers = set(convo_df.uid_receiver)\n",
    "uid_senders = set(convo_df.uid_sender)\n",
    "\n",
    "# Combine the lists\n",
    "uid_active = uid_senders.union(uid_receivers)"
   ]
  },
  {
   "cell_type": "code",
   "execution_count": 136,
   "metadata": {},
   "outputs": [
    {
     "name": "stdout",
     "output_type": "stream",
     "text": [
      "0.22 of onboarded users are active\n"
     ]
    }
   ],
   "source": [
    "# Create a flag for active\n",
    "user_df['active'] = user_df.uid.apply(lambda x: x in uid_active)\n",
    "print(\"{:.3} of onboarded users are active\".format(user_df.active.sum()/len(user_df)))"
   ]
  },
  {
   "cell_type": "code",
   "execution_count": 1,
   "metadata": {},
   "outputs": [
    {
     "ename": "NameError",
     "evalue": "name 'user_df' is not defined",
     "output_type": "error",
     "traceback": [
      "\u001b[0;31m---------------------------------------------------------------------------\u001b[0m",
      "\u001b[0;31mNameError\u001b[0m                                 Traceback (most recent call last)",
      "\u001b[0;32m<ipython-input-1-710d6b55f3d5>\u001b[0m in \u001b[0;36m<module>\u001b[0;34m()\u001b[0m\n\u001b[0;32m----> 1\u001b[0;31m \u001b[0muser_df\u001b[0m\u001b[0;34m\u001b[0m\u001b[0m\n\u001b[0m",
      "\u001b[0;31mNameError\u001b[0m: name 'user_df' is not defined"
     ]
    }
   ],
   "source": []
  },
  {
   "cell_type": "markdown",
   "metadata": {},
   "source": [
    "# COMPARE 'ACTIVE' VS 'NOT ACTIVE' USERS\n",
    "\n",
    "'active' = sent or received at least one message"
   ]
  },
  {
   "cell_type": "code",
   "execution_count": 137,
   "metadata": {
    "collapsed": true
   },
   "outputs": [],
   "source": [
    "# Separate into two dataframes\n",
    "active_df = user_df[user_df['active']==True]\n",
    "not_active_df = user_df[user_df['active']==False]"
   ]
  },
  {
   "cell_type": "markdown",
   "metadata": {},
   "source": [
    "# GET CITY DATAFRAME WITH ACTIVE/NOT ACTIVE COUNTS"
   ]
  },
  {
   "cell_type": "code",
   "execution_count": 138,
   "metadata": {
    "collapsed": true
   },
   "outputs": [],
   "source": [
    "cities = not_active_df.groupby(['metro']).count().const.to_dict().keys()\n",
    "not_active_count = not_active_df.groupby(['metro']).count().const.to_dict()\n",
    "active_count = active_df.groupby(['metro']).count().const.to_dict()"
   ]
  },
  {
   "cell_type": "code",
   "execution_count": 139,
   "metadata": {
    "collapsed": true
   },
   "outputs": [],
   "source": [
    "city_df = pd.DataFrame(list(cities),[1]*len(cities))\n",
    "city_df.columns = ['metro']"
   ]
  },
  {
   "cell_type": "code",
   "execution_count": 140,
   "metadata": {},
   "outputs": [
    {
     "data": {
      "text/html": [
       "<div>\n",
       "<style>\n",
       "    .dataframe thead tr:only-child th {\n",
       "        text-align: right;\n",
       "    }\n",
       "\n",
       "    .dataframe thead th {\n",
       "        text-align: left;\n",
       "    }\n",
       "\n",
       "    .dataframe tbody tr th {\n",
       "        vertical-align: top;\n",
       "    }\n",
       "</style>\n",
       "<table border=\"1\" class=\"dataframe\">\n",
       "  <thead>\n",
       "    <tr style=\"text-align: right;\">\n",
       "      <th></th>\n",
       "      <th>metro</th>\n",
       "      <th>active_users</th>\n",
       "      <th>not_active_users</th>\n",
       "      <th>percent_active</th>\n",
       "    </tr>\n",
       "  </thead>\n",
       "  <tbody>\n",
       "    <tr>\n",
       "      <th>1</th>\n",
       "      <td>Atlanta</td>\n",
       "      <td>22</td>\n",
       "      <td>795</td>\n",
       "      <td>0.027673</td>\n",
       "    </tr>\n",
       "    <tr>\n",
       "      <th>1</th>\n",
       "      <td>Boston</td>\n",
       "      <td>8</td>\n",
       "      <td>467</td>\n",
       "      <td>0.017131</td>\n",
       "    </tr>\n",
       "  </tbody>\n",
       "</table>\n",
       "</div>"
      ],
      "text/plain": [
       "     metro  active_users  not_active_users  percent_active\n",
       "1  Atlanta            22               795        0.027673\n",
       "1   Boston             8               467        0.017131"
      ]
     },
     "execution_count": 140,
     "metadata": {},
     "output_type": "execute_result"
    }
   ],
   "source": [
    "city_df['active_users'] = city_df.metro.apply(lambda x: active_count[x] if x in active_count.keys() else 0)\n",
    "city_df['not_active_users'] = city_df.metro.apply(lambda x: not_active_count[x])\n",
    "city_df['percent_active'] = city_df['active_users']/city_df['not_active_users']\n",
    "city_df.head(2)"
   ]
  },
  {
   "cell_type": "code",
   "execution_count": 17,
   "metadata": {
    "collapsed": true,
    "scrolled": true
   },
   "outputs": [],
   "source": [
    "# fig, ax = plt.subplots(figsize = (16,6))\n",
    "# plt.bar(city_df.percent_active)"
   ]
  },
  {
   "cell_type": "code",
   "execution_count": 141,
   "metadata": {},
   "outputs": [
    {
     "data": {
      "text/plain": [
       "Index(['uid', 'I_count', 'I_ratio', 'about', 'activeAt', 'age', 'amenities',\n",
       "       'available', 'birthday', 'college', 'created', 'exclaim_count',\n",
       "       'exclaim_ratio', 'facebookId', 'gender', 'has_about', 'has_facebookId',\n",
       "       'has_linkedinId', 'has_picture', 'has_room', 'hobbies', 'hometownCity',\n",
       "       'hometownCountry', 'hometownState', 'inRelationship', 'isClean',\n",
       "       'isNight', 'isStudent', 'len_about', 'linkedinId', 'location',\n",
       "       'maxCost', 'metro', 'minCost', 'neighborhoods', 'numRoommates',\n",
       "       'onboarded', 'period_count', 'period_ratio', 'petsOk', 'picture',\n",
       "       'question_count', 'question_ratio', 'sentence_count', 'sentence_ratio',\n",
       "       'smokingOk', 'term', 'timeframe', 'type', 'updated', 'work', 'const',\n",
       "       'active'],\n",
       "      dtype='object')"
      ]
     },
     "execution_count": 141,
     "metadata": {},
     "output_type": "execute_result"
    }
   ],
   "source": [
    "active_df.columns"
   ]
  },
  {
   "cell_type": "markdown",
   "metadata": {},
   "source": [
    "## Gender"
   ]
  },
  {
   "cell_type": "code",
   "execution_count": 143,
   "metadata": {
    "collapsed": true
   },
   "outputs": [],
   "source": [
    "active_users = len(active_df)\n",
    "active_males = active_df.gender.values.sum()\n",
    "active_females = active_users-active_males"
   ]
  },
  {
   "cell_type": "code",
   "execution_count": 144,
   "metadata": {
    "collapsed": true
   },
   "outputs": [],
   "source": [
    "not_active_users = len(not_active_df)\n",
    "not_active_males = not_active_df.gender.values.sum()\n",
    "not_active_females = not_active_users-active_males"
   ]
  },
  {
   "cell_type": "code",
   "execution_count": 145,
   "metadata": {
    "collapsed": true
   },
   "outputs": [],
   "source": [
    "all_males = active_males+not_active_males\n",
    "all_females = active_females+not_active_females"
   ]
  },
  {
   "cell_type": "code",
   "execution_count": 131,
   "metadata": {},
   "outputs": [
    {
     "name": "stdout",
     "output_type": "stream",
     "text": [
      " MALE VS FEMALE ACTIVE USERS \n",
      "\n",
      "         Active  Not-Active     Percent-Active\n",
      " Male\t 2434 \t 10467 \t\t0.1887\n",
      " Female\t 3223 \t 17647\t\t0.1544\n"
     ]
    }
   ],
   "source": [
    "print(\" MALE VS FEMALE ACTIVE USERS \\n\")\n",
    "print(\"         Active  Not-Active     Percent-Active\")\n",
    "print(\" Male\\t {} \\t {} \\t\\t{:.4}\".format(active_males,not_active_males,active_males/all_males))\n",
    "print(\" Female\\t {} \\t {}\\t\\t{:.4}\".format(active_females,not_active_females,active_females/all_females))"
   ]
  },
  {
   "cell_type": "markdown",
   "metadata": {},
   "source": [
    "## Age"
   ]
  },
  {
   "cell_type": "code",
   "execution_count": 146,
   "metadata": {},
   "outputs": [
    {
     "data": {
      "image/png": "[encoded data removed]",
      "text/plain": [
       "<matplotlib.figure.Figure at 0x11abc0710>"
      ]
     },
     "metadata": {},
     "output_type": "display_data"
    },
    {
     "name": "stdout",
     "output_type": "stream",
     "text": [
      "age active users: 26.875729185\n",
      "age not active users: 28.616005179\n",
      "\n",
      "\n"
     ]
    }
   ],
   "source": [
    "plt.title('Comparing Active and Not Active Users',fontsize=24) \n",
    "plot_feature('age', bins=range(16,80))"
   ]
  },
  {
   "cell_type": "code",
   "execution_count": 156,
   "metadata": {},
   "outputs": [
    {
     "data": {
      "image/png": "[encoded data removed]",
      "text/plain": [
       "<matplotlib.figure.Figure at 0x11ce9e588>"
      ]
     },
     "metadata": {},
     "output_type": "display_data"
    },
    {
     "name": "stdout",
     "output_type": "stream",
     "text": [
      "minCost active users: 636.288998358\n",
      "minCost not active users: 636.757386424\n",
      "\n",
      "\n"
     ]
    },
    {
     "data": {
      "text/plain": [
       "Text(0.5,1,'Comparing Active and Not Active Users')"
      ]
     },
     "execution_count": 156,
     "metadata": {},
     "output_type": "execute_result"
    },
    {
     "data": {
      "image/png": "[encoded data removed]",
      "text/plain": [
       "<matplotlib.figure.Figure at 0x11cf339e8>"
      ]
     },
     "metadata": {},
     "output_type": "display_data"
    }
   ],
   "source": [
    "col = 'minCost'\n",
    "bins=bins=range(0,2000, 50)\n",
    "not_active = not_active_df[col].hist(figsize = (16,4), bins = bins, normed=True,alpha = .5, color='r')\n",
    "active = active_df[col].hist(figsize = (16,4), bins = bins,normed=True, alpha = .5)\n",
    "\n",
    "plt.xlabel(\"Stated Minimum Cost\",fontsize=14)\n",
    "plt.ylabel('Number of Users',fontsize=14)\n",
    "plt.legend(['Active',\"Not Active\"])\n",
    "plt.show()\n",
    "print(col+\" active users: {:.9f}\".format(active_df[col].mean()))\n",
    "print(col+\" not active users: {:.9f}\\n\\n\".format(not_active_df[col].mean()))\n",
    "\n",
    "plt.title('Comparing Active and Not Active Users',fontsize=24) \n"
   ]
  },
  {
   "cell_type": "code",
   "execution_count": 151,
   "metadata": {
    "collapsed": true
   },
   "outputs": [],
   "source": [
    "# fn to display plot\n",
    "def plot_feature(col, bins=None):\n",
    "    \n",
    "    not_active = not_active_df[col].hist(figsize = (16,4), bins = bins, normed=True,alpha = .5, color='r')\n",
    "    active = active_df[col].hist(figsize = (16,4), bins = bins,normed=True, alpha = .5)\n",
    "    \n",
    "    plt.xlabel(col,fontsize=14)\n",
    "    plt.ylabel('Number of Users',fontsize=14)\n",
    "    plt.legend(['Active',\"Not Active\"])\n",
    "    plt.show()\n",
    "    print(col+\" active users: {:.9f}\".format(active_df[col].mean()))\n",
    "    print(col+\" not active users: {:.9f}\\n\\n\".format(not_active_df[col].mean()))"
   ]
  },
  {
   "cell_type": "code",
   "execution_count": 15,
   "metadata": {
    "collapsed": true
   },
   "outputs": [],
   "source": [
    "# plt.title('Comparing Active and Not Active Users',fontsize=24) \n",
    "# plot_feature('sentence_count', bins=range(1,20,1))"
   ]
  },
  {
   "cell_type": "markdown",
   "metadata": {},
   "source": [
    "## Has About"
   ]
  },
  {
   "cell_type": "code",
   "execution_count": 132,
   "metadata": {},
   "outputs": [
    {
     "data": {
      "image/png": "[encoded data removed]",
      "text/plain": [
       "<matplotlib.figure.Figure at 0x11cf2dbe0>"
      ]
     },
     "metadata": {},
     "output_type": "display_data"
    },
    {
     "name": "stdout",
     "output_type": "stream",
     "text": [
      "len_about active users: 108.423369277\n",
      "len_about not active users: 45.760270903\n",
      "\n",
      "\n"
     ]
    }
   ],
   "source": [
    "plt.title('User Engagement',fontsize=18) \n",
    "col='len_about'\n",
    "bins=range(1,1000,10)\n",
    "\n",
    "not_active = not_active_df[col].hist(figsize = (10,4), bins = bins, alpha = 1)\n",
    "active = active_df[col].hist(figsize = (10,4), bins = bins, alpha = 1)\n",
    "\n",
    "plt.xlabel(\"Words in a User\\'s Description\",fontsize=14)\n",
    "plt.ylabel('Number of Users',fontsize=14)\n",
    "plt.legend([\"Not Active\",'Active'],fontsize=14)\n",
    "plt.show()\n",
    "print(col+\" active users: {:.9f}\".format(active_df[col].mean()))\n",
    "print(col+\" not active users: {:.9f}\\n\\n\".format(not_active_df[col].mean()))"
   ]
  },
  {
   "cell_type": "code",
   "execution_count": 101,
   "metadata": {},
   "outputs": [
    {
     "data": {
      "text/plain": [
       "25738"
      ]
     },
     "execution_count": 101,
     "metadata": {},
     "output_type": "execute_result"
    }
   ],
   "source": [
    "len(user_df)"
   ]
  },
  {
   "cell_type": "code",
   "execution_count": 104,
   "metadata": {},
   "outputs": [
    {
     "data": {
      "text/plain": [
       "0.21979174761053694"
      ]
     },
     "execution_count": 104,
     "metadata": {},
     "output_type": "execute_result"
    }
   ],
   "source": [
    "len(active_df)/len(user_df)"
   ]
  },
  {
   "cell_type": "code",
   "execution_count": 108,
   "metadata": {},
   "outputs": [
    {
     "data": {
      "image/png": "[encoded data removed]",
      "text/plain": [
       "<matplotlib.figure.Figure at 0x1273adac8>"
      ]
     },
     "metadata": {},
     "output_type": "display_data"
    }
   ],
   "source": [
    "bin_size =50\n",
    "max_x = 801\n",
    "range_val= int(max_x/bin_size)\n",
    "active_df['about_bin'] = active_df.len_about.apply(lambda x: int(x/bin_size ))\n",
    "not_active_df['about_bin'] = not_active_df.len_about.apply(lambda x: int(x/bin_size ))\n",
    "counts_active = active_df.groupby(['about_bin']).uid.count()\n",
    "counts_not_active = not_active_df.groupby(['about_bin']).uid.count()\n",
    "all_counts = pd.concat([counts_active,counts_not_active], axis=1)\n",
    "all_counts.columns = ['active', 'not_active']\n",
    "all_counts = all_counts.fillna(0)\n",
    "all_counts['total'] = all_counts.active+all_counts.not_active\n",
    "all_counts['percent_active'] = all_counts.active/all_counts.total\n",
    "all_counts['percent_not_active'] = all_counts.not_active/all_counts.total\n",
    "plt.plot(range(0,range_val*bin_size,bin_size),all_counts['percent_active'][0:range_val])\n",
    "plt.ylim( (0, 1) )  # set the xlim to xmin, xmax\n",
    "plt.title('User Engagement' )\n",
    "plt.xlabel('Words in a User\\'s Description')\n",
    "plt.ylabel(\"Probability of Being \\'Active\\'\")\n",
    "plt.show()"
   ]
  },
  {
   "cell_type": "code",
   "execution_count": 63,
   "metadata": {},
   "outputs": [
    {
     "data": {
      "text/plain": [
       "100"
      ]
     },
     "execution_count": 63,
     "metadata": {},
     "output_type": "execute_result"
    }
   ],
   "source": [
    "len(all_counts['percent_active'][0:100])"
   ]
  },
  {
   "cell_type": "code",
   "execution_count": 77,
   "metadata": {},
   "outputs": [
    {
     "ename": "ModuleNotFoundError",
     "evalue": "No module named 'pandas.DataFrame'",
     "output_type": "error",
     "traceback": [
      "\u001b[0;31m---------------------------------------------------------------------------\u001b[0m",
      "\u001b[0;31mModuleNotFoundError\u001b[0m                       Traceback (most recent call last)",
      "\u001b[0;32m<ipython-input-77-4f9957294430>\u001b[0m in \u001b[0;36m<module>\u001b[0;34m()\u001b[0m\n\u001b[0;32m----> 1\u001b[0;31m \u001b[0;32mfrom\u001b[0m \u001b[0mpandas\u001b[0m\u001b[0;34m.\u001b[0m\u001b[0mDataFrame\u001b[0m\u001b[0;34m.\u001b[0m\u001b[0mplot\u001b[0m \u001b[0;32mimport\u001b[0m \u001b[0mkde\u001b[0m\u001b[0;34m\u001b[0m\u001b[0m\n\u001b[0m",
      "\u001b[0;31mModuleNotFoundError\u001b[0m: No module named 'pandas.DataFrame'"
     ]
    }
   ],
   "source": [
    "from pandas.DataFrame.plot import kde"
   ]
  },
  {
   "cell_type": "code",
   "execution_count": null,
   "metadata": {
    "collapsed": true
   },
   "outputs": [],
   "source": []
  },
  {
   "cell_type": "code",
   "execution_count": null,
   "metadata": {
    "collapsed": true
   },
   "outputs": [],
   "source": []
  },
  {
   "cell_type": "code",
   "execution_count": null,
   "metadata": {
    "collapsed": true
   },
   "outputs": [],
   "source": []
  },
  {
   "cell_type": "code",
   "execution_count": null,
   "metadata": {
    "collapsed": true
   },
   "outputs": [],
   "source": [
    "mp.json_it(user_df,'data_user_active')"
   ]
  },
  {
   "cell_type": "code",
   "execution_count": null,
   "metadata": {
    "collapsed": true
   },
   "outputs": [],
   "source": []
  }
 ],
 "metadata": {
  "kernelspec": {
   "display_name": "Python 3",
   "language": "python",
   "name": "python3"
  },
  "language_info": {
   "codemirror_mode": {
    "name": "ipython",
    "version": 3
   },
   "file_extension": ".py",
   "mimetype": "text/x-python",
   "name": "python",
   "nbconvert_exporter": "python",
   "pygments_lexer": "ipython3",
   "version": "3.6.3"
  }
 },
 "nbformat": 4,
 "nbformat_minor": 2
}
