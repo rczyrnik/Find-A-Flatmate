{
 "cells": [
  {
   "cell_type": "code",
   "execution_count": null,
   "metadata": {
    "collapsed": true
   },
   "outputs": [],
   "source": [
    "import my_pickle as mp\n",
    "import my_features as mf\n",
    "\n",
    "from importlib import reload"
   ]
  },
  {
   "cell_type": "code",
   "execution_count": null,
   "metadata": {},
   "outputs": [],
   "source": [
    "# reload(mp)\n",
    "reload(mf)"
   ]
  },
  {
   "cell_type": "markdown",
   "metadata": {},
   "source": [
    "# LOAD DATA FRAMES"
   ]
  },
  {
   "cell_type": "code",
   "execution_count": 2,
   "metadata": {
    "collapsed": true
   },
   "outputs": [],
   "source": [
    "# Load User Data\n",
    "user_df = mp.unjson_it('data_user')\n",
    "user_df = mp.reinstate_date(user_df,['activeAt', 'available', 'birthday','created','updated'])"
   ]
  },
  {
   "cell_type": "code",
   "execution_count": 3,
   "metadata": {
    "collapsed": true
   },
   "outputs": [],
   "source": [
    "# Load Conversation Data\n",
    "convo_df = mp.unjson_it('data_convo')"
   ]
  },
  {
   "cell_type": "code",
   "execution_count": null,
   "metadata": {
    "collapsed": true
   },
   "outputs": [],
   "source": [
    "# Import Message DF\n",
    "message_df = mp.unjson_it('data_message')"
   ]
  },
  {
   "cell_type": "markdown",
   "metadata": {},
   "source": [
    "# MERGE USER DATA TO CONVERSATION DATA"
   ]
  },
  {
   "cell_type": "code",
   "execution_count": 4,
   "metadata": {
    "collapsed": true
   },
   "outputs": [],
   "source": [
    "# add a flag so we can identify rows with missing user data\n",
    "user_df['flag'] = True\n",
    "\n",
    "# get labels for new columns\n",
    "old_names = user_df.columns\n",
    "new_names = {old:old+'_sender' for old in old_names}\n",
    "\n",
    "# merge and rename\n",
    "master_df = convo_df.join(user_df, on='uid_sender') \\\n",
    "        .join(user_df, on='uid_receiver', rsuffix=\"_receiver\") \\\n",
    "        .rename(index=str, columns = new_names)"
   ]
  },
  {
   "cell_type": "code",
   "execution_count": 5,
   "metadata": {},
   "outputs": [
    {
     "data": {
      "text/html": [
       "<div>\n",
       "<style>\n",
       "    .dataframe thead tr:only-child th {\n",
       "        text-align: right;\n",
       "    }\n",
       "\n",
       "    .dataframe thead th {\n",
       "        text-align: left;\n",
       "    }\n",
       "\n",
       "    .dataframe tbody tr th {\n",
       "        vertical-align: top;\n",
       "    }\n",
       "</style>\n",
       "<table border=\"1\" class=\"dataframe\">\n",
       "  <thead>\n",
       "    <tr style=\"text-align: right;\">\n",
       "      <th></th>\n",
       "      <th>conversation_id</th>\n",
       "      <th>convo_length</th>\n",
       "      <th>len_receiver</th>\n",
       "      <th>len_sender</th>\n",
       "      <th>mid_receiver</th>\n",
       "      <th>mid_sender</th>\n",
       "      <th>response</th>\n",
       "      <th>time_to_respond</th>\n",
       "      <th>timestamp</th>\n",
       "      <th>timestamp_receiver</th>\n",
       "      <th>...</th>\n",
       "      <th>question_ratio_receiver</th>\n",
       "      <th>sentence_count_receiver</th>\n",
       "      <th>sentence_ratio_receiver</th>\n",
       "      <th>smokingOk_receiver</th>\n",
       "      <th>term_receiver</th>\n",
       "      <th>timeframe_receiver</th>\n",
       "      <th>type_receiver</th>\n",
       "      <th>updated_receiver</th>\n",
       "      <th>work_receiver</th>\n",
       "      <th>flag_receiver</th>\n",
       "    </tr>\n",
       "  </thead>\n",
       "  <tbody>\n",
       "    <tr>\n",
       "      <th>100</th>\n",
       "      <td>1Jqbth3nqH0EWNOmyQmW</td>\n",
       "      <td>1</td>\n",
       "      <td>NaN</td>\n",
       "      <td>17.0</td>\n",
       "      <td>None</td>\n",
       "      <td>-Kt7F-lKnoanl54lMnUO</td>\n",
       "      <td>False</td>\n",
       "      <td>NaN</td>\n",
       "      <td>2017-09-03 14:58:30.759</td>\n",
       "      <td>NaT</td>\n",
       "      <td>...</td>\n",
       "      <td>0.0</td>\n",
       "      <td>6.0</td>\n",
       "      <td>0.015789</td>\n",
       "      <td>0.0</td>\n",
       "      <td>NaN</td>\n",
       "      <td>NaN</td>\n",
       "      <td>NaN</td>\n",
       "      <td>2018-01-12 14:10:21.838</td>\n",
       "      <td>Insightly</td>\n",
       "      <td>True</td>\n",
       "    </tr>\n",
       "    <tr>\n",
       "      <th>10002</th>\n",
       "      <td>caEwxVJXPTGyR6cCT5K8</td>\n",
       "      <td>1</td>\n",
       "      <td>NaN</td>\n",
       "      <td>9.0</td>\n",
       "      <td>None</td>\n",
       "      <td>-KhP4gs1cj3-MfN7aZkb</td>\n",
       "      <td>False</td>\n",
       "      <td>NaN</td>\n",
       "      <td>2017-04-10 22:58:15.738</td>\n",
       "      <td>NaT</td>\n",
       "      <td>...</td>\n",
       "      <td>0.0</td>\n",
       "      <td>10.0</td>\n",
       "      <td>0.022272</td>\n",
       "      <td>1.0</td>\n",
       "      <td>NaN</td>\n",
       "      <td>NaN</td>\n",
       "      <td>NaN</td>\n",
       "      <td>2018-01-12 10:40:00.228</td>\n",
       "      <td>Shamblott Family Dentistry</td>\n",
       "      <td>True</td>\n",
       "    </tr>\n",
       "    <tr>\n",
       "      <th>10003</th>\n",
       "      <td>caZHBg3cEbGhtafu1Ef5</td>\n",
       "      <td>1</td>\n",
       "      <td>NaN</td>\n",
       "      <td>36.0</td>\n",
       "      <td>None</td>\n",
       "      <td>-KnNpug-1BJr75KDw7lH</td>\n",
       "      <td>False</td>\n",
       "      <td>NaN</td>\n",
       "      <td>2017-06-24 06:43:51.751</td>\n",
       "      <td>NaT</td>\n",
       "      <td>...</td>\n",
       "      <td>0.0</td>\n",
       "      <td>1.0</td>\n",
       "      <td>0.005319</td>\n",
       "      <td>1.0</td>\n",
       "      <td>12.0</td>\n",
       "      <td>NaN</td>\n",
       "      <td>1.0</td>\n",
       "      <td>2018-01-12 12:48:19.532</td>\n",
       "      <td>None</td>\n",
       "      <td>True</td>\n",
       "    </tr>\n",
       "    <tr>\n",
       "      <th>10008</th>\n",
       "      <td>ccY3lAJp8URACdaEvb0s</td>\n",
       "      <td>1</td>\n",
       "      <td>NaN</td>\n",
       "      <td>24.0</td>\n",
       "      <td>None</td>\n",
       "      <td>-KuB6nmPi4W96oF6J_pc</td>\n",
       "      <td>False</td>\n",
       "      <td>NaN</td>\n",
       "      <td>2017-09-16 19:16:51.128</td>\n",
       "      <td>NaT</td>\n",
       "      <td>...</td>\n",
       "      <td>0.0</td>\n",
       "      <td>0.0</td>\n",
       "      <td>0.000000</td>\n",
       "      <td>1.0</td>\n",
       "      <td>24.0</td>\n",
       "      <td>8.096447e+09</td>\n",
       "      <td>1.0</td>\n",
       "      <td>2018-01-12 16:26:34.803</td>\n",
       "      <td>The Black Cat</td>\n",
       "      <td>True</td>\n",
       "    </tr>\n",
       "    <tr>\n",
       "      <th>10009</th>\n",
       "      <td>ccYEEH0Ug7FH2hR293u1</td>\n",
       "      <td>2</td>\n",
       "      <td>26.0</td>\n",
       "      <td>16.0</td>\n",
       "      <td>-KindiRhJWOmeQ0Nt43Q</td>\n",
       "      <td>-KimFk44pXMwVVvWqAVl</td>\n",
       "      <td>True</td>\n",
       "      <td>0.0</td>\n",
       "      <td>2017-04-28 01:53:07.603</td>\n",
       "      <td>2017-04-28 08:21:51.716</td>\n",
       "      <td>...</td>\n",
       "      <td>0.0</td>\n",
       "      <td>5.0</td>\n",
       "      <td>0.020000</td>\n",
       "      <td>0.0</td>\n",
       "      <td>12.0</td>\n",
       "      <td>NaN</td>\n",
       "      <td>1.0</td>\n",
       "      <td>2018-01-12 11:18:39.313</td>\n",
       "      <td>None</td>\n",
       "      <td>True</td>\n",
       "    </tr>\n",
       "  </tbody>\n",
       "</table>\n",
       "<p>5 rows × 114 columns</p>\n",
       "</div>"
      ],
      "text/plain": [
       "            conversation_id  convo_length  len_receiver  len_sender  \\\n",
       "100    1Jqbth3nqH0EWNOmyQmW             1           NaN        17.0   \n",
       "10002  caEwxVJXPTGyR6cCT5K8             1           NaN         9.0   \n",
       "10003  caZHBg3cEbGhtafu1Ef5             1           NaN        36.0   \n",
       "10008  ccY3lAJp8URACdaEvb0s             1           NaN        24.0   \n",
       "10009  ccYEEH0Ug7FH2hR293u1             2          26.0        16.0   \n",
       "\n",
       "               mid_receiver            mid_sender  response  time_to_respond  \\\n",
       "100                    None  -Kt7F-lKnoanl54lMnUO     False              NaN   \n",
       "10002                  None  -KhP4gs1cj3-MfN7aZkb     False              NaN   \n",
       "10003                  None  -KnNpug-1BJr75KDw7lH     False              NaN   \n",
       "10008                  None  -KuB6nmPi4W96oF6J_pc     False              NaN   \n",
       "10009  -KindiRhJWOmeQ0Nt43Q  -KimFk44pXMwVVvWqAVl      True              0.0   \n",
       "\n",
       "                    timestamp      timestamp_receiver      ...       \\\n",
       "100   2017-09-03 14:58:30.759                     NaT      ...        \n",
       "10002 2017-04-10 22:58:15.738                     NaT      ...        \n",
       "10003 2017-06-24 06:43:51.751                     NaT      ...        \n",
       "10008 2017-09-16 19:16:51.128                     NaT      ...        \n",
       "10009 2017-04-28 01:53:07.603 2017-04-28 08:21:51.716      ...        \n",
       "\n",
       "      question_ratio_receiver sentence_count_receiver  \\\n",
       "100                       0.0                     6.0   \n",
       "10002                     0.0                    10.0   \n",
       "10003                     0.0                     1.0   \n",
       "10008                     0.0                     0.0   \n",
       "10009                     0.0                     5.0   \n",
       "\n",
       "       sentence_ratio_receiver  smokingOk_receiver term_receiver  \\\n",
       "100                   0.015789                 0.0           NaN   \n",
       "10002                 0.022272                 1.0           NaN   \n",
       "10003                 0.005319                 1.0          12.0   \n",
       "10008                 0.000000                 1.0          24.0   \n",
       "10009                 0.020000                 0.0          12.0   \n",
       "\n",
       "      timeframe_receiver  type_receiver        updated_receiver  \\\n",
       "100                  NaN            NaN 2018-01-12 14:10:21.838   \n",
       "10002                NaN            NaN 2018-01-12 10:40:00.228   \n",
       "10003                NaN            1.0 2018-01-12 12:48:19.532   \n",
       "10008       8.096447e+09            1.0 2018-01-12 16:26:34.803   \n",
       "10009                NaN            1.0 2018-01-12 11:18:39.313   \n",
       "\n",
       "                     work_receiver flag_receiver  \n",
       "100                      Insightly          True  \n",
       "10002  Shamblott Family Dentistry           True  \n",
       "10003                         None          True  \n",
       "10008               The Black Cat           True  \n",
       "10009                         None          True  \n",
       "\n",
       "[5 rows x 114 columns]"
      ]
     },
     "execution_count": 5,
     "metadata": {},
     "output_type": "execute_result"
    }
   ],
   "source": [
    "master_df.head()"
   ]
  },
  {
   "cell_type": "markdown",
   "metadata": {},
   "source": [
    "# DROP CONVERSATIONS WITH MISSING USER DATA"
   ]
  },
  {
   "cell_type": "code",
   "execution_count": null,
   "metadata": {},
   "outputs": [],
   "source": [
    "initial_len = len(master_df)\n",
    "\n",
    "# add False values\n",
    "master_df.flag_receiver = master_df.flag_receiver.apply(lambda x: x if x==True else False)\n",
    "\n",
    "# keep only rows with the flag\n",
    "master_df = master_df[master_df.flag_receiver]\n",
    "\n",
    "# see how many conversations we lost\n",
    "print(\"{} conversations were removed because they were missing user data\".format(initial_len-len(master_df)))"
   ]
  },
  {
   "cell_type": "markdown",
   "metadata": {},
   "source": [
    "# ADD FEATURES"
   ]
  },
  {
   "cell_type": "code",
   "execution_count": null,
   "metadata": {},
   "outputs": [],
   "source": [
    "# get most of the features\n",
    "master_df = mf.get_features(master_df)"
   ]
  },
  {
   "cell_type": "code",
   "execution_count": null,
   "metadata": {
    "collapsed": true
   },
   "outputs": [],
   "source": [
    "# add nlp stuff (should be better integrated)\n",
    "text_similarity_df = mp.unjson_it('data_text_similarity')\n",
    "master_df['count_similarity'] = text_similarity_df['count_similarity']\n",
    "master_df['tfidf_similarity'] = text_similarity_df['tfidf_similarity']"
   ]
  },
  {
   "cell_type": "markdown",
   "metadata": {},
   "source": [
    "# CONVERT TO X AND y"
   ]
  },
  {
   "cell_type": "code",
   "execution_count": null,
   "metadata": {
    "collapsed": true
   },
   "outputs": [],
   "source": [
    "keep_X = ['I_count_receiver', 'I_count_sender',  \n",
    "        'age_dif', 'age_receiver', 'age_sender', 'distance', \n",
    "        'exclaim_count_receiver','exclaim_count_sender', 'gender_receiver', 'gender_sender',\n",
    "        'has_about_receiver', 'has_about_sender', 'has_facebookId_receiver','has_facebookId_sender',\n",
    "        'has_linkedinId_receiver','has_linkedinId_sender', 'has_picture_receiver','has_picture_sender', \n",
    "        'has_room_receiver', 'has_room_sender','inRelationship_receiver', 'inRelationship_sender',\n",
    "        'isClean_receiver', 'isClean_sender', 'isNight_receiver','isNight_sender', \n",
    "        'isStudent_receiver', 'isStudent_sender','len_about_receiver', 'len_about_sender',\n",
    "        'maxCost_receiver','maxCost_sender','minCost_receiver', 'minCost_sender',\n",
    "        'numRoommates_receiver','numRoommates_sender',\n",
    "          'overlap_amenities', 'overlap_hobbies','overlap_neighborhoods','overlap_rent','overlap_roommate',\n",
    "        'period_count_receiver', 'period_count_sender','petsOk_receiver','petsOk_sender',\n",
    "        'question_count_receiver', 'question_count_sender',\n",
    "        'same_city', 'same_clean',\n",
    "        'same_college', 'same_country', 'same_gender', 'same_metro',\n",
    "        'same_night', 'same_relate', 'same_smoking', 'same_state',\n",
    "        'same_student', 'same_term', 'same_type', 'same_work',\n",
    "        'sentence_count_receiver', 'sentence_count_sender',\n",
    "        'smokingOk_receiver', 'smokingOk_sender', 'term_receiver','term_sender', \n",
    "        'type_receiver', 'type_sender','urgency_receiver', 'urgency_sender']\n",
    "   \n",
    "keep_y = ['convo_length','response']\n",
    "          \n",
    "drop = ['I_ratio_receiver', 'I_ratio_sender','about_receiver', 'about_sender', \n",
    "        'activeAt_receiver', 'activeAt_sender',\n",
    "        'amenities_receiver', 'amenities_sender','available_receiver', 'available_sender', \n",
    "        'birthday_receiver', 'birthday_sender',\n",
    "        'college_receiver', 'college_sender','created_receiver', 'created_sender',\n",
    "        'exclaim_ratio_receiver','exclaim_ratio_sender',\n",
    "        'facebookId_receiver', 'facebookId_sender', 'flag_receiver', 'flag_sender',\n",
    "        'hobbies_receiver', 'hobbies_sender','hometownCity_receiver', 'hometownCity_sender',\n",
    "        'hometownCountry_receiver', 'hometownCountry_sender','hometownState_receiver', 'hometownState_sender',\n",
    "        'len_receiver','len_sender','linkedinId_receiver', 'linkedinId_sender',\n",
    "        'location_receiver', 'location_sender','metro_receiver', 'metro_sender', \n",
    "        'mid_receiver','mid_sender', 'neighborhoods_receiver','neighborhoods_sender',\n",
    "        'onboarded_receiver', 'onboarded_sender','period_ratio_receiver', 'period_ratio_sender', \n",
    "        'picture_receiver', 'picture_sender','question_ratio_receiver', 'question_ratio_sender',\n",
    "        'sentence_ratio_receiver', 'sentence_ratio_sender','timestamp',\n",
    "        'uid_receiver', 'uid_sender','updated_receiver', 'updated_sender',\n",
    "        'work_receiver', 'work_sender']"
   ]
  },
  {
   "cell_type": "code",
   "execution_count": null,
   "metadata": {
    "collapsed": true
   },
   "outputs": [],
   "source": [
    "X_df = master_df[keep_X]\n",
    "X_df = X_df.fillna(X_df.mean(axis=0))\n",
    "y_df = master_df[keep_y]"
   ]
  },
  {
   "cell_type": "markdown",
   "metadata": {},
   "source": [
    "# PICKLE"
   ]
  },
  {
   "cell_type": "code",
   "execution_count": null,
   "metadata": {
    "collapsed": true
   },
   "outputs": [],
   "source": [
    "mp.json_it(master_df,'data_master')\n",
    "mp.json_it(X_df,'data_X')\n",
    "mp.json_it(y_df,'data_y')"
   ]
  },
  {
   "cell_type": "code",
   "execution_count": null,
   "metadata": {
    "collapsed": true
   },
   "outputs": [],
   "source": []
  }
 ],
 "metadata": {
  "kernelspec": {
   "display_name": "Python 3",
   "language": "python",
   "name": "python3"
  },
  "language_info": {
   "codemirror_mode": {
    "name": "ipython",
    "version": 3
   },
   "file_extension": ".py",
   "mimetype": "text/x-python",
   "name": "python",
   "nbconvert_exporter": "python",
   "pygments_lexer": "ipython3",
   "version": "3.6.3"
  }
 },
 "nbformat": 4,
 "nbformat_minor": 2
}
