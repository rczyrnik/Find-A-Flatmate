{
 "cells": [
  {
   "cell_type": "code",
   "execution_count": 43,
   "metadata": {
    "collapsed": true
   },
   "outputs": [],
   "source": [
    "pem = \"sparkzzzzz.pem\"\n",
    "DNS = \"ec2-54-205-205-186.compute-1.amazonaws.com\""
   ]
  },
  {
   "cell_type": "code",
   "execution_count": 44,
   "metadata": {},
   "outputs": [
    {
     "name": "stdout",
     "output_type": "stream",
     "text": [
      "chmod 400 ~/.ssh/sparkzzzzz.pem\n",
      "ssh -i \"~/.ssh/sparkzzzzz.pem\" ec2-user@ec2-54-205-205-186.compute-1.amazonaws.com\n",
      "ssh -i \"~/.ssh/sparkzzzzz.pem\" root@ec2-54-205-205-186.compute-1.amazonaws.com\n"
     ]
    }
   ],
   "source": [
    "# connect\n",
    "print(\"chmod 400 ~/.ssh/\"+pem)\n",
    "print('''ssh -i \"~/.ssh/'''+pem+'''\" ec2-user@'''+DNS)\n",
    "print('''ssh -i \"~/.ssh/'''+pem+'''\" root@'''+DNS)"
   ]
  },
  {
   "cell_type": "code",
   "execution_count": 46,
   "metadata": {},
   "outputs": [
    {
     "name": "stdout",
     "output_type": "stream",
     "text": [
      "scp -i ~/.ssh/sparkzzzzz.pem X_train.npy ec2-user@ec2-54-205-205-186.compute-1.amazonaws.com:X_train.npy\n",
      "scp -i ~/.ssh/sparkzzzzz.pem X_test.npy ec2-user@ec2-54-205-205-186.compute-1.amazonaws.com:X_test.npy\n",
      "scp -i ~/.ssh/sparkzzzzz.pem y_train.npy ec2-user@ec2-54-205-205-186.compute-1.amazonaws.com:y_train.npy\n",
      "scp -i ~/.ssh/sparkzzzzz.pem y_test.npy ec2-user@ec2-54-205-205-186.compute-1.amazonaws.com:y_test.npy\n",
      "scp -i ~/.ssh/sparkzzzzz.pem cols.npy ec2-user@ec2-54-205-205-186.compute-1.amazonaws.com:cols.npy\n",
      "scp -i ~/.ssh/sparkzzzzz.pem gs_random_forest.py ec2-user@ec2-54-205-205-186.compute-1.amazonaws.com:gs_random_forest.py\n",
      "scp -i ~/.ssh/sparkzzzzz.pem my_resample.py ec2-user@ec2-54-205-205-186.compute-1.amazonaws.com:my_resample.py\n",
      "scp -i ~/.ssh/sparkzzzzz.pem my_functions.py ec2-user@ec2-54-205-205-186.compute-1.amazonaws.com:my_functions.py\n"
     ]
    }
   ],
   "source": [
    "files = ['X_train.npy', 'X_test.npy', 'y_train.npy', 'y_test.npy', 'cols.npy', 'gs_random_forest.py', 'my_resample.py', 'my_functions.py']\n",
    "\n",
    "for file in files:\n",
    "    print(\"scp -i ~/.ssh/{0} {1} ec2-user@{2}:{1}\".format(pem, file, DNS))"
   ]
  },
  {
   "cell_type": "code",
   "execution_count": null,
   "metadata": {
    "collapsed": true
   },
   "outputs": [],
   "source": []
  },
  {
   "cell_type": "code",
   "execution_count": null,
   "metadata": {
    "collapsed": true
   },
   "outputs": [],
   "source": []
  },
  {
   "cell_type": "code",
   "execution_count": null,
   "metadata": {
    "collapsed": true
   },
   "outputs": [],
   "source": []
  }
 ],
 "metadata": {
  "kernelspec": {
   "display_name": "Python 3",
   "language": "python",
   "name": "python3"
  },
  "language_info": {
   "codemirror_mode": {
    "name": "ipython",
    "version": 3
   },
   "file_extension": ".py",
   "mimetype": "text/x-python",
   "name": "python",
   "nbconvert_exporter": "python",
   "pygments_lexer": "ipython3",
   "version": "3.6.3"
  }
 },
 "nbformat": 4,
 "nbformat_minor": 2
}
