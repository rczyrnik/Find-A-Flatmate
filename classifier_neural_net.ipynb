{
 "cells": [
  {
   "cell_type": "code",
   "execution_count": 4,
   "metadata": {
    "collapsed": true
   },
   "outputs": [],
   "source": [
    "# BASICS\n",
    "from time import time\n",
    "import pandas as pd\n",
    "import numpy as np\n",
    "import matplotlib.pyplot as plt\n",
    "\n",
    "# HELPER FUNCTIONS\n",
    "import my_resample as ms\n",
    "import my_functions as mf\n",
    "\n",
    "# METRICS\n",
    "from sklearn.metrics import confusion_matrix, precision_score, recall_score, accuracy_score, f1_score\n",
    "\n",
    "# CLASSIFIERS\n",
    "from sklearn.ensemble import RandomForestClassifier\n",
    "\n",
    "# GRID SEARCHING\n",
    "from sklearn.model_selection import GridSearchCV\n",
    "from sklearn.model_selection import RandomizedSearchCV\n",
    "\n",
    "# WARNINGS\n",
    "import warnings\n",
    "warnings.filterwarnings('ignore')\n",
    "from sklearn.preprocessing import StandardScaler\n",
    "from sklearn.neural_network import MLPClassifier"
   ]
  },
  {
   "cell_type": "code",
   "execution_count": 3,
   "metadata": {
    "collapsed": true
   },
   "outputs": [],
   "source": [
    "X_train, X_test, y_train, y_test, cols = mf.load_arrays(True)"
   ]
  },
  {
   "cell_type": "code",
   "execution_count": 7,
   "metadata": {},
   "outputs": [
    {
     "data": {
      "text/plain": [
       "MLPClassifier(activation='relu', alpha=0.0001, batch_size='auto', beta_1=0.9,\n",
       "       beta_2=0.999, early_stopping=False, epsilon=1e-08,\n",
       "       hidden_layer_sizes=(100,), learning_rate='constant',\n",
       "       learning_rate_init=0.001, max_iter=200, momentum=0.9,\n",
       "       nesterovs_momentum=True, power_t=0.5, random_state=None,\n",
       "       shuffle=True, solver='adam', tol=0.0001, validation_fraction=0.1,\n",
       "       verbose=False, warm_start=False)"
      ]
     },
     "execution_count": 7,
     "metadata": {},
     "output_type": "execute_result"
    }
   ],
   "source": [
    "model = MLPClassifier()\n",
    "model.fit(X_train, y_train)"
   ]
  },
  {
   "cell_type": "code",
   "execution_count": 8,
   "metadata": {},
   "outputs": [
    {
     "name": "stdout",
     "output_type": "stream",
     "text": [
      "\n",
      "METRICS\n",
      "Model recall: 0.2153846153846154\n",
      "Model precision: 0.3373493975903614\n",
      "Model f1: 0.26291079812206575\n",
      "Model accuracy: 0.8772958186791715\n",
      "\n",
      "CONFUSION MATRIX\n",
      "[[2189  110]\n",
      " [ 204   56]]\n",
      "\n",
      "key:\n",
      " TN   FP \n",
      " FN   TP \n"
     ]
    }
   ],
   "source": [
    "y_pred = model.predict(X_test)\n",
    "\n",
    "print(\"\\nMETRICS\")\n",
    "print(\"Model recall: {}\".format(recall_score(y_test, y_pred)))\n",
    "print(\"Model precision: {}\".format(precision_score(y_test, y_pred)))\n",
    "print(\"Model f1: {}\".format(f1_score(y_test, y_pred)))\n",
    "print(\"Model accuracy: {}\".format(accuracy_score(y_pred, y_test)))\n",
    "\n",
    "print (\"\\nCONFUSION MATRIX\")\n",
    "print (confusion_matrix(y_test, y_pred))\n",
    "print (\"\\nkey:\")\n",
    "print (\" TN   FP \")\n",
    "print (\" FN   TP \")"
   ]
  },
  {
   "cell_type": "markdown",
   "metadata": {},
   "source": [
    "# hidden_layer_sizes"
   ]
  },
  {
   "cell_type": "code",
   "execution_count": null,
   "metadata": {
    "collapsed": true
   },
   "outputs": [],
   "source": []
  },
  {
   "cell_type": "code",
   "execution_count": null,
   "metadata": {
    "collapsed": true
   },
   "outputs": [],
   "source": []
  },
  {
   "cell_type": "code",
   "execution_count": null,
   "metadata": {
    "collapsed": true
   },
   "outputs": [],
   "source": []
  },
  {
   "cell_type": "code",
   "execution_count": null,
   "metadata": {
    "collapsed": true
   },
   "outputs": [],
   "source": []
  },
  {
   "cell_type": "code",
   "execution_count": 60,
   "metadata": {
    "collapsed": true
   },
   "outputs": [],
   "source": [
    "parameter = \"hidden_layer_sizes\"\n",
    "values = [(30,),  (30,30),  (30, 30, 30),  (30, 30, 30, 30)]"
   ]
  },
  {
   "cell_type": "code",
   "execution_count": 61,
   "metadata": {},
   "outputs": [
    {
     "name": "stdout",
     "output_type": "stream",
     "text": [
      "CPU times: user 1min 11s, sys: 2.5 s, total: 1min 14s\n",
      "Wall time: 38.6 s\n"
     ]
    }
   ],
   "source": [
    "%%time\n",
    "\n",
    "ed[parameter] = mf.gridsearching(\n",
    "        MLPClassifier(),             # Our model\n",
    "        {parameter: values},        # Values for that parameter\n",
    "        X_train, y_train\n",
    ")"
   ]
  },
  {
   "cell_type": "code",
   "execution_count": 62,
   "metadata": {},
   "outputs": [
    {
     "data": {
      "text/html": [
       "<div>\n",
       "<style>\n",
       "    .dataframe thead tr:only-child th {\n",
       "        text-align: right;\n",
       "    }\n",
       "\n",
       "    .dataframe thead th {\n",
       "        text-align: left;\n",
       "    }\n",
       "\n",
       "    .dataframe tbody tr th {\n",
       "        vertical-align: top;\n",
       "    }\n",
       "</style>\n",
       "<table border=\"1\" class=\"dataframe\">\n",
       "  <thead>\n",
       "    <tr style=\"text-align: right;\">\n",
       "      <th></th>\n",
       "      <th>mean_fit_time</th>\n",
       "      <th>mean_score_time</th>\n",
       "      <th>mean_test_score</th>\n",
       "      <th>mean_train_score</th>\n",
       "      <th>param_hidden_layer_sizes</th>\n",
       "      <th>rank_test_score</th>\n",
       "      <th>split0_test_score</th>\n",
       "      <th>split0_train_score</th>\n",
       "      <th>split1_test_score</th>\n",
       "      <th>split1_train_score</th>\n",
       "      <th>split2_test_score</th>\n",
       "      <th>split2_train_score</th>\n",
       "      <th>std_fit_time</th>\n",
       "      <th>std_score_time</th>\n",
       "      <th>std_test_score</th>\n",
       "      <th>std_train_score</th>\n",
       "    </tr>\n",
       "  </thead>\n",
       "  <tbody>\n",
       "    <tr>\n",
       "      <th>0</th>\n",
       "      <td>3.551419</td>\n",
       "      <td>0.002981</td>\n",
       "      <td>0.241980</td>\n",
       "      <td>1.0</td>\n",
       "      <td>(30,)</td>\n",
       "      <td>4</td>\n",
       "      <td>0.268398</td>\n",
       "      <td>1.0</td>\n",
       "      <td>0.241071</td>\n",
       "      <td>1.0</td>\n",
       "      <td>0.216450</td>\n",
       "      <td>1.0</td>\n",
       "      <td>0.233088</td>\n",
       "      <td>0.000622</td>\n",
       "      <td>0.021217</td>\n",
       "      <td>0.0</td>\n",
       "    </tr>\n",
       "    <tr>\n",
       "      <th>1</th>\n",
       "      <td>2.954963</td>\n",
       "      <td>0.003370</td>\n",
       "      <td>0.260519</td>\n",
       "      <td>1.0</td>\n",
       "      <td>(30, 30)</td>\n",
       "      <td>1</td>\n",
       "      <td>0.282105</td>\n",
       "      <td>1.0</td>\n",
       "      <td>0.248908</td>\n",
       "      <td>1.0</td>\n",
       "      <td>0.250531</td>\n",
       "      <td>1.0</td>\n",
       "      <td>0.229361</td>\n",
       "      <td>0.000836</td>\n",
       "      <td>0.015283</td>\n",
       "      <td>0.0</td>\n",
       "    </tr>\n",
       "    <tr>\n",
       "      <th>2</th>\n",
       "      <td>2.465182</td>\n",
       "      <td>0.003765</td>\n",
       "      <td>0.258395</td>\n",
       "      <td>1.0</td>\n",
       "      <td>(30, 30, 30)</td>\n",
       "      <td>2</td>\n",
       "      <td>0.224532</td>\n",
       "      <td>1.0</td>\n",
       "      <td>0.267241</td>\n",
       "      <td>1.0</td>\n",
       "      <td>0.283433</td>\n",
       "      <td>1.0</td>\n",
       "      <td>0.093203</td>\n",
       "      <td>0.000595</td>\n",
       "      <td>0.024847</td>\n",
       "      <td>0.0</td>\n",
       "    </tr>\n",
       "    <tr>\n",
       "      <th>3</th>\n",
       "      <td>2.160398</td>\n",
       "      <td>0.004384</td>\n",
       "      <td>0.247926</td>\n",
       "      <td>1.0</td>\n",
       "      <td>(30, 30, 30, 30)</td>\n",
       "      <td>3</td>\n",
       "      <td>0.227181</td>\n",
       "      <td>1.0</td>\n",
       "      <td>0.265560</td>\n",
       "      <td>1.0</td>\n",
       "      <td>0.251046</td>\n",
       "      <td>1.0</td>\n",
       "      <td>0.177295</td>\n",
       "      <td>0.000759</td>\n",
       "      <td>0.015824</td>\n",
       "      <td>0.0</td>\n",
       "    </tr>\n",
       "  </tbody>\n",
       "</table>\n",
       "</div>"
      ],
      "text/plain": [
       "   mean_fit_time  mean_score_time  mean_test_score  mean_train_score  \\\n",
       "0       3.551419         0.002981         0.241980               1.0   \n",
       "1       2.954963         0.003370         0.260519               1.0   \n",
       "2       2.465182         0.003765         0.258395               1.0   \n",
       "3       2.160398         0.004384         0.247926               1.0   \n",
       "\n",
       "  param_hidden_layer_sizes  rank_test_score  split0_test_score  \\\n",
       "0                    (30,)                4           0.268398   \n",
       "1                 (30, 30)                1           0.282105   \n",
       "2             (30, 30, 30)                2           0.224532   \n",
       "3         (30, 30, 30, 30)                3           0.227181   \n",
       "\n",
       "   split0_train_score  split1_test_score  split1_train_score  \\\n",
       "0                 1.0           0.241071                 1.0   \n",
       "1                 1.0           0.248908                 1.0   \n",
       "2                 1.0           0.267241                 1.0   \n",
       "3                 1.0           0.265560                 1.0   \n",
       "\n",
       "   split2_test_score  split2_train_score  std_fit_time  std_score_time  \\\n",
       "0           0.216450                 1.0      0.233088        0.000622   \n",
       "1           0.250531                 1.0      0.229361        0.000836   \n",
       "2           0.283433                 1.0      0.093203        0.000595   \n",
       "3           0.251046                 1.0      0.177295        0.000759   \n",
       "\n",
       "   std_test_score  std_train_score  \n",
       "0        0.021217              0.0  \n",
       "1        0.015283              0.0  \n",
       "2        0.024847              0.0  \n",
       "3        0.015824              0.0  "
      ]
     },
     "execution_count": 62,
     "metadata": {},
     "output_type": "execute_result"
    }
   ],
   "source": [
    "ed[parameter]"
   ]
  },
  {
   "cell_type": "code",
   "execution_count": 65,
   "metadata": {},
   "outputs": [
    {
     "data": {
      "image/png": "[encoded data removed]",
      "text/plain": [
       "<matplotlib.figure.Figure at 0x1a15c9c940>"
      ]
     },
     "metadata": {},
     "output_type": "display_data"
    }
   ],
   "source": [
    "# Plot\n",
    "plt.bar(range(4), \n",
    "        ed[parameter].mean_test_score, \n",
    "        yerr=ed[parameter].std_test_score)\n",
    "plt.show()"
   ]
  },
  {
   "cell_type": "markdown",
   "metadata": {},
   "source": [
    "# activation"
   ]
  },
  {
   "cell_type": "code",
   "execution_count": 32,
   "metadata": {},
   "outputs": [],
   "source": [
    "parameter = \"activation\"\n",
    "values = ['identity', 'logistic', 'tanh', 'relu']     # default relu"
   ]
  },
  {
   "cell_type": "code",
   "execution_count": 33,
   "metadata": {},
   "outputs": [
    {
     "name": "stdout",
     "output_type": "stream",
     "text": [
      "CPU times: user 1min 44s, sys: 3.18 s, total: 1min 47s\n",
      "Wall time: 55.2 s\n"
     ]
    }
   ],
   "source": [
    "%%time\n",
    "\n",
    "ed[parameter] = mf.gridsearching(\n",
    "        MLPClassifier(),             # Our model\n",
    "        {parameter: values},        # Values for that parameter\n",
    "        X_train, y_train\n",
    ")"
   ]
  },
  {
   "cell_type": "code",
   "execution_count": 34,
   "metadata": {},
   "outputs": [
    {
     "data": {
      "text/html": [
       "<div>\n",
       "<style>\n",
       "    .dataframe thead tr:only-child th {\n",
       "        text-align: right;\n",
       "    }\n",
       "\n",
       "    .dataframe thead th {\n",
       "        text-align: left;\n",
       "    }\n",
       "\n",
       "    .dataframe tbody tr th {\n",
       "        vertical-align: top;\n",
       "    }\n",
       "</style>\n",
       "<table border=\"1\" class=\"dataframe\">\n",
       "  <thead>\n",
       "    <tr style=\"text-align: right;\">\n",
       "      <th></th>\n",
       "      <th>mean_fit_time</th>\n",
       "      <th>mean_score_time</th>\n",
       "      <th>mean_test_score</th>\n",
       "      <th>mean_train_score</th>\n",
       "      <th>param_activation</th>\n",
       "      <th>rank_test_score</th>\n",
       "      <th>split0_test_score</th>\n",
       "      <th>split0_train_score</th>\n",
       "      <th>split1_test_score</th>\n",
       "      <th>split1_train_score</th>\n",
       "      <th>split2_test_score</th>\n",
       "      <th>split2_train_score</th>\n",
       "      <th>std_fit_time</th>\n",
       "      <th>std_score_time</th>\n",
       "      <th>std_test_score</th>\n",
       "      <th>std_train_score</th>\n",
       "    </tr>\n",
       "  </thead>\n",
       "  <tbody>\n",
       "    <tr>\n",
       "      <th>0</th>\n",
       "      <td>0.377932</td>\n",
       "      <td>0.003973</td>\n",
       "      <td>0.119048</td>\n",
       "      <td>0.149926</td>\n",
       "      <td>identity</td>\n",
       "      <td>4</td>\n",
       "      <td>0.150327</td>\n",
       "      <td>0.203612</td>\n",
       "      <td>0.094915</td>\n",
       "      <td>0.146508</td>\n",
       "      <td>0.111888</td>\n",
       "      <td>0.099656</td>\n",
       "      <td>0.038801</td>\n",
       "      <td>0.000429</td>\n",
       "      <td>0.023183</td>\n",
       "      <td>0.042509</td>\n",
       "    </tr>\n",
       "    <tr>\n",
       "      <th>1</th>\n",
       "      <td>6.343307</td>\n",
       "      <td>0.007068</td>\n",
       "      <td>0.270199</td>\n",
       "      <td>0.987405</td>\n",
       "      <td>logistic</td>\n",
       "      <td>2</td>\n",
       "      <td>0.285714</td>\n",
       "      <td>0.986408</td>\n",
       "      <td>0.292818</td>\n",
       "      <td>0.989372</td>\n",
       "      <td>0.232044</td>\n",
       "      <td>0.986434</td>\n",
       "      <td>0.341910</td>\n",
       "      <td>0.000676</td>\n",
       "      <td>0.027127</td>\n",
       "      <td>0.001391</td>\n",
       "    </tr>\n",
       "    <tr>\n",
       "      <th>2</th>\n",
       "      <td>5.078833</td>\n",
       "      <td>0.010418</td>\n",
       "      <td>0.237798</td>\n",
       "      <td>1.000000</td>\n",
       "      <td>tanh</td>\n",
       "      <td>3</td>\n",
       "      <td>0.204852</td>\n",
       "      <td>1.000000</td>\n",
       "      <td>0.264789</td>\n",
       "      <td>1.000000</td>\n",
       "      <td>0.243767</td>\n",
       "      <td>1.000000</td>\n",
       "      <td>0.328795</td>\n",
       "      <td>0.004170</td>\n",
       "      <td>0.024833</td>\n",
       "      <td>0.000000</td>\n",
       "    </tr>\n",
       "    <tr>\n",
       "      <th>3</th>\n",
       "      <td>4.431748</td>\n",
       "      <td>0.004143</td>\n",
       "      <td>0.274774</td>\n",
       "      <td>1.000000</td>\n",
       "      <td>relu</td>\n",
       "      <td>1</td>\n",
       "      <td>0.252874</td>\n",
       "      <td>1.000000</td>\n",
       "      <td>0.287841</td>\n",
       "      <td>1.000000</td>\n",
       "      <td>0.283619</td>\n",
       "      <td>1.000000</td>\n",
       "      <td>0.413739</td>\n",
       "      <td>0.000611</td>\n",
       "      <td>0.015586</td>\n",
       "      <td>0.000000</td>\n",
       "    </tr>\n",
       "  </tbody>\n",
       "</table>\n",
       "</div>"
      ],
      "text/plain": [
       "   mean_fit_time  mean_score_time  mean_test_score  mean_train_score  \\\n",
       "0       0.377932         0.003973         0.119048          0.149926   \n",
       "1       6.343307         0.007068         0.270199          0.987405   \n",
       "2       5.078833         0.010418         0.237798          1.000000   \n",
       "3       4.431748         0.004143         0.274774          1.000000   \n",
       "\n",
       "  param_activation  rank_test_score  split0_test_score  split0_train_score  \\\n",
       "0         identity                4           0.150327            0.203612   \n",
       "1         logistic                2           0.285714            0.986408   \n",
       "2             tanh                3           0.204852            1.000000   \n",
       "3             relu                1           0.252874            1.000000   \n",
       "\n",
       "   split1_test_score  split1_train_score  split2_test_score  \\\n",
       "0           0.094915            0.146508           0.111888   \n",
       "1           0.292818            0.989372           0.232044   \n",
       "2           0.264789            1.000000           0.243767   \n",
       "3           0.287841            1.000000           0.283619   \n",
       "\n",
       "   split2_train_score  std_fit_time  std_score_time  std_test_score  \\\n",
       "0            0.099656      0.038801        0.000429        0.023183   \n",
       "1            0.986434      0.341910        0.000676        0.027127   \n",
       "2            1.000000      0.328795        0.004170        0.024833   \n",
       "3            1.000000      0.413739        0.000611        0.015586   \n",
       "\n",
       "   std_train_score  \n",
       "0         0.042509  \n",
       "1         0.001391  \n",
       "2         0.000000  \n",
       "3         0.000000  "
      ]
     },
     "execution_count": 34,
     "metadata": {},
     "output_type": "execute_result"
    }
   ],
   "source": [
    "ed[parameter]"
   ]
  },
  {
   "cell_type": "code",
   "execution_count": 36,
   "metadata": {},
   "outputs": [
    {
     "data": {
      "image/png": "[encoded data removed]",
      "text/plain": [
       "<matplotlib.figure.Figure at 0x10a12ecc0>"
      ]
     },
     "metadata": {},
     "output_type": "display_data"
    }
   ],
   "source": [
    "# Plot\n",
    "plt.bar(values, \n",
    "        ed[parameter].mean_test_score, \n",
    "        width = 1,\n",
    "        yerr=ed[parameter].std_test_score)\n",
    "plt.show()"
   ]
  },
  {
   "cell_type": "markdown",
   "metadata": {},
   "source": [
    "# solver"
   ]
  },
  {
   "cell_type": "code",
   "execution_count": 37,
   "metadata": {
    "collapsed": true
   },
   "outputs": [],
   "source": [
    "parameter = 'solver'\n",
    "values = ['lbfgs', 'sgd', 'adam']       #default ‘adam’"
   ]
  },
  {
   "cell_type": "code",
   "execution_count": 38,
   "metadata": {},
   "outputs": [
    {
     "name": "stdout",
     "output_type": "stream",
     "text": [
      "CPU times: user 1min 14s, sys: 2.78 s, total: 1min 17s\n",
      "Wall time: 40.9 s\n"
     ]
    }
   ],
   "source": [
    "%%time\n",
    "\n",
    "ed[parameter] = mf.gridsearching(\n",
    "        MLPClassifier(),             # Our model\n",
    "        {parameter: values},         # Values for that parameter\n",
    "        X_train, y_train\n",
    ")"
   ]
  },
  {
   "cell_type": "code",
   "execution_count": 39,
   "metadata": {},
   "outputs": [
    {
     "data": {
      "image/png": "[encoded data removed]",
      "text/plain": [
       "<matplotlib.figure.Figure at 0x1a16e41470>"
      ]
     },
     "metadata": {},
     "output_type": "display_data"
    }
   ],
   "source": [
    "# Plot\n",
    "plt.bar(values, \n",
    "        ed[parameter].mean_test_score, \n",
    "        width = 1,\n",
    "        yerr=ed[parameter].std_test_score)\n",
    "plt.show()"
   ]
  },
  {
   "cell_type": "markdown",
   "metadata": {},
   "source": [
    "# alpha"
   ]
  },
  {
   "cell_type": "code",
   "execution_count": 49,
   "metadata": {},
   "outputs": [],
   "source": [
    "parameter = 'alpha'\n",
    "values = [10.0**n for n in np.arange(-6, 6)]      # float, optional, default 0.0001"
   ]
  },
  {
   "cell_type": "code",
   "execution_count": 50,
   "metadata": {},
   "outputs": [
    {
     "name": "stdout",
     "output_type": "stream",
     "text": [
      "CPU times: user 4min 33s, sys: 9.38 s, total: 4min 42s\n",
      "Wall time: 2min 31s\n"
     ]
    }
   ],
   "source": [
    "%%time\n",
    "\n",
    "ed[parameter] = mf.gridsearching(\n",
    "        MLPClassifier(),             # Our model\n",
    "        {parameter: values},        # Values for that parameter\n",
    "        X_train, y_train\n",
    ")"
   ]
  },
  {
   "cell_type": "code",
   "execution_count": 58,
   "metadata": {},
   "outputs": [
    {
     "data": {
      "image/png": "[encoded data removed]",
      "text/plain": [
       "<matplotlib.figure.Figure at 0x10a8d4710>"
      ]
     },
     "metadata": {},
     "output_type": "display_data"
    }
   ],
   "source": [
    "# Plot\n",
    "plt.bar(range(12) ,\n",
    "        ed[parameter].mean_test_score, \n",
    "        yerr=ed[parameter].std_test_score)\n",
    "plt.show()"
   ]
  },
  {
   "cell_type": "code",
   "execution_count": 59,
   "metadata": {},
   "outputs": [
    {
     "data": {
      "text/html": [
       "<div>\n",
       "<style>\n",
       "    .dataframe thead tr:only-child th {\n",
       "        text-align: right;\n",
       "    }\n",
       "\n",
       "    .dataframe thead th {\n",
       "        text-align: left;\n",
       "    }\n",
       "\n",
       "    .dataframe tbody tr th {\n",
       "        vertical-align: top;\n",
       "    }\n",
       "</style>\n",
       "<table border=\"1\" class=\"dataframe\">\n",
       "  <thead>\n",
       "    <tr style=\"text-align: right;\">\n",
       "      <th></th>\n",
       "      <th>mean_fit_time</th>\n",
       "      <th>mean_score_time</th>\n",
       "      <th>mean_test_score</th>\n",
       "      <th>mean_train_score</th>\n",
       "      <th>param_alpha</th>\n",
       "      <th>rank_test_score</th>\n",
       "      <th>split0_test_score</th>\n",
       "      <th>split0_train_score</th>\n",
       "      <th>split1_test_score</th>\n",
       "      <th>split1_train_score</th>\n",
       "      <th>split2_test_score</th>\n",
       "      <th>split2_train_score</th>\n",
       "      <th>std_fit_time</th>\n",
       "      <th>std_score_time</th>\n",
       "      <th>std_test_score</th>\n",
       "      <th>std_train_score</th>\n",
       "    </tr>\n",
       "  </thead>\n",
       "  <tbody>\n",
       "    <tr>\n",
       "      <th>0</th>\n",
       "      <td>4.606460</td>\n",
       "      <td>0.004199</td>\n",
       "      <td>0.262137</td>\n",
       "      <td>1.000000</td>\n",
       "      <td>1e-06</td>\n",
       "      <td>4</td>\n",
       "      <td>0.247619</td>\n",
       "      <td>1.000000</td>\n",
       "      <td>0.262774</td>\n",
       "      <td>1.000000</td>\n",
       "      <td>0.276029</td>\n",
       "      <td>1.000000</td>\n",
       "      <td>0.485600</td>\n",
       "      <td>0.000376</td>\n",
       "      <td>0.011607</td>\n",
       "      <td>0.000000</td>\n",
       "    </tr>\n",
       "    <tr>\n",
       "      <th>1</th>\n",
       "      <td>4.440868</td>\n",
       "      <td>0.003711</td>\n",
       "      <td>0.258142</td>\n",
       "      <td>1.000000</td>\n",
       "      <td>1e-05</td>\n",
       "      <td>6</td>\n",
       "      <td>0.270880</td>\n",
       "      <td>1.000000</td>\n",
       "      <td>0.245783</td>\n",
       "      <td>1.000000</td>\n",
       "      <td>0.257757</td>\n",
       "      <td>1.000000</td>\n",
       "      <td>0.210147</td>\n",
       "      <td>0.000019</td>\n",
       "      <td>0.010251</td>\n",
       "      <td>0.000000</td>\n",
       "    </tr>\n",
       "    <tr>\n",
       "      <th>2</th>\n",
       "      <td>4.543947</td>\n",
       "      <td>0.003701</td>\n",
       "      <td>0.276845</td>\n",
       "      <td>1.000000</td>\n",
       "      <td>0.0001</td>\n",
       "      <td>1</td>\n",
       "      <td>0.268793</td>\n",
       "      <td>1.000000</td>\n",
       "      <td>0.278729</td>\n",
       "      <td>1.000000</td>\n",
       "      <td>0.283019</td>\n",
       "      <td>1.000000</td>\n",
       "      <td>0.332373</td>\n",
       "      <td>0.000021</td>\n",
       "      <td>0.005959</td>\n",
       "      <td>0.000000</td>\n",
       "    </tr>\n",
       "    <tr>\n",
       "      <th>3</th>\n",
       "      <td>4.156629</td>\n",
       "      <td>0.003688</td>\n",
       "      <td>0.268133</td>\n",
       "      <td>1.000000</td>\n",
       "      <td>0.001</td>\n",
       "      <td>3</td>\n",
       "      <td>0.270880</td>\n",
       "      <td>1.000000</td>\n",
       "      <td>0.240385</td>\n",
       "      <td>1.000000</td>\n",
       "      <td>0.293144</td>\n",
       "      <td>1.000000</td>\n",
       "      <td>0.329997</td>\n",
       "      <td>0.000011</td>\n",
       "      <td>0.021624</td>\n",
       "      <td>0.000000</td>\n",
       "    </tr>\n",
       "    <tr>\n",
       "      <th>4</th>\n",
       "      <td>5.171547</td>\n",
       "      <td>0.005189</td>\n",
       "      <td>0.270358</td>\n",
       "      <td>1.000000</td>\n",
       "      <td>0.01</td>\n",
       "      <td>2</td>\n",
       "      <td>0.264775</td>\n",
       "      <td>1.000000</td>\n",
       "      <td>0.271605</td>\n",
       "      <td>1.000000</td>\n",
       "      <td>0.274699</td>\n",
       "      <td>1.000000</td>\n",
       "      <td>0.087500</td>\n",
       "      <td>0.001590</td>\n",
       "      <td>0.004146</td>\n",
       "      <td>0.000000</td>\n",
       "    </tr>\n",
       "    <tr>\n",
       "      <th>5</th>\n",
       "      <td>5.466494</td>\n",
       "      <td>0.005062</td>\n",
       "      <td>0.261802</td>\n",
       "      <td>0.999681</td>\n",
       "      <td>0.1</td>\n",
       "      <td>5</td>\n",
       "      <td>0.251816</td>\n",
       "      <td>1.000000</td>\n",
       "      <td>0.260870</td>\n",
       "      <td>0.999043</td>\n",
       "      <td>0.272727</td>\n",
       "      <td>1.000000</td>\n",
       "      <td>1.022673</td>\n",
       "      <td>0.000655</td>\n",
       "      <td>0.008562</td>\n",
       "      <td>0.000451</td>\n",
       "    </tr>\n",
       "    <tr>\n",
       "      <th>6</th>\n",
       "      <td>3.605635</td>\n",
       "      <td>0.012500</td>\n",
       "      <td>0.203138</td>\n",
       "      <td>0.644387</td>\n",
       "      <td>1</td>\n",
       "      <td>7</td>\n",
       "      <td>0.204678</td>\n",
       "      <td>0.670854</td>\n",
       "      <td>0.216049</td>\n",
       "      <td>0.664975</td>\n",
       "      <td>0.188679</td>\n",
       "      <td>0.597333</td>\n",
       "      <td>0.942697</td>\n",
       "      <td>0.007463</td>\n",
       "      <td>0.011226</td>\n",
       "      <td>0.033359</td>\n",
       "    </tr>\n",
       "    <tr>\n",
       "      <th>7</th>\n",
       "      <td>1.391445</td>\n",
       "      <td>0.006122</td>\n",
       "      <td>0.000000</td>\n",
       "      <td>0.000000</td>\n",
       "      <td>10</td>\n",
       "      <td>8</td>\n",
       "      <td>0.000000</td>\n",
       "      <td>0.000000</td>\n",
       "      <td>0.000000</td>\n",
       "      <td>0.000000</td>\n",
       "      <td>0.000000</td>\n",
       "      <td>0.000000</td>\n",
       "      <td>0.239408</td>\n",
       "      <td>0.002675</td>\n",
       "      <td>0.000000</td>\n",
       "      <td>0.000000</td>\n",
       "    </tr>\n",
       "    <tr>\n",
       "      <th>8</th>\n",
       "      <td>2.543141</td>\n",
       "      <td>0.004985</td>\n",
       "      <td>0.000000</td>\n",
       "      <td>0.000000</td>\n",
       "      <td>100</td>\n",
       "      <td>8</td>\n",
       "      <td>0.000000</td>\n",
       "      <td>0.000000</td>\n",
       "      <td>0.000000</td>\n",
       "      <td>0.000000</td>\n",
       "      <td>0.000000</td>\n",
       "      <td>0.000000</td>\n",
       "      <td>0.162160</td>\n",
       "      <td>0.000920</td>\n",
       "      <td>0.000000</td>\n",
       "      <td>0.000000</td>\n",
       "    </tr>\n",
       "    <tr>\n",
       "      <th>9</th>\n",
       "      <td>4.521269</td>\n",
       "      <td>0.004317</td>\n",
       "      <td>0.000000</td>\n",
       "      <td>0.000000</td>\n",
       "      <td>1000</td>\n",
       "      <td>8</td>\n",
       "      <td>0.000000</td>\n",
       "      <td>0.000000</td>\n",
       "      <td>0.000000</td>\n",
       "      <td>0.000000</td>\n",
       "      <td>0.000000</td>\n",
       "      <td>0.000000</td>\n",
       "      <td>0.715866</td>\n",
       "      <td>0.000767</td>\n",
       "      <td>0.000000</td>\n",
       "      <td>0.000000</td>\n",
       "    </tr>\n",
       "    <tr>\n",
       "      <th>10</th>\n",
       "      <td>3.898025</td>\n",
       "      <td>0.003763</td>\n",
       "      <td>0.000000</td>\n",
       "      <td>0.000000</td>\n",
       "      <td>10000</td>\n",
       "      <td>8</td>\n",
       "      <td>0.000000</td>\n",
       "      <td>0.000000</td>\n",
       "      <td>0.000000</td>\n",
       "      <td>0.000000</td>\n",
       "      <td>0.000000</td>\n",
       "      <td>0.000000</td>\n",
       "      <td>0.318347</td>\n",
       "      <td>0.000045</td>\n",
       "      <td>0.000000</td>\n",
       "      <td>0.000000</td>\n",
       "    </tr>\n",
       "    <tr>\n",
       "      <th>11</th>\n",
       "      <td>3.958192</td>\n",
       "      <td>0.004225</td>\n",
       "      <td>0.000000</td>\n",
       "      <td>0.000000</td>\n",
       "      <td>100000</td>\n",
       "      <td>8</td>\n",
       "      <td>0.000000</td>\n",
       "      <td>0.000000</td>\n",
       "      <td>0.000000</td>\n",
       "      <td>0.000000</td>\n",
       "      <td>0.000000</td>\n",
       "      <td>0.000000</td>\n",
       "      <td>0.104123</td>\n",
       "      <td>0.000633</td>\n",
       "      <td>0.000000</td>\n",
       "      <td>0.000000</td>\n",
       "    </tr>\n",
       "  </tbody>\n",
       "</table>\n",
       "</div>"
      ],
      "text/plain": [
       "    mean_fit_time  mean_score_time  mean_test_score  mean_train_score  \\\n",
       "0        4.606460         0.004199         0.262137          1.000000   \n",
       "1        4.440868         0.003711         0.258142          1.000000   \n",
       "2        4.543947         0.003701         0.276845          1.000000   \n",
       "3        4.156629         0.003688         0.268133          1.000000   \n",
       "4        5.171547         0.005189         0.270358          1.000000   \n",
       "5        5.466494         0.005062         0.261802          0.999681   \n",
       "6        3.605635         0.012500         0.203138          0.644387   \n",
       "7        1.391445         0.006122         0.000000          0.000000   \n",
       "8        2.543141         0.004985         0.000000          0.000000   \n",
       "9        4.521269         0.004317         0.000000          0.000000   \n",
       "10       3.898025         0.003763         0.000000          0.000000   \n",
       "11       3.958192         0.004225         0.000000          0.000000   \n",
       "\n",
       "   param_alpha  rank_test_score  split0_test_score  split0_train_score  \\\n",
       "0        1e-06                4           0.247619            1.000000   \n",
       "1        1e-05                6           0.270880            1.000000   \n",
       "2       0.0001                1           0.268793            1.000000   \n",
       "3        0.001                3           0.270880            1.000000   \n",
       "4         0.01                2           0.264775            1.000000   \n",
       "5          0.1                5           0.251816            1.000000   \n",
       "6            1                7           0.204678            0.670854   \n",
       "7           10                8           0.000000            0.000000   \n",
       "8          100                8           0.000000            0.000000   \n",
       "9         1000                8           0.000000            0.000000   \n",
       "10       10000                8           0.000000            0.000000   \n",
       "11      100000                8           0.000000            0.000000   \n",
       "\n",
       "    split1_test_score  split1_train_score  split2_test_score  \\\n",
       "0            0.262774            1.000000           0.276029   \n",
       "1            0.245783            1.000000           0.257757   \n",
       "2            0.278729            1.000000           0.283019   \n",
       "3            0.240385            1.000000           0.293144   \n",
       "4            0.271605            1.000000           0.274699   \n",
       "5            0.260870            0.999043           0.272727   \n",
       "6            0.216049            0.664975           0.188679   \n",
       "7            0.000000            0.000000           0.000000   \n",
       "8            0.000000            0.000000           0.000000   \n",
       "9            0.000000            0.000000           0.000000   \n",
       "10           0.000000            0.000000           0.000000   \n",
       "11           0.000000            0.000000           0.000000   \n",
       "\n",
       "    split2_train_score  std_fit_time  std_score_time  std_test_score  \\\n",
       "0             1.000000      0.485600        0.000376        0.011607   \n",
       "1             1.000000      0.210147        0.000019        0.010251   \n",
       "2             1.000000      0.332373        0.000021        0.005959   \n",
       "3             1.000000      0.329997        0.000011        0.021624   \n",
       "4             1.000000      0.087500        0.001590        0.004146   \n",
       "5             1.000000      1.022673        0.000655        0.008562   \n",
       "6             0.597333      0.942697        0.007463        0.011226   \n",
       "7             0.000000      0.239408        0.002675        0.000000   \n",
       "8             0.000000      0.162160        0.000920        0.000000   \n",
       "9             0.000000      0.715866        0.000767        0.000000   \n",
       "10            0.000000      0.318347        0.000045        0.000000   \n",
       "11            0.000000      0.104123        0.000633        0.000000   \n",
       "\n",
       "    std_train_score  \n",
       "0          0.000000  \n",
       "1          0.000000  \n",
       "2          0.000000  \n",
       "3          0.000000  \n",
       "4          0.000000  \n",
       "5          0.000451  \n",
       "6          0.033359  \n",
       "7          0.000000  \n",
       "8          0.000000  \n",
       "9          0.000000  \n",
       "10         0.000000  \n",
       "11         0.000000  "
      ]
     },
     "execution_count": 59,
     "metadata": {},
     "output_type": "execute_result"
    }
   ],
   "source": [
    "ed[parameter]"
   ]
  },
  {
   "cell_type": "code",
   "execution_count": null,
   "metadata": {
    "collapsed": true
   },
   "outputs": [],
   "source": []
  }
 ],
 "metadata": {
  "kernelspec": {
   "display_name": "Python 3",
   "language": "python",
   "name": "python3"
  },
  "language_info": {
   "codemirror_mode": {
    "name": "ipython",
    "version": 3
   },
   "file_extension": ".py",
   "mimetype": "text/x-python",
   "name": "python",
   "nbconvert_exporter": "python",
   "pygments_lexer": "ipython3",
   "version": "3.6.3"
  }
 },
 "nbformat": 4,
 "nbformat_minor": 2
}
