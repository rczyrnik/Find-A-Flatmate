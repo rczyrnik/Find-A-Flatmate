{
 "cells": [
  {
   "cell_type": "code",
   "execution_count": 1,
   "metadata": {
    "collapsed": true
   },
   "outputs": [],
   "source": [
    "import pandas as pd\n",
    "import numpy as np\n",
    "from random import *\n",
    "# import matplotlib.pyplot as plt\n",
    "# %matplotlib inline\n",
    "from sklearn.model_selection import train_test_split\n",
    "from sklearn.ensemble import RandomForestClassifier\n",
    "from sklearn.metrics import confusion_matrix, precision_score, recall_score\n",
    "\n",
    "import my_pickle as mp\n",
    "import my_features as mf\n",
    "import my_resample as ms\n",
    "# from my_resample import div_count_pos_neg, undersample, oversample\n",
    "from sklearn.model_selection import GridSearchCV"
   ]
  },
  {
   "cell_type": "code",
   "execution_count": 2,
   "metadata": {},
   "outputs": [
    {
     "name": "stdout",
     "output_type": "stream",
     "text": [
      "Make sure we're not useing ECT data\n",
      "2017-10-02 01:35:58.644000\n"
     ]
    }
   ],
   "source": [
    "X = mp.unpickle_it('X')\n",
    "print(\"Make sure we're not useing ECT data\")\n",
    "print(pd.to_datetime(X.timestamp.max()*1000000))"
   ]
  },
  {
   "cell_type": "code",
   "execution_count": 3,
   "metadata": {
    "collapsed": true
   },
   "outputs": [],
   "source": [
    "y = X.response.map({True:1,False:0})\n",
    "X = X.drop(['conv_id', 'response', 'first_uid', 'second_uid', 'first_mid',\n",
    "       'second_mid', 'timestamp'], axis=1)"
   ]
  },
  {
   "cell_type": "code",
   "execution_count": 4,
   "metadata": {
    "collapsed": true
   },
   "outputs": [],
   "source": [
    "def do_grid_search(X, y):\n",
    "    '''\n",
    "    X as 2d numpy array\n",
    "    y as 1d numpy array\n",
    "    \n",
    "    PARAMETERS\n",
    "    n_estimators: The number of trees in the forest\n",
    "    criterion: gini or entropy\n",
    "    max_features: The number of features to consider when looking for the best split\n",
    "        If int, then consider max_features features at each split.\n",
    "        If float, then max_features is a percentage and int(max_features * n_features) features are considered at each split.\n",
    "        If “auto”, then max_features=sqrt(n_features).\n",
    "        If “sqrt”, then max_features=sqrt(n_features) (same as “auto”).\n",
    "        If “log2”, then max_features=log2(n_features).\n",
    "        If None, then max_features=n_features.\n",
    "    max_depth: The maximum depth of the tree\n",
    "    n_jobs: The number of jobs to run in parallel for both fit and predict. If -1, then the number of jobs is set to the number of cores.\n",
    "    '''\n",
    "    \n",
    "    # Split it up into our training and testing sets\n",
    "    X_train, X_test, y_train, y_test = train_test_split(X, y)\n",
    "\n",
    "    # resample\n",
    "    X_train, y_train = ms.oversample(X_train, y_train, .5)\n",
    "    \n",
    "    # Initalize our model here\n",
    "    model = RandomForestClassifier()\n",
    "\n",
    "    # Here are the params we are tuning\n",
    "    param_grid = {'max_features' : [\"sqrt\",\"log2\",None],\n",
    "                  'n_estimators' : [100],\n",
    "                  'max_depth': [10, 50, 100, 200],\n",
    "                  'min_samples_leaf': [3,5,10]\n",
    "                  }\n",
    "\n",
    "    # Plug in our model, params dict, and the number of jobs, then .fit()\n",
    "    gs_cv = GridSearchCV(model, param_grid, n_jobs=-1).fit(X_train, y_train)\n",
    "\n",
    "    # return the best score and the best params\n",
    "    return gs_cv.best_score_, gs_cv.best_params_\n"
   ]
  },
  {
   "cell_type": "code",
   "execution_count": 5,
   "metadata": {},
   "outputs": [],
   "source": [
    "# %%time\n",
    "# # best_score, best_grid_params =  do_grid_search(X.as_matrix(),y.as_matrix())\n",
    "# temp2 = do_grid_search(X.as_matrix(),y.as_matrix())"
   ]
  },
  {
   "cell_type": "code",
   "execution_count": null,
   "metadata": {
    "collapsed": true
   },
   "outputs": [],
   "source": []
  },
  {
   "cell_type": "code",
   "execution_count": 6,
   "metadata": {},
   "outputs": [
    {
     "name": "stdout",
     "output_type": "stream",
     "text": [
      "\n",
      "METRICS\n",
      "Model recall: 0.5115511551155115\n",
      "Model precision: 0.4155495978552279\n",
      "Model accuracy: 0.8661791590493602\n",
      "\n",
      "CONFUSION MATRIX\n",
      "[[2214  218]\n",
      " [ 148  155]]\n",
      "\n",
      "key:\n",
      " TN   FP \n",
      " FN   TP \n",
      "\n",
      "FEATURE RANKINGS\n",
      "1 \t sender_attractiveness \t 0.58812702093\n",
      "2 \t age_dif \t 0.105712521564\n",
      "3 \t rent_overlap \t 0.0700951376247\n",
      "4 \t receiver_selectivity \t 0.0544935178398\n",
      "5 \t roommate_num_sim \t 0.0423270438504\n",
      "6 \t same_clean \t 0.0238367816407\n",
      "7 \t same_night \t 0.0231371204318\n",
      "8 \t same_relate \t 0.0223716341465\n",
      "9 \t same_smoking \t 0.0216630172617\n",
      "10 \t same_gender \t 0.0198480505567\n",
      "11 \t same_student \t 0.0145379313071\n",
      "12 \t same_term \t 0.0138502228464\n",
      "\n",
      "RECALL AND ACCURACY FOR DIFFERNET MODELS\n",
      "recall     \t precision   \tmodel\n",
      "0.511551155116 \t 0.415549597855 my model\n",
      "0.0 \t \t 0.0 \t\tpredict all zero\n",
      "1.0 \t \t 0.110786106033 predict all one\n",
      "0.475247524752 \t 0.105340160936 predict 50-50\n",
      "0.112211221122 0.126865671642 predict 90-10\n"
     ]
    },
    {
     "name": "stderr",
     "output_type": "stream",
     "text": [
      "/Users/gandalf/anaconda3/lib/python3.6/site-packages/sklearn/metrics/classification.py:1135: UndefinedMetricWarning: Precision is ill-defined and being set to 0.0 due to no predicted samples.\n",
      "  'precision', 'predicted', average, warn_for)\n"
     ]
    }
   ],
   "source": [
    "X_train, X_test, y_train, y_test = train_test_split(X.as_matrix(), y.as_matrix(), random_state=17)\n",
    "\n",
    "X_train, y_train = ms.oversample(X_train, y_train, .5)\n",
    "\n",
    "# print(\"messages sent: {}\".format(len(y_train)))\n",
    "# print(\"responses:     {}\\n\".format(y_train.sum()))\n",
    "\n",
    "model = RandomForestClassifier(max_depth= 100, max_features=None, min_samples_leaf=3, n_estimators= 100, n_jobs=-1)\n",
    "model.fit(X_train, y_train)\n",
    "y_pred = model.predict(X_test)\n",
    "\n",
    "print(\"\\nMETRICS\")\n",
    "# print(\"Prediction:   {}...\".format(model.predict(X_test)[:20]))\n",
    "# print(\"Actual:       {}...\".format(y_test[:20]))\n",
    "print(\"Model recall: {}\".format(recall_score(y_test, y_pred)))\n",
    "print(\"Model precision: {}\".format(precision_score(y_test, y_pred)))\n",
    "print(\"Model accuracy: {}\".format(model.score(X_test, y_test)))\n",
    "\n",
    "pred_all_0 = [0]*len(y_test)\n",
    "pred_all_1 = [1]*len(y_test)\n",
    "pred_50_50 = np.random.choice([0,1], size=len(y_test))\n",
    "pred_90_10 = np.random.choice([0,1], size=len(y_test), p=[.9,.1])\n",
    "\n",
    "print (\"\\nCONFUSION MATRIX\")\n",
    "print (confusion_matrix(y_test, y_pred))\n",
    "print (\"\\nkey:\")\n",
    "print (\" TN   FP \")\n",
    "print (\" FN   TP \")\n",
    "\n",
    "# print(model.feature_importances_)\n",
    "\n",
    "feature_importances = np.argsort(model.feature_importances_)\n",
    "top_n = len(X.columns)\n",
    "print(\"\\nFEATURE RANKINGS\")\n",
    "for n in range(top_n):\n",
    "    print(n+1, '\\t',X.columns[feature_importances[-n-1]], '\\t',sorted(model.feature_importances_)[-n-1])\n",
    "       \n",
    "# TO DOUBLE CHECK STUFF:    \n",
    "# for n in range(top_n):   \n",
    "#     print(model.feature_importances_[n], X.columns[n])\n",
    "\n",
    "print(\"\\nRECALL AND ACCURACY FOR DIFFERNET MODELS\")\n",
    "print(\"recall     \\t precision   \\tmodel\")\n",
    "print(recall_score(y_test, y_pred), '\\t',precision_score(y_test, y_pred), \"my model\")\n",
    "print(recall_score(y_test, pred_all_0),'\\t','\\t', precision_score(y_test, pred_all_0), \"\\t\\tpredict all zero\")\n",
    "print(recall_score(y_test, pred_all_1),'\\t','\\t', precision_score(y_test, pred_all_1), \"predict all one\")\n",
    "print(recall_score(y_test, pred_50_50),'\\t', precision_score(y_test, pred_50_50), \"predict 50-50\")\n",
    "print(recall_score(y_test, pred_90_10), precision_score(y_test, pred_90_10), \"predict 90-10\")"
   ]
  },
  {
   "cell_type": "code",
   "execution_count": null,
   "metadata": {
    "collapsed": true
   },
   "outputs": [],
   "source": []
  }
 ],
 "metadata": {
  "kernelspec": {
   "display_name": "Python 3",
   "language": "python",
   "name": "python3"
  },
  "language_info": {
   "codemirror_mode": {
    "name": "ipython",
    "version": 3
   },
   "file_extension": ".py",
   "mimetype": "text/x-python",
   "name": "python",
   "nbconvert_exporter": "python",
   "pygments_lexer": "ipython3",
   "version": "3.6.3"
  }
 },
 "nbformat": 4,
 "nbformat_minor": 2
}
