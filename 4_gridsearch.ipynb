{
 "cells": [
  {
   "cell_type": "code",
   "execution_count": 4,
   "metadata": {
    "collapsed": true
   },
   "outputs": [],
   "source": [
    "import pandas as pd\n",
    "import numpy as np\n",
    "# import matplotlib.pyplot as plt\n",
    "# %matplotlib inline\n",
    "from sklearn.model_selection import train_test_split\n",
    "from sklearn.ensemble import RandomForestClassifier\n",
    "from sklearn.metrics import precision_score, recall_score\n",
    "# from sklearn.metrics import confusion_matrix\n",
    "import my_pickle as mp\n",
    "import my_features as mf\n",
    "import my_resample as ms\n",
    "# from my_resample import div_count_pos_neg, undersample, oversample\n",
    "from sklearn.model_selection import GridSearchCV"
   ]
  },
  {
   "cell_type": "code",
   "execution_count": 5,
   "metadata": {},
   "outputs": [
    {
     "name": "stdout",
     "output_type": "stream",
     "text": [
      "Make sure we're not useing ECT data\n",
      "2017-10-02 01:35:58.644000\n"
     ]
    }
   ],
   "source": [
    "X = mp.unpickle_it('X')\n",
    "print(\"Make sure we're not useing ECT data\")\n",
    "print(pd.to_datetime(X.timestamp.max()*1000000))"
   ]
  },
  {
   "cell_type": "code",
   "execution_count": 2,
   "metadata": {},
   "outputs": [
    {
     "name": "stdout",
     "output_type": "stream",
     "text": [
      "Make sure we're not useing ECT data\n",
      "2017-10-02 01:35:58.644000\n"
     ]
    }
   ],
   "source": [
    "# user_df = unpickle_it('user_df')\n",
    "# convo_df = unpickle_it('convo_df')\n",
    "\n",
    "# print(\"Make sure we're not useing ECT data\")\n",
    "# print(pd.to_datetime(convo_df.timestamp.max()*1000000))\n",
    "\n",
    "# X = mf.feature_time(convo_df, user_df)\n",
    "# print(X.columns)"
   ]
  },
  {
   "cell_type": "code",
   "execution_count": 6,
   "metadata": {
    "collapsed": true
   },
   "outputs": [],
   "source": [
    "y = X.response.map({True:1,False:0})\n",
    "X = X.drop(['conv_id', 'response', 'first_uid', 'second_uid', 'first_mid',\n",
    "       'second_mid', 'timestamp'], axis=1)"
   ]
  },
  {
   "cell_type": "code",
   "execution_count": 7,
   "metadata": {},
   "outputs": [
    {
     "name": "stdout",
     "output_type": "stream",
     "text": [
      "10937\n",
      "10937\n",
      "1151\n"
     ]
    }
   ],
   "source": [
    "print(len(X))\n",
    "print(len(y))#.sum()\n",
    "print(y.sum())"
   ]
  },
  {
   "cell_type": "code",
   "execution_count": 8,
   "metadata": {
    "collapsed": true
   },
   "outputs": [],
   "source": [
    "def do_grid_search(X, y):\n",
    "    '''\n",
    "    X as 2d numpy array\n",
    "    y as 1d numpy array\n",
    "    \n",
    "    PARAMETERS\n",
    "    n_estimators: The number of trees in the forest\n",
    "    criterion: gini or entropy\n",
    "    max_features: The number of features to consider when looking for the best split\n",
    "        If int, then consider max_features features at each split.\n",
    "        If float, then max_features is a percentage and int(max_features * n_features) features are considered at each split.\n",
    "        If “auto”, then max_features=sqrt(n_features).\n",
    "        If “sqrt”, then max_features=sqrt(n_features) (same as “auto”).\n",
    "        If “log2”, then max_features=log2(n_features).\n",
    "        If None, then max_features=n_features.\n",
    "    max_depth: The maximum depth of the tree\n",
    "    n_jobs: The number of jobs to run in parallel for both fit and predict. If -1, then the number of jobs is set to the number of cores.\n",
    "    '''\n",
    "    \n",
    "    # Split it up into our training and testing sets\n",
    "    X_train, X_test, y_train, y_test = train_test_split(X, y)\n",
    "\n",
    "    # resample\n",
    "    X_train, y_train = ms.oversample(X_train, y_train, .5)\n",
    "    \n",
    "    # Initalize our model here\n",
    "    model = RandomForestClassifier()\n",
    "\n",
    "    # Here are the params we are tuning\n",
    "    param_grid = {'max_features' : [\"sqrt\",\"log2\",None],\n",
    "                  'n_estimators' : [100],\n",
    "                  'max_depth': [10, 50, 100, 200],\n",
    "                  'min_samples_leaf': [3,5,10]\n",
    "                  }\n",
    "\n",
    "    # Plug in our model, params dict, and the number of jobs, then .fit()\n",
    "    gs_cv = GridSearchCV(model, param_grid, n_jobs=-1).fit(X_train, y_train)\n",
    "\n",
    "    # return the best score and the best params\n",
    "    return gs_cv.best_score_, gs_cv.best_params_\n"
   ]
  },
  {
   "cell_type": "code",
   "execution_count": 9,
   "metadata": {},
   "outputs": [
    {
     "name": "stdout",
     "output_type": "stream",
     "text": [
      "CPU times: user 2.58 s, sys: 229 ms, total: 2.81 s\n",
      "Wall time: 47.9 s\n"
     ]
    }
   ],
   "source": [
    "%%time\n",
    "# best_score, best_grid_params =  do_grid_search(X.as_matrix(),y.as_matrix())\n",
    "temp2 = do_grid_search(X.as_matrix(),y.as_matrix())"
   ]
  },
  {
   "cell_type": "code",
   "execution_count": 10,
   "metadata": {
    "collapsed": true
   },
   "outputs": [],
   "source": [
    "model = RandomForestClassifier(max_depth= 100, max_features=None, min_samples_leaf=3, n_estimators= 100, n_jobs=-1)"
   ]
  },
  {
   "cell_type": "code",
   "execution_count": 11,
   "metadata": {},
   "outputs": [
    {
     "name": "stdout",
     "output_type": "stream",
     "text": [
      "messages sent: 14708\n",
      "responses:     7354\n",
      "\n",
      "Prediction:   [0 0 1 0 0 1 0 0 0 0 0 0 1 0 0 0 1 0 0 0]...\n",
      "Actual:       [0 0 0 0 0 0 0 0 0 0 0 0 1 0 0 0 1 0 0 0]...\n",
      "Model recall: 0.5082508250825083\n",
      "Model precision: 0.4425287356321839\n",
      "Score of model: 0.8745886654478976\n",
      "Score to beat: 0.8892138939670933\n"
     ]
    }
   ],
   "source": [
    "X_train, X_test, y_train, y_test = train_test_split(X.as_matrix(), y.as_matrix(), random_state=17)\n",
    "\n",
    "X_train, y_train = ms.oversample(X_train, y_train, .5)\n",
    "\n",
    "print(\"messages sent: {}\".format(len(y_train)))\n",
    "print(\"responses:     {}\\n\".format(y_train.sum()))\n",
    "\n",
    "model = RandomForestClassifier(max_depth= 100, max_features=None, min_samples_leaf=3, n_estimators= 100, n_jobs=-1)\n",
    "model.fit(X_train, y_train)\n",
    "y_pred = model.predict(X_test)\n",
    "print(\"Prediction:   {}...\".format(model.predict(X_test)[:20]))\n",
    "print(\"Actual:       {}...\".format(y_test[:20]))\n",
    "print(\"Model recall: {}\".format(recall_score(y_test, y_pred)))\n",
    "print(\"Model precision: {}\".format(precision_score(y_test, y_pred)))\n",
    "print(\"Score of model: {}\".format(model.score(X_test, y_test)))\n",
    "print(\"Score to beat: {}\".format(1-y_test.sum()/len(y_test)))"
   ]
  },
  {
   "cell_type": "code",
   "execution_count": null,
   "metadata": {
    "collapsed": true
   },
   "outputs": [],
   "source": []
  },
  {
   "cell_type": "code",
   "execution_count": null,
   "metadata": {
    "collapsed": true
   },
   "outputs": [],
   "source": []
  },
  {
   "cell_type": "code",
   "execution_count": null,
   "metadata": {
    "collapsed": true
   },
   "outputs": [],
   "source": []
  },
  {
   "cell_type": "code",
   "execution_count": 13,
   "metadata": {
    "collapsed": true
   },
   "outputs": [],
   "source": [
    "def do_regular_decision_tree(X, y, best_max_depth):\n",
    "    # Split it up into our training and testing sets\n",
    "    X_train, X_test, y_train, y_test = train_test_split(X,y)\n",
    "\n",
    "    # Initalize our decision tree algo, set the max_depth to our maximum_max_depth\n",
    "    clf = DecisionTreeClassifier(max_depth=best_max_depth)\n",
    "    \n",
    "    # Fit our tree\n",
    "    clf.fit(X_train, y_train)\n",
    "\n",
    "    # Make predictions\n",
    "    y_pred = clf.predict(X_test)\n",
    "\n",
    "    # Find the precision, recall, and score\n",
    "    precision = precision_score(y_test, y_pred)\n",
    "    recall = recall_score(y_test, y_pred)\n",
    "    score = clf.score(X_test, y_test)\n",
    "    return precision, recall, score"
   ]
  },
  {
   "cell_type": "code",
   "execution_count": null,
   "metadata": {
    "collapsed": true
   },
   "outputs": [],
   "source": []
  },
  {
   "cell_type": "code",
   "execution_count": null,
   "metadata": {
    "collapsed": true
   },
   "outputs": [],
   "source": []
  },
  {
   "cell_type": "code",
   "execution_count": null,
   "metadata": {
    "collapsed": true
   },
   "outputs": [],
   "source": []
  },
  {
   "cell_type": "code",
   "execution_count": null,
   "metadata": {
    "collapsed": true
   },
   "outputs": [],
   "source": [
    "\n",
    "# def do_regular_decision_tree(X, y, best_max_depth):\n",
    "#     # Split it up into our training and testing sets\n",
    "#     X_train, X_test, y_train, y_test = train_test_split(X,y)\n",
    "\n",
    "#     # Initalize our decision tree algo, set the max_depth to our maximum_max_depth\n",
    "#     clf = DecisionTreeClassifier(max_depth=best_max_depth)\n",
    "    \n",
    "#     # Fit our tree\n",
    "#     clf.fit(X_train, y_train)\n",
    "\n",
    "#     # Make predictions\n",
    "#     y_pred = clf.predict(X_test)\n",
    "\n",
    "#     # Find the precision, recall, and score\n",
    "#     precision = precision_score(y_test, y_pred)\n",
    "#     recall = recall_score(y_test, y_pred)\n",
    "#     score = clf.score(X_test, y_test)\n",
    "#     return precision, recall, score\n",
    "\n",
    "\n",
    "\n",
    "# best_score, best_grid_params =  do_grid_search(X,y)\n",
    "\n",
    "# best_max_depth = best_grid_params['max_depth']\n",
    "\n",
    "# print(do_regular_decision_tree(best_max_depth))"
   ]
  }
 ],
 "metadata": {
  "kernelspec": {
   "display_name": "Python 3",
   "language": "python",
   "name": "python3"
  },
  "language_info": {
   "codemirror_mode": {
    "name": "ipython",
    "version": 3
   },
   "file_extension": ".py",
   "mimetype": "text/x-python",
   "name": "python",
   "nbconvert_exporter": "python",
   "pygments_lexer": "ipython3",
   "version": "3.6.3"
  }
 },
 "nbformat": 4,
 "nbformat_minor": 2
}
