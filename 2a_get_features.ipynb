{
 "cells": [
  {
   "cell_type": "code",
   "execution_count": 1,
   "metadata": {
    "collapsed": true
   },
   "outputs": [],
   "source": [
    "import pandas as pd\n",
    "import numpy as np\n",
    "from numpy.random import choice\n",
    "import my_pickle as mp\n",
    "import matplotlib.pyplot as plt\n",
    "\n",
    "from importlib import reload"
   ]
  },
  {
   "cell_type": "code",
   "execution_count": null,
   "metadata": {
    "collapsed": true
   },
   "outputs": [],
   "source": [
    "reload(mp)"
   ]
  },
  {
   "cell_type": "markdown",
   "metadata": {},
   "source": [
    "# LOAD DATA FRAMES"
   ]
  },
  {
   "cell_type": "code",
   "execution_count": 2,
   "metadata": {},
   "outputs": [],
   "source": [
    "# Load User Data\n",
    "user_df = mp.unjson_it('data_user')\n",
    "user_df = mp.reinstate_date(user_df,['activeAt', 'available', 'birthday','created','updated'])"
   ]
  },
  {
   "cell_type": "code",
   "execution_count": 10,
   "metadata": {},
   "outputs": [
    {
     "data": {
      "text/plain": [
       "Index(['conversation_id', 'convo_length', 'len_receiver', 'len_sender',\n",
       "       'mid_receiver', 'mid_sender', 'response', 'time_to_respond',\n",
       "       'timestamp', 'timestamp_receiver', 'uid_receiver', 'uid_sender'],\n",
       "      dtype='object')"
      ]
     },
     "execution_count": 10,
     "metadata": {},
     "output_type": "execute_result"
    }
   ],
   "source": [
    "# Load Conversation Data\n",
    "convo_df = mp.unjson_it('data_convo')\n",
    "convo_df.columns"
   ]
  },
  {
   "cell_type": "code",
   "execution_count": 4,
   "metadata": {},
   "outputs": [],
   "source": [
    "# Import Message DF\n",
    "message_df = mp.unjson_it('data_message')"
   ]
  },
  {
   "cell_type": "markdown",
   "metadata": {},
   "source": [
    "# MERGE USER DATA TO CONVERSATION DATA"
   ]
  },
  {
   "cell_type": "code",
   "execution_count": 8,
   "metadata": {},
   "outputs": [
    {
     "data": {
      "text/html": [
       "<div>\n",
       "<style>\n",
       "    .dataframe thead tr:only-child th {\n",
       "        text-align: right;\n",
       "    }\n",
       "\n",
       "    .dataframe thead th {\n",
       "        text-align: left;\n",
       "    }\n",
       "\n",
       "    .dataframe tbody tr th {\n",
       "        vertical-align: top;\n",
       "    }\n",
       "</style>\n",
       "<table border=\"1\" class=\"dataframe\">\n",
       "  <thead>\n",
       "    <tr style=\"text-align: right;\">\n",
       "      <th></th>\n",
       "      <th>conversation_id</th>\n",
       "      <th>convo_length</th>\n",
       "      <th>len_receiver</th>\n",
       "      <th>len_sender</th>\n",
       "      <th>mid_receiver</th>\n",
       "      <th>mid_sender</th>\n",
       "      <th>response</th>\n",
       "      <th>time_to_respond</th>\n",
       "      <th>timestamp</th>\n",
       "      <th>timestamp_receiver</th>\n",
       "      <th>...</th>\n",
       "      <th>question_count_receiver</th>\n",
       "      <th>question_ratio_receiver</th>\n",
       "      <th>sentence_count_receiver</th>\n",
       "      <th>sentence_ratio_receiver</th>\n",
       "      <th>smokingOk_receiver</th>\n",
       "      <th>term_receiver</th>\n",
       "      <th>type_receiver</th>\n",
       "      <th>updated_receiver</th>\n",
       "      <th>work_receiver</th>\n",
       "      <th>flag_receiver</th>\n",
       "    </tr>\n",
       "  </thead>\n",
       "  <tbody>\n",
       "  </tbody>\n",
       "</table>\n",
       "<p>0 rows × 112 columns</p>\n",
       "</div>"
      ],
      "text/plain": [
       "Empty DataFrame\n",
       "Columns: [conversation_id, convo_length, len_receiver, len_sender, mid_receiver, mid_sender, response, time_to_respond, timestamp, timestamp_receiver, uid_receiver, uid_sender, I_count_sender, I_ratio_sender, about_sender, activeAt_sender, age_sender, amenities_sender, available_sender, birthday_sender, college_sender, created_sender, exclaim_count_sender, exclaim_ratio_sender, facebookId_sender, gender_sender, has_about_sender, has_facebookId_sender, has_linkedinId_sender, has_picture_sender, has_room_sender, hobbies_sender, hometownCity_sender, hometownCountry_sender, hometownState_sender, inRelationship_sender, isClean_sender, isNight_sender, isStudent_sender, len_about_sender, linkedinId_sender, location_sender, maxCost_sender, metro_sender, minCost_sender, neighborhoods_sender, numRoommates_sender, onboarded_sender, period_count_sender, period_ratio_sender, petsOk_sender, picture_sender, question_count_sender, question_ratio_sender, sentence_count_sender, sentence_ratio_sender, smokingOk_sender, term_sender, type_sender, updated_sender, work_sender, flag_sender, I_count_receiver, I_ratio_receiver, about_receiver, activeAt_receiver, age_receiver, amenities_receiver, available_receiver, birthday_receiver, college_receiver, created_receiver, exclaim_count_receiver, exclaim_ratio_receiver, facebookId_receiver, gender_receiver, has_about_receiver, has_facebookId_receiver, has_linkedinId_receiver, has_picture_receiver, has_room_receiver, hobbies_receiver, hometownCity_receiver, hometownCountry_receiver, hometownState_receiver, inRelationship_receiver, isClean_receiver, isNight_receiver, isStudent_receiver, len_about_receiver, linkedinId_receiver, location_receiver, maxCost_receiver, metro_receiver, minCost_receiver, neighborhoods_receiver, numRoommates_receiver, onboarded_receiver, period_count_receiver, period_ratio_receiver, ...]\n",
       "Index: []\n",
       "\n",
       "[0 rows x 112 columns]"
      ]
     },
     "execution_count": 8,
     "metadata": {},
     "output_type": "execute_result"
    }
   ],
   "source": [
    "user_df['flag'] = True\n",
    "old_names = user_df.columns\n",
    "new_names = {old:old+'_sender' for old in old_names}\n",
    "master_df = convo_df.join(user_df, on='uid_sender').join(user_df, on='uid_receiver', rsuffix=\"_receiver\").rename(index=str, columns = new_names)\n",
    "master_df.head(2)"
   ]
  },
  {
   "cell_type": "code",
   "execution_count": 11,
   "metadata": {},
   "outputs": [
    {
     "data": {
      "text/html": [
       "<div>\n",
       "<style>\n",
       "    .dataframe thead tr:only-child th {\n",
       "        text-align: right;\n",
       "    }\n",
       "\n",
       "    .dataframe thead th {\n",
       "        text-align: left;\n",
       "    }\n",
       "\n",
       "    .dataframe tbody tr th {\n",
       "        vertical-align: top;\n",
       "    }\n",
       "</style>\n",
       "<table border=\"1\" class=\"dataframe\">\n",
       "  <thead>\n",
       "    <tr style=\"text-align: right;\">\n",
       "      <th></th>\n",
       "      <th>conversation_id</th>\n",
       "      <th>convo_length</th>\n",
       "      <th>len_receiver</th>\n",
       "      <th>len_sender</th>\n",
       "      <th>mid_receiver</th>\n",
       "      <th>mid_sender</th>\n",
       "      <th>response</th>\n",
       "      <th>time_to_respond</th>\n",
       "      <th>timestamp</th>\n",
       "      <th>timestamp_receiver</th>\n",
       "      <th>uid_receiver</th>\n",
       "      <th>uid_sender</th>\n",
       "    </tr>\n",
       "  </thead>\n",
       "  <tbody>\n",
       "  </tbody>\n",
       "</table>\n",
       "</div>"
      ],
      "text/plain": [
       "Empty DataFrame\n",
       "Columns: [conversation_id, convo_length, len_receiver, len_sender, mid_receiver, mid_sender, response, time_to_respond, timestamp, timestamp_receiver, uid_receiver, uid_sender]\n",
       "Index: []"
      ]
     },
     "execution_count": 11,
     "metadata": {},
     "output_type": "execute_result"
    }
   ],
   "source": [
    "convo_df"
   ]
  },
  {
   "cell_type": "markdown",
   "metadata": {},
   "source": [
    "# DROP CONVERSATIONS WITH MISSING USER DATA"
   ]
  },
  {
   "cell_type": "code",
   "execution_count": null,
   "metadata": {},
   "outputs": [],
   "source": [
    "initial_len = len(master_df)\n",
    "\n",
    "# Add False values\n",
    "master_df.flag_receiver = master_df.flag_receiver.apply(lambda x: x if x==True else False)\n",
    "master_df = master_df[master_df.flag_receiver]\n",
    "final_len = len(master_df)\n",
    "\n",
    "print(\"{} conversations were removed because they were missing user data\".format(initial_len-final_len))"
   ]
  },
  {
   "cell_type": "markdown",
   "metadata": {},
   "source": [
    "# ADD FEATURES"
   ]
  },
  {
   "cell_type": "code",
   "execution_count": null,
   "metadata": {
    "scrolled": true
   },
   "outputs": [],
   "source": [
    "def roommate_rules(roommates):\n",
    "    if roommates > 4: return 3\n",
    "    elif roommates > 1: return 2\n",
    "    elif roommates > 0: return 1\n",
    "    else: return 0\n",
    "\n",
    "def get_rent_range(row):\n",
    "    max1 = row.maxCost_sender\n",
    "    max2 = row.maxCost_receiver\n",
    "    min1 = row.minCost_sender\n",
    "    min2 = row.minCost_receiver\n",
    "    if max1*max2*min1*min2 > 0:\n",
    "        upper = min(max1,max2)\n",
    "        lower = max(min1,min2)\n",
    "        if upper-lower > 0: return upper-lower\n",
    "        else: return 0\n",
    "    else: return 175\n",
    "    \n",
    "# def get_urgency_receiver(row):\n",
    "#     try:\n",
    "#         return row.timestamp-row.available_receiver\n",
    "#     except:\n",
    "#         return None\n",
    "    \n",
    "# def get_urgency_sender(row):\n",
    "#     try:\n",
    "#         return row.timestamp-row.available_sender\n",
    "#     except:\n",
    "#         return None\n",
    "    \n",
    "def get_urgency_receiver(row):\n",
    "    try:\n",
    "        return row.available_receiver-row.timestamp\n",
    "    except:\n",
    "        return None\n",
    "    \n",
    "def get_urgency_sender(row):\n",
    "    try:\n",
    "        return row.available_sender-row.timestamp\n",
    "    except:\n",
    "        return None\n",
    "    \n",
    "def first_message_win_week(row):\n",
    "    return row.get_urgency_receiver<8\n",
    "\n",
    "def time_to_respond(row):\n",
    "    return \n",
    "def my_distance(row):\n",
    "    a = row.location_receiver\n",
    "    b = row.location_sender\n",
    "    try: \n",
    "        one = b[0]-a[0]\n",
    "        two = b[1]-a[1]\n",
    "        return (one**2+two**2)**(.5)\n",
    "    except:\n",
    "        return None\n",
    "\n",
    "def feature_time(df):\n",
    "    df['age_dif'] = abs(df.age_sender-df.age_receiver)\n",
    "    df['same_gender'] = df.gender_sender==df.gender_receiver\n",
    "    df['same_relate'] = df.inRelationship_sender == df.inRelationship_receiver\n",
    "    df['same_clean'] = df.isClean_sender == df.isClean_receiver\n",
    "    df['same_night'] = df.isNight_sender == df.isNight_receiver\n",
    "    df['same_student'] = df.isStudent_sender == df.isStudent_receiver\n",
    "    df['same_student'] = df.isStudent_sender == df.isStudent_receiver\n",
    "    df['same_smoking'] = df.smokingOk_sender == df.smokingOk_receiver\n",
    "    df['same_type'] = df.type_sender == df.type_receiver\n",
    "    df['same_term'] = df.term_sender == df.term_receiver\n",
    "    df['same_work'] = df.work_sender == df.work_receiver\n",
    "    df['same_city'] = df.hometownCity_sender == df.hometownCity_receiver\n",
    "    df['same_state'] = df.hometownState_sender == df.hometownState_receiver\n",
    "    df['same_country'] = df.hometownCountry_sender == df.hometownCountry_receiver\n",
    "    df['same_college'] = df.college_sender == df.college_receiver\n",
    "    df['same_metro'] = df.metro_sender == df.metro_receiver\n",
    "\n",
    "    df['roommate_similarity'] = abs(df.numRoommates_sender.apply(lambda x: roommate_rules(x))\n",
    "                                  -df.numRoommates_receiver.apply(lambda x: roommate_rules(x)))\n",
    "\n",
    "    df['hobbies_receiver'] = df.hobbies_receiver.apply(lambda x: set(x) if isinstance(x,list) else set())\n",
    "    df['hobbies_sender'] = df.hobbies_sender.apply(lambda x: set(x) if isinstance(x,list) else set())\n",
    "    df['hobbies_overlap'] = df.apply(lambda x: len(x['hobbies_receiver'].intersection(x['hobbies_sender'])), axis=1)\n",
    "\n",
    "    df['amenities_receiver'] = df.amenities_receiver.apply(lambda x: set(x) if isinstance(x,list) else set())\n",
    "    df['amenities_sender'] = df.amenities_sender.apply(lambda x: set(x) if isinstance(x,list) else set())\n",
    "    df['amenities_overlap'] = df.apply(lambda x: len(x['amenities_receiver'].intersection(x['amenities_sender'])), axis=1)\n",
    "\n",
    "    df['neighborhoods_receiver'] = df.neighborhoods_receiver.apply(lambda x: set(x) if isinstance(x,list) else set())\n",
    "    df['neighborhoods_sender'] = df.neighborhoods_sender.apply(lambda x: set(x) if isinstance(x,list) else set())\n",
    "    df['neighborhoods_overlap'] = df.apply(lambda x: len(x['neighborhoods_receiver'].intersection(x['neighborhoods_sender'])), axis=1)\n",
    "\n",
    "    df['rent_overlap'] = df.apply(get_rent_range, axis=1)\n",
    "    \n",
    "    df['urgency_receiver'] = df.available_receiver-df.timestamp\n",
    "    master_df.urgency_receiver = master_df.urgency_receiver.apply(lambda x: x.days)\n",
    "#     df['too_late_receiver'] = df['urgency_receiver'].apply(lambda x: x < 0)\n",
    "    df['urgency_sender'] = df.available_sender-df.timestamp\n",
    "#     df['too_late_sender'] = df['urgency_sender'].apply(lambda x: x < 0)\n",
    "    master_df.urgency_sender = master_df.urgency_sender.apply(lambda x: x.days)\n",
    "    df['distance'] = df.apply(my_distance, axis=1)\n",
    "    \n",
    "    \n",
    "    binary = {True: 1, False: 0}\n",
    "    \n",
    "    col_to_binary = ['response', \n",
    "#                  'has_about_sender', 'has_about_receiver', 'gender_sender','gender_receiver',\n",
    "#                  'facebookId_sender', 'linkedinId_sender', 'picture_sender', 'has_room_sender',\n",
    "#                  'type_sender','type_receiver',\n",
    "#                  'facebookId_receiver', 'linkedinId_receiver', 'picture_receiver', 'has_room_receiver',\n",
    "                 'same_work','same_city','same_state','same_country','same_metro','same_college',\n",
    "                 'same_gender','same_relate','same_clean','same_night','same_student','same_smoking','same_term','same_type']\n",
    "    \n",
    "    for col in col_to_binary:\n",
    "        df[col] = df[col].map(binary)\n",
    "    \n",
    "    print(\"columns with null values: {}\".format(len(df.columns[df.isnull().any()])))\n",
    "    return df\n",
    "  \n",
    "master_df = feature_time(master_df)\n",
    "master_df.head()"
   ]
  },
  {
   "cell_type": "markdown",
   "metadata": {},
   "source": [
    "# PICKLE"
   ]
  },
  {
   "cell_type": "code",
   "execution_count": null,
   "metadata": {
    "collapsed": true
   },
   "outputs": [],
   "source": [
    "mp.json_it(master_df,'data_master')"
   ]
  },
  {
   "cell_type": "code",
   "execution_count": null,
   "metadata": {},
   "outputs": [],
   "source": [
    "master_df.urgency_receiver.mean()"
   ]
  },
  {
   "cell_type": "code",
   "execution_count": null,
   "metadata": {
    "collapsed": true
   },
   "outputs": [],
   "source": []
  }
 ],
 "metadata": {
  "kernelspec": {
   "display_name": "Python 3",
   "language": "python",
   "name": "python3"
  },
  "language_info": {
   "codemirror_mode": {
    "name": "ipython",
    "version": 3
   },
   "file_extension": ".py",
   "mimetype": "text/x-python",
   "name": "python",
   "nbconvert_exporter": "python",
   "pygments_lexer": "ipython3",
   "version": "3.6.3"
  }
 },
 "nbformat": 4,
 "nbformat_minor": 2
}
