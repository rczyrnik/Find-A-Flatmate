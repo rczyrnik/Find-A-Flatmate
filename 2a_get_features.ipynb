{
 "cells": [
  {
   "cell_type": "code",
   "execution_count": 1,
   "metadata": {
    "collapsed": true
   },
   "outputs": [],
   "source": [
    "import pandas as pd\n",
    "import numpy as np\n",
    "from numpy.random import choice\n",
    "import my_pickle as mp\n",
    "import matplotlib.pyplot as plt\n",
    "\n",
    "from importlib import reload"
   ]
  },
  {
   "cell_type": "code",
   "execution_count": null,
   "metadata": {
    "collapsed": true
   },
   "outputs": [],
   "source": [
    "reload(mp)"
   ]
  },
  {
   "cell_type": "markdown",
   "metadata": {},
   "source": [
    "# LOAD DATA FRAMES"
   ]
  },
  {
   "cell_type": "code",
   "execution_count": 2,
   "metadata": {},
   "outputs": [
    {
     "data": {
      "text/plain": [
       "Index(['I_count', 'I_ratio', 'about', 'activeAt', 'age', 'amenities',\n",
       "       'available', 'birthday', 'college', 'created', 'exclaim_count',\n",
       "       'exclaim_ratio', 'facebookId', 'gender', 'has_about', 'has_facebookId',\n",
       "       'has_linkedinId', 'has_picture', 'has_room', 'hobbies', 'hometownCity',\n",
       "       'hometownCountry', 'hometownState', 'inRelationship', 'isClean',\n",
       "       'isNight', 'isStudent', 'len_about', 'linkedinId', 'location',\n",
       "       'maxCost', 'metro', 'minCost', 'neighborhoods', 'numRoommates',\n",
       "       'onboarded', 'period_count', 'period_ratio', 'petsOk', 'picture',\n",
       "       'question_count', 'question_ratio', 'sentence_count', 'sentence_ratio',\n",
       "       'smokingOk', 'term', 'type', 'updated', 'work'],\n",
       "      dtype='object')"
      ]
     },
     "execution_count": 2,
     "metadata": {},
     "output_type": "execute_result"
    }
   ],
   "source": [
    "# Load User Data\n",
    "user_df = mp.unjson_it('data_user')\n",
    "user_df = mp.reinstate_date(user_df,['activeAt', 'available', 'birthday','created','updated'])\n",
    "user_df.columns"
   ]
  },
  {
   "cell_type": "code",
   "execution_count": 3,
   "metadata": {},
   "outputs": [
    {
     "name": "stdout",
     "output_type": "stream",
     "text": [
      "Make sure we're not using ECT data\n",
      "2017-10-02 01:35:58.644000\n"
     ]
    },
    {
     "data": {
      "text/plain": [
       "Index(['convo_length', 'len_receiver', 'len_sender', 'mid_receiver',\n",
       "       'mid_sender', 'response', 'timestamp', 'uid_receiver', 'uid_sender'],\n",
       "      dtype='object')"
      ]
     },
     "execution_count": 3,
     "metadata": {},
     "output_type": "execute_result"
    }
   ],
   "source": [
    "# Load Conversation Data\n",
    "convo_df = mp.unjson_it('data_convo')\n",
    "print(\"Make sure we're not using ECT data\")\n",
    "print(convo_df.timestamp.max())\n",
    "convo_df = convo_df.set_index('conversation_id')\n",
    "convo_df.columns"
   ]
  },
  {
   "cell_type": "code",
   "execution_count": 4,
   "metadata": {},
   "outputs": [
    {
     "name": "stdout",
     "output_type": "stream",
     "text": [
      "Make sure we're not using ECT data\n",
      "2017-10-02 01:35:58.644000\n"
     ]
    },
    {
     "data": {
      "text/plain": [
       "Index(['const', 'conversation_id', 'date', 'emailAttempted', 'emailed', 'flag',\n",
       "       'imageURL', 'message_id', 'read', 'readBy', 's_uid', 'text_length',\n",
       "       'timestamp', 'uid'],\n",
       "      dtype='object')"
      ]
     },
     "execution_count": 4,
     "metadata": {},
     "output_type": "execute_result"
    }
   ],
   "source": [
    "# Import Message DF\n",
    "message_df = mp.unjson_it('data_message')\n",
    "print(\"Make sure we're not using ECT data\")\n",
    "print(convo_df.timestamp.max())\n",
    "message_df.columns"
   ]
  },
  {
   "cell_type": "markdown",
   "metadata": {},
   "source": [
    "# MERGE USER DATA TO CONVERSATION DATA"
   ]
  },
  {
   "cell_type": "code",
   "execution_count": 5,
   "metadata": {},
   "outputs": [
    {
     "data": {
      "text/html": [
       "<div>\n",
       "<style>\n",
       "    .dataframe thead tr:only-child th {\n",
       "        text-align: right;\n",
       "    }\n",
       "\n",
       "    .dataframe thead th {\n",
       "        text-align: left;\n",
       "    }\n",
       "\n",
       "    .dataframe tbody tr th {\n",
       "        vertical-align: top;\n",
       "    }\n",
       "</style>\n",
       "<table border=\"1\" class=\"dataframe\">\n",
       "  <thead>\n",
       "    <tr style=\"text-align: right;\">\n",
       "      <th></th>\n",
       "      <th>convo_length</th>\n",
       "      <th>len_receiver</th>\n",
       "      <th>len_sender</th>\n",
       "      <th>mid_receiver</th>\n",
       "      <th>mid_sender</th>\n",
       "      <th>response</th>\n",
       "      <th>timestamp</th>\n",
       "      <th>uid_receiver</th>\n",
       "      <th>uid_sender</th>\n",
       "      <th>I_count_sender</th>\n",
       "      <th>...</th>\n",
       "      <th>question_count_receiver</th>\n",
       "      <th>question_ratio_receiver</th>\n",
       "      <th>sentence_count_receiver</th>\n",
       "      <th>sentence_ratio_receiver</th>\n",
       "      <th>smokingOk_receiver</th>\n",
       "      <th>term_receiver</th>\n",
       "      <th>type_receiver</th>\n",
       "      <th>updated_receiver</th>\n",
       "      <th>work_receiver</th>\n",
       "      <th>flag_receiver</th>\n",
       "    </tr>\n",
       "    <tr>\n",
       "      <th>conversation_id</th>\n",
       "      <th></th>\n",
       "      <th></th>\n",
       "      <th></th>\n",
       "      <th></th>\n",
       "      <th></th>\n",
       "      <th></th>\n",
       "      <th></th>\n",
       "      <th></th>\n",
       "      <th></th>\n",
       "      <th></th>\n",
       "      <th></th>\n",
       "      <th></th>\n",
       "      <th></th>\n",
       "      <th></th>\n",
       "      <th></th>\n",
       "      <th></th>\n",
       "      <th></th>\n",
       "      <th></th>\n",
       "      <th></th>\n",
       "      <th></th>\n",
       "      <th></th>\n",
       "    </tr>\n",
       "  </thead>\n",
       "  <tbody>\n",
       "    <tr>\n",
       "      <th>1Jqbth3nqH0EWNOmyQmW</th>\n",
       "      <td>1</td>\n",
       "      <td>NaN</td>\n",
       "      <td>17.0</td>\n",
       "      <td>None</td>\n",
       "      <td>-Kt7F-lKnoanl54lMnUO</td>\n",
       "      <td>False</td>\n",
       "      <td>2017-09-03 14:58:30.759</td>\n",
       "      <td>0EWNOmyQmW</td>\n",
       "      <td>1Jqbth3nqH</td>\n",
       "      <td>3.0</td>\n",
       "      <td>...</td>\n",
       "      <td>0.0</td>\n",
       "      <td>0.0</td>\n",
       "      <td>6.0</td>\n",
       "      <td>0.015789</td>\n",
       "      <td>0.0</td>\n",
       "      <td>NaN</td>\n",
       "      <td>NaN</td>\n",
       "      <td>None</td>\n",
       "      <td>Insightly</td>\n",
       "      <td>True</td>\n",
       "    </tr>\n",
       "    <tr>\n",
       "      <th>caEwxVJXPTGyR6cCT5K8</th>\n",
       "      <td>1</td>\n",
       "      <td>NaN</td>\n",
       "      <td>9.0</td>\n",
       "      <td>None</td>\n",
       "      <td>-KhP4gs1cj3-MfN7aZkb</td>\n",
       "      <td>False</td>\n",
       "      <td>2017-04-10 22:58:15.738</td>\n",
       "      <td>caEwxVJXPT</td>\n",
       "      <td>GyR6cCT5K8</td>\n",
       "      <td>0.0</td>\n",
       "      <td>...</td>\n",
       "      <td>0.0</td>\n",
       "      <td>0.0</td>\n",
       "      <td>10.0</td>\n",
       "      <td>0.022272</td>\n",
       "      <td>1.0</td>\n",
       "      <td>NaN</td>\n",
       "      <td>NaN</td>\n",
       "      <td>None</td>\n",
       "      <td>Shamblott Family Dentistry</td>\n",
       "      <td>True</td>\n",
       "    </tr>\n",
       "  </tbody>\n",
       "</table>\n",
       "<p>2 rows × 109 columns</p>\n",
       "</div>"
      ],
      "text/plain": [
       "                      convo_length  len_receiver  len_sender mid_receiver  \\\n",
       "conversation_id                                                             \n",
       "1Jqbth3nqH0EWNOmyQmW             1           NaN        17.0         None   \n",
       "caEwxVJXPTGyR6cCT5K8             1           NaN         9.0         None   \n",
       "\n",
       "                                mid_sender  response               timestamp  \\\n",
       "conversation_id                                                                \n",
       "1Jqbth3nqH0EWNOmyQmW  -Kt7F-lKnoanl54lMnUO     False 2017-09-03 14:58:30.759   \n",
       "caEwxVJXPTGyR6cCT5K8  -KhP4gs1cj3-MfN7aZkb     False 2017-04-10 22:58:15.738   \n",
       "\n",
       "                     uid_receiver  uid_sender  I_count_sender      ...        \\\n",
       "conversation_id                                                    ...         \n",
       "1Jqbth3nqH0EWNOmyQmW   0EWNOmyQmW  1Jqbth3nqH             3.0      ...         \n",
       "caEwxVJXPTGyR6cCT5K8   caEwxVJXPT  GyR6cCT5K8             0.0      ...         \n",
       "\n",
       "                      question_count_receiver question_ratio_receiver  \\\n",
       "conversation_id                                                         \n",
       "1Jqbth3nqH0EWNOmyQmW                      0.0                     0.0   \n",
       "caEwxVJXPTGyR6cCT5K8                      0.0                     0.0   \n",
       "\n",
       "                     sentence_count_receiver  sentence_ratio_receiver  \\\n",
       "conversation_id                                                         \n",
       "1Jqbth3nqH0EWNOmyQmW                     6.0                 0.015789   \n",
       "caEwxVJXPTGyR6cCT5K8                    10.0                 0.022272   \n",
       "\n",
       "                     smokingOk_receiver term_receiver type_receiver  \\\n",
       "conversation_id                                                       \n",
       "1Jqbth3nqH0EWNOmyQmW                0.0           NaN           NaN   \n",
       "caEwxVJXPTGyR6cCT5K8                1.0           NaN           NaN   \n",
       "\n",
       "                     updated_receiver                work_receiver  \\\n",
       "conversation_id                                                      \n",
       "1Jqbth3nqH0EWNOmyQmW             None                    Insightly   \n",
       "caEwxVJXPTGyR6cCT5K8             None  Shamblott Family Dentistry    \n",
       "\n",
       "                      flag_receiver  \n",
       "conversation_id                      \n",
       "1Jqbth3nqH0EWNOmyQmW           True  \n",
       "caEwxVJXPTGyR6cCT5K8           True  \n",
       "\n",
       "[2 rows x 109 columns]"
      ]
     },
     "execution_count": 5,
     "metadata": {},
     "output_type": "execute_result"
    }
   ],
   "source": [
    "user_df['flag'] = True\n",
    "old_names = user_df.columns\n",
    "new_names = {old:old+'_sender' for old in old_names}\n",
    "master_df = convo_df.join(user_df, on='uid_sender').join(user_df, on='uid_receiver', rsuffix=\"_receiver\").rename(index=str, columns = new_names)\n",
    "master_df.head(2)"
   ]
  },
  {
   "cell_type": "markdown",
   "metadata": {},
   "source": [
    "# DROP CONVERSATIONS WITH MISSING USER DATA"
   ]
  },
  {
   "cell_type": "code",
   "execution_count": 6,
   "metadata": {},
   "outputs": [
    {
     "name": "stdout",
     "output_type": "stream",
     "text": [
      "277 conversations were removed because they were missing user data\n"
     ]
    }
   ],
   "source": [
    "initial_len = len(master_df)\n",
    "\n",
    "# Add False values\n",
    "master_df.flag_receiver = master_df.flag_receiver.apply(lambda x: x if x==True else False)\n",
    "master_df = master_df[master_df.flag_receiver]\n",
    "final_len = len(master_df)\n",
    "\n",
    "print(\"{} conversations were removed because they were missing user data\".format(initial_len-final_len))"
   ]
  },
  {
   "cell_type": "markdown",
   "metadata": {},
   "source": [
    "# ADD FEATURES"
   ]
  },
  {
   "cell_type": "code",
   "execution_count": null,
   "metadata": {
    "collapsed": true,
    "scrolled": true
   },
   "outputs": [],
   "source": [
    "def roommate_rules(roommates):\n",
    "    if roommates > 4: return 3\n",
    "    elif roommates > 1: return 2\n",
    "    elif roommates > 0: return 1\n",
    "    else: return 0\n",
    "\n",
    "def get_rent_range(row):\n",
    "    max1 = row.maxCost_sender\n",
    "    max2 = row.maxCost_receiver\n",
    "    min1 = row.minCost_sender\n",
    "    min2 = row.minCost_receiver\n",
    "    if max1*max2*min1*min2 > 0:\n",
    "        upper = min(max1,max2)\n",
    "        lower = max(min1,min2)\n",
    "        if upper-lower > 0: return upper-lower\n",
    "        else: return 0\n",
    "    else: return 175\n",
    "    \n",
    "def get_urgency_receiver(row):\n",
    "    try:\n",
    "        return row.available_receiver-row.timestamp\n",
    "    except:\n",
    "        return None\n",
    "    \n",
    "def get_urgency_sender(row):\n",
    "    try:\n",
    "        return row.available_sender-row.timestamp\n",
    "    except:\n",
    "        return None\n",
    "    \n",
    "def my_distance(row):\n",
    "    a = row.location_receiver\n",
    "    b = row.location_sender\n",
    "    try: \n",
    "        one = b[0]-a[0]\n",
    "        two = b[1]-a[1]\n",
    "        return (one**2+two**2)**(.5)\n",
    "    except:\n",
    "        return None\n",
    "\n",
    "def feature_time(df):\n",
    "    df['age_dif'] = abs(df.age_sender-df.age_receiver)\n",
    "    df['same_gender'] = df.gender_sender==df.gender_receiver\n",
    "    df['same_relate'] = df.inRelationship_sender == df.inRelationship_receiver\n",
    "    df['same_clean'] = df.isClean_sender == df.isClean_receiver\n",
    "    df['same_night'] = df.isNight_sender == df.isNight_receiver\n",
    "    df['same_student'] = df.isStudent_sender == df.isStudent_receiver\n",
    "    df['same_student'] = df.isStudent_sender == df.isStudent_receiver\n",
    "    df['same_smoking'] = df.smokingOk_sender == df.smokingOk_receiver\n",
    "    df['same_type'] = df.type_sender == df.type_receiver\n",
    "    df['same_term'] = df.term_sender == df.term_receiver\n",
    "    df['same_work'] = df.work_sender == df.work_receiver\n",
    "    df['same_city'] = df.hometownCity_sender == df.hometownCity_receiver\n",
    "    df['same_state'] = df.hometownState_sender == df.hometownState_receiver\n",
    "    df['same_country'] = df.hometownCountry_sender == df.hometownCountry_receiver\n",
    "    df['same_college'] = df.college_sender == df.college_receiver\n",
    "    df['same_metro'] = df.metro_sender == df.metro_receiver\n",
    "\n",
    "    df['roommate_similarity'] = abs(df.numRoommates_sender.apply(lambda x: roommate_rules(x))\n",
    "                                  -df.numRoommates_receiver.apply(lambda x: roommate_rules(x)))\n",
    "\n",
    "    df['hobbies_receiver'] = df.hobbies_receiver.apply(lambda x: set(x) if isinstance(x,list) else set())\n",
    "    df['hobbies_sender'] = df.hobbies_sender.apply(lambda x: set(x) if isinstance(x,list) else set())\n",
    "    df['hobbies_overlap'] = df.apply(lambda x: len(x['hobbies_receiver'].intersection(x['hobbies_sender'])), axis=1)\n",
    "\n",
    "    df['amenities_receiver'] = df.amenities_receiver.apply(lambda x: set(x) if isinstance(x,list) else set())\n",
    "    df['amenities_sender'] = df.amenities_sender.apply(lambda x: set(x) if isinstance(x,list) else set())\n",
    "    df['amenities_overlap'] = df.apply(lambda x: len(x['amenities_receiver'].intersection(x['amenities_sender'])), axis=1)\n",
    "\n",
    "    df['neighborhoods_receiver'] = df.neighborhoods_receiver.apply(lambda x: set(x) if isinstance(x,list) else set())\n",
    "    df['neighborhoods_sender'] = df.neighborhoods_sender.apply(lambda x: set(x) if isinstance(x,list) else set())\n",
    "    df['neighborhoods_overlap'] = df.apply(lambda x: len(x['neighborhoods_receiver'].intersection(x['neighborhoods_sender'])), axis=1)\n",
    "\n",
    "    df['rent_overlap'] = df.apply(get_rent_range, axis=1)\n",
    "    \n",
    "    df['urgency_receiver'] = df.available_receiver-df.timestamp\n",
    "#     df['too_late_receiver'] = df['urgency_receiver'].apply(lambda x: x < 0)\n",
    "    df['urgency_sender'] = df.available_sender-df.timestamp\n",
    "#     df['too_late_sender'] = df['urgency_sender'].apply(lambda x: x < 0)\n",
    "    \n",
    "    df['distance'] = df.apply(my_distance, axis=1)\n",
    "    \n",
    "    \n",
    "    binary = {True: 1, False: 0}\n",
    "    \n",
    "    col_to_binary = ['response', \n",
    "#                  'has_about_sender', 'has_about_receiver', 'gender_sender','gender_receiver',\n",
    "#                  'facebookId_sender', 'linkedinId_sender', 'picture_sender', 'has_room_sender',\n",
    "#                  'type_sender','type_receiver',\n",
    "#                  'facebookId_receiver', 'linkedinId_receiver', 'picture_receiver', 'has_room_receiver',\n",
    "                 'same_work','same_city','same_state','same_country','same_metro','same_college',\n",
    "                 'same_gender','same_relate','same_clean','same_night','same_student','same_smoking','same_term','same_type']\n",
    "    \n",
    "    for col in col_to_binary:\n",
    "        df[col] = df[col].map(binary)\n",
    "    \n",
    "    print(\"columns with null values: {}\".format(len(df.columns[df.isnull().any()])))\n",
    "    return df\n",
    "  \n",
    "master_df = feature_time(master_df)\n",
    "master_df.head()"
   ]
  },
  {
   "cell_type": "markdown",
   "metadata": {},
   "source": [
    "# PICKLE"
   ]
  },
  {
   "cell_type": "code",
   "execution_count": null,
   "metadata": {
    "collapsed": true
   },
   "outputs": [],
   "source": [
    "mp.json_it(master_df,'data_master')"
   ]
  },
  {
   "cell_type": "code",
   "execution_count": null,
   "metadata": {
    "collapsed": true
   },
   "outputs": [],
   "source": []
  }
 ],
 "metadata": {
  "kernelspec": {
   "display_name": "Python 3",
   "language": "python",
   "name": "python3"
  },
  "language_info": {
   "codemirror_mode": {
    "name": "ipython",
    "version": 3
   },
   "file_extension": ".py",
   "mimetype": "text/x-python",
   "name": "python",
   "nbconvert_exporter": "python",
   "pygments_lexer": "ipython3",
   "version": "3.6.3"
  }
 },
 "nbformat": 4,
 "nbformat_minor": 2
}
