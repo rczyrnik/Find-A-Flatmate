{
 "cells": [
  {
   "cell_type": "code",
   "execution_count": null,
   "metadata": {
    "collapsed": true
   },
   "outputs": [],
   "source": [
    "import pandas as pd\n",
    "import numpy as np\n",
    "import matplotlib.pyplot as plt\n",
    "import datetime as dt\n",
    "\n",
    "import seaborn as sns\n",
    "sns.set()"
   ]
  },
  {
   "cell_type": "code",
   "execution_count": null,
   "metadata": {
    "collapsed": true
   },
   "outputs": [],
   "source": [
    "# directory\n",
    "data_file_path = \"/Users/gandalf/Documents/coding/do_not_commit/capstone/\"\n",
    "website_file_path = '/Users/gandalf/Documents/coding/rczyrnik.github.io/capstone/'"
   ]
  },
  {
   "cell_type": "code",
   "execution_count": null,
   "metadata": {},
   "outputs": [],
   "source": [
    "df =  pd.read_pickle(data_file_path+'convo_df.pkl')\n",
    "n=len(df)\n",
    "df.head(2)"
   ]
  },
  {
   "cell_type": "markdown",
   "metadata": {},
   "source": [
    "# TIME"
   ]
  },
  {
   "cell_type": "code",
   "execution_count": null,
   "metadata": {},
   "outputs": [],
   "source": [
    "ax = df['first_message_day_of_year'].plot(kind='kde')\n",
    "\n",
    "xlabels = [dt.date(2017,1,1) + dt.timedelta(x) for x in range(0, 360, 54)]\n",
    "ax.set_xticklabels(xlabels)\n",
    "\n",
    "plt.xticks(rotation=45)\n",
    "\n",
    "ax.set_xlim(0,250)\n",
    "ax.set_ylabel(\"Relative Density\")\n",
    "ax.set_xlabel(\"\")\n",
    "plt.title(\"Messages Sent Over Time\", fontsize=16)\n",
    "# plt.savefig(website_file_path+\"eda_dates_of_messages.png\")\n",
    "plt.show()"
   ]
  },
  {
   "cell_type": "code",
   "execution_count": null,
   "metadata": {},
   "outputs": [],
   "source": [
    "temp = df.groupby(\"first_message_day_of_month\").count().first_message_timestamp\n",
    "ax = temp.plot(kind='bar',width=.6)\n",
    "\n",
    "y_ticks = ax.get_yticks()\n",
    "ylabels = [round(x/n,2) for x in y_ticks]\n",
    "ax.set_yticklabels(ylabels)\n",
    "\n",
    "ax.set_ylabel(\"Relative Frequency\")\n",
    "ax.set_xlabel(\"\")\n",
    "plt.title(\"Day of Month\", fontsize=16)\n",
    "# plt.savefig(website_file_path+\"eda_day_of_month.png\")\n",
    "plt.show()"
   ]
  },
  {
   "cell_type": "code",
   "execution_count": null,
   "metadata": {},
   "outputs": [],
   "source": [
    "temp = df.groupby(\"first_message_day_of_week\").count().first_message_timestamp\n",
    "ax = temp.plot(kind='bar',width=.6)\n",
    "x_labels = [\"Mon\",\"Tues\",\"Weds\",\"Thurs\",\"Fri\",\"Sat\",\"Sun\"]\n",
    "ax.set_xticklabels(x_labels)\n",
    "\n",
    "y_ticks = ax.get_yticks()\n",
    "\n",
    "ylabels = [round(x/n,2) for x in y_ticks]\n",
    "ax.set_yticklabels(ylabels)\n",
    "\n",
    "ax.set_ylabel(\"Relative Frequency\")\n",
    "ax.set_xlabel(\"\")\n",
    "plt.title(\"Messages Sent By Day of Week\", fontsize=16)\n",
    "# plt.savefig(website_file_path+\"eda_message_day_of_week.png\")\n",
    "plt.show()"
   ]
  },
  {
   "cell_type": "code",
   "execution_count": null,
   "metadata": {},
   "outputs": [],
   "source": [
    "ax = df['first_message_hour'].plot(kind='hist',bins=24)\n",
    "x_labels = [\"Midnight\", \"5 AM\", \"10 AM\", \"3 PM\",\"8 PM\"]\n",
    "ax.set_xticklabels(x_labels)\n",
    "ax.set_xlim(0,23)\n",
    "\n",
    "y_ticks = ax.get_yticks()\n",
    "\n",
    "\n",
    "ylabels = [round(x/n,3) for x in y_ticks]\n",
    "ax.set_yticklabels(ylabels)\n",
    "\n",
    "ax.set_ylabel(\"Relative Frequency\")\n",
    "ax.set_xlabel(\"\")\n",
    "plt.title(\"Messages Sent By Time of Day\", fontsize=16)\n",
    "# plt.savefig(website_file_path+\"eda_message_time_of_day.png\")\n",
    "plt.show()"
   ]
  },
  {
   "cell_type": "code",
   "execution_count": null,
   "metadata": {},
   "outputs": [],
   "source": [
    "maxim = 1000\n",
    "ax=sns.kdeplot(df.first_message_len)\n",
    "\n",
    "ax.set_ylabel(\"Relative Density\")\n",
    "ax.set_xlabel(\"\")\n",
    "ax.set_xlim(0,maxim)\n",
    "plt.savefig(website_file_path+\"eda_len_of_messages.png\")\n",
    "plt.show()\n",
    "\n",
    "print(\"{:.3}% of messages are longer than {}.\".format(100*(df.first_message_len>1000).sum()/n, maxim))"
   ]
  },
  {
   "cell_type": "code",
   "execution_count": null,
   "metadata": {},
   "outputs": [],
   "source": [
    "df['const'] = 1\n",
    "maxim = 10\n",
    "\n",
    "temp = df.groupby('len_convo').count().const\n",
    "temp = temp[:maxim]\n",
    "ax = plt.bar(temp.index, temp)\n",
    "\n",
    "plt.savefig(website_file_path+\"eda_len_of_conversations.png\")\n",
    "plt.show()\n",
    "print(\"{:.3}% of messages get a response.\".format(100*(df.len_convo>1).sum()/n, maxim))\n",
    "print(\"{:.3}% of conversations are longer than {} messages.\".format(100*(df.len_convo>maxim).sum()/n, maxim))"
   ]
  },
  {
   "cell_type": "code",
   "execution_count": null,
   "metadata": {},
   "outputs": [],
   "source": [
    "temp = df.groupby(['first_message_day_of_year','response']).count().const.unstack().fillna(0)\n",
    "temp.columns = ['no','yes']\n",
    "temp.head()"
   ]
  },
  {
   "cell_type": "code",
   "execution_count": null,
   "metadata": {},
   "outputs": [],
   "source": [
    "temp['total'] = temp.no+temp.yes\n",
    "temp['percent'] = temp.yes/temp.total\n",
    "temp.head()"
   ]
  },
  {
   "cell_type": "code",
   "execution_count": null,
   "metadata": {},
   "outputs": [],
   "source": [
    "df.columns"
   ]
  },
  {
   "cell_type": "code",
   "execution_count": null,
   "metadata": {},
   "outputs": [],
   "source": [
    "temp = df.groupby(['first_message_day_of_year','response']).count().const.unstack().fillna(0)\n",
    "temp.columns = ['no','yes']\n",
    "temp['total'] = temp.no+temp.yes\n",
    "temp['percent'] = temp.yes/temp.total\n",
    "plt.plot(temp.percent)\n",
    "plt.show()"
   ]
  },
  {
   "cell_type": "code",
   "execution_count": null,
   "metadata": {},
   "outputs": [],
   "source": [
    "def smooth(lst, times=1):\n",
    "    once = [lst[0]] + [.25*lst[x-1]+.5*lst[x]+.25*lst[x+1] for x in range(0, len(lst)-1)]\n",
    "\n",
    "    if times == 1:\n",
    "        return once\n",
    "    else:\n",
    "        return (smooth(once, times-1))\n",
    "    \n",
    "def show_trend(feature_name):\n",
    "    \n",
    "    temp = df.groupby([feature_name,'response']).count().const.unstack().fillna(0)\n",
    "    temp.columns = ['no','yes']\n",
    "    temp['total'] = temp.no+temp.yes\n",
    "    temp['percent'] = temp.yes/temp.total\n",
    "\n",
    "    lst = smooth(list(temp.percent),20) \n",
    "\n",
    "    dates = list(pd.date_range(pd.to_datetime(\"03/01/2017\"), periods=len(lst)))\n",
    "\n",
    "    plt.plot(dates, lst)\n",
    "\n",
    "    plt.ylabel(\"Percent Responding\")\n",
    "    plt.xlabel(\"Date\")\n",
    "    plt.title(feature_name, fontsize=16)\n",
    "    plt.savefig(website_file_path+\"response_rate_\"+feature_name+\".png\")\n",
    "    plt.show()\n",
    "    \n",
    "show_trend('created_day_of_year')   "
   ]
  },
  {
   "cell_type": "code",
   "execution_count": null,
   "metadata": {},
   "outputs": [],
   "source": [
    "list(pd.date_range(pd.to_datetime(\"01/01/2000\"), periods=10))"
   ]
  },
  {
   "cell_type": "code",
   "execution_count": null,
   "metadata": {},
   "outputs": [],
   "source": [
    "temp = df.groupby(['first_message_month','response']).count().const.unstack().fillna(0)\n",
    "temp.columns = ['no','yes']\n",
    "temp['total'] = temp.no+temp.yes\n",
    "temp['percent'] = temp.yes/temp.total\n",
    "plt.plot(temp.percent)\n",
    "plt.ylim([0,.2])\n",
    "plt.show()"
   ]
  },
  {
   "cell_type": "code",
   "execution_count": null,
   "metadata": {},
   "outputs": [],
   "source": [
    "df.columns"
   ]
  },
  {
   "cell_type": "code",
   "execution_count": null,
   "metadata": {
    "collapsed": true
   },
   "outputs": [],
   "source": []
  }
 ],
 "metadata": {
  "kernelspec": {
   "display_name": "Python 3",
   "language": "python",
   "name": "python3"
  },
  "language_info": {
   "codemirror_mode": {
    "name": "ipython",
    "version": 3
   },
   "file_extension": ".py",
   "mimetype": "text/x-python",
   "name": "python",
   "nbconvert_exporter": "python",
   "pygments_lexer": "ipython3",
   "version": "3.6.3"
  }
 },
 "nbformat": 4,
 "nbformat_minor": 2
}
