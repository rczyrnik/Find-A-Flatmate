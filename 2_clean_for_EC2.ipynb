{
 "cells": [
  {
   "cell_type": "code",
   "execution_count": 1,
   "metadata": {
    "collapsed": true
   },
   "outputs": [],
   "source": [
    "import pandas as pd\n",
    "import numpy as np\n",
    "from numpy.random import choice\n",
    "import my_pickle as mp\n",
    "import matplotlib.pyplot as plt\n",
    "\n",
    "from importlib import reload"
   ]
  },
  {
   "cell_type": "code",
   "execution_count": 3,
   "metadata": {},
   "outputs": [],
   "source": [
    "master_df = mp.unjson_it('data_master')"
   ]
  },
  {
   "cell_type": "code",
   "execution_count": 9,
   "metadata": {},
   "outputs": [
    {
     "data": {
      "text/plain": [
       "array(['I_count_receiver', 'I_count_sender', 'I_ratio_receiver',\n",
       "       'I_ratio_sender', 'about_receiver', 'about_sender',\n",
       "       'activeAt_receiver', 'activeAt_sender', 'age_dif', 'age_receiver',\n",
       "       'age_sender', 'amenities_overlap', 'amenities_receiver',\n",
       "       'amenities_sender', 'available_receiver', 'available_sender',\n",
       "       'birthday_receiver', 'birthday_sender', 'college_receiver',\n",
       "       'college_sender', 'convo_length', 'created_receiver',\n",
       "       'created_sender', 'distance', 'exclaim_count_receiver',\n",
       "       'exclaim_count_sender', 'exclaim_ratio_receiver',\n",
       "       'exclaim_ratio_sender', 'facebookId_receiver', 'facebookId_sender',\n",
       "       'flag_receiver', 'flag_sender', 'gender_receiver', 'gender_sender',\n",
       "       'has_about_receiver', 'has_about_sender', 'has_facebookId_receiver',\n",
       "       'has_facebookId_sender', 'has_linkedinId_receiver',\n",
       "       'has_linkedinId_sender', 'has_picture_receiver',\n",
       "       'has_picture_sender', 'has_room_receiver', 'has_room_sender',\n",
       "       'hobbies_overlap', 'hobbies_receiver', 'hobbies_sender',\n",
       "       'hometownCity_receiver', 'hometownCity_sender',\n",
       "       'hometownCountry_receiver', 'hometownCountry_sender',\n",
       "       'hometownState_receiver', 'hometownState_sender',\n",
       "       'inRelationship_receiver', 'inRelationship_sender',\n",
       "       'isClean_receiver', 'isClean_sender', 'isNight_receiver',\n",
       "       'isNight_sender', 'isStudent_receiver', 'isStudent_sender',\n",
       "       'len_about_receiver', 'len_about_sender', 'len_receiver',\n",
       "       'len_sender', 'linkedinId_receiver', 'linkedinId_sender',\n",
       "       'location_receiver', 'location_sender', 'maxCost_receiver',\n",
       "       'maxCost_sender', 'metro_receiver', 'metro_sender', 'mid_receiver',\n",
       "       'mid_sender', 'minCost_receiver', 'minCost_sender',\n",
       "       'neighborhoods_overlap', 'neighborhoods_receiver',\n",
       "       'neighborhoods_sender', 'numRoommates_receiver',\n",
       "       'numRoommates_sender', 'onboarded_receiver', 'onboarded_sender',\n",
       "       'period_count_receiver', 'period_count_sender',\n",
       "       'period_ratio_receiver', 'period_ratio_sender', 'petsOk_receiver',\n",
       "       'petsOk_sender', 'picture_receiver', 'picture_sender',\n",
       "       'question_count_receiver', 'question_count_sender',\n",
       "       'question_ratio_receiver', 'question_ratio_sender', 'rent_overlap',\n",
       "       'response', 'roommate_similarity', 'same_city', 'same_clean',\n",
       "       'same_college', 'same_country', 'same_gender', 'same_metro',\n",
       "       'same_night', 'same_relate', 'same_smoking', 'same_state',\n",
       "       'same_student', 'same_term', 'same_type', 'same_work',\n",
       "       'sentence_count_receiver', 'sentence_count_sender',\n",
       "       'sentence_ratio_receiver', 'sentence_ratio_sender',\n",
       "       'smokingOk_receiver', 'smokingOk_sender', 'term_receiver',\n",
       "       'term_sender', 'timestamp', 'type_receiver', 'type_sender',\n",
       "       'uid_receiver', 'uid_sender', 'updated_receiver', 'updated_sender',\n",
       "       'urgency_receiver', 'urgency_sender', 'work_receiver', 'work_sender'], dtype=object)"
      ]
     },
     "execution_count": 9,
     "metadata": {},
     "output_type": "execute_result"
    }
   ],
   "source": [
    "master_df.columns.values"
   ]
  },
  {
   "cell_type": "code",
   "execution_count": 23,
   "metadata": {},
   "outputs": [
    {
     "data": {
      "text/html": [
       "<div>\n",
       "<style>\n",
       "    .dataframe thead tr:only-child th {\n",
       "        text-align: right;\n",
       "    }\n",
       "\n",
       "    .dataframe thead th {\n",
       "        text-align: left;\n",
       "    }\n",
       "\n",
       "    .dataframe tbody tr th {\n",
       "        vertical-align: top;\n",
       "    }\n",
       "</style>\n",
       "<table border=\"1\" class=\"dataframe\">\n",
       "  <thead>\n",
       "    <tr style=\"text-align: right;\">\n",
       "      <th></th>\n",
       "      <th>term_receiver</th>\n",
       "      <th>term_sender</th>\n",
       "      <th>timestamp</th>\n",
       "      <th>type_receiver</th>\n",
       "      <th>type_sender</th>\n",
       "      <th>uid_receiver</th>\n",
       "      <th>uid_sender</th>\n",
       "      <th>updated_receiver</th>\n",
       "      <th>updated_sender</th>\n",
       "      <th>urgency_receiver</th>\n",
       "      <th>urgency_sender</th>\n",
       "    </tr>\n",
       "  </thead>\n",
       "  <tbody>\n",
       "    <tr>\n",
       "      <th>02sjTzcsaO02omVxM8Xm</th>\n",
       "      <td>6.0</td>\n",
       "      <td>NaN</td>\n",
       "      <td>2017-09-11 02:41:19.188</td>\n",
       "      <td>1.0</td>\n",
       "      <td>NaN</td>\n",
       "      <td>02sjTzcsaO</td>\n",
       "      <td>02omVxM8Xm</td>\n",
       "      <td>NaN</td>\n",
       "      <td>NaN</td>\n",
       "      <td>1.723056e+09</td>\n",
       "      <td>NaN</td>\n",
       "    </tr>\n",
       "    <tr>\n",
       "      <th>07Aj9wLBPC013LzOrVju</th>\n",
       "      <td>2.0</td>\n",
       "      <td>4.0</td>\n",
       "      <td>2017-10-01 19:01:24.198</td>\n",
       "      <td>1.0</td>\n",
       "      <td>NaN</td>\n",
       "      <td>07Aj9wLBPC</td>\n",
       "      <td>013LzOrVju</td>\n",
       "      <td>NaN</td>\n",
       "      <td>NaN</td>\n",
       "      <td>NaN</td>\n",
       "      <td>262402802.0</td>\n",
       "    </tr>\n",
       "    <tr>\n",
       "      <th>07lVtClAEQ01iDVeaXl1</th>\n",
       "      <td>13.0</td>\n",
       "      <td>12.0</td>\n",
       "      <td>2017-09-06 20:03:30.419</td>\n",
       "      <td>NaN</td>\n",
       "      <td>1.0</td>\n",
       "      <td>07lVtClAEQ</td>\n",
       "      <td>01iDVeaXl1</td>\n",
       "      <td>NaN</td>\n",
       "      <td>NaN</td>\n",
       "      <td>-4.618784e+08</td>\n",
       "      <td>319640581.0</td>\n",
       "    </tr>\n",
       "    <tr>\n",
       "      <th>0AFU6guKDt01iDVeaXl1</th>\n",
       "      <td>12.0</td>\n",
       "      <td>12.0</td>\n",
       "      <td>2017-09-06 20:04:10.818</td>\n",
       "      <td>1.0</td>\n",
       "      <td>1.0</td>\n",
       "      <td>0AFU6guKDt</td>\n",
       "      <td>01iDVeaXl1</td>\n",
       "      <td>NaN</td>\n",
       "      <td>NaN</td>\n",
       "      <td>NaN</td>\n",
       "      <td>319600182.0</td>\n",
       "    </tr>\n",
       "    <tr>\n",
       "      <th>0AFU6guKDt01mfWG4vUm</th>\n",
       "      <td>12.0</td>\n",
       "      <td>12.0</td>\n",
       "      <td>2017-07-03 20:14:06.271</td>\n",
       "      <td>1.0</td>\n",
       "      <td>1.0</td>\n",
       "      <td>01mfWG4vUm</td>\n",
       "      <td>0AFU6guKDt</td>\n",
       "      <td>NaN</td>\n",
       "      <td>NaN</td>\n",
       "      <td>NaN</td>\n",
       "      <td>NaN</td>\n",
       "    </tr>\n",
       "  </tbody>\n",
       "</table>\n",
       "</div>"
      ],
      "text/plain": [
       "                      term_receiver  term_sender               timestamp  \\\n",
       "02sjTzcsaO02omVxM8Xm            6.0          NaN 2017-09-11 02:41:19.188   \n",
       "07Aj9wLBPC013LzOrVju            2.0          4.0 2017-10-01 19:01:24.198   \n",
       "07lVtClAEQ01iDVeaXl1           13.0         12.0 2017-09-06 20:03:30.419   \n",
       "0AFU6guKDt01iDVeaXl1           12.0         12.0 2017-09-06 20:04:10.818   \n",
       "0AFU6guKDt01mfWG4vUm           12.0         12.0 2017-07-03 20:14:06.271   \n",
       "\n",
       "                      type_receiver  type_sender uid_receiver  uid_sender  \\\n",
       "02sjTzcsaO02omVxM8Xm            1.0          NaN   02sjTzcsaO  02omVxM8Xm   \n",
       "07Aj9wLBPC013LzOrVju            1.0          NaN   07Aj9wLBPC  013LzOrVju   \n",
       "07lVtClAEQ01iDVeaXl1            NaN          1.0   07lVtClAEQ  01iDVeaXl1   \n",
       "0AFU6guKDt01iDVeaXl1            1.0          1.0   0AFU6guKDt  01iDVeaXl1   \n",
       "0AFU6guKDt01mfWG4vUm            1.0          1.0   01mfWG4vUm  0AFU6guKDt   \n",
       "\n",
       "                      updated_receiver  updated_sender  urgency_receiver  \\\n",
       "02sjTzcsaO02omVxM8Xm               NaN             NaN      1.723056e+09   \n",
       "07Aj9wLBPC013LzOrVju               NaN             NaN               NaN   \n",
       "07lVtClAEQ01iDVeaXl1               NaN             NaN     -4.618784e+08   \n",
       "0AFU6guKDt01iDVeaXl1               NaN             NaN               NaN   \n",
       "0AFU6guKDt01mfWG4vUm               NaN             NaN               NaN   \n",
       "\n",
       "                      urgency_sender  \n",
       "02sjTzcsaO02omVxM8Xm             NaN  \n",
       "07Aj9wLBPC013LzOrVju     262402802.0  \n",
       "07lVtClAEQ01iDVeaXl1     319640581.0  \n",
       "0AFU6guKDt01iDVeaXl1     319600182.0  \n",
       "0AFU6guKDt01mfWG4vUm             NaN  "
      ]
     },
     "execution_count": 23,
     "metadata": {},
     "output_type": "execute_result"
    }
   ],
   "source": [
    "master_df.iloc[:,119:130].head()"
   ]
  },
  {
   "cell_type": "code",
   "execution_count": 11,
   "metadata": {},
   "outputs": [
    {
     "name": "stdout",
     "output_type": "stream",
     "text": [
      "there are 132 columns\n"
     ]
    }
   ],
   "source": [
    "print(\"there are {} columns\".format(len(master_df.columns.values)))"
   ]
  },
  {
   "cell_type": "code",
   "execution_count": 36,
   "metadata": {},
   "outputs": [],
   "source": [
    "keep_X = ['I_count_receiver', 'I_count_sender',  \n",
    "        'age_dif', 'age_receiver', 'age_sender', 'amenities_overlap', 'distance', \n",
    "        'exclaim_count_receiver','exclaim_count_sender', 'gender_receiver', 'gender_sender',\n",
    "        'has_about_receiver', 'has_about_sender', 'has_facebookId_receiver','has_facebookId_sender',\n",
    "        'has_linkedinId_receiver','has_linkedinId_sender', 'has_picture_receiver','has_picture_sender', \n",
    "        'has_room_receiver', 'has_room_sender','hobbies_overlap','inRelationship_receiver', 'inRelationship_sender',\n",
    "        'isClean_receiver', 'isClean_sender', 'isNight_receiver','isNight_sender', \n",
    "        'isStudent_receiver', 'isStudent_sender','len_about_receiver', 'len_about_sender',\n",
    "        'maxCost_receiver','maxCost_sender','minCost_receiver', 'minCost_sender',\n",
    "        'neighborhoods_overlap','numRoommates_receiver','numRoommates_sender',\n",
    "        'period_count_receiver', 'period_count_sender','petsOk_receiver','petsOk_sender',\n",
    "        'question_count_receiver', 'question_count_sender','rent_overlap','roommate_similarity',\n",
    "        'same_city', 'same_clean',\n",
    "        'same_college', 'same_country', 'same_gender', 'same_metro',\n",
    "        'same_night', 'same_relate', 'same_smoking', 'same_state',\n",
    "        'same_student', 'same_term', 'same_type', 'same_work',\n",
    "        'sentence_count_receiver', 'sentence_count_sender',\n",
    "        'smokingOk_receiver', 'smokingOk_sender', 'term_receiver','term_sender', \n",
    "        'type_receiver', 'type_sender','urgency_receiver', 'urgency_sender']\n",
    "   \n",
    "keep_y = ['convo_length','response']\n",
    "          \n",
    "drop = ['I_ratio_receiver', 'I_ratio_sender','about_receiver', 'about_sender', \n",
    "        'activeAt_receiver', 'activeAt_sender',\n",
    "        'amenities_receiver', 'amenities_sender','available_receiver', 'available_sender', \n",
    "        'birthday_receiver', 'birthday_sender',\n",
    "        'college_receiver', 'college_sender','created_receiver', 'created_sender',\n",
    "        'exclaim_ratio_receiver','exclaim_ratio_sender',\n",
    "        'facebookId_receiver', 'facebookId_sender', 'flag_receiver', 'flag_sender',\n",
    "        'hobbies_receiver', 'hobbies_sender','hometownCity_receiver', 'hometownCity_sender',\n",
    "        'hometownCountry_receiver', 'hometownCountry_sender','hometownState_receiver', 'hometownState_sender',\n",
    "        'len_receiver','len_sender','linkedinId_receiver', 'linkedinId_sender',\n",
    "        'location_receiver', 'location_sender','metro_receiver', 'metro_sender', \n",
    "        'mid_receiver','mid_sender', 'neighborhoods_receiver','neighborhoods_sender',\n",
    "        'onboarded_receiver', 'onboarded_sender','period_ratio_receiver', 'period_ratio_sender', \n",
    "        'picture_receiver', 'picture_sender','question_ratio_receiver', 'question_ratio_sender',\n",
    "        'sentence_ratio_receiver', 'sentence_ratio_sender','timestamp',\n",
    "        'uid_receiver', 'uid_sender','updated_receiver', 'updated_sender',\n",
    "        'work_receiver', 'work_sender']"
   ]
  },
  {
   "cell_type": "code",
   "execution_count": 37,
   "metadata": {},
   "outputs": [],
   "source": [
    "X_df = master_df[keep_X]\n",
    "X_df = X_df.fillna(X_df.mean(axis=0))\n",
    "y_df = master_df[keep_y]"
   ]
  },
  {
   "cell_type": "code",
   "execution_count": 38,
   "metadata": {
    "collapsed": true
   },
   "outputs": [],
   "source": [
    "mp.json_it(X_df,'data_X')\n",
    "mp.json_it(y_df,'data_y')"
   ]
  },
  {
   "cell_type": "code",
   "execution_count": null,
   "metadata": {
    "collapsed": true
   },
   "outputs": [],
   "source": []
  }
 ],
 "metadata": {
  "kernelspec": {
   "display_name": "Python 3",
   "language": "python",
   "name": "python3"
  },
  "language_info": {
   "codemirror_mode": {
    "name": "ipython",
    "version": 3
   },
   "file_extension": ".py",
   "mimetype": "text/x-python",
   "name": "python",
   "nbconvert_exporter": "python",
   "pygments_lexer": "ipython3",
   "version": "3.6.3"
  }
 },
 "nbformat": 4,
 "nbformat_minor": 2
}
