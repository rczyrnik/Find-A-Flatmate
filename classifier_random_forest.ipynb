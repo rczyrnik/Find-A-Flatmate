{
 "cells": [
  {
   "cell_type": "code",
   "execution_count": 27,
   "metadata": {
    "collapsed": true
   },
   "outputs": [],
   "source": [
    "# # BASICS\n",
    "# from time import time\n",
    "# import pandas as pd\n",
    "import numpy as np\n",
    "import matplotlib.pyplot as plt\n",
    "\n",
    "# HELPER FUNCTIONS\n",
    "import my_functions as mf\n",
    "\n",
    "# # CLASSIFIERS\n",
    "from sklearn.ensemble import RandomForestClassifier\n",
    "\n",
    "# # GRID SEARCHING\n",
    "from sklearn.model_selection import RandomizedSearchCV\n",
    "\n",
    "# # WARNINGS\n",
    "import warnings\n",
    "warnings.filterwarnings('ignore')"
   ]
  },
  {
   "cell_type": "markdown",
   "metadata": {},
   "source": [
    "# Create Dict to Hold Dataframse"
   ]
  },
  {
   "cell_type": "code",
   "execution_count": 2,
   "metadata": {
    "collapsed": true
   },
   "outputs": [],
   "source": [
    "# ed holds the searches in case I want to refer to one later\n",
    "ed = {}\n",
    "\n",
    "# random_forest_grid keeps track of the best grid search parmeters\n",
    "random_forest_grid = {}"
   ]
  },
  {
   "cell_type": "markdown",
   "metadata": {},
   "source": [
    "# Read Data"
   ]
  },
  {
   "cell_type": "code",
   "execution_count": 3,
   "metadata": {
    "collapsed": true
   },
   "outputs": [],
   "source": [
    "X_train, X_test, y_train, y_test, cols = mf.load_arrays(True)"
   ]
  },
  {
   "cell_type": "markdown",
   "metadata": {},
   "source": [
    "# n_estimators"
   ]
  },
  {
   "cell_type": "code",
   "execution_count": 8,
   "metadata": {},
   "outputs": [
    {
     "data": {
      "image/png": "[encoded data removed]",
      "text/plain": [
       "<matplotlib.figure.Figure at 0x1a167e2320>"
      ]
     },
     "metadata": {},
     "output_type": "display_data"
    },
    {
     "name": "stdout",
     "output_type": "stream",
     "text": [
      "CPU times: user 8.81 s, sys: 284 ms, total: 9.09 s\n",
      "Wall time: 9.48 s\n"
     ]
    }
   ],
   "source": [
    "%%time\n",
    "\n",
    "parameter = \"n_estimators\"\n",
    "values = range(1, 21)\n",
    "\n",
    "ed[parameter] = mf.gridsearching(\n",
    "        RandomForestClassifier(),             # Our model\n",
    "        {parameter: values},                   # Values for that parameter\n",
    "        X_train, y_train\n",
    ")\n",
    "\n",
    "# Plot\n",
    "mf.plot_line(ed[parameter], parameter)"
   ]
  },
  {
   "cell_type": "code",
   "execution_count": null,
   "metadata": {
    "collapsed": true
   },
   "outputs": [],
   "source": [
    "'''\n",
    "CONCLUSION: strange that f1 decreases with more trees. \n",
    "            even tress also do poorly. \n",
    "            switch from default of 10 to 7 trees\n",
    "            '''\n",
    "\n",
    "random_forest_grid[\"n_estimators\"] = [7]"
   ]
  },
  {
   "cell_type": "markdown",
   "metadata": {},
   "source": [
    "# criterion"
   ]
  },
  {
   "cell_type": "code",
   "execution_count": 9,
   "metadata": {},
   "outputs": [
    {
     "data": {
      "image/png": "[encoded data removed]",
      "text/plain": [
       "<matplotlib.figure.Figure at 0x1a1ec94908>"
      ]
     },
     "metadata": {},
     "output_type": "display_data"
    },
    {
     "name": "stdout",
     "output_type": "stream",
     "text": [
      "CPU times: user 1.02 s, sys: 23.6 ms, total: 1.04 s\n",
      "Wall time: 1.05 s\n"
     ]
    }
   ],
   "source": [
    "%%time\n",
    "\n",
    "parameter = \"criterion\"\n",
    "values = ['gini','entropy']\n",
    "\n",
    "ed[parameter] = mf.gridsearching(\n",
    "        RandomForestClassifier(),             # Our model\n",
    "        {parameter: values},                   # Values for that parameter\n",
    "        X_train, y_train\n",
    ")\n",
    "\n",
    "mf.plot_bar(ed[parameter], parameter) "
   ]
  },
  {
   "cell_type": "code",
   "execution_count": 10,
   "metadata": {},
   "outputs": [],
   "source": [
    "'''\n",
    "CONCLUSION: gini is better, but also default, so don't need to do anything\n",
    "            ''';"
   ]
  },
  {
   "cell_type": "markdown",
   "metadata": {},
   "source": [
    "# max_features"
   ]
  },
  {
   "cell_type": "code",
   "execution_count": 13,
   "metadata": {},
   "outputs": [
    {
     "data": {
      "image/png": "[encoded data removed]",
      "text/plain": [
       "<matplotlib.figure.Figure at 0x1a1ed4ee10>"
      ]
     },
     "metadata": {},
     "output_type": "display_data"
    },
    {
     "name": "stdout",
     "output_type": "stream",
     "text": [
      "CPU times: user 12.9 s, sys: 154 ms, total: 13.1 s\n",
      "Wall time: 13.3 s\n"
     ]
    }
   ],
   "source": [
    "%%time\n",
    "\n",
    "parameter = \"max_features\"\n",
    "values = np.arange(.1, .9, .1)\n",
    "\n",
    "ed[parameter] = mf.gridsearching(\n",
    "        RandomForestClassifier(),             # Our model\n",
    "        {parameter: values},                   # Values for that parameter\n",
    "        X_train, y_train\n",
    ")\n",
    "\n",
    "mf.plot_line(ed[parameter], parameter) "
   ]
  },
  {
   "cell_type": "code",
   "execution_count": 14,
   "metadata": {
    "collapsed": true
   },
   "outputs": [],
   "source": [
    "'''\n",
    "CONCLUSION: more features appear to be better\n",
    "            '''\n",
    "\n",
    "random_forest_grid[\"max_features\"] = [.6, .7, .8, .9]"
   ]
  },
  {
   "cell_type": "markdown",
   "metadata": {},
   "source": [
    "# max_depth"
   ]
  },
  {
   "cell_type": "code",
   "execution_count": 15,
   "metadata": {},
   "outputs": [
    {
     "data": {
      "image/png": "[encoded data removed]",
      "text/plain": [
       "<matplotlib.figure.Figure at 0x10cede160>"
      ]
     },
     "metadata": {},
     "output_type": "display_data"
    },
    {
     "name": "stdout",
     "output_type": "stream",
     "text": [
      "CPU times: user 4.97 s, sys: 158 ms, total: 5.13 s\n",
      "Wall time: 5.25 s\n"
     ]
    }
   ],
   "source": [
    "%%time\n",
    "\n",
    "parameter = \"max_depth\"\n",
    "values = np.arange(2, 30, 2)\n",
    "\n",
    "ed[parameter] = mf.gridsearching(\n",
    "        RandomForestClassifier(),             # Our model\n",
    "        {parameter: values},                   # Values for that parameter\n",
    "        X_train, y_train\n",
    ")\n",
    "\n",
    "mf.plot_bar(ed[parameter], parameter, 2) "
   ]
  },
  {
   "cell_type": "code",
   "execution_count": 18,
   "metadata": {
    "collapsed": true
   },
   "outputs": [],
   "source": [
    "'''\n",
    "CONCLUSION: 10 to 16 look best\n",
    "            '''\n",
    "\n",
    "random_forest_grid[\"max_depth\"] = np.arange(11, 17, 1)"
   ]
  },
  {
   "cell_type": "markdown",
   "metadata": {},
   "source": [
    "# min_sample_split"
   ]
  },
  {
   "cell_type": "code",
   "execution_count": 16,
   "metadata": {},
   "outputs": [
    {
     "data": {
      "image/png": "[encoded data removed]",
      "text/plain": [
       "<matplotlib.figure.Figure at 0x1a14a90f98>"
      ]
     },
     "metadata": {},
     "output_type": "display_data"
    },
    {
     "name": "stdout",
     "output_type": "stream",
     "text": [
      "CPU times: user 7.28 s, sys: 195 ms, total: 7.48 s\n",
      "Wall time: 7.78 s\n"
     ]
    }
   ],
   "source": [
    "%%time\n",
    "\n",
    "parameter = \"min_samples_split\"\n",
    "values = np.arange(2, 20)\n",
    "\n",
    "ed[parameter] = mf.gridsearching(\n",
    "        RandomForestClassifier(),             # Our model\n",
    "        {parameter: values},                   # Values for that parameter\n",
    "        X_train, y_train\n",
    ")\n",
    "\n",
    "mf.plot_bar(ed[parameter], parameter, 2)"
   ]
  },
  {
   "cell_type": "code",
   "execution_count": 17,
   "metadata": {},
   "outputs": [],
   "source": [
    "'''\n",
    "CONCLUSION: less is more!\n",
    "            '''\n",
    "\n",
    "random_forest_grid[\"min_samples_split\"] = np.arange(2, 20)"
   ]
  },
  {
   "cell_type": "markdown",
   "metadata": {},
   "source": [
    "# min_samples_leaf"
   ]
  },
  {
   "cell_type": "code",
   "execution_count": 19,
   "metadata": {},
   "outputs": [
    {
     "data": {
      "image/png": "[encoded data removed]",
      "text/plain": [
       "<matplotlib.figure.Figure at 0x1a1edcdf98>"
      ]
     },
     "metadata": {},
     "output_type": "display_data"
    },
    {
     "name": "stdout",
     "output_type": "stream",
     "text": [
      "CPU times: user 7.08 s, sys: 224 ms, total: 7.3 s\n",
      "Wall time: 7.65 s\n"
     ]
    }
   ],
   "source": [
    "%%time\n",
    "\n",
    "parameter = \"min_samples_leaf\"\n",
    "values = np.arange(1, 20)\n",
    "\n",
    "ed[parameter] = mf.gridsearching(\n",
    "        RandomForestClassifier(),             # Our model\n",
    "        {parameter: values},                   # Values for that parameter\n",
    "        X_train, y_train\n",
    ")\n",
    "\n",
    "mf.plot_bar(ed[parameter], parameter, 2) "
   ]
  },
  {
   "cell_type": "code",
   "execution_count": 20,
   "metadata": {},
   "outputs": [],
   "source": [
    "'''\n",
    "CONCLUSION: less is still more!\n",
    "            '''\n",
    "\n",
    "random_forest_grid[\"min_samples_leaf\"] = range(1, 5)"
   ]
  },
  {
   "cell_type": "markdown",
   "metadata": {},
   "source": [
    "# max_leaf_nodes"
   ]
  },
  {
   "cell_type": "code",
   "execution_count": 21,
   "metadata": {},
   "outputs": [
    {
     "data": {
      "image/png": "[encoded data removed]",
      "text/plain": [
       "<matplotlib.figure.Figure at 0x1a1ef84b70>"
      ]
     },
     "metadata": {},
     "output_type": "display_data"
    },
    {
     "name": "stdout",
     "output_type": "stream",
     "text": [
      "CPU times: user 15.6 s, sys: 407 ms, total: 16.1 s\n",
      "Wall time: 16.3 s\n"
     ]
    }
   ],
   "source": [
    "%%time\n",
    "\n",
    "parameter = \"max_leaf_nodes\"\n",
    "values = np.arange(200, 600, 10)\n",
    "\n",
    "ed[parameter] = mf.gridsearching(\n",
    "        RandomForestClassifier(),             # Our model\n",
    "        {parameter: values},                   # Values for that parameter\n",
    "        X_train, y_train\n",
    ")\n",
    "\n",
    "mf.plot_bar(ed[parameter], parameter, 10) "
   ]
  },
  {
   "cell_type": "code",
   "execution_count": 22,
   "metadata": {
    "collapsed": true
   },
   "outputs": [],
   "source": [
    "'''\n",
    "CONCLUSION: best between 200 and 500\n",
    "            '''\n",
    "\n",
    "random_forest_grid[\"max_leaf_nodes\"] = np.arange(200, 600, 10)"
   ]
  },
  {
   "cell_type": "markdown",
   "metadata": {},
   "source": [
    "# min_impurity_split"
   ]
  },
  {
   "cell_type": "code",
   "execution_count": null,
   "metadata": {
    "collapsed": true
   },
   "outputs": [],
   "source": [
    "# Don't use, depreciated"
   ]
  },
  {
   "cell_type": "markdown",
   "metadata": {},
   "source": [
    "# min_impurity_decrease"
   ]
  },
  {
   "cell_type": "code",
   "execution_count": 23,
   "metadata": {},
   "outputs": [
    {
     "data": {
      "image/png": "[encoded data removed]",
      "text/plain": [
       "<matplotlib.figure.Figure at 0x1a1f152438>"
      ]
     },
     "metadata": {},
     "output_type": "display_data"
    },
    {
     "name": "stdout",
     "output_type": "stream",
     "text": [
      "CPU times: user 7.13 s, sys: 194 ms, total: 7.32 s\n",
      "Wall time: 7.42 s\n"
     ]
    }
   ],
   "source": [
    "%%time\n",
    "\n",
    "parameter = \"min_impurity_decrease\"\n",
    "values = np.arange(0, .0002, .00001)\n",
    "\n",
    "ed[parameter] = mf.gridsearching(\n",
    "        RandomForestClassifier(),             # Our model\n",
    "        {parameter: values},                   # Values for that parameter\n",
    "        X_train, y_train\n",
    ")\n",
    "\n",
    "mf.plot_bar(ed[parameter], parameter, .00001, True) "
   ]
  },
  {
   "cell_type": "code",
   "execution_count": 24,
   "metadata": {
    "collapsed": true
   },
   "outputs": [],
   "source": [
    "'''\n",
    "CONCLUSION: seems to peak at a little but not much\n",
    "            '''\n",
    "\n",
    "random_forest_grid[\"min_impurity_decrease\"] = np.arange(0, .0001, .00001)"
   ]
  },
  {
   "cell_type": "markdown",
   "metadata": {},
   "source": [
    "# class_weight"
   ]
  },
  {
   "cell_type": "code",
   "execution_count": 28,
   "metadata": {},
   "outputs": [
    {
     "data": {
      "image/png": "[encoded data removed]",
      "text/plain": [
       "<matplotlib.figure.Figure at 0x1a1f284c88>"
      ]
     },
     "metadata": {},
     "output_type": "display_data"
    },
    {
     "name": "stdout",
     "output_type": "stream",
     "text": [
      "CPU times: user 3.84 s, sys: 86.6 ms, total: 3.93 s\n",
      "Wall time: 3.96 s\n"
     ]
    }
   ],
   "source": [
    "%%time\n",
    "\n",
    "parameter = \"class_weight\"\n",
    "values = [{0:n, 1:1-n} for n in np.arange(.1, 1, .1)]\n",
    "\n",
    "ed[parameter] = mf.gridsearching(\n",
    "        RandomForestClassifier(),             # Our model\n",
    "        {parameter: values},                   # Values for that parameter\n",
    "        X_train, y_train\n",
    ")\n",
    "\n",
    "df = ed[parameter].copy()\n",
    "\n",
    "df.param_class_weight = df.param_class_weight.apply(lambda x:x[0])\n",
    "plt.bar(df.iloc[:,4], df.mean_train_score, width=.1, yerr=df.std_train_score)\n",
    "plt.bar(df.iloc[:,4], df.mean_test_score, width=.1, yerr=df.std_train_score)\n",
    "\n",
    "plt.xlabel(parameter)\n",
    "plt.ylabel(\"f1 score\")\n",
    "\n",
    "plt.show()"
   ]
  },
  {
   "cell_type": "code",
   "execution_count": 29,
   "metadata": {
    "collapsed": true
   },
   "outputs": [],
   "source": [
    "'''\n",
    "CONCLUSION: wow what an effect!\n",
    "            '''\n",
    "\n",
    "random_forest_grid[\"class_weight\"] = [{0:n, 1:1-n} for n in np.arange(.6, 1, .1)]"
   ]
  },
  {
   "cell_type": "markdown",
   "metadata": {
    "collapsed": true
   },
   "source": [
    "# Bring It All Together"
   ]
  },
  {
   "cell_type": "code",
   "execution_count": 30,
   "metadata": {},
   "outputs": [
    {
     "data": {
      "text/plain": [
       "{'class_weight': [{0: 0.59999999999999998, 1: 0.40000000000000002},\n",
       "  {0: 0.69999999999999996, 1: 0.30000000000000004},\n",
       "  {0: 0.79999999999999993, 1: 0.20000000000000007},\n",
       "  {0: 0.89999999999999991, 1: 0.10000000000000009}],\n",
       " 'max_depth': array([11, 12, 13, 14, 15, 16]),\n",
       " 'max_features': [0.6, 0.7, 0.8, 0.9],\n",
       " 'max_leaf_nodes': array([200, 210, 220, 230, 240, 250, 260, 270, 280, 290, 300, 310, 320,\n",
       "        330, 340, 350, 360, 370, 380, 390, 400, 410, 420, 430, 440, 450,\n",
       "        460, 470, 480, 490, 500, 510, 520, 530, 540, 550, 560, 570, 580, 590]),\n",
       " 'min_impurity_decrease': array([  0.00000000e+00,   1.00000000e-05,   2.00000000e-05,\n",
       "          3.00000000e-05,   4.00000000e-05,   5.00000000e-05,\n",
       "          6.00000000e-05,   7.00000000e-05,   8.00000000e-05,\n",
       "          9.00000000e-05]),\n",
       " 'min_samples_leaf': range(1, 5),\n",
       " 'min_samples_split': array([ 2,  3,  4,  5,  6,  7,  8,  9, 10, 11, 12, 13, 14, 15, 16, 17, 18,\n",
       "        19])}"
      ]
     },
     "execution_count": 30,
     "metadata": {},
     "output_type": "execute_result"
    }
   ],
   "source": [
    "random_forest_grid"
   ]
  },
  {
   "cell_type": "code",
   "execution_count": 31,
   "metadata": {},
   "outputs": [
    {
     "name": "stdout",
     "output_type": "stream",
     "text": [
      "CPU times: user 2min 41s, sys: 1.59 s, total: 2min 43s\n",
      "Wall time: 2min 45s\n"
     ]
    }
   ],
   "source": [
    "%%time\n",
    "\n",
    "model = RandomForestClassifier()\n",
    "model = RandomizedSearchCV(model, param_distributions=random_forest_grid, scoring='f1', n_iter=100)\n",
    "model.fit(X_train, y_train)"
   ]
  },
  {
   "cell_type": "code",
   "execution_count": 32,
   "metadata": {},
   "outputs": [
    {
     "name": "stdout",
     "output_type": "stream",
     "text": [
      "RandomForestClassifier(bootstrap=True,\n",
      "            class_weight={0: 0.59999999999999998, 1: 0.40000000000000002},\n",
      "            criterion='gini', max_depth=16, max_features=0.8,\n",
      "            max_leaf_nodes=490,\n",
      "            min_impurity_decrease=6.0000000000000008e-05,\n",
      "            min_impurity_split=None, min_samples_leaf=2,\n",
      "            min_samples_split=5, min_weight_fraction_leaf=0.0,\n",
      "            n_estimators=10, n_jobs=1, oob_score=False, random_state=None,\n",
      "            verbose=0, warm_start=False)\n",
      "0.21106290287\n"
     ]
    }
   ],
   "source": [
    "print(model.best_estimator_ )\n",
    "print(model.best_score_)"
   ]
  },
  {
   "cell_type": "code",
   "execution_count": null,
   "metadata": {
    "collapsed": true
   },
   "outputs": [],
   "source": []
  }
 ],
 "metadata": {
  "kernelspec": {
   "display_name": "Python 3",
   "language": "python",
   "name": "python3"
  },
  "language_info": {
   "codemirror_mode": {
    "name": "ipython",
    "version": 3
   },
   "file_extension": ".py",
   "mimetype": "text/x-python",
   "name": "python",
   "nbconvert_exporter": "python",
   "pygments_lexer": "ipython3",
   "version": "3.6.3"
  }
 },
 "nbformat": 4,
 "nbformat_minor": 2
}
