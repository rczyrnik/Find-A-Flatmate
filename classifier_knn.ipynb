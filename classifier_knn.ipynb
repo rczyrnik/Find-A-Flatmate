{
 "cells": [
  {
   "cell_type": "code",
   "execution_count": 1,
   "metadata": {},
   "outputs": [],
   "source": [
    "# # BASICS\n",
    "# from time import time\n",
    "# import pandas as pd\n",
    "import numpy as np\n",
    "import matplotlib.pyplot as plt\n",
    "\n",
    "# HELPER FUNCTIONS\n",
    "import src.my_functions as mf\n",
    "\n",
    "# # CLASSIFIERS\n",
    "from sklearn.neighbors import KNeighborsClassifier\n",
    "\n",
    "# # GRID SEARCHING\n",
    "from sklearn.model_selection import RandomizedSearchCV\n",
    "\n",
    "# # WARNINGS\n",
    "import warnings\n",
    "warnings.filterwarnings('ignore')"
   ]
  },
  {
   "cell_type": "markdown",
   "metadata": {},
   "source": [
    "# Create Dict to Hold Dataframse"
   ]
  },
  {
   "cell_type": "code",
   "execution_count": 3,
   "metadata": {
    "collapsed": true
   },
   "outputs": [],
   "source": [
    "# ed holds the searches in case I want to refer to one later\n",
    "ed = {}\n",
    "\n",
    "# random_forest_grid keeps track of the best grid search parmeters\n",
    "knn_grid = {}"
   ]
  },
  {
   "cell_type": "markdown",
   "metadata": {},
   "source": [
    "# Read Data"
   ]
  },
  {
   "cell_type": "code",
   "execution_count": 4,
   "metadata": {
    "collapsed": true
   },
   "outputs": [],
   "source": [
    "X_train, X_test, y_train, y_test, cols = mf.load_arrays(True)"
   ]
  },
  {
   "cell_type": "markdown",
   "metadata": {},
   "source": [
    "# n_neighbors"
   ]
  },
  {
   "cell_type": "code",
   "execution_count": 7,
   "metadata": {},
   "outputs": [
    {
     "data": {
      "image/png": "[encoded data removed]",
      "text/plain": [
       "<matplotlib.figure.Figure at 0x113157c88>"
      ]
     },
     "metadata": {},
     "output_type": "display_data"
    },
    {
     "name": "stdout",
     "output_type": "stream",
     "text": [
      "CPU times: user 9min 17s, sys: 5.22 s, total: 9min 22s\n",
      "Wall time: 9min 49s\n"
     ]
    }
   ],
   "source": [
    "%%time\n",
    "\n",
    "parameter = \"n_neighbors\"\n",
    "values = range(1,20)\n",
    "\n",
    "ed[parameter] = mf.gridsearching(\n",
    "        KNeighborsClassifier(),                # Our model\n",
    "        {parameter: values},                   # Values for that parameter\n",
    "        X_train, y_train\n",
    ")\n",
    "\n",
    "# Plot\n",
    "mf.plot_line(ed[parameter], parameter)"
   ]
  },
  {
   "cell_type": "code",
   "execution_count": null,
   "metadata": {
    "collapsed": true
   },
   "outputs": [],
   "source": []
  }
 ],
 "metadata": {
  "kernelspec": {
   "display_name": "Python 3",
   "language": "python",
   "name": "python3"
  },
  "language_info": {
   "codemirror_mode": {
    "name": "ipython",
    "version": 3
   },
   "file_extension": ".py",
   "mimetype": "text/x-python",
   "name": "python",
   "nbconvert_exporter": "python",
   "pygments_lexer": "ipython3",
   "version": "3.6.3"
  }
 },
 "nbformat": 4,
 "nbformat_minor": 2
}
