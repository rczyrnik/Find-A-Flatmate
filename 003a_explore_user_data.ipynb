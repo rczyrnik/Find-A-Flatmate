{
 "cells": [
  {
   "cell_type": "code",
   "execution_count": null,
   "metadata": {
    "collapsed": true
   },
   "outputs": [],
   "source": [
    "import pandas as pd\n",
    "import numpy as np\n",
    "import matplotlib.pyplot as plt\n",
    "import datetime as dt\n",
    "\n",
    "import seaborn as sns\n",
    "sns.set()\n",
    "\n",
    "\n",
    "# Location\n",
    "from shapely.geometry import Point\n",
    "from geopandas import GeoDataFrame\n",
    "import geopandas as gpd"
   ]
  },
  {
   "cell_type": "code",
   "execution_count": null,
   "metadata": {
    "collapsed": true
   },
   "outputs": [],
   "source": [
    "# directory\n",
    "data_file_path = \"/Users/gandalf/Documents/coding/do_not_commit/capstone/\"\n",
    "website_file_path = '/Users/gandalf/Documents/coding/rczyrnik.github.io/capstone/'"
   ]
  },
  {
   "cell_type": "code",
   "execution_count": null,
   "metadata": {},
   "outputs": [],
   "source": [
    "user_df = pd.read_json(data_file_path+'user_df.json')\n",
    "n=len(user_df)\n",
    "user_df.head(2)"
   ]
  },
  {
   "cell_type": "markdown",
   "metadata": {},
   "source": [
    "### gender"
   ]
  },
  {
   "cell_type": "code",
   "execution_count": null,
   "metadata": {},
   "outputs": [],
   "source": [
    "num_male = (user_df.gender==1).sum()\n",
    "num_female = (user_df.gender==0).sum()\n",
    "\n",
    "sizes = [num_male, num_female]\n",
    "labels = 'Male\\n50.1%', 'Female\\n49.9%'\n",
    "\n",
    "fig, ax = plt.subplots()\n",
    "ax.pie(sizes, labels=labels, labeldistance=.3, textprops={'fontsize':16},\n",
    "        shadow=True, startangle=90)\n",
    "ax.axis('equal')  # Equal aspect ratio ensures that pie is drawn as a circle.\n",
    "\n",
    "# plt.savefig(website_file_path+\"eda_gender_of_users.png\")\n",
    "plt.show()"
   ]
  },
  {
   "cell_type": "markdown",
   "metadata": {},
   "source": [
    "### age"
   ]
  },
  {
   "cell_type": "code",
   "execution_count": null,
   "metadata": {},
   "outputs": [],
   "source": [
    "ax=sns.kdeplot(user_df.age, bw=.7)\n",
    "y_ticks = ax.get_yticks()\n",
    "ax.set_yticks(y_ticks[::2])\n",
    "ylabels = [round(x/n,3) for x in y_ticks]\n",
    "ax.set_yticklabels(ylabels)\n",
    "\n",
    "ax.set_ylabel(\"Relative Frequency\")\n",
    "ax.set_xlabel(\"\")\n",
    "ax.set_xlim(0,99)\n",
    "# plt.savefig(website_file_path+\"eda_age_of_users.png\")\n",
    "plt.show()"
   ]
  },
  {
   "cell_type": "code",
   "execution_count": null,
   "metadata": {
    "collapsed": true
   },
   "outputs": [],
   "source": []
  },
  {
   "cell_type": "code",
   "execution_count": null,
   "metadata": {
    "collapsed": true
   },
   "outputs": [],
   "source": [
    "\n",
    "# import matplotlib.pyplot as plt\n",
    "temp = user_df.groupby('email_domain').count().const.sort_values(axis=0, ascending=False).head(20)\n"
   ]
  },
  {
   "cell_type": "code",
   "execution_count": null,
   "metadata": {
    "collapsed": true
   },
   "outputs": [],
   "source": []
  },
  {
   "cell_type": "code",
   "execution_count": null,
   "metadata": {},
   "outputs": [],
   "source": [
    "df2017 = user_df[user_df.created_year == 2017]\n",
    "ax = df2017['created_day_of_year'].plot(kind='hist')\n",
    "# ax = user_df['age'].plot(kind='hist',bins=range(0,120))\n",
    "\n",
    "xlabels = [dt.date(2017,1,1) + dt.timedelta(x) for x in range(0,400, 50)]\n",
    "ax.set_xticklabels(xlabels)\n",
    "\n",
    "plt.xticks(rotation=45)\n",
    "\n",
    "ax.set_xlim(0,365)\n",
    "# ax.set_ylim(0,.008)\n",
    "# ax.set_ylabel(\"Relative Density\")\n",
    "ax.set_xlabel(\"\")\n",
    "plt.title(\"Date\", fontsize=16)\n",
    "plt.show()"
   ]
  },
  {
   "cell_type": "code",
   "execution_count": null,
   "metadata": {},
   "outputs": [],
   "source": [
    "temp = user_df.groupby(\"created_day_of_month\").count().created_date\n",
    "ax = temp.plot(kind='bar',width=.6)\n",
    "\n",
    "y_ticks = ax.get_yticks()\n",
    "ylabels = [round(x/n,2) for x in y_ticks]\n",
    "ax.set_yticklabels(ylabels)\n",
    "\n",
    "ax.set_ylabel(\"Relative Frequency\")\n",
    "ax.set_xlabel(\"\")\n",
    "plt.title(\"Day of Month\", fontsize=16)\n",
    "plt.savefig(website_file_path+\"eda_day_of_month.png\")\n",
    "plt.show()"
   ]
  },
  {
   "cell_type": "code",
   "execution_count": null,
   "metadata": {},
   "outputs": [],
   "source": [
    "temp = user_df.groupby(\"created_day_of_week\").count().created_date\n",
    "ax = temp.plot(kind='bar',width=.6)\n",
    "x_labels = [\"Mon\",\"Tues\",\"Weds\",\"Thurs\",\"Fri\",\"Sat\",\"Sun\"]\n",
    "ax.set_xticklabels(x_labels)\n",
    "\n",
    "y_ticks = ax.get_yticks()\n",
    "\n",
    "ylabels = [round(x/n,2) for x in y_ticks]\n",
    "ax.set_yticklabels(ylabels)\n",
    "\n",
    "ax.set_ylabel(\"Relative Frequency\")\n",
    "ax.set_xlabel(\"\")\n",
    "plt.title(\"Day of Week\", fontsize=16)\n",
    "# plt.savefig(website_file_path+\"eda_day_of_week.png\")\n",
    "plt.show()"
   ]
  },
  {
   "cell_type": "code",
   "execution_count": null,
   "metadata": {},
   "outputs": [],
   "source": [
    "ax = user_df['created_hour'].plot(kind='hist',bins=24)\n",
    "x_labels = [\"Midnight\", \"5 AM\", \"10 AM\", \"3 PM\",\"8 PM\"]\n",
    "ax.set_xticklabels(x_labels)\n",
    "ax.set_xlim(0,23)\n",
    "\n",
    "y_ticks = ax.get_yticks()\n",
    "\n",
    "\n",
    "ylabels = [round(x/n,3) for x in y_ticks]\n",
    "ax.set_yticklabels(ylabels)\n",
    "\n",
    "ax.set_ylabel(\"Relative Frequency\")\n",
    "ax.set_xlabel(\"\")\n",
    "plt.title(\"Time of Day\", fontsize=16)\n",
    "plt.savefig(website_file_path+\"eda_time_of_day.png\")\n",
    "plt.show()"
   ]
  },
  {
   "cell_type": "code",
   "execution_count": null,
   "metadata": {},
   "outputs": [],
   "source": [
    "temp = user_df[user_df.has_available == 1]\n",
    "ax = temp.td_creat_avail.plot(kind='hist',bins=range(-365,365*2))\n",
    "\n",
    "plt.yscale('log', nonposy='clip')\n",
    "plt.show()"
   ]
  },
  {
   "cell_type": "code",
   "execution_count": null,
   "metadata": {},
   "outputs": [],
   "source": [
    "temp = user_df[user_df.has_available == 1]\n",
    "ax = temp.td_creat_avail.plot(kind='hist',bins=range(0,365))\n",
    "\n",
    "y_ticks = ax.get_yticks()\n",
    "ylabels = [round(x/n,3) for x in y_ticks]\n",
    "ax.set_yticklabels(ylabels)\n",
    "\n",
    "ax.set_ylabel(\"Relative Frequency\")\n",
    "ax.set_xlabel(\"Days\")\n",
    "\n",
    "plt.title(\"Time to Find a Room\", fontsize=16)\n",
    "plt.savefig(website_file_path+\"eda_time_to_find_a_room.png\")\n",
    "plt.show()"
   ]
  },
  {
   "cell_type": "code",
   "execution_count": null,
   "metadata": {},
   "outputs": [],
   "source": [
    "print(\"{} users put an availability in the past.\".format\n",
    "      ((temp.td_creat_avail < 0).sum()))\n",
    "\n",
    "plt.hist(temp.td_creat_avail, bins=np.arange(-365,-1))\n",
    "plt.show()"
   ]
  },
  {
   "cell_type": "code",
   "execution_count": null,
   "metadata": {
    "collapsed": true
   },
   "outputs": [],
   "source": [
    "print(\"{} users put an availability more than a year in the future.\".format\n",
    "      ((temp.td_creat_avail > 365).sum()))\n",
    "\n",
    "plt.hist(temp.td_creat_avail, bins=np.arange(365,730))\n",
    "plt.show()"
   ]
  },
  {
   "cell_type": "code",
   "execution_count": null,
   "metadata": {
    "collapsed": true
   },
   "outputs": [],
   "source": [
    "binaries = ['has_about',\n",
    "       'has_amenities', 'has_available', 'has_birthdate', 'has_college',\n",
    "       'has_email', 'has_facebook', 'has_hometown',\n",
    "       'has_linkedin', 'has_location', 'has_neighborhoods', 'has_numRoommates',\n",
    "       'has_password', 'has_picture', 'has_term', 'has_work']\n",
    "binaries_percent = []\n",
    "for binary in binaries:\n",
    "    binaries_percent.append(100*user_df[binary].sum()/n)"
   ]
  },
  {
   "cell_type": "code",
   "execution_count": null,
   "metadata": {
    "collapsed": true
   },
   "outputs": [],
   "source": [
    "\n",
    "\n",
    "percent_df = pd.DataFrame([binaries, binaries_percent]).T\n",
    "percent_df.columns = ['topic','percent']\n",
    "# plt.bar(binaries, binaries_percent)\n",
    "# plt.show()\n",
    "temp = percent_df.sort_values('percent', ascending=False)"
   ]
  },
  {
   "cell_type": "code",
   "execution_count": null,
   "metadata": {
    "collapsed": true
   },
   "outputs": [],
   "source": [
    "ax = temp.percent.plot(kind='bar',width=.6)\n",
    "\n",
    "x_labels = [t[4:] for t in temp.topic]\n",
    "ax.set_xticklabels(x_labels)\n",
    "ax.set_ylabel(\"Percent Responding\")\n",
    "ax.set_xlabel(\"\")\n",
    "\n",
    "plt.title(\"Response Rates\", fontsize=16)\n",
    "plt.xticks(rotation=60)\n",
    "plt.savefig(website_file_path+\"eda_percent_responding.png\")\n",
    "plt.show()"
   ]
  },
  {
   "cell_type": "code",
   "execution_count": null,
   "metadata": {
    "collapsed": true
   },
   "outputs": [],
   "source": []
  },
  {
   "cell_type": "code",
   "execution_count": null,
   "metadata": {
    "collapsed": true
   },
   "outputs": [],
   "source": []
  },
  {
   "cell_type": "code",
   "execution_count": null,
   "metadata": {
    "collapsed": true
   },
   "outputs": [],
   "source": []
  },
  {
   "cell_type": "code",
   "execution_count": null,
   "metadata": {
    "collapsed": true
   },
   "outputs": [],
   "source": []
  },
  {
   "cell_type": "code",
   "execution_count": null,
   "metadata": {
    "collapsed": true
   },
   "outputs": [],
   "source": []
  },
  {
   "cell_type": "code",
   "execution_count": null,
   "metadata": {
    "collapsed": true
   },
   "outputs": [],
   "source": []
  },
  {
   "cell_type": "code",
   "execution_count": null,
   "metadata": {
    "collapsed": true
   },
   "outputs": [],
   "source": [
    "world = gpd.read_file(gpd.datasets.get_path('naturalearth_lowres'))\n",
    "cities = gpd.read_file(gpd.datasets.get_path('naturalearth_cities'))"
   ]
  },
  {
   "cell_type": "code",
   "execution_count": null,
   "metadata": {
    "collapsed": true
   },
   "outputs": [],
   "source": [
    "user_df.location = user_df.location.apply(lambda x: x if isinstance(x, list) else [0,0])"
   ]
  },
  {
   "cell_type": "code",
   "execution_count": null,
   "metadata": {
    "collapsed": true
   },
   "outputs": [],
   "source": [
    "user_loc_df.head()"
   ]
  },
  {
   "cell_type": "code",
   "execution_count": null,
   "metadata": {
    "collapsed": true
   },
   "outputs": [],
   "source": [
    "city_loc_df.head()"
   ]
  },
  {
   "cell_type": "code",
   "execution_count": null,
   "metadata": {
    "collapsed": true
   },
   "outputs": [],
   "source": [
    "user_geometry = [Point(xy) for xy in user_df.location]\n",
    "city_geometry = [Point(xy) for xy in city_df.coordinates]\n",
    "\n",
    "user_loc_df = user_df.location\n",
    "city_loc_df = city_df.coordinates\n",
    "crs = {'init': 'epsg:4326'}\n",
    "gdf_users = GeoDataFrame(user_loc_df, crs=crs, geometry=user_geometry)\n",
    "gdf_cities = GeoDataFrame(city_loc_df, crs=crs, geometry=city_geometry)"
   ]
  },
  {
   "cell_type": "code",
   "execution_count": null,
   "metadata": {
    "collapsed": true
   },
   "outputs": [],
   "source": [
    "fig, ax = plt.subplots(figsize = (16,10))\n",
    "ax.set_aspect('equal')\n",
    "\n",
    "# usa\n",
    "ax.set_xlim([-126, -67])\n",
    "ax.set_ylim([24, 50])\n",
    "\n",
    "# bay area ax.set_xlim([-122.8, -121.5]) ax.set_ylim([37, 38.2])\n",
    "# north east ax.set_xlim([-80, -70]) ax.set_ylim([40, 45])\n",
    "\n",
    "world.plot(ax=ax, color='#4C72B0', edgecolor='black')\n",
    "gdf_users.plot(ax=ax, marker='o', color='#CCB974', markersize=10, alpha=.1)\n",
    "gdf_cities.plot(ax=ax, marker='o', color='#C34F52', markersize=100)\n",
    "plt.savefig(website_file_path+\"eda_location_of_users.png\")\n",
    "plt.show();\n",
    "\n",
    "''' OPTION TWO\n",
    "base = world.plot(color='white', edgecolor='black', figsize = (16,10))\n",
    "gdf.plot(ax=base, marker='o', color='#FF00FF', markersize=5);\n",
    "''';"
   ]
  },
  {
   "cell_type": "code",
   "execution_count": null,
   "metadata": {
    "collapsed": true
   },
   "outputs": [],
   "source": [
    "city_dictionary = {'Atlanta': (33.83001385, -84.399949379999995),\n",
    " 'Boston': (42.329960139999997, -71.070013669999994),\n",
    " 'Chicago': (41.82999066, -87.750054969999994),\n",
    " 'Dallas / Fort Worth': (32.820023820000003, -96.840016930000004),\n",
    " 'Detroit Metro': (42.329960139999997, -83.080055790000003),\n",
    " 'Fort Lauderdale': (26.136064879999999, -80.141785519999999),\n",
    " 'Ft Myers / Sw Florida': (26.640297669999999, -81.86049199),\n",
    " 'Hawaii': (21.30687644, -157.85799790000002),\n",
    " 'Los Angeles': (33.989978,-118.179980),\n",
    " 'Minneapolis / St Paul': (44.979979270000001, -93.251786339999995),\n",
    " 'New York City': (40.749979060000001, -73.980016930000005),\n",
    " 'Philadelphia': (39.999973160000003, -75.169995970000002),\n",
    " 'Phoenix': (33.539979879999997, -112.06999170000002),\n",
    " 'Portland': (45.520024,-122.679990),\n",
    " 'Sacramento': (38.575021380000003, -121.47003810000001),\n",
    " 'San Diego': (32.820023820000003, -117.1799899),\n",
    " 'San Francisco Bay Area': (37.74000775, -122.459978),\n",
    " 'Seattle-Tacoma': (47.570002049999999, -122.33998500000001),\n",
    " 'South Florida': (25.787610699999998, -80.224106079999999),\n",
    " 'Tampa Bay Area': (27.946987929999999, -82.458620850000003),\n",
    " 'Washington': (38.899549380000003, -77.009418580000002)}"
   ]
  },
  {
   "cell_type": "code",
   "execution_count": null,
   "metadata": {
    "collapsed": true
   },
   "outputs": [],
   "source": [
    "city_df = pd.DataFrame.from_dict(city_dictionary, orient='index')\n",
    "city_df['coordinates'] = city_df[[1,0]].values.tolist()"
   ]
  },
  {
   "cell_type": "code",
   "execution_count": null,
   "metadata": {
    "collapsed": true
   },
   "outputs": [],
   "source": [
    "city_df.coordinates"
   ]
  }
 ],
 "metadata": {
  "kernelspec": {
   "display_name": "Python 3",
   "language": "python",
   "name": "python3"
  },
  "language_info": {
   "codemirror_mode": {
    "name": "ipython",
    "version": 3
   },
   "file_extension": ".py",
   "mimetype": "text/x-python",
   "name": "python",
   "nbconvert_exporter": "python",
   "pygments_lexer": "ipython3",
   "version": "3.6.3"
  }
 },
 "nbformat": 4,
 "nbformat_minor": 2
}
