{
 "cells": [
  {
   "cell_type": "markdown",
   "metadata": {},
   "source": [
    "- add distance col\n",
    "- add \"urgency\" feature\n",
    "- nlp (greg, rohit)\n",
    "- improve train/test\n",
    "- to do neighborhoods_sender\n",
    "- add time info"
   ]
  },
  {
   "cell_type": "code",
   "execution_count": null,
   "metadata": {
    "collapsed": true
   },
   "outputs": [],
   "source": [
    "TO ASK:\n",
    "    predict num instead of 1/0\n",
    "    "
   ]
  }
 ],
 "metadata": {
  "kernelspec": {
   "display_name": "Python 3",
   "language": "python",
   "name": "python3"
  },
  "language_info": {
   "codemirror_mode": {
    "name": "ipython",
    "version": 3
   },
   "file_extension": ".py",
   "mimetype": "text/x-python",
   "name": "python",
   "nbconvert_exporter": "python",
   "pygments_lexer": "ipython3",
   "version": "3.6.3"
  }
 },
 "nbformat": 4,
 "nbformat_minor": 2
}
