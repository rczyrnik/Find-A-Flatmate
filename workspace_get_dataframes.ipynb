{
 "cells": [
  {
   "cell_type": "markdown",
   "metadata": {},
   "source": [
    "# IMPORTS"
   ]
  },
  {
   "cell_type": "code",
   "execution_count": 1,
   "metadata": {
    "collapsed": true
   },
   "outputs": [],
   "source": [
    "import pandas as pd\n",
    "\n",
    "# import json\n",
    "# from collections import defaultdict\n",
    "\n",
    "import my_pickle as mp\n",
    "import my_ect_split as ms\n",
    "import my_dataframes as md\n",
    "\n",
    "from importlib import reload"
   ]
  },
  {
   "cell_type": "code",
   "execution_count": null,
   "metadata": {
    "collapsed": true
   },
   "outputs": [],
   "source": [
    "reload(md)"
   ]
  },
  {
   "cell_type": "raw",
   "metadata": {},
   "source": []
  },
  {
   "cell_type": "markdown",
   "metadata": {},
   "source": [
    "# READ IN"
   ]
  },
  {
   "cell_type": "code",
   "execution_count": 2,
   "metadata": {},
   "outputs": [
    {
     "name": "stdout",
     "output_type": "stream",
     "text": [
      "0\n",
      "if this number is not zero, you have a problem: 0\n"
     ]
    }
   ],
   "source": [
    "# read in message data\n",
    "message_df = md.get_messages()\n",
    "convo_df = md.get_conversations(message_df)\n",
    "last_df = md.get_lastmessage()"
   ]
  },
  {
   "cell_type": "markdown",
   "metadata": {},
   "source": [
    "# ECT SPLIT"
   ]
  },
  {
   "cell_type": "code",
   "execution_count": 3,
   "metadata": {},
   "outputs": [
    {
     "data": {
      "text/plain": [
       "Timestamp('2017-10-02 01:35:58.644000')"
      ]
     },
     "execution_count": 3,
     "metadata": {},
     "output_type": "execute_result"
    }
   ],
   "source": [
    "# find the split!\n",
    "cutoff = ms.ect_find_split(convo_df, .7)\n",
    "pd.to_datetime(cutoff*1000000)"
   ]
  },
  {
   "cell_type": "code",
   "execution_count": 4,
   "metadata": {},
   "outputs": [
    {
     "data": {
      "text/plain": [
       "Timestamp('2017-10-02 01:35:58.644000')"
      ]
     },
     "execution_count": 4,
     "metadata": {},
     "output_type": "execute_result"
    }
   ],
   "source": [
    "# do the split!\n",
    "safe_convo_df = ms.ect_make_split(convo_df, cutoff)\n",
    "pd.to_datetime(safe_convo_df.timestamp.max()*1000000)"
   ]
  },
  {
   "cell_type": "markdown",
   "metadata": {},
   "source": [
    "# COMBINE USER AND MESSAGE FILES\n",
    "\n",
    "NB: Have to do after ECT split!"
   ]
  },
  {
   "cell_type": "code",
   "execution_count": 5,
   "metadata": {
    "collapsed": true
   },
   "outputs": [],
   "source": [
    "responsiveness_df = md.get_responsiveness(convo_df)"
   ]
  },
  {
   "cell_type": "code",
   "execution_count": 6,
   "metadata": {
    "collapsed": true
   },
   "outputs": [],
   "source": [
    "# find average attractiveness\n",
    "average_attractiveness = responsiveness_df[responsiveness_df.attractiveness >0].mean()['attractiveness']\n",
    "average_selectivity = responsiveness_df[responsiveness_df.selectivity >0].mean()['selectivity']"
   ]
  },
  {
   "cell_type": "code",
   "execution_count": 8,
   "metadata": {},
   "outputs": [
    {
     "data": {
      "text/html": [
       "<div>\n",
       "<style>\n",
       "    .dataframe thead tr:only-child th {\n",
       "        text-align: right;\n",
       "    }\n",
       "\n",
       "    .dataframe thead th {\n",
       "        text-align: left;\n",
       "    }\n",
       "\n",
       "    .dataframe tbody tr th {\n",
       "        vertical-align: top;\n",
       "    }\n",
       "</style>\n",
       "<table border=\"1\" class=\"dataframe\">\n",
       "  <thead>\n",
       "    <tr style=\"text-align: right;\">\n",
       "      <th></th>\n",
       "      <th>created</th>\n",
       "      <th>updated</th>\n",
       "      <th>about</th>\n",
       "      <th>has_about</th>\n",
       "      <th>len_about</th>\n",
       "      <th>available</th>\n",
       "      <th>birthday</th>\n",
       "      <th>age</th>\n",
       "      <th>collegeId</th>\n",
       "      <th>emailVerified</th>\n",
       "      <th>...</th>\n",
       "      <th>roomTypeId</th>\n",
       "      <th>smokingOk</th>\n",
       "      <th>term</th>\n",
       "      <th>work</th>\n",
       "      <th>messages_sent</th>\n",
       "      <th>responses_received</th>\n",
       "      <th>attractiveness</th>\n",
       "      <th>messages_received</th>\n",
       "      <th>responses_sent</th>\n",
       "      <th>selectivity</th>\n",
       "    </tr>\n",
       "    <tr>\n",
       "      <th>uid</th>\n",
       "      <th></th>\n",
       "      <th></th>\n",
       "      <th></th>\n",
       "      <th></th>\n",
       "      <th></th>\n",
       "      <th></th>\n",
       "      <th></th>\n",
       "      <th></th>\n",
       "      <th></th>\n",
       "      <th></th>\n",
       "      <th></th>\n",
       "      <th></th>\n",
       "      <th></th>\n",
       "      <th></th>\n",
       "      <th></th>\n",
       "      <th></th>\n",
       "      <th></th>\n",
       "      <th></th>\n",
       "      <th></th>\n",
       "      <th></th>\n",
       "      <th></th>\n",
       "    </tr>\n",
       "  </thead>\n",
       "  <tbody>\n",
       "    <tr>\n",
       "      <th>0a9yOPKFSH</th>\n",
       "      <td>2017-06-19 03:31:08</td>\n",
       "      <td>2018-01-04 21:24:41</td>\n",
       "      <td></td>\n",
       "      <td>False</td>\n",
       "      <td>0</td>\n",
       "      <td>nan</td>\n",
       "      <td>1992-01-01</td>\n",
       "      <td>26.0</td>\n",
       "      <td>NaN</td>\n",
       "      <td>1</td>\n",
       "      <td>...</td>\n",
       "      <td>2.0</td>\n",
       "      <td>0.0</td>\n",
       "      <td>12.0</td>\n",
       "      <td>SEG</td>\n",
       "      <td>7.0</td>\n",
       "      <td>2.0</td>\n",
       "      <td>0.285714</td>\n",
       "      <td>9.0</td>\n",
       "      <td>2.0</td>\n",
       "      <td>0.777778</td>\n",
       "    </tr>\n",
       "    <tr>\n",
       "      <th>0owxBbcyZ6</th>\n",
       "      <td>2017-10-12 00:32:29</td>\n",
       "      <td>2018-01-04 03:05:50</td>\n",
       "      <td></td>\n",
       "      <td>False</td>\n",
       "      <td>0</td>\n",
       "      <td>nan</td>\n",
       "      <td>1974-01-01</td>\n",
       "      <td>44.0</td>\n",
       "      <td>NaN</td>\n",
       "      <td>1</td>\n",
       "      <td>...</td>\n",
       "      <td>NaN</td>\n",
       "      <td>1.0</td>\n",
       "      <td>NaN</td>\n",
       "      <td>WA State</td>\n",
       "      <td>0.0</td>\n",
       "      <td>0.0</td>\n",
       "      <td>0.000000</td>\n",
       "      <td>7.0</td>\n",
       "      <td>0.0</td>\n",
       "      <td>0.000000</td>\n",
       "    </tr>\n",
       "  </tbody>\n",
       "</table>\n",
       "<p>2 rows × 38 columns</p>\n",
       "</div>"
      ],
      "text/plain": [
       "                       created             updated about  has_about  \\\n",
       "uid                                                                   \n",
       "0a9yOPKFSH 2017-06-19 03:31:08 2018-01-04 21:24:41            False   \n",
       "0owxBbcyZ6 2017-10-12 00:32:29 2018-01-04 03:05:50            False   \n",
       "\n",
       "            len_about available   birthday   age  collegeId  emailVerified  \\\n",
       "uid                                                                          \n",
       "0a9yOPKFSH          0       nan 1992-01-01  26.0        NaN              1   \n",
       "0owxBbcyZ6          0       nan 1974-01-01  44.0        NaN              1   \n",
       "\n",
       "               ...       roomTypeId smokingOk  term      work  messages_sent  \\\n",
       "uid            ...                                                             \n",
       "0a9yOPKFSH     ...              2.0       0.0  12.0       SEG            7.0   \n",
       "0owxBbcyZ6     ...              NaN       1.0   NaN  WA State            0.0   \n",
       "\n",
       "            responses_received  attractiveness  messages_received  \\\n",
       "uid                                                                 \n",
       "0a9yOPKFSH                 2.0        0.285714                9.0   \n",
       "0owxBbcyZ6                 0.0        0.000000                7.0   \n",
       "\n",
       "           responses_sent  selectivity  \n",
       "uid                                     \n",
       "0a9yOPKFSH            2.0     0.777778  \n",
       "0owxBbcyZ6            0.0     0.000000  \n",
       "\n",
       "[2 rows x 38 columns]"
      ]
     },
     "execution_count": 8,
     "metadata": {},
     "output_type": "execute_result"
    }
   ],
   "source": [
    "# Combine with user table\n",
    "user_df = md.get_user_data()\n",
    "user_df = user_df.join(responsiveness_df)\n",
    "user_df = user_df.fillna({'messages_sent' : 0,'responses_received': 0,'attractiveness':average_attractiveness,\n",
    "                          'messages_received': 0,'responses_sent': 0, 'selectivity':average_selectivity})\n",
    "user_df.head(2)\n",
    "# issue where 0 and 0 can be 0 or average b/c of way joined. ignore for now."
   ]
  },
  {
   "cell_type": "code",
   "execution_count": 9,
   "metadata": {},
   "outputs": [
    {
     "name": "stdout",
     "output_type": "stream",
     "text": [
      "32436\n",
      "32436.0\n"
     ]
    }
   ],
   "source": [
    "print(len(user_df))\n",
    "print(user_df.onboarded.sum())"
   ]
  },
  {
   "cell_type": "markdown",
   "metadata": {},
   "source": [
    "# PICKLE EVERYTHING!\n",
    "\n",
    "https://www.youtube.com/watch?v=yYey8ntlK_E"
   ]
  },
  {
   "cell_type": "code",
   "execution_count": 10,
   "metadata": {
    "collapsed": true
   },
   "outputs": [],
   "source": [
    "mp.pickle_it(user_df,'user_df')\n",
    "# mp.pickle_it(message_df,'message_df')  NOT ECT SAFE!\n",
    "mp.pickle_it(safe_convo_df,'convo_df')  # make sure pickling safe stuff\n",
    "# pickle_it(lastmessage_df,'lastmessage_df') NOT ECT SAFE!"
   ]
  },
  {
   "cell_type": "code",
   "execution_count": null,
   "metadata": {
    "collapsed": true
   },
   "outputs": [],
   "source": []
  }
 ],
 "metadata": {
  "kernelspec": {
   "display_name": "Python 3",
   "language": "python",
   "name": "python3"
  },
  "language_info": {
   "codemirror_mode": {
    "name": "ipython",
    "version": 3
   },
   "file_extension": ".py",
   "mimetype": "text/x-python",
   "name": "python",
   "nbconvert_exporter": "python",
   "pygments_lexer": "ipython3",
   "version": "3.6.3"
  }
 },
 "nbformat": 4,
 "nbformat_minor": 2
}
