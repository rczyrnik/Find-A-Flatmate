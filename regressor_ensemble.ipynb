{
 "cells": [
  {
   "cell_type": "code",
   "execution_count": 20,
   "metadata": {},
   "outputs": [],
   "source": [
    "# BASICS\n",
    "# from time import time\n",
    "import pandas as pd\n",
    "import numpy as np\n",
    "import matplotlib.pyplot as plt\n",
    "\n",
    "# HELPER FUNCTIONS\n",
    "# import my_resample as ms\n",
    "import src.my_functions as mf\n",
    "\n",
    "# METRICS\n",
    "from sklearn.metrics import confusion_matrix, precision_score, recall_score, f1_score\n",
    "\n",
    "# CLASSIFIERS\n",
    "from sklearn.ensemble import RandomForestRegressor\n",
    "from sklearn.ensemble import GradientBoostingRegressor\n",
    "from sklearn.ensemble import AdaBoostRegressor\n",
    "\n",
    "# GRID SEARCHING\n",
    "from sklearn.model_selection import RandomizedSearchCV\n",
    "\n",
    "# WARNINGS\n",
    "import warnings\n",
    "warnings.filterwarnings('ignore')"
   ]
  },
  {
   "cell_type": "markdown",
   "metadata": {},
   "source": [
    "# Read Data"
   ]
  },
  {
   "cell_type": "code",
   "execution_count": 3,
   "metadata": {},
   "outputs": [],
   "source": [
    "X_train, X_test, y_train, y_test, cols = mf.load_arrays(scale = True, classification = False)"
   ]
  },
  {
   "cell_type": "markdown",
   "metadata": {},
   "source": [
    "# Random Forest Regressor"
   ]
  },
  {
   "cell_type": "code",
   "execution_count": 7,
   "metadata": {
    "collapsed": true
   },
   "outputs": [],
   "source": [
    "# Grid\n",
    "random_forest_grid={\n",
    "    \"n_estimators\": range(5, 20),\n",
    "    \"max_features\": [.6, .7, .8, .9], \n",
    "    \"max_depth\": np.arange(11, 17, 1),\n",
    "    \"min_samples_split\": np.arange(2, 20),\n",
    "    \"min_samples_leaf\": (1, 5),\n",
    "    \"max_leaf_nodes\": np.arange(200, 600, 10),\n",
    "    \"min_impurity_decrease\": np.arange(0, .0001, .00001),\n",
    "}"
   ]
  },
  {
   "cell_type": "code",
   "execution_count": 10,
   "metadata": {},
   "outputs": [
    {
     "name": "stdout",
     "output_type": "stream",
     "text": [
      "CPU times: user 3min 59s, sys: 2.08 s, total: 4min 1s\n",
      "Wall time: 4min 11s\n"
     ]
    }
   ],
   "source": [
    "%%time\n",
    "\n",
    "# Grid Search\n",
    "rfc = RandomForestRegressor()\n",
    "rf_model = RandomizedSearchCV(rfc, \n",
    "                              param_distributions=random_forest_grid, \n",
    "#                               scoring='f1', \n",
    "                              n_iter=100)\n",
    "rf_model.fit(X_train, y_train)"
   ]
  },
  {
   "cell_type": "code",
   "execution_count": 29,
   "metadata": {},
   "outputs": [
    {
     "data": {
      "image/png": "[encoded data removed]",
      "text/plain": [
       "<matplotlib.figure.Figure at 0x11eae3e10>"
      ]
     },
     "metadata": {},
     "output_type": "display_data"
    }
   ],
   "source": [
    "# Predict\n",
    "y_pred = rf_model.predict(X_test)\n",
    "plt.hist(y_pred, bins=range(10))\n",
    "plt.show()"
   ]
  },
  {
   "cell_type": "code",
   "execution_count": 30,
   "metadata": {},
   "outputs": [
    {
     "data": {
      "text/plain": [
       "array([ 1.38623865,  2.21558954,  1.6623439 , ...,  1.56560113,\n",
       "        1.16463702,  1.04969347])"
      ]
     },
     "execution_count": 30,
     "metadata": {},
     "output_type": "execute_result"
    }
   ],
   "source": [
    "y_pred"
   ]
  },
  {
   "cell_type": "code",
   "execution_count": 31,
   "metadata": {},
   "outputs": [
    {
     "name": "stdout",
     "output_type": "stream",
     "text": [
      "0.171745152355\n"
     ]
    },
    {
     "data": {
      "image/png": "[encoded data removed]",
      "text/plain": [
       "<matplotlib.figure.Figure at 0x11eb2bc50>"
      ]
     },
     "metadata": {},
     "output_type": "display_data"
    }
   ],
   "source": [
    "# for x in np.arange(.1, 5, .2):\n",
    "#     y_pred_binary = mf.convert_to_binary(y_pred, x)\n",
    "#     y_test_binary = mf.convert_to_binary(y_test, x)\n",
    "#     print(precision_score(y_pred_binary, y_test_binary),\n",
    "#          recall_score(y_pred_binary, y_test_binary),\n",
    "#          f1_score(y_pred_binary, y_test_binary))\n",
    "    \n",
    "y_test_binary = mf.convert_to_binary(y_test)\n",
    "\n",
    "f1 = []\n",
    "precision = []\n",
    "recall = []\n",
    "for cutoff in np.arange(0, 4.1, .01):\n",
    "    y_pred_binary = mf.convert_to_binary(y_pred, x)\n",
    "    f1.append(f1_score(y_test_binary, y_pred_binary))\n",
    "    precision.append(precision_score(y_test_binary, y_pred_binary))\n",
    "    recall.append(recall_score(y_test_binary, y_pred_binary))\n",
    "        \n",
    "print(max(f1))\n",
    "plt.plot(np.arange(0, 4.1, .01), f1)\n",
    "plt.show()"
   ]
  },
  {
   "cell_type": "code",
   "execution_count": 37,
   "metadata": {},
   "outputs": [
    {
     "data": {
      "text/plain": [
       "0.10160218835482611"
      ]
     },
     "execution_count": 37,
     "metadata": {},
     "output_type": "execute_result"
    }
   ],
   "source": [
    "sum(y_test_binary)/len(y_test_binary)"
   ]
  },
  {
   "cell_type": "code",
   "execution_count": null,
   "metadata": {
    "collapsed": true
   },
   "outputs": [],
   "source": []
  }
 ],
 "metadata": {
  "kernelspec": {
   "display_name": "Python 3",
   "language": "python",
   "name": "python3"
  },
  "language_info": {
   "codemirror_mode": {
    "name": "ipython",
    "version": 3
   },
   "file_extension": ".py",
   "mimetype": "text/x-python",
   "name": "python",
   "nbconvert_exporter": "python",
   "pygments_lexer": "ipython3",
   "version": "3.6.3"
  }
 },
 "nbformat": 4,
 "nbformat_minor": 2
}
