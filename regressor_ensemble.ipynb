{
 "cells": [
  {
   "cell_type": "code",
   "execution_count": 2,
   "metadata": {
    "collapsed": true
   },
   "outputs": [],
   "source": [
    "# BASICS\n",
    "from time import time\n",
    "import pandas as pd\n",
    "import numpy as np\n",
    "import matplotlib.pyplot as plt\n",
    "\n",
    "# HELPER FUNCTIONS\n",
    "import my_resample as ms\n",
    "import my_functions as mf\n",
    "\n",
    "# METRICS\n",
    "from sklearn.metrics import confusion_matrix, precision_score, recall_score, f1_score\n",
    "\n",
    "# CLASSIFIERS\n",
    "from sklearn.ensemble import RandomForestRegressor\n",
    "from sklearn.ensemble import GradientBoostingRegressor\n",
    "from sklearn.ensemble import AdaBoostRegressor\n",
    "\n",
    "# GRID SEARCHING\n",
    "from sklearn.model_selection import RandomizedSearchCV\n",
    "\n",
    "# WARNINGS\n",
    "import warnings\n",
    "warnings.filterwarnings('ignore')"
   ]
  },
  {
   "cell_type": "markdown",
   "metadata": {},
   "source": [
    "# Read Data"
   ]
  },
  {
   "cell_type": "code",
   "execution_count": 5,
   "metadata": {},
   "outputs": [],
   "source": [
    "data_file_path = \"/Users/gandalf/Documents/coding/Galvanize/MatchingService/data/\"\n",
    "website_file_path = '/Users/gandalf/Documents/coding/rczyrnik.github.io/capstone/'\n",
    "\n",
    "X_train = np.load(data_file_path+'X_train_reg.npy')\n",
    "X_test = np.load(data_file_path+'X_test_reg.npy')\n",
    "y_train = np.load(data_file_path+'y_train_reg.npy')\n",
    "y_test = np.load(data_file_path+'y_test_reg.npy')\n",
    "cols = np.load(data_file_path+'cols.npy')"
   ]
  },
  {
   "cell_type": "markdown",
   "metadata": {},
   "source": [
    "# Random Forest Regressor"
   ]
  },
  {
   "cell_type": "code",
   "execution_count": 9,
   "metadata": {
    "collapsed": true
   },
   "outputs": [],
   "source": [
    "# Grid\n",
    "random_forest_grid={\n",
    "    \"n_estimators\": range(5, 20),\n",
    "    \"max_features\": [.6, .7, .8, .9], \n",
    "    \"max_depth\": np.arange(11, 17, 1),\n",
    "    \"min_samples_split\": np.arange(2, 20),\n",
    "    \"min_samples_leaf\": (1, 5),\n",
    "    \"max_leaf_nodes\": np.arange(200, 600, 10),\n",
    "    \"min_impurity_decrease\": np.arange(0, .0001, .00001),\n",
    "    \"class_weight\": [{0:n, 1:1-n} for n in np.arange(.1, 1, .1)]\n",
    "}"
   ]
  }
 ],
 "metadata": {
  "kernelspec": {
   "display_name": "Python 3",
   "language": "python",
   "name": "python3"
  },
  "language_info": {
   "codemirror_mode": {
    "name": "ipython",
    "version": 3
   },
   "file_extension": ".py",
   "mimetype": "text/x-python",
   "name": "python",
   "nbconvert_exporter": "python",
   "pygments_lexer": "ipython3",
   "version": "3.6.3"
  }
 },
 "nbformat": 4,
 "nbformat_minor": 2
}
