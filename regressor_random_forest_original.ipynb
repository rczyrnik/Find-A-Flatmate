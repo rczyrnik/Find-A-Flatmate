{
 "cells": [
  {
   "cell_type": "code",
   "execution_count": 1,
   "metadata": {
    "collapsed": true
   },
   "outputs": [],
   "source": [
    "# BASICS\n",
    "from time import time\n",
    "import pandas as pd\n",
    "import numpy as np\n",
    "import matplotlib.pyplot as plt\n",
    "\n",
    "# HELPER FUNCTIONS\n",
    "import my_resample as ms\n",
    "import my_functions as mf\n",
    "\n",
    "# METRICS\n",
    "from sklearn.metrics import confusion_matrix, precision_score, recall_score, f1_score\n",
    "from sklearn.metrics import roc_curve, roc_auc_score\n",
    "\n",
    "# CLASSIFIERS\n",
    "from sklearn.ensemble import RandomForestRegressor\n",
    "\n",
    "# GRID SEARCHING\n",
    "from sklearn.model_selection import GridSearchCV\n",
    "from sklearn.model_selection import RandomizedSearchCV\n",
    "\n",
    "# WARNINGS\n",
    "import warnings\n",
    "warnings.filterwarnings('ignore')"
   ]
  },
  {
   "cell_type": "code",
   "execution_count": 2,
   "metadata": {
    "collapsed": true
   },
   "outputs": [],
   "source": [
    "# READ DATA\n",
    "data_file_path = \"data/\"\n",
    "\n",
    "X_train = np.load(data_file_path+'X_train_reg.npy')\n",
    "X_test = np.load(data_file_path+'X_test_reg.npy')\n",
    "y_train = np.load(data_file_path+'y_train_reg.npy')\n",
    "y_test = np.load(data_file_path+'y_test_reg.npy')\n",
    "y_test = [1 if x>1 else 0 for x in y_test]\n",
    "cols = np.load(data_file_path+'cols.npy')"
   ]
  },
  {
   "cell_type": "markdown",
   "metadata": {},
   "source": [
    "# n_estimators"
   ]
  },
  {
   "cell_type": "code",
   "execution_count": 3,
   "metadata": {
    "collapsed": true
   },
   "outputs": [],
   "source": [
    "value = []\n",
    "mean = []\n",
    "std = []\n",
    "for n_estimators in range(2, 20):\n",
    "    temp = []\n",
    "    for trial in range(10):\n",
    "        model = RandomForestRegressor( \n",
    "                                      n_estimators = n_estimators,\n",
    "                                     )\n",
    "        model.fit(X_train, y_train)\n",
    "        y_pred = model.predict(X_test)\n",
    "        temp.append(roc_auc_score(y_test, y_pred))\n",
    "    value.append(n_estimators)\n",
    "    mean.append(np.array(temp).mean())\n",
    "    std.append(np.array(temp).std())"
   ]
  },
  {
   "cell_type": "code",
   "execution_count": 73,
   "metadata": {},
   "outputs": [
    {
     "data": {
      "image/png": "[encoded data removed]",
      "text/plain": [
       "<matplotlib.figure.Figure at 0x1a19392080>"
      ]
     },
     "metadata": {},
     "output_type": "display_data"
    }
   ],
   "source": [
    "plt.bar(value, mean, width = 1, yerr=std)\n",
    "plt.show()"
   ]
  },
  {
   "cell_type": "markdown",
   "metadata": {},
   "source": [
    "# max_features"
   ]
  },
  {
   "cell_type": "code",
   "execution_count": 59,
   "metadata": {
    "collapsed": true
   },
   "outputs": [],
   "source": [
    "value = []\n",
    "mean = []\n",
    "std = []\n",
    "for max_features in range(1, 100, 10):\n",
    "    temp = []\n",
    "    for trial in range(10):\n",
    "        model = RandomForestRegressor(n_estimators = 9, \n",
    "                                      max_features = max_features,\n",
    "                                     )\n",
    "        model.fit(X_train, y_train)\n",
    "        y_pred = model.predict(X_test)\n",
    "        temp.append(roc_auc_score(y_test, y_pred))\n",
    "    value.append(max_features)\n",
    "    mean.append(np.array(temp).mean())\n",
    "    std.append(np.array(temp).std())"
   ]
  },
  {
   "cell_type": "code",
   "execution_count": 60,
   "metadata": {},
   "outputs": [
    {
     "data": {
      "image/png": "[encoded data removed]",
      "text/plain": [
       "<matplotlib.figure.Figure at 0x10f1a3940>"
      ]
     },
     "metadata": {},
     "output_type": "display_data"
    }
   ],
   "source": [
    "plt.bar(value, mean, width = 10, yerr=std)\n",
    "plt.show()"
   ]
  },
  {
   "cell_type": "markdown",
   "metadata": {},
   "source": [
    "# max_depth"
   ]
  },
  {
   "cell_type": "code",
   "execution_count": 57,
   "metadata": {
    "collapsed": true
   },
   "outputs": [],
   "source": [
    "value = []\n",
    "mean = []\n",
    "std = []\n",
    "for max_depth in np.arange(2, 300, 20):\n",
    "    temp = []\n",
    "    for trial in range(10):\n",
    "        model = RandomForestRegressor(n_estimators = 9, \n",
    "                                      max_features = 20,\n",
    "                                      max_depth = max_depth\n",
    "                                     )\n",
    "        model.fit(X_train, y_train)\n",
    "        y_pred = model.predict(X_test)\n",
    "        temp.append(roc_auc_score(y_test, y_pred))\n",
    "    value.append(max_depth)\n",
    "    mean.append(np.array(temp).mean())\n",
    "    std.append(np.array(temp).std())\n",
    "    "
   ]
  },
  {
   "cell_type": "code",
   "execution_count": 56,
   "metadata": {},
   "outputs": [
    {
     "data": {
      "image/png": "[encoded data removed]",
      "text/plain": [
       "<matplotlib.figure.Figure at 0x10f0720f0>"
      ]
     },
     "metadata": {},
     "output_type": "display_data"
    }
   ],
   "source": [
    "plt.bar(value, mean, width = 20, yerr=std)\n",
    "plt.show()"
   ]
  },
  {
   "cell_type": "markdown",
   "metadata": {},
   "source": [
    "# min_samples_split"
   ]
  },
  {
   "cell_type": "code",
   "execution_count": 50,
   "metadata": {
    "collapsed": true
   },
   "outputs": [],
   "source": [
    "value = []\n",
    "mean = []\n",
    "std = []\n",
    "for min_samples_split in np.arange(2, 300, 20):\n",
    "    temp = []\n",
    "    for trial in range(10):\n",
    "        model = RandomForestRegressor(n_estimators = 9, \n",
    "                                      max_features = 20,\n",
    "                                      min_samples_split = min_samples_split\n",
    "                                     )\n",
    "        model.fit(X_train, y_train)\n",
    "        y_pred = model.predict(X_test)\n",
    "        temp.append(roc_auc_score(y_test, y_pred))\n",
    "    value.append(min_samples_split)\n",
    "    mean.append(np.array(temp).mean())\n",
    "    std.append(np.array(temp).std())"
   ]
  },
  {
   "cell_type": "code",
   "execution_count": 54,
   "metadata": {},
   "outputs": [
    {
     "data": {
      "image/png": "[encoded data removed]",
      "text/plain": [
       "<matplotlib.figure.Figure at 0x10a3cd7b8>"
      ]
     },
     "metadata": {},
     "output_type": "display_data"
    }
   ],
   "source": [
    "plt.bar(value, mean, width = 20, yerr=std)\n",
    "plt.show()"
   ]
  },
  {
   "cell_type": "code",
   "execution_count": null,
   "metadata": {
    "collapsed": true
   },
   "outputs": [],
   "source": []
  }
 ],
 "metadata": {
  "kernelspec": {
   "display_name": "Python 3",
   "language": "python",
   "name": "python3"
  },
  "language_info": {
   "codemirror_mode": {
    "name": "ipython",
    "version": 3
   },
   "file_extension": ".py",
   "mimetype": "text/x-python",
   "name": "python",
   "nbconvert_exporter": "python",
   "pygments_lexer": "ipython3",
   "version": "3.6.3"
  }
 },
 "nbformat": 4,
 "nbformat_minor": 2
}
